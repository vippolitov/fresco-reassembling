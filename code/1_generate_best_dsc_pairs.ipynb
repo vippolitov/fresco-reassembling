{
 "cells": [
  {
   "cell_type": "code",
   "execution_count": 2,
   "id": "8be31b9d",
   "metadata": {},
   "outputs": [],
   "source": [
    "import numpy as np\n",
    "\n",
    "from color_dsc_operations import collect_descriptors_from_dataset, compute_all_distances\n"
   ]
  },
  {
   "cell_type": "code",
   "execution_count": 6,
   "id": "0f634fb7",
   "metadata": {},
   "outputs": [],
   "source": [
    "data_dir = '../dataset'\n",
    "palette = np.array([[4.83058360e+01, -4.28336049e+00, -1.04226657e+00],\n",
    "                    [7.28763389e+01,  1.10190913e+01,  2.91083397e+01],\n",
    "                    [1.93975643e+01,  8.21757008e+00, -6.52862709e+00],\n",
    "                    [6.12470461e+01,  6.38868771e+00,  1.05191202e+01],\n",
    "                    [8.70237508e+01,  2.60029629e+00,  6.34060233e+00],\n",
    "                    [3.84328672e+01,  2.22768163e+01,  1.17465682e+00],\n",
    "                    [3.29131583e+01,  3.06846260e-02, -6.19825618e+00]])"
   ]
  },
  {
   "cell_type": "code",
   "execution_count": 10,
   "id": "6764bb25",
   "metadata": {
    "scrolled": true
   },
   "outputs": [
    {
     "name": "stderr",
     "output_type": "stream",
     "text": [
      "\n",
      "\n",
      "  0%|                                                                                                                                                                                        | 0/9 [00:00<?, ?it/s]\u001b[A\u001b[A\n",
      "\n",
      " 22%|███████████████████████████████████████                                                                                                                                         | 2/9 [00:00<00:00, 16.60it/s]\u001b[A\u001b[A\n",
      "\n",
      " 44%|██████████████████████████████████████████████████████████████████████████████▏                                                                                                 | 4/9 [00:00<00:00, 16.44it/s]\u001b[A\u001b[A\n",
      "\n",
      " 67%|█████████████████████████████████████████████████████████████████████████████████████████████████████████████████████▎                                                          | 6/9 [00:00<00:00, 16.71it/s]\u001b[A\u001b[A\n",
      "\n",
      "100%|████████████████████████████████████████████████████████████████████████████████████████████████████████████████████████████████████████████████████████████████████████████████| 9/9 [00:00<00:00, 14.27it/s]\u001b[A\u001b[A\n",
      " 11%|███████████████████                                                                                                                                                          | 14/127 [00:15<00:07, 15.02it/s]"
     ]
    }
   ],
   "source": [
    "dsc_dict = collect_descriptors_from_dataset(\n",
    "    data_dir,\n",
    "    palette,\n",
    "    n=10\n",
    ")"
   ]
  },
  {
   "cell_type": "code",
   "execution_count": 12,
   "id": "f2b8e7a5",
   "metadata": {},
   "outputs": [
    {
     "name": "stderr",
     "output_type": "stream",
     "text": [
      "\n",
      "  0%|                                                                                           | 0/128 [00:00<?, ?it/s]\u001b[A\n",
      " 12%|██████████▏                                                                      | 16/128 [00:00<00:00, 157.49it/s]\u001b[A\n",
      " 29%|███████████████████████▍                                                         | 37/128 [00:00<00:00, 183.94it/s]\u001b[A\n",
      " 44%|███████████████████████████████████▍                                             | 56/128 [00:00<00:00, 185.03it/s]\u001b[A\n",
      " 61%|█████████████████████████████████████████████████▎                               | 78/128 [00:00<00:00, 191.22it/s]\u001b[A\n",
      " 77%|██████████████████████████████████████████████████████████████                   | 98/128 [00:00<00:00, 184.41it/s]\u001b[A\n",
      "100%|████████████████████████████████████████████████████████████████████████████████| 128/128 [00:00<00:00, 184.29it/s]\u001b[A\n"
     ]
    }
   ],
   "source": [
    "all_distances = compute_all_distances(dsc_dict)"
   ]
  },
  {
   "cell_type": "code",
   "execution_count": 11,
   "id": "696013ed",
   "metadata": {},
   "outputs": [],
   "source": [
    "# def generate_good_pairs_from_distances(all_distances):\n",
    "#     q = np.quantile(all_distances, 0.5)\n",
    "#     good_pairs = np.where(all_distances > q)\n",
    "#     good_pairs = list(zip(*good_pairs))\n",
    "#     return good_pairs"
   ]
  },
  {
   "cell_type": "code",
   "execution_count": 12,
   "id": "8d530175",
   "metadata": {},
   "outputs": [],
   "source": [
    "# def generate_good_pairs_from_directory(palette, data_dir):\n",
    "#     dsc_dict = collect_descriptors_from_directory(\n",
    "#         palette,\n",
    "#         data_dir\n",
    "#     )\n",
    "#     all_distances = compute_all_distances(dsc_dict)\n",
    "#     good_pairs = generate_good_pairs_from_distances(all_distances)\n",
    "#     return good_pairs"
   ]
  },
  {
   "cell_type": "code",
   "execution_count": 14,
   "id": "77e0b7e2",
   "metadata": {},
   "outputs": [],
   "source": [
    "from color_dsc_operations import generate_good_pairs_from_dataset_directory"
   ]
  },
  {
   "cell_type": "code",
   "execution_count": 15,
   "id": "56878510",
   "metadata": {},
   "outputs": [
    {
     "name": "stderr",
     "output_type": "stream",
     "text": [
      "\n",
      "\n",
      "  0%|                                                                                                                                                                                        | 0/9 [00:00<?, ?it/s]\u001b[A\u001b[A\n",
      "\n",
      " 22%|███████████████████████████████████████                                                                                                                                         | 2/9 [00:00<00:00, 14.08it/s]\u001b[A\u001b[A\n",
      "\n",
      " 44%|██████████████████████████████████████████████████████████████████████████████▏                                                                                                 | 4/9 [00:00<00:00, 14.22it/s]\u001b[A\u001b[A\n",
      "\n",
      " 67%|█████████████████████████████████████████████████████████████████████████████████████████████████████████████████████▎                                                          | 6/9 [00:00<00:00, 14.62it/s]\u001b[A\u001b[A\n",
      "\n",
      "100%|████████████████████████████████████████████████████████████████████████████████████████████████████████████████████████████████████████████████████████████████████████████████| 9/9 [00:00<00:00, 12.44it/s]\u001b[A\u001b[A\n",
      "\n",
      "\n",
      "100%|████████████████████████████████████████████████████████████████████████████████████████████████████████████████████████████████████████████████████████████████████████████| 10/10 [00:00<00:00, 1403.29it/s]\u001b[A\u001b[A\n"
     ]
    }
   ],
   "source": [
    "good_pairs = generate_good_pairs_from_dataset_directory(palette, data_dir)"
   ]
  },
  {
   "cell_type": "code",
   "execution_count": 16,
   "id": "a44d3a1e",
   "metadata": {},
   "outputs": [
    {
     "name": "stdout",
     "output_type": "stream",
     "text": [
      "(1, 2)\n",
      "(1, 3)\n",
      "(1, 4)\n",
      "(1, 5)\n",
      "(1, 6)\n",
      "(1, 7)\n",
      "(1, 8)\n",
      "(1, 9)\n",
      "(2, 1)\n",
      "(2, 4)\n",
      "(3, 1)\n",
      "(3, 4)\n",
      "(3, 5)\n",
      "(3, 6)\n",
      "(3, 7)\n",
      "(3, 8)\n",
      "(3, 9)\n",
      "(4, 1)\n",
      "(4, 2)\n",
      "(4, 3)\n",
      "(5, 1)\n",
      "(5, 3)\n",
      "(5, 6)\n",
      "(5, 7)\n",
      "(5, 8)\n",
      "(5, 9)\n",
      "(6, 1)\n",
      "(6, 3)\n",
      "(6, 5)\n",
      "(6, 7)\n",
      "(6, 8)\n",
      "(6, 9)\n",
      "(7, 1)\n",
      "(7, 3)\n",
      "(7, 5)\n",
      "(7, 6)\n",
      "(7, 8)\n",
      "(7, 9)\n",
      "(8, 1)\n",
      "(8, 3)\n",
      "(8, 5)\n",
      "(8, 6)\n",
      "(8, 7)\n",
      "(8, 9)\n",
      "(9, 1)\n",
      "(9, 3)\n",
      "(9, 5)\n",
      "(9, 6)\n",
      "(9, 7)\n",
      "(9, 8)\n"
     ]
    }
   ],
   "source": [
    "for pair in good_pairs:\n",
    "    print(pair)"
   ]
  }
 ],
 "metadata": {
  "kernelspec": {
   "display_name": "Python 3 (ipykernel)",
   "language": "python",
   "name": "python3"
  },
  "language_info": {
   "codemirror_mode": {
    "name": "ipython",
    "version": 3
   },
   "file_extension": ".py",
   "mimetype": "text/x-python",
   "name": "python",
   "nbconvert_exporter": "python",
   "pygments_lexer": "ipython3",
   "version": "3.10.6"
  }
 },
 "nbformat": 4,
 "nbformat_minor": 5
}
