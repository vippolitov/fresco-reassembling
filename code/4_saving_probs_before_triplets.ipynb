{
 "cells": [
  {
   "cell_type": "code",
   "execution_count": 1,
   "id": "ca23de2a",
   "metadata": {},
   "outputs": [],
   "source": [
    "import numpy as np\n",
    "import matplotlib.pyplot as plt\n",
    "import time\n",
    "import random\n",
    "import torch\n",
    "import json\n",
    "\n",
    "from tqdm import tqdm\n",
    "from skimage.color import rgb2lab, lab2rgb\n",
    "from typing import List\n",
    "\n",
    "from src.utils import *\n",
    "from src.refine_transform import *\n",
    "from src.find_transform import *\n",
    "from src.visualize import *\n",
    "from src.shape_align import *\n",
    "from src.fragment_comparator import *"
   ]
  },
  {
   "cell_type": "code",
   "execution_count": 2,
   "id": "1e4bb713",
   "metadata": {},
   "outputs": [],
   "source": [
    "data_dir = '../../dataset'\n",
    "palette = np.array([[4.83058360e+01, -4.28336049e+00, -1.04226657e+00],\n",
    "                    [7.28763389e+01,  1.10190913e+01,  2.91083397e+01],\n",
    "                    [1.93975643e+01,  8.21757008e+00, -6.52862709e+00],\n",
    "                    [6.12470461e+01,  6.38868771e+00,  1.05191202e+01],\n",
    "                    [8.70237508e+01,  2.60029629e+00,  6.34060233e+00],\n",
    "                    [3.84328672e+01,  2.22768163e+01,  1.17465682e+00],\n",
    "                    [3.29131583e+01,  3.06846260e-02, -6.19825618e+00]])"
   ]
  },
  {
   "cell_type": "code",
   "execution_count": 3,
   "id": "08999c7a",
   "metadata": {},
   "outputs": [],
   "source": [
    "def parallel_comparison(idx1, idx2):\n",
    "    comparator = FragmentComparator()\n",
    "    return {(idx1, idx2): comparator.align_two_fragments_by_idx(idx1, idx2)}"
   ]
  },
  {
   "cell_type": "code",
   "execution_count": 4,
   "id": "baa3f14c",
   "metadata": {},
   "outputs": [],
   "source": [
    "\n",
    "class FragmentComparator:\n",
    "    def __init__(self, blocks_num=6, data_dir=\"../../dataset\") -> None:\n",
    "        self.blocks_num = blocks_num\n",
    "        self.data_dir = data_dir\n",
    "        pass\n",
    "    \n",
    "    def pack_aligns_to_initial_params(\n",
    "        self,\n",
    "        alignments: List[Alignment], \n",
    "        descriptor1, \n",
    "        descriptor2, \n",
    "        fragments_shape\n",
    "    ):\n",
    "        \"\"\"\n",
    "        alignments: list of alignments from curvature matching\n",
    "        descriptor1, descriptor2: shape descriptors of fragments\n",
    "        fragments_shape: shape of fragments (assuming they have the same size)\n",
    "\n",
    "\n",
    "        return: list of (angle, x, y), list of subcurves1, list of subcurves2 \n",
    "        subcurves1[i] corresponds to subcurves2[i]\n",
    "        \"\"\"\n",
    "        initial_params = []\n",
    "        subcurves1 = []\n",
    "        subcurves2 = []\n",
    "        for alignment in alignments[:4]:\n",
    "            line1 = aligned_coords2line(alignment.indices, descriptor1.edge_coords, left=True)\n",
    "            line2 = aligned_coords2line(alignment.indices, descriptor2.edge_coords[::-1], left=False)\n",
    "            line1 -= fragments_shape[0] // 2\n",
    "            line2 -= fragments_shape[0] // 2\n",
    "            best_transform_params = find_best_transform_ransac(line1, line2) # TODO: may be fix seed or increase number of iterations so that this step was more stable\n",
    "    #         initial_params.append(best_transform_params)\n",
    "            subcurves1.append(line1)\n",
    "            subcurves2.append(line2)\n",
    "            if best_transform_params is None:\n",
    "                print(\"No best transform\")\n",
    "                continue\n",
    "            cos = best_transform_params[0]\n",
    "            cos = min(cos, 1)\n",
    "            cos = max(cos, -1)\n",
    "            theta, shift_x, shift_y = -np.rad2deg(np.arccos(cos)), best_transform_params[3], best_transform_params[2] # TODO: fix angle computation [0, pi] -> [-pi, pi]\n",
    "            initial_params.append((theta, int(shift_x), int(shift_y)))\n",
    "        return initial_params, subcurves1, subcurves2\n",
    "    \n",
    "    def align_two_frags_with_multiple_aligns(\n",
    "            self,\n",
    "            palette,\n",
    "            frag1: Fragment, frag2, \n",
    "            to_print=None,\n",
    "            blocks_num=6,\n",
    "            verbose=0\n",
    "            ):\n",
    "        \n",
    "        shape_dsc1 = fragment2shape_descriptor(palette, frag1)\n",
    "        shape_dsc2 = fragment2shape_descriptor(palette, frag2)\n",
    "        indices, pointer, score = align_two_fragments(\n",
    "            palette,\n",
    "            frag1, frag2,\n",
    "            to_print=to_print,\n",
    "            shape_descriptor1=shape_dsc1,\n",
    "            shape_descriptor2=shape_dsc2,\n",
    "            verbose=verbose\n",
    "        )\n",
    "        aligns = generate_multiple_alignments(pointer, score, shape_dsc1, shape_dsc2, blocks_num)\n",
    "        return shape_dsc1, shape_dsc2, aligns\n",
    "    \n",
    "    def align_two_fragments_by_idx(\n",
    "        self, \n",
    "        idx1, idx2,\n",
    "        verbose=0\n",
    "    ):\n",
    "        print(f\"Aligning {idx1} and {idx2}\")\n",
    "        start_time = time.time()\n",
    "        frag1, frag2 = build_fragment_from_directory(self.data_dir + '/' + str(idx1)), build_fragment_from_directory(self.data_dir + '/' + str(idx2))\n",
    "        pad_size = int(max([max(frag1.fragment.shape), max(frag2.fragment.shape)]) / 3) + 40\n",
    "        frag1, frag2 = pad_fragment_to_size(frag1, pad_size), pad_fragment_to_size(frag2, pad_size)\n",
    "        \n",
    "        dsc1, dsc2, aligns = self.align_two_frags_with_multiple_aligns(\n",
    "            None, # fix palette usage\n",
    "            frag1, frag2,\n",
    "            blocks_num=self.blocks_num,\n",
    "            to_print=None,\n",
    "            verbose=verbose\n",
    "        )\n",
    "        initial_params, subcurves1, subcurves2 = self.pack_aligns_to_initial_params(aligns, dsc1, dsc2, frag1.fragment.shape)\n",
    "        alignments = match_two_aligned_fragments(\n",
    "            frag1, frag2,\n",
    "            initial_params,\n",
    "            subcurves1,\n",
    "            subcurves2,\n",
    "#             feature_extractor,\n",
    "            pad_size=pad_size,\n",
    "            verbose=0\n",
    "        )\n",
    "        print(f\"Alignment time: {time.time() - start_time}\")\n",
    "        return sorted(alignments, key=lambda x: x.confidence, reverse=True)\n",
    "    \n",
    "    def align_frags_and_save(\n",
    "        self,\n",
    "        frag_nums,\n",
    "        existing_json='alignments_merged.json'        \n",
    "    ):\n",
    "        aligns = {}\n",
    "        json_dict = None\n",
    "        if existing_json is not None:\n",
    "            json_dict = json.load(open(existing_json, 'r'))\n",
    "        for i in range(len(frag_nums)):\n",
    "            for j in range(i + 1, len(frag_nums)):\n",
    "#                 aligns += self.align_two_fragments(frag_nums[i], frag_nums[j])\n",
    "#                 print(f\"Aligning {frag_nums[i]} and {frag_nums[j]}\")\n",
    "\n",
    "                if json_dict is not None:\n",
    "                    if f\"{frag_nums[i]}_{frag_nums[j]}\" in json_dict:\n",
    "                        continue\n",
    "                translations = self.align_two_fragments_by_idx(frag_nums[i], frag_nums[j])\n",
    "                print(f\"Length: {len(translations)}\")\n",
    "    \n",
    "                pair_aligns = []\n",
    "                for tr in translations:\n",
    "                    pair_aligns.append({\n",
    "                        'x': tr.x,\n",
    "                        'y': tr.y,\n",
    "                        'angle': tr.angle,\n",
    "                        'confidence': tr.confidence,\n",
    "                        'geom_score': tr.geom_score\n",
    "                    })\n",
    "\n",
    "                aligns[f\"{frag_nums[i]}_{frag_nums[j]}\"] = pair_aligns\n",
    "        with open('alignments1.json', 'w') as f:\n",
    "            json.dump(aligns, f)"
   ]
  },
  {
   "cell_type": "code",
   "execution_count": 5,
   "id": "82288640",
   "metadata": {},
   "outputs": [],
   "source": [
    "i1, i2 = 9, 15"
   ]
  },
  {
   "cell_type": "code",
   "execution_count": 9,
   "id": "e520cbed",
   "metadata": {},
   "outputs": [],
   "source": [
    "comparator = FragmentComparator(blocks_num=6)"
   ]
  },
  {
   "cell_type": "code",
   "execution_count": 27,
   "id": "20a3fdc5",
   "metadata": {},
   "outputs": [],
   "source": [
    "i1, i2 = 92, 93"
   ]
  },
  {
   "cell_type": "code",
   "execution_count": 28,
   "id": "1fe2e1b7",
   "metadata": {
    "scrolled": true
   },
   "outputs": [
    {
     "name": "stdout",
     "output_type": "stream",
     "text": [
      "Aligning 92 and 93\n",
      "Too far translations filtered out: 180\n",
      "Alignment time: 62.5510950088501\n"
     ]
    }
   ],
   "source": [
    "# comparator = FragmentComparator(blocks_num=6)\n",
    "translations = comparator.align_two_fragments_by_idx(i1, i2, verbose=0)"
   ]
  },
  {
   "cell_type": "code",
   "execution_count": null,
   "id": "f9013cc5",
   "metadata": {},
   "outputs": [],
   "source": []
  },
  {
   "cell_type": "code",
   "execution_count": 29,
   "id": "c0dbcb70",
   "metadata": {},
   "outputs": [],
   "source": [
    "pad_size=300\n",
    "frag1 = pad_fragment_to_size(build_fragment_from_directory(data_dir + f'/{i1}'), pad_size)\n",
    "frag2 = pad_fragment_to_size(build_fragment_from_directory(data_dir + f'/{i2}'), pad_size)\n",
    "frag2.fragment = frag2.fragment / 255"
   ]
  },
  {
   "cell_type": "code",
   "execution_count": 30,
   "id": "0f8b095d",
   "metadata": {},
   "outputs": [
    {
     "name": "stdout",
     "output_type": "stream",
     "text": [
      "3\n",
      "Confidence = 0.7249337952375536, translation = Translation(x=-52, y=282, angle=2.9942754438866572, confidence=0.7249337952375536, geom_score=0.8856006972875267)\n",
      "Confidence = 0.674014800237994, translation = Translation(x=-30, y=282, angle=7.994275443886657, confidence=0.674014800237994, geom_score=0.8257780466718254)\n",
      "Confidence = 0.6246536819268059, translation = Translation(x=-70, y=290, angle=-2.0057245561133428, confidence=0.6246536819268059, geom_score=0.7342220297393204)\n"
     ]
    },
    {
     "data": {
      "image/png": "[encoded data removed]",
      "text/plain": [
       "<Figure size 800x800 with 4 Axes>"
      ]
     },
     "metadata": {},
     "output_type": "display_data"
    }
   ],
   "source": [
    "print(len(translations))\n",
    "fig, axes = plt.subplots(nrows=2, ncols=2, figsize=(8, 8))\n",
    "for i, tr in enumerate(translations[:4]):\n",
    "    transformed = shift_fragment(rotate_fragment(frag1, tr.angle), tr.x, tr.y)\n",
    "    blended = blend_fragments(frag2, transformed)\n",
    "    axes[i // 2][i % 2].imshow(blended.fragment)\n",
    "    print(f\"Confidence = {tr.confidence}, translation = {tr}\")"
   ]
  },
  {
   "cell_type": "code",
   "execution_count": 17,
   "id": "7172b471",
   "metadata": {},
   "outputs": [
    {
     "name": "stdout",
     "output_type": "stream",
     "text": [
      "Aligning 6 and 7\n",
      "Too far translations filtered out: 479\n",
      "Alignment time: 41.62002110481262\n",
      "Aligning 7 and 8\n",
      "Too far translations filtered out: 1504\n",
      "Alignment time: 62.20706033706665\n",
      "Aligning 9 and 11\n",
      "Too far translations filtered out: 192\n",
      "Alignment time: 52.31816029548645\n",
      "Aligning 10 and 11\n",
      "Aligning 6 and 7\n",
      "Too far translations filtered out: 472\n",
      "Alignment time: 71.46699476242065\n",
      "Aligning 9 and 11\n",
      "Too far translations filtered out: 206\n",
      "Alignment time: 88.75402188301086\n",
      "Too far translations filtered out: 1399\n",
      "Alignment time: 78.1605875492096\n",
      "Total time: 234.3067708015442\n"
     ]
    }
   ],
   "source": [
    "start_time = time.time()\n",
    "comparator.align_two_fragments_by_idx(6, 7)\n",
    "comparator.align_two_fragments_by_idx(7, 8)\n",
    "comparator.align_two_fragments_by_idx(9, 11)\n",
    "comparator.align_two_fragments_by_idx(10, 11)\n",
    "print(f\"Total time: {time.time() - start_time}\")"
   ]
  },
  {
   "cell_type": "code",
   "execution_count": 12,
   "id": "535bdf78",
   "metadata": {},
   "outputs": [],
   "source": [
    "from concurrent.futures import ThreadPoolExecutor"
   ]
  },
  {
   "cell_type": "code",
   "execution_count": 13,
   "id": "4738754a",
   "metadata": {},
   "outputs": [
    {
     "name": "stdout",
     "output_type": "stream",
     "text": [
      "Aligning 6 and 7\n",
      "Aligning 7 and 8\n",
      "Aligning 9 and 11\n",
      "Too far translations filtered out: 629\n",
      "Alignment time: 169.1469144821167\n",
      "Too far translations filtered out: 189\n",
      "Alignment time: 172.27827739715576\n",
      "Too far translations filtered out: 1564\n",
      "Alignment time: 195.67429733276367\n",
      "[Translation(x=-70, y=-68, angle=7.487816397204931, confidence=0.8115627463550033, geom_score=0.9505644459146783)]\n",
      "[Translation(x=18, y=-204, angle=-0.43681809073047617, confidence=0.8713530573708131, geom_score=0.9530918151292899), Translation(x=-137, y=5, angle=-107.82582343661568, confidence=0.7560953670297927, geom_score=0.9073963444340518)]\n",
      "[Translation(x=-113, y=277, angle=0.0, confidence=0.8779030076173625, geom_score=0.9149383345168534), Translation(x=-187, y=-267, angle=-142.04143843588076, confidence=0.5827203766223035, geom_score=0.860499092479256)]\n",
      "Total time: 195.67641639709473\n"
     ]
    }
   ],
   "source": [
    "start_time = time.time()\n",
    "with ThreadPoolExecutor() as executor:\n",
    "    r1 = executor.submit(parallel_comparison, 6, 7)\n",
    "    r2 = executor.submit(parallel_comparison, 7, 8)\n",
    "    r3 = executor.submit(parallel_comparison, 9, 11)\n",
    "#     r4 = executor.submit(parallel_comparison, 10, 11)\n",
    "    \n",
    "print(r1.result())\n",
    "print(r2.result())\n",
    "print(r3.result())\n",
    "# print(r4.result())\n",
    "print(f\"Total time: {time.time() - start_time}\")"
   ]
  },
  {
   "cell_type": "code",
   "execution_count": 6,
   "id": "c3d108b6",
   "metadata": {},
   "outputs": [],
   "source": [
    "from joblib import Parallel, delayed"
   ]
  },
  {
   "cell_type": "code",
   "execution_count": 10,
   "id": "e00a2df8",
   "metadata": {},
   "outputs": [],
   "source": [
    "frag_nums = [3, 5, 6, 7, 8, 9, 10, 11, 12, 14, 15, 49, 53, 54, 59, 61, 65, 95, 96]\n",
    "# frag_nums = [3, 5, 6]\n",
    "frag_pairs = [(i1, i2) for i1 in frag_nums for i2 in frag_nums if i1 < i2]"
   ]
  },
  {
   "cell_type": "code",
   "execution_count": 11,
   "id": "98a69194",
   "metadata": {},
   "outputs": [
    {
     "name": "stderr",
     "output_type": "stream",
     "text": [
      "/mnt/c/Users/dev/Documents/fresco/fresco-reassembling/code/src/refine_transform.py:27: RuntimeWarning: invalid value encountered in scalar divide\n",
      "  too_small_ext_intersection = max(intersection / anchor_frag.extended_mask.sum(), intersection / transformed_frag.extended_mask.sum()) < 0.025\n",
      "/mnt/c/Users/dev/Documents/fresco/fresco-reassembling/code/src/refine_transform.py:27: RuntimeWarning: invalid value encountered in scalar divide\n",
      "  too_small_ext_intersection = max(intersection / anchor_frag.extended_mask.sum(), intersection / transformed_frag.extended_mask.sum()) < 0.025\n",
      "/mnt/c/Users/dev/Documents/fresco/fresco-reassembling/code/src/refine_transform.py:27: RuntimeWarning: invalid value encountered in scalar divide\n",
      "  too_small_ext_intersection = max(intersection / anchor_frag.extended_mask.sum(), intersection / transformed_frag.extended_mask.sum()) < 0.025\n",
      "/mnt/c/Users/dev/Documents/fresco/fresco-reassembling/code/src/refine_transform.py:27: RuntimeWarning: invalid value encountered in scalar divide\n",
      "  too_small_ext_intersection = max(intersection / anchor_frag.extended_mask.sum(), intersection / transformed_frag.extended_mask.sum()) < 0.025\n",
      "/mnt/c/Users/dev/Documents/fresco/fresco-reassembling/code/src/refine_transform.py:27: RuntimeWarning: invalid value encountered in scalar divide\n",
      "  too_small_ext_intersection = max(intersection / anchor_frag.extended_mask.sum(), intersection / transformed_frag.extended_mask.sum()) < 0.025\n",
      "/mnt/c/Users/dev/Documents/fresco/fresco-reassembling/code/src/refine_transform.py:27: RuntimeWarning: invalid value encountered in scalar divide\n",
      "  too_small_ext_intersection = max(intersection / anchor_frag.extended_mask.sum(), intersection / transformed_frag.extended_mask.sum()) < 0.025\n"
     ]
    },
    {
     "name": "stdout",
     "output_type": "stream",
     "text": [
      "10478.18192076683\n"
     ]
    }
   ],
   "source": [
    "start_time = time.time()\n",
    "out_generator = Parallel(n_jobs=-1)(delayed(parallel_comparison)(i1, i2) for i1, i2 in frag_pairs)\n",
    "print(time.time() - start_time)"
   ]
  },
  {
   "cell_type": "code",
   "execution_count": 14,
   "id": "b5bdcd85",
   "metadata": {},
   "outputs": [
    {
     "name": "stdout",
     "output_type": "stream",
     "text": [
      "[{(3, 5): [Translation(x=-171, y=-89, angle=-138.13010235415595, confidence=0.8929000810830722, geom_score=0.901328252988229), Translation(x=-185, y=-71, angle=-133.13010235415595, confidence=0.8625241166263584, geom_score=0.8470523874732733), Translation(x=-161, y=-107, angle=-143.13010235415595, confidence=0.8613691318077983, geom_score=0.8578140906788033), Translation(x=-19, y=173, angle=-123.20492206728284, confidence=0.8190081053182457, geom_score=0.8444226894321822), Translation(x=-37, y=165, angle=-128.20492206728284, confidence=0.8082763282036158, geom_score=0.8827855433935999)]}, {(3, 6): [Translation(x=123, y=50, angle=-69.72882633717774, confidence=0.8517918598889944, geom_score=0.9297257369562122), Translation(x=-160, y=-103, angle=-120.00146970233826, confidence=0.8261904990519962, geom_score=0.9065027335713127), Translation(x=-168, y=-85, angle=-110.00146970233826, confidence=0.7940238633525064, geom_score=0.9052865709328405), Translation(x=-174, y=-65, angle=-105.00146970233826, confidence=0.6975360256261391, geom_score=0.9205437330954196)]}, {(3, 7): [Translation(x=14, y=284, angle=-15.742161181460478, confidence=0.8164765212804822, geom_score=0.7942040958774212), Translation(x=34, y=280, angle=-10.742161181460478, confidence=0.7706964963939046, geom_score=0.7284151865013747), Translation(x=-161, y=-112, angle=-123.21668542819458, confidence=0.7657165884328113, geom_score=0.877282340793477), Translation(x=-6, y=288, angle=-20.742161181460478, confidence=0.7652299066605718, geom_score=0.7265755309006994), Translation(x=-153, y=-130, angle=-128.21668542819458, confidence=0.7575710742600942, geom_score=0.8035257931634003)]}, {(3, 8): [Translation(x=-179, y=103, angle=-115.85049416468624, confidence=0.9000014033341069, geom_score=0.9059941100512898), Translation(x=-189, y=87, angle=-125.85049416468624, confidence=0.8624954481961675, geom_score=0.8479497240575066), Translation(x=36, y=183, angle=-163.8171925774371, confidence=0.8599155807050014, geom_score=0.8583026264229129), Translation(x=-167, y=123, angle=-105.85049416468624, confidence=0.856211768634519, geom_score=0.8455706522453135), Translation(x=118, y=-123, angle=-37.64077729414353, confidence=0.7607113759617262, geom_score=0.8533994052386599), Translation(x=98, y=-135, angle=-32.64077729414353, confidence=0.7346390072524358, geom_score=0.8445205651543861)]}, {(3, 9): [Translation(x=188, y=132, angle=-57.23876182381191, confidence=0.7731524332521921, geom_score=0.7905598897022732), Translation(x=184, y=152, angle=-62.23876182381191, confidence=0.7265626404976965, geom_score=0.7673025993069752)]}, {(3, 10): []}, {(3, 11): [Translation(x=-80, y=-248, angle=-180.0, confidence=0.8637062036055577, geom_score=0.8595392557165384), Translation(x=-60, y=-248, angle=-185.0, confidence=0.8145281929419715, geom_score=0.8436327366766077), Translation(x=-273, y=-149, angle=-132.2519300063609, confidence=0.7323730895014421, geom_score=0.7736629545524448), Translation(x=-46, y=-260, angle=-195.0, confidence=0.7110684108492319, geom_score=0.741270448206915), Translation(x=-281, y=-129, angle=-127.25193000636091, confidence=0.6799726918188487, geom_score=0.7649319326448312)]}, {(3, 12): [Translation(x=135, y=114, angle=-40.91207249706633, confidence=0.8767919347979425, geom_score=0.9307333181249713), Translation(x=121, y=126, angle=-50.91207249706633, confidence=0.8327745661205944, geom_score=0.8781423109036997), Translation(x=-111, y=123, angle=-153.48619584509888, confidence=0.767038297927269, geom_score=0.8866064274103301), Translation(x=-93, y=131, angle=-148.48619584509888, confidence=0.698610710651573, geom_score=0.8808300849039283)]}, {(3, 14): [Translation(x=187, y=119, angle=-72.89012505948084, confidence=0.7242479927768359, geom_score=0.7242883981257955), Translation(x=-251, y=-108, angle=-153.8919025643602, confidence=0.6609554610310745, geom_score=0.7384883293124661), Translation(x=-277, y=-84, angle=-138.8919025643602, confidence=0.6407218721671212, geom_score=0.7263955943978312), Translation(x=169, y=127, angle=-77.89012505948084, confidence=0.5925524720496049, geom_score=0.8239938067671728), Translation(x=-285, y=-66, angle=-133.8919025643602, confidence=0.5564783910012113, geom_score=0.6893353485492659)]}, {(3, 15): [Translation(x=45, y=251, angle=-8.515119952151188, confidence=0.8595571008841976, geom_score=0.8872073940685471), Translation(x=65, y=249, angle=-3.5151199521511884, confidence=0.8114131044524141, geom_score=0.8028680511240838), Translation(x=27, y=261, angle=-18.51511995215119, confidence=0.8007647001115691, geom_score=0.7776626451667256)]}, {(3, 49): [Translation(x=200, y=125, angle=-50.165014777673974, confidence=0.8312829845849993, geom_score=0.9060602486528787)]}, {(3, 53): [Translation(x=20, y=216, angle=-32.14861392279656, confidence=0.9403076835329195, geom_score=0.941591317356054), Translation(x=44, y=155, angle=-136.96141960839302, confidence=0.8773935402345585, geom_score=0.9093052582950194)]}, {(3, 54): [Translation(x=-33, y=207, angle=-132.8635554315666, confidence=0.8213569908438711, geom_score=0.8180815778792999), Translation(x=-53, y=207, angle=-137.8635554315666, confidence=0.8151117793125434, geom_score=0.8169756234461943), Translation(x=-67, y=193, angle=-142.8635554315666, confidence=0.7628906893342998, geom_score=0.8679833124494889)]}, {(3, 59): [Translation(x=-209, y=279, angle=-56.77167120071675, confidence=0.9032916735188814, geom_score=0.9093029730201045), Translation(x=-197, y=295, angle=-51.77167120071675, confidence=0.8618144809781014, geom_score=0.8336471404345049), Translation(x=-227, y=271, angle=-61.77167120071675, confidence=0.8352742052811468, geom_score=0.8393672791955082)]}, {(3, 61): []}, {(3, 65): [Translation(x=-193, y=-66, angle=-134.17619791930542, confidence=0.9177289515547603, geom_score=0.913592762184104), Translation(x=-199, y=-42, angle=-124.17619791930542, confidence=0.9058057601458595, geom_score=0.8896547534178413), Translation(x=-27, y=181, angle=-178.47970478665047, confidence=0.8755830214637677, geom_score=0.9461075767242225), Translation(x=-45, y=177, angle=-188.47970478665047, confidence=0.8567767478076516, geom_score=0.9153481542889482)]}, {(3, 95): [Translation(x=183, y=-49, angle=6.142143453497788, confidence=0.8623212996478448, geom_score=0.9023340262433188), Translation(x=171, y=-65, angle=6.142143453497788, confidence=0.7378934364071879, geom_score=0.8083865170189518)]}, {(3, 96): [Translation(x=-208, y=-153, angle=-93.91802178818926, confidence=0.7598684143912849, geom_score=0.8329931907921209), Translation(x=-212, y=-133, angle=-88.91802178818926, confidence=0.7171076732525032, geom_score=0.8548650303122638)]}, {(5, 6): [Translation(x=113, y=5, angle=-122.13251258205725, confidence=0.844891591787263, geom_score=0.893050770127736), Translation(x=-66, y=-71, angle=-174.01695597571563, confidence=0.8211481670467246, geom_score=0.8850888346052979), Translation(x=115, y=-13, angle=-112.13251258205725, confidence=0.8119260935898187, geom_score=0.8842589081484056), Translation(x=-5, y=118, angle=-40.68616619392651, confidence=0.6888234380450611, geom_score=0.8888949300453914), Translation(x=-23, y=122, angle=-50.68616619392651, confidence=0.6382170508188098, geom_score=0.8928844053576293)]}, {(5, 7): [Translation(x=199, y=-58, angle=-5.0, confidence=0.8859994125907076, geom_score=0.933299469550123), Translation(x=-106, y=-62, angle=0.21071768477050057, confidence=0.7387619547918657, geom_score=0.8832504180463853)]}, {(5, 8): [Translation(x=-17, y=-142, angle=-81.44878278311887, confidence=0.8665020382202557, geom_score=0.9012583268836312), Translation(x=-101, y=29, angle=6.260445660338689, confidence=0.8648016689157275, geom_score=0.9381479014337568), Translation(x=-9, y=105, angle=-85.98601278194369, confidence=0.8508623475529263, geom_score=0.9360344726367464), Translation(x=110, y=-59, angle=-29.56032177999782, confidence=0.8382145441820023, geom_score=0.9177674852585731), Translation(x=-35, y=-150, angle=-71.44878278311887, confidence=0.8286136108793066, geom_score=0.8937264193791312), Translation(x=120, y=-49, angle=-44.56032177999782, confidence=0.7707609938136715, geom_score=0.9012033885178888)]}, {(5, 9): [Translation(x=196, y=-22, angle=-4.18449777267811, confidence=0.9070020536409342, geom_score=0.9423378430385849)]}, {(5, 10): [Translation(x=104, y=112, angle=-18.540005331055482, confidence=0.89614956972846, geom_score=0.9271600064851815), Translation(x=-52, y=-128, angle=-121.4930433804962, confidence=0.8728615466906217, geom_score=0.9230541715942616), Translation(x=88, y=124, angle=-28.540005331055482, confidence=0.8719231630908378, geom_score=0.8835200340488916), Translation(x=118, y=100, angle=-8.540005331055482, confidence=0.8578168448462922, geom_score=0.8587135068371726)]}, {(5, 11): [Translation(x=5, y=165, angle=-134.07843777524752, confidence=0.8887014218933655, geom_score=0.8979270930725829), Translation(x=63, y=133, angle=-48.55324254714243, confidence=0.8770220492940739, geom_score=0.9022938566774182), Translation(x=19, y=163, angle=-119.07843777524752, confidence=0.8401047252796127, geom_score=0.829138756772883), Translation(x=-13, y=167, angle=-144.07843777524752, confidence=0.8180039885406384, geom_score=0.8361297082116551), Translation(x=-39, y=-158, angle=-119.3321452795428, confidence=0.7975332547720444, geom_score=0.8611950251415945)]}, {(5, 12): [Translation(x=105, y=34, angle=-58.36688125084409, confidence=0.9075820044136037, geom_score=0.937361041143854), Translation(x=99, y=48, angle=-73.36688125084409, confidence=0.8607951375835303, geom_score=0.9231289825815001), Translation(x=-34, y=90, angle=-83.57881372500071, confidence=0.8501508444512629, geom_score=0.910619159150903)]}, {(5, 14): [Translation(x=202, y=35, angle=-117.25632438042516, confidence=0.805195676823034, geom_score=0.7970859609049662), Translation(x=190, y=41, angle=-132.25632438042516, confidence=0.7459167730838168, geom_score=0.8217365893039741), Translation(x=-197, y=-44, angle=-48.8269198185064, confidence=0.6709184767628869, geom_score=0.7820093518141545), Translation(x=-209, y=-30, angle=-38.8269198185064, confidence=0.6239258906737514, geom_score=0.7905014911085857)]}, {(5, 15): [Translation(x=-91, y=184, angle=-184.9880695312279, confidence=0.8414844949926336, geom_score=0.8691354707228327), Translation(x=-90, y=164, angle=-53.14187132845561, confidence=0.8289570613839585, geom_score=0.8609209499657894), Translation(x=-206, y=-6, angle=-38.1908832888532, confidence=0.7980769371597597, geom_score=0.8768746536385825)]}, {(5, 49): [Translation(x=200, y=-20, angle=-176.07535558394864, confidence=0.8136403347548463, geom_score=0.8264303741083824), Translation(x=126, y=226, angle=-25.057615418303072, confidence=0.7895383263977727, geom_score=0.7440888771594354), Translation(x=112, y=240, angle=-30.057615418303072, confidence=0.7246080511405676, geom_score=0.6543771651126784), Translation(x=144, y=218, angle=-20.057615418303072, confidence=0.6550908572939856, geom_score=0.5711613032602638)]}, {(5, 53): [Translation(x=116, y=62, angle=-5.0, confidence=0.8941589870461231, geom_score=0.8904672975818629), Translation(x=-132, y=-58, angle=-66.57990958206894, confidence=0.8787200136883982, geom_score=0.9390209198298574), Translation(x=-126, y=-76, angle=-76.57990958206894, confidence=0.816490852198881, geom_score=0.8859635088804522), Translation(x=-3, y=-148, angle=-153.5454377960818, confidence=0.7848625179160303, geom_score=0.9086858385966219)]}, {(5, 54): [Translation(x=193, y=-88, angle=-30.440173394680215, confidence=0.8665853662995248, geom_score=0.8985957075318106), Translation(x=176, y=-73, angle=-184.58859831985905, confidence=0.8655195702693699, geom_score=0.9384843629993405), Translation(x=-100, y=-77, angle=-52.20228534020781, confidence=0.835993154702405, geom_score=0.9018546036074089), Translation(x=-117, y=-50, angle=-141.8393653708348, confidence=0.752353581809874, geom_score=0.9046416872697411)]}, {(5, 59): [Translation(x=-155, y=-268, angle=-42.92147174147601, confidence=0.6721247728788367, geom_score=0.7559363554583676), Translation(x=-13, y=314, angle=-174.0389016408459, confidence=0.5299465635918625, geom_score=0.58880410872962)]}, {(5, 61): [Translation(x=327, y=93, angle=-4.092847461452848, confidence=0.8351492556021577, geom_score=0.8644452861689762), Translation(x=315, y=107, angle=-14.092847461452848, confidence=0.7994643453197072, geom_score=0.8135744139349697), Translation(x=56, y=-216, angle=-79.5511012193969, confidence=0.7699436873399764, geom_score=0.8035200007540174)]}, {(5, 65): [Translation(x=-99, y=-32, angle=-173.1737467905981, confidence=0.9253451120692063, geom_score=0.9386909306997292)]}, {(5, 95): [Translation(x=-145, y=6, angle=-145.30006405500427, confidence=0.9122102096934576, geom_score=0.9454640704269489), Translation(x=-156, y=-71, angle=-30.315530715419364, confidence=0.8492828796911671, geom_score=0.9241334102921764), Translation(x=-144, y=15, angle=-37.05778140945463, confidence=0.6779296334547167, geom_score=0.8849377094468376), Translation(x=109, y=129, angle=-25.30677834367664, confidence=0.6122282484079007, geom_score=0.8890747478305093)]}, {(5, 96): [Translation(x=172, y=251, angle=-7.323394579457791, confidence=0.7743779148296565, geom_score=0.7513121692505054), Translation(x=-133, y=-86, angle=-168.26309124692872, confidence=0.7653143762352878, geom_score=0.8222051816780801), Translation(x=-149, y=-72, angle=-168.26309124692872, confidence=0.7301044156326447, geom_score=0.7369357489421455), Translation(x=184, y=231, angle=-7.323394579457791, confidence=0.7209791499421129, geom_score=0.6547985199671899), Translation(x=-127, y=-106, angle=-168.26309124692872, confidence=0.6512065733139629, geom_score=0.6166524304600585), Translation(x=-99, y=256, angle=-2.425171904480635, confidence=0.5908302004589194, geom_score=0.6975568441378088)]}, {(6, 7): [Translation(x=-67, y=-67, angle=4.77326251632438, confidence=0.8065138117967433, geom_score=0.9566788042352385)]}, {(6, 8): [Translation(x=-80, y=-154, angle=-164.9266523550263, confidence=0.7811044587501909, geom_score=0.9111320951163767), Translation(x=-102, y=-152, angle=-154.9266523550263, confidence=0.6046269455103535, geom_score=0.920559796534848)]}, {(6, 9): [Translation(x=208, y=-71, angle=-175.95279001737993, confidence=0.9334726784787555, geom_score=0.9436038711735949), Translation(x=135, y=96, angle=0.0, confidence=0.7824713409524207, geom_score=0.962726876561055)]}, {(6, 10): [Translation(x=91, y=-102, angle=-126.86989764584402, confidence=0.8978379447184077, geom_score=0.9504443512273745), Translation(x=-58, y=123, angle=-23.214725919116724, confidence=0.879704218441059, geom_score=0.9093507945431372)]}, {(6, 11): [Translation(x=-87, y=-173, angle=-171.89038554400577, confidence=0.8922729250150043, geom_score=0.959697788823734), Translation(x=-29, y=-146, angle=-49.89104248431292, confidence=0.8567295496783918, geom_score=0.9381504141929643)]}, {(6, 12): [Translation(x=-75, y=70, angle=-95.0, confidence=0.7887747123046547, geom_score=0.864370959604042), Translation(x=-63, y=84, angle=-85.0, confidence=0.662172526909672, geom_score=0.8689231726458557)]}, {(6, 14): [Translation(x=-104, y=-89, angle=-35.848842141308864, confidence=0.8524936548135033, geom_score=0.9113567823967637), Translation(x=146, y=63, angle=-2.6631660543078013, confidence=0.657483979759162, geom_score=0.8851728618032477), Translation(x=140, y=75, angle=-17.6631660543078, confidence=0.560422013236669, geom_score=0.8915228734845462)]}, {(6, 15): [Translation(x=-149, y=145, angle=-78.83867158999935, confidence=0.8013228167431068, geom_score=0.8437971701004898), Translation(x=-171, y=137, angle=-88.83867158999935, confidence=0.7723115582548948, geom_score=0.8313408527021732), Translation(x=-135, y=157, angle=-68.83867158999935, confidence=0.6991437535962339, geom_score=0.6784765228131834)]}, {(6, 49): []}, {(6, 53): [Translation(x=-138, y=-29, angle=1.7250293437874298, confidence=0.9145547924172966, geom_score=0.903260665738848), Translation(x=-41, y=-143, angle=-75.00245640854395, confidence=0.9034770013825576, geom_score=0.9534752939338365), Translation(x=70, y=-119, angle=-86.29859643522607, confidence=0.8671693047484454, geom_score=0.9330373304544272), Translation(x=102, y=72, angle=-188.52978680610516, confidence=0.8622416488402576, geom_score=0.9113376826183719)]}, {(6, 54): [Translation(x=-4, y=159, angle=-55.025034632340024, confidence=0.8410005651024203, geom_score=0.8681431585859041), Translation(x=-82, y=-80, angle=-7.2209817853247635, confidence=0.8225731571575198, geom_score=0.8358234699368574), Translation(x=-22, y=157, angle=-65.02503463234002, confidence=0.7455216229183546, geom_score=0.849263939493739), Translation(x=-98, y=-72, angle=2.7790182146752365, confidence=0.7406018702881879, geom_score=0.8539080287955008)]}, {(6, 59): [Translation(x=-157, y=-264, angle=-149.65527577584572, confidence=0.7517608480629461, geom_score=0.895478911655539), Translation(x=-211, y=-115, angle=-134.65368965287178, confidence=0.7239664718166, geom_score=0.8992213932879688), Translation(x=-171, y=-256, angle=-134.65527577584572, confidence=0.582224991399732, geom_score=0.8952486007662455)]}, {(6, 61): [Translation(x=160, y=-219, angle=-150.5057797414049, confidence=0.8880184645203002, geom_score=0.9223706440854934)]}, {(6, 65): [Translation(x=-91, y=-34, angle=0.013356710202369726, confidence=0.9321108438282101, geom_score=0.9577233905878393), Translation(x=-77, y=96, angle=-83.35141233220126, confidence=0.8799947704816248, geom_score=0.9285446270903632)]}, {(6, 95): [Translation(x=54, y=200, angle=-157.38148997671777, confidence=0.5750703437330243, geom_score=0.6983758830370842)]}, {(6, 96): [Translation(x=-142, y=-117, angle=-109.02116380359001, confidence=0.8131031860902844, geom_score=0.8754059210539671), Translation(x=-68, y=-334, angle=-136.05986428710247, confidence=0.7886920146166586, geom_score=0.8907971850038484), Translation(x=34, y=318, angle=-38.18968510422136, confidence=0.7442886945712939, geom_score=0.8765562433100549), Translation(x=-50, y=-342, angle=-141.05986428710247, confidence=0.6859378523002542, geom_score=0.8813339518926518)]}, {(7, 8): [Translation(x=16, y=-204, angle=0.0787784092510897, confidence=0.8765999176956344, geom_score=0.9579555843415359), Translation(x=-137, y=4, angle=-108.78368041235086, confidence=0.7524065824105691, geom_score=0.9127569630778593)]}, {(7, 9): []}, {(7, 10): [Translation(x=58, y=147, angle=-42.885808515709805, confidence=0.7376735484932949, geom_score=0.7322342040035776), Translation(x=76, y=137, angle=-32.885808515709805, confidence=0.6797172073708336, geom_score=0.6853441831679108), Translation(x=96, y=131, angle=-27.885808515709805, confidence=0.5623845476554877, geom_score=0.591651668161481)]}, {(7, 11): [Translation(x=96, y=204, angle=7.508148540763408, confidence=0.8087314888952926, geom_score=0.8935104390481754), Translation(x=-237, y=-196, angle=-126.27795563979765, confidence=0.5820463914433537, geom_score=0.8510967572615209)]}, {(7, 12): [Translation(x=-85, y=-86, angle=-12.403093699018338, confidence=0.9091774339333716, geom_score=0.937773538867695), Translation(x=138, y=45, angle=-155.86056110523765, confidence=0.8748962966509947, geom_score=0.9062790854468289), Translation(x=-62, y=187, angle=-186.32716396588424, confidence=0.8499069017713895, geom_score=0.8979511628604148), Translation(x=-42, y=189, angle=-181.32716396588424, confidence=0.8292606284613346, geom_score=0.909882394249525), Translation(x=-22, y=199, angle=-171.32716396588424, confidence=0.7755349564286337, geom_score=0.9010965789042983)]}, {(7, 14): [Translation(x=142, y=114, angle=5.0, confidence=0.6593898096252263, geom_score=0.7169360829332472), Translation(x=150, y=94, angle=5.0, confidence=0.5583642790134549, geom_score=0.6636938318728218)]}, {(7, 15): [Translation(x=-137, y=234, angle=-11.847628816796679, confidence=0.838202232737838, geom_score=0.8823016472759303), Translation(x=-159, y=218, angle=-21.84762881679668, confidence=0.7985721584336493, geom_score=0.9075197984953095), Translation(x=-177, y=204, angle=-31.84762881679668, confidence=0.57826168647265, geom_score=0.8037453084540653)]}, {(7, 49): [Translation(x=-283, y=275, angle=-184.74546888959335, confidence=0.6960681933226873, geom_score=0.8296151242375452), Translation(x=-299, y=261, angle=-184.74546888959335, confidence=0.6413935076383205, geom_score=0.7898094367892111)]}, {(7, 53): [Translation(x=121, y=76, angle=-1.1926437896259472, confidence=0.7794957640784789, geom_score=0.785647489748484), Translation(x=107, y=88, angle=-11.192643789625947, confidence=0.6240794116959493, geom_score=0.7945057846489748)]}, {(7, 54): [Translation(x=-197, y=-60, angle=-20.28149705169431, confidence=0.8627956111591268, geom_score=0.863906751859662), Translation(x=-209, y=-40, angle=-15.28149705169431, confidence=0.8342937994302277, geom_score=0.8159628401195959), Translation(x=-217, y=-58, angle=-20.28149705169431, confidence=0.7447699573409031, geom_score=0.6899039038163259)]}, {(7, 59): [Translation(x=309, y=109, angle=7.207298127069141, confidence=0.6084546984543469, geom_score=0.8469730627832018)]}, {(7, 61): [Translation(x=-148, y=361, angle=-39.36737318966682, confidence=0.7395540661272402, geom_score=0.7914699920086271), Translation(x=-281, y=-186, angle=-167.285513426988, confidence=0.6943080549541301, geom_score=0.7888200295770873), Translation(x=235, y=-316, angle=-159.49662909023684, confidence=0.6826491339285105, geom_score=0.7603462043624319), Translation(x=-130, y=369, angle=-34.36737318966682, confidence=0.529153402696538, geom_score=0.8163193204276895)]}, {(7, 65): [Translation(x=215, y=36, angle=-84.95540785224061, confidence=0.9246219268336017, geom_score=0.931691989492123), Translation(x=213, y=64, angle=-94.95540785224061, confidence=0.9032205417495889, geom_score=0.8924427758714467), Translation(x=213, y=14, angle=-74.95540785224061, confidence=0.8934460677795956, geom_score=0.9005208065641919), Translation(x=-75, y=-105, angle=-177.91281142598598, confidence=0.8472223950391639, geom_score=0.8898459014387164), Translation(x=-89, y=-91, angle=-172.91281142598598, confidence=0.8130340818765849, geom_score=0.8683471966744931)]}, {(7, 95): []}, {(7, 96): [Translation(x=-229, y=-217, angle=-74.33993540557341, confidence=0.8184047090631488, geom_score=0.8595622589878934), Translation(x=169, y=260, angle=2.8887697366547798, confidence=0.8078704855131109, geom_score=0.8427891541156978)]}, {(8, 9): [Translation(x=220, y=-79, angle=-66.37039146822488, confidence=0.863848749557702, geom_score=0.8817607232802173), Translation(x=158, y=92, angle=-59.61113639103874, confidence=0.7674921838546059, geom_score=0.8612358552229088), Translation(x=146, y=108, angle=-64.61113639103874, confidence=0.7124302733309812, geom_score=0.8304924109034503)]}, {(8, 10): [Translation(x=130, y=-48, angle=-17.83663252914652, confidence=0.8859069579842022, geom_score=0.9684858026862702)]}, {(8, 11): [Translation(x=-166, y=-140, angle=-81.54852710780506, confidence=0.7621588467324739, geom_score=0.873111249928155), Translation(x=-184, y=-134, angle=-71.54852710780506, confidence=0.6093796365985189, geom_score=0.8550218579108637)]}, {(8, 12): [Translation(x=24, y=110, angle=-158.71548871427655, confidence=0.8306026415959531, geom_score=0.9170165105599636), Translation(x=4, y=116, angle=-168.71548871427655, confidence=0.8235197529087069, geom_score=0.844302007156564)]}, {(8, 14): []}, {(8, 15): [Translation(x=-53, y=164, angle=-133.6311819726879, confidence=0.7349078473400239, geom_score=0.7260877842893905), Translation(x=-73, y=160, angle=-138.6311819726879, confidence=0.6594170896938011, geom_score=0.6664647573544474), Translation(x=-33, y=166, angle=-128.6311819726879, confidence=0.6147525932905182, geom_score=0.5556470706165599)]}, {(8, 49): [Translation(x=168, y=200, angle=-32.70647675589838, confidence=0.877241629195718, geom_score=0.930914306816419), Translation(x=184, y=192, angle=-22.70647675589838, confidence=0.828043069509664, geom_score=0.9037067530499157)]}, {(8, 53): [Translation(x=85, y=118, angle=-71.35761489057089, confidence=0.8886654010570681, geom_score=0.9258254179755582), Translation(x=-142, y=-50, angle=-63.904078405678405, confidence=0.8819657283311138, geom_score=0.9192211899252768), Translation(x=-156, y=-38, angle=-53.904078405678405, confidence=0.8306400763124098, geom_score=0.9118205172529023), Translation(x=103, y=124, angle=-61.357614890570886, confidence=0.8293096265059325, geom_score=0.8938398880296816)]}, {(8, 54): [Translation(x=196, y=-37, angle=-14.902664225193597, confidence=0.9000967281430511, geom_score=0.951254407620455), Translation(x=-168, y=-95, angle=-9.61418942777319, confidence=0.8168417781293796, geom_score=0.9014889862752877)]}, {(8, 59): [Translation(x=186, y=-24, angle=0.0, confidence=0.8865281310392503, geom_score=0.9430723543961951)]}, {(8, 61): []}, {(8, 65): [Translation(x=136, y=-37, angle=-74.62155680240058, confidence=0.9427009992632353, geom_score=0.960910365040744), Translation(x=116, y=60, angle=-45.39437675689197, confidence=0.8937817433890263, geom_score=0.9192351386166329), Translation(x=-74, y=-85, angle=-86.36240526433933, confidence=0.8933055974631906, geom_score=0.9449906160202582)]}, {(8, 95): [Translation(x=-157, y=-35, angle=-40.07784541405913, confidence=0.83553581209504, geom_score=0.8935595063435433), Translation(x=-157, y=-15, angle=-35.07784541405913, confidence=0.7666326183257031, geom_score=0.827003947803479)]}, {(8, 96): [Translation(x=-137, y=-136, angle=-70.37868425472078, confidence=0.6165482923229406, geom_score=0.6373266834804431)]}, {(9, 10): [Translation(x=175, y=-132, angle=-132.11003436867978, confidence=0.8562139717001743, geom_score=0.8675514076613668), Translation(x=193, y=-116, angle=-137.11003436867978, confidence=0.834402584720152, geom_score=0.8268376366435639), Translation(x=-104, y=159, angle=-156.6834422271716, confidence=0.6957790611304608, geom_score=0.8470196403510748), Translation(x=-122, y=151, angle=-161.6834422271716, confidence=0.6105730755295303, geom_score=0.7422109756523299)]}, {(9, 11): [Translation(x=-112, y=276, angle=0.0, confidence=0.8867401978516901, geom_score=0.9248989886569022), Translation(x=-173, y=-276, angle=-144.2052198537362, confidence=0.6853409645219344, geom_score=0.8604342067628893), Translation(x=-193, y=-270, angle=-139.2052198537362, confidence=0.543193349003573, geom_score=0.843843909812035)]}, {(9, 12): [Translation(x=165, y=-2, angle=-34.89618721765456, confidence=0.8302459270756232, geom_score=0.901449959733957), Translation(x=165, y=18, angle=-39.89618721765456, confidence=0.8160725481402897, geom_score=0.8615584781118493), Translation(x=171, y=-22, angle=-29.896187217654557, confidence=0.8060257810501265, geom_score=0.8165151829157579), Translation(x=161, y=43, angle=-173.78327419837967, confidence=0.7786861664566311, geom_score=0.8702200476416887), Translation(x=169, y=25, angle=-168.78327419837967, confidence=0.7461511490530516, geom_score=0.8261479438712944), Translation(x=165, y=5, angle=-163.78327419837967, confidence=0.687712280952788, geom_score=0.8211715065303233)]}, {(9, 14): [Translation(x=259, y=56, angle=-63.70449625206581, confidence=0.7192914041145586, geom_score=0.8226951962422978), Translation(x=271, y=40, angle=-63.70449625206581, confidence=0.6567195089532382, geom_score=0.7949528252769925), Translation(x=-48, y=-278, angle=-154.42103996043093, confidence=0.6391669276121817, geom_score=0.7783949958171877), Translation(x=275, y=20, angle=-58.70449625206581, confidence=0.5101261698559338, geom_score=0.7012972063206109)]}, {(9, 15): [Translation(x=270, y=143, angle=5.0, confidence=0.7720269550934751, geom_score=0.8844075486262003), Translation(x=258, y=159, angle=0.0, confidence=0.6622770749683645, geom_score=0.8856630521326504), Translation(x=-195, y=207, angle=-141.60561168397567, confidence=0.5631707102966504, geom_score=0.8332060064140158)]}, {(9, 49): [Translation(x=123, y=413, angle=-47.25370288862212, confidence=0.5519436486433399, geom_score=0.6790605428945543)]}, {(9, 53): [Translation(x=-64, y=-292, angle=-98.80646514747548, confidence=0.9176420684329695, geom_score=0.9458045174418498), Translation(x=-48, y=-304, angle=-103.80646514747548, confidence=0.9020284471035813, geom_score=0.9184338988610169), Translation(x=-84, y=-286, angle=-93.80646514747548, confidence=0.8849723944349369, geom_score=0.9218319553862736), Translation(x=181, y=94, angle=-184.4333935282183, confidence=0.6729021539492374, geom_score=0.8922803633075754)]}, {(9, 54): [Translation(x=263, y=-48, angle=-11.431313956622077, confidence=0.748357327706369, geom_score=0.8319649601250045), Translation(x=269, y=-68, angle=-6.431313956622077, confidence=0.7170548314887334, geom_score=0.7413957726072368), Translation(x=267, y=-28, angle=-16.431313956622077, confidence=0.7049239563456419, geom_score=0.7114159612841467), Translation(x=-127, y=282, angle=-7.066696871231677, confidence=0.6600110647586895, geom_score=0.6949108254772238), Translation(x=259, y=-86, angle=-6.431313956622077, confidence=0.6364166077985958, geom_score=0.6376331910328731), Translation(x=-161, y=264, angle=-12.066696871231677, confidence=0.5603432041992997, geom_score=0.634300046223521)]}, {(9, 59): [Translation(x=-345, y=-223, angle=-90.00000000000004, confidence=0.7494966279498794, geom_score=0.8867800494883689), Translation(x=-359, y=-207, angle=-85.00000000000004, confidence=0.7224870536134449, geom_score=0.7919781267498355), Translation(x=-335, y=-241, angle=-95.00000000000004, confidence=0.6627543081549094, geom_score=0.8593744489280097)]}, {(9, 61): [Translation(x=393, y=-105, angle=2.8697340014466555, confidence=0.7886210116637598, geom_score=0.9201272487046138), Translation(x=393, y=-125, angle=7.8697340014466555, confidence=0.7177226201744235, geom_score=0.8422419557898176)]}, {(9, 65): [Translation(x=193, y=29, angle=-163.37254792667764, confidence=0.9099744289137174, geom_score=0.9356374452571954)]}, {(9, 95): [Translation(x=109, y=-220, angle=-128.44629486081868, confidence=0.8448329360173911, geom_score=0.8526877865292393), Translation(x=-291, y=-171, angle=-89.48200869159263, confidence=0.7531891038745924, geom_score=0.8443170979302159), Translation(x=-281, y=-189, angle=-94.48200869159263, confidence=0.7419729526171318, geom_score=0.9005018333540572), Translation(x=-273, y=-211, angle=-99.48200869159263, confidence=0.6866437316390482, geom_score=0.8290116667658469)]}, {(9, 96): [Translation(x=-267, y=-264, angle=-84.45180377632397, confidence=0.7612941931361388, geom_score=0.7759919043418826)]}, {(10, 11): [Translation(x=180, y=-93, angle=-3.897651125095013, confidence=0.8870547505311854, geom_score=0.9196154212693772)]}, {(10, 12): [Translation(x=116, y=74, angle=-44.441747713094, confidence=0.8863051980787658, geom_score=0.9202847688923237), Translation(x=109, y=-23, angle=-62.56284128882493, confidence=0.8697533535828785, geom_score=0.9050303921795244), Translation(x=21, y=125, angle=-160.94347323003785, confidence=0.8005783884342318, geom_score=0.9102475923589806)]}, {(10, 14): [Translation(x=-82, y=-160, angle=-165.38593064391043, confidence=0.8868927245052276, geom_score=0.925778678446009)]}, {(10, 15): [Translation(x=-254, y=40, angle=-30.915436798465656, confidence=0.8008752050663283, geom_score=0.9110630072901152), Translation(x=-256, y=20, angle=-35.915436798465656, confidence=0.7095209799341138, geom_score=0.9091172978384962)]}, {(10, 49): [Translation(x=240, y=-309, angle=-2.0825832434494345, confidence=0.8181687612491587, geom_score=0.8258066845305351), Translation(x=224, y=-321, angle=-2.0825832434494345, confidence=0.8061352641459019, geom_score=0.8150200624476169), Translation(x=3, y=361, angle=-146.55845457660968, confidence=0.7989957803768369, geom_score=0.7962288053816446), Translation(x=-9, y=375, angle=-156.55845457660968, confidence=0.7571718338266406, geom_score=0.716646823534364), Translation(x=23, y=367, angle=-146.55845457660968, confidence=0.7426304863949688, geom_score=0.7033607836815189), Translation(x=242, y=-327, angle=-12.082583243449434, confidence=0.6923702835309453, geom_score=0.6256337846017452), Translation(x=-29, y=371, angle=-156.55845457660968, confidence=0.6774539325046786, geom_score=0.6356249351805257)]}, {(10, 53): [Translation(x=-47, y=161, angle=-103.88774857021362, confidence=0.9131952388530222, geom_score=0.9143987850644887)]}, {(10, 54): [Translation(x=193, y=-131, angle=-163.64525139212407, confidence=0.8515193051571245, geom_score=0.9076849088290848)]}, {(10, 59): [Translation(x=-89, y=277, angle=-171.36111588472008, confidence=0.881798591785856, geom_score=0.8917441529219959), Translation(x=203, y=-44, angle=-4.12670211717424, confidence=0.8587834853980618, geom_score=0.8567757463595503), Translation(x=-79, y=293, angle=-161.36111588472008, confidence=0.8152272951324842, geom_score=0.8388956025196648), Translation(x=184, y=-101, angle=-173.05962172572816, confidence=0.5244649161861433, geom_score=0.8413239088465624)]}, {(10, 61): [Translation(x=-274, y=258, angle=0.0, confidence=0.8765804839907878, geom_score=0.9007925196398475), Translation(x=-284, y=240, angle=-5.0, confidence=0.8263200184454061, geom_score=0.8339598558566835), Translation(x=-340, y=-140, angle=-48.854763814564706, confidence=0.7973776624424362, geom_score=0.8158980314243344)]}, {(10, 65): [Translation(x=134, y=68, angle=-59.72794878507821, confidence=0.9094439780984397, geom_score=0.9057307519126018), Translation(x=130, y=86, angle=-69.72794878507821, confidence=0.8885740507174523, geom_score=0.868867903616906), Translation(x=-147, y=-50, angle=-49.30329567924157, confidence=0.8490699697211108, geom_score=0.8892873547122149), Translation(x=140, y=48, angle=-54.72794878507821, confidence=0.8452926276511606, geom_score=0.8150705535654316), Translation(x=-153, y=-30, angle=-44.30329567924157, confidence=0.8297384591545944, geom_score=0.8589918882636495)]}, {(10, 95): [Translation(x=143, y=-81, angle=-157.71172582422687, confidence=0.8161008747324374, geom_score=0.8135275785123902), Translation(x=159, y=-69, angle=-162.71172582422687, confidence=0.7657884999333686, geom_score=0.7332833543181851), Translation(x=-201, y=-18, angle=-39.51117952197447, confidence=0.6580941358722502, geom_score=0.6266601797797536), Translation(x=127, y=-93, angle=-152.71172582422687, confidence=0.6557486177788725, geom_score=0.7206320027357332), Translation(x=118, y=-130, angle=-179.53701096904234, confidence=0.5769391261678074, geom_score=0.6407813114256633)]}, {(10, 96): [Translation(x=-167, y=-171, angle=-186.0427839352777, confidence=0.7803371602304964, geom_score=0.7724179911486977), Translation(x=-171, y=-191, angle=-186.0427839352777, confidence=0.6651459238063545, geom_score=0.6240288906237341)]}, {(11, 12): [Translation(x=130, y=72, angle=-114.0232050018642, confidence=0.8138212330075957, geom_score=0.8757441384987876), Translation(x=122, y=90, angle=-119.0232050018642, confidence=0.7993035925835504, geom_score=0.8743398517266303), Translation(x=108, y=104, angle=-129.0232050018642, confidence=0.7416786720078995, geom_score=0.8617386135047694), Translation(x=40, y=148, angle=-183.50434461949774, confidence=0.6787995066477258, geom_score=0.8847925547677039)]}, {(11, 14): [Translation(x=-66, y=-217, angle=-106.60461988794981, confidence=0.7866452945811584, geom_score=0.8192738608955142), Translation(x=-46, y=-223, angle=-111.60461988794981, confidence=0.7698172431918466, geom_score=0.7957961025854049), Translation(x=-77, y=245, angle=-161.24762321185793, confidence=0.769742567525101, geom_score=0.8302066773462163), Translation(x=-26, y=-221, angle=-116.60461988794981, confidence=0.7343722849075052, geom_score=0.7977957435625738), Translation(x=-97, y=239, angle=-166.24762321185793, confidence=0.7095640166234455, geom_score=0.8157551498247965), Translation(x=-115, y=231, angle=-171.24762321185793, confidence=0.6457220947224547, geom_score=0.7861423792787452), Translation(x=-58, y=-201, angle=-116.60461988794981, confidence=0.5767095227550673, geom_score=0.8029096747505151)]}, {(11, 15): [Translation(x=157, y=173, angle=-181.76547022572555, confidence=0.7908437549020558, geom_score=0.8165540864164561)]}, {(11, 49): [Translation(x=-93, y=-399, angle=-14.866786392373477, confidence=0.866818920335791, geom_score=0.8691286001430647), Translation(x=-107, y=-385, angle=-9.866786392373477, confidence=0.8634698567912028, geom_score=0.8754267753211373), Translation(x=-121, y=-371, angle=-4.866786392373477, confidence=0.7631591375899945, geom_score=0.82696369873469)]}, {(11, 53): [Translation(x=72, y=186, angle=-15.340523242792884, confidence=0.8116943046335995, geom_score=0.8823692508176367), Translation(x=54, y=206, angle=-25.340523242792884, confidence=0.8080934651138839, geom_score=0.9100573741143809), Translation(x=36, y=216, angle=-30.340523242792884, confidence=0.7648640160140486, geom_score=0.8645106939589159)]}, {(11, 54): [Translation(x=-226, y=-40, angle=-146.04345589978973, confidence=0.8182909715845529, geom_score=0.8264399584584999), Translation(x=-220, y=-60, angle=-151.04345589978973, confidence=0.7956113086896403, geom_score=0.7926928987802139), Translation(x=26, y=224, angle=-11.066490736370447, confidence=0.7898311493594407, geom_score=0.8479410348952047), Translation(x=46, y=224, angle=-6.066490736370447, confidence=0.7647703774788828, geom_score=0.8033992356483065), Translation(x=6, y=230, angle=-16.066490736370447, confidence=0.7523536501058129, geom_score=0.7742005404908723), Translation(x=58, y=275, angle=-52.73772359113124, confidence=0.7231367417068836, geom_score=0.7483557442424921), Translation(x=80, y=277, angle=-52.73772359113124, confidence=0.6960129051923745, geom_score=0.7486167486536007), Translation(x=38, y=281, angle=-57.73772359113124, confidence=0.6495435422930074, geom_score=0.7585704880920209)]}, {(11, 59): [Translation(x=-308, y=-23, angle=-127.48944157037079, confidence=0.7938740698009072, geom_score=0.8206089697718629), Translation(x=-188, y=262, angle=-48.84048798985282, confidence=0.7449144500120062, geom_score=0.7715468777519625), Translation(x=-204, y=248, angle=-48.84048798985282, confidence=0.7261272150929509, geom_score=0.8320705428943893), Translation(x=-306, y=-43, angle=-127.48944157037079, confidence=0.7207871809080932, geom_score=0.7293399783657062), Translation(x=359, y=198, angle=-20.555812569081986, confidence=0.668870116113439, geom_score=0.8509269406633473), Translation(x=367, y=178, angle=-15.555812569081986, confidence=0.6182001716336377, geom_score=0.7902518032515051), Translation(x=371, y=158, angle=-10.555812569081986, confidence=0.5130315438399811, geom_score=0.7317696591958492)]}, {(11, 61): []}, {(11, 65): [Translation(x=178, y=-58, angle=-111.3286345730578, confidence=0.9044877280302399, geom_score=0.9375826364246692), Translation(x=-94, y=152, angle=-47.44635839984194, confidence=0.887672313101368, geom_score=0.9495886764918954), Translation(x=-76, y=166, angle=-37.44635839984194, confidence=0.8350833517109753, geom_score=0.9314949121950702)]}, {(11, 95): [Translation(x=-244, y=-101, angle=-41.18693853959684, confidence=0.7984881965224421, geom_score=0.8568360759255784), Translation(x=-252, y=-83, angle=-36.18693853959684, confidence=0.7853141527943894, geom_score=0.7817624916126874), Translation(x=-248, y=-121, angle=-41.18693853959684, confidence=0.7648048665870903, geom_score=0.7369408344486802), Translation(x=142, y=-115, angle=-74.5964288340848, confidence=0.7615803737375669, geom_score=0.7833555320828482), Translation(x=132, y=-133, angle=-74.5964288340848, confidence=0.7254196613556093, geom_score=0.7270535419710473), Translation(x=-232, y=-141, angle=-51.18693853959684, confidence=0.6559972501164385, geom_score=0.7486846701950356), Translation(x=20, y=299, angle=-118.04500566256718, confidence=0.6427897235511475, geom_score=0.7415974422629104), Translation(x=50, y=305, angle=-108.04500566256718, confidence=0.6383429451670488, geom_score=0.7841261261940753)]}, {(11, 96): [Translation(x=-182, y=-175, angle=-92.01281273631476, confidence=0.6212784461964936, geom_score=0.6283645411878236), Translation(x=-182, y=-155, angle=-92.01281273631476, confidence=0.5048846732622719, geom_score=0.5390858369240248)]}, {(12, 14): [Translation(x=-188, y=-47, angle=-14.234091834515986, confidence=0.7169338725405859, geom_score=0.791814748565827), Translation(x=-166, y=-47, angle=-34.234091834515986, confidence=0.5951014293856749, geom_score=0.8628229751535076), Translation(x=-198, y=-31, angle=-4.234091834515986, confidence=0.5155403826220796, geom_score=0.7751633674201778)]}, {(12, 15): [Translation(x=-113, y=162, angle=-165.0208941560014, confidence=0.8484598869307445, geom_score=0.9094487275366112), Translation(x=-127, y=160, angle=-180.0208941560014, confidence=0.7860167402294687, geom_score=0.8889563704284179)]}, {(12, 49): [Translation(x=97, y=221, angle=-39.25431461920488, confidence=0.8928045133304321, geom_score=0.9099297164697533), Translation(x=52, y=-345, angle=-78.00345451239455, confidence=0.8332655336576889, geom_score=0.901255088588328), Translation(x=66, y=-347, angle=-93.00345451239455, confidence=0.780958607861332, geom_score=0.9053922993696563)]}, {(12, 53): [Translation(x=-52, y=109, angle=-14.83300200429882, confidence=0.921367149176008, geom_score=0.9265679597686576), Translation(x=-125, y=-14, angle=-150.76481462620185, confidence=0.8677521460877311, geom_score=0.868308294326562), Translation(x=105, y=-116, angle=-97.92021313939229, confidence=0.7525061862107275, geom_score=0.8489530552914111), Translation(x=113, y=-102, angle=-112.92021313939229, confidence=0.7190165783387308, geom_score=0.8481015971141119), Translation(x=87, y=-124, angle=-92.92021313939229, confidence=0.7027165926475272, geom_score=0.8465274609620641)]}, {(12, 54): [Translation(x=137, y=-132, angle=-141.90804289476569, confidence=0.9034647593933436, geom_score=0.9112808943029588), Translation(x=149, y=-122, angle=-156.90804289476569, confidence=0.8756563650938479, geom_score=0.863363398830619), Translation(x=33, y=159, angle=-149.90195581327492, confidence=0.8730440003254695, geom_score=0.8962487583180756), Translation(x=187, y=-34, angle=-157.31345418659623, confidence=0.8631274623940546, geom_score=0.8712111775695929), Translation(x=15, y=163, angle=-159.90195581327492, confidence=0.8317512511081003, geom_score=0.8667324677901301)]}, {(12, 59): [Translation(x=-30, y=280, angle=-166.06356044445408, confidence=0.8753611676805874, geom_score=0.9423699036835628), Translation(x=196, y=-16, angle=-127.45149102811942, confidence=0.8732437355880363, geom_score=0.9004769938396073)]}, {(12, 61): [Translation(x=323, y=-71, angle=-142.34005444563553, confidence=0.786537663681625, geom_score=0.8598356756739308), Translation(x=319, y=-85, angle=-127.34005444563553, confidence=0.6851418943588673, geom_score=0.8637927960917261)]}, {(12, 65): [Translation(x=-47, y=113, angle=-186.4903000696883, confidence=0.838513923210928, geom_score=0.8916194204129035), Translation(x=-38, y=-120, angle=-33.87619916416775, confidence=0.8314193107982282, geom_score=0.9031655733387851), Translation(x=-26, y=-126, angle=-48.87619916416775, confidence=0.793714909475676, geom_score=0.8231374407184113), Translation(x=-52, y=-106, angle=-28.87619916416775, confidence=0.7691965523616043, geom_score=0.8153822575455679)]}, {(12, 95): [Translation(x=67, y=-83, angle=-130.64881270462044, confidence=0.8052666268604234, geom_score=0.8390883531753079), Translation(x=57, y=-99, angle=-120.64881270462044, confidence=0.5836707138377868, geom_score=0.7378046433912365)]}, {(12, 96): [Translation(x=95, y=278, angle=-41.355174588002285, confidence=0.8040364812236539, geom_score=0.8549091604357111), Translation(x=87, y=280, angle=-61.355174588002285, confidence=0.7150046477984021, geom_score=0.8403862272585093)]}, {(14, 15): [Translation(x=-141, y=216, angle=-5.442347535352646, confidence=0.81745634366146, geom_score=0.8457598152776629), Translation(x=-123, y=224, angle=-0.4423475353526456, confidence=0.801241452237736, geom_score=0.8388176333993272), Translation(x=-105, y=232, angle=4.557652464647354, confidence=0.7428990383014643, geom_score=0.7386655295682737)]}, {(14, 49): []}, {(14, 53): [Translation(x=-4, y=168, angle=0.0, confidence=0.8120491906222779, geom_score=0.7700808886248193), Translation(x=163, y=-179, angle=-184.80232467665414, confidence=0.8002143737377296, geom_score=0.8241859589523233), Translation(x=14, y=170, angle=10.0, confidence=0.7349982734279329, geom_score=0.6679258115563537), Translation(x=183, y=-173, angle=-184.80232467665414, confidence=0.7167626533836612, geom_score=0.7458100825546277), Translation(x=143, y=-185, angle=-184.80232467665414, confidence=0.7125053084344793, geom_score=0.7009501220486429), Translation(x=-24, y=170, angle=-5.0, confidence=0.6896870885939083, geom_score=0.6174694017096386)]}, {(14, 54): [Translation(x=1, y=196, angle=-31.112090439166955, confidence=0.8714051071953474, geom_score=0.8814836623025954), Translation(x=-19, y=196, angle=-36.112090439166955, confidence=0.8308514610622765, geom_score=0.8452203209026806), Translation(x=-255, y=-51, angle=-26.649418466732186, confidence=0.7374803571542621, geom_score=0.8410251407385664), Translation(x=-255, y=-31, angle=-21.649418466732186, confidence=0.7038660311510515, geom_score=0.8686509296565529)]}, {(14, 59): [Translation(x=162, y=356, angle=-162.65875525227048, confidence=0.8308870314493882, geom_score=0.9300334246109266)]}, {(14, 61): [Translation(x=-296, y=219, angle=-76.41011735353169, confidence=0.9017037268075435, geom_score=0.9144584510539073), Translation(x=-296, y=201, angle=-86.41011735353169, confidence=0.837853691406776, geom_score=0.8382553078521148), Translation(x=-302, y=241, angle=-66.41011735353169, confidence=0.8326657775778311, geom_score=0.8124122183767445), Translation(x=156, y=-253, angle=-176.38310407602486, confidence=0.8091993369525562, geom_score=0.8693505509180627), Translation(x=124, y=398, angle=-52.84467367935984, confidence=0.7975982957347753, geom_score=0.8483372222277605)]}, {(14, 65): [Translation(x=-171, y=-38, angle=-90.47956622478974, confidence=0.8819560756332433, geom_score=0.8992938427424725), Translation(x=-130, y=-168, angle=-96.14004315589393, confidence=0.8563462372839883, geom_score=0.8951893894751225), Translation(x=-181, y=-18, angle=-80.47956622478974, confidence=0.8418376906343195, geom_score=0.8528999560082317), Translation(x=-146, y=-156, angle=-91.14004315589393, confidence=0.8179154072042194, geom_score=0.8475582638867573), Translation(x=-106, y=-180, angle=-106.14004315589393, confidence=0.817913755658401, geom_score=0.8106735691635508), Translation(x=-187, y=2, angle=-70.47956622478974, confidence=0.7839657870203011, geom_score=0.7728637958256894), Translation(x=-148, y=-176, angle=-91.14004315589393, confidence=0.7633044066605033, geom_score=0.7797312359391164)]}, {(14, 95): [Translation(x=153, y=250, angle=-68.13763529119515, confidence=0.5623644643840678, geom_score=0.5839351836126317)]}, {(14, 96): [Translation(x=-161, y=-174, angle=-112.99014528593773, confidence=0.7754891411158267, geom_score=0.8332946803385544), Translation(x=-196, y=-239, angle=-77.79203477667761, confidence=0.7388475910673227, geom_score=0.8207247386322499), Translation(x=-165, y=-194, angle=-112.99014528593773, confidence=0.7160175229537126, geom_score=0.7360828646842632), Translation(x=-204, y=-221, angle=-67.79203477667761, confidence=0.706862076056032, geom_score=0.8151500195831355), Translation(x=-198, y=-259, angle=-77.79203477667761, confidence=0.6540642564293357, geom_score=0.6792835781136563), Translation(x=269, y=-7, angle=-88.86179324044757, confidence=0.6224706454075328, geom_score=0.7255493191850431), Translation(x=-179, y=-178, angle=-102.99014528593773, confidence=0.5927400903907485, geom_score=0.6241895641187019)]}, {(15, 49): [Translation(x=102, y=-419, angle=-13.371982843163195, confidence=0.8134403875485763, geom_score=0.780965146097), Translation(x=82, y=-419, angle=-8.371982843163195, confidence=0.8014522565246105, geom_score=0.7645524254919553), Translation(x=-160, y=-358, angle=-147.15649268207528, confidence=0.7522047590965797, geom_score=0.7698228145060978), Translation(x=122, y=-415, angle=-18.371982843163195, confidence=0.7493696860625948, geom_score=0.7498340046214075), Translation(x=-203, y=292, angle=-50.52268893704269, confidence=0.7203525721894783, geom_score=0.7672384018750334), Translation(x=-183, y=306, angle=-50.52268893704269, confidence=0.6798738958628802, geom_score=0.80709960485204), Translation(x=-178, y=-348, angle=-152.15649268207528, confidence=0.5156481784679485, geom_score=0.7546143748757854)]}, {(15, 53): [Translation(x=227, y=93, angle=-31.170448614738874, confidence=0.8191280159647274, geom_score=0.9061459395362982), Translation(x=237, y=75, angle=-26.170448614738874, confidence=0.775220680976783, geom_score=0.8856946024339344), Translation(x=31, y=229, angle=-92.33774433923391, confidence=0.7317100860375576, geom_score=0.8396902571310202), Translation(x=63, y=213, angle=-87.33774433923391, confidence=0.7112906773336513, geom_score=0.8389213696967356), Translation(x=81, y=211, angle=-77.33774433923391, confidence=0.5545304029113606, geom_score=0.8469542997014089)]}, {(15, 54): [Translation(x=-136, y=-108, angle=-0.37563536893232197, confidence=0.7367015193831055, geom_score=0.8625242679995779), Translation(x=-154, y=246, angle=-105.02288578181445, confidence=0.6601941392188421, geom_score=0.8395024484917432), Translation(x=-134, y=254, angle=-105.02288578181445, confidence=0.5544726153884745, geom_score=0.7195870004365446)]}, {(15, 59): []}, {(15, 61): [Translation(x=138, y=-256, angle=0.0, confidence=0.8571534204624011, geom_score=0.9234171454186901), Translation(x=216, y=417, angle=-141.6407691788012, confidence=0.853275107499079, geom_score=0.8977893232456029)]}, {(15, 65): [Translation(x=239, y=44, angle=-4.06163010565102, confidence=0.7906759471800111, geom_score=0.8448260537788027), Translation(x=231, y=20, angle=0.9383698943489804, confidence=0.7336451095044347, geom_score=0.9125399918221856), Translation(x=231, y=-2, angle=5.93836989434898, confidence=0.6860846312624188, geom_score=0.8529283738309871)]}, {(15, 95): [Translation(x=240, y=-27, angle=-36.76702648257268, confidence=0.625733363429105, geom_score=0.600263937638385)]}, {(15, 96): [Translation(x=-262, y=157, angle=-23.828203432327093, confidence=0.8001824631105999, geom_score=0.9135895313544726), Translation(x=-270, y=133, angle=-33.82820343232709, confidence=0.795425581646018, geom_score=0.8496680318502207), Translation(x=-260, y=177, angle=-18.828203432327093, confidence=0.7404631830863299, geom_score=0.86591603554964), Translation(x=86, y=366, angle=-165.0, confidence=0.7150503151571515, geom_score=0.8604162741511473), Translation(x=68, y=372, angle=-175.0, confidence=0.6750776150435028, geom_score=0.8558944236220436), Translation(x=93, y=-376, angle=-169.74886336232808, confidence=0.6656141452720151, geom_score=0.8401718653816411)]}, {(49, 53): [Translation(x=-213, y=-38, angle=-3.033928196879131, confidence=0.8877410720165425, geom_score=0.9132839853839584), Translation(x=-363, y=-145, angle=-118.13127952883335, confidence=0.8280485019483106, geom_score=0.8488502192303752), Translation(x=-375, y=-121, angle=-113.13127952883335, confidence=0.824376262694601, geom_score=0.8106613916398754), Translation(x=-351, y=-165, angle=-123.13127952883335, confidence=0.7710961954213145, geom_score=0.8295387243527393)]}, {(49, 54): [Translation(x=-156, y=-210, angle=-5.0, confidence=0.880280673452729, geom_score=0.8819138725689923), Translation(x=-174, y=-202, angle=0.0, confidence=0.8611482119523342, geom_score=0.8809890025666967), Translation(x=123, y=-373, angle=-122.32041333973262, confidence=0.8499563152300118, geom_score=0.8422704728002542), Translation(x=-192, y=-194, angle=5.0, confidence=0.821860306519489, geom_score=0.8536603754846235)]}, {(49, 59): []}, {(49, 61): []}, {(49, 65): [Translation(x=174, y=-183, angle=-143.06932178249667, confidence=0.8966792497323031, geom_score=0.9375441476390297), Translation(x=196, y=-171, angle=-148.06932178249667, confidence=0.8880942799237198, geom_score=0.8981137141208628), Translation(x=156, y=-191, angle=-138.06932178249667, confidence=0.8683400171682528, geom_score=0.9006961603058025), Translation(x=136, y=-195, angle=-133.06932178249667, confidence=0.8462044164590482, geom_score=0.8733844884975019), Translation(x=-104, y=-167, angle=-24.36552886332177, confidence=0.83649116006245, geom_score=0.8932726666008717)]}, {(49, 95): []}, {(49, 96): []}, {(53, 54): [Translation(x=42, y=169, angle=-185.0, confidence=0.8898722984105232, geom_score=0.8791735614890195), Translation(x=58, y=-171, angle=-4.276881878494688, confidence=0.857872674453891, geom_score=0.8303715257154791), Translation(x=-23, y=210, angle=-65.7844625903737, confidence=0.8531333896665165, geom_score=0.8754086503251731), Translation(x=60, y=169, angle=-175.0, confidence=0.84821722651183, geom_score=0.8218500832960017), Translation(x=-43, y=206, angle=-70.7844625903737, confidence=0.8375056308593334, geom_score=0.8295439977067934), Translation(x=-3, y=212, angle=-60.78446259037371, confidence=0.7962189953839179, geom_score=0.8400611058207565)]}, {(53, 59): [Translation(x=-214, y=215, angle=-26.503839554344886, confidence=0.8484632297984667, geom_score=0.8675264498639369), Translation(x=244, y=-9, angle=-59.99603186395247, confidence=0.7945982385307567, geom_score=0.7580924145520017), Translation(x=-44, y=337, angle=-15.668750160087814, confidence=0.7787205571569868, geom_score=0.8316676551076211), Translation(x=252, y=11, angle=-64.99603186395247, confidence=0.7759855088114167, geom_score=0.7409642627594213), Translation(x=-232, y=207, angle=-31.503839554344886, confidence=0.7545889961775782, geom_score=0.7591941465988306), Translation(x=-64, y=329, angle=-10.668750160087814, confidence=0.7170786234665503, geom_score=0.7670920701321933), Translation(x=-26, y=347, angle=-10.668750160087814, confidence=0.6825717375483108, geom_score=0.7388529468300674)]}, {(53, 61): [Translation(x=-288, y=81, angle=-4.579721900574633, confidence=0.7788716795802247, geom_score=0.7739434295719767), Translation(x=-306, y=79, angle=-14.579721900574633, confidence=0.6901156661325275, geom_score=0.6655962831695851)]}, {(53, 65): [Translation(x=-140, y=-69, angle=-94.62444492995755, confidence=0.9158756958405203, geom_score=0.926242867613463), Translation(x=-130, y=-85, angle=-104.62444492995755, confidence=0.8856661814321083, geom_score=0.9004802432460758), Translation(x=-148, y=-51, angle=-89.62444492995755, confidence=0.8679133942245162, geom_score=0.8575191457189769)]}, {(53, 95): [Translation(x=-201, y=-16, angle=-70.16171649930666, confidence=0.874690710479579, geom_score=0.9204829664201557), Translation(x=-197, y=2, angle=-148.0903675308584, confidence=0.8438196104487743, geom_score=0.8635319805829299), Translation(x=-199, y=2, angle=-60.161716499306664, confidence=0.8332867722343624, geom_score=0.8562963372765668), Translation(x=126, y=130, angle=-150.93449056742853, confidence=0.7169079549511054, geom_score=0.859682698683235), Translation(x=-201, y=-16, angle=-158.0903675308584, confidence=0.7032317500379262, geom_score=0.8380012273569912)]}, {(53, 96): [Translation(x=-170, y=-164, angle=-63.696141662378594, confidence=0.7528130977647471, geom_score=0.8425917949709163), Translation(x=-176, y=-184, angle=-73.6961416623786, confidence=0.6979168863562064, geom_score=0.7109011200880551), Translation(x=-182, y=-150, angle=-53.696141662378594, confidence=0.5961782749944169, geom_score=0.5935798461283525)]}, {(54, 59): [Translation(x=258, y=-91, angle=-168.74842386523096, confidence=0.8989324768332533, geom_score=0.9139236169939873), Translation(x=274, y=-77, angle=-173.74842386523096, confidence=0.8575916167465023, geom_score=0.8394322725085113), Translation(x=246, y=-105, angle=-158.74842386523096, confidence=0.8347874465086378, geom_score=0.8271878481893581)]}, {(54, 61): [Translation(x=379, y=85, angle=0.8182460859194762, confidence=0.6503190815428638, geom_score=0.6854887927329575), Translation(x=132, y=-263, angle=-180.0, confidence=0.5011576471655945, geom_score=0.636257085481559)]}, {(54, 65): [Translation(x=-65, y=131, angle=-85.55092944649967, confidence=0.8579593076369233, geom_score=0.8468071618067778), Translation(x=-81, y=117, angle=-95.55092944649967, confidence=0.8481948826011221, geom_score=0.852466672188603), Translation(x=-51, y=143, angle=-75.55092944649967, confidence=0.7899492635681623, geom_score=0.7359371593850036), Translation(x=-83, y=137, angle=-95.55092944649967, confidence=0.759817326845503, geom_score=0.7175767278928685)]}, {(54, 95): [Translation(x=-201, y=-96, angle=-105.08631932554381, confidence=0.8966933043316242, geom_score=0.9283270869635013), Translation(x=-209, y=-78, angle=-100.08631932554381, confidence=0.8629773995637184, geom_score=0.8482719790563723)]}, {(54, 96): [Translation(x=182, y=273, angle=-8.708650029757692, confidence=0.7845076652956008, geom_score=0.8510179505179939), Translation(x=186, y=255, angle=1.2913499702423081, confidence=0.7528016561921554, geom_score=0.7693402041331442), Translation(x=170, y=291, angle=-13.708650029757692, confidence=0.7289557424006669, geom_score=0.7780917466551244)]}, {(59, 61): [Translation(x=390, y=291, angle=0.0, confidence=0.7719340180348663, geom_score=0.9007925196398475)]}, {(59, 65): []}, {(59, 95): [Translation(x=208, y=-168, angle=0.0, confidence=0.8673334365345127, geom_score=0.9173446254349373), Translation(x=224, y=-156, angle=-5.0, confidence=0.8175715424038044, geom_score=0.8235144259040872)]}, {(59, 96): []}, {(61, 65): [Translation(x=333, y=-69, angle=-24.206624003104878, confidence=0.9180879917167836, geom_score=0.921391085107389)]}, {(61, 95): [Translation(x=313, y=258, angle=-79.67275628168859, confidence=0.5098325023399699, geom_score=0.7110831694094276)]}, {(61, 96): []}, {(65, 95): [Translation(x=-161, y=-28, angle=-143.6025386854906, confidence=0.9083291793994477, geom_score=0.9301469132719387), Translation(x=117, y=-70, angle=-8.207110157821582, confidence=0.8930751520285211, geom_score=0.9365467833551974), Translation(x=105, y=-84, angle=1.7928898421784183, confidence=0.8510860868930911, geom_score=0.8736494601868144), Translation(x=127, y=136, angle=-38.755523275659506, confidence=0.7544913079353271, geom_score=0.8672823796178237)]}, {(65, 96): [Translation(x=-138, y=-162, angle=2.4558232180944586, confidence=0.9171361929260947, geom_score=0.9470249838925288)]}, {(95, 96): [Translation(x=238, y=-78, angle=0.0, confidence=0.8848368866648145, geom_score=0.9343165092093351), Translation(x=-200, y=-252, angle=-171.98434559092715, confidence=0.8541334754165684, geom_score=0.8582238141688157)]}]\n"
     ]
    }
   ],
   "source": [
    "print(list(out_generator))"
   ]
  },
  {
   "cell_type": "code",
   "execution_count": 16,
   "id": "7fa9627d",
   "metadata": {},
   "outputs": [],
   "source": [
    "alignments = {}\n",
    "for res in out_generator:\n",
    "    alignments.update(res)"
   ]
  },
  {
   "cell_type": "code",
   "execution_count": 18,
   "id": "20845799",
   "metadata": {},
   "outputs": [
    {
     "name": "stdout",
     "output_type": "stream",
     "text": [
      "Length: 5\n",
      "Length: 4\n",
      "Length: 5\n",
      "Length: 6\n",
      "Length: 2\n",
      "Length: 0\n",
      "Length: 5\n",
      "Length: 4\n",
      "Length: 5\n",
      "Length: 3\n",
      "Length: 1\n",
      "Length: 2\n",
      "Length: 3\n",
      "Length: 3\n",
      "Length: 0\n",
      "Length: 4\n",
      "Length: 2\n",
      "Length: 2\n",
      "Length: 5\n",
      "Length: 2\n",
      "Length: 6\n",
      "Length: 1\n",
      "Length: 4\n",
      "Length: 5\n",
      "Length: 3\n",
      "Length: 4\n",
      "Length: 3\n",
      "Length: 4\n",
      "Length: 4\n",
      "Length: 4\n",
      "Length: 2\n",
      "Length: 3\n",
      "Length: 1\n",
      "Length: 4\n",
      "Length: 6\n",
      "Length: 1\n",
      "Length: 2\n",
      "Length: 2\n",
      "Length: 2\n",
      "Length: 2\n",
      "Length: 2\n",
      "Length: 3\n",
      "Length: 3\n",
      "Length: 0\n",
      "Length: 4\n",
      "Length: 4\n",
      "Length: 3\n",
      "Length: 1\n",
      "Length: 2\n",
      "Length: 1\n",
      "Length: 4\n",
      "Length: 2\n",
      "Length: 0\n",
      "Length: 3\n",
      "Length: 2\n",
      "Length: 5\n",
      "Length: 2\n",
      "Length: 3\n",
      "Length: 2\n",
      "Length: 2\n",
      "Length: 3\n",
      "Length: 1\n",
      "Length: 4\n",
      "Length: 5\n",
      "Length: 0\n",
      "Length: 2\n",
      "Length: 3\n",
      "Length: 1\n",
      "Length: 2\n",
      "Length: 2\n",
      "Length: 0\n",
      "Length: 3\n",
      "Length: 2\n",
      "Length: 4\n",
      "Length: 2\n",
      "Length: 1\n",
      "Length: 0\n",
      "Length: 3\n",
      "Length: 2\n",
      "Length: 1\n",
      "Length: 4\n",
      "Length: 3\n",
      "Length: 6\n",
      "Length: 4\n",
      "Length: 3\n",
      "Length: 1\n",
      "Length: 4\n",
      "Length: 6\n",
      "Length: 3\n",
      "Length: 2\n",
      "Length: 1\n",
      "Length: 4\n",
      "Length: 1\n",
      "Length: 1\n",
      "Length: 3\n",
      "Length: 1\n",
      "Length: 2\n",
      "Length: 7\n",
      "Length: 1\n",
      "Length: 1\n",
      "Length: 4\n",
      "Length: 3\n",
      "Length: 5\n",
      "Length: 5\n",
      "Length: 2\n",
      "Length: 4\n",
      "Length: 7\n",
      "Length: 1\n",
      "Length: 3\n",
      "Length: 3\n",
      "Length: 8\n",
      "Length: 7\n",
      "Length: 0\n",
      "Length: 3\n",
      "Length: 8\n",
      "Length: 2\n",
      "Length: 3\n",
      "Length: 2\n",
      "Length: 3\n",
      "Length: 5\n",
      "Length: 5\n",
      "Length: 2\n",
      "Length: 2\n",
      "Length: 4\n",
      "Length: 2\n",
      "Length: 2\n",
      "Length: 3\n",
      "Length: 0\n",
      "Length: 6\n",
      "Length: 4\n",
      "Length: 1\n",
      "Length: 5\n",
      "Length: 7\n",
      "Length: 1\n",
      "Length: 7\n",
      "Length: 7\n",
      "Length: 5\n",
      "Length: 3\n",
      "Length: 0\n",
      "Length: 2\n",
      "Length: 3\n",
      "Length: 1\n",
      "Length: 6\n",
      "Length: 4\n",
      "Length: 4\n",
      "Length: 0\n",
      "Length: 0\n",
      "Length: 5\n",
      "Length: 0\n",
      "Length: 0\n",
      "Length: 6\n",
      "Length: 7\n",
      "Length: 2\n",
      "Length: 3\n",
      "Length: 5\n",
      "Length: 3\n",
      "Length: 3\n",
      "Length: 2\n",
      "Length: 4\n",
      "Length: 2\n",
      "Length: 3\n",
      "Length: 1\n",
      "Length: 0\n",
      "Length: 2\n",
      "Length: 0\n",
      "Length: 1\n",
      "Length: 1\n",
      "Length: 0\n",
      "Length: 4\n",
      "Length: 1\n",
      "Length: 2\n"
     ]
    }
   ],
   "source": [
    "aligns = {}\n",
    "for i in range(len(frag_nums)):\n",
    "    for j in range(i + 1, len(frag_nums)):\n",
    "#                 aligns += self.align_two_fragments(frag_nums[i], frag_nums[j])\n",
    "#                 print(f\"Aligning {frag_nums[i]} and {frag_nums[j]}\")\n",
    "\n",
    "#         if json_dict is not None:\n",
    "#             if f\"{frag_nums[i]}_{frag_nums[j]}\" in json_dict:\n",
    "#                 continue\n",
    "#         translations = self.align_two_fragments_by_idx(frag_nums[i], frag_nums[j])\n",
    "\n",
    "        translations = alignments[(frag_nums[i], frag_nums[j])]\n",
    "        print(f\"Length: {len(translations)}\")\n",
    "\n",
    "        pair_aligns = []\n",
    "        for tr in translations:\n",
    "            pair_aligns.append({\n",
    "                'x': tr.x,\n",
    "                'y': tr.y,\n",
    "                'angle': tr.angle,\n",
    "                'confidence': tr.confidence,\n",
    "                'geom_score': tr.geom_score\n",
    "            })\n",
    "\n",
    "        aligns[f\"{frag_nums[i]}_{frag_nums[j]}\"] = pair_aligns\n",
    "with open('alignments/alignments2.json', 'w') as f:\n",
    "    json.dump(aligns, f)"
   ]
  },
  {
   "cell_type": "code",
   "execution_count": 13,
   "id": "1be347fd",
   "metadata": {},
   "outputs": [
    {
     "name": "stdout",
     "output_type": "stream",
     "text": [
      "10478.2162835598\n"
     ]
    }
   ],
   "source": [
    "print(time.time() - start_time)"
   ]
  },
  {
   "cell_type": "code",
   "execution_count": 23,
   "id": "ddf95c8c",
   "metadata": {
    "scrolled": true
   },
   "outputs": [
    {
     "name": "stdout",
     "output_type": "stream",
     "text": [
      "Aligning 3 and 5\n",
      "new diag score is estimated\n"
     ]
    },
    {
     "name": "stderr",
     "output_type": "stream",
     "text": [
      "100%|██████████████████████████████████████████████████████████████████████████████| 1818/1818 [00:03<00:00, 567.39it/s]\n"
     ]
    },
    {
     "name": "stdout",
     "output_type": "stream",
     "text": [
      "17\n",
      "5\n",
      "theta = -136.16286469046284, x_initial = 34, y_initial = 152\n"
     ]
    },
    {
     "name": "stderr",
     "output_type": "stream",
     "text": [
      "100%|████████████████████████████████████████████████████████████████████████████████| 121/121 [00:00<00:00, 279.82it/s]\n",
      "100%|███████████████████████████████████████████████████████████████████████████████████| 90/90 [00:01<00:00, 52.07it/s]\n",
      "100%|████████████████████████████████████████████████████████████████████████████████| 121/121 [00:00<00:00, 292.57it/s]\n",
      "100%|█████████████████████████████████████████████████████████████████████████████████| 162/162 [00:02<00:00, 58.34it/s]\n",
      "100%|████████████████████████████████████████████████████████████████████████████████| 121/121 [00:00<00:00, 286.24it/s]\n",
      "100%|█████████████████████████████████████████████████████████████████████████████████| 171/171 [00:03<00:00, 48.77it/s]\n",
      "100%|████████████████████████████████████████████████████████████████████████████████| 121/121 [00:00<00:00, 304.77it/s]\n",
      "100%|█████████████████████████████████████████████████████████████████████████████████| 234/234 [00:04<00:00, 56.41it/s]\n",
      "100%|████████████████████████████████████████████████████████████████████████████████| 121/121 [00:00<00:00, 308.01it/s]\n",
      "100%|█████████████████████████████████████████████████████████████████████████████████| 207/207 [00:03<00:00, 57.37it/s]\n",
      "100%|████████████████████████████████████████████████████████████████████████████████| 121/121 [00:00<00:00, 305.99it/s]\n",
      "100%|█████████████████████████████████████████████████████████████████████████████████| 153/153 [00:02<00:00, 55.48it/s]\n",
      "100%|████████████████████████████████████████████████████████████████████████████████| 121/121 [00:00<00:00, 308.09it/s]\n",
      "100%|█████████████████████████████████████████████████████████████████████████████████| 135/135 [00:02<00:00, 57.48it/s]\n"
     ]
    },
    {
     "name": "stdout",
     "output_type": "stream",
     "text": [
      "theta = -140.60599656178593, x_initial = -162, y_initial = -87\n"
     ]
    },
    {
     "name": "stderr",
     "output_type": "stream",
     "text": [
      "100%|████████████████████████████████████████████████████████████████████████████████| 121/121 [00:00<00:00, 276.39it/s]\n",
      "0it [00:00, ?it/s]\n",
      "100%|████████████████████████████████████████████████████████████████████████████████| 121/121 [00:00<00:00, 279.78it/s]\n",
      "100%|███████████████████████████████████████████████████████████████████████████████████| 81/81 [00:01<00:00, 61.18it/s]\n",
      "100%|████████████████████████████████████████████████████████████████████████████████| 121/121 [00:00<00:00, 230.69it/s]\n",
      "100%|█████████████████████████████████████████████████████████████████████████████████| 135/135 [00:02<00:00, 57.46it/s]\n",
      "100%|████████████████████████████████████████████████████████████████████████████████| 121/121 [00:00<00:00, 260.42it/s]\n",
      "100%|█████████████████████████████████████████████████████████████████████████████████| 216/216 [00:03<00:00, 54.20it/s]\n",
      "100%|████████████████████████████████████████████████████████████████████████████████| 121/121 [00:00<00:00, 243.52it/s]\n",
      "100%|█████████████████████████████████████████████████████████████████████████████████| 198/198 [00:03<00:00, 51.21it/s]\n",
      "100%|████████████████████████████████████████████████████████████████████████████████| 121/121 [00:00<00:00, 262.86it/s]\n",
      "100%|█████████████████████████████████████████████████████████████████████████████████| 135/135 [00:02<00:00, 54.88it/s]\n",
      "100%|████████████████████████████████████████████████████████████████████████████████| 121/121 [00:00<00:00, 263.82it/s]\n",
      "100%|█████████████████████████████████████████████████████████████████████████████████| 108/108 [00:01<00:00, 58.14it/s]\n"
     ]
    },
    {
     "name": "stdout",
     "output_type": "stream",
     "text": [
      "theta = -117.66342121351923, x_initial = -20, y_initial = 141\n"
     ]
    },
    {
     "name": "stderr",
     "output_type": "stream",
     "text": [
      "100%|████████████████████████████████████████████████████████████████████████████████| 121/121 [00:00<00:00, 285.15it/s]\n",
      "100%|█████████████████████████████████████████████████████████████████████████████████| 144/144 [00:02<00:00, 55.52it/s]\n",
      "100%|████████████████████████████████████████████████████████████████████████████████| 121/121 [00:00<00:00, 295.22it/s]\n",
      "100%|█████████████████████████████████████████████████████████████████████████████████| 153/153 [00:02<00:00, 52.81it/s]\n",
      "100%|████████████████████████████████████████████████████████████████████████████████| 121/121 [00:00<00:00, 292.63it/s]\n",
      "100%|███████████████████████████████████████████████████████████████████████████████████| 90/90 [00:01<00:00, 55.35it/s]\n",
      "100%|████████████████████████████████████████████████████████████████████████████████| 121/121 [00:00<00:00, 280.00it/s]\n",
      "100%|███████████████████████████████████████████████████████████████████████████████████| 36/36 [00:00<00:00, 58.12it/s]\n",
      "100%|████████████████████████████████████████████████████████████████████████████████| 121/121 [00:00<00:00, 299.57it/s]\n",
      "0it [00:00, ?it/s]\n",
      "100%|████████████████████████████████████████████████████████████████████████████████| 121/121 [00:00<00:00, 300.29it/s]\n",
      "0it [00:00, ?it/s]\n",
      "100%|████████████████████████████████████████████████████████████████████████████████| 121/121 [00:00<00:00, 297.38it/s]\n",
      "0it [00:00, ?it/s]\n"
     ]
    },
    {
     "name": "stdout",
     "output_type": "stream",
     "text": [
      "theta = -128.5743314045058, x_initial = -108, y_initial = -146\n"
     ]
    },
    {
     "name": "stderr",
     "output_type": "stream",
     "text": [
      "100%|████████████████████████████████████████████████████████████████████████████████| 121/121 [00:00<00:00, 272.38it/s]\n",
      "0it [00:00, ?it/s]\n",
      "100%|████████████████████████████████████████████████████████████████████████████████| 121/121 [00:00<00:00, 232.66it/s]\n",
      "0it [00:00, ?it/s]\n",
      "100%|████████████████████████████████████████████████████████████████████████████████| 121/121 [00:00<00:00, 248.34it/s]\n",
      "0it [00:00, ?it/s]\n",
      "100%|████████████████████████████████████████████████████████████████████████████████| 121/121 [00:00<00:00, 249.13it/s]\n",
      "0it [00:00, ?it/s]\n",
      "100%|████████████████████████████████████████████████████████████████████████████████| 121/121 [00:00<00:00, 214.55it/s]\n",
      "0it [00:00, ?it/s]\n",
      "100%|████████████████████████████████████████████████████████████████████████████████| 121/121 [00:00<00:00, 193.19it/s]\n",
      "0it [00:00, ?it/s]\n",
      "100%|████████████████████████████████████████████████████████████████████████████████| 121/121 [00:00<00:00, 264.24it/s]\n",
      "0it [00:00, ?it/s]\n"
     ]
    },
    {
     "name": "stdout",
     "output_type": "stream",
     "text": [
      "Too far translations filtered out: 2016\n",
      "Alignment time: 65.73392939567566\n",
      "Length: 5\n",
      "Aligning 3 and 6\n",
      "new diag score is estimated\n"
     ]
    },
    {
     "name": "stderr",
     "output_type": "stream",
     "text": [
      "100%|██████████████████████████████████████████████████████████████████████████████| 1818/1818 [00:03<00:00, 486.82it/s]\n"
     ]
    },
    {
     "name": "stdout",
     "output_type": "stream",
     "text": [
      "14\n",
      "5\n",
      "theta = -55.796757903889336, x_initial = 168, y_initial = 55\n"
     ]
    },
    {
     "name": "stderr",
     "output_type": "stream",
     "text": [
      "100%|████████████████████████████████████████████████████████████████████████████████| 121/121 [00:00<00:00, 291.75it/s]\n",
      "0it [00:00, ?it/s]\n",
      "100%|████████████████████████████████████████████████████████████████████████████████| 121/121 [00:00<00:00, 276.53it/s]\n",
      "0it [00:00, ?it/s]\n",
      "100%|████████████████████████████████████████████████████████████████████████████████| 121/121 [00:00<00:00, 228.17it/s]\n",
      "0it [00:00, ?it/s]\n",
      "100%|████████████████████████████████████████████████████████████████████████████████| 121/121 [00:00<00:00, 246.64it/s]\n",
      "0it [00:00, ?it/s]\n",
      "100%|████████████████████████████████████████████████████████████████████████████████| 121/121 [00:00<00:00, 256.72it/s]\n",
      "0it [00:00, ?it/s]\n",
      "100%|████████████████████████████████████████████████████████████████████████████████| 121/121 [00:00<00:00, 269.27it/s]\n",
      "0it [00:00, ?it/s]\n",
      "100%|████████████████████████████████████████████████████████████████████████████████| 121/121 [00:00<00:00, 286.31it/s]\n",
      "0it [00:00, ?it/s]\n"
     ]
    },
    {
     "name": "stdout",
     "output_type": "stream",
     "text": [
      "theta = -115.00146970233826, x_initial = -162, y_initial = -85\n"
     ]
    },
    {
     "name": "stderr",
     "output_type": "stream",
     "text": [
      "100%|████████████████████████████████████████████████████████████████████████████████| 121/121 [00:00<00:00, 280.33it/s]\n",
      "100%|███████████████████████████████████████████████████████████████████████████████████| 90/90 [00:01<00:00, 50.25it/s]\n",
      "100%|████████████████████████████████████████████████████████████████████████████████| 121/121 [00:00<00:00, 267.36it/s]\n",
      "100%|█████████████████████████████████████████████████████████████████████████████████| 117/117 [00:02<00:00, 49.17it/s]\n",
      "100%|████████████████████████████████████████████████████████████████████████████████| 121/121 [00:00<00:00, 275.91it/s]\n",
      "100%|█████████████████████████████████████████████████████████████████████████████████| 144/144 [00:03<00:00, 43.00it/s]\n",
      "100%|████████████████████████████████████████████████████████████████████████████████| 121/121 [00:00<00:00, 227.35it/s]\n",
      "100%|█████████████████████████████████████████████████████████████████████████████████| 180/180 [00:03<00:00, 50.55it/s]\n",
      "100%|████████████████████████████████████████████████████████████████████████████████| 121/121 [00:00<00:00, 237.71it/s]\n",
      "100%|█████████████████████████████████████████████████████████████████████████████████| 216/216 [00:04<00:00, 50.52it/s]\n",
      "100%|████████████████████████████████████████████████████████████████████████████████| 121/121 [00:00<00:00, 216.85it/s]\n",
      "100%|█████████████████████████████████████████████████████████████████████████████████| 153/153 [00:03<00:00, 48.23it/s]\n",
      "100%|████████████████████████████████████████████████████████████████████████████████| 121/121 [00:00<00:00, 205.03it/s]\n",
      "100%|█████████████████████████████████████████████████████████████████████████████████| 144/144 [00:02<00:00, 49.38it/s]\n"
     ]
    },
    {
     "name": "stdout",
     "output_type": "stream",
     "text": [
      "theta = -69.72882633717774, x_initial = 113, y_initial = 40\n"
     ]
    },
    {
     "name": "stderr",
     "output_type": "stream",
     "text": [
      "100%|████████████████████████████████████████████████████████████████████████████████| 121/121 [00:00<00:00, 294.59it/s]\n",
      "100%|███████████████████████████████████████████████████████████████████████████████████| 36/36 [00:00<00:00, 75.07it/s]\n",
      "100%|████████████████████████████████████████████████████████████████████████████████| 121/121 [00:00<00:00, 287.07it/s]\n",
      "100%|███████████████████████████████████████████████████████████████████████████████████| 81/81 [00:01<00:00, 54.73it/s]\n",
      "100%|████████████████████████████████████████████████████████████████████████████████| 121/121 [00:00<00:00, 255.25it/s]\n",
      "100%|█████████████████████████████████████████████████████████████████████████████████| 153/153 [00:02<00:00, 55.38it/s]\n",
      "100%|████████████████████████████████████████████████████████████████████████████████| 121/121 [00:00<00:00, 280.30it/s]\n",
      "100%|█████████████████████████████████████████████████████████████████████████████████| 198/198 [00:03<00:00, 53.75it/s]\n",
      "100%|████████████████████████████████████████████████████████████████████████████████| 121/121 [00:00<00:00, 282.64it/s]\n",
      "100%|█████████████████████████████████████████████████████████████████████████████████| 207/207 [00:03<00:00, 54.90it/s]\n",
      "100%|████████████████████████████████████████████████████████████████████████████████| 121/121 [00:00<00:00, 284.32it/s]\n",
      "100%|█████████████████████████████████████████████████████████████████████████████████| 171/171 [00:03<00:00, 54.27it/s]\n",
      "100%|████████████████████████████████████████████████████████████████████████████████| 121/121 [00:00<00:00, 289.85it/s]\n",
      "100%|███████████████████████████████████████████████████████████████████████████████████| 54/54 [00:00<00:00, 57.13it/s]\n"
     ]
    },
    {
     "name": "stdout",
     "output_type": "stream",
     "text": [
      "theta = -116.6331187491559, x_initial = -90, y_initial = -135\n"
     ]
    },
    {
     "name": "stderr",
     "output_type": "stream",
     "text": [
      "100%|████████████████████████████████████████████████████████████████████████████████| 121/121 [00:00<00:00, 275.37it/s]\n",
      "0it [00:00, ?it/s]\n",
      "100%|████████████████████████████████████████████████████████████████████████████████| 121/121 [00:00<00:00, 273.23it/s]\n",
      "0it [00:00, ?it/s]\n",
      "100%|████████████████████████████████████████████████████████████████████████████████| 121/121 [00:00<00:00, 269.48it/s]\n",
      "0it [00:00, ?it/s]\n",
      "100%|████████████████████████████████████████████████████████████████████████████████| 121/121 [00:00<00:00, 273.82it/s]\n",
      "0it [00:00, ?it/s]\n",
      "100%|████████████████████████████████████████████████████████████████████████████████| 121/121 [00:00<00:00, 274.27it/s]\n",
      "0it [00:00, ?it/s]\n",
      "100%|████████████████████████████████████████████████████████████████████████████████| 121/121 [00:00<00:00, 275.59it/s]\n",
      "0it [00:00, ?it/s]\n",
      "100%|████████████████████████████████████████████████████████████████████████████████| 121/121 [00:00<00:00, 274.62it/s]\n",
      "0it [00:00, ?it/s]\n"
     ]
    },
    {
     "name": "stdout",
     "output_type": "stream",
     "text": [
      "Too far translations filtered out: 1474\n",
      "Alignment time: 59.46277737617493\n",
      "Length: 4\n",
      "Aligning 3 and 7\n",
      "new diag score is estimated\n"
     ]
    },
    {
     "name": "stderr",
     "output_type": "stream",
     "text": [
      "100%|██████████████████████████████████████████████████████████████████████████████| 1818/1818 [00:07<00:00, 236.88it/s]\n"
     ]
    },
    {
     "name": "stdout",
     "output_type": "stream",
     "text": [
      "4\n",
      "3\n",
      "theta = -56.22134486293237, x_initial = 205, y_initial = 100\n"
     ]
    },
    {
     "name": "stderr",
     "output_type": "stream",
     "text": [
      "100%|████████████████████████████████████████████████████████████████████████████████| 121/121 [00:00<00:00, 224.56it/s]\n",
      "0it [00:00, ?it/s]\n",
      "100%|████████████████████████████████████████████████████████████████████████████████| 121/121 [00:00<00:00, 220.59it/s]\n",
      "0it [00:00, ?it/s]\n",
      "100%|████████████████████████████████████████████████████████████████████████████████| 121/121 [00:00<00:00, 225.31it/s]\n",
      "0it [00:00, ?it/s]\n",
      "100%|████████████████████████████████████████████████████████████████████████████████| 121/121 [00:00<00:00, 213.83it/s]\n",
      "0it [00:00, ?it/s]\n",
      "100%|████████████████████████████████████████████████████████████████████████████████| 121/121 [00:00<00:00, 226.98it/s]\n",
      "0it [00:00, ?it/s]\n",
      "100%|████████████████████████████████████████████████████████████████████████████████| 121/121 [00:00<00:00, 229.41it/s]\n",
      "0it [00:00, ?it/s]\n",
      "100%|████████████████████████████████████████████████████████████████████████████████| 121/121 [00:00<00:00, 218.96it/s]\n",
      "0it [00:00, ?it/s]\n"
     ]
    },
    {
     "name": "stdout",
     "output_type": "stream",
     "text": [
      "theta = -90.0, x_initial = -32, y_initial = -180\n"
     ]
    },
    {
     "name": "stderr",
     "output_type": "stream",
     "text": [
      "100%|████████████████████████████████████████████████████████████████████████████████| 121/121 [00:00<00:00, 241.14it/s]\n",
      "0it [00:00, ?it/s]\n",
      "100%|████████████████████████████████████████████████████████████████████████████████| 121/121 [00:00<00:00, 236.59it/s]\n",
      "0it [00:00, ?it/s]\n",
      "100%|████████████████████████████████████████████████████████████████████████████████| 121/121 [00:00<00:00, 242.41it/s]\n",
      "0it [00:00, ?it/s]\n",
      "100%|████████████████████████████████████████████████████████████████████████████████| 121/121 [00:00<00:00, 240.55it/s]\n",
      "0it [00:00, ?it/s]\n",
      "100%|████████████████████████████████████████████████████████████████████████████████| 121/121 [00:00<00:00, 242.62it/s]\n",
      "0it [00:00, ?it/s]\n",
      "100%|████████████████████████████████████████████████████████████████████████████████| 121/121 [00:00<00:00, 242.77it/s]\n",
      "0it [00:00, ?it/s]\n",
      "100%|████████████████████████████████████████████████████████████████████████████████| 121/121 [00:00<00:00, 237.57it/s]\n",
      "0it [00:00, ?it/s]\n"
     ]
    },
    {
     "name": "stdout",
     "output_type": "stream",
     "text": [
      "theta = -168.51198907410276, x_initial = -52, y_initial = -194\n"
     ]
    },
    {
     "name": "stderr",
     "output_type": "stream",
     "text": [
      "100%|████████████████████████████████████████████████████████████████████████████████| 121/121 [00:00<00:00, 226.63it/s]\n",
      "0it [00:00, ?it/s]\n",
      "100%|████████████████████████████████████████████████████████████████████████████████| 121/121 [00:00<00:00, 226.74it/s]\n",
      "0it [00:00, ?it/s]\n",
      "100%|████████████████████████████████████████████████████████████████████████████████| 121/121 [00:00<00:00, 232.37it/s]\n",
      "0it [00:00, ?it/s]\n",
      "100%|████████████████████████████████████████████████████████████████████████████████| 121/121 [00:00<00:00, 232.38it/s]\n",
      "0it [00:00, ?it/s]\n",
      "100%|████████████████████████████████████████████████████████████████████████████████| 121/121 [00:00<00:00, 227.65it/s]\n",
      "0it [00:00, ?it/s]\n",
      "100%|████████████████████████████████████████████████████████████████████████████████| 121/121 [00:00<00:00, 225.47it/s]\n",
      "0it [00:00, ?it/s]\n",
      "100%|████████████████████████████████████████████████████████████████████████████████| 121/121 [00:00<00:00, 225.33it/s]\n",
      "0it [00:00, ?it/s]\n"
     ]
    },
    {
     "name": "stdout",
     "output_type": "stream",
     "text": [
      "Alignment time: 23.791929244995117\n",
      "Length: 0\n",
      "Aligning 3 and 8\n",
      "new diag score is estimated\n"
     ]
    },
    {
     "name": "stderr",
     "output_type": "stream",
     "text": [
      "100%|██████████████████████████████████████████████████████████████████████████████| 1818/1818 [00:04<00:00, 382.29it/s]\n"
     ]
    },
    {
     "name": "stdout",
     "output_type": "stream",
     "text": [
      "18\n",
      "7\n",
      "theta = -114.66832857940435, x_initial = -169, y_initial = 106\n"
     ]
    },
    {
     "name": "stderr",
     "output_type": "stream",
     "text": [
      "100%|████████████████████████████████████████████████████████████████████████████████| 121/121 [00:00<00:00, 268.79it/s]\n",
      "100%|███████████████████████████████████████████████████████████████████████████████████| 90/90 [00:01<00:00, 55.54it/s]\n",
      "100%|████████████████████████████████████████████████████████████████████████████████| 121/121 [00:00<00:00, 270.63it/s]\n",
      "100%|█████████████████████████████████████████████████████████████████████████████████| 153/153 [00:02<00:00, 57.33it/s]\n",
      "100%|████████████████████████████████████████████████████████████████████████████████| 121/121 [00:00<00:00, 267.17it/s]\n",
      "100%|█████████████████████████████████████████████████████████████████████████████████| 189/189 [00:03<00:00, 52.91it/s]\n",
      "100%|████████████████████████████████████████████████████████████████████████████████| 121/121 [00:00<00:00, 267.33it/s]\n",
      "100%|█████████████████████████████████████████████████████████████████████████████████| 234/234 [00:04<00:00, 54.26it/s]\n",
      "100%|████████████████████████████████████████████████████████████████████████████████| 121/121 [00:00<00:00, 261.46it/s]\n",
      "100%|█████████████████████████████████████████████████████████████████████████████████| 153/153 [00:02<00:00, 53.99it/s]\n",
      "100%|████████████████████████████████████████████████████████████████████████████████| 121/121 [00:00<00:00, 266.12it/s]\n",
      "100%|█████████████████████████████████████████████████████████████████████████████████| 117/117 [00:02<00:00, 57.65it/s]\n",
      "100%|████████████████████████████████████████████████████████████████████████████████| 121/121 [00:00<00:00, 269.89it/s]\n",
      "100%|███████████████████████████████████████████████████████████████████████████████████| 45/45 [00:00<00:00, 57.73it/s]\n"
     ]
    },
    {
     "name": "stdout",
     "output_type": "stream",
     "text": [
      "theta = -180.0, x_initial = -125, y_initial = 65\n"
     ]
    },
    {
     "name": "stderr",
     "output_type": "stream",
     "text": [
      "100%|████████████████████████████████████████████████████████████████████████████████| 121/121 [00:00<00:00, 284.58it/s]\n",
      "100%|███████████████████████████████████████████████████████████████████████████████████| 45/45 [00:00<00:00, 66.78it/s]\n",
      "100%|████████████████████████████████████████████████████████████████████████████████| 121/121 [00:00<00:00, 281.31it/s]\n",
      "100%|█████████████████████████████████████████████████████████████████████████████████| 117/117 [00:02<00:00, 57.22it/s]\n",
      "100%|████████████████████████████████████████████████████████████████████████████████| 121/121 [00:00<00:00, 280.45it/s]\n",
      "100%|█████████████████████████████████████████████████████████████████████████████████| 162/162 [00:02<00:00, 54.20it/s]\n",
      "100%|████████████████████████████████████████████████████████████████████████████████| 121/121 [00:00<00:00, 282.30it/s]\n",
      "100%|█████████████████████████████████████████████████████████████████████████████████| 198/198 [00:03<00:00, 54.17it/s]\n",
      "100%|████████████████████████████████████████████████████████████████████████████████| 121/121 [00:00<00:00, 281.10it/s]\n",
      "100%|█████████████████████████████████████████████████████████████████████████████████| 207/207 [00:03<00:00, 54.97it/s]\n",
      "100%|████████████████████████████████████████████████████████████████████████████████| 121/121 [00:00<00:00, 283.42it/s]\n",
      "100%|█████████████████████████████████████████████████████████████████████████████████| 117/117 [00:02<00:00, 57.21it/s]\n",
      "100%|████████████████████████████████████████████████████████████████████████████████| 121/121 [00:00<00:00, 283.83it/s]\n",
      "100%|███████████████████████████████████████████████████████████████████████████████████| 18/18 [00:00<00:00, 65.40it/s]\n"
     ]
    },
    {
     "name": "stdout",
     "output_type": "stream",
     "text": [
      "theta = -32.942609529561544, x_initial = -8, y_initial = 211\n"
     ]
    },
    {
     "name": "stderr",
     "output_type": "stream",
     "text": [
      "100%|████████████████████████████████████████████████████████████████████████████████| 121/121 [00:00<00:00, 283.48it/s]\n",
      "100%|███████████████████████████████████████████████████████████████████████████████████| 45/45 [00:00<00:00, 55.60it/s]\n",
      "100%|████████████████████████████████████████████████████████████████████████████████| 121/121 [00:00<00:00, 284.36it/s]\n",
      "100%|█████████████████████████████████████████████████████████████████████████████████| 108/108 [00:01<00:00, 55.37it/s]\n",
      "100%|████████████████████████████████████████████████████████████████████████████████| 121/121 [00:00<00:00, 278.64it/s]\n",
      "100%|█████████████████████████████████████████████████████████████████████████████████| 162/162 [00:02<00:00, 56.84it/s]\n",
      "100%|████████████████████████████████████████████████████████████████████████████████| 121/121 [00:00<00:00, 285.71it/s]\n",
      "100%|█████████████████████████████████████████████████████████████████████████████████| 180/180 [00:03<00:00, 57.49it/s]\n",
      "100%|████████████████████████████████████████████████████████████████████████████████| 121/121 [00:00<00:00, 286.05it/s]\n",
      "100%|█████████████████████████████████████████████████████████████████████████████████| 144/144 [00:02<00:00, 58.78it/s]\n",
      "100%|████████████████████████████████████████████████████████████████████████████████| 121/121 [00:00<00:00, 286.52it/s]\n",
      "100%|█████████████████████████████████████████████████████████████████████████████████| 108/108 [00:01<00:00, 60.80it/s]\n",
      "100%|████████████████████████████████████████████████████████████████████████████████| 121/121 [00:00<00:00, 290.13it/s]\n",
      "100%|███████████████████████████████████████████████████████████████████████████████████| 63/63 [00:00<00:00, 66.00it/s]\n"
     ]
    },
    {
     "name": "stdout",
     "output_type": "stream",
     "text": [
      "theta = -172.04812456934116, x_initial = -181, y_initial = 3\n"
     ]
    },
    {
     "name": "stderr",
     "output_type": "stream",
     "text": [
      "100%|████████████████████████████████████████████████████████████████████████████████| 121/121 [00:00<00:00, 274.19it/s]\n",
      "100%|█████████████████████████████████████████████████████████████████████████████████| 171/171 [00:03<00:00, 53.22it/s]\n",
      "100%|████████████████████████████████████████████████████████████████████████████████| 121/121 [00:00<00:00, 275.44it/s]\n",
      "100%|█████████████████████████████████████████████████████████████████████████████████| 198/198 [00:03<00:00, 54.13it/s]\n",
      "100%|████████████████████████████████████████████████████████████████████████████████| 121/121 [00:00<00:00, 261.47it/s]\n",
      "100%|█████████████████████████████████████████████████████████████████████████████████| 162/162 [00:02<00:00, 54.82it/s]\n",
      "100%|████████████████████████████████████████████████████████████████████████████████| 121/121 [00:00<00:00, 272.80it/s]\n",
      "100%|███████████████████████████████████████████████████████████████████████████████████| 81/81 [00:01<00:00, 57.43it/s]\n",
      "100%|████████████████████████████████████████████████████████████████████████████████| 121/121 [00:00<00:00, 272.56it/s]\n",
      "0it [00:00, ?it/s]\n",
      "100%|████████████████████████████████████████████████████████████████████████████████| 121/121 [00:00<00:00, 274.66it/s]\n",
      "0it [00:00, ?it/s]\n",
      "100%|████████████████████████████████████████████████████████████████████████████████| 121/121 [00:00<00:00, 272.99it/s]\n",
      "0it [00:00, ?it/s]\n"
     ]
    },
    {
     "name": "stdout",
     "output_type": "stream",
     "text": [
      "Too far translations filtered out: 2682\n",
      "Alignment time: 81.63055682182312\n",
      "Length: 7\n",
      "Aligning 3 and 9\n",
      "new diag score is estimated\n"
     ]
    },
    {
     "name": "stderr",
     "output_type": "stream",
     "text": [
      "100%|██████████████████████████████████████████████████████████████████████████████| 1818/1818 [00:10<00:00, 169.22it/s]\n"
     ]
    },
    {
     "name": "stdout",
     "output_type": "stream",
     "text": [
      "12\n",
      "5\n",
      "theta = -55.69234854420456, x_initial = 77, y_initial = -258\n"
     ]
    },
    {
     "name": "stderr",
     "output_type": "stream",
     "text": [
      "100%|████████████████████████████████████████████████████████████████████████████████| 121/121 [00:00<00:00, 164.88it/s]\n",
      "0it [00:00, ?it/s]\n",
      "100%|████████████████████████████████████████████████████████████████████████████████| 121/121 [00:00<00:00, 173.97it/s]\n",
      "0it [00:00, ?it/s]\n",
      "100%|████████████████████████████████████████████████████████████████████████████████| 121/121 [00:00<00:00, 173.55it/s]\n",
      "0it [00:00, ?it/s]\n",
      "100%|████████████████████████████████████████████████████████████████████████████████| 121/121 [00:00<00:00, 172.55it/s]\n",
      "0it [00:00, ?it/s]\n",
      "100%|████████████████████████████████████████████████████████████████████████████████| 121/121 [00:00<00:00, 170.00it/s]\n",
      "0it [00:00, ?it/s]\n",
      "100%|████████████████████████████████████████████████████████████████████████████████| 121/121 [00:00<00:00, 171.91it/s]\n",
      "0it [00:00, ?it/s]\n",
      "100%|████████████████████████████████████████████████████████████████████████████████| 121/121 [00:00<00:00, 172.98it/s]\n",
      "0it [00:00, ?it/s]\n"
     ]
    },
    {
     "name": "stdout",
     "output_type": "stream",
     "text": [
      "theta = -180.0, x_initial = 63, y_initial = -307\n"
     ]
    },
    {
     "name": "stderr",
     "output_type": "stream",
     "text": [
      "100%|████████████████████████████████████████████████████████████████████████████████| 121/121 [00:00<00:00, 167.43it/s]\n",
      "100%|███████████████████████████████████████████████████████████████████████████████████| 18/18 [00:00<00:00, 59.71it/s]\n",
      "100%|████████████████████████████████████████████████████████████████████████████████| 121/121 [00:00<00:00, 170.62it/s]\n",
      "100%|█████████████████████████████████████████████████████████████████████████████████| 117/117 [00:03<00:00, 38.37it/s]\n",
      "100%|████████████████████████████████████████████████████████████████████████████████| 121/121 [00:00<00:00, 166.69it/s]\n",
      "100%|█████████████████████████████████████████████████████████████████████████████████| 180/180 [00:04<00:00, 36.74it/s]\n",
      "100%|████████████████████████████████████████████████████████████████████████████████| 121/121 [00:00<00:00, 167.45it/s]\n",
      "100%|█████████████████████████████████████████████████████████████████████████████████| 162/162 [00:04<00:00, 35.38it/s]\n",
      "100%|████████████████████████████████████████████████████████████████████████████████| 121/121 [00:00<00:00, 168.94it/s]\n",
      "100%|█████████████████████████████████████████████████████████████████████████████████| 126/126 [00:03<00:00, 33.98it/s]\n",
      "100%|████████████████████████████████████████████████████████████████████████████████| 121/121 [00:00<00:00, 170.64it/s]\n",
      "100%|███████████████████████████████████████████████████████████████████████████████████| 72/72 [00:02<00:00, 33.63it/s]\n",
      "100%|████████████████████████████████████████████████████████████████████████████████| 121/121 [00:00<00:00, 168.79it/s]\n",
      "100%|███████████████████████████████████████████████████████████████████████████████████| 27/27 [00:00<00:00, 53.66it/s]\n"
     ]
    },
    {
     "name": "stdout",
     "output_type": "stream",
     "text": [
      "theta = -62.19743899677856, x_initial = 170, y_initial = 134\n"
     ]
    },
    {
     "name": "stderr",
     "output_type": "stream",
     "text": [
      "100%|████████████████████████████████████████████████████████████████████████████████| 121/121 [00:00<00:00, 182.04it/s]\n",
      "0it [00:00, ?it/s]\n",
      "100%|████████████████████████████████████████████████████████████████████████████████| 121/121 [00:00<00:00, 179.40it/s]\n",
      "0it [00:00, ?it/s]\n",
      "100%|████████████████████████████████████████████████████████████████████████████████| 121/121 [00:00<00:00, 181.51it/s]\n",
      "100%|███████████████████████████████████████████████████████████████████████████████████| 18/18 [00:00<00:00, 39.49it/s]\n",
      "100%|████████████████████████████████████████████████████████████████████████████████| 121/121 [00:00<00:00, 180.84it/s]\n",
      "100%|█████████████████████████████████████████████████████████████████████████████████| 126/126 [00:03<00:00, 35.76it/s]\n",
      "100%|████████████████████████████████████████████████████████████████████████████████| 121/121 [00:00<00:00, 182.72it/s]\n",
      "100%|███████████████████████████████████████████████████████████████████████████████████| 99/99 [00:02<00:00, 34.83it/s]\n",
      "100%|████████████████████████████████████████████████████████████████████████████████| 121/121 [00:00<00:00, 180.16it/s]\n",
      "100%|███████████████████████████████████████████████████████████████████████████████████| 72/72 [00:01<00:00, 45.03it/s]\n",
      "100%|████████████████████████████████████████████████████████████████████████████████| 121/121 [00:00<00:00, 182.62it/s]\n",
      "0it [00:00, ?it/s]\n"
     ]
    },
    {
     "name": "stdout",
     "output_type": "stream",
     "text": [
      "theta = -56.9318013668001, x_initial = 243, y_initial = 74\n"
     ]
    },
    {
     "name": "stderr",
     "output_type": "stream",
     "text": [
      "100%|████████████████████████████████████████████████████████████████████████████████| 121/121 [00:00<00:00, 175.57it/s]\n",
      "0it [00:00, ?it/s]\n",
      "100%|████████████████████████████████████████████████████████████████████████████████| 121/121 [00:00<00:00, 168.61it/s]\n",
      "0it [00:00, ?it/s]\n",
      "100%|████████████████████████████████████████████████████████████████████████████████| 121/121 [00:00<00:00, 174.55it/s]\n",
      "0it [00:00, ?it/s]\n",
      "100%|████████████████████████████████████████████████████████████████████████████████| 121/121 [00:00<00:00, 174.93it/s]\n",
      "0it [00:00, ?it/s]\n",
      "100%|████████████████████████████████████████████████████████████████████████████████| 121/121 [00:00<00:00, 175.35it/s]\n",
      "0it [00:00, ?it/s]\n",
      "100%|████████████████████████████████████████████████████████████████████████████████| 121/121 [00:00<00:00, 176.55it/s]\n",
      "0it [00:00, ?it/s]\n",
      "100%|████████████████████████████████████████████████████████████████████████████████| 121/121 [00:00<00:00, 170.44it/s]\n",
      "0it [00:00, ?it/s]\n"
     ]
    },
    {
     "name": "stdout",
     "output_type": "stream",
     "text": [
      "Too far translations filtered out: 314\n",
      "Alignment time: 65.46222066879272\n",
      "Length: 5\n",
      "Aligning 3 and 10\n",
      "new diag score is estimated\n"
     ]
    },
    {
     "name": "stderr",
     "output_type": "stream",
     "text": [
      "100%|██████████████████████████████████████████████████████████████████████████████| 1818/1818 [00:05<00:00, 355.65it/s]\n"
     ]
    },
    {
     "name": "stdout",
     "output_type": "stream",
     "text": [
      "8\n",
      "2\n",
      "theta = -61.103986035202176, x_initial = -35, y_initial = -166\n"
     ]
    },
    {
     "name": "stderr",
     "output_type": "stream",
     "text": [
      "100%|████████████████████████████████████████████████████████████████████████████████| 121/121 [00:00<00:00, 260.97it/s]\n",
      "0it [00:00, ?it/s]\n",
      "100%|████████████████████████████████████████████████████████████████████████████████| 121/121 [00:00<00:00, 286.22it/s]\n",
      "0it [00:00, ?it/s]\n",
      "100%|████████████████████████████████████████████████████████████████████████████████| 121/121 [00:00<00:00, 280.03it/s]\n",
      "0it [00:00, ?it/s]\n",
      "100%|████████████████████████████████████████████████████████████████████████████████| 121/121 [00:00<00:00, 282.98it/s]\n",
      "0it [00:00, ?it/s]\n",
      "100%|████████████████████████████████████████████████████████████████████████████████| 121/121 [00:00<00:00, 282.18it/s]\n",
      "0it [00:00, ?it/s]\n",
      "100%|████████████████████████████████████████████████████████████████████████████████| 121/121 [00:00<00:00, 274.91it/s]\n",
      "0it [00:00, ?it/s]\n",
      "100%|████████████████████████████████████████████████████████████████████████████████| 121/121 [00:00<00:00, 280.55it/s]\n",
      "0it [00:00, ?it/s]\n"
     ]
    },
    {
     "name": "stdout",
     "output_type": "stream",
     "text": [
      "theta = -0.0, x_initial = 116, y_initial = -118\n"
     ]
    },
    {
     "name": "stderr",
     "output_type": "stream",
     "text": [
      "100%|████████████████████████████████████████████████████████████████████████████████| 121/121 [00:00<00:00, 264.40it/s]\n",
      "0it [00:00, ?it/s]\n",
      "100%|████████████████████████████████████████████████████████████████████████████████| 121/121 [00:00<00:00, 275.66it/s]\n",
      "0it [00:00, ?it/s]\n",
      "100%|████████████████████████████████████████████████████████████████████████████████| 121/121 [00:00<00:00, 279.67it/s]\n",
      "0it [00:00, ?it/s]\n",
      "100%|████████████████████████████████████████████████████████████████████████████████| 121/121 [00:00<00:00, 277.75it/s]\n",
      "0it [00:00, ?it/s]\n",
      "100%|████████████████████████████████████████████████████████████████████████████████| 121/121 [00:00<00:00, 273.58it/s]\n",
      "0it [00:00, ?it/s]\n",
      "100%|████████████████████████████████████████████████████████████████████████████████| 121/121 [00:00<00:00, 277.12it/s]\n",
      "0it [00:00, ?it/s]\n",
      "100%|████████████████████████████████████████████████████████████████████████████████| 121/121 [00:00<00:00, 275.58it/s]\n",
      "0it [00:00, ?it/s]\n"
     ]
    },
    {
     "name": "stdout",
     "output_type": "stream",
     "text": [
      "Alignment time: 15.816333055496216\n",
      "Length: 0\n",
      "Aligning 3 and 11\n",
      "new diag score is estimated\n"
     ]
    },
    {
     "name": "stderr",
     "output_type": "stream",
     "text": [
      "100%|██████████████████████████████████████████████████████████████████████████████| 1818/1818 [00:08<00:00, 227.21it/s]\n"
     ]
    },
    {
     "name": "stdout",
     "output_type": "stream",
     "text": [
      "23\n",
      "5\n",
      "theta = -61.59693743422133, x_initial = 8, y_initial = -200\n"
     ]
    },
    {
     "name": "stderr",
     "output_type": "stream",
     "text": [
      "100%|████████████████████████████████████████████████████████████████████████████████| 121/121 [00:00<00:00, 197.64it/s]\n",
      "0it [00:00, ?it/s]\n",
      "100%|████████████████████████████████████████████████████████████████████████████████| 121/121 [00:00<00:00, 194.84it/s]\n",
      "0it [00:00, ?it/s]\n",
      "100%|████████████████████████████████████████████████████████████████████████████████| 121/121 [00:00<00:00, 198.50it/s]\n",
      "0it [00:00, ?it/s]\n",
      "100%|████████████████████████████████████████████████████████████████████████████████| 121/121 [00:00<00:00, 197.34it/s]\n",
      "0it [00:00, ?it/s]\n",
      "100%|████████████████████████████████████████████████████████████████████████████████| 121/121 [00:00<00:00, 195.77it/s]\n",
      "0it [00:00, ?it/s]\n",
      "100%|████████████████████████████████████████████████████████████████████████████████| 121/121 [00:00<00:00, 194.38it/s]\n",
      "0it [00:00, ?it/s]\n",
      "100%|████████████████████████████████████████████████████████████████████████████████| 121/121 [00:00<00:00, 198.54it/s]\n",
      "0it [00:00, ?it/s]\n"
     ]
    },
    {
     "name": "stdout",
     "output_type": "stream",
     "text": [
      "theta = -180.0, x_initial = -78, y_initial = -236\n"
     ]
    },
    {
     "name": "stderr",
     "output_type": "stream",
     "text": [
      "100%|████████████████████████████████████████████████████████████████████████████████| 121/121 [00:00<00:00, 178.47it/s]\n",
      "100%|███████████████████████████████████████████████████████████████████████████████████| 45/45 [00:01<00:00, 43.31it/s]\n",
      "100%|████████████████████████████████████████████████████████████████████████████████| 121/121 [00:00<00:00, 179.11it/s]\n",
      "100%|███████████████████████████████████████████████████████████████████████████████████| 72/72 [00:02<00:00, 32.77it/s]\n",
      "100%|████████████████████████████████████████████████████████████████████████████████| 121/121 [00:00<00:00, 177.24it/s]\n",
      "100%|███████████████████████████████████████████████████████████████████████████████████| 81/81 [00:01<00:00, 46.65it/s]\n",
      "100%|████████████████████████████████████████████████████████████████████████████████| 121/121 [00:00<00:00, 181.05it/s]\n",
      "100%|█████████████████████████████████████████████████████████████████████████████████████| 9/9 [00:00<00:00, 49.18it/s]\n",
      "100%|████████████████████████████████████████████████████████████████████████████████| 121/121 [00:00<00:00, 179.25it/s]\n",
      "100%|███████████████████████████████████████████████████████████████████████████████████| 18/18 [00:00<00:00, 38.33it/s]\n",
      "100%|████████████████████████████████████████████████████████████████████████████████| 121/121 [00:00<00:00, 179.07it/s]\n",
      "100%|███████████████████████████████████████████████████████████████████████████████████| 18/18 [00:00<00:00, 54.04it/s]\n",
      "100%|████████████████████████████████████████████████████████████████████████████████| 121/121 [00:00<00:00, 174.17it/s]\n",
      "100%|█████████████████████████████████████████████████████████████████████████████████████| 9/9 [00:00<00:00, 48.92it/s]\n"
     ]
    },
    {
     "name": "stdout",
     "output_type": "stream",
     "text": [
      "theta = -9.867758683018065, x_initial = 176, y_initial = 191\n"
     ]
    },
    {
     "name": "stderr",
     "output_type": "stream",
     "text": [
      "100%|████████████████████████████████████████████████████████████████████████████████| 121/121 [00:00<00:00, 173.07it/s]\n",
      "0it [00:00, ?it/s]\n",
      "100%|████████████████████████████████████████████████████████████████████████████████| 121/121 [00:00<00:00, 176.60it/s]\n",
      "0it [00:00, ?it/s]\n",
      "100%|████████████████████████████████████████████████████████████████████████████████| 121/121 [00:00<00:00, 176.53it/s]\n",
      "0it [00:00, ?it/s]\n",
      "100%|████████████████████████████████████████████████████████████████████████████████| 121/121 [00:00<00:00, 171.44it/s]\n",
      "0it [00:00, ?it/s]\n",
      "100%|████████████████████████████████████████████████████████████████████████████████| 121/121 [00:00<00:00, 172.17it/s]\n",
      "0it [00:00, ?it/s]\n",
      "100%|████████████████████████████████████████████████████████████████████████████████| 121/121 [00:00<00:00, 174.53it/s]\n",
      "100%|███████████████████████████████████████████████████████████████████████████████████| 90/90 [00:02<00:00, 37.02it/s]\n",
      "100%|████████████████████████████████████████████████████████████████████████████████| 121/121 [00:00<00:00, 156.44it/s]\n",
      "100%|███████████████████████████████████████████████████████████████████████████████████| 90/90 [00:02<00:00, 33.29it/s]\n"
     ]
    },
    {
     "name": "stdout",
     "output_type": "stream",
     "text": [
      "theta = -136.18665830708986, x_initial = 59, y_initial = 156\n"
     ]
    },
    {
     "name": "stderr",
     "output_type": "stream",
     "text": [
      "100%|████████████████████████████████████████████████████████████████████████████████| 121/121 [00:00<00:00, 166.43it/s]\n",
      "0it [00:00, ?it/s]\n",
      "100%|████████████████████████████████████████████████████████████████████████████████| 121/121 [00:00<00:00, 156.72it/s]\n",
      "0it [00:00, ?it/s]\n",
      "100%|████████████████████████████████████████████████████████████████████████████████| 121/121 [00:00<00:00, 161.50it/s]\n",
      "0it [00:00, ?it/s]\n",
      "100%|████████████████████████████████████████████████████████████████████████████████| 121/121 [00:00<00:00, 161.64it/s]\n",
      "0it [00:00, ?it/s]\n",
      "100%|████████████████████████████████████████████████████████████████████████████████| 121/121 [00:00<00:00, 167.74it/s]\n",
      "0it [00:00, ?it/s]\n",
      "100%|████████████████████████████████████████████████████████████████████████████████| 121/121 [00:00<00:00, 164.16it/s]\n",
      "0it [00:00, ?it/s]\n",
      "100%|████████████████████████████████████████████████████████████████████████████████| 121/121 [00:00<00:00, 167.15it/s]\n",
      "0it [00:00, ?it/s]\n"
     ]
    },
    {
     "name": "stdout",
     "output_type": "stream",
     "text": [
      "Too far translations filtered out: 192\n",
      "Alignment time: 47.0053493976593\n",
      "Length: 4\n",
      "Aligning 3 and 12\n",
      "new diag score is estimated\n"
     ]
    },
    {
     "name": "stderr",
     "output_type": "stream",
     "text": [
      "100%|██████████████████████████████████████████████████████████████████████████████| 1818/1818 [00:02<00:00, 621.54it/s]\n"
     ]
    },
    {
     "name": "stdout",
     "output_type": "stream",
     "text": [
      "11\n",
      "4\n",
      "theta = -157.44763729922215, x_initial = -28, y_initial = 140\n"
     ]
    },
    {
     "name": "stderr",
     "output_type": "stream",
     "text": [
      "100%|████████████████████████████████████████████████████████████████████████████████| 121/121 [00:00<00:00, 242.84it/s]\n",
      "100%|█████████████████████████████████████████████████████████████████████████████████| 117/117 [00:02<00:00, 51.51it/s]\n",
      "100%|████████████████████████████████████████████████████████████████████████████████| 121/121 [00:00<00:00, 278.21it/s]\n",
      "100%|█████████████████████████████████████████████████████████████████████████████████| 171/171 [00:03<00:00, 53.48it/s]\n",
      "100%|████████████████████████████████████████████████████████████████████████████████| 121/121 [00:00<00:00, 269.75it/s]\n",
      "100%|█████████████████████████████████████████████████████████████████████████████████| 207/207 [00:03<00:00, 52.47it/s]\n",
      "100%|████████████████████████████████████████████████████████████████████████████████| 121/121 [00:00<00:00, 277.55it/s]\n",
      "100%|█████████████████████████████████████████████████████████████████████████████████| 270/270 [00:04<00:00, 54.51it/s]\n",
      "100%|████████████████████████████████████████████████████████████████████████████████| 121/121 [00:00<00:00, 275.21it/s]\n",
      "100%|█████████████████████████████████████████████████████████████████████████████████| 225/225 [00:04<00:00, 52.38it/s]\n",
      "100%|████████████████████████████████████████████████████████████████████████████████| 121/121 [00:00<00:00, 277.23it/s]\n",
      "100%|█████████████████████████████████████████████████████████████████████████████████| 198/198 [00:03<00:00, 53.46it/s]\n",
      "100%|████████████████████████████████████████████████████████████████████████████████| 121/121 [00:00<00:00, 276.31it/s]\n",
      "100%|█████████████████████████████████████████████████████████████████████████████████| 171/171 [00:03<00:00, 56.04it/s]\n"
     ]
    },
    {
     "name": "stdout",
     "output_type": "stream",
     "text": [
      "theta = -40.91207249706633, x_initial = 129, y_initial = 108\n"
     ]
    },
    {
     "name": "stderr",
     "output_type": "stream",
     "text": [
      "100%|████████████████████████████████████████████████████████████████████████████████| 121/121 [00:00<00:00, 256.64it/s]\n",
      "100%|█████████████████████████████████████████████████████████████████████████████████| 135/135 [00:02<00:00, 52.26it/s]\n",
      "100%|████████████████████████████████████████████████████████████████████████████████| 121/121 [00:00<00:00, 257.36it/s]\n",
      "100%|█████████████████████████████████████████████████████████████████████████████████| 144/144 [00:02<00:00, 49.34it/s]\n",
      "100%|████████████████████████████████████████████████████████████████████████████████| 121/121 [00:00<00:00, 261.64it/s]\n",
      "100%|█████████████████████████████████████████████████████████████████████████████████| 198/198 [00:03<00:00, 52.81it/s]\n",
      "100%|████████████████████████████████████████████████████████████████████████████████| 121/121 [00:00<00:00, 246.72it/s]\n",
      "100%|█████████████████████████████████████████████████████████████████████████████████| 234/234 [00:04<00:00, 51.97it/s]\n",
      "100%|████████████████████████████████████████████████████████████████████████████████| 121/121 [00:00<00:00, 258.94it/s]\n",
      "100%|█████████████████████████████████████████████████████████████████████████████████| 225/225 [00:04<00:00, 53.04it/s]\n",
      "100%|████████████████████████████████████████████████████████████████████████████████| 121/121 [00:00<00:00, 248.44it/s]\n",
      "100%|█████████████████████████████████████████████████████████████████████████████████| 144/144 [00:02<00:00, 54.89it/s]\n",
      "100%|████████████████████████████████████████████████████████████████████████████████| 121/121 [00:00<00:00, 251.99it/s]\n",
      "100%|███████████████████████████████████████████████████████████████████████████████████| 54/54 [00:01<00:00, 49.91it/s]\n"
     ]
    },
    {
     "name": "stdout",
     "output_type": "stream",
     "text": [
      "theta = -143.48619584509888, x_initial = -93, y_initial = 109\n"
     ]
    },
    {
     "name": "stderr",
     "output_type": "stream",
     "text": [
      "100%|████████████████████████████████████████████████████████████████████████████████| 121/121 [00:00<00:00, 260.38it/s]\n",
      "100%|█████████████████████████████████████████████████████████████████████████████████| 162/162 [00:03<00:00, 53.64it/s]\n",
      "100%|████████████████████████████████████████████████████████████████████████████████| 121/121 [00:00<00:00, 261.55it/s]\n",
      "100%|█████████████████████████████████████████████████████████████████████████████████| 180/180 [00:03<00:00, 51.21it/s]\n",
      "100%|████████████████████████████████████████████████████████████████████████████████| 121/121 [00:00<00:00, 265.70it/s]\n",
      "100%|█████████████████████████████████████████████████████████████████████████████████| 171/171 [00:03<00:00, 49.16it/s]\n",
      "100%|████████████████████████████████████████████████████████████████████████████████| 121/121 [00:00<00:00, 258.88it/s]\n",
      "100%|█████████████████████████████████████████████████████████████████████████████████| 108/108 [00:02<00:00, 52.62it/s]\n",
      "100%|████████████████████████████████████████████████████████████████████████████████| 121/121 [00:00<00:00, 267.41it/s]\n",
      "100%|███████████████████████████████████████████████████████████████████████████████████| 27/27 [00:00<00:00, 53.88it/s]\n",
      "100%|████████████████████████████████████████████████████████████████████████████████| 121/121 [00:00<00:00, 262.59it/s]\n",
      "0it [00:00, ?it/s]\n",
      "100%|████████████████████████████████████████████████████████████████████████████████| 121/121 [00:00<00:00, 255.16it/s]\n",
      "0it [00:00, ?it/s]\n"
     ]
    },
    {
     "name": "stdout",
     "output_type": "stream",
     "text": [
      "theta = -94.8622842250472, x_initial = -74, y_initial = -89\n"
     ]
    },
    {
     "name": "stderr",
     "output_type": "stream",
     "text": [
      "100%|████████████████████████████████████████████████████████████████████████████████| 121/121 [00:00<00:00, 268.57it/s]\n",
      "0it [00:00, ?it/s]\n",
      "100%|████████████████████████████████████████████████████████████████████████████████| 121/121 [00:00<00:00, 283.99it/s]\n",
      "0it [00:00, ?it/s]\n",
      "100%|████████████████████████████████████████████████████████████████████████████████| 121/121 [00:00<00:00, 278.83it/s]\n",
      "0it [00:00, ?it/s]\n",
      "100%|████████████████████████████████████████████████████████████████████████████████| 121/121 [00:00<00:00, 285.09it/s]\n",
      "0it [00:00, ?it/s]\n",
      "100%|████████████████████████████████████████████████████████████████████████████████| 121/121 [00:00<00:00, 286.52it/s]\n",
      "0it [00:00, ?it/s]\n",
      "100%|████████████████████████████████████████████████████████████████████████████████| 121/121 [00:00<00:00, 286.46it/s]\n",
      "0it [00:00, ?it/s]\n",
      "100%|████████████████████████████████████████████████████████████████████████████████| 121/121 [00:00<00:00, 280.66it/s]\n",
      "0it [00:00, ?it/s]\n"
     ]
    },
    {
     "name": "stdout",
     "output_type": "stream",
     "text": [
      "Too far translations filtered out: 2598\n",
      "Alignment time: 80.40064835548401\n",
      "Length: 5\n",
      "Aligning 3 and 14\n",
      "new diag score is estimated\n"
     ]
    },
    {
     "name": "stderr",
     "output_type": "stream",
     "text": [
      "100%|██████████████████████████████████████████████████████████████████████████████| 1818/1818 [00:07<00:00, 246.92it/s]\n"
     ]
    },
    {
     "name": "stdout",
     "output_type": "stream",
     "text": [
      "17\n",
      "4\n",
      "theta = -76.46289787449265, x_initial = -89, y_initial = -154\n"
     ]
    },
    {
     "name": "stderr",
     "output_type": "stream",
     "text": [
      "100%|████████████████████████████████████████████████████████████████████████████████| 121/121 [00:00<00:00, 214.18it/s]\n",
      "0it [00:00, ?it/s]\n",
      "100%|████████████████████████████████████████████████████████████████████████████████| 121/121 [00:00<00:00, 212.49it/s]\n",
      "0it [00:00, ?it/s]\n",
      "100%|████████████████████████████████████████████████████████████████████████████████| 121/121 [00:00<00:00, 215.75it/s]\n",
      "0it [00:00, ?it/s]\n",
      "100%|████████████████████████████████████████████████████████████████████████████████| 121/121 [00:00<00:00, 213.13it/s]\n",
      "0it [00:00, ?it/s]\n",
      "100%|████████████████████████████████████████████████████████████████████████████████| 121/121 [00:00<00:00, 201.77it/s]\n",
      "0it [00:00, ?it/s]\n",
      "100%|████████████████████████████████████████████████████████████████████████████████| 121/121 [00:00<00:00, 210.91it/s]\n",
      "0it [00:00, ?it/s]\n",
      "100%|████████████████████████████████████████████████████████████████████████████████| 121/121 [00:00<00:00, 210.82it/s]\n",
      "0it [00:00, ?it/s]\n"
     ]
    },
    {
     "name": "stdout",
     "output_type": "stream",
     "text": [
      "theta = -78.61929853992484, x_initial = 160, y_initial = 111\n"
     ]
    },
    {
     "name": "stderr",
     "output_type": "stream",
     "text": [
      "100%|████████████████████████████████████████████████████████████████████████████████| 121/121 [00:00<00:00, 211.44it/s]\n",
      "0it [00:00, ?it/s]\n",
      "100%|████████████████████████████████████████████████████████████████████████████████| 121/121 [00:00<00:00, 212.47it/s]\n",
      "100%|█████████████████████████████████████████████████████████████████████████████████████| 9/9 [00:00<00:00, 81.64it/s]\n",
      "100%|████████████████████████████████████████████████████████████████████████████████| 121/121 [00:00<00:00, 213.65it/s]\n",
      "100%|█████████████████████████████████████████████████████████████████████████████████| 117/117 [00:02<00:00, 46.83it/s]\n",
      "100%|████████████████████████████████████████████████████████████████████████████████| 121/121 [00:00<00:00, 213.84it/s]\n",
      "100%|█████████████████████████████████████████████████████████████████████████████████| 117/117 [00:02<00:00, 43.04it/s]\n",
      "100%|████████████████████████████████████████████████████████████████████████████████| 121/121 [00:00<00:00, 208.58it/s]\n",
      "100%|███████████████████████████████████████████████████████████████████████████████████| 90/90 [00:02<00:00, 41.31it/s]\n",
      "100%|████████████████████████████████████████████████████████████████████████████████| 121/121 [00:00<00:00, 213.78it/s]\n",
      "100%|███████████████████████████████████████████████████████████████████████████████████| 72/72 [00:01<00:00, 41.53it/s]\n",
      "100%|████████████████████████████████████████████████████████████████████████████████| 121/121 [00:00<00:00, 209.07it/s]\n",
      "100%|███████████████████████████████████████████████████████████████████████████████████| 18/18 [00:00<00:00, 46.70it/s]\n"
     ]
    },
    {
     "name": "stdout",
     "output_type": "stream",
     "text": [
      "theta = -147.20162105322763, x_initial = -253, y_initial = -85\n"
     ]
    },
    {
     "name": "stderr",
     "output_type": "stream",
     "text": [
      "100%|████████████████████████████████████████████████████████████████████████████████| 121/121 [00:00<00:00, 201.59it/s]\n",
      "0it [00:00, ?it/s]\n",
      "100%|████████████████████████████████████████████████████████████████████████████████| 121/121 [00:00<00:00, 198.28it/s]\n",
      "100%|███████████████████████████████████████████████████████████████████████████████████| 27/27 [00:00<00:00, 41.72it/s]\n",
      "100%|████████████████████████████████████████████████████████████████████████████████| 121/121 [00:00<00:00, 199.18it/s]\n",
      "100%|███████████████████████████████████████████████████████████████████████████████████| 72/72 [00:01<00:00, 46.74it/s]\n",
      "100%|████████████████████████████████████████████████████████████████████████████████| 121/121 [00:00<00:00, 200.87it/s]\n",
      "100%|███████████████████████████████████████████████████████████████████████████████████| 72/72 [00:01<00:00, 44.04it/s]\n",
      "100%|████████████████████████████████████████████████████████████████████████████████| 121/121 [00:00<00:00, 201.02it/s]\n",
      "100%|███████████████████████████████████████████████████████████████████████████████████| 99/99 [00:02<00:00, 48.97it/s]\n",
      "100%|████████████████████████████████████████████████████████████████████████████████| 121/121 [00:00<00:00, 198.89it/s]\n",
      "100%|███████████████████████████████████████████████████████████████████████████████████| 72/72 [00:01<00:00, 42.41it/s]\n",
      "100%|████████████████████████████████████████████████████████████████████████████████| 121/121 [00:00<00:00, 200.90it/s]\n",
      "100%|███████████████████████████████████████████████████████████████████████████████████| 36/36 [00:00<00:00, 48.47it/s]\n"
     ]
    },
    {
     "name": "stdout",
     "output_type": "stream",
     "text": [
      "theta = -60.67187220776588, x_initial = 22, y_initial = 202\n"
     ]
    },
    {
     "name": "stderr",
     "output_type": "stream",
     "text": [
      "100%|████████████████████████████████████████████████████████████████████████████████| 121/121 [00:00<00:00, 219.38it/s]\n",
      "0it [00:00, ?it/s]\n",
      "100%|████████████████████████████████████████████████████████████████████████████████| 121/121 [00:00<00:00, 222.48it/s]\n",
      "0it [00:00, ?it/s]\n",
      "100%|████████████████████████████████████████████████████████████████████████████████| 121/121 [00:00<00:00, 224.97it/s]\n",
      "0it [00:00, ?it/s]\n",
      "100%|████████████████████████████████████████████████████████████████████████████████| 121/121 [00:00<00:00, 223.36it/s]\n",
      "0it [00:00, ?it/s]\n",
      "100%|████████████████████████████████████████████████████████████████████████████████| 121/121 [00:00<00:00, 210.97it/s]\n",
      "0it [00:00, ?it/s]\n",
      "100%|████████████████████████████████████████████████████████████████████████████████| 121/121 [00:00<00:00, 222.89it/s]\n",
      "0it [00:00, ?it/s]\n",
      "100%|████████████████████████████████████████████████████████████████████████████████| 121/121 [00:00<00:00, 221.65it/s]\n",
      "0it [00:00, ?it/s]\n"
     ]
    },
    {
     "name": "stdout",
     "output_type": "stream",
     "text": [
      "Too far translations filtered out: 97\n",
      "Alignment time: 48.38594698905945\n",
      "Length: 4\n",
      "Aligning 3 and 15\n",
      "new diag score is estimated\n"
     ]
    },
    {
     "name": "stderr",
     "output_type": "stream",
     "text": [
      "100%|██████████████████████████████████████████████████████████████████████████████| 1818/1818 [00:07<00:00, 241.93it/s]\n"
     ]
    },
    {
     "name": "stdout",
     "output_type": "stream",
     "text": [
      "11\n",
      "5\n",
      "theta = -100.63689007030283, x_initial = -263, y_initial = 74\n"
     ]
    },
    {
     "name": "stderr",
     "output_type": "stream",
     "text": [
      "100%|████████████████████████████████████████████████████████████████████████████████| 121/121 [00:00<00:00, 213.84it/s]\n",
      "0it [00:00, ?it/s]\n",
      "100%|████████████████████████████████████████████████████████████████████████████████| 121/121 [00:00<00:00, 241.76it/s]\n",
      "0it [00:00, ?it/s]\n",
      "100%|████████████████████████████████████████████████████████████████████████████████| 121/121 [00:00<00:00, 238.67it/s]\n",
      "0it [00:00, ?it/s]\n",
      "100%|████████████████████████████████████████████████████████████████████████████████| 121/121 [00:00<00:00, 238.43it/s]\n",
      "0it [00:00, ?it/s]\n",
      "100%|████████████████████████████████████████████████████████████████████████████████| 121/121 [00:00<00:00, 239.17it/s]\n",
      "0it [00:00, ?it/s]\n",
      "100%|████████████████████████████████████████████████████████████████████████████████| 121/121 [00:00<00:00, 239.46it/s]\n",
      "0it [00:00, ?it/s]\n",
      "100%|████████████████████████████████████████████████████████████████████████████████| 121/121 [00:00<00:00, 235.26it/s]\n",
      "0it [00:00, ?it/s]\n"
     ]
    },
    {
     "name": "stdout",
     "output_type": "stream",
     "text": [
      "theta = -101.7090039588457, x_initial = 207, y_initial = 48\n"
     ]
    },
    {
     "name": "stderr",
     "output_type": "stream",
     "text": [
      "100%|████████████████████████████████████████████████████████████████████████████████| 121/121 [00:00<00:00, 252.67it/s]\n",
      "0it [00:00, ?it/s]\n",
      "100%|████████████████████████████████████████████████████████████████████████████████| 121/121 [00:00<00:00, 249.36it/s]\n",
      "0it [00:00, ?it/s]\n",
      "100%|████████████████████████████████████████████████████████████████████████████████| 121/121 [00:00<00:00, 250.10it/s]\n",
      "0it [00:00, ?it/s]\n",
      "100%|████████████████████████████████████████████████████████████████████████████████| 121/121 [00:00<00:00, 239.12it/s]\n",
      "0it [00:00, ?it/s]\n",
      "100%|████████████████████████████████████████████████████████████████████████████████| 121/121 [00:00<00:00, 250.62it/s]\n",
      "0it [00:00, ?it/s]\n",
      "100%|████████████████████████████████████████████████████████████████████████████████| 121/121 [00:00<00:00, 243.24it/s]\n",
      "0it [00:00, ?it/s]\n",
      "100%|████████████████████████████████████████████████████████████████████████████████| 121/121 [00:00<00:00, 249.30it/s]\n",
      "0it [00:00, ?it/s]\n"
     ]
    },
    {
     "name": "stdout",
     "output_type": "stream",
     "text": [
      "theta = -17.416393490063356, x_initial = -216, y_initial = -202\n"
     ]
    },
    {
     "name": "stderr",
     "output_type": "stream",
     "text": [
      "100%|████████████████████████████████████████████████████████████████████████████████| 121/121 [00:00<00:00, 222.67it/s]\n",
      "0it [00:00, ?it/s]\n",
      "100%|████████████████████████████████████████████████████████████████████████████████| 121/121 [00:00<00:00, 223.98it/s]\n",
      "0it [00:00, ?it/s]\n",
      "100%|████████████████████████████████████████████████████████████████████████████████| 121/121 [00:00<00:00, 225.48it/s]\n",
      "0it [00:00, ?it/s]\n",
      "100%|████████████████████████████████████████████████████████████████████████████████| 121/121 [00:00<00:00, 224.22it/s]\n",
      "0it [00:00, ?it/s]\n",
      "100%|████████████████████████████████████████████████████████████████████████████████| 121/121 [00:00<00:00, 226.24it/s]\n",
      "0it [00:00, ?it/s]\n",
      "100%|████████████████████████████████████████████████████████████████████████████████| 121/121 [00:00<00:00, 220.53it/s]\n",
      "0it [00:00, ?it/s]\n",
      "100%|████████████████████████████████████████████████████████████████████████████████| 121/121 [00:00<00:00, 225.50it/s]\n",
      "0it [00:00, ?it/s]\n"
     ]
    },
    {
     "name": "stdout",
     "output_type": "stream",
     "text": [
      "theta = -5.122739846707536, x_initial = 35, y_initial = 241\n"
     ]
    },
    {
     "name": "stderr",
     "output_type": "stream",
     "text": [
      "100%|████████████████████████████████████████████████████████████████████████████████| 121/121 [00:00<00:00, 249.39it/s]\n",
      "100%|███████████████████████████████████████████████████████████████████████████████████| 90/90 [00:01<00:00, 55.13it/s]\n",
      "100%|████████████████████████████████████████████████████████████████████████████████| 121/121 [00:00<00:00, 255.07it/s]\n",
      "100%|███████████████████████████████████████████████████████████████████████████████████| 99/99 [00:01<00:00, 50.92it/s]\n",
      "100%|████████████████████████████████████████████████████████████████████████████████| 121/121 [00:00<00:00, 246.86it/s]\n",
      "100%|███████████████████████████████████████████████████████████████████████████████████| 99/99 [00:01<00:00, 53.27it/s]\n",
      "100%|████████████████████████████████████████████████████████████████████████████████| 121/121 [00:00<00:00, 252.02it/s]\n",
      "100%|███████████████████████████████████████████████████████████████████████████████████| 90/90 [00:01<00:00, 50.63it/s]\n",
      "100%|████████████████████████████████████████████████████████████████████████████████| 121/121 [00:00<00:00, 248.98it/s]\n",
      "100%|███████████████████████████████████████████████████████████████████████████████████| 72/72 [00:01<00:00, 55.91it/s]\n",
      "100%|████████████████████████████████████████████████████████████████████████████████| 121/121 [00:00<00:00, 253.94it/s]\n",
      "100%|███████████████████████████████████████████████████████████████████████████████████| 36/36 [00:00<00:00, 53.36it/s]\n",
      "100%|████████████████████████████████████████████████████████████████████████████████| 121/121 [00:00<00:00, 253.84it/s]\n",
      "100%|███████████████████████████████████████████████████████████████████████████████████| 18/18 [00:00<00:00, 61.43it/s]\n"
     ]
    },
    {
     "name": "stdout",
     "output_type": "stream",
     "text": [
      "Too far translations filtered out: 121\n",
      "Alignment time: 37.1297287940979\n",
      "Length: 3\n",
      "Aligning 5 and 6\n",
      "new diag score is estimated\n"
     ]
    },
    {
     "name": "stderr",
     "output_type": "stream",
     "text": [
      "100%|████████████████████████████████████████████████████████████████████████████████| 764/764 [00:01<00:00, 535.29it/s]\n"
     ]
    },
    {
     "name": "stdout",
     "output_type": "stream",
     "text": [
      "11\n",
      "4\n",
      "theta = -25.345799913186006, x_initial = 64, y_initial = 37\n"
     ]
    },
    {
     "name": "stderr",
     "output_type": "stream",
     "text": [
      "100%|████████████████████████████████████████████████████████████████████████████████| 121/121 [00:00<00:00, 549.71it/s]\n",
      "0it [00:00, ?it/s]\n",
      "100%|████████████████████████████████████████████████████████████████████████████████| 121/121 [00:00<00:00, 540.60it/s]\n",
      "0it [00:00, ?it/s]\n",
      "100%|████████████████████████████████████████████████████████████████████████████████| 121/121 [00:00<00:00, 513.99it/s]\n",
      "0it [00:00, ?it/s]\n",
      "100%|████████████████████████████████████████████████████████████████████████████████| 121/121 [00:00<00:00, 549.76it/s]\n",
      "0it [00:00, ?it/s]\n",
      "100%|████████████████████████████████████████████████████████████████████████████████| 121/121 [00:00<00:00, 546.87it/s]\n",
      "0it [00:00, ?it/s]\n",
      "100%|████████████████████████████████████████████████████████████████████████████████| 121/121 [00:00<00:00, 544.13it/s]\n",
      "0it [00:00, ?it/s]\n",
      "100%|████████████████████████████████████████████████████████████████████████████████| 121/121 [00:00<00:00, 545.35it/s]\n",
      "100%|██████████████████████████████████████████████████████████████████████████████████| 27/27 [00:00<00:00, 118.80it/s]\n"
     ]
    },
    {
     "name": "stdout",
     "output_type": "stream",
     "text": [
      "theta = -55.68616619392652, x_initial = -17, y_initial = 106\n"
     ]
    },
    {
     "name": "stderr",
     "output_type": "stream",
     "text": [
      "100%|████████████████████████████████████████████████████████████████████████████████| 121/121 [00:00<00:00, 547.18it/s]\n",
      "100%|████████████████████████████████████████████████████████████████████████████████| 108/108 [00:00<00:00, 117.62it/s]\n",
      "100%|████████████████████████████████████████████████████████████████████████████████| 121/121 [00:00<00:00, 561.13it/s]\n",
      "100%|████████████████████████████████████████████████████████████████████████████████| 144/144 [00:01<00:00, 112.82it/s]\n",
      "100%|████████████████████████████████████████████████████████████████████████████████| 121/121 [00:00<00:00, 552.25it/s]\n",
      "100%|████████████████████████████████████████████████████████████████████████████████| 180/180 [00:01<00:00, 108.47it/s]\n",
      "100%|████████████████████████████████████████████████████████████████████████████████| 121/121 [00:00<00:00, 554.61it/s]\n",
      "100%|████████████████████████████████████████████████████████████████████████████████| 207/207 [00:01<00:00, 111.65it/s]\n",
      "100%|████████████████████████████████████████████████████████████████████████████████| 121/121 [00:00<00:00, 560.19it/s]\n",
      "100%|████████████████████████████████████████████████████████████████████████████████| 207/207 [00:01<00:00, 108.94it/s]\n",
      "100%|████████████████████████████████████████████████████████████████████████████████| 121/121 [00:00<00:00, 567.51it/s]\n",
      "100%|████████████████████████████████████████████████████████████████████████████████| 234/234 [00:02<00:00, 115.80it/s]\n",
      "100%|████████████████████████████████████████████████████████████████████████████████| 121/121 [00:00<00:00, 545.70it/s]\n",
      "100%|████████████████████████████████████████████████████████████████████████████████| 180/180 [00:01<00:00, 105.26it/s]\n"
     ]
    },
    {
     "name": "stdout",
     "output_type": "stream",
     "text": [
      "theta = -112.61986494804043, x_initial = 63, y_initial = -114\n"
     ]
    },
    {
     "name": "stderr",
     "output_type": "stream",
     "text": [
      "100%|████████████████████████████████████████████████████████████████████████████████| 121/121 [00:00<00:00, 501.91it/s]\n",
      "100%|████████████████████████████████████████████████████████████████████████████████| 162/162 [00:01<00:00, 114.45it/s]\n",
      "100%|████████████████████████████████████████████████████████████████████████████████| 121/121 [00:00<00:00, 511.30it/s]\n",
      "100%|████████████████████████████████████████████████████████████████████████████████| 171/171 [00:01<00:00, 110.32it/s]\n",
      "100%|████████████████████████████████████████████████████████████████████████████████| 121/121 [00:00<00:00, 506.96it/s]\n",
      "100%|████████████████████████████████████████████████████████████████████████████████| 180/180 [00:01<00:00, 109.81it/s]\n",
      "100%|████████████████████████████████████████████████████████████████████████████████| 121/121 [00:00<00:00, 510.81it/s]\n",
      "100%|████████████████████████████████████████████████████████████████████████████████| 189/189 [00:01<00:00, 115.03it/s]\n",
      "100%|████████████████████████████████████████████████████████████████████████████████| 121/121 [00:00<00:00, 507.19it/s]\n",
      "100%|████████████████████████████████████████████████████████████████████████████████| 198/198 [00:01<00:00, 108.85it/s]\n",
      "100%|████████████████████████████████████████████████████████████████████████████████| 121/121 [00:00<00:00, 499.66it/s]\n",
      "100%|████████████████████████████████████████████████████████████████████████████████| 171/171 [00:01<00:00, 112.58it/s]\n",
      "100%|████████████████████████████████████████████████████████████████████████████████| 121/121 [00:00<00:00, 513.20it/s]\n",
      "100%|████████████████████████████████████████████████████████████████████████████████| 162/162 [00:01<00:00, 114.07it/s]\n"
     ]
    },
    {
     "name": "stdout",
     "output_type": "stream",
     "text": [
      "theta = -134.5249277043886, x_initial = -29, y_initial = -105\n"
     ]
    },
    {
     "name": "stderr",
     "output_type": "stream",
     "text": [
      "100%|████████████████████████████████████████████████████████████████████████████████| 121/121 [00:00<00:00, 539.93it/s]\n",
      "0it [00:00, ?it/s]\n",
      "100%|████████████████████████████████████████████████████████████████████████████████| 121/121 [00:00<00:00, 533.84it/s]\n",
      "0it [00:00, ?it/s]\n",
      "100%|████████████████████████████████████████████████████████████████████████████████| 121/121 [00:00<00:00, 510.01it/s]\n",
      "0it [00:00, ?it/s]\n",
      "100%|████████████████████████████████████████████████████████████████████████████████| 121/121 [00:00<00:00, 518.26it/s]\n",
      "0it [00:00, ?it/s]\n",
      "100%|████████████████████████████████████████████████████████████████████████████████| 121/121 [00:00<00:00, 537.96it/s]\n",
      "0it [00:00, ?it/s]\n",
      "100%|████████████████████████████████████████████████████████████████████████████████| 121/121 [00:00<00:00, 511.34it/s]\n",
      "0it [00:00, ?it/s]\n",
      "100%|████████████████████████████████████████████████████████████████████████████████| 121/121 [00:00<00:00, 521.86it/s]\n",
      "0it [00:00, ?it/s]\n"
     ]
    },
    {
     "name": "stdout",
     "output_type": "stream",
     "text": [
      "Too far translations filtered out: 1654\n",
      "Alignment time: 33.49406719207764\n",
      "Length: 4\n",
      "Aligning 5 and 7\n",
      "new diag score is estimated\n"
     ]
    },
    {
     "name": "stderr",
     "output_type": "stream",
     "text": [
      "100%|████████████████████████████████████████████████████████████████████████████████| 764/764 [00:03<00:00, 231.71it/s]\n"
     ]
    },
    {
     "name": "stdout",
     "output_type": "stream",
     "text": [
      "21\n",
      "7\n",
      "theta = -0.0, x_initial = 193, y_initial = -64\n"
     ]
    },
    {
     "name": "stderr",
     "output_type": "stream",
     "text": [
      "100%|████████████████████████████████████████████████████████████████████████████████| 121/121 [00:00<00:00, 225.37it/s]\n",
      "100%|█████████████████████████████████████████████████████████████████████████████████| 126/126 [00:02<00:00, 44.46it/s]\n",
      "100%|████████████████████████████████████████████████████████████████████████████████| 121/121 [00:00<00:00, 206.49it/s]\n",
      "100%|█████████████████████████████████████████████████████████████████████████████████| 135/135 [00:03<00:00, 43.41it/s]\n",
      "100%|████████████████████████████████████████████████████████████████████████████████| 121/121 [00:00<00:00, 223.70it/s]\n",
      "100%|█████████████████████████████████████████████████████████████████████████████████| 171/171 [00:03<00:00, 46.34it/s]\n",
      "100%|████████████████████████████████████████████████████████████████████████████████| 121/121 [00:00<00:00, 221.33it/s]\n",
      "100%|█████████████████████████████████████████████████████████████████████████████████| 198/198 [00:04<00:00, 45.24it/s]\n",
      "100%|████████████████████████████████████████████████████████████████████████████████| 121/121 [00:00<00:00, 222.54it/s]\n",
      "100%|█████████████████████████████████████████████████████████████████████████████████| 225/225 [00:04<00:00, 45.47it/s]\n",
      "100%|████████████████████████████████████████████████████████████████████████████████| 121/121 [00:00<00:00, 223.75it/s]\n",
      "100%|█████████████████████████████████████████████████████████████████████████████████| 234/234 [00:05<00:00, 44.43it/s]\n",
      "100%|████████████████████████████████████████████████████████████████████████████████| 121/121 [00:00<00:00, 223.69it/s]\n",
      "100%|█████████████████████████████████████████████████████████████████████████████████| 198/198 [00:04<00:00, 46.89it/s]\n"
     ]
    },
    {
     "name": "stdout",
     "output_type": "stream",
     "text": [
      "theta = -9.510861633103646, x_initial = -102, y_initial = -50\n"
     ]
    },
    {
     "name": "stderr",
     "output_type": "stream",
     "text": [
      "100%|████████████████████████████████████████████████████████████████████████████████| 121/121 [00:00<00:00, 242.60it/s]\n",
      "100%|███████████████████████████████████████████████████████████████████████████████████| 27/27 [00:00<00:00, 51.48it/s]\n",
      "100%|████████████████████████████████████████████████████████████████████████████████| 121/121 [00:00<00:00, 243.33it/s]\n",
      "100%|███████████████████████████████████████████████████████████████████████████████████| 81/81 [00:01<00:00, 50.95it/s]\n",
      "100%|████████████████████████████████████████████████████████████████████████████████| 121/121 [00:00<00:00, 245.52it/s]\n",
      "100%|███████████████████████████████████████████████████████████████████████████████████| 90/90 [00:01<00:00, 46.46it/s]\n",
      "100%|████████████████████████████████████████████████████████████████████████████████| 121/121 [00:00<00:00, 241.59it/s]\n",
      "100%|█████████████████████████████████████████████████████████████████████████████████| 135/135 [00:02<00:00, 48.25it/s]\n",
      "100%|████████████████████████████████████████████████████████████████████████████████| 121/121 [00:00<00:00, 241.53it/s]\n",
      "100%|█████████████████████████████████████████████████████████████████████████████████| 126/126 [00:02<00:00, 46.55it/s]\n",
      "100%|████████████████████████████████████████████████████████████████████████████████| 121/121 [00:00<00:00, 245.04it/s]\n",
      "100%|█████████████████████████████████████████████████████████████████████████████████| 144/144 [00:03<00:00, 44.45it/s]\n",
      "100%|████████████████████████████████████████████████████████████████████████████████| 121/121 [00:00<00:00, 244.86it/s]\n",
      "100%|█████████████████████████████████████████████████████████████████████████████████| 153/153 [00:03<00:00, 45.65it/s]\n"
     ]
    },
    {
     "name": "stdout",
     "output_type": "stream",
     "text": [
      "theta = -74.68667512823708, x_initial = -79, y_initial = 159\n"
     ]
    },
    {
     "name": "stderr",
     "output_type": "stream",
     "text": [
      "100%|████████████████████████████████████████████████████████████████████████████████| 121/121 [00:00<00:00, 236.61it/s]\n",
      "100%|███████████████████████████████████████████████████████████████████████████████████| 36/36 [00:00<00:00, 62.24it/s]\n",
      "100%|████████████████████████████████████████████████████████████████████████████████| 121/121 [00:00<00:00, 236.37it/s]\n",
      "100%|███████████████████████████████████████████████████████████████████████████████████| 72/72 [00:01<00:00, 50.88it/s]\n",
      "100%|████████████████████████████████████████████████████████████████████████████████| 121/121 [00:00<00:00, 235.32it/s]\n",
      "100%|███████████████████████████████████████████████████████████████████████████████████| 90/90 [00:01<00:00, 47.39it/s]\n",
      "100%|████████████████████████████████████████████████████████████████████████████████| 121/121 [00:00<00:00, 236.85it/s]\n",
      "100%|█████████████████████████████████████████████████████████████████████████████████| 153/153 [00:03<00:00, 48.53it/s]\n",
      "100%|████████████████████████████████████████████████████████████████████████████████| 121/121 [00:00<00:00, 232.63it/s]\n",
      "100%|█████████████████████████████████████████████████████████████████████████████████| 198/198 [00:04<00:00, 47.76it/s]\n",
      "100%|████████████████████████████████████████████████████████████████████████████████| 121/121 [00:00<00:00, 232.83it/s]\n",
      "100%|█████████████████████████████████████████████████████████████████████████████████| 171/171 [00:03<00:00, 45.83it/s]\n",
      "100%|████████████████████████████████████████████████████████████████████████████████| 121/121 [00:00<00:00, 235.02it/s]\n",
      "100%|███████████████████████████████████████████████████████████████████████████████████| 90/90 [00:01<00:00, 45.66it/s]\n"
     ]
    },
    {
     "name": "stdout",
     "output_type": "stream",
     "text": [
      "theta = -85.53755361879958, x_initial = -85, y_initial = -73\n"
     ]
    },
    {
     "name": "stderr",
     "output_type": "stream",
     "text": [
      "100%|████████████████████████████████████████████████████████████████████████████████| 121/121 [00:00<00:00, 241.70it/s]\n",
      "0it [00:00, ?it/s]\n",
      "100%|████████████████████████████████████████████████████████████████████████████████| 121/121 [00:00<00:00, 242.04it/s]\n",
      "0it [00:00, ?it/s]\n",
      "100%|████████████████████████████████████████████████████████████████████████████████| 121/121 [00:00<00:00, 241.90it/s]\n",
      "0it [00:00, ?it/s]\n",
      "100%|████████████████████████████████████████████████████████████████████████████████| 121/121 [00:00<00:00, 241.75it/s]\n",
      "0it [00:00, ?it/s]\n",
      "100%|████████████████████████████████████████████████████████████████████████████████| 121/121 [00:00<00:00, 242.27it/s]\n",
      "0it [00:00, ?it/s]\n",
      "100%|████████████████████████████████████████████████████████████████████████████████| 121/121 [00:00<00:00, 238.51it/s]\n",
      "0it [00:00, ?it/s]\n",
      "100%|████████████████████████████████████████████████████████████████████████████████| 121/121 [00:00<00:00, 242.33it/s]\n",
      "0it [00:00, ?it/s]\n"
     ]
    },
    {
     "name": "stdout",
     "output_type": "stream",
     "text": [
      "Too far translations filtered out: 2008\n",
      "Alignment time: 85.14427089691162\n",
      "Length: 2\n",
      "Aligning 5 and 8\n",
      "new diag score is estimated\n"
     ]
    },
    {
     "name": "stderr",
     "output_type": "stream",
     "text": [
      "100%|████████████████████████████████████████████████████████████████████████████████| 764/764 [00:01<00:00, 387.35it/s]\n"
     ]
    },
    {
     "name": "stdout",
     "output_type": "stream",
     "text": [
      "10\n",
      "3\n",
      "theta = -3.73955433966131, x_initial = -97, y_initial = 25\n"
     ]
    },
    {
     "name": "stderr",
     "output_type": "stream",
     "text": [
      "100%|████████████████████████████████████████████████████████████████████████████████| 121/121 [00:00<00:00, 376.26it/s]\n",
      "100%|███████████████████████████████████████████████████████████████████████████████████| 54/54 [00:00<00:00, 81.65it/s]\n",
      "100%|████████████████████████████████████████████████████████████████████████████████| 121/121 [00:00<00:00, 364.61it/s]\n",
      "100%|█████████████████████████████████████████████████████████████████████████████████| 126/126 [00:01<00:00, 74.18it/s]\n",
      "100%|████████████████████████████████████████████████████████████████████████████████| 121/121 [00:00<00:00, 379.20it/s]\n",
      "100%|█████████████████████████████████████████████████████████████████████████████████| 180/180 [00:02<00:00, 73.48it/s]\n",
      "100%|████████████████████████████████████████████████████████████████████████████████| 121/121 [00:00<00:00, 380.76it/s]\n",
      "100%|█████████████████████████████████████████████████████████████████████████████████| 225/225 [00:03<00:00, 72.51it/s]\n",
      "100%|████████████████████████████████████████████████████████████████████████████████| 121/121 [00:00<00:00, 379.45it/s]\n",
      "100%|█████████████████████████████████████████████████████████████████████████████████| 252/252 [00:03<00:00, 75.07it/s]\n",
      "100%|████████████████████████████████████████████████████████████████████████████████| 121/121 [00:00<00:00, 358.48it/s]\n",
      "100%|█████████████████████████████████████████████████████████████████████████████████| 216/216 [00:03<00:00, 70.67it/s]\n",
      "100%|████████████████████████████████████████████████████████████████████████████████| 121/121 [00:00<00:00, 378.52it/s]\n",
      "100%|█████████████████████████████████████████████████████████████████████████████████| 216/216 [00:02<00:00, 72.38it/s]\n"
     ]
    },
    {
     "name": "stdout",
     "output_type": "stream",
     "text": [
      "theta = -86.63935526828065, x_initial = -6, y_initial = 101\n"
     ]
    },
    {
     "name": "stderr",
     "output_type": "stream",
     "text": [
      "100%|████████████████████████████████████████████████████████████████████████████████| 121/121 [00:00<00:00, 389.53it/s]\n",
      "100%|█████████████████████████████████████████████████████████████████████████████████| 108/108 [00:01<00:00, 77.08it/s]\n",
      "100%|████████████████████████████████████████████████████████████████████████████████| 121/121 [00:00<00:00, 391.25it/s]\n",
      "100%|█████████████████████████████████████████████████████████████████████████████████| 144/144 [00:01<00:00, 77.03it/s]\n",
      "100%|████████████████████████████████████████████████████████████████████████████████| 121/121 [00:00<00:00, 398.60it/s]\n",
      "100%|█████████████████████████████████████████████████████████████████████████████████| 135/135 [00:01<00:00, 75.68it/s]\n",
      "100%|████████████████████████████████████████████████████████████████████████████████| 121/121 [00:00<00:00, 361.73it/s]\n",
      "100%|█████████████████████████████████████████████████████████████████████████████████| 189/189 [00:02<00:00, 68.19it/s]\n",
      "100%|████████████████████████████████████████████████████████████████████████████████| 121/121 [00:00<00:00, 383.69it/s]\n",
      "100%|█████████████████████████████████████████████████████████████████████████████████| 180/180 [00:02<00:00, 73.36it/s]\n",
      "100%|████████████████████████████████████████████████████████████████████████████████| 121/121 [00:00<00:00, 391.55it/s]\n",
      "100%|█████████████████████████████████████████████████████████████████████████████████| 180/180 [00:02<00:00, 73.76it/s]\n",
      "100%|████████████████████████████████████████████████████████████████████████████████| 121/121 [00:00<00:00, 390.89it/s]\n",
      "100%|█████████████████████████████████████████████████████████████████████████████████| 135/135 [00:01<00:00, 76.21it/s]\n"
     ]
    },
    {
     "name": "stdout",
     "output_type": "stream",
     "text": [
      "theta = -164.96188209779976, x_initial = -100, y_initial = 54\n"
     ]
    },
    {
     "name": "stderr",
     "output_type": "stream",
     "text": [
      "100%|████████████████████████████████████████████████████████████████████████████████| 121/121 [00:00<00:00, 372.49it/s]\n",
      "100%|███████████████████████████████████████████████████████████████████████████████████| 72/72 [00:00<00:00, 87.88it/s]\n",
      "100%|████████████████████████████████████████████████████████████████████████████████| 121/121 [00:00<00:00, 363.58it/s]\n",
      "0it [00:00, ?it/s]\n",
      "100%|████████████████████████████████████████████████████████████████████████████████| 121/121 [00:00<00:00, 361.02it/s]\n",
      "0it [00:00, ?it/s]\n",
      "100%|████████████████████████████████████████████████████████████████████████████████| 121/121 [00:00<00:00, 367.72it/s]\n",
      "0it [00:00, ?it/s]\n",
      "100%|████████████████████████████████████████████████████████████████████████████████| 121/121 [00:00<00:00, 342.70it/s]\n",
      "0it [00:00, ?it/s]\n",
      "100%|████████████████████████████████████████████████████████████████████████████████| 121/121 [00:00<00:00, 365.61it/s]\n",
      "0it [00:00, ?it/s]\n",
      "100%|████████████████████████████████████████████████████████████████████████████████| 121/121 [00:00<00:00, 368.55it/s]\n",
      "0it [00:00, ?it/s]\n"
     ]
    },
    {
     "name": "stdout",
     "output_type": "stream",
     "text": [
      "Too far translations filtered out: 2038\n",
      "Alignment time: 44.854483127593994\n",
      "Length: 2\n",
      "Aligning 5 and 9\n",
      "new diag score is estimated\n"
     ]
    },
    {
     "name": "stderr",
     "output_type": "stream",
     "text": [
      "100%|████████████████████████████████████████████████████████████████████████████████| 764/764 [00:04<00:00, 171.31it/s]\n"
     ]
    },
    {
     "name": "stdout",
     "output_type": "stream",
     "text": [
      "16\n",
      "7\n",
      "theta = -118.12445628630134, x_initial = 45, y_initial = -199\n"
     ]
    },
    {
     "name": "stderr",
     "output_type": "stream",
     "text": [
      "100%|████████████████████████████████████████████████████████████████████████████████| 121/121 [00:00<00:00, 175.28it/s]\n",
      "100%|█████████████████████████████████████████████████████████████████████████████████| 135/135 [00:04<00:00, 32.92it/s]\n",
      "100%|████████████████████████████████████████████████████████████████████████████████| 121/121 [00:00<00:00, 182.33it/s]\n",
      "100%|█████████████████████████████████████████████████████████████████████████████████| 171/171 [00:05<00:00, 33.41it/s]\n",
      "100%|████████████████████████████████████████████████████████████████████████████████| 121/121 [00:00<00:00, 182.74it/s]\n",
      "100%|█████████████████████████████████████████████████████████████████████████████████| 189/189 [00:05<00:00, 34.92it/s]\n",
      "100%|████████████████████████████████████████████████████████████████████████████████| 121/121 [00:00<00:00, 178.80it/s]\n",
      "100%|█████████████████████████████████████████████████████████████████████████████████| 153/153 [00:04<00:00, 34.27it/s]\n",
      "100%|████████████████████████████████████████████████████████████████████████████████| 121/121 [00:00<00:00, 184.37it/s]\n",
      "100%|███████████████████████████████████████████████████████████████████████████████████| 99/99 [00:03<00:00, 32.66it/s]\n",
      "100%|████████████████████████████████████████████████████████████████████████████████| 121/121 [00:00<00:00, 185.35it/s]\n",
      "100%|███████████████████████████████████████████████████████████████████████████████████| 63/63 [00:01<00:00, 35.27it/s]\n",
      "100%|████████████████████████████████████████████████████████████████████████████████| 121/121 [00:00<00:00, 181.75it/s]\n",
      "0it [00:00, ?it/s]\n"
     ]
    },
    {
     "name": "stdout",
     "output_type": "stream",
     "text": [
      "theta = -28.616070223227002, x_initial = 215, y_initial = -94\n"
     ]
    },
    {
     "name": "stderr",
     "output_type": "stream",
     "text": [
      "100%|████████████████████████████████████████████████████████████████████████████████| 121/121 [00:00<00:00, 173.61it/s]\n",
      "0it [00:00, ?it/s]\n",
      "100%|████████████████████████████████████████████████████████████████████████████████| 121/121 [00:00<00:00, 173.08it/s]\n",
      "0it [00:00, ?it/s]\n",
      "100%|████████████████████████████████████████████████████████████████████████████████| 121/121 [00:00<00:00, 173.19it/s]\n",
      "0it [00:00, ?it/s]\n",
      "100%|████████████████████████████████████████████████████████████████████████████████| 121/121 [00:00<00:00, 174.17it/s]\n",
      "0it [00:00, ?it/s]\n",
      "100%|████████████████████████████████████████████████████████████████████████████████| 121/121 [00:00<00:00, 174.65it/s]\n",
      "0it [00:00, ?it/s]\n",
      "100%|████████████████████████████████████████████████████████████████████████████████| 121/121 [00:00<00:00, 174.73it/s]\n",
      "0it [00:00, ?it/s]\n",
      "100%|████████████████████████████████████████████████████████████████████████████████| 121/121 [00:00<00:00, 167.84it/s]\n",
      "0it [00:00, ?it/s]\n"
     ]
    },
    {
     "name": "stdout",
     "output_type": "stream",
     "text": [
      "theta = -117.43061820050805, x_initial = 143, y_initial = 45\n"
     ]
    },
    {
     "name": "stderr",
     "output_type": "stream",
     "text": [
      "100%|████████████████████████████████████████████████████████████████████████████████| 121/121 [00:00<00:00, 189.81it/s]\n",
      "0it [00:00, ?it/s]\n",
      "100%|████████████████████████████████████████████████████████████████████████████████| 121/121 [00:00<00:00, 189.86it/s]\n",
      "0it [00:00, ?it/s]\n",
      "100%|████████████████████████████████████████████████████████████████████████████████| 121/121 [00:00<00:00, 187.80it/s]\n",
      "0it [00:00, ?it/s]\n",
      "100%|████████████████████████████████████████████████████████████████████████████████| 121/121 [00:00<00:00, 190.74it/s]\n",
      "0it [00:00, ?it/s]\n",
      "100%|████████████████████████████████████████████████████████████████████████████████| 121/121 [00:00<00:00, 190.16it/s]\n",
      "0it [00:00, ?it/s]\n",
      "100%|████████████████████████████████████████████████████████████████████████████████| 121/121 [00:00<00:00, 187.06it/s]\n",
      "0it [00:00, ?it/s]\n",
      "100%|████████████████████████████████████████████████████████████████████████████████| 121/121 [00:00<00:00, 184.32it/s]\n",
      "0it [00:00, ?it/s]\n"
     ]
    },
    {
     "name": "stdout",
     "output_type": "stream",
     "text": [
      "theta = -8.991874994594497, x_initial = 192, y_initial = -26\n"
     ]
    },
    {
     "name": "stderr",
     "output_type": "stream",
     "text": [
      "100%|████████████████████████████████████████████████████████████████████████████████| 121/121 [00:00<00:00, 187.45it/s]\n",
      "100%|███████████████████████████████████████████████████████████████████████████████████| 45/45 [00:01<00:00, 40.15it/s]\n",
      "100%|████████████████████████████████████████████████████████████████████████████████| 121/121 [00:00<00:00, 186.23it/s]\n",
      "100%|███████████████████████████████████████████████████████████████████████████████████| 90/90 [00:02<00:00, 38.22it/s]\n",
      "100%|████████████████████████████████████████████████████████████████████████████████| 121/121 [00:00<00:00, 185.46it/s]\n",
      "100%|█████████████████████████████████████████████████████████████████████████████████| 108/108 [00:02<00:00, 37.72it/s]\n",
      "100%|████████████████████████████████████████████████████████████████████████████████| 121/121 [00:00<00:00, 188.11it/s]\n",
      "100%|█████████████████████████████████████████████████████████████████████████████████| 162/162 [00:04<00:00, 38.44it/s]\n",
      "100%|████████████████████████████████████████████████████████████████████████████████| 121/121 [00:00<00:00, 184.31it/s]\n",
      "100%|█████████████████████████████████████████████████████████████████████████████████| 162/162 [00:04<00:00, 35.61it/s]\n",
      "100%|████████████████████████████████████████████████████████████████████████████████| 121/121 [00:00<00:00, 185.93it/s]\n",
      "100%|█████████████████████████████████████████████████████████████████████████████████| 207/207 [00:05<00:00, 36.34it/s]\n",
      "100%|████████████████████████████████████████████████████████████████████████████████| 121/121 [00:00<00:00, 185.36it/s]\n",
      "100%|█████████████████████████████████████████████████████████████████████████████████| 216/216 [00:05<00:00, 37.74it/s]\n"
     ]
    },
    {
     "name": "stdout",
     "output_type": "stream",
     "text": [
      "Too far translations filtered out: 920\n",
      "Alignment time: 79.85221076011658\n",
      "Length: 1\n",
      "Aligning 5 and 10\n",
      "new diag score is estimated\n"
     ]
    },
    {
     "name": "stderr",
     "output_type": "stream",
     "text": [
      "100%|████████████████████████████████████████████████████████████████████████████████| 764/764 [00:02<00:00, 359.27it/s]\n"
     ]
    },
    {
     "name": "stdout",
     "output_type": "stream",
     "text": [
      "19\n",
      "5\n",
      "theta = -17.944116103192524, x_initial = 98, y_initial = 108\n"
     ]
    },
    {
     "name": "stderr",
     "output_type": "stream",
     "text": [
      "100%|████████████████████████████████████████████████████████████████████████████████| 121/121 [00:00<00:00, 387.64it/s]\n",
      "100%|█████████████████████████████████████████████████████████████████████████████████| 162/162 [00:01<00:00, 81.27it/s]\n",
      "100%|████████████████████████████████████████████████████████████████████████████████| 121/121 [00:00<00:00, 379.55it/s]\n",
      "100%|█████████████████████████████████████████████████████████████████████████████████| 180/180 [00:02<00:00, 82.40it/s]\n",
      "100%|████████████████████████████████████████████████████████████████████████████████| 121/121 [00:00<00:00, 384.66it/s]\n",
      "100%|█████████████████████████████████████████████████████████████████████████████████| 189/189 [00:02<00:00, 78.67it/s]\n",
      "100%|████████████████████████████████████████████████████████████████████████████████| 121/121 [00:00<00:00, 367.30it/s]\n",
      "100%|█████████████████████████████████████████████████████████████████████████████████| 198/198 [00:02<00:00, 75.86it/s]\n",
      "100%|████████████████████████████████████████████████████████████████████████████████| 121/121 [00:00<00:00, 387.12it/s]\n",
      "100%|█████████████████████████████████████████████████████████████████████████████████| 216/216 [00:02<00:00, 78.10it/s]\n",
      "100%|████████████████████████████████████████████████████████████████████████████████| 121/121 [00:00<00:00, 391.01it/s]\n",
      "100%|█████████████████████████████████████████████████████████████████████████████████| 180/180 [00:02<00:00, 78.64it/s]\n",
      "100%|████████████████████████████████████████████████████████████████████████████████| 121/121 [00:00<00:00, 380.95it/s]\n",
      "100%|█████████████████████████████████████████████████████████████████████████████████| 162/162 [00:01<00:00, 81.87it/s]\n"
     ]
    },
    {
     "name": "stdout",
     "output_type": "stream",
     "text": [
      "theta = -47.51949049059029, x_initial = 122, y_initial = -49\n"
     ]
    },
    {
     "name": "stderr",
     "output_type": "stream",
     "text": [
      "100%|████████████████████████████████████████████████████████████████████████████████| 121/121 [00:00<00:00, 391.64it/s]\n",
      "0it [00:00, ?it/s]\n",
      "100%|████████████████████████████████████████████████████████████████████████████████| 121/121 [00:00<00:00, 395.21it/s]\n",
      "0it [00:00, ?it/s]\n",
      "100%|████████████████████████████████████████████████████████████████████████████████| 121/121 [00:00<00:00, 368.87it/s]\n",
      "0it [00:00, ?it/s]\n",
      "100%|████████████████████████████████████████████████████████████████████████████████| 121/121 [00:00<00:00, 387.10it/s]\n",
      "0it [00:00, ?it/s]\n",
      "100%|████████████████████████████████████████████████████████████████████████████████| 121/121 [00:00<00:00, 385.53it/s]\n",
      "0it [00:00, ?it/s]\n",
      "100%|████████████████████████████████████████████████████████████████████████████████| 121/121 [00:00<00:00, 379.22it/s]\n",
      "0it [00:00, ?it/s]\n",
      "100%|████████████████████████████████████████████████████████████████████████████████| 121/121 [00:00<00:00, 388.50it/s]\n",
      "0it [00:00, ?it/s]\n"
     ]
    },
    {
     "name": "stdout",
     "output_type": "stream",
     "text": [
      "theta = -117.0009925438333, x_initial = -50, y_initial = -119\n"
     ]
    },
    {
     "name": "stderr",
     "output_type": "stream",
     "text": [
      "100%|████████████████████████████████████████████████████████████████████████████████| 121/121 [00:00<00:00, 378.76it/s]\n",
      "100%|█████████████████████████████████████████████████████████████████████████████████| 189/189 [00:02<00:00, 77.82it/s]\n",
      "100%|████████████████████████████████████████████████████████████████████████████████| 121/121 [00:00<00:00, 379.74it/s]\n",
      "100%|█████████████████████████████████████████████████████████████████████████████████| 216/216 [00:02<00:00, 78.68it/s]\n",
      "100%|████████████████████████████████████████████████████████████████████████████████| 121/121 [00:00<00:00, 378.37it/s]\n",
      "100%|█████████████████████████████████████████████████████████████████████████████████| 216/216 [00:02<00:00, 77.69it/s]\n",
      "100%|████████████████████████████████████████████████████████████████████████████████| 121/121 [00:00<00:00, 384.65it/s]\n",
      "100%|█████████████████████████████████████████████████████████████████████████████████| 216/216 [00:02<00:00, 82.14it/s]\n",
      "100%|████████████████████████████████████████████████████████████████████████████████| 121/121 [00:00<00:00, 387.14it/s]\n",
      "100%|█████████████████████████████████████████████████████████████████████████████████| 189/189 [00:02<00:00, 80.68it/s]\n",
      "100%|████████████████████████████████████████████████████████████████████████████████| 121/121 [00:00<00:00, 383.67it/s]\n",
      "100%|█████████████████████████████████████████████████████████████████████████████████| 117/117 [00:01<00:00, 80.64it/s]\n",
      "100%|████████████████████████████████████████████████████████████████████████████████| 121/121 [00:00<00:00, 383.11it/s]\n",
      "100%|███████████████████████████████████████████████████████████████████████████████████| 18/18 [00:00<00:00, 96.65it/s]\n"
     ]
    },
    {
     "name": "stdout",
     "output_type": "stream",
     "text": [
      "theta = -27.1636885635477, x_initial = -51, y_initial = -139\n"
     ]
    },
    {
     "name": "stderr",
     "output_type": "stream",
     "text": [
      "100%|████████████████████████████████████████████████████████████████████████████████| 121/121 [00:00<00:00, 374.04it/s]\n",
      "0it [00:00, ?it/s]\n",
      "100%|████████████████████████████████████████████████████████████████████████████████| 121/121 [00:00<00:00, 353.48it/s]\n",
      "0it [00:00, ?it/s]\n",
      "100%|████████████████████████████████████████████████████████████████████████████████| 121/121 [00:00<00:00, 301.50it/s]\n",
      "0it [00:00, ?it/s]\n",
      "100%|████████████████████████████████████████████████████████████████████████████████| 121/121 [00:00<00:00, 323.28it/s]\n",
      "0it [00:00, ?it/s]\n",
      "100%|████████████████████████████████████████████████████████████████████████████████| 121/121 [00:00<00:00, 327.49it/s]\n",
      "0it [00:00, ?it/s]\n",
      "100%|████████████████████████████████████████████████████████████████████████████████| 121/121 [00:00<00:00, 329.24it/s]\n",
      "0it [00:00, ?it/s]\n",
      "100%|████████████████████████████████████████████████████████████████████████████████| 121/121 [00:00<00:00, 307.99it/s]\n",
      "0it [00:00, ?it/s]\n"
     ]
    },
    {
     "name": "stdout",
     "output_type": "stream",
     "text": [
      "Too far translations filtered out: 1909\n",
      "Alignment time: 46.99231767654419\n",
      "Length: 4\n",
      "Aligning 5 and 11\n",
      "new diag score is estimated\n"
     ]
    },
    {
     "name": "stderr",
     "output_type": "stream",
     "text": [
      "100%|████████████████████████████████████████████████████████████████████████████████| 764/764 [00:03<00:00, 227.51it/s]\n"
     ]
    },
    {
     "name": "stdout",
     "output_type": "stream",
     "text": [
      "20\n",
      "5\n",
      "theta = -112.42942038486972, x_initial = -107, y_initial = -143\n"
     ]
    },
    {
     "name": "stderr",
     "output_type": "stream",
     "text": [
      "100%|████████████████████████████████████████████████████████████████████████████████| 121/121 [00:00<00:00, 169.42it/s]\n",
      "0it [00:00, ?it/s]\n",
      "100%|████████████████████████████████████████████████████████████████████████████████| 121/121 [00:00<00:00, 165.02it/s]\n",
      "0it [00:00, ?it/s]\n",
      "100%|████████████████████████████████████████████████████████████████████████████████| 121/121 [00:00<00:00, 170.81it/s]\n",
      "0it [00:00, ?it/s]\n",
      "100%|████████████████████████████████████████████████████████████████████████████████| 121/121 [00:00<00:00, 177.47it/s]\n",
      "0it [00:00, ?it/s]\n",
      "100%|████████████████████████████████████████████████████████████████████████████████| 121/121 [00:00<00:00, 177.89it/s]\n",
      "0it [00:00, ?it/s]\n",
      "100%|████████████████████████████████████████████████████████████████████████████████| 121/121 [00:00<00:00, 182.05it/s]\n",
      "0it [00:00, ?it/s]\n",
      "100%|████████████████████████████████████████████████████████████████████████████████| 121/121 [00:00<00:00, 181.00it/s]\n",
      "0it [00:00, ?it/s]\n"
     ]
    },
    {
     "name": "stdout",
     "output_type": "stream",
     "text": [
      "theta = -115.71452928800531, x_initial = -41, y_initial = -137\n"
     ]
    },
    {
     "name": "stderr",
     "output_type": "stream",
     "text": [
      "100%|████████████████████████████████████████████████████████████████████████████████| 121/121 [00:00<00:00, 190.91it/s]\n",
      "100%|█████████████████████████████████████████████████████████████████████████████████| 171/171 [00:04<00:00, 35.50it/s]\n",
      "100%|████████████████████████████████████████████████████████████████████████████████| 121/121 [00:00<00:00, 194.31it/s]\n",
      "100%|█████████████████████████████████████████████████████████████████████████████████| 171/171 [00:04<00:00, 36.20it/s]\n",
      "100%|████████████████████████████████████████████████████████████████████████████████| 121/121 [00:00<00:00, 195.64it/s]\n",
      "100%|█████████████████████████████████████████████████████████████████████████████████| 198/198 [00:05<00:00, 36.19it/s]\n",
      "100%|████████████████████████████████████████████████████████████████████████████████| 121/121 [00:00<00:00, 195.01it/s]\n",
      "100%|█████████████████████████████████████████████████████████████████████████████████| 126/126 [00:03<00:00, 33.20it/s]\n",
      "100%|████████████████████████████████████████████████████████████████████████████████| 121/121 [00:00<00:00, 194.96it/s]\n",
      "100%|███████████████████████████████████████████████████████████████████████████████████| 99/99 [00:02<00:00, 36.52it/s]\n",
      "100%|████████████████████████████████████████████████████████████████████████████████| 121/121 [00:00<00:00, 194.45it/s]\n",
      "100%|███████████████████████████████████████████████████████████████████████████████████| 72/72 [00:01<00:00, 36.32it/s]\n",
      "100%|████████████████████████████████████████████████████████████████████████████████| 121/121 [00:00<00:00, 184.83it/s]\n",
      "100%|███████████████████████████████████████████████████████████████████████████████████| 54/54 [00:01<00:00, 35.80it/s]\n"
     ]
    },
    {
     "name": "stdout",
     "output_type": "stream",
     "text": [
      "theta = -58.55324254714243, x_initial = 57, y_initial = 117\n"
     ]
    },
    {
     "name": "stderr",
     "output_type": "stream",
     "text": [
      "100%|████████████████████████████████████████████████████████████████████████████████| 121/121 [00:00<00:00, 197.25it/s]\n",
      "0it [00:00, ?it/s]\n",
      "100%|████████████████████████████████████████████████████████████████████████████████| 121/121 [00:00<00:00, 195.28it/s]\n",
      "100%|███████████████████████████████████████████████████████████████████████████████████| 27/27 [00:00<00:00, 36.62it/s]\n",
      "100%|████████████████████████████████████████████████████████████████████████████████| 121/121 [00:00<00:00, 195.73it/s]\n",
      "100%|███████████████████████████████████████████████████████████████████████████████████| 72/72 [00:01<00:00, 37.96it/s]\n",
      "100%|████████████████████████████████████████████████████████████████████████████████| 121/121 [00:00<00:00, 192.87it/s]\n",
      "100%|█████████████████████████████████████████████████████████████████████████████████| 108/108 [00:03<00:00, 35.08it/s]\n",
      "100%|████████████████████████████████████████████████████████████████████████████████| 121/121 [00:00<00:00, 195.14it/s]\n",
      "100%|█████████████████████████████████████████████████████████████████████████████████| 171/171 [00:05<00:00, 34.15it/s]\n",
      "100%|████████████████████████████████████████████████████████████████████████████████| 121/121 [00:00<00:00, 175.31it/s]\n",
      "100%|█████████████████████████████████████████████████████████████████████████████████| 207/207 [00:05<00:00, 37.82it/s]\n",
      "100%|████████████████████████████████████████████████████████████████████████████████| 121/121 [00:00<00:00, 203.75it/s]\n",
      "100%|█████████████████████████████████████████████████████████████████████████████████| 189/189 [00:05<00:00, 37.48it/s]\n"
     ]
    },
    {
     "name": "stdout",
     "output_type": "stream",
     "text": [
      "theta = -149.5559056477126, x_initial = -31, y_initial = 153\n"
     ]
    },
    {
     "name": "stderr",
     "output_type": "stream",
     "text": [
      "100%|████████████████████████████████████████████████████████████████████████████████| 121/121 [00:00<00:00, 204.03it/s]\n",
      "100%|███████████████████████████████████████████████████████████████████████████████████| 45/45 [00:00<00:00, 54.26it/s]\n",
      "100%|████████████████████████████████████████████████████████████████████████████████| 121/121 [00:00<00:00, 205.16it/s]\n",
      "100%|███████████████████████████████████████████████████████████████████████████████████| 81/81 [00:02<00:00, 39.65it/s]\n",
      "100%|████████████████████████████████████████████████████████████████████████████████| 121/121 [00:00<00:00, 151.03it/s]\n",
      "100%|█████████████████████████████████████████████████████████████████████████████████| 108/108 [00:03<00:00, 35.09it/s]\n",
      "100%|████████████████████████████████████████████████████████████████████████████████| 121/121 [00:00<00:00, 203.45it/s]\n",
      "100%|█████████████████████████████████████████████████████████████████████████████████| 108/108 [00:02<00:00, 36.74it/s]\n",
      "100%|████████████████████████████████████████████████████████████████████████████████| 121/121 [00:00<00:00, 169.58it/s]\n",
      "100%|███████████████████████████████████████████████████████████████████████████████████| 54/54 [00:01<00:00, 39.48it/s]\n",
      "100%|████████████████████████████████████████████████████████████████████████████████| 121/121 [00:00<00:00, 203.43it/s]\n",
      "0it [00:00, ?it/s]\n",
      "100%|████████████████████████████████████████████████████████████████████████████████| 121/121 [00:00<00:00, 195.24it/s]\n",
      "0it [00:00, ?it/s]\n"
     ]
    },
    {
     "name": "stdout",
     "output_type": "stream",
     "text": [
      "Too far translations filtered out: 1403\n",
      "Alignment time: 84.24930357933044\n",
      "Length: 3\n",
      "Aligning 5 and 12\n",
      "new diag score is estimated\n"
     ]
    },
    {
     "name": "stderr",
     "output_type": "stream",
     "text": [
      "100%|████████████████████████████████████████████████████████████████████████████████| 764/764 [00:01<00:00, 681.28it/s]\n"
     ]
    },
    {
     "name": "stdout",
     "output_type": "stream",
     "text": [
      "11\n",
      "4\n",
      "theta = -123.80965537864343, x_initial = 66, y_initial = 42\n"
     ]
    },
    {
     "name": "stderr",
     "output_type": "stream",
     "text": [
      "100%|████████████████████████████████████████████████████████████████████████████████| 121/121 [00:00<00:00, 630.17it/s]\n",
      "0it [00:00, ?it/s]\n",
      "100%|████████████████████████████████████████████████████████████████████████████████| 121/121 [00:00<00:00, 664.14it/s]\n",
      "0it [00:00, ?it/s]\n",
      "100%|████████████████████████████████████████████████████████████████████████████████| 121/121 [00:00<00:00, 626.54it/s]\n",
      "0it [00:00, ?it/s]\n",
      "100%|████████████████████████████████████████████████████████████████████████████████| 121/121 [00:00<00:00, 499.27it/s]\n",
      "0it [00:00, ?it/s]\n",
      "100%|████████████████████████████████████████████████████████████████████████████████| 121/121 [00:00<00:00, 564.67it/s]\n",
      "0it [00:00, ?it/s]\n",
      "100%|████████████████████████████████████████████████████████████████████████████████| 121/121 [00:00<00:00, 653.95it/s]\n",
      "0it [00:00, ?it/s]\n",
      "100%|████████████████████████████████████████████████████████████████████████████████| 121/121 [00:00<00:00, 638.49it/s]\n",
      "0it [00:00, ?it/s]\n"
     ]
    },
    {
     "name": "stdout",
     "output_type": "stream",
     "text": [
      "theta = -63.17355945745751, x_initial = 99, y_initial = 36\n"
     ]
    },
    {
     "name": "stderr",
     "output_type": "stream",
     "text": [
      "100%|████████████████████████████████████████████████████████████████████████████████| 121/121 [00:00<00:00, 526.26it/s]\n",
      "100%|████████████████████████████████████████████████████████████████████████████████| 153/153 [00:01<00:00, 110.48it/s]\n",
      "100%|████████████████████████████████████████████████████████████████████████████████| 121/121 [00:00<00:00, 599.72it/s]\n",
      "100%|████████████████████████████████████████████████████████████████████████████████| 171/171 [00:01<00:00, 117.94it/s]\n",
      "100%|████████████████████████████████████████████████████████████████████████████████| 121/121 [00:00<00:00, 566.95it/s]\n",
      "100%|████████████████████████████████████████████████████████████████████████████████| 198/198 [00:01<00:00, 122.19it/s]\n",
      "100%|████████████████████████████████████████████████████████████████████████████████| 121/121 [00:00<00:00, 542.60it/s]\n",
      "100%|████████████████████████████████████████████████████████████████████████████████| 216/216 [00:01<00:00, 117.09it/s]\n",
      "100%|████████████████████████████████████████████████████████████████████████████████| 121/121 [00:00<00:00, 586.07it/s]\n",
      "100%|████████████████████████████████████████████████████████████████████████████████| 252/252 [00:01<00:00, 126.24it/s]\n",
      "100%|████████████████████████████████████████████████████████████████████████████████| 121/121 [00:00<00:00, 569.01it/s]\n",
      "100%|████████████████████████████████████████████████████████████████████████████████| 225/225 [00:01<00:00, 123.19it/s]\n",
      "100%|████████████████████████████████████████████████████████████████████████████████| 121/121 [00:00<00:00, 571.22it/s]\n",
      "100%|████████████████████████████████████████████████████████████████████████████████| 189/189 [00:01<00:00, 113.37it/s]\n"
     ]
    },
    {
     "name": "stdout",
     "output_type": "stream",
     "text": [
      "theta = -80.12067566662236, x_initial = -22, y_initial = 86\n"
     ]
    },
    {
     "name": "stderr",
     "output_type": "stream",
     "text": [
      "100%|████████████████████████████████████████████████████████████████████████████████| 121/121 [00:00<00:00, 628.40it/s]\n",
      "100%|████████████████████████████████████████████████████████████████████████████████| 153/153 [00:01<00:00, 122.93it/s]\n",
      "100%|████████████████████████████████████████████████████████████████████████████████| 121/121 [00:00<00:00, 620.17it/s]\n",
      "100%|████████████████████████████████████████████████████████████████████████████████| 189/189 [00:01<00:00, 126.51it/s]\n",
      "100%|████████████████████████████████████████████████████████████████████████████████| 121/121 [00:00<00:00, 624.50it/s]\n",
      "100%|████████████████████████████████████████████████████████████████████████████████| 198/198 [00:01<00:00, 125.67it/s]\n",
      "100%|████████████████████████████████████████████████████████████████████████████████| 121/121 [00:00<00:00, 625.24it/s]\n",
      "100%|████████████████████████████████████████████████████████████████████████████████| 207/207 [00:01<00:00, 123.15it/s]\n",
      "100%|████████████████████████████████████████████████████████████████████████████████| 121/121 [00:00<00:00, 630.69it/s]\n",
      "100%|████████████████████████████████████████████████████████████████████████████████| 216/216 [00:01<00:00, 124.83it/s]\n",
      "100%|████████████████████████████████████████████████████████████████████████████████| 121/121 [00:00<00:00, 575.13it/s]\n",
      "100%|████████████████████████████████████████████████████████████████████████████████| 207/207 [00:01<00:00, 128.03it/s]\n",
      "100%|████████████████████████████████████████████████████████████████████████████████| 121/121 [00:00<00:00, 633.52it/s]\n",
      "100%|████████████████████████████████████████████████████████████████████████████████| 189/189 [00:01<00:00, 129.40it/s]\n"
     ]
    },
    {
     "name": "stdout",
     "output_type": "stream",
     "text": [
      "theta = -28.813817290446746, x_initial = 70, y_initial = 47\n"
     ]
    },
    {
     "name": "stderr",
     "output_type": "stream",
     "text": [
      "100%|████████████████████████████████████████████████████████████████████████████████| 121/121 [00:00<00:00, 591.48it/s]\n",
      "0it [00:00, ?it/s]\n",
      "100%|████████████████████████████████████████████████████████████████████████████████| 121/121 [00:00<00:00, 579.60it/s]\n",
      "0it [00:00, ?it/s]\n",
      "100%|████████████████████████████████████████████████████████████████████████████████| 121/121 [00:00<00:00, 600.24it/s]\n",
      "0it [00:00, ?it/s]\n",
      "100%|████████████████████████████████████████████████████████████████████████████████| 121/121 [00:00<00:00, 562.06it/s]\n",
      "0it [00:00, ?it/s]\n",
      "100%|████████████████████████████████████████████████████████████████████████████████| 121/121 [00:00<00:00, 616.18it/s]\n",
      "0it [00:00, ?it/s]\n",
      "100%|████████████████████████████████████████████████████████████████████████████████| 121/121 [00:00<00:00, 651.00it/s]\n",
      "0it [00:00, ?it/s]\n",
      "100%|████████████████████████████████████████████████████████████████████████████████| 121/121 [00:00<00:00, 635.78it/s]\n",
      "0it [00:00, ?it/s]\n"
     ]
    },
    {
     "name": "stdout",
     "output_type": "stream",
     "text": [
      "Too far translations filtered out: 2341\n",
      "Alignment time: 32.443692445755005\n",
      "Length: 3\n",
      "Aligning 5 and 14\n",
      "new diag score is estimated\n"
     ]
    },
    {
     "name": "stderr",
     "output_type": "stream",
     "text": [
      "100%|████████████████████████████████████████████████████████████████████████████████| 764/764 [00:03<00:00, 251.58it/s]\n"
     ]
    },
    {
     "name": "stdout",
     "output_type": "stream",
     "text": [
      "13\n",
      "6\n",
      "theta = -129.9603478029826, x_initial = 19, y_initial = -142\n"
     ]
    },
    {
     "name": "stderr",
     "output_type": "stream",
     "text": [
      "100%|████████████████████████████████████████████████████████████████████████████████| 121/121 [00:00<00:00, 220.43it/s]\n",
      "0it [00:00, ?it/s]\n",
      "100%|████████████████████████████████████████████████████████████████████████████████| 121/121 [00:00<00:00, 240.87it/s]\n",
      "0it [00:00, ?it/s]\n",
      "100%|████████████████████████████████████████████████████████████████████████████████| 121/121 [00:00<00:00, 205.26it/s]\n",
      "0it [00:00, ?it/s]\n",
      "100%|████████████████████████████████████████████████████████████████████████████████| 121/121 [00:00<00:00, 235.25it/s]\n",
      "0it [00:00, ?it/s]\n",
      "100%|████████████████████████████████████████████████████████████████████████████████| 121/121 [00:00<00:00, 223.77it/s]\n",
      "0it [00:00, ?it/s]\n",
      "100%|████████████████████████████████████████████████████████████████████████████████| 121/121 [00:00<00:00, 230.61it/s]\n",
      "0it [00:00, ?it/s]\n",
      "100%|████████████████████████████████████████████████████████████████████████████████| 121/121 [00:00<00:00, 232.84it/s]\n",
      "0it [00:00, ?it/s]\n"
     ]
    },
    {
     "name": "stdout",
     "output_type": "stream",
     "text": [
      "theta = -121.54286083694733, x_initial = 183, y_initial = 20\n"
     ]
    },
    {
     "name": "stderr",
     "output_type": "stream",
     "text": [
      "100%|████████████████████████████████████████████████████████████████████████████████| 121/121 [00:00<00:00, 221.17it/s]\n",
      "100%|█████████████████████████████████████████████████████████████████████████████████| 117/117 [00:02<00:00, 43.16it/s]\n",
      "100%|████████████████████████████████████████████████████████████████████████████████| 121/121 [00:00<00:00, 219.47it/s]\n",
      "100%|█████████████████████████████████████████████████████████████████████████████████| 162/162 [00:03<00:00, 46.31it/s]\n",
      "100%|████████████████████████████████████████████████████████████████████████████████| 121/121 [00:00<00:00, 225.69it/s]\n",
      "100%|█████████████████████████████████████████████████████████████████████████████████| 135/135 [00:03<00:00, 43.00it/s]\n",
      "100%|████████████████████████████████████████████████████████████████████████████████| 121/121 [00:00<00:00, 226.60it/s]\n",
      "100%|█████████████████████████████████████████████████████████████████████████████████| 126/126 [00:02<00:00, 43.89it/s]\n",
      "100%|████████████████████████████████████████████████████████████████████████████████| 121/121 [00:00<00:00, 229.69it/s]\n",
      "100%|█████████████████████████████████████████████████████████████████████████████████| 135/135 [00:03<00:00, 44.67it/s]\n",
      "100%|████████████████████████████████████████████████████████████████████████████████| 121/121 [00:00<00:00, 224.52it/s]\n",
      "100%|█████████████████████████████████████████████████████████████████████████████████| 108/108 [00:02<00:00, 40.00it/s]\n",
      "100%|████████████████████████████████████████████████████████████████████████████████| 121/121 [00:00<00:00, 227.13it/s]\n",
      "100%|███████████████████████████████████████████████████████████████████████████████████| 72/72 [00:01<00:00, 42.24it/s]\n"
     ]
    },
    {
     "name": "stdout",
     "output_type": "stream",
     "text": [
      "theta = -104.58910673169238, x_initial = 161, y_initial = 24\n"
     ]
    },
    {
     "name": "stderr",
     "output_type": "stream",
     "text": [
      "100%|████████████████████████████████████████████████████████████████████████████████| 121/121 [00:00<00:00, 207.96it/s]\n",
      "0it [00:00, ?it/s]\n",
      "100%|████████████████████████████████████████████████████████████████████████████████| 121/121 [00:00<00:00, 215.29it/s]\n",
      "0it [00:00, ?it/s]\n",
      "100%|████████████████████████████████████████████████████████████████████████████████| 121/121 [00:00<00:00, 225.70it/s]\n",
      "0it [00:00, ?it/s]\n",
      "100%|████████████████████████████████████████████████████████████████████████████████| 121/121 [00:00<00:00, 224.14it/s]\n",
      "0it [00:00, ?it/s]\n",
      "100%|████████████████████████████████████████████████████████████████████████████████| 121/121 [00:00<00:00, 226.97it/s]\n",
      "0it [00:00, ?it/s]\n",
      "100%|████████████████████████████████████████████████████████████████████████████████| 121/121 [00:00<00:00, 225.63it/s]\n",
      "0it [00:00, ?it/s]\n",
      "100%|████████████████████████████████████████████████████████████████████████████████| 121/121 [00:00<00:00, 225.55it/s]\n",
      "0it [00:00, ?it/s]\n"
     ]
    },
    {
     "name": "stdout",
     "output_type": "stream",
     "text": [
      "theta = -126.82740517216746, x_initial = 101, y_initial = -141\n"
     ]
    },
    {
     "name": "stderr",
     "output_type": "stream",
     "text": [
      "100%|████████████████████████████████████████████████████████████████████████████████| 121/121 [00:00<00:00, 218.23it/s]\n",
      "0it [00:00, ?it/s]\n",
      "100%|████████████████████████████████████████████████████████████████████████████████| 121/121 [00:00<00:00, 223.58it/s]\n",
      "0it [00:00, ?it/s]\n",
      "100%|████████████████████████████████████████████████████████████████████████████████| 121/121 [00:00<00:00, 224.19it/s]\n",
      "0it [00:00, ?it/s]\n",
      "100%|████████████████████████████████████████████████████████████████████████████████| 121/121 [00:00<00:00, 223.90it/s]\n",
      "0it [00:00, ?it/s]\n",
      "100%|████████████████████████████████████████████████████████████████████████████████| 121/121 [00:00<00:00, 226.13it/s]\n",
      "0it [00:00, ?it/s]\n",
      "100%|████████████████████████████████████████████████████████████████████████████████| 121/121 [00:00<00:00, 217.76it/s]\n",
      "0it [00:00, ?it/s]\n",
      "100%|████████████████████████████████████████████████████████████████████████████████| 121/121 [00:00<00:00, 225.06it/s]\n",
      "0it [00:00, ?it/s]\n"
     ]
    },
    {
     "name": "stdout",
     "output_type": "stream",
     "text": [
      "Too far translations filtered out: 618\n",
      "Alignment time: 42.99673843383789\n",
      "Length: 1\n",
      "Aligning 5 and 15\n",
      "new diag score is estimated\n"
     ]
    },
    {
     "name": "stderr",
     "output_type": "stream",
     "text": [
      "100%|████████████████████████████████████████████████████████████████████████████████| 764/764 [00:03<00:00, 251.39it/s]\n"
     ]
    },
    {
     "name": "stdout",
     "output_type": "stream",
     "text": [
      "5\n",
      "2\n",
      "theta = -104.1127978061159, x_initial = -87, y_initial = -159\n"
     ]
    },
    {
     "name": "stderr",
     "output_type": "stream",
     "text": [
      "100%|████████████████████████████████████████████████████████████████████████████████| 121/121 [00:00<00:00, 258.44it/s]\n",
      "0it [00:00, ?it/s]\n",
      "100%|████████████████████████████████████████████████████████████████████████████████| 121/121 [00:00<00:00, 262.39it/s]\n",
      "0it [00:00, ?it/s]\n",
      "100%|████████████████████████████████████████████████████████████████████████████████| 121/121 [00:00<00:00, 260.79it/s]\n",
      "0it [00:00, ?it/s]\n",
      "100%|████████████████████████████████████████████████████████████████████████████████| 121/121 [00:00<00:00, 263.91it/s]\n",
      "0it [00:00, ?it/s]\n",
      "100%|████████████████████████████████████████████████████████████████████████████████| 121/121 [00:00<00:00, 258.42it/s]\n",
      "0it [00:00, ?it/s]\n",
      "100%|████████████████████████████████████████████████████████████████████████████████| 121/121 [00:00<00:00, 263.14it/s]\n",
      "0it [00:00, ?it/s]\n",
      "100%|████████████████████████████████████████████████████████████████████████████████| 121/121 [00:00<00:00, 257.94it/s]\n",
      "0it [00:00, ?it/s]\n"
     ]
    },
    {
     "name": "stdout",
     "output_type": "stream",
     "text": [
      "theta = -113.60322575536165, x_initial = 154, y_initial = 14\n"
     ]
    },
    {
     "name": "stderr",
     "output_type": "stream",
     "text": [
      "100%|████████████████████████████████████████████████████████████████████████████████| 121/121 [00:00<00:00, 271.73it/s]\n",
      "100%|█████████████████████████████████████████████████████████████████████████████████| 126/126 [00:02<00:00, 51.37it/s]\n",
      "100%|████████████████████████████████████████████████████████████████████████████████| 121/121 [00:00<00:00, 270.81it/s]\n",
      "100%|█████████████████████████████████████████████████████████████████████████████████| 144/144 [00:02<00:00, 50.99it/s]\n",
      "100%|████████████████████████████████████████████████████████████████████████████████| 121/121 [00:00<00:00, 269.37it/s]\n",
      "100%|█████████████████████████████████████████████████████████████████████████████████| 144/144 [00:02<00:00, 51.31it/s]\n",
      "100%|████████████████████████████████████████████████████████████████████████████████| 121/121 [00:00<00:00, 273.36it/s]\n",
      "100%|█████████████████████████████████████████████████████████████████████████████████| 153/153 [00:02<00:00, 51.93it/s]\n",
      "100%|████████████████████████████████████████████████████████████████████████████████| 121/121 [00:00<00:00, 269.14it/s]\n",
      "100%|█████████████████████████████████████████████████████████████████████████████████| 153/153 [00:02<00:00, 52.70it/s]\n",
      "100%|████████████████████████████████████████████████████████████████████████████████| 121/121 [00:00<00:00, 273.50it/s]\n",
      "100%|█████████████████████████████████████████████████████████████████████████████████| 144/144 [00:02<00:00, 53.83it/s]\n",
      "100%|████████████████████████████████████████████████████████████████████████████████| 121/121 [00:00<00:00, 276.63it/s]\n",
      "100%|█████████████████████████████████████████████████████████████████████████████████| 117/117 [00:02<00:00, 51.65it/s]\n"
     ]
    },
    {
     "name": "stdout",
     "output_type": "stream",
     "text": [
      "Alignment time: 31.503801345825195\n",
      "Length: 0\n",
      "Aligning 6 and 7\n",
      "new diag score is estimated\n"
     ]
    },
    {
     "name": "stderr",
     "output_type": "stream",
     "text": [
      "100%|████████████████████████████████████████████████████████████████████████████████| 842/842 [00:03<00:00, 255.05it/s]\n"
     ]
    },
    {
     "name": "stdout",
     "output_type": "stream",
     "text": [
      "18\n",
      "7\n",
      "theta = -82.95429145901961, x_initial = 105, y_initial = -172\n"
     ]
    },
    {
     "name": "stderr",
     "output_type": "stream",
     "text": [
      "100%|████████████████████████████████████████████████████████████████████████████████| 121/121 [00:00<00:00, 235.38it/s]\n",
      "100%|█████████████████████████████████████████████████████████████████████████████████| 126/126 [00:02<00:00, 47.36it/s]\n",
      "100%|████████████████████████████████████████████████████████████████████████████████| 121/121 [00:00<00:00, 236.82it/s]\n",
      "100%|█████████████████████████████████████████████████████████████████████████████████| 162/162 [00:03<00:00, 44.71it/s]\n",
      "100%|████████████████████████████████████████████████████████████████████████████████| 121/121 [00:00<00:00, 235.25it/s]\n",
      "100%|█████████████████████████████████████████████████████████████████████████████████| 225/225 [00:04<00:00, 48.45it/s]\n",
      "100%|████████████████████████████████████████████████████████████████████████████████| 121/121 [00:00<00:00, 235.50it/s]\n",
      "100%|█████████████████████████████████████████████████████████████████████████████████| 207/207 [00:04<00:00, 45.51it/s]\n",
      "100%|████████████████████████████████████████████████████████████████████████████████| 121/121 [00:00<00:00, 235.16it/s]\n",
      "100%|█████████████████████████████████████████████████████████████████████████████████| 198/198 [00:04<00:00, 47.32it/s]\n",
      "100%|████████████████████████████████████████████████████████████████████████████████| 121/121 [00:00<00:00, 223.83it/s]\n",
      "100%|█████████████████████████████████████████████████████████████████████████████████| 189/189 [00:04<00:00, 45.54it/s]\n",
      "100%|████████████████████████████████████████████████████████████████████████████████| 121/121 [00:00<00:00, 228.67it/s]\n",
      "100%|█████████████████████████████████████████████████████████████████████████████████| 162/162 [00:03<00:00, 46.40it/s]\n"
     ]
    },
    {
     "name": "stdout",
     "output_type": "stream",
     "text": [
      "theta = -8.490213451143111, x_initial = -67, y_initial = -63\n"
     ]
    },
    {
     "name": "stderr",
     "output_type": "stream",
     "text": [
      "100%|████████████████████████████████████████████████████████████████████████████████| 121/121 [00:00<00:00, 258.62it/s]\n",
      "0it [00:00, ?it/s]\n",
      "100%|████████████████████████████████████████████████████████████████████████████████| 121/121 [00:00<00:00, 258.46it/s]\n",
      "0it [00:00, ?it/s]\n",
      "100%|████████████████████████████████████████████████████████████████████████████████| 121/121 [00:00<00:00, 251.39it/s]\n",
      "100%|███████████████████████████████████████████████████████████████████████████████████| 18/18 [00:00<00:00, 85.05it/s]\n",
      "100%|████████████████████████████████████████████████████████████████████████████████| 121/121 [00:00<00:00, 258.60it/s]\n",
      "100%|█████████████████████████████████████████████████████████████████████████████████| 135/135 [00:02<00:00, 49.82it/s]\n",
      "100%|████████████████████████████████████████████████████████████████████████████████| 121/121 [00:00<00:00, 247.70it/s]\n",
      "100%|█████████████████████████████████████████████████████████████████████████████████| 144/144 [00:03<00:00, 47.03it/s]\n",
      "100%|████████████████████████████████████████████████████████████████████████████████| 121/121 [00:00<00:00, 255.86it/s]\n",
      "100%|█████████████████████████████████████████████████████████████████████████████████| 153/153 [00:03<00:00, 43.80it/s]\n",
      "100%|████████████████████████████████████████████████████████████████████████████████| 121/121 [00:00<00:00, 204.12it/s]\n",
      "100%|█████████████████████████████████████████████████████████████████████████████████| 162/162 [00:03<00:00, 46.19it/s]\n"
     ]
    },
    {
     "name": "stdout",
     "output_type": "stream",
     "text": [
      "theta = -17.490868928906497, x_initial = 151, y_initial = 7\n"
     ]
    },
    {
     "name": "stderr",
     "output_type": "stream",
     "text": [
      "100%|████████████████████████████████████████████████████████████████████████████████| 121/121 [00:00<00:00, 207.02it/s]\n",
      "0it [00:00, ?it/s]\n",
      "100%|████████████████████████████████████████████████████████████████████████████████| 121/121 [00:00<00:00, 216.62it/s]\n",
      "0it [00:00, ?it/s]\n",
      "100%|████████████████████████████████████████████████████████████████████████████████| 121/121 [00:00<00:00, 240.65it/s]\n",
      "100%|█████████████████████████████████████████████████████████████████████████████████████| 9/9 [00:00<00:00, 90.99it/s]\n",
      "100%|████████████████████████████████████████████████████████████████████████████████| 121/121 [00:00<00:00, 222.74it/s]\n",
      "100%|███████████████████████████████████████████████████████████████████████████████████| 63/63 [00:01<00:00, 43.98it/s]\n",
      "100%|████████████████████████████████████████████████████████████████████████████████| 121/121 [00:00<00:00, 235.63it/s]\n",
      "100%|█████████████████████████████████████████████████████████████████████████████████| 144/144 [00:03<00:00, 46.49it/s]\n",
      "100%|████████████████████████████████████████████████████████████████████████████████| 121/121 [00:00<00:00, 212.37it/s]\n",
      "100%|█████████████████████████████████████████████████████████████████████████████████| 180/180 [00:04<00:00, 44.78it/s]\n",
      "100%|████████████████████████████████████████████████████████████████████████████████| 121/121 [00:00<00:00, 233.58it/s]\n",
      "100%|█████████████████████████████████████████████████████████████████████████████████| 162/162 [00:03<00:00, 43.17it/s]\n"
     ]
    },
    {
     "name": "stdout",
     "output_type": "stream",
     "text": [
      "theta = -152.3014519783257, x_initial = -65, y_initial = -64\n"
     ]
    },
    {
     "name": "stderr",
     "output_type": "stream",
     "text": [
      "100%|████████████████████████████████████████████████████████████████████████████████| 121/121 [00:00<00:00, 243.12it/s]\n",
      "100%|███████████████████████████████████████████████████████████████████████████████████| 90/90 [00:02<00:00, 44.11it/s]\n",
      "100%|████████████████████████████████████████████████████████████████████████████████| 121/121 [00:00<00:00, 233.19it/s]\n",
      "100%|███████████████████████████████████████████████████████████████████████████████████| 99/99 [00:02<00:00, 44.85it/s]\n",
      "100%|████████████████████████████████████████████████████████████████████████████████| 121/121 [00:00<00:00, 245.63it/s]\n",
      "100%|███████████████████████████████████████████████████████████████████████████████████| 99/99 [00:02<00:00, 47.45it/s]\n",
      "100%|████████████████████████████████████████████████████████████████████████████████| 121/121 [00:00<00:00, 249.06it/s]\n",
      "100%|███████████████████████████████████████████████████████████████████████████████████| 72/72 [00:01<00:00, 47.07it/s]\n",
      "100%|████████████████████████████████████████████████████████████████████████████████| 121/121 [00:00<00:00, 249.01it/s]\n",
      "100%|███████████████████████████████████████████████████████████████████████████████████| 45/45 [00:00<00:00, 47.72it/s]\n",
      "100%|████████████████████████████████████████████████████████████████████████████████| 121/121 [00:00<00:00, 246.80it/s]\n",
      "100%|███████████████████████████████████████████████████████████████████████████████████| 18/18 [00:00<00:00, 43.41it/s]\n",
      "100%|████████████████████████████████████████████████████████████████████████████████| 121/121 [00:00<00:00, 246.86it/s]\n",
      "100%|███████████████████████████████████████████████████████████████████████████████████| 18/18 [00:00<00:00, 64.00it/s]\n"
     ]
    },
    {
     "name": "stdout",
     "output_type": "stream",
     "text": [
      "Too far translations filtered out: 1757\n",
      "Alignment time: 85.42863941192627\n",
      "Length: 2\n",
      "Aligning 6 and 8\n",
      "new diag score is estimated\n"
     ]
    },
    {
     "name": "stderr",
     "output_type": "stream",
     "text": [
      "100%|████████████████████████████████████████████████████████████████████████████████| 842/842 [00:02<00:00, 398.81it/s]\n"
     ]
    },
    {
     "name": "stdout",
     "output_type": "stream",
     "text": [
      "16\n",
      "5\n",
      "theta = -111.19867333251712, x_initial = 59, y_initial = -59\n"
     ]
    },
    {
     "name": "stderr",
     "output_type": "stream",
     "text": [
      "100%|████████████████████████████████████████████████████████████████████████████████| 121/121 [00:00<00:00, 374.88it/s]\n",
      "100%|███████████████████████████████████████████████████████████████████████████████████| 90/90 [00:01<00:00, 81.32it/s]\n",
      "100%|████████████████████████████████████████████████████████████████████████████████| 121/121 [00:00<00:00, 377.98it/s]\n",
      "100%|█████████████████████████████████████████████████████████████████████████████████| 126/126 [00:01<00:00, 76.95it/s]\n",
      "100%|████████████████████████████████████████████████████████████████████████████████| 121/121 [00:00<00:00, 386.49it/s]\n",
      "100%|█████████████████████████████████████████████████████████████████████████████████| 180/180 [00:02<00:00, 76.90it/s]\n",
      "100%|████████████████████████████████████████████████████████████████████████████████| 121/121 [00:00<00:00, 389.70it/s]\n",
      "100%|█████████████████████████████████████████████████████████████████████████████████| 225/225 [00:02<00:00, 75.18it/s]\n",
      "100%|████████████████████████████████████████████████████████████████████████████████| 121/121 [00:00<00:00, 387.73it/s]\n",
      "100%|█████████████████████████████████████████████████████████████████████████████████| 225/225 [00:02<00:00, 75.25it/s]\n",
      "100%|████████████████████████████████████████████████████████████████████████████████| 121/121 [00:00<00:00, 363.98it/s]\n",
      "100%|█████████████████████████████████████████████████████████████████████████████████| 234/234 [00:03<00:00, 75.50it/s]\n",
      "100%|████████████████████████████████████████████████████████████████████████████████| 121/121 [00:00<00:00, 379.74it/s]\n",
      "100%|█████████████████████████████████████████████████████████████████████████████████| 207/207 [00:02<00:00, 75.33it/s]\n"
     ]
    },
    {
     "name": "stdout",
     "output_type": "stream",
     "text": [
      "theta = -86.32467361323876, x_initial = -14, y_initial = 92\n"
     ]
    },
    {
     "name": "stderr",
     "output_type": "stream",
     "text": [
      "100%|████████████████████████████████████████████████████████████████████████████████| 121/121 [00:00<00:00, 401.13it/s]\n",
      "0it [00:00, ?it/s]\n",
      "100%|████████████████████████████████████████████████████████████████████████████████| 121/121 [00:00<00:00, 370.45it/s]\n",
      "0it [00:00, ?it/s]\n",
      "100%|████████████████████████████████████████████████████████████████████████████████| 121/121 [00:00<00:00, 389.75it/s]\n",
      "0it [00:00, ?it/s]\n",
      "100%|████████████████████████████████████████████████████████████████████████████████| 121/121 [00:00<00:00, 407.25it/s]\n",
      "0it [00:00, ?it/s]\n",
      "100%|████████████████████████████████████████████████████████████████████████████████| 121/121 [00:00<00:00, 406.34it/s]\n",
      "0it [00:00, ?it/s]\n",
      "100%|████████████████████████████████████████████████████████████████████████████████| 121/121 [00:00<00:00, 387.03it/s]\n",
      "0it [00:00, ?it/s]\n",
      "100%|████████████████████████████████████████████████████████████████████████████████| 121/121 [00:00<00:00, 408.10it/s]\n",
      "0it [00:00, ?it/s]\n"
     ]
    },
    {
     "name": "stdout",
     "output_type": "stream",
     "text": [
      "theta = -146.20515149488466, x_initial = -95, y_initial = -140\n"
     ]
    },
    {
     "name": "stderr",
     "output_type": "stream",
     "text": [
      "100%|████████████████████████████████████████████████████████████████████████████████| 121/121 [00:00<00:00, 342.81it/s]\n",
      "100%|█████████████████████████████████████████████████████████████████████████████████| 216/216 [00:02<00:00, 74.90it/s]\n",
      "100%|████████████████████████████████████████████████████████████████████████████████| 121/121 [00:00<00:00, 352.67it/s]\n",
      "100%|█████████████████████████████████████████████████████████████████████████████████| 189/189 [00:02<00:00, 75.62it/s]\n",
      "100%|████████████████████████████████████████████████████████████████████████████████| 121/121 [00:00<00:00, 344.40it/s]\n",
      "100%|█████████████████████████████████████████████████████████████████████████████████| 171/171 [00:02<00:00, 78.12it/s]\n",
      "100%|████████████████████████████████████████████████████████████████████████████████| 121/121 [00:00<00:00, 337.19it/s]\n",
      "100%|█████████████████████████████████████████████████████████████████████████████████| 126/126 [00:01<00:00, 77.03it/s]\n",
      "100%|████████████████████████████████████████████████████████████████████████████████| 121/121 [00:00<00:00, 352.72it/s]\n",
      "100%|███████████████████████████████████████████████████████████████████████████████████| 81/81 [00:01<00:00, 79.32it/s]\n",
      "100%|████████████████████████████████████████████████████████████████████████████████| 121/121 [00:00<00:00, 341.70it/s]\n",
      "100%|███████████████████████████████████████████████████████████████████████████████████| 36/36 [00:00<00:00, 78.58it/s]\n",
      "100%|████████████████████████████████████████████████████████████████████████████████| 121/121 [00:00<00:00, 355.38it/s]\n",
      "100%|█████████████████████████████████████████████████████████████████████████████████████| 9/9 [00:00<00:00, 85.39it/s]\n"
     ]
    },
    {
     "name": "stdout",
     "output_type": "stream",
     "text": [
      "theta = -71.26421539200348, x_initial = 129, y_initial = -2\n"
     ]
    },
    {
     "name": "stderr",
     "output_type": "stream",
     "text": [
      "100%|████████████████████████████████████████████████████████████████████████████████| 121/121 [00:00<00:00, 331.54it/s]\n",
      "0it [00:00, ?it/s]\n",
      "100%|████████████████████████████████████████████████████████████████████████████████| 121/121 [00:00<00:00, 311.06it/s]\n",
      "0it [00:00, ?it/s]\n",
      "100%|████████████████████████████████████████████████████████████████████████████████| 121/121 [00:00<00:00, 321.73it/s]\n",
      "0it [00:00, ?it/s]\n",
      "100%|████████████████████████████████████████████████████████████████████████████████| 121/121 [00:00<00:00, 331.01it/s]\n",
      "0it [00:00, ?it/s]\n",
      "100%|████████████████████████████████████████████████████████████████████████████████| 121/121 [00:00<00:00, 320.84it/s]\n",
      "0it [00:00, ?it/s]\n",
      "100%|████████████████████████████████████████████████████████████████████████████████| 121/121 [00:00<00:00, 342.27it/s]\n",
      "0it [00:00, ?it/s]\n",
      "100%|████████████████████████████████████████████████████████████████████████████████| 121/121 [00:00<00:00, 355.02it/s]\n",
      "0it [00:00, ?it/s]\n"
     ]
    },
    {
     "name": "stdout",
     "output_type": "stream",
     "text": [
      "Too far translations filtered out: 1442\n",
      "Alignment time: 43.290534257888794\n",
      "Length: 3\n",
      "Aligning 6 and 9\n",
      "new diag score is estimated\n"
     ]
    },
    {
     "name": "stderr",
     "output_type": "stream",
     "text": [
      "100%|████████████████████████████████████████████████████████████████████████████████| 842/842 [00:04<00:00, 179.82it/s]\n"
     ]
    },
    {
     "name": "stdout",
     "output_type": "stream",
     "text": [
      "22\n",
      "6\n",
      "theta = -0.0, x_initial = 131, y_initial = 95\n"
     ]
    },
    {
     "name": "stderr",
     "output_type": "stream",
     "text": [
      "100%|████████████████████████████████████████████████████████████████████████████████| 121/121 [00:00<00:00, 194.98it/s]\n",
      "100%|█████████████████████████████████████████████████████████████████████████████████| 108/108 [00:02<00:00, 40.59it/s]\n",
      "100%|████████████████████████████████████████████████████████████████████████████████| 121/121 [00:00<00:00, 194.93it/s]\n",
      "100%|█████████████████████████████████████████████████████████████████████████████████| 153/153 [00:04<00:00, 37.60it/s]\n",
      "100%|████████████████████████████████████████████████████████████████████████████████| 121/121 [00:00<00:00, 192.29it/s]\n",
      "100%|█████████████████████████████████████████████████████████████████████████████████| 162/162 [00:04<00:00, 33.87it/s]\n",
      "100%|████████████████████████████████████████████████████████████████████████████████| 121/121 [00:00<00:00, 195.50it/s]\n",
      "100%|█████████████████████████████████████████████████████████████████████████████████| 225/225 [00:06<00:00, 36.72it/s]\n",
      "100%|████████████████████████████████████████████████████████████████████████████████| 121/121 [00:00<00:00, 195.69it/s]\n",
      "100%|█████████████████████████████████████████████████████████████████████████████████| 216/216 [00:05<00:00, 36.65it/s]\n",
      "100%|████████████████████████████████████████████████████████████████████████████████| 121/121 [00:00<00:00, 194.52it/s]\n",
      "100%|█████████████████████████████████████████████████████████████████████████████████| 207/207 [00:05<00:00, 36.17it/s]\n",
      "100%|████████████████████████████████████████████████████████████████████████████████| 121/121 [00:00<00:00, 191.98it/s]\n",
      "100%|█████████████████████████████████████████████████████████████████████████████████| 171/171 [00:04<00:00, 37.38it/s]\n"
     ]
    },
    {
     "name": "stdout",
     "output_type": "stream",
     "text": [
      "theta = -91.3459978165261, x_initial = -232, y_initial = -156\n"
     ]
    },
    {
     "name": "stderr",
     "output_type": "stream",
     "text": [
      "100%|████████████████████████████████████████████████████████████████████████████████| 121/121 [00:00<00:00, 175.11it/s]\n",
      "0it [00:00, ?it/s]\n",
      "100%|████████████████████████████████████████████████████████████████████████████████| 121/121 [00:00<00:00, 175.04it/s]\n",
      "0it [00:00, ?it/s]\n",
      "100%|████████████████████████████████████████████████████████████████████████████████| 121/121 [00:00<00:00, 174.88it/s]\n",
      "0it [00:00, ?it/s]\n",
      "100%|████████████████████████████████████████████████████████████████████████████████| 121/121 [00:00<00:00, 171.88it/s]\n",
      "0it [00:00, ?it/s]\n",
      "100%|████████████████████████████████████████████████████████████████████████████████| 121/121 [00:00<00:00, 173.72it/s]\n",
      "0it [00:00, ?it/s]\n",
      "100%|████████████████████████████████████████████████████████████████████████████████| 121/121 [00:00<00:00, 173.59it/s]\n",
      "0it [00:00, ?it/s]\n",
      "100%|████████████████████████████████████████████████████████████████████████████████| 121/121 [00:00<00:00, 169.41it/s]\n",
      "0it [00:00, ?it/s]\n"
     ]
    },
    {
     "name": "stdout",
     "output_type": "stream",
     "text": [
      "theta = -177.41799984397, x_initial = 205, y_initial = -74\n"
     ]
    },
    {
     "name": "stderr",
     "output_type": "stream",
     "text": [
      "100%|████████████████████████████████████████████████████████████████████████████████| 121/121 [00:00<00:00, 185.36it/s]\n",
      "100%|███████████████████████████████████████████████████████████████████████████████████| 90/90 [00:02<00:00, 37.59it/s]\n",
      "100%|████████████████████████████████████████████████████████████████████████████████| 121/121 [00:00<00:00, 184.95it/s]\n",
      "100%|█████████████████████████████████████████████████████████████████████████████████| 171/171 [00:04<00:00, 36.21it/s]\n",
      "100%|████████████████████████████████████████████████████████████████████████████████| 121/121 [00:00<00:00, 182.59it/s]\n",
      "100%|█████████████████████████████████████████████████████████████████████████████████| 198/198 [00:05<00:00, 35.84it/s]\n",
      "100%|████████████████████████████████████████████████████████████████████████████████| 121/121 [00:00<00:00, 181.85it/s]\n",
      "100%|█████████████████████████████████████████████████████████████████████████████████| 225/225 [00:06<00:00, 36.42it/s]\n",
      "100%|████████████████████████████████████████████████████████████████████████████████| 121/121 [00:00<00:00, 183.68it/s]\n",
      "100%|█████████████████████████████████████████████████████████████████████████████████| 216/216 [00:06<00:00, 35.05it/s]\n",
      "100%|████████████████████████████████████████████████████████████████████████████████| 121/121 [00:00<00:00, 182.78it/s]\n",
      "100%|█████████████████████████████████████████████████████████████████████████████████| 216/216 [00:05<00:00, 36.01it/s]\n",
      "100%|████████████████████████████████████████████████████████████████████████████████| 121/121 [00:00<00:00, 182.90it/s]\n",
      "100%|█████████████████████████████████████████████████████████████████████████████████| 153/153 [00:04<00:00, 35.49it/s]\n"
     ]
    },
    {
     "name": "stdout",
     "output_type": "stream",
     "text": [
      "theta = -115.08366493958107, x_initial = -220, y_initial = -138\n"
     ]
    },
    {
     "name": "stderr",
     "output_type": "stream",
     "text": [
      "100%|████████████████████████████████████████████████████████████████████████████████| 121/121 [00:00<00:00, 178.50it/s]\n",
      "100%|███████████████████████████████████████████████████████████████████████████████████| 72/72 [00:02<00:00, 35.01it/s]\n",
      "100%|████████████████████████████████████████████████████████████████████████████████| 121/121 [00:00<00:00, 177.95it/s]\n",
      "100%|███████████████████████████████████████████████████████████████████████████████████| 99/99 [00:02<00:00, 36.76it/s]\n",
      "100%|████████████████████████████████████████████████████████████████████████████████| 121/121 [00:00<00:00, 177.61it/s]\n",
      "100%|███████████████████████████████████████████████████████████████████████████████████| 99/99 [00:02<00:00, 35.72it/s]\n",
      "100%|████████████████████████████████████████████████████████████████████████████████| 121/121 [00:00<00:00, 178.67it/s]\n",
      "100%|█████████████████████████████████████████████████████████████████████████████████| 108/108 [00:03<00:00, 35.84it/s]\n",
      "100%|████████████████████████████████████████████████████████████████████████████████| 121/121 [00:00<00:00, 177.62it/s]\n",
      "100%|███████████████████████████████████████████████████████████████████████████████████| 90/90 [00:02<00:00, 33.83it/s]\n",
      "100%|████████████████████████████████████████████████████████████████████████████████| 121/121 [00:00<00:00, 178.86it/s]\n",
      "100%|███████████████████████████████████████████████████████████████████████████████████| 90/90 [00:02<00:00, 35.65it/s]\n",
      "100%|████████████████████████████████████████████████████████████████████████████████| 121/121 [00:00<00:00, 179.56it/s]\n",
      "100%|███████████████████████████████████████████████████████████████████████████████████| 72/72 [00:01<00:00, 36.71it/s]\n"
     ]
    },
    {
     "name": "stdout",
     "output_type": "stream",
     "text": [
      "Too far translations filtered out: 1875\n",
      "Alignment time: 117.30042815208435\n",
      "Length: 2\n",
      "Aligning 6 and 10\n",
      "new diag score is estimated\n"
     ]
    },
    {
     "name": "stderr",
     "output_type": "stream",
     "text": [
      "100%|████████████████████████████████████████████████████████████████████████████████| 842/842 [00:02<00:00, 378.18it/s]\n"
     ]
    },
    {
     "name": "stdout",
     "output_type": "stream",
     "text": [
      "17\n",
      "8\n",
      "theta = -151.70830644247314, x_initial = 82, y_initial = 112\n"
     ]
    },
    {
     "name": "stderr",
     "output_type": "stream",
     "text": [
      "100%|████████████████████████████████████████████████████████████████████████████████| 121/121 [00:00<00:00, 412.95it/s]\n",
      "100%|███████████████████████████████████████████████████████████████████████████████████| 18/18 [00:00<00:00, 96.92it/s]\n",
      "100%|████████████████████████████████████████████████████████████████████████████████| 121/121 [00:00<00:00, 419.17it/s]\n",
      "0it [00:00, ?it/s]\n",
      "100%|████████████████████████████████████████████████████████████████████████████████| 121/121 [00:00<00:00, 414.15it/s]\n",
      "0it [00:00, ?it/s]\n",
      "100%|████████████████████████████████████████████████████████████████████████████████| 121/121 [00:00<00:00, 416.82it/s]\n",
      "0it [00:00, ?it/s]\n",
      "100%|████████████████████████████████████████████████████████████████████████████████| 121/121 [00:00<00:00, 417.62it/s]\n",
      "0it [00:00, ?it/s]\n",
      "100%|████████████████████████████████████████████████████████████████████████████████| 121/121 [00:00<00:00, 415.18it/s]\n",
      "0it [00:00, ?it/s]\n",
      "100%|████████████████████████████████████████████████████████████████████████████████| 121/121 [00:00<00:00, 417.52it/s]\n",
      "0it [00:00, ?it/s]\n"
     ]
    },
    {
     "name": "stdout",
     "output_type": "stream",
     "text": [
      "theta = -113.96948231775968, x_initial = 153, y_initial = -30\n"
     ]
    },
    {
     "name": "stderr",
     "output_type": "stream",
     "text": [
      "100%|████████████████████████████████████████████████████████████████████████████████| 121/121 [00:00<00:00, 388.47it/s]\n",
      "0it [00:00, ?it/s]\n",
      "100%|████████████████████████████████████████████████████████████████████████████████| 121/121 [00:00<00:00, 395.95it/s]\n",
      "0it [00:00, ?it/s]\n",
      "100%|████████████████████████████████████████████████████████████████████████████████| 121/121 [00:00<00:00, 388.77it/s]\n",
      "0it [00:00, ?it/s]\n",
      "100%|████████████████████████████████████████████████████████████████████████████████| 121/121 [00:00<00:00, 379.04it/s]\n",
      "0it [00:00, ?it/s]\n",
      "100%|████████████████████████████████████████████████████████████████████████████████| 121/121 [00:00<00:00, 403.17it/s]\n",
      "0it [00:00, ?it/s]\n",
      "100%|████████████████████████████████████████████████████████████████████████████████| 121/121 [00:00<00:00, 385.46it/s]\n",
      "0it [00:00, ?it/s]\n",
      "100%|████████████████████████████████████████████████████████████████████████████████| 121/121 [00:00<00:00, 396.96it/s]\n",
      "0it [00:00, ?it/s]\n"
     ]
    },
    {
     "name": "stdout",
     "output_type": "stream",
     "text": [
      "theta = -126.86989764584402, x_initial = 87, y_initial = -102\n"
     ]
    },
    {
     "name": "stderr",
     "output_type": "stream",
     "text": [
      "100%|████████████████████████████████████████████████████████████████████████████████| 121/121 [00:00<00:00, 387.99it/s]\n",
      "100%|█████████████████████████████████████████████████████████████████████████████████| 189/189 [00:02<00:00, 81.07it/s]\n",
      "100%|████████████████████████████████████████████████████████████████████████████████| 121/121 [00:00<00:00, 408.86it/s]\n",
      "100%|█████████████████████████████████████████████████████████████████████████████████| 234/234 [00:02<00:00, 81.39it/s]\n",
      "100%|████████████████████████████████████████████████████████████████████████████████| 121/121 [00:00<00:00, 403.38it/s]\n",
      "100%|█████████████████████████████████████████████████████████████████████████████████| 252/252 [00:03<00:00, 83.76it/s]\n",
      "100%|████████████████████████████████████████████████████████████████████████████████| 121/121 [00:00<00:00, 392.90it/s]\n",
      "100%|█████████████████████████████████████████████████████████████████████████████████| 225/225 [00:02<00:00, 78.82it/s]\n",
      "100%|████████████████████████████████████████████████████████████████████████████████| 121/121 [00:00<00:00, 395.89it/s]\n",
      "100%|█████████████████████████████████████████████████████████████████████████████████| 225/225 [00:02<00:00, 81.98it/s]\n",
      "100%|████████████████████████████████████████████████████████████████████████████████| 121/121 [00:00<00:00, 372.79it/s]\n",
      "100%|█████████████████████████████████████████████████████████████████████████████████| 180/180 [00:02<00:00, 80.01it/s]\n",
      "100%|████████████████████████████████████████████████████████████████████████████████| 121/121 [00:00<00:00, 400.78it/s]\n",
      "100%|█████████████████████████████████████████████████████████████████████████████████| 171/171 [00:01<00:00, 86.02it/s]\n"
     ]
    },
    {
     "name": "stdout",
     "output_type": "stream",
     "text": [
      "theta = -88.31287538609223, x_initial = -45, y_initial = 80\n"
     ]
    },
    {
     "name": "stderr",
     "output_type": "stream",
     "text": [
      "100%|████████████████████████████████████████████████████████████████████████████████| 121/121 [00:00<00:00, 433.14it/s]\n",
      "0it [00:00, ?it/s]\n",
      "100%|████████████████████████████████████████████████████████████████████████████████| 121/121 [00:00<00:00, 435.82it/s]\n",
      "0it [00:00, ?it/s]\n",
      "100%|████████████████████████████████████████████████████████████████████████████████| 121/121 [00:00<00:00, 437.66it/s]\n",
      "0it [00:00, ?it/s]\n",
      "100%|████████████████████████████████████████████████████████████████████████████████| 121/121 [00:00<00:00, 423.01it/s]\n",
      "0it [00:00, ?it/s]\n",
      "100%|████████████████████████████████████████████████████████████████████████████████| 121/121 [00:00<00:00, 432.93it/s]\n",
      "0it [00:00, ?it/s]\n",
      "100%|████████████████████████████████████████████████████████████████████████████████| 121/121 [00:00<00:00, 436.67it/s]\n",
      "0it [00:00, ?it/s]\n",
      "100%|████████████████████████████████████████████████████████████████████████████████| 121/121 [00:00<00:00, 426.06it/s]\n",
      "0it [00:00, ?it/s]\n"
     ]
    },
    {
     "name": "stdout",
     "output_type": "stream",
     "text": [
      "Too far translations filtered out: 1271\n",
      "Alignment time: 33.341164350509644\n",
      "Length: 1\n",
      "Aligning 6 and 11\n",
      "new diag score is estimated\n"
     ]
    },
    {
     "name": "stderr",
     "output_type": "stream",
     "text": [
      "100%|████████████████████████████████████████████████████████████████████████████████| 842/842 [00:03<00:00, 226.27it/s]\n"
     ]
    },
    {
     "name": "stdout",
     "output_type": "stream",
     "text": [
      "23\n",
      "8\n",
      "theta = -107.71553114807688, x_initial = 86, y_initial = 118\n"
     ]
    },
    {
     "name": "stderr",
     "output_type": "stream",
     "text": [
      "100%|████████████████████████████████████████████████████████████████████████████████| 121/121 [00:00<00:00, 205.38it/s]\n",
      "0it [00:00, ?it/s]\n",
      "100%|████████████████████████████████████████████████████████████████████████████████| 121/121 [00:00<00:00, 200.60it/s]\n",
      "0it [00:00, ?it/s]\n",
      "100%|████████████████████████████████████████████████████████████████████████████████| 121/121 [00:00<00:00, 203.73it/s]\n",
      "0it [00:00, ?it/s]\n",
      "100%|████████████████████████████████████████████████████████████████████████████████| 121/121 [00:00<00:00, 200.73it/s]\n",
      "0it [00:00, ?it/s]\n",
      "100%|████████████████████████████████████████████████████████████████████████████████| 121/121 [00:00<00:00, 198.68it/s]\n",
      "0it [00:00, ?it/s]\n",
      "100%|████████████████████████████████████████████████████████████████████████████████| 121/121 [00:00<00:00, 202.82it/s]\n",
      "0it [00:00, ?it/s]\n",
      "100%|████████████████████████████████████████████████████████████████████████████████| 121/121 [00:00<00:00, 198.00it/s]\n",
      "0it [00:00, ?it/s]\n"
     ]
    },
    {
     "name": "stdout",
     "output_type": "stream",
     "text": [
      "theta = -136.59723854778946, x_initial = -239, y_initial = 31\n"
     ]
    },
    {
     "name": "stderr",
     "output_type": "stream",
     "text": [
      "100%|████████████████████████████████████████████████████████████████████████████████| 121/121 [00:00<00:00, 184.76it/s]\n",
      "100%|█████████████████████████████████████████████████████████████████████████████████| 153/153 [00:04<00:00, 34.75it/s]\n",
      "100%|████████████████████████████████████████████████████████████████████████████████| 121/121 [00:00<00:00, 186.29it/s]\n",
      "100%|█████████████████████████████████████████████████████████████████████████████████| 198/198 [00:05<00:00, 35.26it/s]\n",
      "100%|████████████████████████████████████████████████████████████████████████████████| 121/121 [00:00<00:00, 189.25it/s]\n",
      "100%|█████████████████████████████████████████████████████████████████████████████████| 189/189 [00:05<00:00, 37.38it/s]\n",
      "100%|████████████████████████████████████████████████████████████████████████████████| 121/121 [00:00<00:00, 186.70it/s]\n",
      "100%|█████████████████████████████████████████████████████████████████████████████████| 189/189 [00:05<00:00, 36.86it/s]\n",
      "100%|████████████████████████████████████████████████████████████████████████████████| 121/121 [00:00<00:00, 181.36it/s]\n",
      "100%|█████████████████████████████████████████████████████████████████████████████████| 153/153 [00:04<00:00, 35.59it/s]\n",
      "100%|████████████████████████████████████████████████████████████████████████████████| 121/121 [00:00<00:00, 160.88it/s]\n",
      "100%|█████████████████████████████████████████████████████████████████████████████████| 117/117 [00:03<00:00, 33.07it/s]\n",
      "100%|████████████████████████████████████████████████████████████████████████████████| 121/121 [00:00<00:00, 162.21it/s]\n",
      "100%|███████████████████████████████████████████████████████████████████████████████████| 63/63 [00:01<00:00, 33.88it/s]\n"
     ]
    },
    {
     "name": "stdout",
     "output_type": "stream",
     "text": [
      "theta = -161.12869487402773, x_initial = 182, y_initial = -94\n"
     ]
    },
    {
     "name": "stderr",
     "output_type": "stream",
     "text": [
      "100%|████████████████████████████████████████████████████████████████████████████████| 121/121 [00:00<00:00, 182.38it/s]\n",
      "100%|███████████████████████████████████████████████████████████████████████████████████| 72/72 [00:02<00:00, 34.51it/s]\n",
      "100%|████████████████████████████████████████████████████████████████████████████████| 121/121 [00:00<00:00, 158.10it/s]\n",
      "100%|███████████████████████████████████████████████████████████████████████████████████| 45/45 [00:01<00:00, 32.64it/s]\n",
      "100%|████████████████████████████████████████████████████████████████████████████████| 121/121 [00:00<00:00, 182.23it/s]\n",
      "100%|███████████████████████████████████████████████████████████████████████████████████| 36/36 [00:00<00:00, 44.20it/s]\n",
      "100%|████████████████████████████████████████████████████████████████████████████████| 121/121 [00:00<00:00, 180.01it/s]\n",
      "100%|█████████████████████████████████████████████████████████████████████████████████████| 9/9 [00:00<00:00, 51.15it/s]\n",
      "100%|████████████████████████████████████████████████████████████████████████████████| 121/121 [00:00<00:00, 190.01it/s]\n",
      "0it [00:00, ?it/s]\n",
      "100%|████████████████████████████████████████████████████████████████████████████████| 121/121 [00:00<00:00, 179.78it/s]\n",
      "0it [00:00, ?it/s]\n",
      "100%|████████████████████████████████████████████████████████████████████████████████| 121/121 [00:00<00:00, 190.46it/s]\n",
      "0it [00:00, ?it/s]\n"
     ]
    },
    {
     "name": "stdout",
     "output_type": "stream",
     "text": [
      "theta = -49.891042484312926, x_initial = -31, y_initial = -140\n"
     ]
    },
    {
     "name": "stderr",
     "output_type": "stream",
     "text": [
      "100%|████████████████████████████████████████████████████████████████████████████████| 121/121 [00:00<00:00, 201.98it/s]\n",
      "100%|█████████████████████████████████████████████████████████████████████████████████| 171/171 [00:04<00:00, 35.15it/s]\n",
      "100%|████████████████████████████████████████████████████████████████████████████████| 121/121 [00:00<00:00, 204.70it/s]\n",
      "100%|█████████████████████████████████████████████████████████████████████████████████| 171/171 [00:04<00:00, 35.78it/s]\n",
      "100%|████████████████████████████████████████████████████████████████████████████████| 121/121 [00:00<00:00, 200.51it/s]\n",
      "100%|█████████████████████████████████████████████████████████████████████████████████| 198/198 [00:05<00:00, 37.91it/s]\n",
      "100%|████████████████████████████████████████████████████████████████████████████████| 121/121 [00:00<00:00, 179.66it/s]\n",
      "100%|█████████████████████████████████████████████████████████████████████████████████| 180/180 [00:04<00:00, 36.78it/s]\n",
      "100%|████████████████████████████████████████████████████████████████████████████████| 121/121 [00:00<00:00, 202.34it/s]\n",
      "100%|█████████████████████████████████████████████████████████████████████████████████| 171/171 [00:04<00:00, 36.09it/s]\n",
      "100%|████████████████████████████████████████████████████████████████████████████████| 121/121 [00:00<00:00, 201.56it/s]\n",
      "100%|█████████████████████████████████████████████████████████████████████████████████| 135/135 [00:03<00:00, 34.34it/s]\n",
      "100%|████████████████████████████████████████████████████████████████████████████████| 121/121 [00:00<00:00, 201.35it/s]\n",
      "100%|█████████████████████████████████████████████████████████████████████████████████| 162/162 [00:04<00:00, 35.60it/s]\n"
     ]
    },
    {
     "name": "stdout",
     "output_type": "stream",
     "text": [
      "Too far translations filtered out: 1103\n",
      "Alignment time: 95.32918524742126\n",
      "Length: 1\n",
      "Aligning 6 and 12\n",
      "new diag score is estimated\n"
     ]
    },
    {
     "name": "stderr",
     "output_type": "stream",
     "text": [
      "100%|████████████████████████████████████████████████████████████████████████████████| 842/842 [00:01<00:00, 718.70it/s]\n"
     ]
    },
    {
     "name": "stdout",
     "output_type": "stream",
     "text": [
      "10\n",
      "4\n",
      "theta = -99.36339972923302, x_initial = 104, y_initial = -12\n"
     ]
    },
    {
     "name": "stderr",
     "output_type": "stream",
     "text": [
      "100%|████████████████████████████████████████████████████████████████████████████████| 121/121 [00:00<00:00, 506.83it/s]\n",
      "0it [00:00, ?it/s]\n",
      "100%|████████████████████████████████████████████████████████████████████████████████| 121/121 [00:00<00:00, 516.96it/s]\n",
      "0it [00:00, ?it/s]\n",
      "100%|████████████████████████████████████████████████████████████████████████████████| 121/121 [00:00<00:00, 521.65it/s]\n",
      "0it [00:00, ?it/s]\n",
      "100%|████████████████████████████████████████████████████████████████████████████████| 121/121 [00:00<00:00, 537.60it/s]\n",
      "0it [00:00, ?it/s]\n",
      "100%|████████████████████████████████████████████████████████████████████████████████| 121/121 [00:00<00:00, 541.32it/s]\n",
      "0it [00:00, ?it/s]\n",
      "100%|████████████████████████████████████████████████████████████████████████████████| 121/121 [00:00<00:00, 549.92it/s]\n",
      "0it [00:00, ?it/s]\n",
      "100%|████████████████████████████████████████████████████████████████████████████████| 121/121 [00:00<00:00, 527.61it/s]\n",
      "0it [00:00, ?it/s]\n"
     ]
    },
    {
     "name": "stdout",
     "output_type": "stream",
     "text": [
      "theta = -91.47953905321368, x_initial = -62, y_initial = 69\n"
     ]
    },
    {
     "name": "stderr",
     "output_type": "stream",
     "text": [
      "100%|████████████████████████████████████████████████████████████████████████████████| 121/121 [00:00<00:00, 530.07it/s]\n",
      "100%|████████████████████████████████████████████████████████████████████████████████| 153/153 [00:01<00:00, 104.24it/s]\n",
      "100%|████████████████████████████████████████████████████████████████████████████████| 121/121 [00:00<00:00, 536.85it/s]\n",
      "100%|████████████████████████████████████████████████████████████████████████████████| 180/180 [00:01<00:00, 111.82it/s]\n",
      "100%|████████████████████████████████████████████████████████████████████████████████| 121/121 [00:00<00:00, 538.33it/s]\n",
      "100%|████████████████████████████████████████████████████████████████████████████████| 234/234 [00:01<00:00, 117.41it/s]\n",
      "100%|████████████████████████████████████████████████████████████████████████████████| 121/121 [00:00<00:00, 551.01it/s]\n",
      "100%|████████████████████████████████████████████████████████████████████████████████| 207/207 [00:01<00:00, 107.61it/s]\n",
      "100%|████████████████████████████████████████████████████████████████████████████████| 121/121 [00:00<00:00, 520.94it/s]\n",
      "100%|████████████████████████████████████████████████████████████████████████████████| 207/207 [00:01<00:00, 113.88it/s]\n",
      "100%|████████████████████████████████████████████████████████████████████████████████| 121/121 [00:00<00:00, 555.40it/s]\n",
      "100%|████████████████████████████████████████████████████████████████████████████████| 207/207 [00:01<00:00, 113.88it/s]\n",
      "100%|████████████████████████████████████████████████████████████████████████████████| 121/121 [00:00<00:00, 555.36it/s]\n",
      "100%|████████████████████████████████████████████████████████████████████████████████| 180/180 [00:01<00:00, 116.80it/s]\n"
     ]
    },
    {
     "name": "stdout",
     "output_type": "stream",
     "text": [
      "theta = -163.43687135488483, x_initial = -7, y_initial = -86\n"
     ]
    },
    {
     "name": "stderr",
     "output_type": "stream",
     "text": [
      "100%|████████████████████████████████████████████████████████████████████████████████| 121/121 [00:00<00:00, 627.18it/s]\n",
      "100%|████████████████████████████████████████████████████████████████████████████████| 144/144 [00:01<00:00, 118.70it/s]\n",
      "100%|████████████████████████████████████████████████████████████████████████████████| 121/121 [00:00<00:00, 584.35it/s]\n",
      "100%|████████████████████████████████████████████████████████████████████████████████| 108/108 [00:00<00:00, 121.48it/s]\n",
      "100%|████████████████████████████████████████████████████████████████████████████████| 121/121 [00:00<00:00, 605.23it/s]\n",
      "100%|██████████████████████████████████████████████████████████████████████████████████| 54/54 [00:00<00:00, 115.02it/s]\n",
      "100%|████████████████████████████████████████████████████████████████████████████████| 121/121 [00:00<00:00, 622.74it/s]\n",
      "100%|██████████████████████████████████████████████████████████████████████████████████| 27/27 [00:00<00:00, 133.40it/s]\n",
      "100%|████████████████████████████████████████████████████████████████████████████████| 121/121 [00:00<00:00, 606.50it/s]\n",
      "0it [00:00, ?it/s]\n",
      "100%|████████████████████████████████████████████████████████████████████████████████| 121/121 [00:00<00:00, 604.92it/s]\n",
      "0it [00:00, ?it/s]\n",
      "100%|████████████████████████████████████████████████████████████████████████████████| 121/121 [00:00<00:00, 596.57it/s]\n",
      "0it [00:00, ?it/s]\n"
     ]
    },
    {
     "name": "stdout",
     "output_type": "stream",
     "text": [
      "theta = -53.83787820344838, x_initial = 82, y_initial = 36\n"
     ]
    },
    {
     "name": "stderr",
     "output_type": "stream",
     "text": [
      "100%|████████████████████████████████████████████████████████████████████████████████| 121/121 [00:00<00:00, 570.82it/s]\n",
      "0it [00:00, ?it/s]\n",
      "100%|████████████████████████████████████████████████████████████████████████████████| 121/121 [00:00<00:00, 572.18it/s]\n",
      "0it [00:00, ?it/s]\n",
      "100%|████████████████████████████████████████████████████████████████████████████████| 121/121 [00:00<00:00, 573.38it/s]\n",
      "0it [00:00, ?it/s]\n",
      "100%|████████████████████████████████████████████████████████████████████████████████| 121/121 [00:00<00:00, 587.29it/s]\n",
      "0it [00:00, ?it/s]\n",
      "100%|████████████████████████████████████████████████████████████████████████████████| 121/121 [00:00<00:00, 567.96it/s]\n",
      "0it [00:00, ?it/s]\n",
      "100%|████████████████████████████████████████████████████████████████████████████████| 121/121 [00:00<00:00, 583.08it/s]\n",
      "0it [00:00, ?it/s]\n",
      "100%|████████████████████████████████████████████████████████████████████████████████| 121/121 [00:00<00:00, 569.10it/s]\n",
      "0it [00:00, ?it/s]\n"
     ]
    },
    {
     "name": "stdout",
     "output_type": "stream",
     "text": [
      "Too far translations filtered out: 1087\n",
      "Alignment time: 25.070153951644897\n",
      "Length: 2\n",
      "Aligning 6 and 14\n",
      "new diag score is estimated\n"
     ]
    },
    {
     "name": "stderr",
     "output_type": "stream",
     "text": [
      "100%|████████████████████████████████████████████████████████████████████████████████| 842/842 [00:03<00:00, 250.43it/s]\n"
     ]
    },
    {
     "name": "stdout",
     "output_type": "stream",
     "text": [
      "17\n",
      "6\n",
      "theta = -170.1858570115781, x_initial = -186, y_initial = -18\n"
     ]
    },
    {
     "name": "stderr",
     "output_type": "stream",
     "text": [
      "100%|████████████████████████████████████████████████████████████████████████████████| 121/121 [00:00<00:00, 212.14it/s]\n",
      "100%|█████████████████████████████████████████████████████████████████████████████████| 180/180 [00:04<00:00, 43.22it/s]\n",
      "100%|████████████████████████████████████████████████████████████████████████████████| 121/121 [00:00<00:00, 216.05it/s]\n",
      "100%|█████████████████████████████████████████████████████████████████████████████████| 189/189 [00:04<00:00, 42.78it/s]\n",
      "100%|████████████████████████████████████████████████████████████████████████████████| 121/121 [00:00<00:00, 215.15it/s]\n",
      "100%|█████████████████████████████████████████████████████████████████████████████████| 153/153 [00:03<00:00, 42.50it/s]\n",
      "100%|████████████████████████████████████████████████████████████████████████████████| 121/121 [00:00<00:00, 215.13it/s]\n",
      "100%|█████████████████████████████████████████████████████████████████████████████████| 126/126 [00:02<00:00, 43.56it/s]\n",
      "100%|████████████████████████████████████████████████████████████████████████████████| 121/121 [00:00<00:00, 210.26it/s]\n",
      "100%|███████████████████████████████████████████████████████████████████████████████████| 90/90 [00:02<00:00, 44.63it/s]\n",
      "100%|████████████████████████████████████████████████████████████████████████████████| 121/121 [00:00<00:00, 216.93it/s]\n",
      "100%|███████████████████████████████████████████████████████████████████████████████████| 63/63 [00:01<00:00, 46.01it/s]\n",
      "100%|████████████████████████████████████████████████████████████████████████████████| 121/121 [00:00<00:00, 213.95it/s]\n",
      "100%|█████████████████████████████████████████████████████████████████████████████████████| 9/9 [00:00<00:00, 42.41it/s]\n"
     ]
    },
    {
     "name": "stdout",
     "output_type": "stream",
     "text": [
      "theta = -53.48668375451374, x_initial = -204, y_initial = -43\n"
     ]
    },
    {
     "name": "stderr",
     "output_type": "stream",
     "text": [
      "100%|████████████████████████████████████████████████████████████████████████████████| 121/121 [00:00<00:00, 217.07it/s]\n",
      "0it [00:00, ?it/s]\n",
      "100%|████████████████████████████████████████████████████████████████████████████████| 121/121 [00:00<00:00, 205.26it/s]\n",
      "0it [00:00, ?it/s]\n",
      "100%|████████████████████████████████████████████████████████████████████████████████| 121/121 [00:00<00:00, 215.89it/s]\n",
      "0it [00:00, ?it/s]\n",
      "100%|████████████████████████████████████████████████████████████████████████████████| 121/121 [00:00<00:00, 213.62it/s]\n",
      "0it [00:00, ?it/s]\n",
      "100%|████████████████████████████████████████████████████████████████████████████████| 121/121 [00:00<00:00, 204.46it/s]\n",
      "0it [00:00, ?it/s]\n",
      "100%|████████████████████████████████████████████████████████████████████████████████| 121/121 [00:00<00:00, 207.06it/s]\n",
      "0it [00:00, ?it/s]\n",
      "100%|████████████████████████████████████████████████████████████████████████████████| 121/121 [00:00<00:00, 198.77it/s]\n",
      "0it [00:00, ?it/s]\n"
     ]
    },
    {
     "name": "stdout",
     "output_type": "stream",
     "text": [
      "theta = -14.686415987526763, x_initial = 140, y_initial = 63\n"
     ]
    },
    {
     "name": "stderr",
     "output_type": "stream",
     "text": [
      "100%|████████████████████████████████████████████████████████████████████████████████| 121/121 [00:00<00:00, 218.30it/s]\n",
      "100%|█████████████████████████████████████████████████████████████████████████████████| 117/117 [00:02<00:00, 39.91it/s]\n",
      "100%|████████████████████████████████████████████████████████████████████████████████| 121/121 [00:00<00:00, 219.98it/s]\n",
      "100%|█████████████████████████████████████████████████████████████████████████████████| 180/180 [00:04<00:00, 44.90it/s]\n",
      "100%|████████████████████████████████████████████████████████████████████████████████| 121/121 [00:00<00:00, 226.29it/s]\n",
      "100%|█████████████████████████████████████████████████████████████████████████████████| 189/189 [00:04<00:00, 43.17it/s]\n",
      "100%|████████████████████████████████████████████████████████████████████████████████| 121/121 [00:00<00:00, 232.12it/s]\n",
      "100%|█████████████████████████████████████████████████████████████████████████████████| 189/189 [00:04<00:00, 43.23it/s]\n",
      "100%|████████████████████████████████████████████████████████████████████████████████| 121/121 [00:00<00:00, 226.16it/s]\n",
      "100%|█████████████████████████████████████████████████████████████████████████████████| 207/207 [00:04<00:00, 42.88it/s]\n",
      "100%|████████████████████████████████████████████████████████████████████████████████| 121/121 [00:00<00:00, 212.62it/s]\n",
      "100%|█████████████████████████████████████████████████████████████████████████████████| 207/207 [00:05<00:00, 41.02it/s]\n",
      "100%|████████████████████████████████████████████████████████████████████████████████| 121/121 [00:00<00:00, 229.74it/s]\n",
      "100%|█████████████████████████████████████████████████████████████████████████████████| 189/189 [00:04<00:00, 42.97it/s]\n"
     ]
    },
    {
     "name": "stdout",
     "output_type": "stream",
     "text": [
      "theta = -41.36093399710627, x_initial = -100, y_initial = -83\n"
     ]
    },
    {
     "name": "stderr",
     "output_type": "stream",
     "text": [
      "100%|████████████████████████████████████████████████████████████████████████████████| 121/121 [00:00<00:00, 217.16it/s]\n",
      "100%|███████████████████████████████████████████████████████████████████████████████████| 27/27 [00:00<00:00, 45.83it/s]\n",
      "100%|████████████████████████████████████████████████████████████████████████████████| 121/121 [00:00<00:00, 223.16it/s]\n",
      "100%|█████████████████████████████████████████████████████████████████████████████████| 135/135 [00:03<00:00, 41.71it/s]\n",
      "100%|████████████████████████████████████████████████████████████████████████████████| 121/121 [00:00<00:00, 220.45it/s]\n",
      "100%|█████████████████████████████████████████████████████████████████████████████████| 180/180 [00:04<00:00, 42.08it/s]\n",
      "100%|████████████████████████████████████████████████████████████████████████████████| 121/121 [00:00<00:00, 219.80it/s]\n",
      "100%|█████████████████████████████████████████████████████████████████████████████████| 189/189 [00:04<00:00, 40.39it/s]\n",
      "100%|████████████████████████████████████████████████████████████████████████████████| 121/121 [00:00<00:00, 230.01it/s]\n",
      "100%|█████████████████████████████████████████████████████████████████████████████████| 171/171 [00:04<00:00, 41.20it/s]\n",
      "100%|████████████████████████████████████████████████████████████████████████████████| 121/121 [00:00<00:00, 228.59it/s]\n",
      "100%|█████████████████████████████████████████████████████████████████████████████████| 198/198 [00:04<00:00, 44.34it/s]\n",
      "100%|████████████████████████████████████████████████████████████████████████████████| 121/121 [00:00<00:00, 229.11it/s]\n",
      "100%|█████████████████████████████████████████████████████████████████████████████████| 162/162 [00:03<00:00, 45.58it/s]\n"
     ]
    },
    {
     "name": "stdout",
     "output_type": "stream",
     "text": [
      "Too far translations filtered out: 1367\n",
      "Alignment time: 97.81913995742798\n",
      "Length: 3\n",
      "Aligning 6 and 15\n",
      "new diag score is estimated\n"
     ]
    },
    {
     "name": "stderr",
     "output_type": "stream",
     "text": [
      "100%|████████████████████████████████████████████████████████████████████████████████| 842/842 [00:03<00:00, 252.32it/s]\n"
     ]
    },
    {
     "name": "stdout",
     "output_type": "stream",
     "text": [
      "14\n",
      "6\n",
      "theta = -103.35910977177531, x_initial = -76, y_initial = 148\n"
     ]
    },
    {
     "name": "stderr",
     "output_type": "stream",
     "text": [
      "100%|████████████████████████████████████████████████████████████████████████████████| 121/121 [00:00<00:00, 267.93it/s]\n",
      "0it [00:00, ?it/s]\n",
      "100%|████████████████████████████████████████████████████████████████████████████████| 121/121 [00:00<00:00, 258.46it/s]\n",
      "0it [00:00, ?it/s]\n",
      "100%|████████████████████████████████████████████████████████████████████████████████| 121/121 [00:00<00:00, 267.23it/s]\n",
      "0it [00:00, ?it/s]\n",
      "100%|████████████████████████████████████████████████████████████████████████████████| 121/121 [00:00<00:00, 260.28it/s]\n",
      "0it [00:00, ?it/s]\n",
      "100%|████████████████████████████████████████████████████████████████████████████████| 121/121 [00:00<00:00, 264.09it/s]\n",
      "0it [00:00, ?it/s]\n",
      "100%|████████████████████████████████████████████████████████████████████████████████| 121/121 [00:00<00:00, 268.18it/s]\n",
      "0it [00:00, ?it/s]\n",
      "100%|████████████████████████████████████████████████████████████████████████████████| 121/121 [00:00<00:00, 261.11it/s]\n",
      "0it [00:00, ?it/s]\n"
     ]
    },
    {
     "name": "stdout",
     "output_type": "stream",
     "text": [
      "theta = -24.754798491309636, x_initial = 122, y_initial = 48\n"
     ]
    },
    {
     "name": "stderr",
     "output_type": "stream",
     "text": [
      "100%|████████████████████████████████████████████████████████████████████████████████| 121/121 [00:00<00:00, 280.37it/s]\n",
      "0it [00:00, ?it/s]\n",
      "100%|████████████████████████████████████████████████████████████████████████████████| 121/121 [00:00<00:00, 278.77it/s]\n",
      "0it [00:00, ?it/s]\n",
      "100%|████████████████████████████████████████████████████████████████████████████████| 121/121 [00:00<00:00, 277.98it/s]\n",
      "0it [00:00, ?it/s]\n",
      "100%|████████████████████████████████████████████████████████████████████████████████| 121/121 [00:00<00:00, 277.61it/s]\n",
      "0it [00:00, ?it/s]\n",
      "100%|████████████████████████████████████████████████████████████████████████████████| 121/121 [00:00<00:00, 277.05it/s]\n",
      "0it [00:00, ?it/s]\n",
      "100%|████████████████████████████████████████████████████████████████████████████████| 121/121 [00:00<00:00, 268.56it/s]\n",
      "0it [00:00, ?it/s]\n",
      "100%|████████████████████████████████████████████████████████████████████████████████| 121/121 [00:00<00:00, 278.86it/s]\n",
      "100%|███████████████████████████████████████████████████████████████████████████████████| 72/72 [00:01<00:00, 57.42it/s]\n"
     ]
    },
    {
     "name": "stdout",
     "output_type": "stream",
     "text": [
      "theta = -79.85459895720666, x_initial = 141, y_initial = 71\n"
     ]
    },
    {
     "name": "stderr",
     "output_type": "stream",
     "text": [
      "100%|████████████████████████████████████████████████████████████████████████████████| 121/121 [00:00<00:00, 260.69it/s]\n",
      "0it [00:00, ?it/s]\n",
      "100%|████████████████████████████████████████████████████████████████████████████████| 121/121 [00:00<00:00, 269.53it/s]\n",
      "0it [00:00, ?it/s]\n",
      "100%|████████████████████████████████████████████████████████████████████████████████| 121/121 [00:00<00:00, 271.58it/s]\n",
      "0it [00:00, ?it/s]\n",
      "100%|████████████████████████████████████████████████████████████████████████████████| 121/121 [00:00<00:00, 269.03it/s]\n",
      "0it [00:00, ?it/s]\n",
      "100%|████████████████████████████████████████████████████████████████████████████████| 121/121 [00:00<00:00, 257.52it/s]\n",
      "0it [00:00, ?it/s]\n",
      "100%|████████████████████████████████████████████████████████████████████████████████| 121/121 [00:00<00:00, 274.51it/s]\n",
      "0it [00:00, ?it/s]\n",
      "100%|████████████████████████████████████████████████████████████████████████████████| 121/121 [00:00<00:00, 268.19it/s]\n",
      "0it [00:00, ?it/s]\n"
     ]
    },
    {
     "name": "stdout",
     "output_type": "stream",
     "text": [
      "theta = -28.9126071455304, x_initial = -188, y_initial = 81\n"
     ]
    },
    {
     "name": "stderr",
     "output_type": "stream",
     "text": [
      "100%|████████████████████████████████████████████████████████████████████████████████| 121/121 [00:00<00:00, 261.33it/s]\n",
      "0it [00:00, ?it/s]\n",
      "100%|████████████████████████████████████████████████████████████████████████████████| 121/121 [00:00<00:00, 255.92it/s]\n",
      "0it [00:00, ?it/s]\n",
      "100%|████████████████████████████████████████████████████████████████████████████████| 121/121 [00:00<00:00, 259.44it/s]\n",
      "0it [00:00, ?it/s]\n",
      "100%|████████████████████████████████████████████████████████████████████████████████| 121/121 [00:00<00:00, 265.02it/s]\n",
      "0it [00:00, ?it/s]\n",
      "100%|████████████████████████████████████████████████████████████████████████████████| 121/121 [00:00<00:00, 261.21it/s]\n",
      "0it [00:00, ?it/s]\n",
      "100%|████████████████████████████████████████████████████████████████████████████████| 121/121 [00:00<00:00, 261.53it/s]\n",
      "0it [00:00, ?it/s]\n",
      "100%|████████████████████████████████████████████████████████████████████████████████| 121/121 [00:00<00:00, 256.44it/s]\n",
      "0it [00:00, ?it/s]\n"
     ]
    },
    {
     "name": "stdout",
     "output_type": "stream",
     "text": [
      "Alignment time: 21.787697553634644\n",
      "Length: 0\n",
      "Aligning 7 and 8\n",
      "new diag score is estimated\n"
     ]
    },
    {
     "name": "stderr",
     "output_type": "stream",
     "text": [
      "100%|██████████████████████████████████████████████████████████████████████████████| 1846/1846 [00:04<00:00, 378.76it/s]\n"
     ]
    },
    {
     "name": "stdout",
     "output_type": "stream",
     "text": [
      "21\n",
      "7\n",
      "theta = -1.4787793334710982e-06, x_initial = 15, y_initial = -200\n"
     ]
    },
    {
     "name": "stderr",
     "output_type": "stream",
     "text": [
      "100%|████████████████████████████████████████████████████████████████████████████████| 121/121 [00:00<00:00, 240.93it/s]\n",
      "100%|███████████████████████████████████████████████████████████████████████████████████| 45/45 [00:00<00:00, 50.52it/s]\n",
      "100%|████████████████████████████████████████████████████████████████████████████████| 121/121 [00:00<00:00, 228.90it/s]\n",
      "100%|█████████████████████████████████████████████████████████████████████████████████| 108/108 [00:02<00:00, 48.36it/s]\n",
      "100%|████████████████████████████████████████████████████████████████████████████████| 121/121 [00:00<00:00, 237.91it/s]\n",
      "100%|█████████████████████████████████████████████████████████████████████████████████| 171/171 [00:03<00:00, 47.66it/s]\n",
      "100%|████████████████████████████████████████████████████████████████████████████████| 121/121 [00:00<00:00, 243.59it/s]\n",
      "100%|█████████████████████████████████████████████████████████████████████████████████| 216/216 [00:04<00:00, 46.63it/s]\n",
      "100%|████████████████████████████████████████████████████████████████████████████████| 121/121 [00:00<00:00, 243.18it/s]\n",
      "100%|█████████████████████████████████████████████████████████████████████████████████| 144/144 [00:02<00:00, 48.37it/s]\n",
      "100%|████████████████████████████████████████████████████████████████████████████████| 121/121 [00:00<00:00, 228.24it/s]\n",
      "100%|███████████████████████████████████████████████████████████████████████████████████| 90/90 [00:01<00:00, 47.29it/s]\n",
      "100%|████████████████████████████████████████████████████████████████████████████████| 121/121 [00:00<00:00, 197.50it/s]\n",
      "100%|█████████████████████████████████████████████████████████████████████████████████████| 9/9 [00:00<00:00, 47.54it/s]\n"
     ]
    },
    {
     "name": "stdout",
     "output_type": "stream",
     "text": [
      "theta = -84.34851483135857, x_initial = -13, y_initial = 106\n"
     ]
    },
    {
     "name": "stderr",
     "output_type": "stream",
     "text": [
      "100%|████████████████████████████████████████████████████████████████████████████████| 121/121 [00:00<00:00, 242.21it/s]\n",
      "0it [00:00, ?it/s]\n",
      "100%|████████████████████████████████████████████████████████████████████████████████| 121/121 [00:00<00:00, 225.53it/s]\n",
      "0it [00:00, ?it/s]\n",
      "100%|████████████████████████████████████████████████████████████████████████████████| 121/121 [00:00<00:00, 222.85it/s]\n",
      "0it [00:00, ?it/s]\n",
      "100%|████████████████████████████████████████████████████████████████████████████████| 121/121 [00:00<00:00, 262.35it/s]\n",
      "0it [00:00, ?it/s]\n",
      "100%|████████████████████████████████████████████████████████████████████████████████| 121/121 [00:00<00:00, 259.90it/s]\n",
      "100%|███████████████████████████████████████████████████████████████████████████████████| 36/36 [00:00<00:00, 41.62it/s]\n",
      "100%|████████████████████████████████████████████████████████████████████████████████| 121/121 [00:00<00:00, 226.20it/s]\n",
      "100%|███████████████████████████████████████████████████████████████████████████████████| 99/99 [00:02<00:00, 43.61it/s]\n",
      "100%|████████████████████████████████████████████████████████████████████████████████| 121/121 [00:00<00:00, 260.16it/s]\n",
      "100%|███████████████████████████████████████████████████████████████████████████████████| 90/90 [00:01<00:00, 47.30it/s]\n"
     ]
    },
    {
     "name": "stdout",
     "output_type": "stream",
     "text": [
      "theta = -113.48301269285929, x_initial = -133, y_initial = -6\n"
     ]
    },
    {
     "name": "stderr",
     "output_type": "stream",
     "text": [
      "100%|████████████████████████████████████████████████████████████████████████████████| 121/121 [00:00<00:00, 230.73it/s]\n",
      "100%|███████████████████████████████████████████████████████████████████████████████████| 36/36 [00:00<00:00, 46.89it/s]\n",
      "100%|████████████████████████████████████████████████████████████████████████████████| 121/121 [00:00<00:00, 228.85it/s]\n",
      "100%|███████████████████████████████████████████████████████████████████████████████████| 63/63 [00:01<00:00, 51.48it/s]\n",
      "100%|████████████████████████████████████████████████████████████████████████████████| 121/121 [00:00<00:00, 240.16it/s]\n",
      "100%|███████████████████████████████████████████████████████████████████████████████████| 99/99 [00:01<00:00, 50.30it/s]\n",
      "100%|████████████████████████████████████████████████████████████████████████████████| 121/121 [00:00<00:00, 235.31it/s]\n",
      "100%|█████████████████████████████████████████████████████████████████████████████████| 144/144 [00:02<00:00, 50.14it/s]\n",
      "100%|████████████████████████████████████████████████████████████████████████████████| 121/121 [00:00<00:00, 245.92it/s]\n",
      "100%|█████████████████████████████████████████████████████████████████████████████████| 144/144 [00:03<00:00, 44.92it/s]\n",
      "100%|████████████████████████████████████████████████████████████████████████████████| 121/121 [00:00<00:00, 204.44it/s]\n",
      "100%|█████████████████████████████████████████████████████████████████████████████████| 126/126 [00:02<00:00, 44.28it/s]\n",
      "100%|████████████████████████████████████████████████████████████████████████████████| 121/121 [00:00<00:00, 243.53it/s]\n",
      "100%|███████████████████████████████████████████████████████████████████████████████████| 81/81 [00:01<00:00, 46.85it/s]\n"
     ]
    },
    {
     "name": "stdout",
     "output_type": "stream",
     "text": [
      "theta = -112.47713405005649, x_initial = 69, y_initial = 162\n"
     ]
    },
    {
     "name": "stderr",
     "output_type": "stream",
     "text": [
      "100%|████████████████████████████████████████████████████████████████████████████████| 121/121 [00:00<00:00, 250.87it/s]\n",
      "0it [00:00, ?it/s]\n",
      "100%|████████████████████████████████████████████████████████████████████████████████| 121/121 [00:00<00:00, 245.27it/s]\n",
      "0it [00:00, ?it/s]\n",
      "100%|████████████████████████████████████████████████████████████████████████████████| 121/121 [00:00<00:00, 249.62it/s]\n",
      "0it [00:00, ?it/s]\n",
      "100%|████████████████████████████████████████████████████████████████████████████████| 121/121 [00:00<00:00, 246.01it/s]\n",
      "0it [00:00, ?it/s]\n",
      "100%|████████████████████████████████████████████████████████████████████████████████| 121/121 [00:00<00:00, 251.91it/s]\n",
      "0it [00:00, ?it/s]\n",
      "100%|████████████████████████████████████████████████████████████████████████████████| 121/121 [00:00<00:00, 245.54it/s]\n",
      "0it [00:00, ?it/s]\n",
      "100%|████████████████████████████████████████████████████████████████████████████████| 121/121 [00:00<00:00, 251.52it/s]\n",
      "0it [00:00, ?it/s]\n"
     ]
    },
    {
     "name": "stdout",
     "output_type": "stream",
     "text": [
      "Too far translations filtered out: 1280\n",
      "Alignment time: 61.64516592025757\n",
      "Length: 1\n",
      "Aligning 7 and 9\n",
      "new diag score is estimated\n"
     ]
    },
    {
     "name": "stderr",
     "output_type": "stream",
     "text": [
      "100%|██████████████████████████████████████████████████████████████████████████████| 1846/1846 [00:10<00:00, 169.32it/s]\n"
     ]
    },
    {
     "name": "stdout",
     "output_type": "stream",
     "text": [
      "12\n",
      "5\n",
      "theta = -133.55698146446133, x_initial = -244, y_initial = 99\n"
     ]
    },
    {
     "name": "stderr",
     "output_type": "stream",
     "text": [
      "100%|████████████████████████████████████████████████████████████████████████████████| 121/121 [00:00<00:00, 163.69it/s]\n",
      "0it [00:00, ?it/s]\n",
      "100%|████████████████████████████████████████████████████████████████████████████████| 121/121 [00:00<00:00, 175.41it/s]\n",
      "0it [00:00, ?it/s]\n",
      "100%|████████████████████████████████████████████████████████████████████████████████| 121/121 [00:00<00:00, 160.72it/s]\n",
      "0it [00:00, ?it/s]\n",
      "100%|████████████████████████████████████████████████████████████████████████████████| 121/121 [00:00<00:00, 174.34it/s]\n",
      "0it [00:00, ?it/s]\n",
      "100%|████████████████████████████████████████████████████████████████████████████████| 121/121 [00:00<00:00, 176.05it/s]\n",
      "0it [00:00, ?it/s]\n",
      "100%|████████████████████████████████████████████████████████████████████████████████| 121/121 [00:00<00:00, 170.93it/s]\n",
      "0it [00:00, ?it/s]\n",
      "100%|████████████████████████████████████████████████████████████████████████████████| 121/121 [00:00<00:00, 177.85it/s]\n",
      "0it [00:00, ?it/s]\n"
     ]
    },
    {
     "name": "stdout",
     "output_type": "stream",
     "text": [
      "theta = -11.870130089206956, x_initial = 117, y_initial = 158\n"
     ]
    },
    {
     "name": "stderr",
     "output_type": "stream",
     "text": [
      "100%|████████████████████████████████████████████████████████████████████████████████| 121/121 [00:00<00:00, 185.70it/s]\n",
      "0it [00:00, ?it/s]\n",
      "100%|████████████████████████████████████████████████████████████████████████████████| 121/121 [00:00<00:00, 183.97it/s]\n",
      "0it [00:00, ?it/s]\n",
      "100%|████████████████████████████████████████████████████████████████████████████████| 121/121 [00:00<00:00, 186.58it/s]\n",
      "0it [00:00, ?it/s]\n",
      "100%|████████████████████████████████████████████████████████████████████████████████| 121/121 [00:00<00:00, 184.19it/s]\n",
      "0it [00:00, ?it/s]\n",
      "100%|████████████████████████████████████████████████████████████████████████████████| 121/121 [00:00<00:00, 183.72it/s]\n",
      "0it [00:00, ?it/s]\n",
      "100%|████████████████████████████████████████████████████████████████████████████████| 121/121 [00:00<00:00, 164.88it/s]\n",
      "0it [00:00, ?it/s]\n",
      "100%|████████████████████████████████████████████████████████████████████████████████| 121/121 [00:00<00:00, 173.45it/s]\n",
      "0it [00:00, ?it/s]\n"
     ]
    },
    {
     "name": "stdout",
     "output_type": "stream",
     "text": [
      "theta = -88.58583718397176, x_initial = -277, y_initial = -231\n"
     ]
    },
    {
     "name": "stderr",
     "output_type": "stream",
     "text": [
      "100%|████████████████████████████████████████████████████████████████████████████████| 121/121 [00:00<00:00, 148.86it/s]\n",
      "0it [00:00, ?it/s]\n",
      "100%|████████████████████████████████████████████████████████████████████████████████| 121/121 [00:00<00:00, 154.11it/s]\n",
      "0it [00:00, ?it/s]\n",
      "100%|████████████████████████████████████████████████████████████████████████████████| 121/121 [00:00<00:00, 153.65it/s]\n",
      "0it [00:00, ?it/s]\n",
      "100%|████████████████████████████████████████████████████████████████████████████████| 121/121 [00:00<00:00, 138.80it/s]\n",
      "0it [00:00, ?it/s]\n",
      "100%|████████████████████████████████████████████████████████████████████████████████| 121/121 [00:00<00:00, 150.79it/s]\n",
      "0it [00:00, ?it/s]\n",
      "100%|████████████████████████████████████████████████████████████████████████████████| 121/121 [00:00<00:00, 147.50it/s]\n",
      "0it [00:00, ?it/s]\n",
      "100%|████████████████████████████████████████████████████████████████████████████████| 121/121 [00:00<00:00, 144.51it/s]\n",
      "0it [00:00, ?it/s]\n"
     ]
    },
    {
     "name": "stdout",
     "output_type": "stream",
     "text": [
      "theta = -139.0739366903955, x_initial = 166, y_initial = -243\n"
     ]
    },
    {
     "name": "stderr",
     "output_type": "stream",
     "text": [
      "100%|████████████████████████████████████████████████████████████████████████████████| 121/121 [00:00<00:00, 160.35it/s]\n",
      "0it [00:00, ?it/s]\n",
      "100%|████████████████████████████████████████████████████████████████████████████████| 121/121 [00:00<00:00, 156.93it/s]\n",
      "0it [00:00, ?it/s]\n",
      "100%|████████████████████████████████████████████████████████████████████████████████| 121/121 [00:00<00:00, 154.55it/s]\n",
      "0it [00:00, ?it/s]\n",
      "100%|████████████████████████████████████████████████████████████████████████████████| 121/121 [00:00<00:00, 164.62it/s]\n",
      "0it [00:00, ?it/s]\n",
      "100%|████████████████████████████████████████████████████████████████████████████████| 121/121 [00:00<00:00, 148.21it/s]\n",
      "0it [00:00, ?it/s]\n",
      "100%|████████████████████████████████████████████████████████████████████████████████| 121/121 [00:00<00:00, 161.58it/s]\n",
      "0it [00:00, ?it/s]\n",
      "100%|████████████████████████████████████████████████████████████████████████████████| 121/121 [00:00<00:00, 155.27it/s]\n",
      "0it [00:00, ?it/s]\n"
     ]
    },
    {
     "name": "stdout",
     "output_type": "stream",
     "text": [
      "Alignment time: 38.944159507751465\n",
      "Length: 0\n",
      "Aligning 7 and 10\n",
      "new diag score is estimated\n"
     ]
    },
    {
     "name": "stderr",
     "output_type": "stream",
     "text": [
      "100%|██████████████████████████████████████████████████████████████████████████████| 1846/1846 [00:05<00:00, 329.37it/s]\n"
     ]
    },
    {
     "name": "stdout",
     "output_type": "stream",
     "text": [
      "15\n",
      "6\n",
      "theta = -81.9194793959353, x_initial = -106, y_initial = 100\n"
     ]
    },
    {
     "name": "stderr",
     "output_type": "stream",
     "text": [
      "100%|████████████████████████████████████████████████████████████████████████████████| 121/121 [00:00<00:00, 229.77it/s]\n",
      "0it [00:00, ?it/s]\n",
      "100%|████████████████████████████████████████████████████████████████████████████████| 121/121 [00:00<00:00, 228.26it/s]\n",
      "0it [00:00, ?it/s]\n",
      "100%|████████████████████████████████████████████████████████████████████████████████| 121/121 [00:00<00:00, 238.11it/s]\n",
      "0it [00:00, ?it/s]\n",
      "100%|████████████████████████████████████████████████████████████████████████████████| 121/121 [00:00<00:00, 236.12it/s]\n",
      "0it [00:00, ?it/s]\n",
      "100%|████████████████████████████████████████████████████████████████████████████████| 121/121 [00:00<00:00, 241.23it/s]\n",
      "0it [00:00, ?it/s]\n",
      "100%|████████████████████████████████████████████████████████████████████████████████| 121/121 [00:00<00:00, 236.85it/s]\n",
      "0it [00:00, ?it/s]\n",
      "100%|████████████████████████████████████████████████████████████████████████████████| 121/121 [00:00<00:00, 239.63it/s]\n",
      "0it [00:00, ?it/s]\n"
     ]
    },
    {
     "name": "stdout",
     "output_type": "stream",
     "text": [
      "theta = -85.65924161561978, x_initial = -111, y_initial = 108\n"
     ]
    },
    {
     "name": "stderr",
     "output_type": "stream",
     "text": [
      "100%|████████████████████████████████████████████████████████████████████████████████| 121/121 [00:00<00:00, 239.49it/s]\n",
      "0it [00:00, ?it/s]\n",
      "100%|████████████████████████████████████████████████████████████████████████████████| 121/121 [00:00<00:00, 239.74it/s]\n",
      "0it [00:00, ?it/s]\n",
      "100%|████████████████████████████████████████████████████████████████████████████████| 121/121 [00:00<00:00, 237.05it/s]\n",
      "0it [00:00, ?it/s]\n",
      "100%|████████████████████████████████████████████████████████████████████████████████| 121/121 [00:00<00:00, 231.02it/s]\n",
      "0it [00:00, ?it/s]\n",
      "100%|████████████████████████████████████████████████████████████████████████████████| 121/121 [00:00<00:00, 236.00it/s]\n",
      "0it [00:00, ?it/s]\n",
      "100%|████████████████████████████████████████████████████████████████████████████████| 121/121 [00:00<00:00, 235.75it/s]\n",
      "0it [00:00, ?it/s]\n",
      "100%|████████████████████████████████████████████████████████████████████████████████| 121/121 [00:00<00:00, 239.41it/s]\n",
      "0it [00:00, ?it/s]\n"
     ]
    },
    {
     "name": "stdout",
     "output_type": "stream",
     "text": [
      "theta = -147.02925378053988, x_initial = -123, y_initial = 139\n"
     ]
    },
    {
     "name": "stderr",
     "output_type": "stream",
     "text": [
      "100%|████████████████████████████████████████████████████████████████████████████████| 121/121 [00:00<00:00, 228.95it/s]\n",
      "0it [00:00, ?it/s]\n",
      "100%|████████████████████████████████████████████████████████████████████████████████| 121/121 [00:00<00:00, 232.41it/s]\n",
      "0it [00:00, ?it/s]\n",
      "100%|████████████████████████████████████████████████████████████████████████████████| 121/121 [00:00<00:00, 235.15it/s]\n",
      "0it [00:00, ?it/s]\n",
      "100%|████████████████████████████████████████████████████████████████████████████████| 121/121 [00:00<00:00, 233.71it/s]\n",
      "0it [00:00, ?it/s]\n",
      "100%|████████████████████████████████████████████████████████████████████████████████| 121/121 [00:00<00:00, 210.99it/s]\n",
      "0it [00:00, ?it/s]\n",
      "100%|████████████████████████████████████████████████████████████████████████████████| 121/121 [00:00<00:00, 208.33it/s]\n",
      "0it [00:00, ?it/s]\n",
      "100%|████████████████████████████████████████████████████████████████████████████████| 121/121 [00:00<00:00, 222.89it/s]\n",
      "0it [00:00, ?it/s]\n"
     ]
    },
    {
     "name": "stdout",
     "output_type": "stream",
     "text": [
      "theta = -41.11209043916692, x_initial = 68, y_initial = 126\n"
     ]
    },
    {
     "name": "stderr",
     "output_type": "stream",
     "text": [
      "100%|████████████████████████████████████████████████████████████████████████████████| 121/121 [00:00<00:00, 243.48it/s]\n",
      "0it [00:00, ?it/s]\n",
      "100%|████████████████████████████████████████████████████████████████████████████████| 121/121 [00:00<00:00, 239.17it/s]\n",
      "100%|███████████████████████████████████████████████████████████████████████████████████| 36/36 [00:00<00:00, 46.59it/s]\n",
      "100%|████████████████████████████████████████████████████████████████████████████████| 121/121 [00:00<00:00, 235.19it/s]\n",
      "100%|█████████████████████████████████████████████████████████████████████████████████| 108/108 [00:02<00:00, 47.04it/s]\n",
      "100%|████████████████████████████████████████████████████████████████████████████████| 121/121 [00:00<00:00, 207.18it/s]\n",
      "100%|███████████████████████████████████████████████████████████████████████████████████| 81/81 [00:01<00:00, 44.61it/s]\n",
      "100%|████████████████████████████████████████████████████████████████████████████████| 121/121 [00:00<00:00, 243.01it/s]\n",
      "100%|███████████████████████████████████████████████████████████████████████████████████| 90/90 [00:01<00:00, 50.49it/s]\n",
      "100%|████████████████████████████████████████████████████████████████████████████████| 121/121 [00:00<00:00, 232.49it/s]\n",
      "100%|███████████████████████████████████████████████████████████████████████████████████| 45/45 [00:01<00:00, 41.93it/s]\n",
      "100%|████████████████████████████████████████████████████████████████████████████████| 121/121 [00:00<00:00, 227.84it/s]\n",
      "100%|███████████████████████████████████████████████████████████████████████████████████| 18/18 [00:00<00:00, 46.20it/s]\n"
     ]
    },
    {
     "name": "stdout",
     "output_type": "stream",
     "text": [
      "Too far translations filtered out: 34\n",
      "Alignment time: 34.7376503944397\n",
      "Length: 2\n",
      "Aligning 7 and 11\n",
      "new diag score is estimated\n"
     ]
    },
    {
     "name": "stderr",
     "output_type": "stream",
     "text": [
      "100%|██████████████████████████████████████████████████████████████████████████████| 1846/1846 [00:08<00:00, 216.28it/s]\n"
     ]
    },
    {
     "name": "stdout",
     "output_type": "stream",
     "text": [
      "20\n",
      "6\n",
      "theta = -8.623482631215815, x_initial = 96, y_initial = 194\n"
     ]
    },
    {
     "name": "stderr",
     "output_type": "stream",
     "text": [
      "100%|████████████████████████████████████████████████████████████████████████████████| 121/121 [00:00<00:00, 190.46it/s]\n",
      "0it [00:00, ?it/s]\n",
      "100%|████████████████████████████████████████████████████████████████████████████████| 121/121 [00:00<00:00, 169.47it/s]\n",
      "0it [00:00, ?it/s]\n",
      "100%|████████████████████████████████████████████████████████████████████████████████| 121/121 [00:00<00:00, 175.35it/s]\n",
      "100%|█████████████████████████████████████████████████████████████████████████████████████| 9/9 [00:00<00:00, 67.96it/s]\n",
      "100%|████████████████████████████████████████████████████████████████████████████████| 121/121 [00:00<00:00, 182.73it/s]\n",
      "100%|███████████████████████████████████████████████████████████████████████████████████| 45/45 [00:01<00:00, 37.66it/s]\n",
      "100%|████████████████████████████████████████████████████████████████████████████████| 121/121 [00:00<00:00, 178.31it/s]\n",
      "100%|███████████████████████████████████████████████████████████████████████████████████| 81/81 [00:02<00:00, 35.47it/s]\n",
      "100%|████████████████████████████████████████████████████████████████████████████████| 121/121 [00:00<00:00, 188.79it/s]\n",
      "100%|███████████████████████████████████████████████████████████████████████████████████| 90/90 [00:02<00:00, 37.27it/s]\n",
      "100%|████████████████████████████████████████████████████████████████████████████████| 121/121 [00:00<00:00, 180.50it/s]\n",
      "100%|███████████████████████████████████████████████████████████████████████████████████| 72/72 [00:01<00:00, 40.67it/s]\n"
     ]
    },
    {
     "name": "stdout",
     "output_type": "stream",
     "text": [
      "theta = -58.471547387726915, x_initial = -39, y_initial = -195\n"
     ]
    },
    {
     "name": "stderr",
     "output_type": "stream",
     "text": [
      "100%|████████████████████████████████████████████████████████████████████████████████| 121/121 [00:00<00:00, 192.17it/s]\n",
      "0it [00:00, ?it/s]\n",
      "100%|████████████████████████████████████████████████████████████████████████████████| 121/121 [00:00<00:00, 192.90it/s]\n",
      "100%|███████████████████████████████████████████████████████████████████████████████████| 18/18 [00:00<00:00, 52.97it/s]\n",
      "100%|████████████████████████████████████████████████████████████████████████████████| 121/121 [00:00<00:00, 194.19it/s]\n",
      "100%|███████████████████████████████████████████████████████████████████████████████████| 27/27 [00:00<00:00, 33.94it/s]\n",
      "100%|████████████████████████████████████████████████████████████████████████████████| 121/121 [00:00<00:00, 193.29it/s]\n",
      "100%|█████████████████████████████████████████████████████████████████████████████████| 117/117 [00:03<00:00, 35.24it/s]\n",
      "100%|████████████████████████████████████████████████████████████████████████████████| 121/121 [00:00<00:00, 194.85it/s]\n",
      "100%|█████████████████████████████████████████████████████████████████████████████████| 108/108 [00:02<00:00, 37.78it/s]\n",
      "100%|████████████████████████████████████████████████████████████████████████████████| 121/121 [00:00<00:00, 186.07it/s]\n",
      "100%|███████████████████████████████████████████████████████████████████████████████████| 27/27 [00:00<00:00, 57.14it/s]\n",
      "100%|████████████████████████████████████████████████████████████████████████████████| 121/121 [00:00<00:00, 194.38it/s]\n",
      "0it [00:00, ?it/s]\n"
     ]
    },
    {
     "name": "stdout",
     "output_type": "stream",
     "text": [
      "theta = -21.86218970214399, x_initial = 191, y_initial = -172\n"
     ]
    },
    {
     "name": "stderr",
     "output_type": "stream",
     "text": [
      "100%|████████████████████████████████████████████████████████████████████████████████| 121/121 [00:00<00:00, 175.62it/s]\n",
      "100%|███████████████████████████████████████████████████████████████████████████████████| 72/72 [00:01<00:00, 39.94it/s]\n",
      "100%|████████████████████████████████████████████████████████████████████████████████| 121/121 [00:00<00:00, 173.73it/s]\n",
      "100%|███████████████████████████████████████████████████████████████████████████████████| 99/99 [00:02<00:00, 40.03it/s]\n",
      "100%|████████████████████████████████████████████████████████████████████████████████| 121/121 [00:00<00:00, 174.32it/s]\n",
      "100%|███████████████████████████████████████████████████████████████████████████████████| 90/90 [00:02<00:00, 35.71it/s]\n",
      "100%|████████████████████████████████████████████████████████████████████████████████| 121/121 [00:00<00:00, 178.36it/s]\n",
      "100%|███████████████████████████████████████████████████████████████████████████████████| 99/99 [00:02<00:00, 33.72it/s]\n",
      "100%|████████████████████████████████████████████████████████████████████████████████| 121/121 [00:00<00:00, 172.58it/s]\n",
      "100%|███████████████████████████████████████████████████████████████████████████████████| 90/90 [00:02<00:00, 37.04it/s]\n",
      "100%|████████████████████████████████████████████████████████████████████████████████| 121/121 [00:00<00:00, 157.06it/s]\n",
      "0it [00:00, ?it/s]\n",
      "100%|████████████████████████████████████████████████████████████████████████████████| 121/121 [00:00<00:00, 153.46it/s]\n",
      "0it [00:00, ?it/s]\n"
     ]
    },
    {
     "name": "stdout",
     "output_type": "stream",
     "text": [
      "theta = -171.76004612669146, x_initial = -324, y_initial = 137\n"
     ]
    },
    {
     "name": "stderr",
     "output_type": "stream",
     "text": [
      "100%|████████████████████████████████████████████████████████████████████████████████| 121/121 [00:00<00:00, 154.61it/s]\n",
      "100%|█████████████████████████████████████████████████████████████████████████████████| 108/108 [00:02<00:00, 36.25it/s]\n",
      "100%|████████████████████████████████████████████████████████████████████████████████| 121/121 [00:00<00:00, 151.19it/s]\n",
      "100%|███████████████████████████████████████████████████████████████████████████████████| 72/72 [00:01<00:00, 36.79it/s]\n",
      "100%|████████████████████████████████████████████████████████████████████████████████| 121/121 [00:00<00:00, 167.68it/s]\n",
      "100%|███████████████████████████████████████████████████████████████████████████████████| 18/18 [00:00<00:00, 46.21it/s]\n",
      "100%|████████████████████████████████████████████████████████████████████████████████| 121/121 [00:00<00:00, 169.19it/s]\n",
      "0it [00:00, ?it/s]\n",
      "100%|████████████████████████████████████████████████████████████████████████████████| 121/121 [00:00<00:00, 161.44it/s]\n",
      "0it [00:00, ?it/s]\n",
      "100%|████████████████████████████████████████████████████████████████████████████████| 121/121 [00:00<00:00, 167.32it/s]\n",
      "0it [00:00, ?it/s]\n",
      "100%|████████████████████████████████████████████████████████████████████████████████| 121/121 [00:00<00:00, 167.78it/s]\n",
      "0it [00:00, ?it/s]\n"
     ]
    },
    {
     "name": "stdout",
     "output_type": "stream",
     "text": [
      "Too far translations filtered out: 914\n",
      "Alignment time: 69.04674887657166\n",
      "Length: 4\n",
      "Aligning 7 and 12\n",
      "new diag score is estimated\n"
     ]
    },
    {
     "name": "stderr",
     "output_type": "stream",
     "text": [
      "100%|██████████████████████████████████████████████████████████████████████████████| 1846/1846 [00:02<00:00, 714.16it/s]\n"
     ]
    },
    {
     "name": "stdout",
     "output_type": "stream",
     "text": [
      "18\n",
      "5\n",
      "theta = -91.92627140861157, x_initial = 26, y_initial = 172\n"
     ]
    },
    {
     "name": "stderr",
     "output_type": "stream",
     "text": [
      "100%|████████████████████████████████████████████████████████████████████████████████| 121/121 [00:00<00:00, 254.11it/s]\n",
      "0it [00:00, ?it/s]\n",
      "100%|████████████████████████████████████████████████████████████████████████████████| 121/121 [00:00<00:00, 251.04it/s]\n",
      "0it [00:00, ?it/s]\n",
      "100%|████████████████████████████████████████████████████████████████████████████████| 121/121 [00:00<00:00, 248.90it/s]\n",
      "0it [00:00, ?it/s]\n",
      "100%|████████████████████████████████████████████████████████████████████████████████| 121/121 [00:00<00:00, 250.16it/s]\n",
      "0it [00:00, ?it/s]\n",
      "100%|████████████████████████████████████████████████████████████████████████████████| 121/121 [00:00<00:00, 259.60it/s]\n",
      "0it [00:00, ?it/s]\n",
      "100%|████████████████████████████████████████████████████████████████████████████████| 121/121 [00:00<00:00, 247.93it/s]\n",
      "0it [00:00, ?it/s]\n",
      "100%|████████████████████████████████████████████████████████████████████████████████| 121/121 [00:00<00:00, 253.05it/s]\n",
      "0it [00:00, ?it/s]\n"
     ]
    },
    {
     "name": "stdout",
     "output_type": "stream",
     "text": [
      "theta = -180.0, x_initial = -39, y_initial = 187\n"
     ]
    },
    {
     "name": "stderr",
     "output_type": "stream",
     "text": [
      "100%|████████████████████████████████████████████████████████████████████████████████| 121/121 [00:00<00:00, 246.70it/s]\n",
      "100%|███████████████████████████████████████████████████████████████████████████████████| 81/81 [00:01<00:00, 50.37it/s]\n",
      "100%|████████████████████████████████████████████████████████████████████████████████| 121/121 [00:00<00:00, 247.50it/s]\n",
      "100%|█████████████████████████████████████████████████████████████████████████████████| 126/126 [00:02<00:00, 50.61it/s]\n",
      "100%|████████████████████████████████████████████████████████████████████████████████| 121/121 [00:00<00:00, 243.98it/s]\n",
      "100%|█████████████████████████████████████████████████████████████████████████████████| 135/135 [00:02<00:00, 47.34it/s]\n",
      "100%|████████████████████████████████████████████████████████████████████████████████| 121/121 [00:00<00:00, 244.48it/s]\n",
      "100%|█████████████████████████████████████████████████████████████████████████████████| 180/180 [00:03<00:00, 46.95it/s]\n",
      "100%|████████████████████████████████████████████████████████████████████████████████| 121/121 [00:00<00:00, 236.95it/s]\n",
      "100%|█████████████████████████████████████████████████████████████████████████████████| 216/216 [00:04<00:00, 48.21it/s]\n",
      "100%|████████████████████████████████████████████████████████████████████████████████| 121/121 [00:00<00:00, 239.60it/s]\n",
      "100%|█████████████████████████████████████████████████████████████████████████████████| 189/189 [00:03<00:00, 48.95it/s]\n",
      "100%|████████████████████████████████████████████████████████████████████████████████| 121/121 [00:00<00:00, 245.05it/s]\n",
      "100%|█████████████████████████████████████████████████████████████████████████████████| 144/144 [00:02<00:00, 51.04it/s]\n"
     ]
    },
    {
     "name": "stdout",
     "output_type": "stream",
     "text": [
      "theta = -154.15806723683284, x_initial = 127, y_initial = 44\n"
     ]
    },
    {
     "name": "stderr",
     "output_type": "stream",
     "text": [
      "100%|████████████████████████████████████████████████████████████████████████████████| 121/121 [00:00<00:00, 251.46it/s]\n",
      "100%|█████████████████████████████████████████████████████████████████████████████████| 108/108 [00:02<00:00, 47.93it/s]\n",
      "100%|████████████████████████████████████████████████████████████████████████████████| 121/121 [00:00<00:00, 250.27it/s]\n",
      "100%|█████████████████████████████████████████████████████████████████████████████████| 189/189 [00:03<00:00, 49.44it/s]\n",
      "100%|████████████████████████████████████████████████████████████████████████████████| 121/121 [00:00<00:00, 255.66it/s]\n",
      "100%|█████████████████████████████████████████████████████████████████████████████████| 198/198 [00:04<00:00, 46.89it/s]\n",
      "100%|████████████████████████████████████████████████████████████████████████████████| 121/121 [00:00<00:00, 253.02it/s]\n",
      "100%|█████████████████████████████████████████████████████████████████████████████████| 216/216 [00:04<00:00, 44.02it/s]\n",
      "100%|████████████████████████████████████████████████████████████████████████████████| 121/121 [00:00<00:00, 211.31it/s]\n",
      "100%|█████████████████████████████████████████████████████████████████████████████████| 189/189 [00:04<00:00, 41.07it/s]\n",
      "100%|████████████████████████████████████████████████████████████████████████████████| 121/121 [00:00<00:00, 202.44it/s]\n",
      "100%|█████████████████████████████████████████████████████████████████████████████████| 153/153 [00:03<00:00, 41.71it/s]\n",
      "100%|████████████████████████████████████████████████████████████████████████████████| 121/121 [00:00<00:00, 227.41it/s]\n",
      "100%|███████████████████████████████████████████████████████████████████████████████████| 63/63 [00:01<00:00, 43.35it/s]\n"
     ]
    },
    {
     "name": "stdout",
     "output_type": "stream",
     "text": [
      "theta = -44.06202686180741, x_initial = 187, y_initial = 67\n"
     ]
    },
    {
     "name": "stderr",
     "output_type": "stream",
     "text": [
      "100%|████████████████████████████████████████████████████████████████████████████████| 121/121 [00:00<00:00, 230.92it/s]\n",
      "0it [00:00, ?it/s]\n",
      "100%|████████████████████████████████████████████████████████████████████████████████| 121/121 [00:00<00:00, 233.58it/s]\n",
      "100%|███████████████████████████████████████████████████████████████████████████████████| 36/36 [00:00<00:00, 52.29it/s]\n",
      "100%|████████████████████████████████████████████████████████████████████████████████| 121/121 [00:00<00:00, 231.02it/s]\n",
      "100%|█████████████████████████████████████████████████████████████████████████████████| 126/126 [00:02<00:00, 49.35it/s]\n",
      "100%|████████████████████████████████████████████████████████████████████████████████| 121/121 [00:00<00:00, 228.91it/s]\n",
      "100%|█████████████████████████████████████████████████████████████████████████████████| 162/162 [00:03<00:00, 41.38it/s]\n",
      "100%|████████████████████████████████████████████████████████████████████████████████| 121/121 [00:00<00:00, 228.99it/s]\n",
      "100%|█████████████████████████████████████████████████████████████████████████████████| 207/207 [00:04<00:00, 42.80it/s]\n",
      "100%|████████████████████████████████████████████████████████████████████████████████| 121/121 [00:00<00:00, 224.05it/s]\n",
      "100%|█████████████████████████████████████████████████████████████████████████████████| 171/171 [00:03<00:00, 46.73it/s]\n",
      "100%|████████████████████████████████████████████████████████████████████████████████| 121/121 [00:00<00:00, 223.72it/s]\n",
      "100%|█████████████████████████████████████████████████████████████████████████████████| 117/117 [00:02<00:00, 45.61it/s]\n"
     ]
    },
    {
     "name": "stdout",
     "output_type": "stream",
     "text": [
      "Too far translations filtered out: 1493\n",
      "Alignment time: 86.73232340812683\n",
      "Length: 7\n",
      "Aligning 7 and 14\n",
      "new diag score is estimated\n"
     ]
    },
    {
     "name": "stderr",
     "output_type": "stream",
     "text": [
      "100%|██████████████████████████████████████████████████████████████████████████████| 1846/1846 [00:07<00:00, 241.11it/s]\n"
     ]
    },
    {
     "name": "stdout",
     "output_type": "stream",
     "text": [
      "13\n",
      "5\n",
      "theta = -22.24015747197795, x_initial = 133, y_initial = -239\n"
     ]
    },
    {
     "name": "stderr",
     "output_type": "stream",
     "text": [
      "100%|████████████████████████████████████████████████████████████████████████████████| 121/121 [00:00<00:00, 183.85it/s]\n",
      "0it [00:00, ?it/s]\n",
      "100%|████████████████████████████████████████████████████████████████████████████████| 121/121 [00:00<00:00, 192.82it/s]\n",
      "0it [00:00, ?it/s]\n",
      "100%|████████████████████████████████████████████████████████████████████████████████| 121/121 [00:00<00:00, 180.85it/s]\n",
      "0it [00:00, ?it/s]\n",
      "100%|████████████████████████████████████████████████████████████████████████████████| 121/121 [00:00<00:00, 191.25it/s]\n",
      "0it [00:00, ?it/s]\n",
      "100%|████████████████████████████████████████████████████████████████████████████████| 121/121 [00:00<00:00, 176.48it/s]\n",
      "0it [00:00, ?it/s]\n",
      "100%|████████████████████████████████████████████████████████████████████████████████| 121/121 [00:00<00:00, 180.61it/s]\n",
      "0it [00:00, ?it/s]\n",
      "100%|████████████████████████████████████████████████████████████████████████████████| 121/121 [00:00<00:00, 173.20it/s]\n",
      "0it [00:00, ?it/s]\n"
     ]
    },
    {
     "name": "stdout",
     "output_type": "stream",
     "text": [
      "theta = -9.108743629944907, x_initial = 149, y_initial = 94\n"
     ]
    },
    {
     "name": "stderr",
     "output_type": "stream",
     "text": [
      "100%|████████████████████████████████████████████████████████████████████████████████| 121/121 [00:00<00:00, 210.66it/s]\n",
      "0it [00:00, ?it/s]\n",
      "100%|████████████████████████████████████████████████████████████████████████████████| 121/121 [00:00<00:00, 191.13it/s]\n",
      "0it [00:00, ?it/s]\n",
      "100%|████████████████████████████████████████████████████████████████████████████████| 121/121 [00:00<00:00, 202.25it/s]\n",
      "0it [00:00, ?it/s]\n",
      "100%|████████████████████████████████████████████████████████████████████████████████| 121/121 [00:00<00:00, 211.56it/s]\n",
      "0it [00:00, ?it/s]\n",
      "100%|████████████████████████████████████████████████████████████████████████████████| 121/121 [00:00<00:00, 210.23it/s]\n",
      "100%|███████████████████████████████████████████████████████████████████████████████████| 36/36 [00:00<00:00, 47.06it/s]\n",
      "100%|████████████████████████████████████████████████████████████████████████████████| 121/121 [00:00<00:00, 214.34it/s]\n",
      "100%|███████████████████████████████████████████████████████████████████████████████████| 72/72 [00:01<00:00, 44.98it/s]\n",
      "100%|████████████████████████████████████████████████████████████████████████████████| 121/121 [00:00<00:00, 216.44it/s]\n",
      "100%|███████████████████████████████████████████████████████████████████████████████████| 90/90 [00:01<00:00, 45.07it/s]\n"
     ]
    },
    {
     "name": "stdout",
     "output_type": "stream",
     "text": [
      "theta = -70.11778231616901, x_initial = -223, y_initial = -120\n"
     ]
    },
    {
     "name": "stderr",
     "output_type": "stream",
     "text": [
      "100%|████████████████████████████████████████████████████████████████████████████████| 121/121 [00:00<00:00, 202.48it/s]\n",
      "0it [00:00, ?it/s]\n",
      "100%|████████████████████████████████████████████████████████████████████████████████| 121/121 [00:00<00:00, 199.02it/s]\n",
      "0it [00:00, ?it/s]\n",
      "100%|████████████████████████████████████████████████████████████████████████████████| 121/121 [00:00<00:00, 189.38it/s]\n",
      "0it [00:00, ?it/s]\n",
      "100%|████████████████████████████████████████████████████████████████████████████████| 121/121 [00:00<00:00, 187.90it/s]\n",
      "0it [00:00, ?it/s]\n",
      "100%|████████████████████████████████████████████████████████████████████████████████| 121/121 [00:00<00:00, 185.92it/s]\n",
      "0it [00:00, ?it/s]\n",
      "100%|████████████████████████████████████████████████████████████████████████████████| 121/121 [00:00<00:00, 190.93it/s]\n",
      "0it [00:00, ?it/s]\n",
      "100%|████████████████████████████████████████████████████████████████████████████████| 121/121 [00:00<00:00, 188.73it/s]\n",
      "0it [00:00, ?it/s]\n"
     ]
    },
    {
     "name": "stdout",
     "output_type": "stream",
     "text": [
      "theta = -4.457870671700881, x_initial = 120, y_initial = 100\n"
     ]
    },
    {
     "name": "stderr",
     "output_type": "stream",
     "text": [
      "100%|████████████████████████████████████████████████████████████████████████████████| 121/121 [00:00<00:00, 216.83it/s]\n",
      "0it [00:00, ?it/s]\n",
      "100%|████████████████████████████████████████████████████████████████████████████████| 121/121 [00:00<00:00, 215.57it/s]\n",
      "0it [00:00, ?it/s]\n",
      "100%|████████████████████████████████████████████████████████████████████████████████| 121/121 [00:00<00:00, 199.97it/s]\n",
      "0it [00:00, ?it/s]\n",
      "100%|████████████████████████████████████████████████████████████████████████████████| 121/121 [00:00<00:00, 195.67it/s]\n",
      "100%|███████████████████████████████████████████████████████████████████████████████████| 36/36 [00:00<00:00, 52.78it/s]\n",
      "100%|████████████████████████████████████████████████████████████████████████████████| 121/121 [00:00<00:00, 232.75it/s]\n",
      "100%|███████████████████████████████████████████████████████████████████████████████████| 45/45 [00:00<00:00, 47.83it/s]\n",
      "100%|████████████████████████████████████████████████████████████████████████████████| 121/121 [00:00<00:00, 230.96it/s]\n",
      "100%|████████████████████████████████████████████████████████████████████████████████████| 9/9 [00:00<00:00, 104.50it/s]\n",
      "100%|████████████████████████████████████████████████████████████████████████████████| 121/121 [00:00<00:00, 220.44it/s]\n",
      "0it [00:00, ?it/s]\n"
     ]
    },
    {
     "name": "stdout",
     "output_type": "stream",
     "text": [
      "Too far translations filtered out: 133\n",
      "Alignment time: 37.672457218170166\n",
      "Length: 2\n",
      "Aligning 7 and 15\n",
      "new diag score is estimated\n"
     ]
    },
    {
     "name": "stderr",
     "output_type": "stream",
     "text": [
      "100%|██████████████████████████████████████████████████████████████████████████████| 1846/1846 [00:07<00:00, 239.67it/s]\n"
     ]
    },
    {
     "name": "stdout",
     "output_type": "stream",
     "text": [
      "8\n",
      "4\n",
      "theta = -15.783770199798091, x_initial = -156, y_initial = 221\n"
     ]
    },
    {
     "name": "stderr",
     "output_type": "stream",
     "text": [
      "100%|████████████████████████████████████████████████████████████████████████████████| 121/121 [00:00<00:00, 200.49it/s]\n",
      "100%|███████████████████████████████████████████████████████████████████████████████████| 99/99 [00:02<00:00, 44.40it/s]\n",
      "100%|████████████████████████████████████████████████████████████████████████████████| 121/121 [00:00<00:00, 224.14it/s]\n",
      "100%|█████████████████████████████████████████████████████████████████████████████████| 117/117 [00:02<00:00, 48.38it/s]\n",
      "100%|████████████████████████████████████████████████████████████████████████████████| 121/121 [00:00<00:00, 225.85it/s]\n",
      "100%|█████████████████████████████████████████████████████████████████████████████████| 108/108 [00:02<00:00, 49.78it/s]\n",
      "100%|████████████████████████████████████████████████████████████████████████████████| 121/121 [00:00<00:00, 227.10it/s]\n",
      "100%|█████████████████████████████████████████████████████████████████████████████████| 108/108 [00:02<00:00, 48.46it/s]\n",
      "100%|████████████████████████████████████████████████████████████████████████████████| 121/121 [00:00<00:00, 221.11it/s]\n",
      "100%|███████████████████████████████████████████████████████████████████████████████████| 72/72 [00:01<00:00, 44.85it/s]\n",
      "100%|████████████████████████████████████████████████████████████████████████████████| 121/121 [00:00<00:00, 216.58it/s]\n",
      "100%|███████████████████████████████████████████████████████████████████████████████████| 36/36 [00:00<00:00, 54.08it/s]\n",
      "100%|████████████████████████████████████████████████████████████████████████████████| 121/121 [00:00<00:00, 227.02it/s]\n",
      "0it [00:00, ?it/s]\n"
     ]
    },
    {
     "name": "stdout",
     "output_type": "stream",
     "text": [
      "theta = -127.55042861953625, x_initial = -289, y_initial = 95\n"
     ]
    },
    {
     "name": "stderr",
     "output_type": "stream",
     "text": [
      "100%|████████████████████████████████████████████████████████████████████████████████| 121/121 [00:00<00:00, 218.62it/s]\n",
      "0it [00:00, ?it/s]\n",
      "100%|████████████████████████████████████████████████████████████████████████████████| 121/121 [00:00<00:00, 223.78it/s]\n",
      "0it [00:00, ?it/s]\n",
      "100%|████████████████████████████████████████████████████████████████████████████████| 121/121 [00:00<00:00, 225.19it/s]\n",
      "0it [00:00, ?it/s]\n",
      "100%|████████████████████████████████████████████████████████████████████████████████| 121/121 [00:00<00:00, 222.55it/s]\n",
      "0it [00:00, ?it/s]\n",
      "100%|████████████████████████████████████████████████████████████████████████████████| 121/121 [00:00<00:00, 221.46it/s]\n",
      "0it [00:00, ?it/s]\n",
      "100%|████████████████████████████████████████████████████████████████████████████████| 121/121 [00:00<00:00, 221.41it/s]\n",
      "0it [00:00, ?it/s]\n",
      "100%|████████████████████████████████████████████████████████████████████████████████| 121/121 [00:00<00:00, 223.00it/s]\n",
      "0it [00:00, ?it/s]\n"
     ]
    },
    {
     "name": "stdout",
     "output_type": "stream",
     "text": [
      "theta = -0.0, x_initial = 102, y_initial = 96\n"
     ]
    },
    {
     "name": "stderr",
     "output_type": "stream",
     "text": [
      "100%|████████████████████████████████████████████████████████████████████████████████| 121/121 [00:00<00:00, 251.60it/s]\n",
      "0it [00:00, ?it/s]\n",
      "100%|████████████████████████████████████████████████████████████████████████████████| 121/121 [00:00<00:00, 250.10it/s]\n",
      "0it [00:00, ?it/s]\n",
      "100%|████████████████████████████████████████████████████████████████████████████████| 121/121 [00:00<00:00, 253.53it/s]\n",
      "0it [00:00, ?it/s]\n",
      "100%|████████████████████████████████████████████████████████████████████████████████| 121/121 [00:00<00:00, 246.92it/s]\n",
      "100%|█████████████████████████████████████████████████████████████████████████████████████| 9/9 [00:00<00:00, 49.23it/s]\n",
      "100%|████████████████████████████████████████████████████████████████████████████████| 121/121 [00:00<00:00, 242.30it/s]\n",
      "100%|███████████████████████████████████████████████████████████████████████████████████| 45/45 [00:00<00:00, 56.77it/s]\n",
      "100%|████████████████████████████████████████████████████████████████████████████████| 121/121 [00:00<00:00, 214.22it/s]\n",
      "100%|███████████████████████████████████████████████████████████████████████████████████| 72/72 [00:01<00:00, 52.42it/s]\n",
      "100%|████████████████████████████████████████████████████████████████████████████████| 121/121 [00:00<00:00, 256.12it/s]\n",
      "100%|███████████████████████████████████████████████████████████████████████████████████| 18/18 [00:00<00:00, 58.01it/s]\n"
     ]
    },
    {
     "name": "stdout",
     "output_type": "stream",
     "text": [
      "theta = -7.582091322558554, x_initial = 247, y_initial = -37\n"
     ]
    },
    {
     "name": "stderr",
     "output_type": "stream",
     "text": [
      "100%|████████████████████████████████████████████████████████████████████████████████| 121/121 [00:00<00:00, 230.33it/s]\n",
      "0it [00:00, ?it/s]\n",
      "100%|████████████████████████████████████████████████████████████████████████████████| 121/121 [00:00<00:00, 230.95it/s]\n",
      "100%|███████████████████████████████████████████████████████████████████████████████████| 18/18 [00:00<00:00, 72.39it/s]\n",
      "100%|████████████████████████████████████████████████████████████████████████████████| 121/121 [00:00<00:00, 230.78it/s]\n",
      "100%|█████████████████████████████████████████████████████████████████████████████████████| 9/9 [00:00<00:00, 65.67it/s]\n",
      "100%|████████████████████████████████████████████████████████████████████████████████| 121/121 [00:00<00:00, 224.33it/s]\n",
      "0it [00:00, ?it/s]\n",
      "100%|████████████████████████████████████████████████████████████████████████████████| 121/121 [00:00<00:00, 200.39it/s]\n",
      "0it [00:00, ?it/s]\n",
      "100%|████████████████████████████████████████████████████████████████████████████████| 121/121 [00:00<00:00, 163.76it/s]\n",
      "0it [00:00, ?it/s]\n",
      "100%|████████████████████████████████████████████████████████████████████████████████| 121/121 [00:00<00:00, 162.02it/s]\n",
      "0it [00:00, ?it/s]\n"
     ]
    },
    {
     "name": "stdout",
     "output_type": "stream",
     "text": [
      "Too far translations filtered out: 269\n",
      "Alignment time: 43.378302812576294\n",
      "Length: 3\n",
      "Aligning 8 and 9\n",
      "new diag score is estimated\n"
     ]
    },
    {
     "name": "stderr",
     "output_type": "stream",
     "text": [
      "100%|██████████████████████████████████████████████████████████████████████████████| 1146/1146 [00:07<00:00, 157.97it/s]\n"
     ]
    },
    {
     "name": "stdout",
     "output_type": "stream",
     "text": [
      "18\n",
      "6\n",
      "theta = -64.61113639103874, x_initial = 136, y_initial = 88\n"
     ]
    },
    {
     "name": "stderr",
     "output_type": "stream",
     "text": [
      "100%|████████████████████████████████████████████████████████████████████████████████| 121/121 [00:00<00:00, 193.92it/s]\n",
      "0it [00:00, ?it/s]\n",
      "100%|████████████████████████████████████████████████████████████████████████████████| 121/121 [00:00<00:00, 191.58it/s]\n",
      "100%|█████████████████████████████████████████████████████████████████████████████████| 144/144 [00:03<00:00, 36.95it/s]\n",
      "100%|████████████████████████████████████████████████████████████████████████████████| 121/121 [00:00<00:00, 193.17it/s]\n",
      "100%|█████████████████████████████████████████████████████████████████████████████████| 153/153 [00:04<00:00, 32.05it/s]\n",
      "100%|████████████████████████████████████████████████████████████████████████████████| 121/121 [00:00<00:00, 168.71it/s]\n",
      "100%|█████████████████████████████████████████████████████████████████████████████████| 171/171 [00:04<00:00, 35.69it/s]\n",
      "100%|████████████████████████████████████████████████████████████████████████████████| 121/121 [00:00<00:00, 186.47it/s]\n",
      "100%|█████████████████████████████████████████████████████████████████████████████████| 117/117 [00:03<00:00, 33.08it/s]\n",
      "100%|████████████████████████████████████████████████████████████████████████████████| 121/121 [00:00<00:00, 178.17it/s]\n",
      "100%|███████████████████████████████████████████████████████████████████████████████████| 81/81 [00:02<00:00, 33.82it/s]\n",
      "100%|████████████████████████████████████████████████████████████████████████████████| 121/121 [00:00<00:00, 174.23it/s]\n",
      "100%|███████████████████████████████████████████████████████████████████████████████████| 18/18 [00:00<00:00, 37.79it/s]\n"
     ]
    },
    {
     "name": "stdout",
     "output_type": "stream",
     "text": [
      "theta = -103.21298036015862, x_initial = 163, y_initial = 23\n"
     ]
    },
    {
     "name": "stderr",
     "output_type": "stream",
     "text": [
      "100%|████████████████████████████████████████████████████████████████████████████████| 121/121 [00:00<00:00, 161.74it/s]\n",
      "0it [00:00, ?it/s]\n",
      "100%|████████████████████████████████████████████████████████████████████████████████| 121/121 [00:00<00:00, 130.47it/s]\n",
      "0it [00:00, ?it/s]\n",
      "100%|████████████████████████████████████████████████████████████████████████████████| 121/121 [00:00<00:00, 161.87it/s]\n",
      "0it [00:00, ?it/s]\n",
      "100%|████████████████████████████████████████████████████████████████████████████████| 121/121 [00:00<00:00, 191.82it/s]\n",
      "0it [00:00, ?it/s]\n",
      "100%|████████████████████████████████████████████████████████████████████████████████| 121/121 [00:00<00:00, 186.37it/s]\n",
      "0it [00:00, ?it/s]\n",
      "100%|████████████████████████████████████████████████████████████████████████████████| 121/121 [00:00<00:00, 185.78it/s]\n",
      "0it [00:00, ?it/s]\n",
      "100%|████████████████████████████████████████████████████████████████████████████████| 121/121 [00:00<00:00, 196.91it/s]\n",
      "0it [00:00, ?it/s]\n"
     ]
    },
    {
     "name": "stdout",
     "output_type": "stream",
     "text": [
      "theta = -65.77668785043709, x_initial = 214, y_initial = -85\n"
     ]
    },
    {
     "name": "stderr",
     "output_type": "stream",
     "text": [
      "100%|████████████████████████████████████████████████████████████████████████████████| 121/121 [00:00<00:00, 180.74it/s]\n",
      "100%|███████████████████████████████████████████████████████████████████████████████████| 18/18 [00:00<00:00, 58.00it/s]\n",
      "100%|████████████████████████████████████████████████████████████████████████████████| 121/121 [00:00<00:00, 182.90it/s]\n",
      "100%|███████████████████████████████████████████████████████████████████████████████████| 72/72 [00:01<00:00, 36.04it/s]\n",
      "100%|████████████████████████████████████████████████████████████████████████████████| 121/121 [00:00<00:00, 184.53it/s]\n",
      "100%|█████████████████████████████████████████████████████████████████████████████████| 135/135 [00:03<00:00, 36.05it/s]\n",
      "100%|████████████████████████████████████████████████████████████████████████████████| 121/121 [00:00<00:00, 175.35it/s]\n",
      "100%|█████████████████████████████████████████████████████████████████████████████████| 180/180 [00:05<00:00, 34.06it/s]\n",
      "100%|████████████████████████████████████████████████████████████████████████████████| 121/121 [00:00<00:00, 174.40it/s]\n",
      "100%|█████████████████████████████████████████████████████████████████████████████████| 162/162 [00:04<00:00, 33.50it/s]\n",
      "100%|████████████████████████████████████████████████████████████████████████████████| 121/121 [00:00<00:00, 184.77it/s]\n",
      "100%|█████████████████████████████████████████████████████████████████████████████████| 153/153 [00:04<00:00, 34.72it/s]\n",
      "100%|████████████████████████████████████████████████████████████████████████████████| 121/121 [00:00<00:00, 175.37it/s]\n",
      "100%|███████████████████████████████████████████████████████████████████████████████████| 18/18 [00:00<00:00, 47.02it/s]\n"
     ]
    },
    {
     "name": "stdout",
     "output_type": "stream",
     "text": [
      "theta = -157.8827157646253, x_initial = -130, y_initial = 95\n"
     ]
    },
    {
     "name": "stderr",
     "output_type": "stream",
     "text": [
      "100%|████████████████████████████████████████████████████████████████████████████████| 121/121 [00:00<00:00, 193.24it/s]\n",
      "0it [00:00, ?it/s]\n",
      "100%|████████████████████████████████████████████████████████████████████████████████| 121/121 [00:00<00:00, 193.58it/s]\n",
      "0it [00:00, ?it/s]\n",
      "100%|████████████████████████████████████████████████████████████████████████████████| 121/121 [00:00<00:00, 183.44it/s]\n",
      "0it [00:00, ?it/s]\n",
      "100%|████████████████████████████████████████████████████████████████████████████████| 121/121 [00:00<00:00, 197.63it/s]\n",
      "0it [00:00, ?it/s]\n",
      "100%|████████████████████████████████████████████████████████████████████████████████| 121/121 [00:00<00:00, 197.86it/s]\n",
      "0it [00:00, ?it/s]\n",
      "100%|████████████████████████████████████████████████████████████████████████████████| 121/121 [00:00<00:00, 197.31it/s]\n",
      "0it [00:00, ?it/s]\n",
      "100%|████████████████████████████████████████████████████████████████████████████████| 121/121 [00:00<00:00, 197.07it/s]\n",
      "0it [00:00, ?it/s]\n"
     ]
    },
    {
     "name": "stdout",
     "output_type": "stream",
     "text": [
      "Too far translations filtered out: 1041\n",
      "Alignment time: 75.43067836761475\n",
      "Length: 3\n",
      "Aligning 8 and 10\n",
      "new diag score is estimated\n"
     ]
    },
    {
     "name": "stderr",
     "output_type": "stream",
     "text": [
      "100%|██████████████████████████████████████████████████████████████████████████████| 1146/1146 [00:03<00:00, 317.55it/s]\n"
     ]
    },
    {
     "name": "stdout",
     "output_type": "stream",
     "text": [
      "18\n",
      "5\n",
      "theta = -22.83663252914652, x_initial = 126, y_initial = -48\n"
     ]
    },
    {
     "name": "stderr",
     "output_type": "stream",
     "text": [
      "100%|████████████████████████████████████████████████████████████████████████████████| 121/121 [00:00<00:00, 347.07it/s]\n",
      "100%|███████████████████████████████████████████████████████████████████████████████████| 81/81 [00:00<00:00, 87.45it/s]\n",
      "100%|████████████████████████████████████████████████████████████████████████████████| 121/121 [00:00<00:00, 374.64it/s]\n",
      "100%|█████████████████████████████████████████████████████████████████████████████████| 162/162 [00:02<00:00, 75.51it/s]\n",
      "100%|████████████████████████████████████████████████████████████████████████████████| 121/121 [00:00<00:00, 382.28it/s]\n",
      "100%|█████████████████████████████████████████████████████████████████████████████████| 207/207 [00:02<00:00, 74.53it/s]\n",
      "100%|████████████████████████████████████████████████████████████████████████████████| 121/121 [00:00<00:00, 366.49it/s]\n",
      "100%|█████████████████████████████████████████████████████████████████████████████████| 243/243 [00:03<00:00, 75.95it/s]\n",
      "100%|████████████████████████████████████████████████████████████████████████████████| 121/121 [00:00<00:00, 387.97it/s]\n",
      "100%|█████████████████████████████████████████████████████████████████████████████████| 243/243 [00:03<00:00, 74.29it/s]\n",
      "100%|████████████████████████████████████████████████████████████████████████████████| 121/121 [00:00<00:00, 392.24it/s]\n",
      "100%|█████████████████████████████████████████████████████████████████████████████████| 207/207 [00:03<00:00, 68.33it/s]\n",
      "100%|████████████████████████████████████████████████████████████████████████████████| 121/121 [00:00<00:00, 357.15it/s]\n",
      "100%|█████████████████████████████████████████████████████████████████████████████████| 162/162 [00:02<00:00, 76.07it/s]\n"
     ]
    },
    {
     "name": "stdout",
     "output_type": "stream",
     "text": [
      "theta = -22.61986494804047, x_initial = -3, y_initial = 142\n"
     ]
    },
    {
     "name": "stderr",
     "output_type": "stream",
     "text": [
      "100%|████████████████████████████████████████████████████████████████████████████████| 121/121 [00:00<00:00, 418.42it/s]\n",
      "100%|███████████████████████████████████████████████████████████████████████████████████| 36/36 [00:00<00:00, 77.50it/s]\n",
      "100%|████████████████████████████████████████████████████████████████████████████████| 121/121 [00:00<00:00, 411.35it/s]\n",
      "100%|█████████████████████████████████████████████████████████████████████████████████| 108/108 [00:01<00:00, 77.13it/s]\n",
      "100%|████████████████████████████████████████████████████████████████████████████████| 121/121 [00:00<00:00, 408.26it/s]\n",
      "100%|█████████████████████████████████████████████████████████████████████████████████| 162/162 [00:02<00:00, 73.41it/s]\n",
      "100%|████████████████████████████████████████████████████████████████████████████████| 121/121 [00:00<00:00, 404.32it/s]\n",
      "100%|█████████████████████████████████████████████████████████████████████████████████| 198/198 [00:02<00:00, 68.86it/s]\n",
      "100%|████████████████████████████████████████████████████████████████████████████████| 121/121 [00:00<00:00, 391.69it/s]\n",
      "100%|█████████████████████████████████████████████████████████████████████████████████| 243/243 [00:03<00:00, 68.55it/s]\n",
      "100%|████████████████████████████████████████████████████████████████████████████████| 121/121 [00:00<00:00, 307.46it/s]\n",
      "100%|█████████████████████████████████████████████████████████████████████████████████| 234/234 [00:03<00:00, 66.32it/s]\n",
      "100%|████████████████████████████████████████████████████████████████████████████████| 121/121 [00:00<00:00, 353.62it/s]\n",
      "100%|█████████████████████████████████████████████████████████████████████████████████| 189/189 [00:02<00:00, 66.86it/s]\n"
     ]
    },
    {
     "name": "stdout",
     "output_type": "stream",
     "text": [
      "theta = -57.26632446124545, x_initial = 13, y_initial = -133\n"
     ]
    },
    {
     "name": "stderr",
     "output_type": "stream",
     "text": [
      "100%|████████████████████████████████████████████████████████████████████████████████| 121/121 [00:00<00:00, 318.78it/s]\n",
      "0it [00:00, ?it/s]\n",
      "100%|████████████████████████████████████████████████████████████████████████████████| 121/121 [00:00<00:00, 385.59it/s]\n",
      "0it [00:00, ?it/s]\n",
      "100%|████████████████████████████████████████████████████████████████████████████████| 121/121 [00:00<00:00, 358.64it/s]\n",
      "0it [00:00, ?it/s]\n",
      "100%|████████████████████████████████████████████████████████████████████████████████| 121/121 [00:00<00:00, 385.05it/s]\n",
      "0it [00:00, ?it/s]\n",
      "100%|████████████████████████████████████████████████████████████████████████████████| 121/121 [00:00<00:00, 375.21it/s]\n",
      "0it [00:00, ?it/s]\n",
      "100%|████████████████████████████████████████████████████████████████████████████████| 121/121 [00:00<00:00, 378.30it/s]\n",
      "0it [00:00, ?it/s]\n",
      "100%|████████████████████████████████████████████████████████████████████████████████| 121/121 [00:00<00:00, 407.14it/s]\n",
      "0it [00:00, ?it/s]\n"
     ]
    },
    {
     "name": "stdout",
     "output_type": "stream",
     "text": [
      "theta = -103.3861534548522, x_initial = 136, y_initial = 78\n"
     ]
    },
    {
     "name": "stderr",
     "output_type": "stream",
     "text": [
      "100%|████████████████████████████████████████████████████████████████████████████████| 121/121 [00:00<00:00, 375.10it/s]\n",
      "100%|█████████████████████████████████████████████████████████████████████████████████| 135/135 [00:01<00:00, 67.59it/s]\n",
      "100%|████████████████████████████████████████████████████████████████████████████████| 121/121 [00:00<00:00, 384.91it/s]\n",
      "100%|█████████████████████████████████████████████████████████████████████████████████| 153/153 [00:02<00:00, 67.42it/s]\n",
      "100%|████████████████████████████████████████████████████████████████████████████████| 121/121 [00:00<00:00, 313.74it/s]\n",
      "100%|█████████████████████████████████████████████████████████████████████████████████| 162/162 [00:02<00:00, 68.97it/s]\n",
      "100%|████████████████████████████████████████████████████████████████████████████████| 121/121 [00:00<00:00, 345.60it/s]\n",
      "100%|█████████████████████████████████████████████████████████████████████████████████| 189/189 [00:02<00:00, 68.80it/s]\n",
      "100%|████████████████████████████████████████████████████████████████████████████████| 121/121 [00:00<00:00, 362.64it/s]\n",
      "100%|█████████████████████████████████████████████████████████████████████████████████| 180/180 [00:02<00:00, 65.58it/s]\n",
      "100%|████████████████████████████████████████████████████████████████████████████████| 121/121 [00:00<00:00, 372.58it/s]\n",
      "100%|█████████████████████████████████████████████████████████████████████████████████| 207/207 [00:02<00:00, 69.28it/s]\n",
      "100%|████████████████████████████████████████████████████████████████████████████████| 121/121 [00:00<00:00, 369.61it/s]\n",
      "100%|█████████████████████████████████████████████████████████████████████████████████| 180/180 [00:02<00:00, 70.55it/s]\n"
     ]
    },
    {
     "name": "stdout",
     "output_type": "stream",
     "text": [
      "Too far translations filtered out: 3256\n",
      "Alignment time: 70.10437250137329\n",
      "Length: 1\n",
      "Aligning 8 and 11\n",
      "new diag score is estimated\n"
     ]
    },
    {
     "name": "stderr",
     "output_type": "stream",
     "text": [
      "100%|██████████████████████████████████████████████████████████████████████████████| 1146/1146 [00:06<00:00, 188.78it/s]\n"
     ]
    },
    {
     "name": "stdout",
     "output_type": "stream",
     "text": [
      "22\n",
      "9\n",
      "theta = -39.34713664524012, x_initial = 206, y_initial = 89\n"
     ]
    },
    {
     "name": "stderr",
     "output_type": "stream",
     "text": [
      "100%|████████████████████████████████████████████████████████████████████████████████| 121/121 [00:00<00:00, 184.45it/s]\n",
      "0it [00:00, ?it/s]\n",
      "100%|████████████████████████████████████████████████████████████████████████████████| 121/121 [00:00<00:00, 180.81it/s]\n",
      "0it [00:00, ?it/s]\n",
      "100%|████████████████████████████████████████████████████████████████████████████████| 121/121 [00:00<00:00, 166.52it/s]\n",
      "0it [00:00, ?it/s]\n",
      "100%|████████████████████████████████████████████████████████████████████████████████| 121/121 [00:00<00:00, 159.75it/s]\n",
      "0it [00:00, ?it/s]\n",
      "100%|████████████████████████████████████████████████████████████████████████████████| 121/121 [00:00<00:00, 179.85it/s]\n",
      "0it [00:00, ?it/s]\n",
      "100%|████████████████████████████████████████████████████████████████████████████████| 121/121 [00:00<00:00, 141.20it/s]\n",
      "0it [00:00, ?it/s]\n",
      "100%|████████████████████████████████████████████████████████████████████████████████| 121/121 [00:00<00:00, 169.09it/s]\n",
      "0it [00:00, ?it/s]\n"
     ]
    },
    {
     "name": "stdout",
     "output_type": "stream",
     "text": [
      "theta = -17.068539910386367, x_initial = 142, y_initial = -85\n"
     ]
    },
    {
     "name": "stderr",
     "output_type": "stream",
     "text": [
      "100%|████████████████████████████████████████████████████████████████████████████████| 121/121 [00:00<00:00, 136.44it/s]\n",
      "0it [00:00, ?it/s]\n",
      "100%|████████████████████████████████████████████████████████████████████████████████| 121/121 [00:00<00:00, 125.49it/s]\n",
      "0it [00:00, ?it/s]\n",
      "100%|████████████████████████████████████████████████████████████████████████████████| 121/121 [00:00<00:00, 181.57it/s]\n",
      "0it [00:00, ?it/s]\n",
      "100%|████████████████████████████████████████████████████████████████████████████████| 121/121 [00:00<00:00, 197.42it/s]\n",
      "0it [00:00, ?it/s]\n",
      "100%|████████████████████████████████████████████████████████████████████████████████| 121/121 [00:00<00:00, 196.05it/s]\n",
      "0it [00:00, ?it/s]\n",
      "100%|████████████████████████████████████████████████████████████████████████████████| 121/121 [00:00<00:00, 178.07it/s]\n",
      "0it [00:00, ?it/s]\n",
      "100%|████████████████████████████████████████████████████████████████████████████████| 121/121 [00:00<00:00, 198.04it/s]\n",
      "100%|███████████████████████████████████████████████████████████████████████████████████| 72/72 [00:01<00:00, 40.85it/s]\n"
     ]
    },
    {
     "name": "stdout",
     "output_type": "stream",
     "text": [
      "theta = -73.6673957647427, x_initial = -165, y_initial = -141\n"
     ]
    },
    {
     "name": "stderr",
     "output_type": "stream",
     "text": [
      "100%|████████████████████████████████████████████████████████████████████████████████| 121/121 [00:00<00:00, 184.90it/s]\n",
      "100%|█████████████████████████████████████████████████████████████████████████████████| 135/135 [00:03<00:00, 35.26it/s]\n",
      "100%|████████████████████████████████████████████████████████████████████████████████| 121/121 [00:00<00:00, 162.72it/s]\n",
      "100%|█████████████████████████████████████████████████████████████████████████████████| 189/189 [00:05<00:00, 33.36it/s]\n",
      "100%|████████████████████████████████████████████████████████████████████████████████| 121/121 [00:00<00:00, 157.65it/s]\n",
      "100%|█████████████████████████████████████████████████████████████████████████████████| 189/189 [00:05<00:00, 34.64it/s]\n",
      "100%|████████████████████████████████████████████████████████████████████████████████| 121/121 [00:00<00:00, 163.55it/s]\n",
      "100%|█████████████████████████████████████████████████████████████████████████████████| 153/153 [00:04<00:00, 33.50it/s]\n",
      "100%|████████████████████████████████████████████████████████████████████████████████| 121/121 [00:00<00:00, 172.42it/s]\n",
      "100%|█████████████████████████████████████████████████████████████████████████████████| 117/117 [00:03<00:00, 35.14it/s]\n",
      "100%|████████████████████████████████████████████████████████████████████████████████| 121/121 [00:00<00:00, 173.36it/s]\n",
      "100%|███████████████████████████████████████████████████████████████████████████████████| 90/90 [00:02<00:00, 32.00it/s]\n",
      "100%|████████████████████████████████████████████████████████████████████████████████| 121/121 [00:00<00:00, 173.09it/s]\n",
      "100%|███████████████████████████████████████████████████████████████████████████████████| 63/63 [00:01<00:00, 37.03it/s]\n"
     ]
    },
    {
     "name": "stdout",
     "output_type": "stream",
     "text": [
      "theta = -130.55801804575236, x_initial = 61, y_initial = 110\n"
     ]
    },
    {
     "name": "stderr",
     "output_type": "stream",
     "text": [
      "100%|████████████████████████████████████████████████████████████████████████████████| 121/121 [00:00<00:00, 195.38it/s]\n",
      "0it [00:00, ?it/s]\n",
      "100%|████████████████████████████████████████████████████████████████████████████████| 121/121 [00:00<00:00, 193.69it/s]\n",
      "0it [00:00, ?it/s]\n",
      "100%|████████████████████████████████████████████████████████████████████████████████| 121/121 [00:00<00:00, 193.01it/s]\n",
      "0it [00:00, ?it/s]\n",
      "100%|████████████████████████████████████████████████████████████████████████████████| 121/121 [00:00<00:00, 194.06it/s]\n",
      "0it [00:00, ?it/s]\n",
      "100%|████████████████████████████████████████████████████████████████████████████████| 121/121 [00:00<00:00, 192.31it/s]\n",
      "0it [00:00, ?it/s]\n",
      "100%|████████████████████████████████████████████████████████████████████████████████| 121/121 [00:00<00:00, 193.71it/s]\n",
      "0it [00:00, ?it/s]\n",
      "100%|████████████████████████████████████████████████████████████████████████████████| 121/121 [00:00<00:00, 194.36it/s]\n",
      "0it [00:00, ?it/s]\n"
     ]
    },
    {
     "name": "stdout",
     "output_type": "stream",
     "text": [
      "Too far translations filtered out: 426\n",
      "Alignment time: 62.813865661621094\n",
      "Length: 2\n",
      "Aligning 8 and 12\n",
      "new diag score is estimated\n"
     ]
    },
    {
     "name": "stderr",
     "output_type": "stream",
     "text": [
      "100%|██████████████████████████████████████████████████████████████████████████████| 1146/1146 [00:01<00:00, 685.51it/s]\n"
     ]
    },
    {
     "name": "stdout",
     "output_type": "stream",
     "text": [
      "10\n",
      "4\n",
      "theta = -169.10470847105722, x_initial = 132, y_initial = 87\n"
     ]
    },
    {
     "name": "stderr",
     "output_type": "stream",
     "text": [
      "100%|████████████████████████████████████████████████████████████████████████████████| 121/121 [00:00<00:00, 362.85it/s]\n",
      "100%|█████████████████████████████████████████████████████████████████████████████████| 189/189 [00:02<00:00, 67.41it/s]\n",
      "100%|████████████████████████████████████████████████████████████████████████████████| 121/121 [00:00<00:00, 354.51it/s]\n",
      "100%|█████████████████████████████████████████████████████████████████████████████████| 153/153 [00:02<00:00, 65.91it/s]\n",
      "100%|████████████████████████████████████████████████████████████████████████████████| 121/121 [00:00<00:00, 350.77it/s]\n",
      "100%|█████████████████████████████████████████████████████████████████████████████████| 108/108 [00:01<00:00, 64.17it/s]\n",
      "100%|████████████████████████████████████████████████████████████████████████████████| 121/121 [00:00<00:00, 346.88it/s]\n",
      "100%|███████████████████████████████████████████████████████████████████████████████████| 45/45 [00:00<00:00, 65.31it/s]\n",
      "100%|████████████████████████████████████████████████████████████████████████████████| 121/121 [00:00<00:00, 359.99it/s]\n",
      "100%|███████████████████████████████████████████████████████████████████████████████████| 18/18 [00:00<00:00, 84.73it/s]\n",
      "100%|████████████████████████████████████████████████████████████████████████████████| 121/121 [00:00<00:00, 353.73it/s]\n",
      "0it [00:00, ?it/s]\n",
      "100%|████████████████████████████████████████████████████████████████████████████████| 121/121 [00:00<00:00, 357.23it/s]\n",
      "0it [00:00, ?it/s]\n"
     ]
    },
    {
     "name": "stdout",
     "output_type": "stream",
     "text": [
      "theta = -19.917847390899627, x_initial = -79, y_initial = 67\n"
     ]
    },
    {
     "name": "stderr",
     "output_type": "stream",
     "text": [
      "100%|████████████████████████████████████████████████████████████████████████████████| 121/121 [00:00<00:00, 373.89it/s]\n",
      "0it [00:00, ?it/s]\n",
      "100%|████████████████████████████████████████████████████████████████████████████████| 121/121 [00:00<00:00, 368.93it/s]\n",
      "0it [00:00, ?it/s]\n",
      "100%|████████████████████████████████████████████████████████████████████████████████| 121/121 [00:00<00:00, 371.22it/s]\n",
      "0it [00:00, ?it/s]\n",
      "100%|████████████████████████████████████████████████████████████████████████████████| 121/121 [00:00<00:00, 371.02it/s]\n",
      "100%|███████████████████████████████████████████████████████████████████████████████████| 27/27 [00:00<00:00, 91.91it/s]\n",
      "100%|████████████████████████████████████████████████████████████████████████████████| 121/121 [00:00<00:00, 372.16it/s]\n",
      "100%|███████████████████████████████████████████████████████████████████████████████████| 72/72 [00:00<00:00, 74.79it/s]\n",
      "100%|████████████████████████████████████████████████████████████████████████████████| 121/121 [00:00<00:00, 367.83it/s]\n",
      "100%|███████████████████████████████████████████████████████████████████████████████████| 99/99 [00:01<00:00, 71.16it/s]\n",
      "100%|████████████████████████████████████████████████████████████████████████████████| 121/121 [00:00<00:00, 373.32it/s]\n",
      "100%|█████████████████████████████████████████████████████████████████████████████████| 144/144 [00:02<00:00, 71.51it/s]\n"
     ]
    },
    {
     "name": "stdout",
     "output_type": "stream",
     "text": [
      "theta = -91.35223832190376, x_initial = -20, y_initial = -73\n"
     ]
    },
    {
     "name": "stderr",
     "output_type": "stream",
     "text": [
      "100%|████████████████████████████████████████████████████████████████████████████████| 121/121 [00:00<00:00, 396.79it/s]\n",
      "0it [00:00, ?it/s]\n",
      "100%|████████████████████████████████████████████████████████████████████████████████| 121/121 [00:00<00:00, 396.27it/s]\n",
      "0it [00:00, ?it/s]\n",
      "100%|████████████████████████████████████████████████████████████████████████████████| 121/121 [00:00<00:00, 371.92it/s]\n",
      "0it [00:00, ?it/s]\n",
      "100%|████████████████████████████████████████████████████████████████████████████████| 121/121 [00:00<00:00, 387.00it/s]\n",
      "0it [00:00, ?it/s]\n",
      "100%|████████████████████████████████████████████████████████████████████████████████| 121/121 [00:00<00:00, 392.26it/s]\n",
      "0it [00:00, ?it/s]\n",
      "100%|████████████████████████████████████████████████████████████████████████████████| 121/121 [00:00<00:00, 395.41it/s]\n",
      "0it [00:00, ?it/s]\n",
      "100%|████████████████████████████████████████████████████████████████████████████████| 121/121 [00:00<00:00, 398.35it/s]\n",
      "0it [00:00, ?it/s]\n"
     ]
    },
    {
     "name": "stdout",
     "output_type": "stream",
     "text": [
      "theta = -97.06971404230337, x_initial = 106, y_initial = -65\n"
     ]
    },
    {
     "name": "stderr",
     "output_type": "stream",
     "text": [
      "100%|████████████████████████████████████████████████████████████████████████████████| 121/121 [00:00<00:00, 363.62it/s]\n",
      "0it [00:00, ?it/s]\n",
      "100%|████████████████████████████████████████████████████████████████████████████████| 121/121 [00:00<00:00, 364.41it/s]\n",
      "0it [00:00, ?it/s]\n",
      "100%|████████████████████████████████████████████████████████████████████████████████| 121/121 [00:00<00:00, 370.63it/s]\n",
      "0it [00:00, ?it/s]\n",
      "100%|████████████████████████████████████████████████████████████████████████████████| 121/121 [00:00<00:00, 371.12it/s]\n",
      "0it [00:00, ?it/s]\n",
      "100%|████████████████████████████████████████████████████████████████████████████████| 121/121 [00:00<00:00, 370.74it/s]\n",
      "0it [00:00, ?it/s]\n",
      "100%|████████████████████████████████████████████████████████████████████████████████| 121/121 [00:00<00:00, 364.74it/s]\n",
      "0it [00:00, ?it/s]\n",
      "100%|████████████████████████████████████████████████████████████████████████████████| 121/121 [00:00<00:00, 330.40it/s]\n",
      "0it [00:00, ?it/s]\n"
     ]
    },
    {
     "name": "stdout",
     "output_type": "stream",
     "text": [
      "Too far translations filtered out: 705\n",
      "Alignment time: 26.741180419921875\n",
      "Length: 1\n",
      "Aligning 8 and 14\n",
      "new diag score is estimated\n"
     ]
    },
    {
     "name": "stderr",
     "output_type": "stream",
     "text": [
      "100%|██████████████████████████████████████████████████████████████████████████████| 1146/1146 [00:04<00:00, 248.64it/s]\n"
     ]
    },
    {
     "name": "stdout",
     "output_type": "stream",
     "text": [
      "13\n",
      "7\n",
      "theta = -107.31535888878008, x_initial = -165, y_initial = -63\n"
     ]
    },
    {
     "name": "stderr",
     "output_type": "stream",
     "text": [
      "100%|████████████████████████████████████████████████████████████████████████████████| 121/121 [00:00<00:00, 213.43it/s]\n",
      "0it [00:00, ?it/s]\n",
      "100%|████████████████████████████████████████████████████████████████████████████████| 121/121 [00:00<00:00, 204.34it/s]\n",
      "0it [00:00, ?it/s]\n",
      "100%|████████████████████████████████████████████████████████████████████████████████| 121/121 [00:00<00:00, 212.88it/s]\n",
      "0it [00:00, ?it/s]\n",
      "100%|████████████████████████████████████████████████████████████████████████████████| 121/121 [00:00<00:00, 192.62it/s]\n",
      "0it [00:00, ?it/s]\n",
      "100%|████████████████████████████████████████████████████████████████████████████████| 121/121 [00:00<00:00, 202.88it/s]\n",
      "0it [00:00, ?it/s]\n",
      "100%|████████████████████████████████████████████████████████████████████████████████| 121/121 [00:00<00:00, 194.39it/s]\n",
      "0it [00:00, ?it/s]\n",
      "100%|████████████████████████████████████████████████████████████████████████████████| 121/121 [00:00<00:00, 207.72it/s]\n",
      "0it [00:00, ?it/s]\n"
     ]
    },
    {
     "name": "stdout",
     "output_type": "stream",
     "text": [
      "theta = -81.72382978218066, x_initial = -162, y_initial = -60\n"
     ]
    },
    {
     "name": "stderr",
     "output_type": "stream",
     "text": [
      "100%|████████████████████████████████████████████████████████████████████████████████| 121/121 [00:00<00:00, 194.60it/s]\n",
      "100%|█████████████████████████████████████████████████████████████████████████████████| 135/135 [00:02<00:00, 46.94it/s]\n",
      "100%|████████████████████████████████████████████████████████████████████████████████| 121/121 [00:00<00:00, 211.50it/s]\n",
      "100%|███████████████████████████████████████████████████████████████████████████████████| 99/99 [00:02<00:00, 38.64it/s]\n",
      "100%|████████████████████████████████████████████████████████████████████████████████| 121/121 [00:00<00:00, 208.23it/s]\n",
      "100%|█████████████████████████████████████████████████████████████████████████████████| 162/162 [00:03<00:00, 40.52it/s]\n",
      "100%|████████████████████████████████████████████████████████████████████████████████| 121/121 [00:00<00:00, 197.02it/s]\n",
      "100%|█████████████████████████████████████████████████████████████████████████████████| 144/144 [00:03<00:00, 37.32it/s]\n",
      "100%|████████████████████████████████████████████████████████████████████████████████| 121/121 [00:00<00:00, 175.81it/s]\n",
      "100%|█████████████████████████████████████████████████████████████████████████████████| 135/135 [00:03<00:00, 41.49it/s]\n",
      "100%|████████████████████████████████████████████████████████████████████████████████| 121/121 [00:00<00:00, 214.48it/s]\n",
      "100%|███████████████████████████████████████████████████████████████████████████████████| 99/99 [00:02<00:00, 45.02it/s]\n",
      "100%|████████████████████████████████████████████████████████████████████████████████| 121/121 [00:00<00:00, 209.73it/s]\n",
      "100%|███████████████████████████████████████████████████████████████████████████████████| 54/54 [00:01<00:00, 43.08it/s]\n"
     ]
    },
    {
     "name": "stdout",
     "output_type": "stream",
     "text": [
      "theta = -99.87932433337765, x_initial = 129, y_initial = 88\n"
     ]
    },
    {
     "name": "stderr",
     "output_type": "stream",
     "text": [
      "100%|████████████████████████████████████████████████████████████████████████████████| 121/121 [00:00<00:00, 218.74it/s]\n",
      "0it [00:00, ?it/s]\n",
      "100%|████████████████████████████████████████████████████████████████████████████████| 121/121 [00:00<00:00, 202.17it/s]\n",
      "0it [00:00, ?it/s]\n",
      "100%|████████████████████████████████████████████████████████████████████████████████| 121/121 [00:00<00:00, 198.46it/s]\n",
      "0it [00:00, ?it/s]\n",
      "100%|████████████████████████████████████████████████████████████████████████████████| 121/121 [00:00<00:00, 206.05it/s]\n",
      "0it [00:00, ?it/s]\n",
      "100%|████████████████████████████████████████████████████████████████████████████████| 121/121 [00:00<00:00, 218.47it/s]\n",
      "0it [00:00, ?it/s]\n",
      "100%|████████████████████████████████████████████████████████████████████████████████| 121/121 [00:00<00:00, 216.67it/s]\n",
      "0it [00:00, ?it/s]\n",
      "100%|████████████████████████████████████████████████████████████████████████████████| 121/121 [00:00<00:00, 217.44it/s]\n",
      "0it [00:00, ?it/s]\n"
     ]
    },
    {
     "name": "stdout",
     "output_type": "stream",
     "text": [
      "theta = -73.86149677240329, x_initial = -2, y_initial = -141\n"
     ]
    },
    {
     "name": "stderr",
     "output_type": "stream",
     "text": [
      "100%|████████████████████████████████████████████████████████████████████████████████| 121/121 [00:00<00:00, 230.01it/s]\n",
      "0it [00:00, ?it/s]\n",
      "100%|████████████████████████████████████████████████████████████████████████████████| 121/121 [00:00<00:00, 204.16it/s]\n",
      "0it [00:00, ?it/s]\n",
      "100%|████████████████████████████████████████████████████████████████████████████████| 121/121 [00:00<00:00, 216.13it/s]\n",
      "0it [00:00, ?it/s]\n",
      "100%|████████████████████████████████████████████████████████████████████████████████| 121/121 [00:00<00:00, 203.58it/s]\n",
      "0it [00:00, ?it/s]\n",
      "100%|████████████████████████████████████████████████████████████████████████████████| 121/121 [00:00<00:00, 206.82it/s]\n",
      "0it [00:00, ?it/s]\n",
      "100%|████████████████████████████████████████████████████████████████████████████████| 121/121 [00:00<00:00, 197.92it/s]\n",
      "0it [00:00, ?it/s]\n",
      "100%|████████████████████████████████████████████████████████████████████████████████| 121/121 [00:00<00:00, 200.63it/s]\n",
      "0it [00:00, ?it/s]\n"
     ]
    },
    {
     "name": "stdout",
     "output_type": "stream",
     "text": [
      "Too far translations filtered out: 15\n",
      "Alignment time: 46.801997661590576\n",
      "Length: 2\n",
      "Aligning 8 and 15\n",
      "new diag score is estimated\n"
     ]
    },
    {
     "name": "stderr",
     "output_type": "stream",
     "text": [
      "100%|██████████████████████████████████████████████████████████████████████████████| 1146/1146 [00:04<00:00, 229.35it/s]\n"
     ]
    },
    {
     "name": "stdout",
     "output_type": "stream",
     "text": [
      "6\n",
      "3\n",
      "theta = -125.23441798458119, x_initial = -191, y_initial = 16\n"
     ]
    },
    {
     "name": "stderr",
     "output_type": "stream",
     "text": [
      "100%|████████████████████████████████████████████████████████████████████████████████| 121/121 [00:00<00:00, 232.88it/s]\n",
      "0it [00:00, ?it/s]\n",
      "100%|████████████████████████████████████████████████████████████████████████████████| 121/121 [00:00<00:00, 229.80it/s]\n",
      "0it [00:00, ?it/s]\n",
      "100%|████████████████████████████████████████████████████████████████████████████████| 121/121 [00:00<00:00, 234.36it/s]\n",
      "0it [00:00, ?it/s]\n",
      "100%|████████████████████████████████████████████████████████████████████████████████| 121/121 [00:00<00:00, 252.19it/s]\n",
      "0it [00:00, ?it/s]\n",
      "100%|████████████████████████████████████████████████████████████████████████████████| 121/121 [00:00<00:00, 251.78it/s]\n",
      "0it [00:00, ?it/s]\n",
      "100%|████████████████████████████████████████████████████████████████████████████████| 121/121 [00:00<00:00, 249.20it/s]\n",
      "0it [00:00, ?it/s]\n",
      "100%|████████████████████████████████████████████████████████████████████████████████| 121/121 [00:00<00:00, 233.70it/s]\n",
      "0it [00:00, ?it/s]\n"
     ]
    },
    {
     "name": "stdout",
     "output_type": "stream",
     "text": [
      "theta = -169.61114218453054, x_initial = 70, y_initial = 172\n"
     ]
    },
    {
     "name": "stderr",
     "output_type": "stream",
     "text": [
      "100%|████████████████████████████████████████████████████████████████████████████████| 121/121 [00:00<00:00, 237.36it/s]\n",
      "0it [00:00, ?it/s]\n",
      "100%|████████████████████████████████████████████████████████████████████████████████| 121/121 [00:00<00:00, 222.01it/s]\n",
      "100%|███████████████████████████████████████████████████████████████████████████████████| 27/27 [00:00<00:00, 56.56it/s]\n",
      "100%|████████████████████████████████████████████████████████████████████████████████| 121/121 [00:00<00:00, 235.28it/s]\n",
      "100%|███████████████████████████████████████████████████████████████████████████████████| 81/81 [00:01<00:00, 53.58it/s]\n",
      "100%|████████████████████████████████████████████████████████████████████████████████| 121/121 [00:00<00:00, 254.56it/s]\n",
      "100%|███████████████████████████████████████████████████████████████████████████████████| 81/81 [00:01<00:00, 61.56it/s]\n",
      "100%|████████████████████████████████████████████████████████████████████████████████| 121/121 [00:00<00:00, 238.57it/s]\n",
      "100%|███████████████████████████████████████████████████████████████████████████████████| 27/27 [00:00<00:00, 66.09it/s]\n",
      "100%|████████████████████████████████████████████████████████████████████████████████| 121/121 [00:00<00:00, 235.13it/s]\n",
      "100%|███████████████████████████████████████████████████████████████████████████████████| 18/18 [00:00<00:00, 79.49it/s]\n",
      "100%|████████████████████████████████████████████████████████████████████████████████| 121/121 [00:00<00:00, 234.70it/s]\n",
      "0it [00:00, ?it/s]\n"
     ]
    },
    {
     "name": "stdout",
     "output_type": "stream",
     "text": [
      "theta = -21.44078516952017, x_initial = 104, y_initial = 168\n"
     ]
    },
    {
     "name": "stderr",
     "output_type": "stream",
     "text": [
      "100%|████████████████████████████████████████████████████████████████████████████████| 121/121 [00:00<00:00, 243.84it/s]\n",
      "0it [00:00, ?it/s]\n",
      "100%|████████████████████████████████████████████████████████████████████████████████| 121/121 [00:00<00:00, 259.96it/s]\n",
      "0it [00:00, ?it/s]\n",
      "100%|████████████████████████████████████████████████████████████████████████████████| 121/121 [00:00<00:00, 258.64it/s]\n",
      "0it [00:00, ?it/s]\n",
      "100%|████████████████████████████████████████████████████████████████████████████████| 121/121 [00:00<00:00, 247.71it/s]\n",
      "0it [00:00, ?it/s]\n",
      "100%|████████████████████████████████████████████████████████████████████████████████| 121/121 [00:00<00:00, 257.59it/s]\n",
      "0it [00:00, ?it/s]\n",
      "100%|████████████████████████████████████████████████████████████████████████████████| 121/121 [00:00<00:00, 259.56it/s]\n",
      "0it [00:00, ?it/s]\n",
      "100%|████████████████████████████████████████████████████████████████████████████████| 121/121 [00:00<00:00, 245.62it/s]\n",
      "0it [00:00, ?it/s]\n"
     ]
    },
    {
     "name": "stdout",
     "output_type": "stream",
     "text": [
      "Too far translations filtered out: 0\n",
      "Alignment time: 24.38575792312622\n",
      "Length: 3\n",
      "Aligning 9 and 10\n",
      "new diag score is estimated\n"
     ]
    },
    {
     "name": "stderr",
     "output_type": "stream",
     "text": [
      "100%|██████████████████████████████████████████████████████████████████████████████| 2516/2516 [00:07<00:00, 340.28it/s]\n"
     ]
    },
    {
     "name": "stdout",
     "output_type": "stream",
     "text": [
      "22\n",
      "10\n",
      "theta = -163.1163601519104, x_initial = -98, y_initial = 136\n"
     ]
    },
    {
     "name": "stderr",
     "output_type": "stream",
     "text": [
      "100%|████████████████████████████████████████████████████████████████████████████████| 121/121 [00:00<00:00, 173.04it/s]\n",
      "0it [00:00, ?it/s]\n",
      "100%|████████████████████████████████████████████████████████████████████████████████| 121/121 [00:00<00:00, 182.69it/s]\n",
      "0it [00:00, ?it/s]\n",
      "100%|████████████████████████████████████████████████████████████████████████████████| 121/121 [00:00<00:00, 173.51it/s]\n",
      "0it [00:00, ?it/s]\n",
      "100%|████████████████████████████████████████████████████████████████████████████████| 121/121 [00:00<00:00, 174.14it/s]\n",
      "100%|███████████████████████████████████████████████████████████████████████████████████| 72/72 [00:02<00:00, 34.56it/s]\n",
      "100%|████████████████████████████████████████████████████████████████████████████████| 121/121 [00:00<00:00, 185.30it/s]\n",
      "100%|█████████████████████████████████████████████████████████████████████████████████| 108/108 [00:03<00:00, 33.88it/s]\n",
      "100%|████████████████████████████████████████████████████████████████████████████████| 121/121 [00:00<00:00, 180.08it/s]\n",
      "100%|███████████████████████████████████████████████████████████████████████████████████| 90/90 [00:02<00:00, 35.15it/s]\n",
      "100%|████████████████████████████████████████████████████████████████████████████████| 121/121 [00:00<00:00, 170.89it/s]\n",
      "100%|█████████████████████████████████████████████████████████████████████████████████████| 9/9 [00:00<00:00, 34.11it/s]\n"
     ]
    },
    {
     "name": "stdout",
     "output_type": "stream",
     "text": [
      "theta = -72.4245894953129, x_initial = -38, y_initial = -185\n"
     ]
    },
    {
     "name": "stderr",
     "output_type": "stream",
     "text": [
      "100%|████████████████████████████████████████████████████████████████████████████████| 121/121 [00:00<00:00, 151.28it/s]\n",
      "0it [00:00, ?it/s]\n",
      "100%|████████████████████████████████████████████████████████████████████████████████| 121/121 [00:00<00:00, 152.18it/s]\n",
      "0it [00:00, ?it/s]\n",
      "100%|████████████████████████████████████████████████████████████████████████████████| 121/121 [00:00<00:00, 161.02it/s]\n",
      "0it [00:00, ?it/s]\n",
      "100%|████████████████████████████████████████████████████████████████████████████████| 121/121 [00:00<00:00, 140.97it/s]\n",
      "0it [00:00, ?it/s]\n",
      "100%|████████████████████████████████████████████████████████████████████████████████| 121/121 [00:00<00:00, 176.86it/s]\n",
      "0it [00:00, ?it/s]\n",
      "100%|████████████████████████████████████████████████████████████████████████████████| 121/121 [00:00<00:00, 182.96it/s]\n",
      "0it [00:00, ?it/s]\n",
      "100%|████████████████████████████████████████████████████████████████████████████████| 121/121 [00:00<00:00, 161.57it/s]\n",
      "0it [00:00, ?it/s]\n"
     ]
    },
    {
     "name": "stdout",
     "output_type": "stream",
     "text": [
      "theta = -130.8564923734538, x_initial = 163, y_initial = -109\n"
     ]
    },
    {
     "name": "stderr",
     "output_type": "stream",
     "text": [
      "100%|████████████████████████████████████████████████████████████████████████████████| 121/121 [00:00<00:00, 170.32it/s]\n",
      "0it [00:00, ?it/s]\n",
      "100%|████████████████████████████████████████████████████████████████████████████████| 121/121 [00:00<00:00, 167.06it/s]\n",
      "0it [00:00, ?it/s]\n",
      "100%|████████████████████████████████████████████████████████████████████████████████| 121/121 [00:00<00:00, 148.23it/s]\n",
      "100%|█████████████████████████████████████████████████████████████████████████████████| 108/108 [00:03<00:00, 34.56it/s]\n",
      "100%|████████████████████████████████████████████████████████████████████████████████| 121/121 [00:00<00:00, 165.78it/s]\n",
      "100%|█████████████████████████████████████████████████████████████████████████████████| 126/126 [00:03<00:00, 31.74it/s]\n",
      "100%|████████████████████████████████████████████████████████████████████████████████| 121/121 [00:00<00:00, 156.92it/s]\n",
      "100%|███████████████████████████████████████████████████████████████████████████████████| 63/63 [00:01<00:00, 33.27it/s]\n",
      "100%|████████████████████████████████████████████████████████████████████████████████| 121/121 [00:00<00:00, 141.28it/s]\n",
      "100%|█████████████████████████████████████████████████████████████████████████████████████| 9/9 [00:00<00:00, 29.78it/s]\n",
      "100%|████████████████████████████████████████████████████████████████████████████████| 121/121 [00:00<00:00, 149.55it/s]\n",
      "0it [00:00, ?it/s]\n"
     ]
    },
    {
     "name": "stdout",
     "output_type": "stream",
     "text": [
      "theta = -143.65724459474362, x_initial = 267, y_initial = 108\n"
     ]
    },
    {
     "name": "stderr",
     "output_type": "stream",
     "text": [
      "100%|████████████████████████████████████████████████████████████████████████████████| 121/121 [00:00<00:00, 158.24it/s]\n",
      "0it [00:00, ?it/s]\n",
      "100%|████████████████████████████████████████████████████████████████████████████████| 121/121 [00:00<00:00, 136.70it/s]\n",
      "0it [00:00, ?it/s]\n",
      "100%|████████████████████████████████████████████████████████████████████████████████| 121/121 [00:00<00:00, 152.69it/s]\n",
      "0it [00:00, ?it/s]\n",
      "100%|████████████████████████████████████████████████████████████████████████████████| 121/121 [00:00<00:00, 152.15it/s]\n",
      "0it [00:00, ?it/s]\n",
      "100%|████████████████████████████████████████████████████████████████████████████████| 121/121 [00:00<00:00, 145.69it/s]\n",
      "0it [00:00, ?it/s]\n",
      "100%|████████████████████████████████████████████████████████████████████████████████| 121/121 [00:00<00:00, 158.07it/s]\n",
      "0it [00:00, ?it/s]\n",
      "100%|████████████████████████████████████████████████████████████████████████████████| 121/121 [00:00<00:00, 137.81it/s]\n",
      "0it [00:00, ?it/s]\n"
     ]
    },
    {
     "name": "stdout",
     "output_type": "stream",
     "text": [
      "Too far translations filtered out: 180\n",
      "Alignment time: 54.323702573776245\n",
      "Length: 4\n",
      "Aligning 9 and 11\n",
      "new diag score is estimated\n"
     ]
    },
    {
     "name": "stderr",
     "output_type": "stream",
     "text": [
      "100%|██████████████████████████████████████████████████████████████████████████████| 2516/2516 [00:11<00:00, 222.29it/s]\n"
     ]
    },
    {
     "name": "stdout",
     "output_type": "stream",
     "text": [
      "25\n",
      "9\n",
      "theta = -130.8718998456427, x_initial = 160, y_initial = 172\n"
     ]
    },
    {
     "name": "stderr",
     "output_type": "stream",
     "text": [
      "100%|████████████████████████████████████████████████████████████████████████████████| 121/121 [00:00<00:00, 168.73it/s]\n",
      "0it [00:00, ?it/s]\n",
      "100%|████████████████████████████████████████████████████████████████████████████████| 121/121 [00:00<00:00, 140.99it/s]\n",
      "0it [00:00, ?it/s]\n",
      "100%|████████████████████████████████████████████████████████████████████████████████| 121/121 [00:00<00:00, 170.94it/s]\n",
      "0it [00:00, ?it/s]\n",
      "100%|████████████████████████████████████████████████████████████████████████████████| 121/121 [00:00<00:00, 154.41it/s]\n",
      "0it [00:00, ?it/s]\n",
      "100%|████████████████████████████████████████████████████████████████████████████████| 121/121 [00:00<00:00, 161.00it/s]\n",
      "0it [00:00, ?it/s]\n",
      "100%|████████████████████████████████████████████████████████████████████████████████| 121/121 [00:00<00:00, 162.80it/s]\n",
      "0it [00:00, ?it/s]\n",
      "100%|████████████████████████████████████████████████████████████████████████████████| 121/121 [00:00<00:00, 159.28it/s]\n",
      "0it [00:00, ?it/s]\n"
     ]
    },
    {
     "name": "stdout",
     "output_type": "stream",
     "text": [
      "theta = -171.9582584480672, x_initial = 35, y_initial = -271\n"
     ]
    },
    {
     "name": "stderr",
     "output_type": "stream",
     "text": [
      "100%|████████████████████████████████████████████████████████████████████████████████| 121/121 [00:00<00:00, 158.71it/s]\n",
      "100%|███████████████████████████████████████████████████████████████████████████████████| 54/54 [00:01<00:00, 38.96it/s]\n",
      "100%|████████████████████████████████████████████████████████████████████████████████| 121/121 [00:00<00:00, 167.97it/s]\n",
      "100%|███████████████████████████████████████████████████████████████████████████████████| 27/27 [00:00<00:00, 42.70it/s]\n",
      "100%|████████████████████████████████████████████████████████████████████████████████| 121/121 [00:00<00:00, 158.29it/s]\n",
      "0it [00:00, ?it/s]\n",
      "100%|████████████████████████████████████████████████████████████████████████████████| 121/121 [00:00<00:00, 163.98it/s]\n",
      "0it [00:00, ?it/s]\n",
      "100%|████████████████████████████████████████████████████████████████████████████████| 121/121 [00:00<00:00, 170.60it/s]\n",
      "0it [00:00, ?it/s]\n",
      "100%|████████████████████████████████████████████████████████████████████████████████| 121/121 [00:00<00:00, 172.30it/s]\n",
      "0it [00:00, ?it/s]\n",
      "100%|████████████████████████████████████████████████████████████████████████████████| 121/121 [00:00<00:00, 163.95it/s]\n",
      "0it [00:00, ?it/s]\n"
     ]
    },
    {
     "name": "stdout",
     "output_type": "stream",
     "text": [
      "theta = -0.0, x_initial = -114, y_initial = 266\n"
     ]
    },
    {
     "name": "stderr",
     "output_type": "stream",
     "text": [
      "100%|████████████████████████████████████████████████████████████████████████████████| 121/121 [00:00<00:00, 168.03it/s]\n",
      "0it [00:00, ?it/s]\n",
      "100%|████████████████████████████████████████████████████████████████████████████████| 121/121 [00:00<00:00, 159.54it/s]\n",
      "0it [00:00, ?it/s]\n",
      "100%|████████████████████████████████████████████████████████████████████████████████| 121/121 [00:00<00:00, 151.38it/s]\n",
      "100%|███████████████████████████████████████████████████████████████████████████████████| 54/54 [00:01<00:00, 33.77it/s]\n",
      "100%|████████████████████████████████████████████████████████████████████████████████| 121/121 [00:00<00:00, 169.81it/s]\n",
      "100%|█████████████████████████████████████████████████████████████████████████████████| 126/126 [00:03<00:00, 34.40it/s]\n",
      "100%|████████████████████████████████████████████████████████████████████████████████| 121/121 [00:00<00:00, 166.28it/s]\n",
      "0it [00:00, ?it/s]\n",
      "100%|████████████████████████████████████████████████████████████████████████████████| 121/121 [00:00<00:00, 158.88it/s]\n",
      "0it [00:00, ?it/s]\n",
      "100%|████████████████████████████████████████████████████████████████████████████████| 121/121 [00:00<00:00, 168.34it/s]\n",
      "0it [00:00, ?it/s]\n"
     ]
    },
    {
     "name": "stdout",
     "output_type": "stream",
     "text": [
      "theta = -107.07261219785549, x_initial = 48, y_initial = 191\n"
     ]
    },
    {
     "name": "stderr",
     "output_type": "stream",
     "text": [
      "100%|████████████████████████████████████████████████████████████████████████████████| 121/121 [00:00<00:00, 169.00it/s]\n",
      "0it [00:00, ?it/s]\n",
      "100%|████████████████████████████████████████████████████████████████████████████████| 121/121 [00:00<00:00, 171.98it/s]\n",
      "0it [00:00, ?it/s]\n",
      "100%|████████████████████████████████████████████████████████████████████████████████| 121/121 [00:00<00:00, 174.09it/s]\n",
      "100%|███████████████████████████████████████████████████████████████████████████████████| 18/18 [00:00<00:00, 56.86it/s]\n",
      "100%|████████████████████████████████████████████████████████████████████████████████| 121/121 [00:00<00:00, 173.54it/s]\n",
      "100%|███████████████████████████████████████████████████████████████████████████████████| 72/72 [00:01<00:00, 37.77it/s]\n",
      "100%|████████████████████████████████████████████████████████████████████████████████| 121/121 [00:00<00:00, 184.21it/s]\n",
      "100%|███████████████████████████████████████████████████████████████████████████████████| 18/18 [00:00<00:00, 43.76it/s]\n",
      "100%|████████████████████████████████████████████████████████████████████████████████| 121/121 [00:00<00:00, 185.57it/s]\n",
      "0it [00:00, ?it/s]\n",
      "100%|████████████████████████████████████████████████████████████████████████████████| 121/121 [00:00<00:00, 182.94it/s]\n",
      "0it [00:00, ?it/s]\n"
     ]
    },
    {
     "name": "stdout",
     "output_type": "stream",
     "text": [
      "Too far translations filtered out: 6\n",
      "Alignment time: 52.52700161933899\n",
      "Length: 6\n",
      "Aligning 9 and 12\n",
      "new diag score is estimated\n"
     ]
    },
    {
     "name": "stderr",
     "output_type": "stream",
     "text": [
      "100%|██████████████████████████████████████████████████████████████████████████████| 2516/2516 [00:03<00:00, 710.24it/s]\n"
     ]
    },
    {
     "name": "stdout",
     "output_type": "stream",
     "text": [
      "13\n",
      "5\n",
      "theta = -166.32908457827213, x_initial = 149, y_initial = 22\n"
     ]
    },
    {
     "name": "stderr",
     "output_type": "stream",
     "text": [
      "100%|████████████████████████████████████████████████████████████████████████████████| 121/121 [00:00<00:00, 183.34it/s]\n",
      "100%|███████████████████████████████████████████████████████████████████████████████████| 63/63 [00:01<00:00, 34.54it/s]\n",
      "100%|████████████████████████████████████████████████████████████████████████████████| 121/121 [00:00<00:00, 190.13it/s]\n",
      "100%|█████████████████████████████████████████████████████████████████████████████████| 108/108 [00:03<00:00, 35.10it/s]\n",
      "100%|████████████████████████████████████████████████████████████████████████████████| 121/121 [00:00<00:00, 191.16it/s]\n",
      "100%|█████████████████████████████████████████████████████████████████████████████████| 162/162 [00:04<00:00, 34.62it/s]\n",
      "100%|████████████████████████████████████████████████████████████████████████████████| 121/121 [00:00<00:00, 176.60it/s]\n",
      "100%|█████████████████████████████████████████████████████████████████████████████████| 207/207 [00:06<00:00, 34.00it/s]\n",
      "100%|████████████████████████████████████████████████████████████████████████████████| 121/121 [00:00<00:00, 180.21it/s]\n",
      "100%|█████████████████████████████████████████████████████████████████████████████████| 198/198 [00:06<00:00, 32.94it/s]\n",
      "100%|████████████████████████████████████████████████████████████████████████████████| 121/121 [00:00<00:00, 164.93it/s]\n",
      "100%|█████████████████████████████████████████████████████████████████████████████████| 135/135 [00:03<00:00, 34.16it/s]\n",
      "100%|████████████████████████████████████████████████████████████████████████████████| 121/121 [00:00<00:00, 170.55it/s]\n",
      "100%|███████████████████████████████████████████████████████████████████████████████████| 54/54 [00:01<00:00, 35.15it/s]\n"
     ]
    },
    {
     "name": "stdout",
     "output_type": "stream",
     "text": [
      "theta = -139.66694714372173, x_initial = -105, y_initial = 137\n"
     ]
    },
    {
     "name": "stderr",
     "output_type": "stream",
     "text": [
      "100%|████████████████████████████████████████████████████████████████████████████████| 121/121 [00:00<00:00, 177.80it/s]\n",
      "100%|█████████████████████████████████████████████████████████████████████████████████| 126/126 [00:03<00:00, 32.62it/s]\n",
      "100%|████████████████████████████████████████████████████████████████████████████████| 121/121 [00:00<00:00, 190.94it/s]\n",
      "100%|█████████████████████████████████████████████████████████████████████████████████| 171/171 [00:05<00:00, 32.94it/s]\n",
      "100%|████████████████████████████████████████████████████████████████████████████████| 121/121 [00:00<00:00, 184.96it/s]\n",
      "100%|█████████████████████████████████████████████████████████████████████████████████| 198/198 [00:05<00:00, 34.43it/s]\n",
      "100%|████████████████████████████████████████████████████████████████████████████████| 121/121 [00:00<00:00, 181.59it/s]\n",
      "100%|█████████████████████████████████████████████████████████████████████████████████| 225/225 [00:06<00:00, 34.82it/s]\n",
      "100%|████████████████████████████████████████████████████████████████████████████████| 121/121 [00:00<00:00, 183.34it/s]\n",
      "100%|█████████████████████████████████████████████████████████████████████████████████| 117/117 [00:03<00:00, 35.63it/s]\n",
      "100%|████████████████████████████████████████████████████████████████████████████████| 121/121 [00:00<00:00, 180.37it/s]\n",
      "100%|█████████████████████████████████████████████████████████████████████████████████████| 9/9 [00:00<00:00, 58.12it/s]\n",
      "100%|████████████████████████████████████████████████████████████████████████████████| 121/121 [00:00<00:00, 186.99it/s]\n",
      "0it [00:00, ?it/s]\n"
     ]
    },
    {
     "name": "stdout",
     "output_type": "stream",
     "text": [
      "theta = -52.537112188113944, x_initial = 122, y_initial = 90\n"
     ]
    },
    {
     "name": "stderr",
     "output_type": "stream",
     "text": [
      "100%|████████████████████████████████████████████████████████████████████████████████| 121/121 [00:00<00:00, 189.23it/s]\n",
      "0it [00:00, ?it/s]\n",
      "100%|████████████████████████████████████████████████████████████████████████████████| 121/121 [00:00<00:00, 191.65it/s]\n",
      "0it [00:00, ?it/s]\n",
      "100%|████████████████████████████████████████████████████████████████████████████████| 121/121 [00:00<00:00, 193.34it/s]\n",
      "100%|███████████████████████████████████████████████████████████████████████████████████| 45/45 [00:01<00:00, 40.28it/s]\n",
      "100%|████████████████████████████████████████████████████████████████████████████████| 121/121 [00:00<00:00, 189.72it/s]\n",
      "100%|███████████████████████████████████████████████████████████████████████████████████| 90/90 [00:02<00:00, 36.32it/s]\n",
      "100%|████████████████████████████████████████████████████████████████████████████████| 121/121 [00:00<00:00, 192.59it/s]\n",
      "100%|███████████████████████████████████████████████████████████████████████████████████| 99/99 [00:02<00:00, 35.85it/s]\n",
      "100%|████████████████████████████████████████████████████████████████████████████████| 121/121 [00:00<00:00, 192.57it/s]\n",
      "100%|█████████████████████████████████████████████████████████████████████████████████████| 9/9 [00:00<00:00, 56.73it/s]\n",
      "100%|████████████████████████████████████████████████████████████████████████████████| 121/121 [00:00<00:00, 193.58it/s]\n",
      "0it [00:00, ?it/s]\n"
     ]
    },
    {
     "name": "stdout",
     "output_type": "stream",
     "text": [
      "theta = -109.61002759403647, x_initial = -198, y_initial = 150\n"
     ]
    },
    {
     "name": "stderr",
     "output_type": "stream",
     "text": [
      "100%|████████████████████████████████████████████████████████████████████████████████| 121/121 [00:00<00:00, 176.33it/s]\n",
      "0it [00:00, ?it/s]\n",
      "100%|████████████████████████████████████████████████████████████████████████████████| 121/121 [00:00<00:00, 175.77it/s]\n",
      "100%|███████████████████████████████████████████████████████████████████████████████████| 81/81 [00:02<00:00, 38.30it/s]\n",
      "100%|████████████████████████████████████████████████████████████████████████████████| 121/121 [00:00<00:00, 165.72it/s]\n",
      "100%|█████████████████████████████████████████████████████████████████████████████████| 135/135 [00:04<00:00, 32.07it/s]\n",
      "100%|████████████████████████████████████████████████████████████████████████████████| 121/121 [00:00<00:00, 155.49it/s]\n",
      "100%|█████████████████████████████████████████████████████████████████████████████████| 135/135 [00:04<00:00, 33.47it/s]\n",
      "100%|████████████████████████████████████████████████████████████████████████████████| 121/121 [00:00<00:00, 166.11it/s]\n",
      "100%|█████████████████████████████████████████████████████████████████████████████████| 108/108 [00:03<00:00, 35.89it/s]\n",
      "100%|████████████████████████████████████████████████████████████████████████████████| 121/121 [00:00<00:00, 164.81it/s]\n",
      "100%|█████████████████████████████████████████████████████████████████████████████████████| 9/9 [00:00<00:00, 70.10it/s]\n",
      "100%|████████████████████████████████████████████████████████████████████████████████| 121/121 [00:00<00:00, 177.14it/s]\n",
      "0it [00:00, ?it/s]\n"
     ]
    },
    {
     "name": "stdout",
     "output_type": "stream",
     "text": [
      "Too far translations filtered out: 1647\n",
      "Alignment time: 99.76092743873596\n",
      "Length: 4\n",
      "Aligning 9 and 14\n",
      "new diag score is estimated\n"
     ]
    },
    {
     "name": "stderr",
     "output_type": "stream",
     "text": [
      "100%|██████████████████████████████████████████████████████████████████████████████| 2516/2516 [00:10<00:00, 243.82it/s]\n"
     ]
    },
    {
     "name": "stdout",
     "output_type": "stream",
     "text": [
      "24\n",
      "9\n",
      "theta = -169.42103996043105, x_initial = -27, y_initial = -260\n"
     ]
    },
    {
     "name": "stderr",
     "output_type": "stream",
     "text": [
      "100%|████████████████████████████████████████████████████████████████████████████████| 121/121 [00:00<00:00, 181.31it/s]\n",
      "0it [00:00, ?it/s]\n",
      "100%|████████████████████████████████████████████████████████████████████████████████| 121/121 [00:00<00:00, 175.41it/s]\n",
      "0it [00:00, ?it/s]\n",
      "100%|████████████████████████████████████████████████████████████████████████████████| 121/121 [00:00<00:00, 165.90it/s]\n",
      "0it [00:00, ?it/s]\n",
      "100%|████████████████████████████████████████████████████████████████████████████████| 121/121 [00:00<00:00, 163.69it/s]\n",
      "0it [00:00, ?it/s]\n",
      "100%|████████████████████████████████████████████████████████████████████████████████| 121/121 [00:00<00:00, 179.20it/s]\n",
      "100%|███████████████████████████████████████████████████████████████████████████████████| 45/45 [00:01<00:00, 36.65it/s]\n",
      "100%|████████████████████████████████████████████████████████████████████████████████| 121/121 [00:00<00:00, 184.53it/s]\n",
      "100%|███████████████████████████████████████████████████████████████████████████████████| 81/81 [00:02<00:00, 36.69it/s]\n",
      "100%|████████████████████████████████████████████████████████████████████████████████| 121/121 [00:00<00:00, 186.30it/s]\n",
      "100%|███████████████████████████████████████████████████████████████████████████████████| 27/27 [00:00<00:00, 40.20it/s]\n"
     ]
    },
    {
     "name": "stdout",
     "output_type": "stream",
     "text": [
      "theta = -81.91516030943494, x_initial = -266, y_initial = 148\n"
     ]
    },
    {
     "name": "stderr",
     "output_type": "stream",
     "text": [
      "100%|████████████████████████████████████████████████████████████████████████████████| 121/121 [00:00<00:00, 170.18it/s]\n",
      "0it [00:00, ?it/s]\n",
      "100%|████████████████████████████████████████████████████████████████████████████████| 121/121 [00:00<00:00, 167.90it/s]\n",
      "0it [00:00, ?it/s]\n",
      "100%|████████████████████████████████████████████████████████████████████████████████| 121/121 [00:00<00:00, 171.31it/s]\n",
      "0it [00:00, ?it/s]\n",
      "100%|████████████████████████████████████████████████████████████████████████████████| 121/121 [00:00<00:00, 177.79it/s]\n",
      "0it [00:00, ?it/s]\n",
      "100%|████████████████████████████████████████████████████████████████████████████████| 121/121 [00:00<00:00, 173.93it/s]\n",
      "0it [00:00, ?it/s]\n",
      "100%|████████████████████████████████████████████████████████████████████████████████| 121/121 [00:00<00:00, 174.19it/s]\n",
      "0it [00:00, ?it/s]\n",
      "100%|████████████████████████████████████████████████████████████████████████████████| 121/121 [00:00<00:00, 177.41it/s]\n",
      "0it [00:00, ?it/s]\n"
     ]
    },
    {
     "name": "stdout",
     "output_type": "stream",
     "text": [
      "theta = -13.092097145676725, x_initial = 304, y_initial = 103\n"
     ]
    },
    {
     "name": "stderr",
     "output_type": "stream",
     "text": [
      "100%|████████████████████████████████████████████████████████████████████████████████| 121/121 [00:00<00:00, 172.29it/s]\n",
      "0it [00:00, ?it/s]\n",
      "100%|████████████████████████████████████████████████████████████████████████████████| 121/121 [00:00<00:00, 171.38it/s]\n",
      "100%|███████████████████████████████████████████████████████████████████████████████████| 36/36 [00:00<00:00, 43.75it/s]\n",
      "100%|████████████████████████████████████████████████████████████████████████████████| 121/121 [00:00<00:00, 168.18it/s]\n",
      "100%|███████████████████████████████████████████████████████████████████████████████████| 27/27 [00:00<00:00, 36.22it/s]\n",
      "100%|████████████████████████████████████████████████████████████████████████████████| 121/121 [00:00<00:00, 165.72it/s]\n",
      "100%|███████████████████████████████████████████████████████████████████████████████████| 36/36 [00:00<00:00, 41.33it/s]\n",
      "100%|████████████████████████████████████████████████████████████████████████████████| 121/121 [00:00<00:00, 170.40it/s]\n",
      "100%|███████████████████████████████████████████████████████████████████████████████████| 27/27 [00:00<00:00, 40.84it/s]\n",
      "100%|████████████████████████████████████████████████████████████████████████████████| 121/121 [00:00<00:00, 169.22it/s]\n",
      "100%|███████████████████████████████████████████████████████████████████████████████████| 18/18 [00:00<00:00, 43.77it/s]\n",
      "100%|████████████████████████████████████████████████████████████████████████████████| 121/121 [00:00<00:00, 173.31it/s]\n",
      "0it [00:00, ?it/s]\n"
     ]
    },
    {
     "name": "stdout",
     "output_type": "stream",
     "text": [
      "theta = -135.39279274247946, x_initial = 278, y_initial = 126\n"
     ]
    },
    {
     "name": "stderr",
     "output_type": "stream",
     "text": [
      "100%|████████████████████████████████████████████████████████████████████████████████| 121/121 [00:00<00:00, 170.62it/s]\n",
      "100%|███████████████████████████████████████████████████████████████████████████████████| 45/45 [00:01<00:00, 36.77it/s]\n",
      "100%|████████████████████████████████████████████████████████████████████████████████| 121/121 [00:00<00:00, 174.50it/s]\n",
      "100%|███████████████████████████████████████████████████████████████████████████████████| 72/72 [00:02<00:00, 33.97it/s]\n",
      "100%|████████████████████████████████████████████████████████████████████████████████| 121/121 [00:00<00:00, 176.49it/s]\n",
      "100%|███████████████████████████████████████████████████████████████████████████████████| 90/90 [00:02<00:00, 34.67it/s]\n",
      "100%|████████████████████████████████████████████████████████████████████████████████| 121/121 [00:00<00:00, 177.80it/s]\n",
      "100%|█████████████████████████████████████████████████████████████████████████████████| 108/108 [00:02<00:00, 39.59it/s]\n",
      "100%|████████████████████████████████████████████████████████████████████████████████| 121/121 [00:00<00:00, 165.14it/s]\n",
      "100%|███████████████████████████████████████████████████████████████████████████████████| 81/81 [00:02<00:00, 35.37it/s]\n",
      "100%|████████████████████████████████████████████████████████████████████████████████| 121/121 [00:00<00:00, 176.90it/s]\n",
      "100%|███████████████████████████████████████████████████████████████████████████████████| 72/72 [00:02<00:00, 34.75it/s]\n",
      "100%|████████████████████████████████████████████████████████████████████████████████| 121/121 [00:00<00:00, 166.21it/s]\n",
      "100%|███████████████████████████████████████████████████████████████████████████████████| 18/18 [00:00<00:00, 51.38it/s]\n"
     ]
    },
    {
     "name": "stdout",
     "output_type": "stream",
     "text": [
      "Too far translations filtered out: 0\n",
      "Alignment time: 60.53911519050598\n",
      "Length: 1\n",
      "Aligning 9 and 15\n",
      "new diag score is estimated\n"
     ]
    },
    {
     "name": "stderr",
     "output_type": "stream",
     "text": [
      "100%|██████████████████████████████████████████████████████████████████████████████| 2516/2516 [00:10<00:00, 245.95it/s]\n"
     ]
    },
    {
     "name": "stdout",
     "output_type": "stream",
     "text": [
      "17\n",
      "6\n",
      "theta = -159.12836582274306, x_initial = 30, y_initial = -243\n"
     ]
    },
    {
     "name": "stderr",
     "output_type": "stream",
     "text": [
      "100%|████████████████████████████████████████████████████████████████████████████████| 121/121 [00:00<00:00, 189.57it/s]\n",
      "0it [00:00, ?it/s]\n",
      "100%|████████████████████████████████████████████████████████████████████████████████| 121/121 [00:00<00:00, 182.80it/s]\n",
      "0it [00:00, ?it/s]\n",
      "100%|████████████████████████████████████████████████████████████████████████████████| 121/121 [00:00<00:00, 186.77it/s]\n",
      "0it [00:00, ?it/s]\n",
      "100%|████████████████████████████████████████████████████████████████████████████████| 121/121 [00:00<00:00, 185.66it/s]\n",
      "0it [00:00, ?it/s]\n",
      "100%|████████████████████████████████████████████████████████████████████████████████| 121/121 [00:00<00:00, 187.89it/s]\n",
      "0it [00:00, ?it/s]\n",
      "100%|████████████████████████████████████████████████████████████████████████████████| 121/121 [00:00<00:00, 190.39it/s]\n",
      "0it [00:00, ?it/s]\n",
      "100%|████████████████████████████████████████████████████████████████████████████████| 121/121 [00:00<00:00, 189.30it/s]\n",
      "0it [00:00, ?it/s]\n"
     ]
    },
    {
     "name": "stdout",
     "output_type": "stream",
     "text": [
      "theta = -143.11524509499043, x_initial = 62, y_initial = 211\n"
     ]
    },
    {
     "name": "stderr",
     "output_type": "stream",
     "text": [
      "100%|████████████████████████████████████████████████████████████████████████████████| 121/121 [00:00<00:00, 191.84it/s]\n",
      "0it [00:00, ?it/s]\n",
      "100%|████████████████████████████████████████████████████████████████████████████████| 121/121 [00:00<00:00, 193.17it/s]\n",
      "0it [00:00, ?it/s]\n",
      "100%|████████████████████████████████████████████████████████████████████████████████| 121/121 [00:00<00:00, 192.06it/s]\n",
      "0it [00:00, ?it/s]\n",
      "100%|████████████████████████████████████████████████████████████████████████████████| 121/121 [00:00<00:00, 191.51it/s]\n",
      "0it [00:00, ?it/s]\n",
      "100%|████████████████████████████████████████████████████████████████████████████████| 121/121 [00:00<00:00, 192.62it/s]\n",
      "0it [00:00, ?it/s]\n",
      "100%|████████████████████████████████████████████████████████████████████████████████| 121/121 [00:00<00:00, 190.97it/s]\n",
      "0it [00:00, ?it/s]\n",
      "100%|████████████████████████████████████████████████████████████████████████████████| 121/121 [00:00<00:00, 189.25it/s]\n",
      "0it [00:00, ?it/s]\n"
     ]
    },
    {
     "name": "stdout",
     "output_type": "stream",
     "text": [
      "theta = -130.03104442901665, x_initial = 40, y_initial = -306\n"
     ]
    },
    {
     "name": "stderr",
     "output_type": "stream",
     "text": [
      "100%|████████████████████████████████████████████████████████████████████████████████| 121/121 [00:00<00:00, 182.36it/s]\n",
      "0it [00:00, ?it/s]\n",
      "100%|████████████████████████████████████████████████████████████████████████████████| 121/121 [00:00<00:00, 177.28it/s]\n",
      "0it [00:00, ?it/s]\n",
      "100%|████████████████████████████████████████████████████████████████████████████████| 121/121 [00:00<00:00, 170.26it/s]\n",
      "0it [00:00, ?it/s]\n",
      "100%|████████████████████████████████████████████████████████████████████████████████| 121/121 [00:00<00:00, 178.30it/s]\n",
      "0it [00:00, ?it/s]\n",
      "100%|████████████████████████████████████████████████████████████████████████████████| 121/121 [00:00<00:00, 183.73it/s]\n",
      "0it [00:00, ?it/s]\n",
      "100%|████████████████████████████████████████████████████████████████████████████████| 121/121 [00:00<00:00, 180.58it/s]\n",
      "0it [00:00, ?it/s]\n",
      "100%|████████████████████████████████████████████████████████████████████████████████| 121/121 [00:00<00:00, 175.42it/s]\n",
      "0it [00:00, ?it/s]\n"
     ]
    },
    {
     "name": "stdout",
     "output_type": "stream",
     "text": [
      "theta = -55.84708460106181, x_initial = 41, y_initial = -241\n"
     ]
    },
    {
     "name": "stderr",
     "output_type": "stream",
     "text": [
      "100%|████████████████████████████████████████████████████████████████████████████████| 121/121 [00:00<00:00, 182.22it/s]\n",
      "0it [00:00, ?it/s]\n",
      "100%|████████████████████████████████████████████████████████████████████████████████| 121/121 [00:00<00:00, 181.64it/s]\n",
      "0it [00:00, ?it/s]\n",
      "100%|████████████████████████████████████████████████████████████████████████████████| 121/121 [00:00<00:00, 187.32it/s]\n",
      "0it [00:00, ?it/s]\n",
      "100%|████████████████████████████████████████████████████████████████████████████████| 121/121 [00:00<00:00, 158.97it/s]\n",
      "0it [00:00, ?it/s]\n",
      "100%|████████████████████████████████████████████████████████████████████████████████| 121/121 [00:00<00:00, 181.34it/s]\n",
      "0it [00:00, ?it/s]\n",
      "100%|████████████████████████████████████████████████████████████████████████████████| 121/121 [00:00<00:00, 179.07it/s]\n",
      "0it [00:00, ?it/s]\n",
      "100%|████████████████████████████████████████████████████████████████████████████████| 121/121 [00:00<00:00, 176.08it/s]\n",
      "0it [00:00, ?it/s]\n"
     ]
    },
    {
     "name": "stdout",
     "output_type": "stream",
     "text": [
      "Alignment time: 36.80274295806885\n",
      "Length: 0\n",
      "Aligning 10 and 11\n",
      "new diag score is estimated\n"
     ]
    },
    {
     "name": "stderr",
     "output_type": "stream",
     "text": [
      "100%|██████████████████████████████████████████████████████████████████████████████| 1249/1249 [00:05<00:00, 228.77it/s]\n"
     ]
    },
    {
     "name": "stdout",
     "output_type": "stream",
     "text": [
      "20\n",
      "9\n",
      "theta = -54.38608378324688, x_initial = -12, y_initial = -168\n"
     ]
    },
    {
     "name": "stderr",
     "output_type": "stream",
     "text": [
      "100%|████████████████████████████████████████████████████████████████████████████████| 121/121 [00:00<00:00, 184.05it/s]\n",
      "0it [00:00, ?it/s]\n",
      "100%|████████████████████████████████████████████████████████████████████████████████| 121/121 [00:00<00:00, 177.32it/s]\n",
      "0it [00:00, ?it/s]\n",
      "100%|████████████████████████████████████████████████████████████████████████████████| 121/121 [00:00<00:00, 168.97it/s]\n",
      "0it [00:00, ?it/s]\n",
      "100%|████████████████████████████████████████████████████████████████████████████████| 121/121 [00:00<00:00, 188.93it/s]\n",
      "0it [00:00, ?it/s]\n",
      "100%|████████████████████████████████████████████████████████████████████████████████| 121/121 [00:00<00:00, 190.42it/s]\n",
      "0it [00:00, ?it/s]\n",
      "100%|████████████████████████████████████████████████████████████████████████████████| 121/121 [00:00<00:00, 196.35it/s]\n",
      "0it [00:00, ?it/s]\n",
      "100%|████████████████████████████████████████████████████████████████████████████████| 121/121 [00:00<00:00, 193.83it/s]\n",
      "0it [00:00, ?it/s]\n"
     ]
    },
    {
     "name": "stdout",
     "output_type": "stream",
     "text": [
      "theta = -87.32584931058706, x_initial = 32, y_initial = 171\n"
     ]
    },
    {
     "name": "stderr",
     "output_type": "stream",
     "text": [
      "100%|████████████████████████████████████████████████████████████████████████████████| 121/121 [00:00<00:00, 201.79it/s]\n",
      "0it [00:00, ?it/s]\n",
      "100%|████████████████████████████████████████████████████████████████████████████████| 121/121 [00:00<00:00, 202.37it/s]\n",
      "0it [00:00, ?it/s]\n",
      "100%|████████████████████████████████████████████████████████████████████████████████| 121/121 [00:00<00:00, 202.84it/s]\n",
      "0it [00:00, ?it/s]\n",
      "100%|████████████████████████████████████████████████████████████████████████████████| 121/121 [00:00<00:00, 202.73it/s]\n",
      "0it [00:00, ?it/s]\n",
      "100%|████████████████████████████████████████████████████████████████████████████████| 121/121 [00:00<00:00, 206.89it/s]\n",
      "0it [00:00, ?it/s]\n",
      "100%|████████████████████████████████████████████████████████████████████████████████| 121/121 [00:00<00:00, 196.75it/s]\n",
      "0it [00:00, ?it/s]\n",
      "100%|████████████████████████████████████████████████████████████████████████████████| 121/121 [00:00<00:00, 189.92it/s]\n",
      "0it [00:00, ?it/s]\n"
     ]
    },
    {
     "name": "stdout",
     "output_type": "stream",
     "text": [
      "theta = -4.139867628020398, x_initial = 170, y_initial = -93\n"
     ]
    },
    {
     "name": "stderr",
     "output_type": "stream",
     "text": [
      "100%|████████████████████████████████████████████████████████████████████████████████| 121/121 [00:00<00:00, 188.63it/s]\n",
      "0it [00:00, ?it/s]\n",
      "100%|████████████████████████████████████████████████████████████████████████████████| 121/121 [00:00<00:00, 184.47it/s]\n",
      "100%|███████████████████████████████████████████████████████████████████████████████████| 27/27 [00:00<00:00, 43.86it/s]\n",
      "100%|████████████████████████████████████████████████████████████████████████████████| 121/121 [00:00<00:00, 191.21it/s]\n",
      "100%|█████████████████████████████████████████████████████████████████████████████████| 108/108 [00:03<00:00, 35.66it/s]\n",
      "100%|████████████████████████████████████████████████████████████████████████████████| 121/121 [00:00<00:00, 167.62it/s]\n",
      "100%|█████████████████████████████████████████████████████████████████████████████████| 198/198 [00:05<00:00, 33.88it/s]\n",
      "100%|████████████████████████████████████████████████████████████████████████████████| 121/121 [00:00<00:00, 182.92it/s]\n",
      "100%|█████████████████████████████████████████████████████████████████████████████████| 207/207 [00:06<00:00, 34.15it/s]\n",
      "100%|████████████████████████████████████████████████████████████████████████████████| 121/121 [00:00<00:00, 185.02it/s]\n",
      "100%|█████████████████████████████████████████████████████████████████████████████████| 162/162 [00:05<00:00, 31.69it/s]\n",
      "100%|████████████████████████████████████████████████████████████████████████████████| 121/121 [00:00<00:00, 172.44it/s]\n",
      "100%|███████████████████████████████████████████████████████████████████████████████████| 90/90 [00:02<00:00, 32.77it/s]\n"
     ]
    },
    {
     "name": "stdout",
     "output_type": "stream",
     "text": [
      "theta = -99.11444951174731, x_initial = -80, y_initial = -180\n"
     ]
    },
    {
     "name": "stderr",
     "output_type": "stream",
     "text": [
      "100%|████████████████████████████████████████████████████████████████████████████████| 121/121 [00:00<00:00, 170.77it/s]\n",
      "100%|███████████████████████████████████████████████████████████████████████████████████| 63/63 [00:01<00:00, 34.43it/s]\n",
      "100%|████████████████████████████████████████████████████████████████████████████████| 121/121 [00:00<00:00, 143.01it/s]\n",
      "100%|███████████████████████████████████████████████████████████████████████████████████| 90/90 [00:03<00:00, 28.64it/s]\n",
      "100%|████████████████████████████████████████████████████████████████████████████████| 121/121 [00:00<00:00, 159.86it/s]\n",
      "100%|█████████████████████████████████████████████████████████████████████████████████| 126/126 [00:03<00:00, 39.43it/s]\n",
      "100%|████████████████████████████████████████████████████████████████████████████████| 121/121 [00:00<00:00, 194.67it/s]\n",
      "100%|███████████████████████████████████████████████████████████████████████████████████| 90/90 [00:02<00:00, 34.16it/s]\n",
      "100%|████████████████████████████████████████████████████████████████████████████████| 121/121 [00:00<00:00, 134.97it/s]\n",
      "100%|███████████████████████████████████████████████████████████████████████████████████| 63/63 [00:01<00:00, 36.54it/s]\n",
      "100%|████████████████████████████████████████████████████████████████████████████████| 121/121 [00:00<00:00, 160.96it/s]\n",
      "100%|███████████████████████████████████████████████████████████████████████████████████| 36/36 [00:00<00:00, 37.46it/s]\n",
      "100%|████████████████████████████████████████████████████████████████████████████████| 121/121 [00:00<00:00, 176.13it/s]\n",
      "0it [00:00, ?it/s]\n"
     ]
    },
    {
     "name": "stdout",
     "output_type": "stream",
     "text": [
      "Too far translations filtered out: 991\n",
      "Alignment time: 68.00146842002869\n",
      "Length: 1\n",
      "Aligning 10 and 12\n",
      "new diag score is estimated\n"
     ]
    },
    {
     "name": "stderr",
     "output_type": "stream",
     "text": [
      "100%|██████████████████████████████████████████████████████████████████████████████| 1249/1249 [00:01<00:00, 697.75it/s]\n"
     ]
    },
    {
     "name": "stdout",
     "output_type": "stream",
     "text": [
      "14\n",
      "6\n",
      "theta = -62.99470821781757, x_initial = 99, y_initial = -18\n"
     ]
    },
    {
     "name": "stderr",
     "output_type": "stream",
     "text": [
      "100%|████████████████████████████████████████████████████████████████████████████████| 121/121 [00:00<00:00, 420.48it/s]\n",
      "100%|███████████████████████████████████████████████████████████████████████████████████| 72/72 [00:00<00:00, 82.17it/s]\n",
      "100%|████████████████████████████████████████████████████████████████████████████████| 121/121 [00:00<00:00, 416.09it/s]\n",
      "100%|█████████████████████████████████████████████████████████████████████████████████| 153/153 [00:01<00:00, 80.16it/s]\n",
      "100%|████████████████████████████████████████████████████████████████████████████████| 121/121 [00:00<00:00, 339.00it/s]\n",
      "100%|█████████████████████████████████████████████████████████████████████████████████| 180/180 [00:02<00:00, 78.91it/s]\n",
      "100%|████████████████████████████████████████████████████████████████████████████████| 121/121 [00:00<00:00, 404.04it/s]\n",
      "100%|█████████████████████████████████████████████████████████████████████████████████| 198/198 [00:02<00:00, 84.34it/s]\n",
      "100%|████████████████████████████████████████████████████████████████████████████████| 121/121 [00:00<00:00, 400.85it/s]\n",
      "100%|█████████████████████████████████████████████████████████████████████████████████| 198/198 [00:02<00:00, 83.18it/s]\n",
      "100%|████████████████████████████████████████████████████████████████████████████████| 121/121 [00:00<00:00, 410.01it/s]\n",
      "100%|█████████████████████████████████████████████████████████████████████████████████| 153/153 [00:01<00:00, 80.90it/s]\n",
      "100%|████████████████████████████████████████████████████████████████████████████████| 121/121 [00:00<00:00, 415.92it/s]\n",
      "100%|█████████████████████████████████████████████████████████████████████████████████| 153/153 [00:01<00:00, 88.17it/s]\n"
     ]
    },
    {
     "name": "stdout",
     "output_type": "stream",
     "text": [
      "theta = -44.441747713094, x_initial = 106, y_initial = 66\n"
     ]
    },
    {
     "name": "stderr",
     "output_type": "stream",
     "text": [
      "100%|████████████████████████████████████████████████████████████████████████████████| 121/121 [00:00<00:00, 423.07it/s]\n",
      "100%|█████████████████████████████████████████████████████████████████████████████████| 126/126 [00:01<00:00, 76.15it/s]\n",
      "100%|████████████████████████████████████████████████████████████████████████████████| 121/121 [00:00<00:00, 413.92it/s]\n",
      "100%|█████████████████████████████████████████████████████████████████████████████████| 162/162 [00:02<00:00, 79.68it/s]\n",
      "100%|████████████████████████████████████████████████████████████████████████████████| 121/121 [00:00<00:00, 352.24it/s]\n",
      "100%|█████████████████████████████████████████████████████████████████████████████████| 198/198 [00:02<00:00, 79.05it/s]\n",
      "100%|████████████████████████████████████████████████████████████████████████████████| 121/121 [00:00<00:00, 355.45it/s]\n",
      "100%|█████████████████████████████████████████████████████████████████████████████████| 198/198 [00:02<00:00, 77.24it/s]\n",
      "100%|████████████████████████████████████████████████████████████████████████████████| 121/121 [00:00<00:00, 414.43it/s]\n",
      "100%|█████████████████████████████████████████████████████████████████████████████████| 207/207 [00:02<00:00, 75.83it/s]\n",
      "100%|████████████████████████████████████████████████████████████████████████████████| 121/121 [00:00<00:00, 403.27it/s]\n",
      "100%|█████████████████████████████████████████████████████████████████████████████████| 207/207 [00:02<00:00, 76.97it/s]\n",
      "100%|████████████████████████████████████████████████████████████████████████████████| 121/121 [00:00<00:00, 408.67it/s]\n",
      "100%|█████████████████████████████████████████████████████████████████████████████████| 135/135 [00:02<00:00, 60.50it/s]\n"
     ]
    },
    {
     "name": "stdout",
     "output_type": "stream",
     "text": [
      "theta = -153.93235438644749, x_initial = 27, y_initial = 114\n"
     ]
    },
    {
     "name": "stderr",
     "output_type": "stream",
     "text": [
      "100%|████████████████████████████████████████████████████████████████████████████████| 121/121 [00:00<00:00, 439.15it/s]\n",
      "100%|█████████████████████████████████████████████████████████████████████████████████| 153/153 [00:01<00:00, 79.14it/s]\n",
      "100%|████████████████████████████████████████████████████████████████████████████████| 121/121 [00:00<00:00, 285.16it/s]\n",
      "100%|█████████████████████████████████████████████████████████████████████████████████| 189/189 [00:02<00:00, 73.54it/s]\n",
      "100%|████████████████████████████████████████████████████████████████████████████████| 121/121 [00:00<00:00, 421.39it/s]\n",
      "100%|█████████████████████████████████████████████████████████████████████████████████| 216/216 [00:03<00:00, 64.94it/s]\n",
      "100%|████████████████████████████████████████████████████████████████████████████████| 121/121 [00:00<00:00, 345.37it/s]\n",
      "100%|█████████████████████████████████████████████████████████████████████████████████| 207/207 [00:02<00:00, 73.95it/s]\n",
      "100%|████████████████████████████████████████████████████████████████████████████████| 121/121 [00:00<00:00, 445.44it/s]\n",
      "100%|█████████████████████████████████████████████████████████████████████████████████| 216/216 [00:02<00:00, 78.77it/s]\n",
      "100%|████████████████████████████████████████████████████████████████████████████████| 121/121 [00:00<00:00, 355.18it/s]\n",
      "100%|█████████████████████████████████████████████████████████████████████████████████| 153/153 [00:01<00:00, 77.65it/s]\n",
      "100%|████████████████████████████████████████████████████████████████████████████████| 121/121 [00:00<00:00, 446.34it/s]\n",
      "100%|█████████████████████████████████████████████████████████████████████████████████| 117/117 [00:01<00:00, 79.44it/s]\n"
     ]
    },
    {
     "name": "stdout",
     "output_type": "stream",
     "text": [
      "theta = -150.30327044431112, x_initial = 120, y_initial = 17\n"
     ]
    },
    {
     "name": "stderr",
     "output_type": "stream",
     "text": [
      "100%|████████████████████████████████████████████████████████████████████████████████| 121/121 [00:00<00:00, 429.32it/s]\n",
      "0it [00:00, ?it/s]\n",
      "100%|████████████████████████████████████████████████████████████████████████████████| 121/121 [00:00<00:00, 428.00it/s]\n",
      "0it [00:00, ?it/s]\n",
      "100%|████████████████████████████████████████████████████████████████████████████████| 121/121 [00:00<00:00, 430.94it/s]\n",
      "0it [00:00, ?it/s]\n",
      "100%|████████████████████████████████████████████████████████████████████████████████| 121/121 [00:00<00:00, 432.08it/s]\n",
      "0it [00:00, ?it/s]\n",
      "100%|████████████████████████████████████████████████████████████████████████████████| 121/121 [00:00<00:00, 423.47it/s]\n",
      "0it [00:00, ?it/s]\n",
      "100%|████████████████████████████████████████████████████████████████████████████████| 121/121 [00:00<00:00, 432.06it/s]\n",
      "0it [00:00, ?it/s]\n",
      "100%|████████████████████████████████████████████████████████████████████████████████| 121/121 [00:00<00:00, 434.72it/s]\n",
      "0it [00:00, ?it/s]\n"
     ]
    },
    {
     "name": "stdout",
     "output_type": "stream",
     "text": [
      "Too far translations filtered out: 3152\n",
      "Alignment time: 60.79935884475708\n",
      "Length: 3\n",
      "Aligning 10 and 14\n",
      "new diag score is estimated\n"
     ]
    },
    {
     "name": "stderr",
     "output_type": "stream",
     "text": [
      "100%|██████████████████████████████████████████████████████████████████████████████| 1249/1249 [00:05<00:00, 224.30it/s]\n"
     ]
    },
    {
     "name": "stdout",
     "output_type": "stream",
     "text": [
      "10\n",
      "4\n",
      "theta = -48.81164025225906, x_initial = 194, y_initial = 57\n"
     ]
    },
    {
     "name": "stderr",
     "output_type": "stream",
     "text": [
      "100%|████████████████████████████████████████████████████████████████████████████████| 121/121 [00:00<00:00, 215.86it/s]\n",
      "0it [00:00, ?it/s]\n",
      "100%|████████████████████████████████████████████████████████████████████████████████| 121/121 [00:00<00:00, 217.44it/s]\n",
      "0it [00:00, ?it/s]\n",
      "100%|████████████████████████████████████████████████████████████████████████████████| 121/121 [00:00<00:00, 205.68it/s]\n",
      "0it [00:00, ?it/s]\n",
      "100%|████████████████████████████████████████████████████████████████████████████████| 121/121 [00:00<00:00, 213.58it/s]\n",
      "0it [00:00, ?it/s]\n",
      "100%|████████████████████████████████████████████████████████████████████████████████| 121/121 [00:00<00:00, 181.74it/s]\n",
      "0it [00:00, ?it/s]\n",
      "100%|████████████████████████████████████████████████████████████████████████████████| 121/121 [00:00<00:00, 208.46it/s]\n",
      "0it [00:00, ?it/s]\n",
      "100%|████████████████████████████████████████████████████████████████████████████████| 121/121 [00:00<00:00, 197.24it/s]\n",
      "0it [00:00, ?it/s]\n"
     ]
    },
    {
     "name": "stdout",
     "output_type": "stream",
     "text": [
      "theta = -167.9432463520059, x_initial = -81, y_initial = -154\n"
     ]
    },
    {
     "name": "stderr",
     "output_type": "stream",
     "text": [
      "100%|████████████████████████████████████████████████████████████████████████████████| 121/121 [00:00<00:00, 194.04it/s]\n",
      "0it [00:00, ?it/s]\n",
      "100%|████████████████████████████████████████████████████████████████████████████████| 121/121 [00:00<00:00, 225.43it/s]\n",
      "100%|███████████████████████████████████████████████████████████████████████████████████| 45/45 [00:01<00:00, 43.90it/s]\n",
      "100%|████████████████████████████████████████████████████████████████████████████████| 121/121 [00:00<00:00, 178.27it/s]\n",
      "100%|███████████████████████████████████████████████████████████████████████████████████| 99/99 [00:02<00:00, 39.01it/s]\n",
      "100%|████████████████████████████████████████████████████████████████████████████████| 121/121 [00:00<00:00, 203.79it/s]\n",
      "100%|█████████████████████████████████████████████████████████████████████████████████| 171/171 [00:04<00:00, 40.85it/s]\n",
      "100%|████████████████████████████████████████████████████████████████████████████████| 121/121 [00:00<00:00, 210.52it/s]\n",
      "100%|█████████████████████████████████████████████████████████████████████████████████| 180/180 [00:04<00:00, 41.32it/s]\n",
      "100%|████████████████████████████████████████████████████████████████████████████████| 121/121 [00:00<00:00, 217.76it/s]\n",
      "100%|█████████████████████████████████████████████████████████████████████████████████| 144/144 [00:03<00:00, 43.45it/s]\n",
      "100%|████████████████████████████████████████████████████████████████████████████████| 121/121 [00:00<00:00, 224.00it/s]\n",
      "100%|███████████████████████████████████████████████████████████████████████████████████| 90/90 [00:02<00:00, 44.21it/s]\n"
     ]
    },
    {
     "name": "stdout",
     "output_type": "stream",
     "text": [
      "theta = -119.94840695540117, x_initial = 215, y_initial = 32\n"
     ]
    },
    {
     "name": "stderr",
     "output_type": "stream",
     "text": [
      "100%|████████████████████████████████████████████████████████████████████████████████| 121/121 [00:00<00:00, 211.65it/s]\n",
      "0it [00:00, ?it/s]\n",
      "100%|████████████████████████████████████████████████████████████████████████████████| 121/121 [00:00<00:00, 221.05it/s]\n",
      "0it [00:00, ?it/s]\n",
      "100%|████████████████████████████████████████████████████████████████████████████████| 121/121 [00:00<00:00, 220.21it/s]\n",
      "0it [00:00, ?it/s]\n",
      "100%|████████████████████████████████████████████████████████████████████████████████| 121/121 [00:00<00:00, 219.24it/s]\n",
      "0it [00:00, ?it/s]\n",
      "100%|████████████████████████████████████████████████████████████████████████████████| 121/121 [00:00<00:00, 221.50it/s]\n",
      "0it [00:00, ?it/s]\n",
      "100%|████████████████████████████████████████████████████████████████████████████████| 121/121 [00:00<00:00, 219.06it/s]\n",
      "0it [00:00, ?it/s]\n",
      "100%|████████████████████████████████████████████████████████████████████████████████| 121/121 [00:00<00:00, 209.47it/s]\n",
      "0it [00:00, ?it/s]\n"
     ]
    },
    {
     "name": "stdout",
     "output_type": "stream",
     "text": [
      "theta = -110.26751470393569, x_initial = -119, y_initial = -83\n"
     ]
    },
    {
     "name": "stderr",
     "output_type": "stream",
     "text": [
      "100%|████████████████████████████████████████████████████████████████████████████████| 121/121 [00:00<00:00, 224.61it/s]\n",
      "0it [00:00, ?it/s]\n",
      "100%|████████████████████████████████████████████████████████████████████████████████| 121/121 [00:00<00:00, 223.40it/s]\n",
      "0it [00:00, ?it/s]\n",
      "100%|████████████████████████████████████████████████████████████████████████████████| 121/121 [00:00<00:00, 223.69it/s]\n",
      "0it [00:00, ?it/s]\n",
      "100%|████████████████████████████████████████████████████████████████████████████████| 121/121 [00:00<00:00, 222.98it/s]\n",
      "0it [00:00, ?it/s]\n",
      "100%|████████████████████████████████████████████████████████████████████████████████| 121/121 [00:00<00:00, 216.30it/s]\n",
      "0it [00:00, ?it/s]\n",
      "100%|████████████████████████████████████████████████████████████████████████████████| 121/121 [00:00<00:00, 222.24it/s]\n",
      "0it [00:00, ?it/s]\n",
      "100%|████████████████████████████████████████████████████████████████████████████████| 121/121 [00:00<00:00, 227.23it/s]\n",
      "0it [00:00, ?it/s]\n"
     ]
    },
    {
     "name": "stdout",
     "output_type": "stream",
     "text": [
      "Too far translations filtered out: 565\n",
      "Alignment time: 44.54160475730896\n",
      "Length: 1\n",
      "Aligning 10 and 15\n",
      "new diag score is estimated\n"
     ]
    },
    {
     "name": "stderr",
     "output_type": "stream",
     "text": [
      "100%|██████████████████████████████████████████████████████████████████████████████| 1249/1249 [00:05<00:00, 241.02it/s]\n"
     ]
    },
    {
     "name": "stdout",
     "output_type": "stream",
     "text": [
      "10\n",
      "4\n",
      "theta = -132.4175308431562, x_initial = 174, y_initial = 42\n"
     ]
    },
    {
     "name": "stderr",
     "output_type": "stream",
     "text": [
      "100%|████████████████████████████████████████████████████████████████████████████████| 121/121 [00:00<00:00, 257.93it/s]\n",
      "0it [00:00, ?it/s]\n",
      "100%|████████████████████████████████████████████████████████████████████████████████| 121/121 [00:00<00:00, 260.74it/s]\n",
      "0it [00:00, ?it/s]\n",
      "100%|████████████████████████████████████████████████████████████████████████████████| 121/121 [00:00<00:00, 250.60it/s]\n",
      "0it [00:00, ?it/s]\n",
      "100%|████████████████████████████████████████████████████████████████████████████████| 121/121 [00:00<00:00, 264.06it/s]\n",
      "0it [00:00, ?it/s]\n",
      "100%|████████████████████████████████████████████████████████████████████████████████| 121/121 [00:00<00:00, 261.63it/s]\n",
      "0it [00:00, ?it/s]\n",
      "100%|████████████████████████████████████████████████████████████████████████████████| 121/121 [00:00<00:00, 259.99it/s]\n",
      "0it [00:00, ?it/s]\n",
      "100%|████████████████████████████████████████████████████████████████████████████████| 121/121 [00:00<00:00, 260.96it/s]\n",
      "0it [00:00, ?it/s]\n"
     ]
    },
    {
     "name": "stdout",
     "output_type": "stream",
     "text": [
      "theta = -124.76843590946241, x_initial = -4, y_initial = 203\n"
     ]
    },
    {
     "name": "stderr",
     "output_type": "stream",
     "text": [
      "100%|████████████████████████████████████████████████████████████████████████████████| 121/121 [00:00<00:00, 262.21it/s]\n",
      "0it [00:00, ?it/s]\n",
      "100%|████████████████████████████████████████████████████████████████████████████████| 121/121 [00:00<00:00, 262.10it/s]\n",
      "0it [00:00, ?it/s]\n",
      "100%|████████████████████████████████████████████████████████████████████████████████| 121/121 [00:00<00:00, 264.62it/s]\n",
      "0it [00:00, ?it/s]\n",
      "100%|████████████████████████████████████████████████████████████████████████████████| 121/121 [00:00<00:00, 269.93it/s]\n",
      "0it [00:00, ?it/s]\n",
      "100%|████████████████████████████████████████████████████████████████████████████████| 121/121 [00:00<00:00, 263.26it/s]\n",
      "0it [00:00, ?it/s]\n",
      "100%|████████████████████████████████████████████████████████████████████████████████| 121/121 [00:00<00:00, 263.72it/s]\n",
      "0it [00:00, ?it/s]\n",
      "100%|████████████████████████████████████████████████████████████████████████████████| 121/121 [00:00<00:00, 266.13it/s]\n",
      "0it [00:00, ?it/s]\n"
     ]
    },
    {
     "name": "stdout",
     "output_type": "stream",
     "text": [
      "theta = -98.62026553208283, x_initial = -139, y_initial = -176\n"
     ]
    },
    {
     "name": "stderr",
     "output_type": "stream",
     "text": [
      "100%|████████████████████████████████████████████████████████████████████████████████| 121/121 [00:00<00:00, 232.07it/s]\n",
      "0it [00:00, ?it/s]\n",
      "100%|████████████████████████████████████████████████████████████████████████████████| 121/121 [00:00<00:00, 247.08it/s]\n",
      "0it [00:00, ?it/s]\n",
      "100%|████████████████████████████████████████████████████████████████████████████████| 121/121 [00:00<00:00, 237.28it/s]\n",
      "0it [00:00, ?it/s]\n",
      "100%|████████████████████████████████████████████████████████████████████████████████| 121/121 [00:00<00:00, 237.43it/s]\n",
      "0it [00:00, ?it/s]\n",
      "100%|████████████████████████████████████████████████████████████████████████████████| 121/121 [00:00<00:00, 241.44it/s]\n",
      "0it [00:00, ?it/s]\n",
      "100%|████████████████████████████████████████████████████████████████████████████████| 121/121 [00:00<00:00, 239.54it/s]\n",
      "0it [00:00, ?it/s]\n",
      "100%|████████████████████████████████████████████████████████████████████████████████| 121/121 [00:00<00:00, 239.21it/s]\n",
      "0it [00:00, ?it/s]\n"
     ]
    },
    {
     "name": "stdout",
     "output_type": "stream",
     "text": [
      "theta = -37.50303055253188, x_initial = -105, y_initial = 93\n"
     ]
    },
    {
     "name": "stderr",
     "output_type": "stream",
     "text": [
      "100%|████████████████████████████████████████████████████████████████████████████████| 121/121 [00:00<00:00, 260.56it/s]\n",
      "0it [00:00, ?it/s]\n",
      "100%|████████████████████████████████████████████████████████████████████████████████| 121/121 [00:00<00:00, 255.01it/s]\n",
      "0it [00:00, ?it/s]\n",
      "100%|████████████████████████████████████████████████████████████████████████████████| 121/121 [00:00<00:00, 264.21it/s]\n",
      "0it [00:00, ?it/s]\n",
      "100%|████████████████████████████████████████████████████████████████████████████████| 121/121 [00:00<00:00, 262.96it/s]\n",
      "0it [00:00, ?it/s]\n",
      "100%|████████████████████████████████████████████████████████████████████████████████| 121/121 [00:00<00:00, 271.09it/s]\n",
      "0it [00:00, ?it/s]\n",
      "100%|████████████████████████████████████████████████████████████████████████████████| 121/121 [00:00<00:00, 272.20it/s]\n",
      "0it [00:00, ?it/s]\n",
      "100%|████████████████████████████████████████████████████████████████████████████████| 121/121 [00:00<00:00, 278.71it/s]\n",
      "0it [00:00, ?it/s]\n"
     ]
    },
    {
     "name": "stdout",
     "output_type": "stream",
     "text": [
      "Alignment time: 24.00263547897339\n",
      "Length: 0\n",
      "Aligning 11 and 12\n",
      "new diag score is estimated\n"
     ]
    },
    {
     "name": "stderr",
     "output_type": "stream",
     "text": [
      "100%|██████████████████████████████████████████████████████████████████████████████| 1938/1938 [00:02<00:00, 698.48it/s]\n"
     ]
    },
    {
     "name": "stdout",
     "output_type": "stream",
     "text": [
      "15\n",
      "7\n",
      "theta = -114.71490803355181, x_initial = 113, y_initial = 73\n"
     ]
    },
    {
     "name": "stderr",
     "output_type": "stream",
     "text": [
      "100%|████████████████████████████████████████████████████████████████████████████████| 121/121 [00:00<00:00, 196.24it/s]\n",
      "100%|███████████████████████████████████████████████████████████████████████████████████| 90/90 [00:02<00:00, 36.74it/s]\n",
      "100%|████████████████████████████████████████████████████████████████████████████████| 121/121 [00:00<00:00, 186.07it/s]\n",
      "100%|█████████████████████████████████████████████████████████████████████████████████| 144/144 [00:03<00:00, 36.63it/s]\n",
      "100%|████████████████████████████████████████████████████████████████████████████████| 121/121 [00:00<00:00, 192.61it/s]\n",
      "100%|█████████████████████████████████████████████████████████████████████████████████| 189/189 [00:05<00:00, 36.61it/s]\n",
      "100%|████████████████████████████████████████████████████████████████████████████████| 121/121 [00:00<00:00, 199.93it/s]\n",
      "100%|█████████████████████████████████████████████████████████████████████████████████| 189/189 [00:05<00:00, 34.88it/s]\n",
      "100%|████████████████████████████████████████████████████████████████████████████████| 121/121 [00:00<00:00, 171.92it/s]\n",
      "100%|█████████████████████████████████████████████████████████████████████████████████| 189/189 [00:05<00:00, 32.45it/s]\n",
      "100%|████████████████████████████████████████████████████████████████████████████████| 121/121 [00:00<00:00, 194.34it/s]\n",
      "100%|███████████████████████████████████████████████████████████████████████████████████| 81/81 [00:02<00:00, 32.91it/s]\n",
      "100%|████████████████████████████████████████████████████████████████████████████████| 121/121 [00:00<00:00, 202.20it/s]\n",
      "0it [00:00, ?it/s]\n"
     ]
    },
    {
     "name": "stdout",
     "output_type": "stream",
     "text": [
      "theta = -168.745287381771, x_initial = 23, y_initial = 144\n"
     ]
    },
    {
     "name": "stderr",
     "output_type": "stream",
     "text": [
      "100%|████████████████████████████████████████████████████████████████████████████████| 121/121 [00:00<00:00, 202.73it/s]\n",
      "100%|█████████████████████████████████████████████████████████████████████████████████| 126/126 [00:03<00:00, 34.62it/s]\n",
      "100%|████████████████████████████████████████████████████████████████████████████████| 121/121 [00:00<00:00, 201.66it/s]\n",
      "100%|███████████████████████████████████████████████████████████████████████████████████| 90/90 [00:02<00:00, 30.86it/s]\n",
      "100%|████████████████████████████████████████████████████████████████████████████████| 121/121 [00:00<00:00, 198.16it/s]\n",
      "100%|███████████████████████████████████████████████████████████████████████████████████| 54/54 [00:02<00:00, 24.67it/s]\n",
      "100%|████████████████████████████████████████████████████████████████████████████████| 121/121 [00:00<00:00, 210.77it/s]\n",
      "100%|███████████████████████████████████████████████████████████████████████████████████| 27/27 [00:00<00:00, 55.86it/s]\n",
      "100%|████████████████████████████████████████████████████████████████████████████████| 121/121 [00:00<00:00, 178.73it/s]\n",
      "0it [00:00, ?it/s]\n",
      "100%|████████████████████████████████████████████████████████████████████████████████| 121/121 [00:00<00:00, 203.53it/s]\n",
      "0it [00:00, ?it/s]\n",
      "100%|████████████████████████████████████████████████████████████████████████████████| 121/121 [00:00<00:00, 205.82it/s]\n",
      "0it [00:00, ?it/s]\n"
     ]
    },
    {
     "name": "stdout",
     "output_type": "stream",
     "text": [
      "theta = -101.53695903281547, x_initial = -38, y_initial = -151\n"
     ]
    },
    {
     "name": "stderr",
     "output_type": "stream",
     "text": [
      "100%|████████████████████████████████████████████████████████████████████████████████| 121/121 [00:00<00:00, 204.85it/s]\n",
      "100%|█████████████████████████████████████████████████████████████████████████████████| 117/117 [00:03<00:00, 34.04it/s]\n",
      "100%|████████████████████████████████████████████████████████████████████████████████| 121/121 [00:00<00:00, 185.43it/s]\n",
      "100%|█████████████████████████████████████████████████████████████████████████████████| 180/180 [00:05<00:00, 34.47it/s]\n",
      "100%|████████████████████████████████████████████████████████████████████████████████| 121/121 [00:00<00:00, 203.17it/s]\n",
      "100%|█████████████████████████████████████████████████████████████████████████████████| 225/225 [00:06<00:00, 34.63it/s]\n",
      "100%|████████████████████████████████████████████████████████████████████████████████| 121/121 [00:00<00:00, 204.54it/s]\n",
      "100%|█████████████████████████████████████████████████████████████████████████████████| 207/207 [00:06<00:00, 33.62it/s]\n",
      "100%|████████████████████████████████████████████████████████████████████████████████| 121/121 [00:00<00:00, 179.94it/s]\n",
      "100%|█████████████████████████████████████████████████████████████████████████████████| 189/189 [00:06<00:00, 31.03it/s]\n",
      "100%|████████████████████████████████████████████████████████████████████████████████| 121/121 [00:00<00:00, 194.79it/s]\n",
      "100%|█████████████████████████████████████████████████████████████████████████████████| 126/126 [00:03<00:00, 37.21it/s]\n",
      "100%|████████████████████████████████████████████████████████████████████████████████| 121/121 [00:00<00:00, 201.72it/s]\n",
      "100%|███████████████████████████████████████████████████████████████████████████████████| 36/36 [00:00<00:00, 36.09it/s]\n"
     ]
    },
    {
     "name": "stdout",
     "output_type": "stream",
     "text": [
      "theta = -35.72858765921774, x_initial = 180, y_initial = 24\n"
     ]
    },
    {
     "name": "stderr",
     "output_type": "stream",
     "text": [
      "100%|████████████████████████████████████████████████████████████████████████████████| 121/121 [00:00<00:00, 190.93it/s]\n",
      "0it [00:00, ?it/s]\n",
      "100%|████████████████████████████████████████████████████████████████████████████████| 121/121 [00:00<00:00, 193.36it/s]\n",
      "0it [00:00, ?it/s]\n",
      "100%|████████████████████████████████████████████████████████████████████████████████| 121/121 [00:00<00:00, 188.49it/s]\n",
      "0it [00:00, ?it/s]\n",
      "100%|████████████████████████████████████████████████████████████████████████████████| 121/121 [00:00<00:00, 170.89it/s]\n",
      "0it [00:00, ?it/s]\n",
      "100%|████████████████████████████████████████████████████████████████████████████████| 121/121 [00:00<00:00, 186.87it/s]\n",
      "0it [00:00, ?it/s]\n",
      "100%|████████████████████████████████████████████████████████████████████████████████| 121/121 [00:00<00:00, 185.61it/s]\n",
      "0it [00:00, ?it/s]\n",
      "100%|████████████████████████████████████████████████████████████████████████████████| 121/121 [00:00<00:00, 190.27it/s]\n",
      "0it [00:00, ?it/s]\n"
     ]
    },
    {
     "name": "stdout",
     "output_type": "stream",
     "text": [
      "Too far translations filtered out: 1488\n",
      "Alignment time: 91.45593571662903\n",
      "Length: 7\n",
      "Aligning 11 and 14\n",
      "new diag score is estimated\n"
     ]
    },
    {
     "name": "stderr",
     "output_type": "stream",
     "text": [
      "100%|██████████████████████████████████████████████████████████████████████████████| 1938/1938 [00:07<00:00, 244.07it/s]\n"
     ]
    },
    {
     "name": "stdout",
     "output_type": "stream",
     "text": [
      "22\n",
      "8\n",
      "theta = -24.0820036036945, x_initial = 261, y_initial = 63\n"
     ]
    },
    {
     "name": "stderr",
     "output_type": "stream",
     "text": [
      "100%|████████████████████████████████████████████████████████████████████████████████| 121/121 [00:00<00:00, 167.46it/s]\n",
      "0it [00:00, ?it/s]\n",
      "100%|████████████████████████████████████████████████████████████████████████████████| 121/121 [00:00<00:00, 168.40it/s]\n",
      "0it [00:00, ?it/s]\n",
      "100%|████████████████████████████████████████████████████████████████████████████████| 121/121 [00:00<00:00, 172.59it/s]\n",
      "0it [00:00, ?it/s]\n",
      "100%|████████████████████████████████████████████████████████████████████████████████| 121/121 [00:00<00:00, 180.90it/s]\n",
      "0it [00:00, ?it/s]\n",
      "100%|████████████████████████████████████████████████████████████████████████████████| 121/121 [00:00<00:00, 182.59it/s]\n",
      "0it [00:00, ?it/s]\n",
      "100%|████████████████████████████████████████████████████████████████████████████████| 121/121 [00:00<00:00, 182.45it/s]\n",
      "0it [00:00, ?it/s]\n",
      "100%|████████████████████████████████████████████████████████████████████████████████| 121/121 [00:00<00:00, 185.90it/s]\n",
      "100%|█████████████████████████████████████████████████████████████████████████████████████| 9/9 [00:00<00:00, 51.21it/s]\n"
     ]
    },
    {
     "name": "stdout",
     "output_type": "stream",
     "text": [
      "theta = -139.42753377291217, x_initial = 239, y_initial = 10\n"
     ]
    },
    {
     "name": "stderr",
     "output_type": "stream",
     "text": [
      "100%|████████████████████████████████████████████████████████████████████████████████| 121/121 [00:00<00:00, 188.88it/s]\n",
      "0it [00:00, ?it/s]\n",
      "100%|████████████████████████████████████████████████████████████████████████████████| 121/121 [00:00<00:00, 167.31it/s]\n",
      "100%|███████████████████████████████████████████████████████████████████████████████████| 72/72 [00:01<00:00, 39.69it/s]\n",
      "100%|████████████████████████████████████████████████████████████████████████████████| 121/121 [00:00<00:00, 177.16it/s]\n",
      "100%|█████████████████████████████████████████████████████████████████████████████████| 117/117 [00:03<00:00, 31.64it/s]\n",
      "100%|████████████████████████████████████████████████████████████████████████████████| 121/121 [00:00<00:00, 163.77it/s]\n",
      "100%|█████████████████████████████████████████████████████████████████████████████████| 117/117 [00:03<00:00, 32.65it/s]\n",
      "100%|████████████████████████████████████████████████████████████████████████████████| 121/121 [00:00<00:00, 145.85it/s]\n",
      "100%|███████████████████████████████████████████████████████████████████████████████████| 27/27 [00:00<00:00, 32.59it/s]\n",
      "100%|████████████████████████████████████████████████████████████████████████████████| 121/121 [00:00<00:00, 164.64it/s]\n",
      "100%|███████████████████████████████████████████████████████████████████████████████████| 18/18 [00:00<00:00, 63.22it/s]\n",
      "100%|████████████████████████████████████████████████████████████████████████████████| 121/121 [00:00<00:00, 168.76it/s]\n",
      "0it [00:00, ?it/s]\n"
     ]
    },
    {
     "name": "stdout",
     "output_type": "stream",
     "text": [
      "theta = -41.7188660630701, x_initial = -251, y_initial = -8\n"
     ]
    },
    {
     "name": "stderr",
     "output_type": "stream",
     "text": [
      "100%|████████████████████████████████████████████████████████████████████████████████| 121/121 [00:00<00:00, 169.42it/s]\n",
      "0it [00:00, ?it/s]\n",
      "100%|████████████████████████████████████████████████████████████████████████████████| 121/121 [00:00<00:00, 168.24it/s]\n",
      "0it [00:00, ?it/s]\n",
      "100%|████████████████████████████████████████████████████████████████████████████████| 121/121 [00:00<00:00, 171.19it/s]\n",
      "0it [00:00, ?it/s]\n",
      "100%|████████████████████████████████████████████████████████████████████████████████| 121/121 [00:00<00:00, 174.46it/s]\n",
      "0it [00:00, ?it/s]\n",
      "100%|████████████████████████████████████████████████████████████████████████████████| 121/121 [00:00<00:00, 176.16it/s]\n",
      "0it [00:00, ?it/s]\n",
      "100%|████████████████████████████████████████████████████████████████████████████████| 121/121 [00:00<00:00, 159.01it/s]\n",
      "0it [00:00, ?it/s]\n",
      "100%|████████████████████████████████████████████████████████████████████████████████| 121/121 [00:00<00:00, 158.15it/s]\n",
      "0it [00:00, ?it/s]\n"
     ]
    },
    {
     "name": "stdout",
     "output_type": "stream",
     "text": [
      "theta = -147.50059925432103, x_initial = -86, y_initial = -157\n"
     ]
    },
    {
     "name": "stderr",
     "output_type": "stream",
     "text": [
      "100%|████████████████████████████████████████████████████████████████████████████████| 121/121 [00:00<00:00, 162.99it/s]\n",
      "0it [00:00, ?it/s]\n",
      "100%|████████████████████████████████████████████████████████████████████████████████| 121/121 [00:00<00:00, 162.59it/s]\n",
      "0it [00:00, ?it/s]\n",
      "100%|████████████████████████████████████████████████████████████████████████████████| 121/121 [00:00<00:00, 169.92it/s]\n",
      "100%|███████████████████████████████████████████████████████████████████████████████████| 36/36 [00:00<00:00, 46.70it/s]\n",
      "100%|████████████████████████████████████████████████████████████████████████████████| 121/121 [00:00<00:00, 160.54it/s]\n",
      "100%|███████████████████████████████████████████████████████████████████████████████████| 27/27 [00:00<00:00, 44.87it/s]\n",
      "100%|████████████████████████████████████████████████████████████████████████████████| 121/121 [00:00<00:00, 175.68it/s]\n",
      "100%|███████████████████████████████████████████████████████████████████████████████████| 27/27 [00:00<00:00, 38.15it/s]\n",
      "100%|████████████████████████████████████████████████████████████████████████████████| 121/121 [00:00<00:00, 158.54it/s]\n",
      "0it [00:00, ?it/s]\n",
      "100%|████████████████████████████████████████████████████████████████████████████████| 121/121 [00:00<00:00, 161.20it/s]\n",
      "0it [00:00, ?it/s]\n"
     ]
    },
    {
     "name": "stdout",
     "output_type": "stream",
     "text": [
      "Too far translations filtered out: 101\n",
      "Alignment time: 49.117631912231445\n",
      "Length: 4\n",
      "Aligning 11 and 15\n",
      "new diag score is estimated\n"
     ]
    },
    {
     "name": "stderr",
     "output_type": "stream",
     "text": [
      "100%|██████████████████████████████████████████████████████████████████████████████| 1938/1938 [00:08<00:00, 240.50it/s]\n"
     ]
    },
    {
     "name": "stdout",
     "output_type": "stream",
     "text": [
      "19\n",
      "7\n",
      "theta = -39.94450518981488, x_initial = -154, y_initial = 201\n"
     ]
    },
    {
     "name": "stderr",
     "output_type": "stream",
     "text": [
      "100%|████████████████████████████████████████████████████████████████████████████████| 121/121 [00:00<00:00, 171.67it/s]\n",
      "0it [00:00, ?it/s]\n",
      "100%|████████████████████████████████████████████████████████████████████████████████| 121/121 [00:00<00:00, 176.66it/s]\n",
      "100%|█████████████████████████████████████████████████████████████████████████████████████| 9/9 [00:00<00:00, 30.99it/s]\n",
      "100%|████████████████████████████████████████████████████████████████████████████████| 121/121 [00:00<00:00, 178.85it/s]\n",
      "100%|███████████████████████████████████████████████████████████████████████████████████| 27/27 [00:00<00:00, 38.76it/s]\n",
      "100%|████████████████████████████████████████████████████████████████████████████████| 121/121 [00:00<00:00, 178.91it/s]\n",
      "100%|███████████████████████████████████████████████████████████████████████████████████| 36/36 [00:00<00:00, 39.97it/s]\n",
      "100%|████████████████████████████████████████████████████████████████████████████████| 121/121 [00:00<00:00, 178.47it/s]\n",
      "100%|███████████████████████████████████████████████████████████████████████████████████| 36/36 [00:00<00:00, 38.81it/s]\n",
      "100%|████████████████████████████████████████████████████████████████████████████████| 121/121 [00:00<00:00, 174.62it/s]\n",
      "100%|███████████████████████████████████████████████████████████████████████████████████| 63/63 [00:01<00:00, 34.27it/s]\n",
      "100%|████████████████████████████████████████████████████████████████████████████████| 121/121 [00:00<00:00, 159.40it/s]\n",
      "100%|█████████████████████████████████████████████████████████████████████████████████████| 9/9 [00:00<00:00, 29.14it/s]\n"
     ]
    },
    {
     "name": "stdout",
     "output_type": "stream",
     "text": [
      "theta = -103.74770937037361, x_initial = 172, y_initial = 129\n"
     ]
    },
    {
     "name": "stderr",
     "output_type": "stream",
     "text": [
      "100%|████████████████████████████████████████████████████████████████████████████████| 121/121 [00:00<00:00, 183.04it/s]\n",
      "100%|█████████████████████████████████████████████████████████████████████████████████████| 9/9 [00:00<00:00, 58.79it/s]\n",
      "100%|████████████████████████████████████████████████████████████████████████████████| 121/121 [00:00<00:00, 185.80it/s]\n",
      "100%|███████████████████████████████████████████████████████████████████████████████████| 45/45 [00:00<00:00, 48.19it/s]\n",
      "100%|████████████████████████████████████████████████████████████████████████████████| 121/121 [00:00<00:00, 184.34it/s]\n",
      "100%|███████████████████████████████████████████████████████████████████████████████████| 63/63 [00:01<00:00, 43.05it/s]\n",
      "100%|████████████████████████████████████████████████████████████████████████████████| 121/121 [00:00<00:00, 184.31it/s]\n",
      "100%|███████████████████████████████████████████████████████████████████████████████████| 27/27 [00:00<00:00, 36.81it/s]\n",
      "100%|████████████████████████████████████████████████████████████████████████████████| 121/121 [00:00<00:00, 165.51it/s]\n",
      "100%|███████████████████████████████████████████████████████████████████████████████████| 18/18 [00:00<00:00, 68.83it/s]\n",
      "100%|████████████████████████████████████████████████████████████████████████████████| 121/121 [00:00<00:00, 173.03it/s]\n",
      "100%|███████████████████████████████████████████████████████████████████████████████████| 18/18 [00:00<00:00, 39.71it/s]\n",
      "100%|████████████████████████████████████████████████████████████████████████████████| 121/121 [00:00<00:00, 175.17it/s]\n",
      "0it [00:00, ?it/s]\n"
     ]
    },
    {
     "name": "stdout",
     "output_type": "stream",
     "text": [
      "theta = -163.96872821518826, x_initial = 121, y_initial = 200\n"
     ]
    },
    {
     "name": "stderr",
     "output_type": "stream",
     "text": [
      "100%|████████████████████████████████████████████████████████████████████████████████| 121/121 [00:00<00:00, 162.92it/s]\n",
      "100%|███████████████████████████████████████████████████████████████████████████████████| 18/18 [00:00<00:00, 47.93it/s]\n",
      "100%|████████████████████████████████████████████████████████████████████████████████| 121/121 [00:00<00:00, 148.37it/s]\n",
      "0it [00:00, ?it/s]\n",
      "100%|████████████████████████████████████████████████████████████████████████████████| 121/121 [00:00<00:00, 177.15it/s]\n",
      "0it [00:00, ?it/s]\n",
      "100%|████████████████████████████████████████████████████████████████████████████████| 121/121 [00:00<00:00, 177.09it/s]\n",
      "0it [00:00, ?it/s]\n",
      "100%|████████████████████████████████████████████████████████████████████████████████| 121/121 [00:00<00:00, 162.49it/s]\n",
      "0it [00:00, ?it/s]\n",
      "100%|████████████████████████████████████████████████████████████████████████████████| 121/121 [00:00<00:00, 175.42it/s]\n",
      "0it [00:00, ?it/s]\n",
      "100%|████████████████████████████████████████████████████████████████████████████████| 121/121 [00:00<00:00, 178.78it/s]\n",
      "0it [00:00, ?it/s]\n"
     ]
    },
    {
     "name": "stdout",
     "output_type": "stream",
     "text": [
      "theta = -122.72712215647705, x_initial = -160, y_initial = -266\n"
     ]
    },
    {
     "name": "stderr",
     "output_type": "stream",
     "text": [
      "100%|████████████████████████████████████████████████████████████████████████████████| 121/121 [00:00<00:00, 165.82it/s]\n",
      "0it [00:00, ?it/s]\n",
      "100%|████████████████████████████████████████████████████████████████████████████████| 121/121 [00:00<00:00, 164.72it/s]\n",
      "0it [00:00, ?it/s]\n",
      "100%|████████████████████████████████████████████████████████████████████████████████| 121/121 [00:00<00:00, 167.23it/s]\n",
      "0it [00:00, ?it/s]\n",
      "100%|████████████████████████████████████████████████████████████████████████████████| 121/121 [00:00<00:00, 152.46it/s]\n",
      "0it [00:00, ?it/s]\n",
      "100%|████████████████████████████████████████████████████████████████████████████████| 121/121 [00:00<00:00, 159.73it/s]\n",
      "0it [00:00, ?it/s]\n",
      "100%|████████████████████████████████████████████████████████████████████████████████| 121/121 [00:00<00:00, 147.11it/s]\n",
      "0it [00:00, ?it/s]\n",
      "100%|████████████████████████████████████████████████████████████████████████████████| 121/121 [00:00<00:00, 153.26it/s]\n",
      "0it [00:00, ?it/s]\n"
     ]
    },
    {
     "name": "stdout",
     "output_type": "stream",
     "text": [
      "Too far translations filtered out: 156\n",
      "Alignment time: 45.0970995426178\n",
      "Length: 4\n",
      "Aligning 12 and 14\n",
      "new diag score is estimated\n"
     ]
    },
    {
     "name": "stderr",
     "output_type": "stream",
     "text": [
      "100%|████████████████████████████████████████████████████████████████████████████████| 640/640 [00:02<00:00, 235.56it/s]\n"
     ]
    },
    {
     "name": "stdout",
     "output_type": "stream",
     "text": [
      "10\n",
      "6\n",
      "theta = -19.49422025859519, x_initial = -173, y_initial = -33\n"
     ]
    },
    {
     "name": "stderr",
     "output_type": "stream",
     "text": [
      "100%|████████████████████████████████████████████████████████████████████████████████| 121/121 [00:00<00:00, 211.45it/s]\n",
      "100%|█████████████████████████████████████████████████████████████████████████████████| 216/216 [00:05<00:00, 41.03it/s]\n",
      "100%|████████████████████████████████████████████████████████████████████████████████| 121/121 [00:00<00:00, 203.13it/s]\n",
      "100%|█████████████████████████████████████████████████████████████████████████████████| 216/216 [00:05<00:00, 42.04it/s]\n",
      "100%|████████████████████████████████████████████████████████████████████████████████| 121/121 [00:00<00:00, 212.77it/s]\n",
      "100%|█████████████████████████████████████████████████████████████████████████████████| 234/234 [00:05<00:00, 41.85it/s]\n",
      "100%|████████████████████████████████████████████████████████████████████████████████| 121/121 [00:00<00:00, 215.51it/s]\n",
      "100%|█████████████████████████████████████████████████████████████████████████████████| 225/225 [00:05<00:00, 41.62it/s]\n",
      "100%|████████████████████████████████████████████████████████████████████████████████| 121/121 [00:00<00:00, 218.25it/s]\n",
      "100%|█████████████████████████████████████████████████████████████████████████████████| 180/180 [00:04<00:00, 42.43it/s]\n",
      "100%|████████████████████████████████████████████████████████████████████████████████| 121/121 [00:00<00:00, 226.37it/s]\n",
      "100%|█████████████████████████████████████████████████████████████████████████████████| 153/153 [00:03<00:00, 43.05it/s]\n",
      "100%|████████████████████████████████████████████████████████████████████████████████| 121/121 [00:00<00:00, 218.30it/s]\n",
      "100%|█████████████████████████████████████████████████████████████████████████████████| 126/126 [00:02<00:00, 43.03it/s]\n"
     ]
    },
    {
     "name": "stdout",
     "output_type": "stream",
     "text": [
      "theta = -138.2794896625798, x_initial = -102, y_initial = 133\n"
     ]
    },
    {
     "name": "stderr",
     "output_type": "stream",
     "text": [
      "100%|████████████████████████████████████████████████████████████████████████████████| 121/121 [00:00<00:00, 212.28it/s]\n",
      "100%|█████████████████████████████████████████████████████████████████████████████████| 180/180 [00:04<00:00, 41.93it/s]\n",
      "100%|████████████████████████████████████████████████████████████████████████████████| 121/121 [00:00<00:00, 164.01it/s]\n",
      "100%|█████████████████████████████████████████████████████████████████████████████████| 153/153 [00:04<00:00, 34.55it/s]\n",
      "100%|████████████████████████████████████████████████████████████████████████████████| 121/121 [00:00<00:00, 204.70it/s]\n",
      "100%|█████████████████████████████████████████████████████████████████████████████████| 135/135 [00:03<00:00, 39.36it/s]\n",
      "100%|████████████████████████████████████████████████████████████████████████████████| 121/121 [00:00<00:00, 223.02it/s]\n",
      "100%|█████████████████████████████████████████████████████████████████████████████████| 135/135 [00:03<00:00, 40.84it/s]\n",
      "100%|████████████████████████████████████████████████████████████████████████████████| 121/121 [00:00<00:00, 220.72it/s]\n",
      "100%|█████████████████████████████████████████████████████████████████████████████████| 117/117 [00:02<00:00, 43.91it/s]\n",
      "100%|████████████████████████████████████████████████████████████████████████████████| 121/121 [00:00<00:00, 196.48it/s]\n",
      "100%|█████████████████████████████████████████████████████████████████████████████████| 108/108 [00:02<00:00, 47.57it/s]\n",
      "100%|████████████████████████████████████████████████████████████████████████████████| 121/121 [00:00<00:00, 224.56it/s]\n",
      "100%|███████████████████████████████████████████████████████████████████████████████████| 54/54 [00:01<00:00, 45.15it/s]\n"
     ]
    },
    {
     "name": "stdout",
     "output_type": "stream",
     "text": [
      "theta = -96.98801493417771, x_initial = -65, y_initial = 138\n"
     ]
    },
    {
     "name": "stderr",
     "output_type": "stream",
     "text": [
      "100%|████████████████████████████████████████████████████████████████████████████████| 121/121 [00:00<00:00, 231.09it/s]\n",
      "0it [00:00, ?it/s]\n",
      "100%|████████████████████████████████████████████████████████████████████████████████| 121/121 [00:00<00:00, 228.39it/s]\n",
      "0it [00:00, ?it/s]\n",
      "100%|████████████████████████████████████████████████████████████████████████████████| 121/121 [00:00<00:00, 227.08it/s]\n",
      "0it [00:00, ?it/s]\n",
      "100%|████████████████████████████████████████████████████████████████████████████████| 121/121 [00:00<00:00, 232.04it/s]\n",
      "0it [00:00, ?it/s]\n",
      "100%|████████████████████████████████████████████████████████████████████████████████| 121/121 [00:00<00:00, 232.66it/s]\n",
      "0it [00:00, ?it/s]\n",
      "100%|████████████████████████████████████████████████████████████████████████████████| 121/121 [00:00<00:00, 233.59it/s]\n",
      "0it [00:00, ?it/s]\n",
      "100%|████████████████████████████████████████████████████████████████████████████████| 121/121 [00:00<00:00, 228.99it/s]\n",
      "0it [00:00, ?it/s]\n"
     ]
    },
    {
     "name": "stdout",
     "output_type": "stream",
     "text": [
      "theta = -78.80430857846206, x_initial = 40, y_initial = -135\n"
     ]
    },
    {
     "name": "stderr",
     "output_type": "stream",
     "text": [
      "100%|████████████████████████████████████████████████████████████████████████████████| 121/121 [00:00<00:00, 235.53it/s]\n",
      "100%|█████████████████████████████████████████████████████████████████████████████████| 162/162 [00:03<00:00, 43.12it/s]\n",
      "100%|████████████████████████████████████████████████████████████████████████████████| 121/121 [00:00<00:00, 231.04it/s]\n",
      "100%|█████████████████████████████████████████████████████████████████████████████████| 198/198 [00:04<00:00, 45.74it/s]\n",
      "100%|████████████████████████████████████████████████████████████████████████████████| 121/121 [00:00<00:00, 236.41it/s]\n",
      "100%|█████████████████████████████████████████████████████████████████████████████████| 198/198 [00:04<00:00, 42.03it/s]\n",
      "100%|████████████████████████████████████████████████████████████████████████████████| 121/121 [00:00<00:00, 210.71it/s]\n",
      "100%|█████████████████████████████████████████████████████████████████████████████████| 162/162 [00:04<00:00, 37.82it/s]\n",
      "100%|████████████████████████████████████████████████████████████████████████████████| 121/121 [00:00<00:00, 209.39it/s]\n",
      "100%|█████████████████████████████████████████████████████████████████████████████████| 153/153 [00:03<00:00, 40.76it/s]\n",
      "100%|████████████████████████████████████████████████████████████████████████████████| 121/121 [00:00<00:00, 226.15it/s]\n",
      "100%|█████████████████████████████████████████████████████████████████████████████████| 135/135 [00:03<00:00, 40.72it/s]\n",
      "100%|████████████████████████████████████████████████████████████████████████████████| 121/121 [00:00<00:00, 221.66it/s]\n",
      "100%|███████████████████████████████████████████████████████████████████████████████████| 90/90 [00:02<00:00, 42.49it/s]\n"
     ]
    },
    {
     "name": "stdout",
     "output_type": "stream",
     "text": [
      "Too far translations filtered out: 1325\n",
      "Alignment time: 102.58510661125183\n",
      "Length: 2\n",
      "Aligning 12 and 15\n",
      "new diag score is estimated\n"
     ]
    },
    {
     "name": "stderr",
     "output_type": "stream",
     "text": [
      "100%|████████████████████████████████████████████████████████████████████████████████| 640/640 [00:02<00:00, 233.24it/s]\n"
     ]
    },
    {
     "name": "stdout",
     "output_type": "stream",
     "text": [
      "8\n",
      "3\n",
      "theta = -97.32868237102834, x_initial = 155, y_initial = -110\n"
     ]
    },
    {
     "name": "stderr",
     "output_type": "stream",
     "text": [
      "100%|████████████████████████████████████████████████████████████████████████████████| 121/121 [00:00<00:00, 203.80it/s]\n",
      "100%|█████████████████████████████████████████████████████████████████████████████████| 153/153 [00:03<00:00, 47.97it/s]\n",
      "100%|████████████████████████████████████████████████████████████████████████████████| 121/121 [00:00<00:00, 243.89it/s]\n",
      "100%|█████████████████████████████████████████████████████████████████████████████████| 189/189 [00:03<00:00, 48.55it/s]\n",
      "100%|████████████████████████████████████████████████████████████████████████████████| 121/121 [00:00<00:00, 225.48it/s]\n",
      "100%|█████████████████████████████████████████████████████████████████████████████████| 216/216 [00:04<00:00, 49.64it/s]\n",
      "100%|████████████████████████████████████████████████████████████████████████████████| 121/121 [00:00<00:00, 251.34it/s]\n",
      "100%|█████████████████████████████████████████████████████████████████████████████████| 216/216 [00:04<00:00, 49.30it/s]\n",
      "100%|████████████████████████████████████████████████████████████████████████████████| 121/121 [00:00<00:00, 247.30it/s]\n",
      "100%|█████████████████████████████████████████████████████████████████████████████████| 198/198 [00:04<00:00, 47.99it/s]\n",
      "100%|████████████████████████████████████████████████████████████████████████████████| 121/121 [00:00<00:00, 230.30it/s]\n",
      "100%|█████████████████████████████████████████████████████████████████████████████████| 207/207 [00:04<00:00, 48.83it/s]\n",
      "100%|████████████████████████████████████████████████████████████████████████████████| 121/121 [00:00<00:00, 242.60it/s]\n",
      "100%|█████████████████████████████████████████████████████████████████████████████████| 180/180 [00:03<00:00, 49.22it/s]\n"
     ]
    },
    {
     "name": "stdout",
     "output_type": "stream",
     "text": [
      "theta = -169.31425505184995, x_initial = -119, y_initial = 154\n"
     ]
    },
    {
     "name": "stderr",
     "output_type": "stream",
     "text": [
      "100%|████████████████████████████████████████████████████████████████████████████████| 121/121 [00:00<00:00, 243.46it/s]\n",
      "100%|█████████████████████████████████████████████████████████████████████████████████| 189/189 [00:03<00:00, 51.60it/s]\n",
      "100%|████████████████████████████████████████████████████████████████████████████████| 121/121 [00:00<00:00, 264.84it/s]\n",
      "100%|█████████████████████████████████████████████████████████████████████████████████| 207/207 [00:03<00:00, 53.35it/s]\n",
      "100%|████████████████████████████████████████████████████████████████████████████████| 121/121 [00:00<00:00, 262.94it/s]\n",
      "100%|█████████████████████████████████████████████████████████████████████████████████| 225/225 [00:04<00:00, 53.12it/s]\n",
      "100%|████████████████████████████████████████████████████████████████████████████████| 121/121 [00:00<00:00, 260.74it/s]\n",
      "100%|█████████████████████████████████████████████████████████████████████████████████| 216/216 [00:04<00:00, 50.75it/s]\n",
      "100%|████████████████████████████████████████████████████████████████████████████████| 121/121 [00:00<00:00, 261.81it/s]\n",
      "100%|█████████████████████████████████████████████████████████████████████████████████| 216/216 [00:04<00:00, 50.54it/s]\n",
      "100%|████████████████████████████████████████████████████████████████████████████████| 121/121 [00:00<00:00, 263.54it/s]\n",
      "100%|█████████████████████████████████████████████████████████████████████████████████| 207/207 [00:03<00:00, 53.92it/s]\n",
      "100%|████████████████████████████████████████████████████████████████████████████████| 121/121 [00:00<00:00, 262.67it/s]\n",
      "100%|█████████████████████████████████████████████████████████████████████████████████| 171/171 [00:03<00:00, 52.66it/s]\n"
     ]
    },
    {
     "name": "stdout",
     "output_type": "stream",
     "text": [
      "theta = -112.6198649480404, x_initial = 10, y_initial = 144\n"
     ]
    },
    {
     "name": "stderr",
     "output_type": "stream",
     "text": [
      "100%|████████████████████████████████████████████████████████████████████████████████| 121/121 [00:00<00:00, 284.78it/s]\n",
      "0it [00:00, ?it/s]\n",
      "100%|████████████████████████████████████████████████████████████████████████████████| 121/121 [00:00<00:00, 267.31it/s]\n",
      "0it [00:00, ?it/s]\n",
      "100%|████████████████████████████████████████████████████████████████████████████████| 121/121 [00:00<00:00, 292.11it/s]\n",
      "0it [00:00, ?it/s]\n",
      "100%|████████████████████████████████████████████████████████████████████████████████| 121/121 [00:00<00:00, 281.68it/s]\n",
      "0it [00:00, ?it/s]\n",
      "100%|████████████████████████████████████████████████████████████████████████████████| 121/121 [00:00<00:00, 290.02it/s]\n",
      "0it [00:00, ?it/s]\n",
      "100%|████████████████████████████████████████████████████████████████████████████████| 121/121 [00:00<00:00, 290.00it/s]\n",
      "0it [00:00, ?it/s]\n",
      "100%|████████████████████████████████████████████████████████████████████████████████| 121/121 [00:00<00:00, 292.35it/s]\n",
      "0it [00:00, ?it/s]\n"
     ]
    },
    {
     "name": "stdout",
     "output_type": "stream",
     "text": [
      "Too far translations filtered out: 1172\n",
      "Alignment time: 71.41491079330444\n",
      "Length: 2\n",
      "Aligning 14 and 15\n",
      "new diag score is estimated\n"
     ]
    },
    {
     "name": "stderr",
     "output_type": "stream",
     "text": [
      "100%|██████████████████████████████████████████████████████████████████████████████| 1790/1790 [00:07<00:00, 243.58it/s]\n"
     ]
    },
    {
     "name": "stdout",
     "output_type": "stream",
     "text": [
      "10\n",
      "5\n",
      "theta = -92.09313255817933, x_initial = -115, y_initial = 221\n"
     ]
    },
    {
     "name": "stderr",
     "output_type": "stream",
     "text": [
      "100%|████████████████████████████████████████████████████████████████████████████████| 121/121 [00:00<00:00, 206.45it/s]\n",
      "0it [00:00, ?it/s]\n",
      "100%|████████████████████████████████████████████████████████████████████████████████| 121/121 [00:00<00:00, 215.28it/s]\n",
      "0it [00:00, ?it/s]\n",
      "100%|████████████████████████████████████████████████████████████████████████████████| 121/121 [00:00<00:00, 206.21it/s]\n",
      "0it [00:00, ?it/s]\n",
      "100%|████████████████████████████████████████████████████████████████████████████████| 121/121 [00:00<00:00, 203.04it/s]\n",
      "0it [00:00, ?it/s]\n",
      "100%|████████████████████████████████████████████████████████████████████████████████| 121/121 [00:00<00:00, 185.46it/s]\n",
      "0it [00:00, ?it/s]\n",
      "100%|████████████████████████████████████████████████████████████████████████████████| 121/121 [00:00<00:00, 195.51it/s]\n",
      "0it [00:00, ?it/s]\n",
      "100%|████████████████████████████████████████████████████████████████████████████████| 121/121 [00:00<00:00, 167.36it/s]\n",
      "0it [00:00, ?it/s]\n"
     ]
    },
    {
     "name": "stdout",
     "output_type": "stream",
     "text": [
      "theta = -4.896598802100931, x_initial = 126, y_initial = -184\n"
     ]
    },
    {
     "name": "stderr",
     "output_type": "stream",
     "text": [
      "100%|████████████████████████████████████████████████████████████████████████████████| 121/121 [00:00<00:00, 182.71it/s]\n",
      "0it [00:00, ?it/s]\n",
      "100%|████████████████████████████████████████████████████████████████████████████████| 121/121 [00:00<00:00, 194.75it/s]\n",
      "100%|█████████████████████████████████████████████████████████████████████████████████████| 9/9 [00:00<00:00, 65.96it/s]\n",
      "100%|████████████████████████████████████████████████████████████████████████████████| 121/121 [00:00<00:00, 204.29it/s]\n",
      "100%|███████████████████████████████████████████████████████████████████████████████████| 90/90 [00:02<00:00, 44.25it/s]\n",
      "100%|████████████████████████████████████████████████████████████████████████████████| 121/121 [00:00<00:00, 192.03it/s]\n",
      "100%|█████████████████████████████████████████████████████████████████████████████████| 126/126 [00:03<00:00, 41.89it/s]\n",
      "100%|████████████████████████████████████████████████████████████████████████████████| 121/121 [00:00<00:00, 201.12it/s]\n",
      "100%|███████████████████████████████████████████████████████████████████████████████████| 81/81 [00:01<00:00, 54.29it/s]\n",
      "100%|████████████████████████████████████████████████████████████████████████████████| 121/121 [00:00<00:00, 204.38it/s]\n",
      "100%|███████████████████████████████████████████████████████████████████████████████████| 36/36 [00:00<00:00, 52.90it/s]\n",
      "100%|████████████████████████████████████████████████████████████████████████████████| 121/121 [00:00<00:00, 201.72it/s]\n",
      "100%|███████████████████████████████████████████████████████████████████████████████████| 18/18 [00:00<00:00, 44.95it/s]\n"
     ]
    },
    {
     "name": "stdout",
     "output_type": "stream",
     "text": [
      "theta = -29.11036717873187, x_initial = 197, y_initial = 6\n"
     ]
    },
    {
     "name": "stderr",
     "output_type": "stream",
     "text": [
      "100%|████████████████████████████████████████████████████████████████████████████████| 121/121 [00:00<00:00, 209.60it/s]\n",
      "0it [00:00, ?it/s]\n",
      "100%|████████████████████████████████████████████████████████████████████████████████| 121/121 [00:00<00:00, 201.01it/s]\n",
      "0it [00:00, ?it/s]\n",
      "100%|████████████████████████████████████████████████████████████████████████████████| 121/121 [00:00<00:00, 188.13it/s]\n",
      "0it [00:00, ?it/s]\n",
      "100%|████████████████████████████████████████████████████████████████████████████████| 121/121 [00:00<00:00, 206.47it/s]\n",
      "0it [00:00, ?it/s]\n",
      "100%|████████████████████████████████████████████████████████████████████████████████| 121/121 [00:00<00:00, 194.80it/s]\n",
      "0it [00:00, ?it/s]\n",
      "100%|████████████████████████████████████████████████████████████████████████████████| 121/121 [00:00<00:00, 195.85it/s]\n",
      "0it [00:00, ?it/s]\n",
      "100%|████████████████████████████████████████████████████████████████████████████████| 121/121 [00:00<00:00, 203.59it/s]\n",
      "0it [00:00, ?it/s]\n"
     ]
    },
    {
     "name": "stdout",
     "output_type": "stream",
     "text": [
      "theta = -136.46936980577556, x_initial = -235, y_initial = 21\n"
     ]
    },
    {
     "name": "stderr",
     "output_type": "stream",
     "text": [
      "100%|████████████████████████████████████████████████████████████████████████████████| 121/121 [00:00<00:00, 209.76it/s]\n",
      "0it [00:00, ?it/s]\n",
      "100%|████████████████████████████████████████████████████████████████████████████████| 121/121 [00:00<00:00, 211.10it/s]\n",
      "0it [00:00, ?it/s]\n",
      "100%|████████████████████████████████████████████████████████████████████████████████| 121/121 [00:00<00:00, 209.61it/s]\n",
      "0it [00:00, ?it/s]\n",
      "100%|████████████████████████████████████████████████████████████████████████████████| 121/121 [00:00<00:00, 206.31it/s]\n",
      "0it [00:00, ?it/s]\n",
      "100%|████████████████████████████████████████████████████████████████████████████████| 121/121 [00:00<00:00, 209.61it/s]\n",
      "0it [00:00, ?it/s]\n",
      "100%|████████████████████████████████████████████████████████████████████████████████| 121/121 [00:00<00:00, 209.92it/s]\n",
      "0it [00:00, ?it/s]\n",
      "100%|████████████████████████████████████████████████████████████████████████████████| 121/121 [00:00<00:00, 207.57it/s]\n",
      "0it [00:00, ?it/s]"
     ]
    },
    {
     "name": "stdout",
     "output_type": "stream",
     "text": [
      "Too far translations filtered out: 118\n",
      "Alignment time: 38.15942883491516\n",
      "Length: 3\n"
     ]
    },
    {
     "name": "stderr",
     "output_type": "stream",
     "text": [
      "\n"
     ]
    }
   ],
   "source": [
    "comparator = FragmentComparator(blocks_num=5)\n",
    "# comparator.align_frags_and_save([20, 21, 22, 23, 24, 25, 26, 28, 29, 30, 31, 32, 33, 34, 37])\n",
    "# comparator.align_frags_and_save([3, 5, 6, 7, 8, 9, 10, 11, 12, 14, 15, 20, 21, 22, 23, 24, 25, 26, 28,  29, 30, 31, 32, 33, 34, 37])\n",
    "comparator.align_frags_and_save(\n",
    "    [3, 5, 6, 7, 8, 9, 10, 11, 12, 14, 15],\n",
    "    existing_json=None\n",
    ")\n"
   ]
  },
  {
   "cell_type": "markdown",
   "id": "32649786",
   "metadata": {},
   "source": [
    "# Saving probabilities"
   ]
  },
  {
   "cell_type": "code",
   "execution_count": 34,
   "id": "f7a9e143",
   "metadata": {},
   "outputs": [],
   "source": [
    "import os\n",
    "import json"
   ]
  },
  {
   "cell_type": "code",
   "execution_count": 35,
   "id": "a1cd3d30",
   "metadata": {},
   "outputs": [],
   "source": [
    "def save_probs(refined_alignment, frag_numbers, output_dir: str = '.') -> None:\n",
    "    \"\"\"\n",
    "    Saves probs into json file in output_dir\n",
    "    \n",
    "    refined_alignment: dict (l, r) -> list of Translations, where l and r are fragment indices from frag_numbers\n",
    "    frag_numbers: list of fragment ids\n",
    "    output_dir: str\n",
    "    \"\"\"\n",
    "    dict_for_json = {}\n",
    "    for l, r in refined_alignment:\n",
    "        dict_for_json[f\"{frag_numbers[l]}_{frag_numbers[r]}\"] = []\n",
    "        for tr in refined_alignment[(l, r)]:\n",
    "            dict_for_json[f\"{frag_numbers[l]}_{frag_numbers[r]}\"].append({\n",
    "                'x': tr.x,\n",
    "                'y': tr.y,\n",
    "                'angle': tr.angle,\n",
    "                'confidence': tr.confidence,\n",
    "                'geom_score': tr.geom_score\n",
    "            })\n",
    "    with open(os.path.join(output_dir, 'new_probs.json'), 'w') as f:\n",
    "        json.dump(dict_for_json, f)\n",
    "    "
   ]
  },
  {
   "cell_type": "code",
   "execution_count": 36,
   "id": "6859f6ff",
   "metadata": {},
   "outputs": [],
   "source": [
    "save_probs(refined_alignment, frag_numbers, output_dir='.')"
   ]
  },
  {
   "cell_type": "markdown",
   "id": "71d1cc45",
   "metadata": {},
   "source": [
    "## Merging two fragments (optional, not completed)"
   ]
  },
  {
   "cell_type": "code",
   "execution_count": 38,
   "id": "ba0ce643",
   "metadata": {},
   "outputs": [
    {
     "name": "stdout",
     "output_type": "stream",
     "text": [
      "Detectron v2 is not installed\n"
     ]
    }
   ],
   "source": [
    "from extend import extend_image, load_model"
   ]
  },
  {
   "cell_type": "code",
   "execution_count": 39,
   "id": "2fe842e0",
   "metadata": {},
   "outputs": [],
   "source": [
    "%matplotlib inline"
   ]
  },
  {
   "cell_type": "code",
   "execution_count": 40,
   "id": "2c600a66",
   "metadata": {},
   "outputs": [],
   "source": [
    "def leave_biggest_component (mask):\n",
    "    \"\"\"\n",
    "    mask: np.array, binary mask\n",
    "    return: np.array, binary mask of the biggest connected component of the mask\n",
    "    \"\"\"\n",
    "    mask = mask.astype('uint8')\n",
    "    nb_components, output, stats, centroids = cv2.connectedComponentsWithStats(mask, connectivity=4)\n",
    "    sizes = stats[:, -1]\n",
    "\n",
    "    max_label = 1\n",
    "    max_size = sizes[1]\n",
    "    for i in range(2, nb_components):\n",
    "        if sizes[i] > max_size:\n",
    "            max_label = i\n",
    "            max_size = sizes[i]\n",
    "\n",
    "    img2 = np.zeros(output.shape)\n",
    "    img2[output == max_label] = 255\n",
    "    return img2"
   ]
  },
  {
   "cell_type": "code",
   "execution_count": 41,
   "id": "f3924617",
   "metadata": {},
   "outputs": [],
   "source": [
    "def compute_gap_mask(anchor, transformed, structure_elem = np.ones((25,25))):\n",
    "    \"\"\"\n",
    "    Computes mask of the gap between the anchor and the transformed fragment\n",
    "    \n",
    "    anchor: Fragment\n",
    "    transformed: Fragment\n",
    "\n",
    "    return: mask of the gap, np.array[bool]\n",
    "    \"\"\"\n",
    "    two_mask = np.logical_or(anchor.mask, transformed.mask)[:,:,None]\n",
    "    wide_intersection = np.logical_and(anchor.extended_mask, transformed.extended_mask)[:,:,None]\n",
    "    merged = cv2.morphologyEx(two_mask * 1.0, cv2.MORPH_CLOSE, structure_elem, iterations=1)\n",
    "    gap = np.logical_and(\n",
    "        merged[:,:,None],\n",
    "        np.logical_not(two_mask)\n",
    "    )\n",
    "    gap = leave_biggest_component(gap)\n",
    "    return gap\n",
    "    "
   ]
  },
  {
   "cell_type": "code",
   "execution_count": 59,
   "id": "2665dc6b",
   "metadata": {},
   "outputs": [],
   "source": [
    "l, r = 0, 1\n",
    "align_i = 1"
   ]
  },
  {
   "cell_type": "code",
   "execution_count": 60,
   "id": "0f004cdb",
   "metadata": {},
   "outputs": [],
   "source": [
    "tr = refined_alignment[(l, r)][align_i]\n",
    "transformed = shift_fragment(rotate_fragment(pad_fragment_to_size(frags[l], 200), tr.angle), tr.x, tr.y)\n",
    "gap = compute_gap_mask(frags[r], transformed)\n",
    "blended = blend_fragments(frags[r], transformed)"
   ]
  },
  {
   "cell_type": "code",
   "execution_count": 61,
   "id": "170f3048",
   "metadata": {},
   "outputs": [
    {
     "data": {
      "text/plain": [
       "<matplotlib.image.AxesImage at 0x7f6abc50e3e0>"
      ]
     },
     "execution_count": 61,
     "metadata": {},
     "output_type": "execute_result"
    },
    {
     "data": {
      "image/png": "[encoded data removed]",
      "text/plain": [
       "<Figure size 1400x700 with 2 Axes>"
      ]
     },
     "metadata": {},
     "output_type": "display_data"
    }
   ],
   "source": [
    "fig, axes = plt.subplots(nrows=1, ncols=2, figsize=(14, 7))\n",
    "axes[0].imshow(blended.fragment)\n",
    "axes[1].imshow(gap)"
   ]
  },
  {
   "cell_type": "code",
   "execution_count": 62,
   "id": "dcdf9802",
   "metadata": {},
   "outputs": [],
   "source": [
    "model = load_model()"
   ]
  },
  {
   "cell_type": "code",
   "execution_count": 63,
   "id": "335472c6",
   "metadata": {},
   "outputs": [],
   "source": [
    "def inpaint_gap(two_frags, gap_mask, model):\n",
    "    \"\"\"\n",
    "    two_frags: np.array, image with two fragments\n",
    "    gap_mask: np.array, binary mask of the gap\n",
    "    model: inpainting model\n",
    "\n",
    "    return: np.array, inpainted image\n",
    "    \"\"\"\n",
    "    gap_mask = cv2.dilate(gap_mask * 1.0, np.ones((5,5), np.uint8))\n",
    "    return extend_image(two_frags, gap_mask[:,:,None].astype(bool), model)"
   ]
  },
  {
   "cell_type": "code",
   "execution_count": 64,
   "id": "fd506e80",
   "metadata": {},
   "outputs": [],
   "source": [
    "inpainted = inpaint_gap(blended.fragment * 255, gap, model)"
   ]
  },
  {
   "cell_type": "code",
   "execution_count": 65,
   "id": "718462b4",
   "metadata": {},
   "outputs": [
    {
     "data": {
      "text/plain": [
       "<matplotlib.image.AxesImage at 0x7f6abc135300>"
      ]
     },
     "execution_count": 65,
     "metadata": {},
     "output_type": "execute_result"
    },
    {
     "data": {
      "image/png": "[encoded data removed]",
      "text/plain": [
       "<Figure size 640x480 with 1 Axes>"
      ]
     },
     "metadata": {},
     "output_type": "display_data"
    }
   ],
   "source": [
    "plt.imshow(inpainted)"
   ]
  }
 ],
 "metadata": {
  "kernelspec": {
   "display_name": "Python 3 (ipykernel)",
   "language": "python",
   "name": "python3"
  },
  "language_info": {
   "codemirror_mode": {
    "name": "ipython",
    "version": 3
   },
   "file_extension": ".py",
   "mimetype": "text/x-python",
   "name": "python",
   "nbconvert_exporter": "python",
   "pygments_lexer": "ipython3",
   "version": "3.10.6"
  }
 },
 "nbformat": 4,
 "nbformat_minor": 5
}
