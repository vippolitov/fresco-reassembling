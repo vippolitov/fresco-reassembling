{
 "cells": [
  {
   "cell_type": "code",
   "execution_count": 1,
   "id": "0d88791c",
   "metadata": {},
   "outputs": [],
   "source": [
    "import numpy as np\n",
    "import matplotlib.pyplot as plt\n",
    "import json "
   ]
  },
  {
   "cell_type": "code",
   "execution_count": 91,
   "id": "de6685e6",
   "metadata": {},
   "outputs": [],
   "source": [
    "dataset_dir = '/mnt/c/Users/dev/Documents/fresco/dataset'\n",
    "alignemnt_filename = '/mnt/c/Users/dev/Documents/fresco/fresco-reassembling/code/alignments/alignments2.json'"
   ]
  },
  {
   "cell_type": "code",
   "execution_count": 92,
   "id": "56c94989",
   "metadata": {},
   "outputs": [],
   "source": [
    "transforms = json.load(open(dataset_dir + '/transforms.json'))\n",
    "# transforms"
   ]
  },
  {
   "cell_type": "code",
   "execution_count": 93,
   "id": "5619da85",
   "metadata": {},
   "outputs": [],
   "source": [
    "alignments = json.load(open(alignemnt_filename))"
   ]
  },
  {
   "cell_type": "code",
   "execution_count": 94,
   "id": "a69d9a61",
   "metadata": {},
   "outputs": [],
   "source": [
    "class Transform:\n",
    "    def __init__(self, x, y, angle):\n",
    "        self.x = x\n",
    "        self.y = y\n",
    "        self.angle = angle\n",
    "        \n",
    "    def __eq__(self, other):\n",
    "        return (self.x - other.x)**2 + (self.y - other.y)**2 < 15**2 and (abs(self.angle - other.angle) < 10 or abs(self.angle - other.angle) > 350)\n",
    "\n",
    "    def __repr__(self):\n",
    "        return f'Transform({self.x}, {self.y}, {self.angle})'\n",
    "    def __str__(self):\n",
    "        return f'Transform({self.x}, {self.y}, {self.angle})'"
   ]
  },
  {
   "cell_type": "code",
   "execution_count": 95,
   "id": "c7c00681",
   "metadata": {},
   "outputs": [
    {
     "name": "stdout",
     "output_type": "stream",
     "text": [
      "True\n"
     ]
    }
   ],
   "source": [
    "tr1 = Transform(0, 0, -178)\n",
    "tr2 = Transform(5, 2, 178)\n",
    "print(tr1 == tr2)"
   ]
  },
  {
   "cell_type": "code",
   "execution_count": 96,
   "id": "fc5a2341",
   "metadata": {},
   "outputs": [],
   "source": [
    "pred_transforms = {}\n",
    "gt_transforms = {}"
   ]
  },
  {
   "cell_type": "code",
   "execution_count": 97,
   "id": "bf6a6ad5",
   "metadata": {},
   "outputs": [],
   "source": [
    "for pair in alignments.keys():\n",
    "    l, r = pair.split('_')\n",
    "    l, r = int(l), int(r)\n",
    "    pair_aligns = alignments[pair]\n",
    "    pair_transforms = [Transform(pair_align['x'], pair_align['y'], pair_align['angle']) for pair_align in pair_aligns]\n",
    "    pred_transforms[(l, r)] = pair_transforms"
   ]
  },
  {
   "cell_type": "code",
   "execution_count": 98,
   "id": "032d802b",
   "metadata": {},
   "outputs": [],
   "source": [
    "for pair in transforms.keys():\n",
    "    l, r = pair.split('_')\n",
    "    l, r = int(l), int(r)\n",
    "    pair_align = transforms[pair]\n",
    "    pair_transforms = [Transform(pair_align[0], pair_align[1], pair_align[2])]\n",
    "    gt_transforms[(l, r)] = pair_transforms"
   ]
  },
  {
   "cell_type": "code",
   "execution_count": 99,
   "id": "8ae58737",
   "metadata": {},
   "outputs": [
    {
     "data": {
      "text/plain": [
       "([Transform(-67, -67, 4.77326251632438)], [Transform(-63.0, -62.5, 0)])"
      ]
     },
     "execution_count": 99,
     "metadata": {},
     "output_type": "execute_result"
    }
   ],
   "source": [
    "pred_transforms[(6, 7)], gt_transforms[(6, 7)]"
   ]
  },
  {
   "cell_type": "code",
   "execution_count": 100,
   "id": "7ccf6c34",
   "metadata": {},
   "outputs": [
    {
     "name": "stdout",
     "output_type": "stream",
     "text": [
      "True\n",
      "True\n"
     ]
    }
   ],
   "source": [
    "print(pred_transforms[(6, 7)][0] == gt_transforms[(6, 7)][0])\n",
    "print(gt_transforms[(6, 7)][0] in pred_transforms[(6, 7)])"
   ]
  },
  {
   "cell_type": "code",
   "execution_count": 101,
   "id": "1b5ecfd9",
   "metadata": {},
   "outputs": [
    {
     "data": {
      "text/plain": [
       "{3, 5, 6, 7, 8, 9, 10, 11, 12, 14, 15, 49, 53, 54, 59, 61, 65, 95, 96}"
      ]
     },
     "execution_count": 101,
     "metadata": {},
     "output_type": "execute_result"
    }
   ],
   "source": [
    "set([pair[0] for pair in pred_transforms.keys()] + [pair[1] for pair in pred_transforms.keys()]) "
   ]
  },
  {
   "cell_type": "code",
   "execution_count": 102,
   "id": "9fcfbf67",
   "metadata": {},
   "outputs": [],
   "source": [
    "def compute_recall(pred_transforms, gt_transforms, frag_nums=None):\n",
    "    if frag_nums is None:\n",
    "        frag_nums = list(set([pair[0] for pair in pred_transforms.keys()] + [pair[1] for pair in pred_transforms.keys()]))\n",
    "    frag_nums.sort()\n",
    "    \n",
    "    tp = 0\n",
    "    fn = 0\n",
    "    for l in frag_nums:\n",
    "        for r in frag_nums:\n",
    "            if l >= r:\n",
    "                continue\n",
    "            if (l, r) not in gt_transforms:\n",
    "                continue\n",
    "            gt = gt_transforms[(l, r)][0]\n",
    "            if gt in pred_transforms[(l, r)]:\n",
    "                print(f'pair ({l}, {r}) correct')\n",
    "                tp += 1\n",
    "            else:\n",
    "                print(f'pair ({l}, {r}) incorrect')\n",
    "                fn += 1\n",
    "    return tp / (tp + fn)"
   ]
  },
  {
   "cell_type": "code",
   "execution_count": 103,
   "id": "b3d234f3",
   "metadata": {},
   "outputs": [
    {
     "name": "stdout",
     "output_type": "stream",
     "text": [
      "pair (3, 5) incorrect\n",
      "pair (5, 7) incorrect\n",
      "pair (5, 9) correct\n",
      "pair (6, 7) correct\n",
      "pair (6, 9) correct\n",
      "pair (7, 8) correct\n",
      "pair (8, 59) correct\n",
      "pair (9, 11) correct\n",
      "pair (9, 15) correct\n",
      "pair (9, 59) incorrect\n",
      "pair (9, 61) correct\n",
      "pair (10, 11) correct\n",
      "pair (10, 12) incorrect\n",
      "pair (11, 12) incorrect\n",
      "pair (11, 14) incorrect\n",
      "pair (14, 15) incorrect\n",
      "pair (15, 61) correct\n",
      "pair (49, 53) correct\n",
      "pair (49, 54) correct\n",
      "pair (53, 54) correct\n",
      "pair (53, 61) correct\n",
      "pair (54, 61) incorrect\n",
      "pair (54, 65) incorrect\n",
      "pair (59, 61) correct\n",
      "pair (59, 95) correct\n",
      "pair (61, 96) incorrect\n",
      "pair (65, 96) correct\n",
      "pair (95, 96) correct\n"
     ]
    },
    {
     "data": {
      "text/plain": [
       "0.6428571428571429"
      ]
     },
     "execution_count": 103,
     "metadata": {},
     "output_type": "execute_result"
    }
   ],
   "source": [
    "compute_recall(pred_transforms, gt_transforms, frag_nums=[3, 5, 6, 7, 8, 9, 10, 11, 12, 14, 15, 49, 53, 54, 59, 61, 65, 95, 96])"
   ]
  },
  {
   "cell_type": "code",
   "execution_count": null,
   "id": "9f1df864",
   "metadata": {},
   "outputs": [],
   "source": []
  }
 ],
 "metadata": {
  "kernelspec": {
   "display_name": "Python 3 (ipykernel)",
   "language": "python",
   "name": "python3"
  },
  "language_info": {
   "codemirror_mode": {
    "name": "ipython",
    "version": 3
   },
   "file_extension": ".py",
   "mimetype": "text/x-python",
   "name": "python",
   "nbconvert_exporter": "python",
   "pygments_lexer": "ipython3",
   "version": "3.10.6"
  }
 },
 "nbformat": 4,
 "nbformat_minor": 5
}
