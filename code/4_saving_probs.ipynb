{
 "cells": [
  {
   "cell_type": "code",
   "execution_count": 1,
   "id": "ca23de2a",
   "metadata": {},
   "outputs": [],
   "source": [
    "import numpy as np\n",
    "import matplotlib.pyplot as plt\n",
    "import time\n",
    "import random\n",
    "import torch\n",
    "import json\n",
    "\n",
    "from tqdm import tqdm\n",
    "from skimage.color import rgb2lab, lab2rgb\n",
    "from typing import List\n",
    "\n",
    "from src.utils import *\n",
    "from src.refine_transform import *\n",
    "from src.find_transform import *\n",
    "from src.visualize import *\n",
    "from src.shape_align import *\n",
    "from src.fragment_comparator import *"
   ]
  },
  {
   "cell_type": "code",
   "execution_count": 2,
   "id": "1e4bb713",
   "metadata": {},
   "outputs": [],
   "source": [
    "data_dir = '../../dataset'\n",
    "palette = np.array([[4.83058360e+01, -4.28336049e+00, -1.04226657e+00],\n",
    "                    [7.28763389e+01,  1.10190913e+01,  2.91083397e+01],\n",
    "                    [1.93975643e+01,  8.21757008e+00, -6.52862709e+00],\n",
    "                    [6.12470461e+01,  6.38868771e+00,  1.05191202e+01],\n",
    "                    [8.70237508e+01,  2.60029629e+00,  6.34060233e+00],\n",
    "                    [3.84328672e+01,  2.22768163e+01,  1.17465682e+00],\n",
    "                    [3.29131583e+01,  3.06846260e-02, -6.19825618e+00]])"
   ]
  },
  {
   "cell_type": "code",
   "execution_count": 6,
   "id": "82288640",
   "metadata": {},
   "outputs": [],
   "source": [
    "i1, i2 = 59, 60"
   ]
  },
  {
   "cell_type": "code",
   "execution_count": 8,
   "id": "1fe2e1b7",
   "metadata": {
    "scrolled": true
   },
   "outputs": [
    {
     "name": "stdout",
     "output_type": "stream",
     "text": [
      "Aligning 59 and 60\n",
      "new diag score is estimated\n"
     ]
    },
    {
     "name": "stderr",
     "output_type": "stream",
     "text": [
      "100%|███████████████████████████████████████████████████████████████████████████████| 3234/3234 [00:37<00:00, 87.23it/s]\n"
     ]
    },
    {
     "name": "stdout",
     "output_type": "stream",
     "text": [
      "29\n",
      "8\n",
      "theta = -0.0, x_initial = 388, y_initial = 287\n"
     ]
    },
    {
     "name": "stderr",
     "output_type": "stream",
     "text": [
      "100%|█████████████████████████████████████████████████████████████████████████████████| 121/121 [00:01<00:00, 71.78it/s]\n",
      "0it [00:00, ?it/s]\n",
      "100%|█████████████████████████████████████████████████████████████████████████████████| 121/121 [00:01<00:00, 71.77it/s]\n",
      "0it [00:00, ?it/s]\n",
      "100%|█████████████████████████████████████████████████████████████████████████████████| 121/121 [00:01<00:00, 75.41it/s]\n",
      "100%|███████████████████████████████████████████████████████████████████████████████████| 72/72 [00:04<00:00, 17.62it/s]\n",
      "100%|█████████████████████████████████████████████████████████████████████████████████| 121/121 [00:01<00:00, 87.60it/s]\n",
      "100%|███████████████████████████████████████████████████████████████████████████████████| 99/99 [00:05<00:00, 17.32it/s]\n",
      "100%|█████████████████████████████████████████████████████████████████████████████████| 121/121 [00:01<00:00, 71.37it/s]\n",
      "100%|███████████████████████████████████████████████████████████████████████████████████| 63/63 [00:03<00:00, 17.17it/s]\n",
      "100%|█████████████████████████████████████████████████████████████████████████████████| 121/121 [00:01<00:00, 90.69it/s]\n",
      "0it [00:00, ?it/s]\n",
      "100%|█████████████████████████████████████████████████████████████████████████████████| 121/121 [00:01<00:00, 76.04it/s]\n",
      "0it [00:00, ?it/s]\n"
     ]
    },
    {
     "name": "stdout",
     "output_type": "stream",
     "text": [
      "theta = -46.13661821040936, x_initial = -8, y_initial = 379\n"
     ]
    },
    {
     "name": "stderr",
     "output_type": "stream",
     "text": [
      "100%|█████████████████████████████████████████████████████████████████████████████████| 121/121 [00:01<00:00, 77.79it/s]\n",
      "0it [00:00, ?it/s]\n",
      "100%|████████████████████████████████████████████████████████████████████████████████| 121/121 [00:01<00:00, 104.29it/s]\n",
      "0it [00:00, ?it/s]\n",
      "100%|█████████████████████████████████████████████████████████████████████████████████| 121/121 [00:01<00:00, 85.45it/s]\n",
      "0it [00:00, ?it/s]\n",
      "100%|█████████████████████████████████████████████████████████████████████████████████| 121/121 [00:01<00:00, 82.97it/s]\n",
      "0it [00:00, ?it/s]\n",
      "100%|█████████████████████████████████████████████████████████████████████████████████| 121/121 [00:01<00:00, 97.73it/s]\n",
      "0it [00:00, ?it/s]\n",
      "100%|█████████████████████████████████████████████████████████████████████████████████| 121/121 [00:01<00:00, 83.40it/s]\n",
      "0it [00:00, ?it/s]\n",
      "100%|█████████████████████████████████████████████████████████████████████████████████| 121/121 [00:01<00:00, 87.03it/s]\n",
      "0it [00:00, ?it/s]\n"
     ]
    },
    {
     "name": "stdout",
     "output_type": "stream",
     "text": [
      "theta = -72.83488574964552, x_initial = 173, y_initial = -274\n"
     ]
    },
    {
     "name": "stderr",
     "output_type": "stream",
     "text": [
      "100%|████████████████████████████████████████████████████████████████████████████████| 121/121 [00:01<00:00, 101.13it/s]\n",
      "0it [00:00, ?it/s]\n",
      "100%|█████████████████████████████████████████████████████████████████████████████████| 121/121 [00:01<00:00, 84.47it/s]\n",
      "0it [00:00, ?it/s]\n",
      "100%|█████████████████████████████████████████████████████████████████████████████████| 121/121 [00:01<00:00, 80.36it/s]\n",
      "0it [00:00, ?it/s]\n",
      "100%|█████████████████████████████████████████████████████████████████████████████████| 121/121 [00:01<00:00, 86.66it/s]\n",
      "0it [00:00, ?it/s]\n",
      "100%|█████████████████████████████████████████████████████████████████████████████████| 121/121 [00:01<00:00, 80.07it/s]\n",
      "0it [00:00, ?it/s]\n",
      "100%|█████████████████████████████████████████████████████████████████████████████████| 121/121 [00:01<00:00, 80.66it/s]\n",
      "0it [00:00, ?it/s]\n",
      "100%|████████████████████████████████████████████████████████████████████████████████| 121/121 [00:01<00:00, 100.71it/s]\n",
      "0it [00:00, ?it/s]\n"
     ]
    },
    {
     "name": "stdout",
     "output_type": "stream",
     "text": [
      "theta = -169.07627919865965, x_initial = -345, y_initial = -276\n"
     ]
    },
    {
     "name": "stderr",
     "output_type": "stream",
     "text": [
      "100%|█████████████████████████████████████████████████████████████████████████████████| 121/121 [00:01<00:00, 77.83it/s]\n",
      "0it [00:00, ?it/s]\n",
      "100%|█████████████████████████████████████████████████████████████████████████████████| 121/121 [00:01<00:00, 76.93it/s]\n",
      "0it [00:00, ?it/s]\n",
      "100%|█████████████████████████████████████████████████████████████████████████████████| 121/121 [00:01<00:00, 89.72it/s]\n",
      "0it [00:00, ?it/s]\n",
      "100%|█████████████████████████████████████████████████████████████████████████████████| 121/121 [00:01<00:00, 75.15it/s]\n",
      "0it [00:00, ?it/s]\n",
      "100%|█████████████████████████████████████████████████████████████████████████████████| 121/121 [00:01<00:00, 77.32it/s]\n",
      "0it [00:00, ?it/s]\n",
      "100%|█████████████████████████████████████████████████████████████████████████████████| 121/121 [00:01<00:00, 83.68it/s]\n",
      "0it [00:00, ?it/s]\n",
      "100%|█████████████████████████████████████████████████████████████████████████████████| 121/121 [00:01<00:00, 77.25it/s]\n",
      "0it [00:00, ?it/s]"
     ]
    },
    {
     "name": "stdout",
     "output_type": "stream",
     "text": [
      "Too far translations filtered out: 130\n",
      "Alignment time: 109.02206420898438\n"
     ]
    },
    {
     "name": "stderr",
     "output_type": "stream",
     "text": [
      "\n"
     ]
    }
   ],
   "source": [
    "comparator = FragmentComparator(blocks_num=6)\n",
    "translations = comparator.align_two_fragments_by_idx(i1, i2)"
   ]
  },
  {
   "cell_type": "code",
   "execution_count": 13,
   "id": "c0dbcb70",
   "metadata": {},
   "outputs": [],
   "source": [
    "pad_size=300\n",
    "frag1 = pad_fragment_to_size(build_fragment_from_directory(data_dir + f'/{i1}'), pad_size)\n",
    "frag2 = pad_fragment_to_size(build_fragment_from_directory(data_dir + f'/{i2}'), pad_size)\n",
    "frag2.fragment = frag2.fragment / 255"
   ]
  },
  {
   "cell_type": "code",
   "execution_count": 14,
   "id": "0f8b095d",
   "metadata": {},
   "outputs": [
    {
     "name": "stdout",
     "output_type": "stream",
     "text": [
      "1\n",
      "Confidence = 0.7709457522971401, translation = Translation(x=392, y=289, angle=0.0, confidence=0.7709457522971401, geom_score=0.9041911125625679)\n"
     ]
    },
    {
     "data": {
      "image/png": "[encoded data removed]",
      "text/plain": [
       "<Figure size 800x800 with 4 Axes>"
      ]
     },
     "metadata": {},
     "output_type": "display_data"
    }
   ],
   "source": [
    "print(len(translations))\n",
    "fig, axes = plt.subplots(nrows=2, ncols=2, figsize=(8, 8))\n",
    "for i, tr in enumerate(translations[:4]):\n",
    "    transformed = shift_fragment(rotate_fragment(frag1, tr.angle), tr.x, tr.y)\n",
    "    blended = blend_fragments(frag2, transformed)\n",
    "    axes[i // 2][i % 2].imshow(blended.fragment)\n",
    "    print(f\"Confidence = {tr.confidence}, translation = {tr}\")"
   ]
  },
  {
   "cell_type": "code",
   "execution_count": 23,
   "id": "ddf95c8c",
   "metadata": {
    "scrolled": true
   },
   "outputs": [
    {
     "name": "stdout",
     "output_type": "stream",
     "text": [
      "Aligning 3 and 5\n",
      "new diag score is estimated\n"
     ]
    },
    {
     "name": "stderr",
     "output_type": "stream",
     "text": [
      "100%|██████████████████████████████████████████████████████████████████████████████| 1818/1818 [00:03<00:00, 567.39it/s]\n"
     ]
    },
    {
     "name": "stdout",
     "output_type": "stream",
     "text": [
      "17\n",
      "5\n",
      "theta = -136.16286469046284, x_initial = 34, y_initial = 152\n"
     ]
    },
    {
     "name": "stderr",
     "output_type": "stream",
     "text": [
      "100%|████████████████████████████████████████████████████████████████████████████████| 121/121 [00:00<00:00, 279.82it/s]\n",
      "100%|███████████████████████████████████████████████████████████████████████████████████| 90/90 [00:01<00:00, 52.07it/s]\n",
      "100%|████████████████████████████████████████████████████████████████████████████████| 121/121 [00:00<00:00, 292.57it/s]\n",
      "100%|█████████████████████████████████████████████████████████████████████████████████| 162/162 [00:02<00:00, 58.34it/s]\n",
      "100%|████████████████████████████████████████████████████████████████████████████████| 121/121 [00:00<00:00, 286.24it/s]\n",
      "100%|█████████████████████████████████████████████████████████████████████████████████| 171/171 [00:03<00:00, 48.77it/s]\n",
      "100%|████████████████████████████████████████████████████████████████████████████████| 121/121 [00:00<00:00, 304.77it/s]\n",
      "100%|█████████████████████████████████████████████████████████████████████████████████| 234/234 [00:04<00:00, 56.41it/s]\n",
      "100%|████████████████████████████████████████████████████████████████████████████████| 121/121 [00:00<00:00, 308.01it/s]\n",
      "100%|█████████████████████████████████████████████████████████████████████████████████| 207/207 [00:03<00:00, 57.37it/s]\n",
      "100%|████████████████████████████████████████████████████████████████████████████████| 121/121 [00:00<00:00, 305.99it/s]\n",
      "100%|█████████████████████████████████████████████████████████████████████████████████| 153/153 [00:02<00:00, 55.48it/s]\n",
      "100%|████████████████████████████████████████████████████████████████████████████████| 121/121 [00:00<00:00, 308.09it/s]\n",
      "100%|█████████████████████████████████████████████████████████████████████████████████| 135/135 [00:02<00:00, 57.48it/s]\n"
     ]
    },
    {
     "name": "stdout",
     "output_type": "stream",
     "text": [
      "theta = -140.60599656178593, x_initial = -162, y_initial = -87\n"
     ]
    },
    {
     "name": "stderr",
     "output_type": "stream",
     "text": [
      "100%|████████████████████████████████████████████████████████████████████████████████| 121/121 [00:00<00:00, 276.39it/s]\n",
      "0it [00:00, ?it/s]\n",
      "100%|████████████████████████████████████████████████████████████████████████████████| 121/121 [00:00<00:00, 279.78it/s]\n",
      "100%|███████████████████████████████████████████████████████████████████████████████████| 81/81 [00:01<00:00, 61.18it/s]\n",
      "100%|████████████████████████████████████████████████████████████████████████████████| 121/121 [00:00<00:00, 230.69it/s]\n",
      "100%|█████████████████████████████████████████████████████████████████████████████████| 135/135 [00:02<00:00, 57.46it/s]\n",
      "100%|████████████████████████████████████████████████████████████████████████████████| 121/121 [00:00<00:00, 260.42it/s]\n",
      "100%|█████████████████████████████████████████████████████████████████████████████████| 216/216 [00:03<00:00, 54.20it/s]\n",
      "100%|████████████████████████████████████████████████████████████████████████████████| 121/121 [00:00<00:00, 243.52it/s]\n",
      "100%|█████████████████████████████████████████████████████████████████████████████████| 198/198 [00:03<00:00, 51.21it/s]\n",
      "100%|████████████████████████████████████████████████████████████████████████████████| 121/121 [00:00<00:00, 262.86it/s]\n",
      "100%|█████████████████████████████████████████████████████████████████████████████████| 135/135 [00:02<00:00, 54.88it/s]\n",
      "100%|████████████████████████████████████████████████████████████████████████████████| 121/121 [00:00<00:00, 263.82it/s]\n",
      "100%|█████████████████████████████████████████████████████████████████████████████████| 108/108 [00:01<00:00, 58.14it/s]\n"
     ]
    },
    {
     "name": "stdout",
     "output_type": "stream",
     "text": [
      "theta = -117.66342121351923, x_initial = -20, y_initial = 141\n"
     ]
    },
    {
     "name": "stderr",
     "output_type": "stream",
     "text": [
      "100%|████████████████████████████████████████████████████████████████████████████████| 121/121 [00:00<00:00, 285.15it/s]\n",
      "100%|█████████████████████████████████████████████████████████████████████████████████| 144/144 [00:02<00:00, 55.52it/s]\n",
      "100%|████████████████████████████████████████████████████████████████████████████████| 121/121 [00:00<00:00, 295.22it/s]\n",
      "100%|█████████████████████████████████████████████████████████████████████████████████| 153/153 [00:02<00:00, 52.81it/s]\n",
      "100%|████████████████████████████████████████████████████████████████████████████████| 121/121 [00:00<00:00, 292.63it/s]\n",
      "100%|███████████████████████████████████████████████████████████████████████████████████| 90/90 [00:01<00:00, 55.35it/s]\n",
      "100%|████████████████████████████████████████████████████████████████████████████████| 121/121 [00:00<00:00, 280.00it/s]\n",
      "100%|███████████████████████████████████████████████████████████████████████████████████| 36/36 [00:00<00:00, 58.12it/s]\n",
      "100%|████████████████████████████████████████████████████████████████████████████████| 121/121 [00:00<00:00, 299.57it/s]\n",
      "0it [00:00, ?it/s]\n",
      "100%|████████████████████████████████████████████████████████████████████████████████| 121/121 [00:00<00:00, 300.29it/s]\n",
      "0it [00:00, ?it/s]\n",
      "100%|████████████████████████████████████████████████████████████████████████████████| 121/121 [00:00<00:00, 297.38it/s]\n",
      "0it [00:00, ?it/s]\n"
     ]
    },
    {
     "name": "stdout",
     "output_type": "stream",
     "text": [
      "theta = -128.5743314045058, x_initial = -108, y_initial = -146\n"
     ]
    },
    {
     "name": "stderr",
     "output_type": "stream",
     "text": [
      "100%|████████████████████████████████████████████████████████████████████████████████| 121/121 [00:00<00:00, 272.38it/s]\n",
      "0it [00:00, ?it/s]\n",
      "100%|████████████████████████████████████████████████████████████████████████████████| 121/121 [00:00<00:00, 232.66it/s]\n",
      "0it [00:00, ?it/s]\n",
      "100%|████████████████████████████████████████████████████████████████████████████████| 121/121 [00:00<00:00, 248.34it/s]\n",
      "0it [00:00, ?it/s]\n",
      "100%|████████████████████████████████████████████████████████████████████████████████| 121/121 [00:00<00:00, 249.13it/s]\n",
      "0it [00:00, ?it/s]\n",
      "100%|████████████████████████████████████████████████████████████████████████████████| 121/121 [00:00<00:00, 214.55it/s]\n",
      "0it [00:00, ?it/s]\n",
      "100%|████████████████████████████████████████████████████████████████████████████████| 121/121 [00:00<00:00, 193.19it/s]\n",
      "0it [00:00, ?it/s]\n",
      "100%|████████████████████████████████████████████████████████████████████████████████| 121/121 [00:00<00:00, 264.24it/s]\n",
      "0it [00:00, ?it/s]\n"
     ]
    },
    {
     "name": "stdout",
     "output_type": "stream",
     "text": [
      "Too far translations filtered out: 2016\n",
      "Alignment time: 65.73392939567566\n",
      "Length: 5\n",
      "Aligning 3 and 6\n",
      "new diag score is estimated\n"
     ]
    },
    {
     "name": "stderr",
     "output_type": "stream",
     "text": [
      "100%|██████████████████████████████████████████████████████████████████████████████| 1818/1818 [00:03<00:00, 486.82it/s]\n"
     ]
    },
    {
     "name": "stdout",
     "output_type": "stream",
     "text": [
      "14\n",
      "5\n",
      "theta = -55.796757903889336, x_initial = 168, y_initial = 55\n"
     ]
    },
    {
     "name": "stderr",
     "output_type": "stream",
     "text": [
      "100%|████████████████████████████████████████████████████████████████████████████████| 121/121 [00:00<00:00, 291.75it/s]\n",
      "0it [00:00, ?it/s]\n",
      "100%|████████████████████████████████████████████████████████████████████████████████| 121/121 [00:00<00:00, 276.53it/s]\n",
      "0it [00:00, ?it/s]\n",
      "100%|████████████████████████████████████████████████████████████████████████████████| 121/121 [00:00<00:00, 228.17it/s]\n",
      "0it [00:00, ?it/s]\n",
      "100%|████████████████████████████████████████████████████████████████████████████████| 121/121 [00:00<00:00, 246.64it/s]\n",
      "0it [00:00, ?it/s]\n",
      "100%|████████████████████████████████████████████████████████████████████████████████| 121/121 [00:00<00:00, 256.72it/s]\n",
      "0it [00:00, ?it/s]\n",
      "100%|████████████████████████████████████████████████████████████████████████████████| 121/121 [00:00<00:00, 269.27it/s]\n",
      "0it [00:00, ?it/s]\n",
      "100%|████████████████████████████████████████████████████████████████████████████████| 121/121 [00:00<00:00, 286.31it/s]\n",
      "0it [00:00, ?it/s]\n"
     ]
    },
    {
     "name": "stdout",
     "output_type": "stream",
     "text": [
      "theta = -115.00146970233826, x_initial = -162, y_initial = -85\n"
     ]
    },
    {
     "name": "stderr",
     "output_type": "stream",
     "text": [
      "100%|████████████████████████████████████████████████████████████████████████████████| 121/121 [00:00<00:00, 280.33it/s]\n",
      "100%|███████████████████████████████████████████████████████████████████████████████████| 90/90 [00:01<00:00, 50.25it/s]\n",
      "100%|████████████████████████████████████████████████████████████████████████████████| 121/121 [00:00<00:00, 267.36it/s]\n",
      "100%|█████████████████████████████████████████████████████████████████████████████████| 117/117 [00:02<00:00, 49.17it/s]\n",
      "100%|████████████████████████████████████████████████████████████████████████████████| 121/121 [00:00<00:00, 275.91it/s]\n",
      "100%|█████████████████████████████████████████████████████████████████████████████████| 144/144 [00:03<00:00, 43.00it/s]\n",
      "100%|████████████████████████████████████████████████████████████████████████████████| 121/121 [00:00<00:00, 227.35it/s]\n",
      "100%|█████████████████████████████████████████████████████████████████████████████████| 180/180 [00:03<00:00, 50.55it/s]\n",
      "100%|████████████████████████████████████████████████████████████████████████████████| 121/121 [00:00<00:00, 237.71it/s]\n",
      "100%|█████████████████████████████████████████████████████████████████████████████████| 216/216 [00:04<00:00, 50.52it/s]\n",
      "100%|████████████████████████████████████████████████████████████████████████████████| 121/121 [00:00<00:00, 216.85it/s]\n",
      "100%|█████████████████████████████████████████████████████████████████████████████████| 153/153 [00:03<00:00, 48.23it/s]\n",
      "100%|████████████████████████████████████████████████████████████████████████████████| 121/121 [00:00<00:00, 205.03it/s]\n",
      "100%|█████████████████████████████████████████████████████████████████████████████████| 144/144 [00:02<00:00, 49.38it/s]\n"
     ]
    },
    {
     "name": "stdout",
     "output_type": "stream",
     "text": [
      "theta = -69.72882633717774, x_initial = 113, y_initial = 40\n"
     ]
    },
    {
     "name": "stderr",
     "output_type": "stream",
     "text": [
      "100%|████████████████████████████████████████████████████████████████████████████████| 121/121 [00:00<00:00, 294.59it/s]\n",
      "100%|███████████████████████████████████████████████████████████████████████████████████| 36/36 [00:00<00:00, 75.07it/s]\n",
      "100%|████████████████████████████████████████████████████████████████████████████████| 121/121 [00:00<00:00, 287.07it/s]\n",
      "100%|███████████████████████████████████████████████████████████████████████████████████| 81/81 [00:01<00:00, 54.73it/s]\n",
      "100%|████████████████████████████████████████████████████████████████████████████████| 121/121 [00:00<00:00, 255.25it/s]\n",
      "100%|█████████████████████████████████████████████████████████████████████████████████| 153/153 [00:02<00:00, 55.38it/s]\n",
      "100%|████████████████████████████████████████████████████████████████████████████████| 121/121 [00:00<00:00, 280.30it/s]\n",
      "100%|█████████████████████████████████████████████████████████████████████████████████| 198/198 [00:03<00:00, 53.75it/s]\n",
      "100%|████████████████████████████████████████████████████████████████████████████████| 121/121 [00:00<00:00, 282.64it/s]\n",
      "100%|█████████████████████████████████████████████████████████████████████████████████| 207/207 [00:03<00:00, 54.90it/s]\n",
      "100%|████████████████████████████████████████████████████████████████████████████████| 121/121 [00:00<00:00, 284.32it/s]\n",
      "100%|█████████████████████████████████████████████████████████████████████████████████| 171/171 [00:03<00:00, 54.27it/s]\n",
      "100%|████████████████████████████████████████████████████████████████████████████████| 121/121 [00:00<00:00, 289.85it/s]\n",
      "100%|███████████████████████████████████████████████████████████████████████████████████| 54/54 [00:00<00:00, 57.13it/s]\n"
     ]
    },
    {
     "name": "stdout",
     "output_type": "stream",
     "text": [
      "theta = -116.6331187491559, x_initial = -90, y_initial = -135\n"
     ]
    },
    {
     "name": "stderr",
     "output_type": "stream",
     "text": [
      "100%|████████████████████████████████████████████████████████████████████████████████| 121/121 [00:00<00:00, 275.37it/s]\n",
      "0it [00:00, ?it/s]\n",
      "100%|████████████████████████████████████████████████████████████████████████████████| 121/121 [00:00<00:00, 273.23it/s]\n",
      "0it [00:00, ?it/s]\n",
      "100%|████████████████████████████████████████████████████████████████████████████████| 121/121 [00:00<00:00, 269.48it/s]\n",
      "0it [00:00, ?it/s]\n",
      "100%|████████████████████████████████████████████████████████████████████████████████| 121/121 [00:00<00:00, 273.82it/s]\n",
      "0it [00:00, ?it/s]\n",
      "100%|████████████████████████████████████████████████████████████████████████████████| 121/121 [00:00<00:00, 274.27it/s]\n",
      "0it [00:00, ?it/s]\n",
      "100%|████████████████████████████████████████████████████████████████████████████████| 121/121 [00:00<00:00, 275.59it/s]\n",
      "0it [00:00, ?it/s]\n",
      "100%|████████████████████████████████████████████████████████████████████████████████| 121/121 [00:00<00:00, 274.62it/s]\n",
      "0it [00:00, ?it/s]\n"
     ]
    },
    {
     "name": "stdout",
     "output_type": "stream",
     "text": [
      "Too far translations filtered out: 1474\n",
      "Alignment time: 59.46277737617493\n",
      "Length: 4\n",
      "Aligning 3 and 7\n",
      "new diag score is estimated\n"
     ]
    },
    {
     "name": "stderr",
     "output_type": "stream",
     "text": [
      "100%|██████████████████████████████████████████████████████████████████████████████| 1818/1818 [00:07<00:00, 236.88it/s]\n"
     ]
    },
    {
     "name": "stdout",
     "output_type": "stream",
     "text": [
      "4\n",
      "3\n",
      "theta = -56.22134486293237, x_initial = 205, y_initial = 100\n"
     ]
    },
    {
     "name": "stderr",
     "output_type": "stream",
     "text": [
      "100%|████████████████████████████████████████████████████████████████████████████████| 121/121 [00:00<00:00, 224.56it/s]\n",
      "0it [00:00, ?it/s]\n",
      "100%|████████████████████████████████████████████████████████████████████████████████| 121/121 [00:00<00:00, 220.59it/s]\n",
      "0it [00:00, ?it/s]\n",
      "100%|████████████████████████████████████████████████████████████████████████████████| 121/121 [00:00<00:00, 225.31it/s]\n",
      "0it [00:00, ?it/s]\n",
      "100%|████████████████████████████████████████████████████████████████████████████████| 121/121 [00:00<00:00, 213.83it/s]\n",
      "0it [00:00, ?it/s]\n",
      "100%|████████████████████████████████████████████████████████████████████████████████| 121/121 [00:00<00:00, 226.98it/s]\n",
      "0it [00:00, ?it/s]\n",
      "100%|████████████████████████████████████████████████████████████████████████████████| 121/121 [00:00<00:00, 229.41it/s]\n",
      "0it [00:00, ?it/s]\n",
      "100%|████████████████████████████████████████████████████████████████████████████████| 121/121 [00:00<00:00, 218.96it/s]\n",
      "0it [00:00, ?it/s]\n"
     ]
    },
    {
     "name": "stdout",
     "output_type": "stream",
     "text": [
      "theta = -90.0, x_initial = -32, y_initial = -180\n"
     ]
    },
    {
     "name": "stderr",
     "output_type": "stream",
     "text": [
      "100%|████████████████████████████████████████████████████████████████████████████████| 121/121 [00:00<00:00, 241.14it/s]\n",
      "0it [00:00, ?it/s]\n",
      "100%|████████████████████████████████████████████████████████████████████████████████| 121/121 [00:00<00:00, 236.59it/s]\n",
      "0it [00:00, ?it/s]\n",
      "100%|████████████████████████████████████████████████████████████████████████████████| 121/121 [00:00<00:00, 242.41it/s]\n",
      "0it [00:00, ?it/s]\n",
      "100%|████████████████████████████████████████████████████████████████████████████████| 121/121 [00:00<00:00, 240.55it/s]\n",
      "0it [00:00, ?it/s]\n",
      "100%|████████████████████████████████████████████████████████████████████████████████| 121/121 [00:00<00:00, 242.62it/s]\n",
      "0it [00:00, ?it/s]\n",
      "100%|████████████████████████████████████████████████████████████████████████████████| 121/121 [00:00<00:00, 242.77it/s]\n",
      "0it [00:00, ?it/s]\n",
      "100%|████████████████████████████████████████████████████████████████████████████████| 121/121 [00:00<00:00, 237.57it/s]\n",
      "0it [00:00, ?it/s]\n"
     ]
    },
    {
     "name": "stdout",
     "output_type": "stream",
     "text": [
      "theta = -168.51198907410276, x_initial = -52, y_initial = -194\n"
     ]
    },
    {
     "name": "stderr",
     "output_type": "stream",
     "text": [
      "100%|████████████████████████████████████████████████████████████████████████████████| 121/121 [00:00<00:00, 226.63it/s]\n",
      "0it [00:00, ?it/s]\n",
      "100%|████████████████████████████████████████████████████████████████████████████████| 121/121 [00:00<00:00, 226.74it/s]\n",
      "0it [00:00, ?it/s]\n",
      "100%|████████████████████████████████████████████████████████████████████████████████| 121/121 [00:00<00:00, 232.37it/s]\n",
      "0it [00:00, ?it/s]\n",
      "100%|████████████████████████████████████████████████████████████████████████████████| 121/121 [00:00<00:00, 232.38it/s]\n",
      "0it [00:00, ?it/s]\n",
      "100%|████████████████████████████████████████████████████████████████████████████████| 121/121 [00:00<00:00, 227.65it/s]\n",
      "0it [00:00, ?it/s]\n",
      "100%|████████████████████████████████████████████████████████████████████████████████| 121/121 [00:00<00:00, 225.47it/s]\n",
      "0it [00:00, ?it/s]\n",
      "100%|████████████████████████████████████████████████████████████████████████████████| 121/121 [00:00<00:00, 225.33it/s]\n",
      "0it [00:00, ?it/s]\n"
     ]
    },
    {
     "name": "stdout",
     "output_type": "stream",
     "text": [
      "Alignment time: 23.791929244995117\n",
      "Length: 0\n",
      "Aligning 3 and 8\n",
      "new diag score is estimated\n"
     ]
    },
    {
     "name": "stderr",
     "output_type": "stream",
     "text": [
      "100%|██████████████████████████████████████████████████████████████████████████████| 1818/1818 [00:04<00:00, 382.29it/s]\n"
     ]
    },
    {
     "name": "stdout",
     "output_type": "stream",
     "text": [
      "18\n",
      "7\n",
      "theta = -114.66832857940435, x_initial = -169, y_initial = 106\n"
     ]
    },
    {
     "name": "stderr",
     "output_type": "stream",
     "text": [
      "100%|████████████████████████████████████████████████████████████████████████████████| 121/121 [00:00<00:00, 268.79it/s]\n",
      "100%|███████████████████████████████████████████████████████████████████████████████████| 90/90 [00:01<00:00, 55.54it/s]\n",
      "100%|████████████████████████████████████████████████████████████████████████████████| 121/121 [00:00<00:00, 270.63it/s]\n",
      "100%|█████████████████████████████████████████████████████████████████████████████████| 153/153 [00:02<00:00, 57.33it/s]\n",
      "100%|████████████████████████████████████████████████████████████████████████████████| 121/121 [00:00<00:00, 267.17it/s]\n",
      "100%|█████████████████████████████████████████████████████████████████████████████████| 189/189 [00:03<00:00, 52.91it/s]\n",
      "100%|████████████████████████████████████████████████████████████████████████████████| 121/121 [00:00<00:00, 267.33it/s]\n",
      "100%|█████████████████████████████████████████████████████████████████████████████████| 234/234 [00:04<00:00, 54.26it/s]\n",
      "100%|████████████████████████████████████████████████████████████████████████████████| 121/121 [00:00<00:00, 261.46it/s]\n",
      "100%|█████████████████████████████████████████████████████████████████████████████████| 153/153 [00:02<00:00, 53.99it/s]\n",
      "100%|████████████████████████████████████████████████████████████████████████████████| 121/121 [00:00<00:00, 266.12it/s]\n",
      "100%|█████████████████████████████████████████████████████████████████████████████████| 117/117 [00:02<00:00, 57.65it/s]\n",
      "100%|████████████████████████████████████████████████████████████████████████████████| 121/121 [00:00<00:00, 269.89it/s]\n",
      "100%|███████████████████████████████████████████████████████████████████████████████████| 45/45 [00:00<00:00, 57.73it/s]\n"
     ]
    },
    {
     "name": "stdout",
     "output_type": "stream",
     "text": [
      "theta = -180.0, x_initial = -125, y_initial = 65\n"
     ]
    },
    {
     "name": "stderr",
     "output_type": "stream",
     "text": [
      "100%|████████████████████████████████████████████████████████████████████████████████| 121/121 [00:00<00:00, 284.58it/s]\n",
      "100%|███████████████████████████████████████████████████████████████████████████████████| 45/45 [00:00<00:00, 66.78it/s]\n",
      "100%|████████████████████████████████████████████████████████████████████████████████| 121/121 [00:00<00:00, 281.31it/s]\n",
      "100%|█████████████████████████████████████████████████████████████████████████████████| 117/117 [00:02<00:00, 57.22it/s]\n",
      "100%|████████████████████████████████████████████████████████████████████████████████| 121/121 [00:00<00:00, 280.45it/s]\n",
      "100%|█████████████████████████████████████████████████████████████████████████████████| 162/162 [00:02<00:00, 54.20it/s]\n",
      "100%|████████████████████████████████████████████████████████████████████████████████| 121/121 [00:00<00:00, 282.30it/s]\n",
      "100%|█████████████████████████████████████████████████████████████████████████████████| 198/198 [00:03<00:00, 54.17it/s]\n",
      "100%|████████████████████████████████████████████████████████████████████████████████| 121/121 [00:00<00:00, 281.10it/s]\n",
      "100%|█████████████████████████████████████████████████████████████████████████████████| 207/207 [00:03<00:00, 54.97it/s]\n",
      "100%|████████████████████████████████████████████████████████████████████████████████| 121/121 [00:00<00:00, 283.42it/s]\n",
      "100%|█████████████████████████████████████████████████████████████████████████████████| 117/117 [00:02<00:00, 57.21it/s]\n",
      "100%|████████████████████████████████████████████████████████████████████████████████| 121/121 [00:00<00:00, 283.83it/s]\n",
      "100%|███████████████████████████████████████████████████████████████████████████████████| 18/18 [00:00<00:00, 65.40it/s]\n"
     ]
    },
    {
     "name": "stdout",
     "output_type": "stream",
     "text": [
      "theta = -32.942609529561544, x_initial = -8, y_initial = 211\n"
     ]
    },
    {
     "name": "stderr",
     "output_type": "stream",
     "text": [
      "100%|████████████████████████████████████████████████████████████████████████████████| 121/121 [00:00<00:00, 283.48it/s]\n",
      "100%|███████████████████████████████████████████████████████████████████████████████████| 45/45 [00:00<00:00, 55.60it/s]\n",
      "100%|████████████████████████████████████████████████████████████████████████████████| 121/121 [00:00<00:00, 284.36it/s]\n",
      "100%|█████████████████████████████████████████████████████████████████████████████████| 108/108 [00:01<00:00, 55.37it/s]\n",
      "100%|████████████████████████████████████████████████████████████████████████████████| 121/121 [00:00<00:00, 278.64it/s]\n",
      "100%|█████████████████████████████████████████████████████████████████████████████████| 162/162 [00:02<00:00, 56.84it/s]\n",
      "100%|████████████████████████████████████████████████████████████████████████████████| 121/121 [00:00<00:00, 285.71it/s]\n",
      "100%|█████████████████████████████████████████████████████████████████████████████████| 180/180 [00:03<00:00, 57.49it/s]\n",
      "100%|████████████████████████████████████████████████████████████████████████████████| 121/121 [00:00<00:00, 286.05it/s]\n",
      "100%|█████████████████████████████████████████████████████████████████████████████████| 144/144 [00:02<00:00, 58.78it/s]\n",
      "100%|████████████████████████████████████████████████████████████████████████████████| 121/121 [00:00<00:00, 286.52it/s]\n",
      "100%|█████████████████████████████████████████████████████████████████████████████████| 108/108 [00:01<00:00, 60.80it/s]\n",
      "100%|████████████████████████████████████████████████████████████████████████████████| 121/121 [00:00<00:00, 290.13it/s]\n",
      "100%|███████████████████████████████████████████████████████████████████████████████████| 63/63 [00:00<00:00, 66.00it/s]\n"
     ]
    },
    {
     "name": "stdout",
     "output_type": "stream",
     "text": [
      "theta = -172.04812456934116, x_initial = -181, y_initial = 3\n"
     ]
    },
    {
     "name": "stderr",
     "output_type": "stream",
     "text": [
      "100%|████████████████████████████████████████████████████████████████████████████████| 121/121 [00:00<00:00, 274.19it/s]\n",
      "100%|█████████████████████████████████████████████████████████████████████████████████| 171/171 [00:03<00:00, 53.22it/s]\n",
      "100%|████████████████████████████████████████████████████████████████████████████████| 121/121 [00:00<00:00, 275.44it/s]\n",
      "100%|█████████████████████████████████████████████████████████████████████████████████| 198/198 [00:03<00:00, 54.13it/s]\n",
      "100%|████████████████████████████████████████████████████████████████████████████████| 121/121 [00:00<00:00, 261.47it/s]\n",
      "100%|█████████████████████████████████████████████████████████████████████████████████| 162/162 [00:02<00:00, 54.82it/s]\n",
      "100%|████████████████████████████████████████████████████████████████████████████████| 121/121 [00:00<00:00, 272.80it/s]\n",
      "100%|███████████████████████████████████████████████████████████████████████████████████| 81/81 [00:01<00:00, 57.43it/s]\n",
      "100%|████████████████████████████████████████████████████████████████████████████████| 121/121 [00:00<00:00, 272.56it/s]\n",
      "0it [00:00, ?it/s]\n",
      "100%|████████████████████████████████████████████████████████████████████████████████| 121/121 [00:00<00:00, 274.66it/s]\n",
      "0it [00:00, ?it/s]\n",
      "100%|████████████████████████████████████████████████████████████████████████████████| 121/121 [00:00<00:00, 272.99it/s]\n",
      "0it [00:00, ?it/s]\n"
     ]
    },
    {
     "name": "stdout",
     "output_type": "stream",
     "text": [
      "Too far translations filtered out: 2682\n",
      "Alignment time: 81.63055682182312\n",
      "Length: 7\n",
      "Aligning 3 and 9\n",
      "new diag score is estimated\n"
     ]
    },
    {
     "name": "stderr",
     "output_type": "stream",
     "text": [
      "100%|██████████████████████████████████████████████████████████████████████████████| 1818/1818 [00:10<00:00, 169.22it/s]\n"
     ]
    },
    {
     "name": "stdout",
     "output_type": "stream",
     "text": [
      "12\n",
      "5\n",
      "theta = -55.69234854420456, x_initial = 77, y_initial = -258\n"
     ]
    },
    {
     "name": "stderr",
     "output_type": "stream",
     "text": [
      "100%|████████████████████████████████████████████████████████████████████████████████| 121/121 [00:00<00:00, 164.88it/s]\n",
      "0it [00:00, ?it/s]\n",
      "100%|████████████████████████████████████████████████████████████████████████████████| 121/121 [00:00<00:00, 173.97it/s]\n",
      "0it [00:00, ?it/s]\n",
      "100%|████████████████████████████████████████████████████████████████████████████████| 121/121 [00:00<00:00, 173.55it/s]\n",
      "0it [00:00, ?it/s]\n",
      "100%|████████████████████████████████████████████████████████████████████████████████| 121/121 [00:00<00:00, 172.55it/s]\n",
      "0it [00:00, ?it/s]\n",
      "100%|████████████████████████████████████████████████████████████████████████████████| 121/121 [00:00<00:00, 170.00it/s]\n",
      "0it [00:00, ?it/s]\n",
      "100%|████████████████████████████████████████████████████████████████████████████████| 121/121 [00:00<00:00, 171.91it/s]\n",
      "0it [00:00, ?it/s]\n",
      "100%|████████████████████████████████████████████████████████████████████████████████| 121/121 [00:00<00:00, 172.98it/s]\n",
      "0it [00:00, ?it/s]\n"
     ]
    },
    {
     "name": "stdout",
     "output_type": "stream",
     "text": [
      "theta = -180.0, x_initial = 63, y_initial = -307\n"
     ]
    },
    {
     "name": "stderr",
     "output_type": "stream",
     "text": [
      "100%|████████████████████████████████████████████████████████████████████████████████| 121/121 [00:00<00:00, 167.43it/s]\n",
      "100%|███████████████████████████████████████████████████████████████████████████████████| 18/18 [00:00<00:00, 59.71it/s]\n",
      "100%|████████████████████████████████████████████████████████████████████████████████| 121/121 [00:00<00:00, 170.62it/s]\n",
      "100%|█████████████████████████████████████████████████████████████████████████████████| 117/117 [00:03<00:00, 38.37it/s]\n",
      "100%|████████████████████████████████████████████████████████████████████████████████| 121/121 [00:00<00:00, 166.69it/s]\n",
      "100%|█████████████████████████████████████████████████████████████████████████████████| 180/180 [00:04<00:00, 36.74it/s]\n",
      "100%|████████████████████████████████████████████████████████████████████████████████| 121/121 [00:00<00:00, 167.45it/s]\n",
      "100%|█████████████████████████████████████████████████████████████████████████████████| 162/162 [00:04<00:00, 35.38it/s]\n",
      "100%|████████████████████████████████████████████████████████████████████████████████| 121/121 [00:00<00:00, 168.94it/s]\n",
      "100%|█████████████████████████████████████████████████████████████████████████████████| 126/126 [00:03<00:00, 33.98it/s]\n",
      "100%|████████████████████████████████████████████████████████████████████████████████| 121/121 [00:00<00:00, 170.64it/s]\n",
      "100%|███████████████████████████████████████████████████████████████████████████████████| 72/72 [00:02<00:00, 33.63it/s]\n",
      "100%|████████████████████████████████████████████████████████████████████████████████| 121/121 [00:00<00:00, 168.79it/s]\n",
      "100%|███████████████████████████████████████████████████████████████████████████████████| 27/27 [00:00<00:00, 53.66it/s]\n"
     ]
    },
    {
     "name": "stdout",
     "output_type": "stream",
     "text": [
      "theta = -62.19743899677856, x_initial = 170, y_initial = 134\n"
     ]
    },
    {
     "name": "stderr",
     "output_type": "stream",
     "text": [
      "100%|████████████████████████████████████████████████████████████████████████████████| 121/121 [00:00<00:00, 182.04it/s]\n",
      "0it [00:00, ?it/s]\n",
      "100%|████████████████████████████████████████████████████████████████████████████████| 121/121 [00:00<00:00, 179.40it/s]\n",
      "0it [00:00, ?it/s]\n",
      "100%|████████████████████████████████████████████████████████████████████████████████| 121/121 [00:00<00:00, 181.51it/s]\n",
      "100%|███████████████████████████████████████████████████████████████████████████████████| 18/18 [00:00<00:00, 39.49it/s]\n",
      "100%|████████████████████████████████████████████████████████████████████████████████| 121/121 [00:00<00:00, 180.84it/s]\n",
      "100%|█████████████████████████████████████████████████████████████████████████████████| 126/126 [00:03<00:00, 35.76it/s]\n",
      "100%|████████████████████████████████████████████████████████████████████████████████| 121/121 [00:00<00:00, 182.72it/s]\n",
      "100%|███████████████████████████████████████████████████████████████████████████████████| 99/99 [00:02<00:00, 34.83it/s]\n",
      "100%|████████████████████████████████████████████████████████████████████████████████| 121/121 [00:00<00:00, 180.16it/s]\n",
      "100%|███████████████████████████████████████████████████████████████████████████████████| 72/72 [00:01<00:00, 45.03it/s]\n",
      "100%|████████████████████████████████████████████████████████████████████████████████| 121/121 [00:00<00:00, 182.62it/s]\n",
      "0it [00:00, ?it/s]\n"
     ]
    },
    {
     "name": "stdout",
     "output_type": "stream",
     "text": [
      "theta = -56.9318013668001, x_initial = 243, y_initial = 74\n"
     ]
    },
    {
     "name": "stderr",
     "output_type": "stream",
     "text": [
      "100%|████████████████████████████████████████████████████████████████████████████████| 121/121 [00:00<00:00, 175.57it/s]\n",
      "0it [00:00, ?it/s]\n",
      "100%|████████████████████████████████████████████████████████████████████████████████| 121/121 [00:00<00:00, 168.61it/s]\n",
      "0it [00:00, ?it/s]\n",
      "100%|████████████████████████████████████████████████████████████████████████████████| 121/121 [00:00<00:00, 174.55it/s]\n",
      "0it [00:00, ?it/s]\n",
      "100%|████████████████████████████████████████████████████████████████████████████████| 121/121 [00:00<00:00, 174.93it/s]\n",
      "0it [00:00, ?it/s]\n",
      "100%|████████████████████████████████████████████████████████████████████████████████| 121/121 [00:00<00:00, 175.35it/s]\n",
      "0it [00:00, ?it/s]\n",
      "100%|████████████████████████████████████████████████████████████████████████████████| 121/121 [00:00<00:00, 176.55it/s]\n",
      "0it [00:00, ?it/s]\n",
      "100%|████████████████████████████████████████████████████████████████████████████████| 121/121 [00:00<00:00, 170.44it/s]\n",
      "0it [00:00, ?it/s]\n"
     ]
    },
    {
     "name": "stdout",
     "output_type": "stream",
     "text": [
      "Too far translations filtered out: 314\n",
      "Alignment time: 65.46222066879272\n",
      "Length: 5\n",
      "Aligning 3 and 10\n",
      "new diag score is estimated\n"
     ]
    },
    {
     "name": "stderr",
     "output_type": "stream",
     "text": [
      "100%|██████████████████████████████████████████████████████████████████████████████| 1818/1818 [00:05<00:00, 355.65it/s]\n"
     ]
    },
    {
     "name": "stdout",
     "output_type": "stream",
     "text": [
      "8\n",
      "2\n",
      "theta = -61.103986035202176, x_initial = -35, y_initial = -166\n"
     ]
    },
    {
     "name": "stderr",
     "output_type": "stream",
     "text": [
      "100%|████████████████████████████████████████████████████████████████████████████████| 121/121 [00:00<00:00, 260.97it/s]\n",
      "0it [00:00, ?it/s]\n",
      "100%|████████████████████████████████████████████████████████████████████████████████| 121/121 [00:00<00:00, 286.22it/s]\n",
      "0it [00:00, ?it/s]\n",
      "100%|████████████████████████████████████████████████████████████████████████████████| 121/121 [00:00<00:00, 280.03it/s]\n",
      "0it [00:00, ?it/s]\n",
      "100%|████████████████████████████████████████████████████████████████████████████████| 121/121 [00:00<00:00, 282.98it/s]\n",
      "0it [00:00, ?it/s]\n",
      "100%|████████████████████████████████████████████████████████████████████████████████| 121/121 [00:00<00:00, 282.18it/s]\n",
      "0it [00:00, ?it/s]\n",
      "100%|████████████████████████████████████████████████████████████████████████████████| 121/121 [00:00<00:00, 274.91it/s]\n",
      "0it [00:00, ?it/s]\n",
      "100%|████████████████████████████████████████████████████████████████████████████████| 121/121 [00:00<00:00, 280.55it/s]\n",
      "0it [00:00, ?it/s]\n"
     ]
    },
    {
     "name": "stdout",
     "output_type": "stream",
     "text": [
      "theta = -0.0, x_initial = 116, y_initial = -118\n"
     ]
    },
    {
     "name": "stderr",
     "output_type": "stream",
     "text": [
      "100%|████████████████████████████████████████████████████████████████████████████████| 121/121 [00:00<00:00, 264.40it/s]\n",
      "0it [00:00, ?it/s]\n",
      "100%|████████████████████████████████████████████████████████████████████████████████| 121/121 [00:00<00:00, 275.66it/s]\n",
      "0it [00:00, ?it/s]\n",
      "100%|████████████████████████████████████████████████████████████████████████████████| 121/121 [00:00<00:00, 279.67it/s]\n",
      "0it [00:00, ?it/s]\n",
      "100%|████████████████████████████████████████████████████████████████████████████████| 121/121 [00:00<00:00, 277.75it/s]\n",
      "0it [00:00, ?it/s]\n",
      "100%|████████████████████████████████████████████████████████████████████████████████| 121/121 [00:00<00:00, 273.58it/s]\n",
      "0it [00:00, ?it/s]\n",
      "100%|████████████████████████████████████████████████████████████████████████████████| 121/121 [00:00<00:00, 277.12it/s]\n",
      "0it [00:00, ?it/s]\n",
      "100%|████████████████████████████████████████████████████████████████████████████████| 121/121 [00:00<00:00, 275.58it/s]\n",
      "0it [00:00, ?it/s]\n"
     ]
    },
    {
     "name": "stdout",
     "output_type": "stream",
     "text": [
      "Alignment time: 15.816333055496216\n",
      "Length: 0\n",
      "Aligning 3 and 11\n",
      "new diag score is estimated\n"
     ]
    },
    {
     "name": "stderr",
     "output_type": "stream",
     "text": [
      "100%|██████████████████████████████████████████████████████████████████████████████| 1818/1818 [00:08<00:00, 227.21it/s]\n"
     ]
    },
    {
     "name": "stdout",
     "output_type": "stream",
     "text": [
      "23\n",
      "5\n",
      "theta = -61.59693743422133, x_initial = 8, y_initial = -200\n"
     ]
    },
    {
     "name": "stderr",
     "output_type": "stream",
     "text": [
      "100%|████████████████████████████████████████████████████████████████████████████████| 121/121 [00:00<00:00, 197.64it/s]\n",
      "0it [00:00, ?it/s]\n",
      "100%|████████████████████████████████████████████████████████████████████████████████| 121/121 [00:00<00:00, 194.84it/s]\n",
      "0it [00:00, ?it/s]\n",
      "100%|████████████████████████████████████████████████████████████████████████████████| 121/121 [00:00<00:00, 198.50it/s]\n",
      "0it [00:00, ?it/s]\n",
      "100%|████████████████████████████████████████████████████████████████████████████████| 121/121 [00:00<00:00, 197.34it/s]\n",
      "0it [00:00, ?it/s]\n",
      "100%|████████████████████████████████████████████████████████████████████████████████| 121/121 [00:00<00:00, 195.77it/s]\n",
      "0it [00:00, ?it/s]\n",
      "100%|████████████████████████████████████████████████████████████████████████████████| 121/121 [00:00<00:00, 194.38it/s]\n",
      "0it [00:00, ?it/s]\n",
      "100%|████████████████████████████████████████████████████████████████████████████████| 121/121 [00:00<00:00, 198.54it/s]\n",
      "0it [00:00, ?it/s]\n"
     ]
    },
    {
     "name": "stdout",
     "output_type": "stream",
     "text": [
      "theta = -180.0, x_initial = -78, y_initial = -236\n"
     ]
    },
    {
     "name": "stderr",
     "output_type": "stream",
     "text": [
      "100%|████████████████████████████████████████████████████████████████████████████████| 121/121 [00:00<00:00, 178.47it/s]\n",
      "100%|███████████████████████████████████████████████████████████████████████████████████| 45/45 [00:01<00:00, 43.31it/s]\n",
      "100%|████████████████████████████████████████████████████████████████████████████████| 121/121 [00:00<00:00, 179.11it/s]\n",
      "100%|███████████████████████████████████████████████████████████████████████████████████| 72/72 [00:02<00:00, 32.77it/s]\n",
      "100%|████████████████████████████████████████████████████████████████████████████████| 121/121 [00:00<00:00, 177.24it/s]\n",
      "100%|███████████████████████████████████████████████████████████████████████████████████| 81/81 [00:01<00:00, 46.65it/s]\n",
      "100%|████████████████████████████████████████████████████████████████████████████████| 121/121 [00:00<00:00, 181.05it/s]\n",
      "100%|█████████████████████████████████████████████████████████████████████████████████████| 9/9 [00:00<00:00, 49.18it/s]\n",
      "100%|████████████████████████████████████████████████████████████████████████████████| 121/121 [00:00<00:00, 179.25it/s]\n",
      "100%|███████████████████████████████████████████████████████████████████████████████████| 18/18 [00:00<00:00, 38.33it/s]\n",
      "100%|████████████████████████████████████████████████████████████████████████████████| 121/121 [00:00<00:00, 179.07it/s]\n",
      "100%|███████████████████████████████████████████████████████████████████████████████████| 18/18 [00:00<00:00, 54.04it/s]\n",
      "100%|████████████████████████████████████████████████████████████████████████████████| 121/121 [00:00<00:00, 174.17it/s]\n",
      "100%|█████████████████████████████████████████████████████████████████████████████████████| 9/9 [00:00<00:00, 48.92it/s]\n"
     ]
    },
    {
     "name": "stdout",
     "output_type": "stream",
     "text": [
      "theta = -9.867758683018065, x_initial = 176, y_initial = 191\n"
     ]
    },
    {
     "name": "stderr",
     "output_type": "stream",
     "text": [
      "100%|████████████████████████████████████████████████████████████████████████████████| 121/121 [00:00<00:00, 173.07it/s]\n",
      "0it [00:00, ?it/s]\n",
      "100%|████████████████████████████████████████████████████████████████████████████████| 121/121 [00:00<00:00, 176.60it/s]\n",
      "0it [00:00, ?it/s]\n",
      "100%|████████████████████████████████████████████████████████████████████████████████| 121/121 [00:00<00:00, 176.53it/s]\n",
      "0it [00:00, ?it/s]\n",
      "100%|████████████████████████████████████████████████████████████████████████████████| 121/121 [00:00<00:00, 171.44it/s]\n",
      "0it [00:00, ?it/s]\n",
      "100%|████████████████████████████████████████████████████████████████████████████████| 121/121 [00:00<00:00, 172.17it/s]\n",
      "0it [00:00, ?it/s]\n",
      "100%|████████████████████████████████████████████████████████████████████████████████| 121/121 [00:00<00:00, 174.53it/s]\n",
      "100%|███████████████████████████████████████████████████████████████████████████████████| 90/90 [00:02<00:00, 37.02it/s]\n",
      "100%|████████████████████████████████████████████████████████████████████████████████| 121/121 [00:00<00:00, 156.44it/s]\n",
      "100%|███████████████████████████████████████████████████████████████████████████████████| 90/90 [00:02<00:00, 33.29it/s]\n"
     ]
    },
    {
     "name": "stdout",
     "output_type": "stream",
     "text": [
      "theta = -136.18665830708986, x_initial = 59, y_initial = 156\n"
     ]
    },
    {
     "name": "stderr",
     "output_type": "stream",
     "text": [
      "100%|████████████████████████████████████████████████████████████████████████████████| 121/121 [00:00<00:00, 166.43it/s]\n",
      "0it [00:00, ?it/s]\n",
      "100%|████████████████████████████████████████████████████████████████████████████████| 121/121 [00:00<00:00, 156.72it/s]\n",
      "0it [00:00, ?it/s]\n",
      "100%|████████████████████████████████████████████████████████████████████████████████| 121/121 [00:00<00:00, 161.50it/s]\n",
      "0it [00:00, ?it/s]\n",
      "100%|████████████████████████████████████████████████████████████████████████████████| 121/121 [00:00<00:00, 161.64it/s]\n",
      "0it [00:00, ?it/s]\n",
      "100%|████████████████████████████████████████████████████████████████████████████████| 121/121 [00:00<00:00, 167.74it/s]\n",
      "0it [00:00, ?it/s]\n",
      "100%|████████████████████████████████████████████████████████████████████████████████| 121/121 [00:00<00:00, 164.16it/s]\n",
      "0it [00:00, ?it/s]\n",
      "100%|████████████████████████████████████████████████████████████████████████████████| 121/121 [00:00<00:00, 167.15it/s]\n",
      "0it [00:00, ?it/s]\n"
     ]
    },
    {
     "name": "stdout",
     "output_type": "stream",
     "text": [
      "Too far translations filtered out: 192\n",
      "Alignment time: 47.0053493976593\n",
      "Length: 4\n",
      "Aligning 3 and 12\n",
      "new diag score is estimated\n"
     ]
    },
    {
     "name": "stderr",
     "output_type": "stream",
     "text": [
      "100%|██████████████████████████████████████████████████████████████████████████████| 1818/1818 [00:02<00:00, 621.54it/s]\n"
     ]
    },
    {
     "name": "stdout",
     "output_type": "stream",
     "text": [
      "11\n",
      "4\n",
      "theta = -157.44763729922215, x_initial = -28, y_initial = 140\n"
     ]
    },
    {
     "name": "stderr",
     "output_type": "stream",
     "text": [
      "100%|████████████████████████████████████████████████████████████████████████████████| 121/121 [00:00<00:00, 242.84it/s]\n",
      "100%|█████████████████████████████████████████████████████████████████████████████████| 117/117 [00:02<00:00, 51.51it/s]\n",
      "100%|████████████████████████████████████████████████████████████████████████████████| 121/121 [00:00<00:00, 278.21it/s]\n",
      "100%|█████████████████████████████████████████████████████████████████████████████████| 171/171 [00:03<00:00, 53.48it/s]\n",
      "100%|████████████████████████████████████████████████████████████████████████████████| 121/121 [00:00<00:00, 269.75it/s]\n",
      "100%|█████████████████████████████████████████████████████████████████████████████████| 207/207 [00:03<00:00, 52.47it/s]\n",
      "100%|████████████████████████████████████████████████████████████████████████████████| 121/121 [00:00<00:00, 277.55it/s]\n",
      "100%|█████████████████████████████████████████████████████████████████████████████████| 270/270 [00:04<00:00, 54.51it/s]\n",
      "100%|████████████████████████████████████████████████████████████████████████████████| 121/121 [00:00<00:00, 275.21it/s]\n",
      "100%|█████████████████████████████████████████████████████████████████████████████████| 225/225 [00:04<00:00, 52.38it/s]\n",
      "100%|████████████████████████████████████████████████████████████████████████████████| 121/121 [00:00<00:00, 277.23it/s]\n",
      "100%|█████████████████████████████████████████████████████████████████████████████████| 198/198 [00:03<00:00, 53.46it/s]\n",
      "100%|████████████████████████████████████████████████████████████████████████████████| 121/121 [00:00<00:00, 276.31it/s]\n",
      "100%|█████████████████████████████████████████████████████████████████████████████████| 171/171 [00:03<00:00, 56.04it/s]\n"
     ]
    },
    {
     "name": "stdout",
     "output_type": "stream",
     "text": [
      "theta = -40.91207249706633, x_initial = 129, y_initial = 108\n"
     ]
    },
    {
     "name": "stderr",
     "output_type": "stream",
     "text": [
      "100%|████████████████████████████████████████████████████████████████████████████████| 121/121 [00:00<00:00, 256.64it/s]\n",
      "100%|█████████████████████████████████████████████████████████████████████████████████| 135/135 [00:02<00:00, 52.26it/s]\n",
      "100%|████████████████████████████████████████████████████████████████████████████████| 121/121 [00:00<00:00, 257.36it/s]\n",
      "100%|█████████████████████████████████████████████████████████████████████████████████| 144/144 [00:02<00:00, 49.34it/s]\n",
      "100%|████████████████████████████████████████████████████████████████████████████████| 121/121 [00:00<00:00, 261.64it/s]\n",
      "100%|█████████████████████████████████████████████████████████████████████████████████| 198/198 [00:03<00:00, 52.81it/s]\n",
      "100%|████████████████████████████████████████████████████████████████████████████████| 121/121 [00:00<00:00, 246.72it/s]\n",
      "100%|█████████████████████████████████████████████████████████████████████████████████| 234/234 [00:04<00:00, 51.97it/s]\n",
      "100%|████████████████████████████████████████████████████████████████████████████████| 121/121 [00:00<00:00, 258.94it/s]\n",
      "100%|█████████████████████████████████████████████████████████████████████████████████| 225/225 [00:04<00:00, 53.04it/s]\n",
      "100%|████████████████████████████████████████████████████████████████████████████████| 121/121 [00:00<00:00, 248.44it/s]\n",
      "100%|█████████████████████████████████████████████████████████████████████████████████| 144/144 [00:02<00:00, 54.89it/s]\n",
      "100%|████████████████████████████████████████████████████████████████████████████████| 121/121 [00:00<00:00, 251.99it/s]\n",
      "100%|███████████████████████████████████████████████████████████████████████████████████| 54/54 [00:01<00:00, 49.91it/s]\n"
     ]
    },
    {
     "name": "stdout",
     "output_type": "stream",
     "text": [
      "theta = -143.48619584509888, x_initial = -93, y_initial = 109\n"
     ]
    },
    {
     "name": "stderr",
     "output_type": "stream",
     "text": [
      "100%|████████████████████████████████████████████████████████████████████████████████| 121/121 [00:00<00:00, 260.38it/s]\n",
      "100%|█████████████████████████████████████████████████████████████████████████████████| 162/162 [00:03<00:00, 53.64it/s]\n",
      "100%|████████████████████████████████████████████████████████████████████████████████| 121/121 [00:00<00:00, 261.55it/s]\n",
      "100%|█████████████████████████████████████████████████████████████████████████████████| 180/180 [00:03<00:00, 51.21it/s]\n",
      "100%|████████████████████████████████████████████████████████████████████████████████| 121/121 [00:00<00:00, 265.70it/s]\n",
      "100%|█████████████████████████████████████████████████████████████████████████████████| 171/171 [00:03<00:00, 49.16it/s]\n",
      "100%|████████████████████████████████████████████████████████████████████████████████| 121/121 [00:00<00:00, 258.88it/s]\n",
      "100%|█████████████████████████████████████████████████████████████████████████████████| 108/108 [00:02<00:00, 52.62it/s]\n",
      "100%|████████████████████████████████████████████████████████████████████████████████| 121/121 [00:00<00:00, 267.41it/s]\n",
      "100%|███████████████████████████████████████████████████████████████████████████████████| 27/27 [00:00<00:00, 53.88it/s]\n",
      "100%|████████████████████████████████████████████████████████████████████████████████| 121/121 [00:00<00:00, 262.59it/s]\n",
      "0it [00:00, ?it/s]\n",
      "100%|████████████████████████████████████████████████████████████████████████████████| 121/121 [00:00<00:00, 255.16it/s]\n",
      "0it [00:00, ?it/s]\n"
     ]
    },
    {
     "name": "stdout",
     "output_type": "stream",
     "text": [
      "theta = -94.8622842250472, x_initial = -74, y_initial = -89\n"
     ]
    },
    {
     "name": "stderr",
     "output_type": "stream",
     "text": [
      "100%|████████████████████████████████████████████████████████████████████████████████| 121/121 [00:00<00:00, 268.57it/s]\n",
      "0it [00:00, ?it/s]\n",
      "100%|████████████████████████████████████████████████████████████████████████████████| 121/121 [00:00<00:00, 283.99it/s]\n",
      "0it [00:00, ?it/s]\n",
      "100%|████████████████████████████████████████████████████████████████████████████████| 121/121 [00:00<00:00, 278.83it/s]\n",
      "0it [00:00, ?it/s]\n",
      "100%|████████████████████████████████████████████████████████████████████████████████| 121/121 [00:00<00:00, 285.09it/s]\n",
      "0it [00:00, ?it/s]\n",
      "100%|████████████████████████████████████████████████████████████████████████████████| 121/121 [00:00<00:00, 286.52it/s]\n",
      "0it [00:00, ?it/s]\n",
      "100%|████████████████████████████████████████████████████████████████████████████████| 121/121 [00:00<00:00, 286.46it/s]\n",
      "0it [00:00, ?it/s]\n",
      "100%|████████████████████████████████████████████████████████████████████████████████| 121/121 [00:00<00:00, 280.66it/s]\n",
      "0it [00:00, ?it/s]\n"
     ]
    },
    {
     "name": "stdout",
     "output_type": "stream",
     "text": [
      "Too far translations filtered out: 2598\n",
      "Alignment time: 80.40064835548401\n",
      "Length: 5\n",
      "Aligning 3 and 14\n",
      "new diag score is estimated\n"
     ]
    },
    {
     "name": "stderr",
     "output_type": "stream",
     "text": [
      "100%|██████████████████████████████████████████████████████████████████████████████| 1818/1818 [00:07<00:00, 246.92it/s]\n"
     ]
    },
    {
     "name": "stdout",
     "output_type": "stream",
     "text": [
      "17\n",
      "4\n",
      "theta = -76.46289787449265, x_initial = -89, y_initial = -154\n"
     ]
    },
    {
     "name": "stderr",
     "output_type": "stream",
     "text": [
      "100%|████████████████████████████████████████████████████████████████████████████████| 121/121 [00:00<00:00, 214.18it/s]\n",
      "0it [00:00, ?it/s]\n",
      "100%|████████████████████████████████████████████████████████████████████████████████| 121/121 [00:00<00:00, 212.49it/s]\n",
      "0it [00:00, ?it/s]\n",
      "100%|████████████████████████████████████████████████████████████████████████████████| 121/121 [00:00<00:00, 215.75it/s]\n",
      "0it [00:00, ?it/s]\n",
      "100%|████████████████████████████████████████████████████████████████████████████████| 121/121 [00:00<00:00, 213.13it/s]\n",
      "0it [00:00, ?it/s]\n",
      "100%|████████████████████████████████████████████████████████████████████████████████| 121/121 [00:00<00:00, 201.77it/s]\n",
      "0it [00:00, ?it/s]\n",
      "100%|████████████████████████████████████████████████████████████████████████████████| 121/121 [00:00<00:00, 210.91it/s]\n",
      "0it [00:00, ?it/s]\n",
      "100%|████████████████████████████████████████████████████████████████████████████████| 121/121 [00:00<00:00, 210.82it/s]\n",
      "0it [00:00, ?it/s]\n"
     ]
    },
    {
     "name": "stdout",
     "output_type": "stream",
     "text": [
      "theta = -78.61929853992484, x_initial = 160, y_initial = 111\n"
     ]
    },
    {
     "name": "stderr",
     "output_type": "stream",
     "text": [
      "100%|████████████████████████████████████████████████████████████████████████████████| 121/121 [00:00<00:00, 211.44it/s]\n",
      "0it [00:00, ?it/s]\n",
      "100%|████████████████████████████████████████████████████████████████████████████████| 121/121 [00:00<00:00, 212.47it/s]\n",
      "100%|█████████████████████████████████████████████████████████████████████████████████████| 9/9 [00:00<00:00, 81.64it/s]\n",
      "100%|████████████████████████████████████████████████████████████████████████████████| 121/121 [00:00<00:00, 213.65it/s]\n",
      "100%|█████████████████████████████████████████████████████████████████████████████████| 117/117 [00:02<00:00, 46.83it/s]\n",
      "100%|████████████████████████████████████████████████████████████████████████████████| 121/121 [00:00<00:00, 213.84it/s]\n",
      "100%|█████████████████████████████████████████████████████████████████████████████████| 117/117 [00:02<00:00, 43.04it/s]\n",
      "100%|████████████████████████████████████████████████████████████████████████████████| 121/121 [00:00<00:00, 208.58it/s]\n",
      "100%|███████████████████████████████████████████████████████████████████████████████████| 90/90 [00:02<00:00, 41.31it/s]\n",
      "100%|████████████████████████████████████████████████████████████████████████████████| 121/121 [00:00<00:00, 213.78it/s]\n",
      "100%|███████████████████████████████████████████████████████████████████████████████████| 72/72 [00:01<00:00, 41.53it/s]\n",
      "100%|████████████████████████████████████████████████████████████████████████████████| 121/121 [00:00<00:00, 209.07it/s]\n",
      "100%|███████████████████████████████████████████████████████████████████████████████████| 18/18 [00:00<00:00, 46.70it/s]\n"
     ]
    },
    {
     "name": "stdout",
     "output_type": "stream",
     "text": [
      "theta = -147.20162105322763, x_initial = -253, y_initial = -85\n"
     ]
    },
    {
     "name": "stderr",
     "output_type": "stream",
     "text": [
      "100%|████████████████████████████████████████████████████████████████████████████████| 121/121 [00:00<00:00, 201.59it/s]\n",
      "0it [00:00, ?it/s]\n",
      "100%|████████████████████████████████████████████████████████████████████████████████| 121/121 [00:00<00:00, 198.28it/s]\n",
      "100%|███████████████████████████████████████████████████████████████████████████████████| 27/27 [00:00<00:00, 41.72it/s]\n",
      "100%|████████████████████████████████████████████████████████████████████████████████| 121/121 [00:00<00:00, 199.18it/s]\n",
      "100%|███████████████████████████████████████████████████████████████████████████████████| 72/72 [00:01<00:00, 46.74it/s]\n",
      "100%|████████████████████████████████████████████████████████████████████████████████| 121/121 [00:00<00:00, 200.87it/s]\n",
      "100%|███████████████████████████████████████████████████████████████████████████████████| 72/72 [00:01<00:00, 44.04it/s]\n",
      "100%|████████████████████████████████████████████████████████████████████████████████| 121/121 [00:00<00:00, 201.02it/s]\n",
      "100%|███████████████████████████████████████████████████████████████████████████████████| 99/99 [00:02<00:00, 48.97it/s]\n",
      "100%|████████████████████████████████████████████████████████████████████████████████| 121/121 [00:00<00:00, 198.89it/s]\n",
      "100%|███████████████████████████████████████████████████████████████████████████████████| 72/72 [00:01<00:00, 42.41it/s]\n",
      "100%|████████████████████████████████████████████████████████████████████████████████| 121/121 [00:00<00:00, 200.90it/s]\n",
      "100%|███████████████████████████████████████████████████████████████████████████████████| 36/36 [00:00<00:00, 48.47it/s]\n"
     ]
    },
    {
     "name": "stdout",
     "output_type": "stream",
     "text": [
      "theta = -60.67187220776588, x_initial = 22, y_initial = 202\n"
     ]
    },
    {
     "name": "stderr",
     "output_type": "stream",
     "text": [
      "100%|████████████████████████████████████████████████████████████████████████████████| 121/121 [00:00<00:00, 219.38it/s]\n",
      "0it [00:00, ?it/s]\n",
      "100%|████████████████████████████████████████████████████████████████████████████████| 121/121 [00:00<00:00, 222.48it/s]\n",
      "0it [00:00, ?it/s]\n",
      "100%|████████████████████████████████████████████████████████████████████████████████| 121/121 [00:00<00:00, 224.97it/s]\n",
      "0it [00:00, ?it/s]\n",
      "100%|████████████████████████████████████████████████████████████████████████████████| 121/121 [00:00<00:00, 223.36it/s]\n",
      "0it [00:00, ?it/s]\n",
      "100%|████████████████████████████████████████████████████████████████████████████████| 121/121 [00:00<00:00, 210.97it/s]\n",
      "0it [00:00, ?it/s]\n",
      "100%|████████████████████████████████████████████████████████████████████████████████| 121/121 [00:00<00:00, 222.89it/s]\n",
      "0it [00:00, ?it/s]\n",
      "100%|████████████████████████████████████████████████████████████████████████████████| 121/121 [00:00<00:00, 221.65it/s]\n",
      "0it [00:00, ?it/s]\n"
     ]
    },
    {
     "name": "stdout",
     "output_type": "stream",
     "text": [
      "Too far translations filtered out: 97\n",
      "Alignment time: 48.38594698905945\n",
      "Length: 4\n",
      "Aligning 3 and 15\n",
      "new diag score is estimated\n"
     ]
    },
    {
     "name": "stderr",
     "output_type": "stream",
     "text": [
      "100%|██████████████████████████████████████████████████████████████████████████████| 1818/1818 [00:07<00:00, 241.93it/s]\n"
     ]
    },
    {
     "name": "stdout",
     "output_type": "stream",
     "text": [
      "11\n",
      "5\n",
      "theta = -100.63689007030283, x_initial = -263, y_initial = 74\n"
     ]
    },
    {
     "name": "stderr",
     "output_type": "stream",
     "text": [
      "100%|████████████████████████████████████████████████████████████████████████████████| 121/121 [00:00<00:00, 213.84it/s]\n",
      "0it [00:00, ?it/s]\n",
      "100%|████████████████████████████████████████████████████████████████████████████████| 121/121 [00:00<00:00, 241.76it/s]\n",
      "0it [00:00, ?it/s]\n",
      "100%|████████████████████████████████████████████████████████████████████████████████| 121/121 [00:00<00:00, 238.67it/s]\n",
      "0it [00:00, ?it/s]\n",
      "100%|████████████████████████████████████████████████████████████████████████████████| 121/121 [00:00<00:00, 238.43it/s]\n",
      "0it [00:00, ?it/s]\n",
      "100%|████████████████████████████████████████████████████████████████████████████████| 121/121 [00:00<00:00, 239.17it/s]\n",
      "0it [00:00, ?it/s]\n",
      "100%|████████████████████████████████████████████████████████████████████████████████| 121/121 [00:00<00:00, 239.46it/s]\n",
      "0it [00:00, ?it/s]\n",
      "100%|████████████████████████████████████████████████████████████████████████████████| 121/121 [00:00<00:00, 235.26it/s]\n",
      "0it [00:00, ?it/s]\n"
     ]
    },
    {
     "name": "stdout",
     "output_type": "stream",
     "text": [
      "theta = -101.7090039588457, x_initial = 207, y_initial = 48\n"
     ]
    },
    {
     "name": "stderr",
     "output_type": "stream",
     "text": [
      "100%|████████████████████████████████████████████████████████████████████████████████| 121/121 [00:00<00:00, 252.67it/s]\n",
      "0it [00:00, ?it/s]\n",
      "100%|████████████████████████████████████████████████████████████████████████████████| 121/121 [00:00<00:00, 249.36it/s]\n",
      "0it [00:00, ?it/s]\n",
      "100%|████████████████████████████████████████████████████████████████████████████████| 121/121 [00:00<00:00, 250.10it/s]\n",
      "0it [00:00, ?it/s]\n",
      "100%|████████████████████████████████████████████████████████████████████████████████| 121/121 [00:00<00:00, 239.12it/s]\n",
      "0it [00:00, ?it/s]\n",
      "100%|████████████████████████████████████████████████████████████████████████████████| 121/121 [00:00<00:00, 250.62it/s]\n",
      "0it [00:00, ?it/s]\n",
      "100%|████████████████████████████████████████████████████████████████████████████████| 121/121 [00:00<00:00, 243.24it/s]\n",
      "0it [00:00, ?it/s]\n",
      "100%|████████████████████████████████████████████████████████████████████████████████| 121/121 [00:00<00:00, 249.30it/s]\n",
      "0it [00:00, ?it/s]\n"
     ]
    },
    {
     "name": "stdout",
     "output_type": "stream",
     "text": [
      "theta = -17.416393490063356, x_initial = -216, y_initial = -202\n"
     ]
    },
    {
     "name": "stderr",
     "output_type": "stream",
     "text": [
      "100%|████████████████████████████████████████████████████████████████████████████████| 121/121 [00:00<00:00, 222.67it/s]\n",
      "0it [00:00, ?it/s]\n",
      "100%|████████████████████████████████████████████████████████████████████████████████| 121/121 [00:00<00:00, 223.98it/s]\n",
      "0it [00:00, ?it/s]\n",
      "100%|████████████████████████████████████████████████████████████████████████████████| 121/121 [00:00<00:00, 225.48it/s]\n",
      "0it [00:00, ?it/s]\n",
      "100%|████████████████████████████████████████████████████████████████████████████████| 121/121 [00:00<00:00, 224.22it/s]\n",
      "0it [00:00, ?it/s]\n",
      "100%|████████████████████████████████████████████████████████████████████████████████| 121/121 [00:00<00:00, 226.24it/s]\n",
      "0it [00:00, ?it/s]\n",
      "100%|████████████████████████████████████████████████████████████████████████████████| 121/121 [00:00<00:00, 220.53it/s]\n",
      "0it [00:00, ?it/s]\n",
      "100%|████████████████████████████████████████████████████████████████████████████████| 121/121 [00:00<00:00, 225.50it/s]\n",
      "0it [00:00, ?it/s]\n"
     ]
    },
    {
     "name": "stdout",
     "output_type": "stream",
     "text": [
      "theta = -5.122739846707536, x_initial = 35, y_initial = 241\n"
     ]
    },
    {
     "name": "stderr",
     "output_type": "stream",
     "text": [
      "100%|████████████████████████████████████████████████████████████████████████████████| 121/121 [00:00<00:00, 249.39it/s]\n",
      "100%|███████████████████████████████████████████████████████████████████████████████████| 90/90 [00:01<00:00, 55.13it/s]\n",
      "100%|████████████████████████████████████████████████████████████████████████████████| 121/121 [00:00<00:00, 255.07it/s]\n",
      "100%|███████████████████████████████████████████████████████████████████████████████████| 99/99 [00:01<00:00, 50.92it/s]\n",
      "100%|████████████████████████████████████████████████████████████████████████████████| 121/121 [00:00<00:00, 246.86it/s]\n",
      "100%|███████████████████████████████████████████████████████████████████████████████████| 99/99 [00:01<00:00, 53.27it/s]\n",
      "100%|████████████████████████████████████████████████████████████████████████████████| 121/121 [00:00<00:00, 252.02it/s]\n",
      "100%|███████████████████████████████████████████████████████████████████████████████████| 90/90 [00:01<00:00, 50.63it/s]\n",
      "100%|████████████████████████████████████████████████████████████████████████████████| 121/121 [00:00<00:00, 248.98it/s]\n",
      "100%|███████████████████████████████████████████████████████████████████████████████████| 72/72 [00:01<00:00, 55.91it/s]\n",
      "100%|████████████████████████████████████████████████████████████████████████████████| 121/121 [00:00<00:00, 253.94it/s]\n",
      "100%|███████████████████████████████████████████████████████████████████████████████████| 36/36 [00:00<00:00, 53.36it/s]\n",
      "100%|████████████████████████████████████████████████████████████████████████████████| 121/121 [00:00<00:00, 253.84it/s]\n",
      "100%|███████████████████████████████████████████████████████████████████████████████████| 18/18 [00:00<00:00, 61.43it/s]\n"
     ]
    },
    {
     "name": "stdout",
     "output_type": "stream",
     "text": [
      "Too far translations filtered out: 121\n",
      "Alignment time: 37.1297287940979\n",
      "Length: 3\n",
      "Aligning 5 and 6\n",
      "new diag score is estimated\n"
     ]
    },
    {
     "name": "stderr",
     "output_type": "stream",
     "text": [
      "100%|████████████████████████████████████████████████████████████████████████████████| 764/764 [00:01<00:00, 535.29it/s]\n"
     ]
    },
    {
     "name": "stdout",
     "output_type": "stream",
     "text": [
      "11\n",
      "4\n",
      "theta = -25.345799913186006, x_initial = 64, y_initial = 37\n"
     ]
    },
    {
     "name": "stderr",
     "output_type": "stream",
     "text": [
      "100%|████████████████████████████████████████████████████████████████████████████████| 121/121 [00:00<00:00, 549.71it/s]\n",
      "0it [00:00, ?it/s]\n",
      "100%|████████████████████████████████████████████████████████████████████████████████| 121/121 [00:00<00:00, 540.60it/s]\n",
      "0it [00:00, ?it/s]\n",
      "100%|████████████████████████████████████████████████████████████████████████████████| 121/121 [00:00<00:00, 513.99it/s]\n",
      "0it [00:00, ?it/s]\n",
      "100%|████████████████████████████████████████████████████████████████████████████████| 121/121 [00:00<00:00, 549.76it/s]\n",
      "0it [00:00, ?it/s]\n",
      "100%|████████████████████████████████████████████████████████████████████████████████| 121/121 [00:00<00:00, 546.87it/s]\n",
      "0it [00:00, ?it/s]\n",
      "100%|████████████████████████████████████████████████████████████████████████████████| 121/121 [00:00<00:00, 544.13it/s]\n",
      "0it [00:00, ?it/s]\n",
      "100%|████████████████████████████████████████████████████████████████████████████████| 121/121 [00:00<00:00, 545.35it/s]\n",
      "100%|██████████████████████████████████████████████████████████████████████████████████| 27/27 [00:00<00:00, 118.80it/s]\n"
     ]
    },
    {
     "name": "stdout",
     "output_type": "stream",
     "text": [
      "theta = -55.68616619392652, x_initial = -17, y_initial = 106\n"
     ]
    },
    {
     "name": "stderr",
     "output_type": "stream",
     "text": [
      "100%|████████████████████████████████████████████████████████████████████████████████| 121/121 [00:00<00:00, 547.18it/s]\n",
      "100%|████████████████████████████████████████████████████████████████████████████████| 108/108 [00:00<00:00, 117.62it/s]\n",
      "100%|████████████████████████████████████████████████████████████████████████████████| 121/121 [00:00<00:00, 561.13it/s]\n",
      "100%|████████████████████████████████████████████████████████████████████████████████| 144/144 [00:01<00:00, 112.82it/s]\n",
      "100%|████████████████████████████████████████████████████████████████████████████████| 121/121 [00:00<00:00, 552.25it/s]\n",
      "100%|████████████████████████████████████████████████████████████████████████████████| 180/180 [00:01<00:00, 108.47it/s]\n",
      "100%|████████████████████████████████████████████████████████████████████████████████| 121/121 [00:00<00:00, 554.61it/s]\n",
      "100%|████████████████████████████████████████████████████████████████████████████████| 207/207 [00:01<00:00, 111.65it/s]\n",
      "100%|████████████████████████████████████████████████████████████████████████████████| 121/121 [00:00<00:00, 560.19it/s]\n",
      "100%|████████████████████████████████████████████████████████████████████████████████| 207/207 [00:01<00:00, 108.94it/s]\n",
      "100%|████████████████████████████████████████████████████████████████████████████████| 121/121 [00:00<00:00, 567.51it/s]\n",
      "100%|████████████████████████████████████████████████████████████████████████████████| 234/234 [00:02<00:00, 115.80it/s]\n",
      "100%|████████████████████████████████████████████████████████████████████████████████| 121/121 [00:00<00:00, 545.70it/s]\n",
      "100%|████████████████████████████████████████████████████████████████████████████████| 180/180 [00:01<00:00, 105.26it/s]\n"
     ]
    },
    {
     "name": "stdout",
     "output_type": "stream",
     "text": [
      "theta = -112.61986494804043, x_initial = 63, y_initial = -114\n"
     ]
    },
    {
     "name": "stderr",
     "output_type": "stream",
     "text": [
      "100%|████████████████████████████████████████████████████████████████████████████████| 121/121 [00:00<00:00, 501.91it/s]\n",
      "100%|████████████████████████████████████████████████████████████████████████████████| 162/162 [00:01<00:00, 114.45it/s]\n",
      "100%|████████████████████████████████████████████████████████████████████████████████| 121/121 [00:00<00:00, 511.30it/s]\n",
      "100%|████████████████████████████████████████████████████████████████████████████████| 171/171 [00:01<00:00, 110.32it/s]\n",
      "100%|████████████████████████████████████████████████████████████████████████████████| 121/121 [00:00<00:00, 506.96it/s]\n",
      "100%|████████████████████████████████████████████████████████████████████████████████| 180/180 [00:01<00:00, 109.81it/s]\n",
      "100%|████████████████████████████████████████████████████████████████████████████████| 121/121 [00:00<00:00, 510.81it/s]\n",
      "100%|████████████████████████████████████████████████████████████████████████████████| 189/189 [00:01<00:00, 115.03it/s]\n",
      "100%|████████████████████████████████████████████████████████████████████████████████| 121/121 [00:00<00:00, 507.19it/s]\n",
      "100%|████████████████████████████████████████████████████████████████████████████████| 198/198 [00:01<00:00, 108.85it/s]\n",
      "100%|████████████████████████████████████████████████████████████████████████████████| 121/121 [00:00<00:00, 499.66it/s]\n",
      "100%|████████████████████████████████████████████████████████████████████████████████| 171/171 [00:01<00:00, 112.58it/s]\n",
      "100%|████████████████████████████████████████████████████████████████████████████████| 121/121 [00:00<00:00, 513.20it/s]\n",
      "100%|████████████████████████████████████████████████████████████████████████████████| 162/162 [00:01<00:00, 114.07it/s]\n"
     ]
    },
    {
     "name": "stdout",
     "output_type": "stream",
     "text": [
      "theta = -134.5249277043886, x_initial = -29, y_initial = -105\n"
     ]
    },
    {
     "name": "stderr",
     "output_type": "stream",
     "text": [
      "100%|████████████████████████████████████████████████████████████████████████████████| 121/121 [00:00<00:00, 539.93it/s]\n",
      "0it [00:00, ?it/s]\n",
      "100%|████████████████████████████████████████████████████████████████████████████████| 121/121 [00:00<00:00, 533.84it/s]\n",
      "0it [00:00, ?it/s]\n",
      "100%|████████████████████████████████████████████████████████████████████████████████| 121/121 [00:00<00:00, 510.01it/s]\n",
      "0it [00:00, ?it/s]\n",
      "100%|████████████████████████████████████████████████████████████████████████████████| 121/121 [00:00<00:00, 518.26it/s]\n",
      "0it [00:00, ?it/s]\n",
      "100%|████████████████████████████████████████████████████████████████████████████████| 121/121 [00:00<00:00, 537.96it/s]\n",
      "0it [00:00, ?it/s]\n",
      "100%|████████████████████████████████████████████████████████████████████████████████| 121/121 [00:00<00:00, 511.34it/s]\n",
      "0it [00:00, ?it/s]\n",
      "100%|████████████████████████████████████████████████████████████████████████████████| 121/121 [00:00<00:00, 521.86it/s]\n",
      "0it [00:00, ?it/s]\n"
     ]
    },
    {
     "name": "stdout",
     "output_type": "stream",
     "text": [
      "Too far translations filtered out: 1654\n",
      "Alignment time: 33.49406719207764\n",
      "Length: 4\n",
      "Aligning 5 and 7\n",
      "new diag score is estimated\n"
     ]
    },
    {
     "name": "stderr",
     "output_type": "stream",
     "text": [
      "100%|████████████████████████████████████████████████████████████████████████████████| 764/764 [00:03<00:00, 231.71it/s]\n"
     ]
    },
    {
     "name": "stdout",
     "output_type": "stream",
     "text": [
      "21\n",
      "7\n",
      "theta = -0.0, x_initial = 193, y_initial = -64\n"
     ]
    },
    {
     "name": "stderr",
     "output_type": "stream",
     "text": [
      "100%|████████████████████████████████████████████████████████████████████████████████| 121/121 [00:00<00:00, 225.37it/s]\n",
      "100%|█████████████████████████████████████████████████████████████████████████████████| 126/126 [00:02<00:00, 44.46it/s]\n",
      "100%|████████████████████████████████████████████████████████████████████████████████| 121/121 [00:00<00:00, 206.49it/s]\n",
      "100%|█████████████████████████████████████████████████████████████████████████████████| 135/135 [00:03<00:00, 43.41it/s]\n",
      "100%|████████████████████████████████████████████████████████████████████████████████| 121/121 [00:00<00:00, 223.70it/s]\n",
      "100%|█████████████████████████████████████████████████████████████████████████████████| 171/171 [00:03<00:00, 46.34it/s]\n",
      "100%|████████████████████████████████████████████████████████████████████████████████| 121/121 [00:00<00:00, 221.33it/s]\n",
      "100%|█████████████████████████████████████████████████████████████████████████████████| 198/198 [00:04<00:00, 45.24it/s]\n",
      "100%|████████████████████████████████████████████████████████████████████████████████| 121/121 [00:00<00:00, 222.54it/s]\n",
      "100%|█████████████████████████████████████████████████████████████████████████████████| 225/225 [00:04<00:00, 45.47it/s]\n",
      "100%|████████████████████████████████████████████████████████████████████████████████| 121/121 [00:00<00:00, 223.75it/s]\n",
      "100%|█████████████████████████████████████████████████████████████████████████████████| 234/234 [00:05<00:00, 44.43it/s]\n",
      "100%|████████████████████████████████████████████████████████████████████████████████| 121/121 [00:00<00:00, 223.69it/s]\n",
      "100%|█████████████████████████████████████████████████████████████████████████████████| 198/198 [00:04<00:00, 46.89it/s]\n"
     ]
    },
    {
     "name": "stdout",
     "output_type": "stream",
     "text": [
      "theta = -9.510861633103646, x_initial = -102, y_initial = -50\n"
     ]
    },
    {
     "name": "stderr",
     "output_type": "stream",
     "text": [
      "100%|████████████████████████████████████████████████████████████████████████████████| 121/121 [00:00<00:00, 242.60it/s]\n",
      "100%|███████████████████████████████████████████████████████████████████████████████████| 27/27 [00:00<00:00, 51.48it/s]\n",
      "100%|████████████████████████████████████████████████████████████████████████████████| 121/121 [00:00<00:00, 243.33it/s]\n",
      "100%|███████████████████████████████████████████████████████████████████████████████████| 81/81 [00:01<00:00, 50.95it/s]\n",
      "100%|████████████████████████████████████████████████████████████████████████████████| 121/121 [00:00<00:00, 245.52it/s]\n",
      "100%|███████████████████████████████████████████████████████████████████████████████████| 90/90 [00:01<00:00, 46.46it/s]\n",
      "100%|████████████████████████████████████████████████████████████████████████████████| 121/121 [00:00<00:00, 241.59it/s]\n",
      "100%|█████████████████████████████████████████████████████████████████████████████████| 135/135 [00:02<00:00, 48.25it/s]\n",
      "100%|████████████████████████████████████████████████████████████████████████████████| 121/121 [00:00<00:00, 241.53it/s]\n",
      "100%|█████████████████████████████████████████████████████████████████████████████████| 126/126 [00:02<00:00, 46.55it/s]\n",
      "100%|████████████████████████████████████████████████████████████████████████████████| 121/121 [00:00<00:00, 245.04it/s]\n",
      "100%|█████████████████████████████████████████████████████████████████████████████████| 144/144 [00:03<00:00, 44.45it/s]\n",
      "100%|████████████████████████████████████████████████████████████████████████████████| 121/121 [00:00<00:00, 244.86it/s]\n",
      "100%|█████████████████████████████████████████████████████████████████████████████████| 153/153 [00:03<00:00, 45.65it/s]\n"
     ]
    },
    {
     "name": "stdout",
     "output_type": "stream",
     "text": [
      "theta = -74.68667512823708, x_initial = -79, y_initial = 159\n"
     ]
    },
    {
     "name": "stderr",
     "output_type": "stream",
     "text": [
      "100%|████████████████████████████████████████████████████████████████████████████████| 121/121 [00:00<00:00, 236.61it/s]\n",
      "100%|███████████████████████████████████████████████████████████████████████████████████| 36/36 [00:00<00:00, 62.24it/s]\n",
      "100%|████████████████████████████████████████████████████████████████████████████████| 121/121 [00:00<00:00, 236.37it/s]\n",
      "100%|███████████████████████████████████████████████████████████████████████████████████| 72/72 [00:01<00:00, 50.88it/s]\n",
      "100%|████████████████████████████████████████████████████████████████████████████████| 121/121 [00:00<00:00, 235.32it/s]\n",
      "100%|███████████████████████████████████████████████████████████████████████████████████| 90/90 [00:01<00:00, 47.39it/s]\n",
      "100%|████████████████████████████████████████████████████████████████████████████████| 121/121 [00:00<00:00, 236.85it/s]\n",
      "100%|█████████████████████████████████████████████████████████████████████████████████| 153/153 [00:03<00:00, 48.53it/s]\n",
      "100%|████████████████████████████████████████████████████████████████████████████████| 121/121 [00:00<00:00, 232.63it/s]\n",
      "100%|█████████████████████████████████████████████████████████████████████████████████| 198/198 [00:04<00:00, 47.76it/s]\n",
      "100%|████████████████████████████████████████████████████████████████████████████████| 121/121 [00:00<00:00, 232.83it/s]\n",
      "100%|█████████████████████████████████████████████████████████████████████████████████| 171/171 [00:03<00:00, 45.83it/s]\n",
      "100%|████████████████████████████████████████████████████████████████████████████████| 121/121 [00:00<00:00, 235.02it/s]\n",
      "100%|███████████████████████████████████████████████████████████████████████████████████| 90/90 [00:01<00:00, 45.66it/s]\n"
     ]
    },
    {
     "name": "stdout",
     "output_type": "stream",
     "text": [
      "theta = -85.53755361879958, x_initial = -85, y_initial = -73\n"
     ]
    },
    {
     "name": "stderr",
     "output_type": "stream",
     "text": [
      "100%|████████████████████████████████████████████████████████████████████████████████| 121/121 [00:00<00:00, 241.70it/s]\n",
      "0it [00:00, ?it/s]\n",
      "100%|████████████████████████████████████████████████████████████████████████████████| 121/121 [00:00<00:00, 242.04it/s]\n",
      "0it [00:00, ?it/s]\n",
      "100%|████████████████████████████████████████████████████████████████████████████████| 121/121 [00:00<00:00, 241.90it/s]\n",
      "0it [00:00, ?it/s]\n",
      "100%|████████████████████████████████████████████████████████████████████████████████| 121/121 [00:00<00:00, 241.75it/s]\n",
      "0it [00:00, ?it/s]\n",
      "100%|████████████████████████████████████████████████████████████████████████████████| 121/121 [00:00<00:00, 242.27it/s]\n",
      "0it [00:00, ?it/s]\n",
      "100%|████████████████████████████████████████████████████████████████████████████████| 121/121 [00:00<00:00, 238.51it/s]\n",
      "0it [00:00, ?it/s]\n",
      "100%|████████████████████████████████████████████████████████████████████████████████| 121/121 [00:00<00:00, 242.33it/s]\n",
      "0it [00:00, ?it/s]\n"
     ]
    },
    {
     "name": "stdout",
     "output_type": "stream",
     "text": [
      "Too far translations filtered out: 2008\n",
      "Alignment time: 85.14427089691162\n",
      "Length: 2\n",
      "Aligning 5 and 8\n",
      "new diag score is estimated\n"
     ]
    },
    {
     "name": "stderr",
     "output_type": "stream",
     "text": [
      "100%|████████████████████████████████████████████████████████████████████████████████| 764/764 [00:01<00:00, 387.35it/s]\n"
     ]
    },
    {
     "name": "stdout",
     "output_type": "stream",
     "text": [
      "10\n",
      "3\n",
      "theta = -3.73955433966131, x_initial = -97, y_initial = 25\n"
     ]
    },
    {
     "name": "stderr",
     "output_type": "stream",
     "text": [
      "100%|████████████████████████████████████████████████████████████████████████████████| 121/121 [00:00<00:00, 376.26it/s]\n",
      "100%|███████████████████████████████████████████████████████████████████████████████████| 54/54 [00:00<00:00, 81.65it/s]\n",
      "100%|████████████████████████████████████████████████████████████████████████████████| 121/121 [00:00<00:00, 364.61it/s]\n",
      "100%|█████████████████████████████████████████████████████████████████████████████████| 126/126 [00:01<00:00, 74.18it/s]\n",
      "100%|████████████████████████████████████████████████████████████████████████████████| 121/121 [00:00<00:00, 379.20it/s]\n",
      "100%|█████████████████████████████████████████████████████████████████████████████████| 180/180 [00:02<00:00, 73.48it/s]\n",
      "100%|████████████████████████████████████████████████████████████████████████████████| 121/121 [00:00<00:00, 380.76it/s]\n",
      "100%|█████████████████████████████████████████████████████████████████████████████████| 225/225 [00:03<00:00, 72.51it/s]\n",
      "100%|████████████████████████████████████████████████████████████████████████████████| 121/121 [00:00<00:00, 379.45it/s]\n",
      "100%|█████████████████████████████████████████████████████████████████████████████████| 252/252 [00:03<00:00, 75.07it/s]\n",
      "100%|████████████████████████████████████████████████████████████████████████████████| 121/121 [00:00<00:00, 358.48it/s]\n",
      "100%|█████████████████████████████████████████████████████████████████████████████████| 216/216 [00:03<00:00, 70.67it/s]\n",
      "100%|████████████████████████████████████████████████████████████████████████████████| 121/121 [00:00<00:00, 378.52it/s]\n",
      "100%|█████████████████████████████████████████████████████████████████████████████████| 216/216 [00:02<00:00, 72.38it/s]\n"
     ]
    },
    {
     "name": "stdout",
     "output_type": "stream",
     "text": [
      "theta = -86.63935526828065, x_initial = -6, y_initial = 101\n"
     ]
    },
    {
     "name": "stderr",
     "output_type": "stream",
     "text": [
      "100%|████████████████████████████████████████████████████████████████████████████████| 121/121 [00:00<00:00, 389.53it/s]\n",
      "100%|█████████████████████████████████████████████████████████████████████████████████| 108/108 [00:01<00:00, 77.08it/s]\n",
      "100%|████████████████████████████████████████████████████████████████████████████████| 121/121 [00:00<00:00, 391.25it/s]\n",
      "100%|█████████████████████████████████████████████████████████████████████████████████| 144/144 [00:01<00:00, 77.03it/s]\n",
      "100%|████████████████████████████████████████████████████████████████████████████████| 121/121 [00:00<00:00, 398.60it/s]\n",
      "100%|█████████████████████████████████████████████████████████████████████████████████| 135/135 [00:01<00:00, 75.68it/s]\n",
      "100%|████████████████████████████████████████████████████████████████████████████████| 121/121 [00:00<00:00, 361.73it/s]\n",
      "100%|█████████████████████████████████████████████████████████████████████████████████| 189/189 [00:02<00:00, 68.19it/s]\n",
      "100%|████████████████████████████████████████████████████████████████████████████████| 121/121 [00:00<00:00, 383.69it/s]\n",
      "100%|█████████████████████████████████████████████████████████████████████████████████| 180/180 [00:02<00:00, 73.36it/s]\n",
      "100%|████████████████████████████████████████████████████████████████████████████████| 121/121 [00:00<00:00, 391.55it/s]\n",
      "100%|█████████████████████████████████████████████████████████████████████████████████| 180/180 [00:02<00:00, 73.76it/s]\n",
      "100%|████████████████████████████████████████████████████████████████████████████████| 121/121 [00:00<00:00, 390.89it/s]\n",
      "100%|█████████████████████████████████████████████████████████████████████████████████| 135/135 [00:01<00:00, 76.21it/s]\n"
     ]
    },
    {
     "name": "stdout",
     "output_type": "stream",
     "text": [
      "theta = -164.96188209779976, x_initial = -100, y_initial = 54\n"
     ]
    },
    {
     "name": "stderr",
     "output_type": "stream",
     "text": [
      "100%|████████████████████████████████████████████████████████████████████████████████| 121/121 [00:00<00:00, 372.49it/s]\n",
      "100%|███████████████████████████████████████████████████████████████████████████████████| 72/72 [00:00<00:00, 87.88it/s]\n",
      "100%|████████████████████████████████████████████████████████████████████████████████| 121/121 [00:00<00:00, 363.58it/s]\n",
      "0it [00:00, ?it/s]\n",
      "100%|████████████████████████████████████████████████████████████████████████████████| 121/121 [00:00<00:00, 361.02it/s]\n",
      "0it [00:00, ?it/s]\n",
      "100%|████████████████████████████████████████████████████████████████████████████████| 121/121 [00:00<00:00, 367.72it/s]\n",
      "0it [00:00, ?it/s]\n",
      "100%|████████████████████████████████████████████████████████████████████████████████| 121/121 [00:00<00:00, 342.70it/s]\n",
      "0it [00:00, ?it/s]\n",
      "100%|████████████████████████████████████████████████████████████████████████████████| 121/121 [00:00<00:00, 365.61it/s]\n",
      "0it [00:00, ?it/s]\n",
      "100%|████████████████████████████████████████████████████████████████████████████████| 121/121 [00:00<00:00, 368.55it/s]\n",
      "0it [00:00, ?it/s]\n"
     ]
    },
    {
     "name": "stdout",
     "output_type": "stream",
     "text": [
      "Too far translations filtered out: 2038\n",
      "Alignment time: 44.854483127593994\n",
      "Length: 2\n",
      "Aligning 5 and 9\n",
      "new diag score is estimated\n"
     ]
    },
    {
     "name": "stderr",
     "output_type": "stream",
     "text": [
      "100%|████████████████████████████████████████████████████████████████████████████████| 764/764 [00:04<00:00, 171.31it/s]\n"
     ]
    },
    {
     "name": "stdout",
     "output_type": "stream",
     "text": [
      "16\n",
      "7\n",
      "theta = -118.12445628630134, x_initial = 45, y_initial = -199\n"
     ]
    },
    {
     "name": "stderr",
     "output_type": "stream",
     "text": [
      "100%|████████████████████████████████████████████████████████████████████████████████| 121/121 [00:00<00:00, 175.28it/s]\n",
      "100%|█████████████████████████████████████████████████████████████████████████████████| 135/135 [00:04<00:00, 32.92it/s]\n",
      "100%|████████████████████████████████████████████████████████████████████████████████| 121/121 [00:00<00:00, 182.33it/s]\n",
      "100%|█████████████████████████████████████████████████████████████████████████████████| 171/171 [00:05<00:00, 33.41it/s]\n",
      "100%|████████████████████████████████████████████████████████████████████████████████| 121/121 [00:00<00:00, 182.74it/s]\n",
      "100%|█████████████████████████████████████████████████████████████████████████████████| 189/189 [00:05<00:00, 34.92it/s]\n",
      "100%|████████████████████████████████████████████████████████████████████████████████| 121/121 [00:00<00:00, 178.80it/s]\n",
      "100%|█████████████████████████████████████████████████████████████████████████████████| 153/153 [00:04<00:00, 34.27it/s]\n",
      "100%|████████████████████████████████████████████████████████████████████████████████| 121/121 [00:00<00:00, 184.37it/s]\n",
      "100%|███████████████████████████████████████████████████████████████████████████████████| 99/99 [00:03<00:00, 32.66it/s]\n",
      "100%|████████████████████████████████████████████████████████████████████████████████| 121/121 [00:00<00:00, 185.35it/s]\n",
      "100%|███████████████████████████████████████████████████████████████████████████████████| 63/63 [00:01<00:00, 35.27it/s]\n",
      "100%|████████████████████████████████████████████████████████████████████████████████| 121/121 [00:00<00:00, 181.75it/s]\n",
      "0it [00:00, ?it/s]\n"
     ]
    },
    {
     "name": "stdout",
     "output_type": "stream",
     "text": [
      "theta = -28.616070223227002, x_initial = 215, y_initial = -94\n"
     ]
    },
    {
     "name": "stderr",
     "output_type": "stream",
     "text": [
      "100%|████████████████████████████████████████████████████████████████████████████████| 121/121 [00:00<00:00, 173.61it/s]\n",
      "0it [00:00, ?it/s]\n",
      "100%|████████████████████████████████████████████████████████████████████████████████| 121/121 [00:00<00:00, 173.08it/s]\n",
      "0it [00:00, ?it/s]\n",
      "100%|████████████████████████████████████████████████████████████████████████████████| 121/121 [00:00<00:00, 173.19it/s]\n",
      "0it [00:00, ?it/s]\n",
      "100%|████████████████████████████████████████████████████████████████████████████████| 121/121 [00:00<00:00, 174.17it/s]\n",
      "0it [00:00, ?it/s]\n",
      "100%|████████████████████████████████████████████████████████████████████████████████| 121/121 [00:00<00:00, 174.65it/s]\n",
      "0it [00:00, ?it/s]\n",
      "100%|████████████████████████████████████████████████████████████████████████████████| 121/121 [00:00<00:00, 174.73it/s]\n",
      "0it [00:00, ?it/s]\n",
      "100%|████████████████████████████████████████████████████████████████████████████████| 121/121 [00:00<00:00, 167.84it/s]\n",
      "0it [00:00, ?it/s]\n"
     ]
    },
    {
     "name": "stdout",
     "output_type": "stream",
     "text": [
      "theta = -117.43061820050805, x_initial = 143, y_initial = 45\n"
     ]
    },
    {
     "name": "stderr",
     "output_type": "stream",
     "text": [
      "100%|████████████████████████████████████████████████████████████████████████████████| 121/121 [00:00<00:00, 189.81it/s]\n",
      "0it [00:00, ?it/s]\n",
      "100%|████████████████████████████████████████████████████████████████████████████████| 121/121 [00:00<00:00, 189.86it/s]\n",
      "0it [00:00, ?it/s]\n",
      "100%|████████████████████████████████████████████████████████████████████████████████| 121/121 [00:00<00:00, 187.80it/s]\n",
      "0it [00:00, ?it/s]\n",
      "100%|████████████████████████████████████████████████████████████████████████████████| 121/121 [00:00<00:00, 190.74it/s]\n",
      "0it [00:00, ?it/s]\n",
      "100%|████████████████████████████████████████████████████████████████████████████████| 121/121 [00:00<00:00, 190.16it/s]\n",
      "0it [00:00, ?it/s]\n",
      "100%|████████████████████████████████████████████████████████████████████████████████| 121/121 [00:00<00:00, 187.06it/s]\n",
      "0it [00:00, ?it/s]\n",
      "100%|████████████████████████████████████████████████████████████████████████████████| 121/121 [00:00<00:00, 184.32it/s]\n",
      "0it [00:00, ?it/s]\n"
     ]
    },
    {
     "name": "stdout",
     "output_type": "stream",
     "text": [
      "theta = -8.991874994594497, x_initial = 192, y_initial = -26\n"
     ]
    },
    {
     "name": "stderr",
     "output_type": "stream",
     "text": [
      "100%|████████████████████████████████████████████████████████████████████████████████| 121/121 [00:00<00:00, 187.45it/s]\n",
      "100%|███████████████████████████████████████████████████████████████████████████████████| 45/45 [00:01<00:00, 40.15it/s]\n",
      "100%|████████████████████████████████████████████████████████████████████████████████| 121/121 [00:00<00:00, 186.23it/s]\n",
      "100%|███████████████████████████████████████████████████████████████████████████████████| 90/90 [00:02<00:00, 38.22it/s]\n",
      "100%|████████████████████████████████████████████████████████████████████████████████| 121/121 [00:00<00:00, 185.46it/s]\n",
      "100%|█████████████████████████████████████████████████████████████████████████████████| 108/108 [00:02<00:00, 37.72it/s]\n",
      "100%|████████████████████████████████████████████████████████████████████████████████| 121/121 [00:00<00:00, 188.11it/s]\n",
      "100%|█████████████████████████████████████████████████████████████████████████████████| 162/162 [00:04<00:00, 38.44it/s]\n",
      "100%|████████████████████████████████████████████████████████████████████████████████| 121/121 [00:00<00:00, 184.31it/s]\n",
      "100%|█████████████████████████████████████████████████████████████████████████████████| 162/162 [00:04<00:00, 35.61it/s]\n",
      "100%|████████████████████████████████████████████████████████████████████████████████| 121/121 [00:00<00:00, 185.93it/s]\n",
      "100%|█████████████████████████████████████████████████████████████████████████████████| 207/207 [00:05<00:00, 36.34it/s]\n",
      "100%|████████████████████████████████████████████████████████████████████████████████| 121/121 [00:00<00:00, 185.36it/s]\n",
      "100%|█████████████████████████████████████████████████████████████████████████████████| 216/216 [00:05<00:00, 37.74it/s]\n"
     ]
    },
    {
     "name": "stdout",
     "output_type": "stream",
     "text": [
      "Too far translations filtered out: 920\n",
      "Alignment time: 79.85221076011658\n",
      "Length: 1\n",
      "Aligning 5 and 10\n",
      "new diag score is estimated\n"
     ]
    },
    {
     "name": "stderr",
     "output_type": "stream",
     "text": [
      "100%|████████████████████████████████████████████████████████████████████████████████| 764/764 [00:02<00:00, 359.27it/s]\n"
     ]
    },
    {
     "name": "stdout",
     "output_type": "stream",
     "text": [
      "19\n",
      "5\n",
      "theta = -17.944116103192524, x_initial = 98, y_initial = 108\n"
     ]
    },
    {
     "name": "stderr",
     "output_type": "stream",
     "text": [
      "100%|████████████████████████████████████████████████████████████████████████████████| 121/121 [00:00<00:00, 387.64it/s]\n",
      "100%|█████████████████████████████████████████████████████████████████████████████████| 162/162 [00:01<00:00, 81.27it/s]\n",
      "100%|████████████████████████████████████████████████████████████████████████████████| 121/121 [00:00<00:00, 379.55it/s]\n",
      "100%|█████████████████████████████████████████████████████████████████████████████████| 180/180 [00:02<00:00, 82.40it/s]\n",
      "100%|████████████████████████████████████████████████████████████████████████████████| 121/121 [00:00<00:00, 384.66it/s]\n",
      "100%|█████████████████████████████████████████████████████████████████████████████████| 189/189 [00:02<00:00, 78.67it/s]\n",
      "100%|████████████████████████████████████████████████████████████████████████████████| 121/121 [00:00<00:00, 367.30it/s]\n",
      "100%|█████████████████████████████████████████████████████████████████████████████████| 198/198 [00:02<00:00, 75.86it/s]\n",
      "100%|████████████████████████████████████████████████████████████████████████████████| 121/121 [00:00<00:00, 387.12it/s]\n",
      "100%|█████████████████████████████████████████████████████████████████████████████████| 216/216 [00:02<00:00, 78.10it/s]\n",
      "100%|████████████████████████████████████████████████████████████████████████████████| 121/121 [00:00<00:00, 391.01it/s]\n",
      "100%|█████████████████████████████████████████████████████████████████████████████████| 180/180 [00:02<00:00, 78.64it/s]\n",
      "100%|████████████████████████████████████████████████████████████████████████████████| 121/121 [00:00<00:00, 380.95it/s]\n",
      "100%|█████████████████████████████████████████████████████████████████████████████████| 162/162 [00:01<00:00, 81.87it/s]\n"
     ]
    },
    {
     "name": "stdout",
     "output_type": "stream",
     "text": [
      "theta = -47.51949049059029, x_initial = 122, y_initial = -49\n"
     ]
    },
    {
     "name": "stderr",
     "output_type": "stream",
     "text": [
      "100%|████████████████████████████████████████████████████████████████████████████████| 121/121 [00:00<00:00, 391.64it/s]\n",
      "0it [00:00, ?it/s]\n",
      "100%|████████████████████████████████████████████████████████████████████████████████| 121/121 [00:00<00:00, 395.21it/s]\n",
      "0it [00:00, ?it/s]\n",
      "100%|████████████████████████████████████████████████████████████████████████████████| 121/121 [00:00<00:00, 368.87it/s]\n",
      "0it [00:00, ?it/s]\n",
      "100%|████████████████████████████████████████████████████████████████████████████████| 121/121 [00:00<00:00, 387.10it/s]\n",
      "0it [00:00, ?it/s]\n",
      "100%|████████████████████████████████████████████████████████████████████████████████| 121/121 [00:00<00:00, 385.53it/s]\n",
      "0it [00:00, ?it/s]\n",
      "100%|████████████████████████████████████████████████████████████████████████████████| 121/121 [00:00<00:00, 379.22it/s]\n",
      "0it [00:00, ?it/s]\n",
      "100%|████████████████████████████████████████████████████████████████████████████████| 121/121 [00:00<00:00, 388.50it/s]\n",
      "0it [00:00, ?it/s]\n"
     ]
    },
    {
     "name": "stdout",
     "output_type": "stream",
     "text": [
      "theta = -117.0009925438333, x_initial = -50, y_initial = -119\n"
     ]
    },
    {
     "name": "stderr",
     "output_type": "stream",
     "text": [
      "100%|████████████████████████████████████████████████████████████████████████████████| 121/121 [00:00<00:00, 378.76it/s]\n",
      "100%|█████████████████████████████████████████████████████████████████████████████████| 189/189 [00:02<00:00, 77.82it/s]\n",
      "100%|████████████████████████████████████████████████████████████████████████████████| 121/121 [00:00<00:00, 379.74it/s]\n",
      "100%|█████████████████████████████████████████████████████████████████████████████████| 216/216 [00:02<00:00, 78.68it/s]\n",
      "100%|████████████████████████████████████████████████████████████████████████████████| 121/121 [00:00<00:00, 378.37it/s]\n",
      "100%|█████████████████████████████████████████████████████████████████████████████████| 216/216 [00:02<00:00, 77.69it/s]\n",
      "100%|████████████████████████████████████████████████████████████████████████████████| 121/121 [00:00<00:00, 384.65it/s]\n",
      "100%|█████████████████████████████████████████████████████████████████████████████████| 216/216 [00:02<00:00, 82.14it/s]\n",
      "100%|████████████████████████████████████████████████████████████████████████████████| 121/121 [00:00<00:00, 387.14it/s]\n",
      "100%|█████████████████████████████████████████████████████████████████████████████████| 189/189 [00:02<00:00, 80.68it/s]\n",
      "100%|████████████████████████████████████████████████████████████████████████████████| 121/121 [00:00<00:00, 383.67it/s]\n",
      "100%|█████████████████████████████████████████████████████████████████████████████████| 117/117 [00:01<00:00, 80.64it/s]\n",
      "100%|████████████████████████████████████████████████████████████████████████████████| 121/121 [00:00<00:00, 383.11it/s]\n",
      "100%|███████████████████████████████████████████████████████████████████████████████████| 18/18 [00:00<00:00, 96.65it/s]\n"
     ]
    },
    {
     "name": "stdout",
     "output_type": "stream",
     "text": [
      "theta = -27.1636885635477, x_initial = -51, y_initial = -139\n"
     ]
    },
    {
     "name": "stderr",
     "output_type": "stream",
     "text": [
      "100%|████████████████████████████████████████████████████████████████████████████████| 121/121 [00:00<00:00, 374.04it/s]\n",
      "0it [00:00, ?it/s]\n",
      "100%|████████████████████████████████████████████████████████████████████████████████| 121/121 [00:00<00:00, 353.48it/s]\n",
      "0it [00:00, ?it/s]\n",
      "100%|████████████████████████████████████████████████████████████████████████████████| 121/121 [00:00<00:00, 301.50it/s]\n",
      "0it [00:00, ?it/s]\n",
      "100%|████████████████████████████████████████████████████████████████████████████████| 121/121 [00:00<00:00, 323.28it/s]\n",
      "0it [00:00, ?it/s]\n",
      "100%|████████████████████████████████████████████████████████████████████████████████| 121/121 [00:00<00:00, 327.49it/s]\n",
      "0it [00:00, ?it/s]\n",
      "100%|████████████████████████████████████████████████████████████████████████████████| 121/121 [00:00<00:00, 329.24it/s]\n",
      "0it [00:00, ?it/s]\n",
      "100%|████████████████████████████████████████████████████████████████████████████████| 121/121 [00:00<00:00, 307.99it/s]\n",
      "0it [00:00, ?it/s]\n"
     ]
    },
    {
     "name": "stdout",
     "output_type": "stream",
     "text": [
      "Too far translations filtered out: 1909\n",
      "Alignment time: 46.99231767654419\n",
      "Length: 4\n",
      "Aligning 5 and 11\n",
      "new diag score is estimated\n"
     ]
    },
    {
     "name": "stderr",
     "output_type": "stream",
     "text": [
      "100%|████████████████████████████████████████████████████████████████████████████████| 764/764 [00:03<00:00, 227.51it/s]\n"
     ]
    },
    {
     "name": "stdout",
     "output_type": "stream",
     "text": [
      "20\n",
      "5\n",
      "theta = -112.42942038486972, x_initial = -107, y_initial = -143\n"
     ]
    },
    {
     "name": "stderr",
     "output_type": "stream",
     "text": [
      "100%|████████████████████████████████████████████████████████████████████████████████| 121/121 [00:00<00:00, 169.42it/s]\n",
      "0it [00:00, ?it/s]\n",
      "100%|████████████████████████████████████████████████████████████████████████████████| 121/121 [00:00<00:00, 165.02it/s]\n",
      "0it [00:00, ?it/s]\n",
      "100%|████████████████████████████████████████████████████████████████████████████████| 121/121 [00:00<00:00, 170.81it/s]\n",
      "0it [00:00, ?it/s]\n",
      "100%|████████████████████████████████████████████████████████████████████████████████| 121/121 [00:00<00:00, 177.47it/s]\n",
      "0it [00:00, ?it/s]\n",
      "100%|████████████████████████████████████████████████████████████████████████████████| 121/121 [00:00<00:00, 177.89it/s]\n",
      "0it [00:00, ?it/s]\n",
      "100%|████████████████████████████████████████████████████████████████████████████████| 121/121 [00:00<00:00, 182.05it/s]\n",
      "0it [00:00, ?it/s]\n",
      "100%|████████████████████████████████████████████████████████████████████████████████| 121/121 [00:00<00:00, 181.00it/s]\n",
      "0it [00:00, ?it/s]\n"
     ]
    },
    {
     "name": "stdout",
     "output_type": "stream",
     "text": [
      "theta = -115.71452928800531, x_initial = -41, y_initial = -137\n"
     ]
    },
    {
     "name": "stderr",
     "output_type": "stream",
     "text": [
      "100%|████████████████████████████████████████████████████████████████████████████████| 121/121 [00:00<00:00, 190.91it/s]\n",
      "100%|█████████████████████████████████████████████████████████████████████████████████| 171/171 [00:04<00:00, 35.50it/s]\n",
      "100%|████████████████████████████████████████████████████████████████████████████████| 121/121 [00:00<00:00, 194.31it/s]\n",
      "100%|█████████████████████████████████████████████████████████████████████████████████| 171/171 [00:04<00:00, 36.20it/s]\n",
      "100%|████████████████████████████████████████████████████████████████████████████████| 121/121 [00:00<00:00, 195.64it/s]\n",
      "100%|█████████████████████████████████████████████████████████████████████████████████| 198/198 [00:05<00:00, 36.19it/s]\n",
      "100%|████████████████████████████████████████████████████████████████████████████████| 121/121 [00:00<00:00, 195.01it/s]\n",
      "100%|█████████████████████████████████████████████████████████████████████████████████| 126/126 [00:03<00:00, 33.20it/s]\n",
      "100%|████████████████████████████████████████████████████████████████████████████████| 121/121 [00:00<00:00, 194.96it/s]\n",
      "100%|███████████████████████████████████████████████████████████████████████████████████| 99/99 [00:02<00:00, 36.52it/s]\n",
      "100%|████████████████████████████████████████████████████████████████████████████████| 121/121 [00:00<00:00, 194.45it/s]\n",
      "100%|███████████████████████████████████████████████████████████████████████████████████| 72/72 [00:01<00:00, 36.32it/s]\n",
      "100%|████████████████████████████████████████████████████████████████████████████████| 121/121 [00:00<00:00, 184.83it/s]\n",
      "100%|███████████████████████████████████████████████████████████████████████████████████| 54/54 [00:01<00:00, 35.80it/s]\n"
     ]
    },
    {
     "name": "stdout",
     "output_type": "stream",
     "text": [
      "theta = -58.55324254714243, x_initial = 57, y_initial = 117\n"
     ]
    },
    {
     "name": "stderr",
     "output_type": "stream",
     "text": [
      "100%|████████████████████████████████████████████████████████████████████████████████| 121/121 [00:00<00:00, 197.25it/s]\n",
      "0it [00:00, ?it/s]\n",
      "100%|████████████████████████████████████████████████████████████████████████████████| 121/121 [00:00<00:00, 195.28it/s]\n",
      "100%|███████████████████████████████████████████████████████████████████████████████████| 27/27 [00:00<00:00, 36.62it/s]\n",
      "100%|████████████████████████████████████████████████████████████████████████████████| 121/121 [00:00<00:00, 195.73it/s]\n",
      "100%|███████████████████████████████████████████████████████████████████████████████████| 72/72 [00:01<00:00, 37.96it/s]\n",
      "100%|████████████████████████████████████████████████████████████████████████████████| 121/121 [00:00<00:00, 192.87it/s]\n",
      "100%|█████████████████████████████████████████████████████████████████████████████████| 108/108 [00:03<00:00, 35.08it/s]\n",
      "100%|████████████████████████████████████████████████████████████████████████████████| 121/121 [00:00<00:00, 195.14it/s]\n",
      "100%|█████████████████████████████████████████████████████████████████████████████████| 171/171 [00:05<00:00, 34.15it/s]\n",
      "100%|████████████████████████████████████████████████████████████████████████████████| 121/121 [00:00<00:00, 175.31it/s]\n",
      "100%|█████████████████████████████████████████████████████████████████████████████████| 207/207 [00:05<00:00, 37.82it/s]\n",
      "100%|████████████████████████████████████████████████████████████████████████████████| 121/121 [00:00<00:00, 203.75it/s]\n",
      "100%|█████████████████████████████████████████████████████████████████████████████████| 189/189 [00:05<00:00, 37.48it/s]\n"
     ]
    },
    {
     "name": "stdout",
     "output_type": "stream",
     "text": [
      "theta = -149.5559056477126, x_initial = -31, y_initial = 153\n"
     ]
    },
    {
     "name": "stderr",
     "output_type": "stream",
     "text": [
      "100%|████████████████████████████████████████████████████████████████████████████████| 121/121 [00:00<00:00, 204.03it/s]\n",
      "100%|███████████████████████████████████████████████████████████████████████████████████| 45/45 [00:00<00:00, 54.26it/s]\n",
      "100%|████████████████████████████████████████████████████████████████████████████████| 121/121 [00:00<00:00, 205.16it/s]\n",
      "100%|███████████████████████████████████████████████████████████████████████████████████| 81/81 [00:02<00:00, 39.65it/s]\n",
      "100%|████████████████████████████████████████████████████████████████████████████████| 121/121 [00:00<00:00, 151.03it/s]\n",
      "100%|█████████████████████████████████████████████████████████████████████████████████| 108/108 [00:03<00:00, 35.09it/s]\n",
      "100%|████████████████████████████████████████████████████████████████████████████████| 121/121 [00:00<00:00, 203.45it/s]\n",
      "100%|█████████████████████████████████████████████████████████████████████████████████| 108/108 [00:02<00:00, 36.74it/s]\n",
      "100%|████████████████████████████████████████████████████████████████████████████████| 121/121 [00:00<00:00, 169.58it/s]\n",
      "100%|███████████████████████████████████████████████████████████████████████████████████| 54/54 [00:01<00:00, 39.48it/s]\n",
      "100%|████████████████████████████████████████████████████████████████████████████████| 121/121 [00:00<00:00, 203.43it/s]\n",
      "0it [00:00, ?it/s]\n",
      "100%|████████████████████████████████████████████████████████████████████████████████| 121/121 [00:00<00:00, 195.24it/s]\n",
      "0it [00:00, ?it/s]\n"
     ]
    },
    {
     "name": "stdout",
     "output_type": "stream",
     "text": [
      "Too far translations filtered out: 1403\n",
      "Alignment time: 84.24930357933044\n",
      "Length: 3\n",
      "Aligning 5 and 12\n",
      "new diag score is estimated\n"
     ]
    },
    {
     "name": "stderr",
     "output_type": "stream",
     "text": [
      "100%|████████████████████████████████████████████████████████████████████████████████| 764/764 [00:01<00:00, 681.28it/s]\n"
     ]
    },
    {
     "name": "stdout",
     "output_type": "stream",
     "text": [
      "11\n",
      "4\n",
      "theta = -123.80965537864343, x_initial = 66, y_initial = 42\n"
     ]
    },
    {
     "name": "stderr",
     "output_type": "stream",
     "text": [
      "100%|████████████████████████████████████████████████████████████████████████████████| 121/121 [00:00<00:00, 630.17it/s]\n",
      "0it [00:00, ?it/s]\n",
      "100%|████████████████████████████████████████████████████████████████████████████████| 121/121 [00:00<00:00, 664.14it/s]\n",
      "0it [00:00, ?it/s]\n",
      "100%|████████████████████████████████████████████████████████████████████████████████| 121/121 [00:00<00:00, 626.54it/s]\n",
      "0it [00:00, ?it/s]\n",
      "100%|████████████████████████████████████████████████████████████████████████████████| 121/121 [00:00<00:00, 499.27it/s]\n",
      "0it [00:00, ?it/s]\n",
      "100%|████████████████████████████████████████████████████████████████████████████████| 121/121 [00:00<00:00, 564.67it/s]\n",
      "0it [00:00, ?it/s]\n",
      "100%|████████████████████████████████████████████████████████████████████████████████| 121/121 [00:00<00:00, 653.95it/s]\n",
      "0it [00:00, ?it/s]\n",
      "100%|████████████████████████████████████████████████████████████████████████████████| 121/121 [00:00<00:00, 638.49it/s]\n",
      "0it [00:00, ?it/s]\n"
     ]
    },
    {
     "name": "stdout",
     "output_type": "stream",
     "text": [
      "theta = -63.17355945745751, x_initial = 99, y_initial = 36\n"
     ]
    },
    {
     "name": "stderr",
     "output_type": "stream",
     "text": [
      "100%|████████████████████████████████████████████████████████████████████████████████| 121/121 [00:00<00:00, 526.26it/s]\n",
      "100%|████████████████████████████████████████████████████████████████████████████████| 153/153 [00:01<00:00, 110.48it/s]\n",
      "100%|████████████████████████████████████████████████████████████████████████████████| 121/121 [00:00<00:00, 599.72it/s]\n",
      "100%|████████████████████████████████████████████████████████████████████████████████| 171/171 [00:01<00:00, 117.94it/s]\n",
      "100%|████████████████████████████████████████████████████████████████████████████████| 121/121 [00:00<00:00, 566.95it/s]\n",
      "100%|████████████████████████████████████████████████████████████████████████████████| 198/198 [00:01<00:00, 122.19it/s]\n",
      "100%|████████████████████████████████████████████████████████████████████████████████| 121/121 [00:00<00:00, 542.60it/s]\n",
      "100%|████████████████████████████████████████████████████████████████████████████████| 216/216 [00:01<00:00, 117.09it/s]\n",
      "100%|████████████████████████████████████████████████████████████████████████████████| 121/121 [00:00<00:00, 586.07it/s]\n",
      "100%|████████████████████████████████████████████████████████████████████████████████| 252/252 [00:01<00:00, 126.24it/s]\n",
      "100%|████████████████████████████████████████████████████████████████████████████████| 121/121 [00:00<00:00, 569.01it/s]\n",
      "100%|████████████████████████████████████████████████████████████████████████████████| 225/225 [00:01<00:00, 123.19it/s]\n",
      "100%|████████████████████████████████████████████████████████████████████████████████| 121/121 [00:00<00:00, 571.22it/s]\n",
      "100%|████████████████████████████████████████████████████████████████████████████████| 189/189 [00:01<00:00, 113.37it/s]\n"
     ]
    },
    {
     "name": "stdout",
     "output_type": "stream",
     "text": [
      "theta = -80.12067566662236, x_initial = -22, y_initial = 86\n"
     ]
    },
    {
     "name": "stderr",
     "output_type": "stream",
     "text": [
      "100%|████████████████████████████████████████████████████████████████████████████████| 121/121 [00:00<00:00, 628.40it/s]\n",
      "100%|████████████████████████████████████████████████████████████████████████████████| 153/153 [00:01<00:00, 122.93it/s]\n",
      "100%|████████████████████████████████████████████████████████████████████████████████| 121/121 [00:00<00:00, 620.17it/s]\n",
      "100%|████████████████████████████████████████████████████████████████████████████████| 189/189 [00:01<00:00, 126.51it/s]\n",
      "100%|████████████████████████████████████████████████████████████████████████████████| 121/121 [00:00<00:00, 624.50it/s]\n",
      "100%|████████████████████████████████████████████████████████████████████████████████| 198/198 [00:01<00:00, 125.67it/s]\n",
      "100%|████████████████████████████████████████████████████████████████████████████████| 121/121 [00:00<00:00, 625.24it/s]\n",
      "100%|████████████████████████████████████████████████████████████████████████████████| 207/207 [00:01<00:00, 123.15it/s]\n",
      "100%|████████████████████████████████████████████████████████████████████████████████| 121/121 [00:00<00:00, 630.69it/s]\n",
      "100%|████████████████████████████████████████████████████████████████████████████████| 216/216 [00:01<00:00, 124.83it/s]\n",
      "100%|████████████████████████████████████████████████████████████████████████████████| 121/121 [00:00<00:00, 575.13it/s]\n",
      "100%|████████████████████████████████████████████████████████████████████████████████| 207/207 [00:01<00:00, 128.03it/s]\n",
      "100%|████████████████████████████████████████████████████████████████████████████████| 121/121 [00:00<00:00, 633.52it/s]\n",
      "100%|████████████████████████████████████████████████████████████████████████████████| 189/189 [00:01<00:00, 129.40it/s]\n"
     ]
    },
    {
     "name": "stdout",
     "output_type": "stream",
     "text": [
      "theta = -28.813817290446746, x_initial = 70, y_initial = 47\n"
     ]
    },
    {
     "name": "stderr",
     "output_type": "stream",
     "text": [
      "100%|████████████████████████████████████████████████████████████████████████████████| 121/121 [00:00<00:00, 591.48it/s]\n",
      "0it [00:00, ?it/s]\n",
      "100%|████████████████████████████████████████████████████████████████████████████████| 121/121 [00:00<00:00, 579.60it/s]\n",
      "0it [00:00, ?it/s]\n",
      "100%|████████████████████████████████████████████████████████████████████████████████| 121/121 [00:00<00:00, 600.24it/s]\n",
      "0it [00:00, ?it/s]\n",
      "100%|████████████████████████████████████████████████████████████████████████████████| 121/121 [00:00<00:00, 562.06it/s]\n",
      "0it [00:00, ?it/s]\n",
      "100%|████████████████████████████████████████████████████████████████████████████████| 121/121 [00:00<00:00, 616.18it/s]\n",
      "0it [00:00, ?it/s]\n",
      "100%|████████████████████████████████████████████████████████████████████████████████| 121/121 [00:00<00:00, 651.00it/s]\n",
      "0it [00:00, ?it/s]\n",
      "100%|████████████████████████████████████████████████████████████████████████████████| 121/121 [00:00<00:00, 635.78it/s]\n",
      "0it [00:00, ?it/s]\n"
     ]
    },
    {
     "name": "stdout",
     "output_type": "stream",
     "text": [
      "Too far translations filtered out: 2341\n",
      "Alignment time: 32.443692445755005\n",
      "Length: 3\n",
      "Aligning 5 and 14\n",
      "new diag score is estimated\n"
     ]
    },
    {
     "name": "stderr",
     "output_type": "stream",
     "text": [
      "100%|████████████████████████████████████████████████████████████████████████████████| 764/764 [00:03<00:00, 251.58it/s]\n"
     ]
    },
    {
     "name": "stdout",
     "output_type": "stream",
     "text": [
      "13\n",
      "6\n",
      "theta = -129.9603478029826, x_initial = 19, y_initial = -142\n"
     ]
    },
    {
     "name": "stderr",
     "output_type": "stream",
     "text": [
      "100%|████████████████████████████████████████████████████████████████████████████████| 121/121 [00:00<00:00, 220.43it/s]\n",
      "0it [00:00, ?it/s]\n",
      "100%|████████████████████████████████████████████████████████████████████████████████| 121/121 [00:00<00:00, 240.87it/s]\n",
      "0it [00:00, ?it/s]\n",
      "100%|████████████████████████████████████████████████████████████████████████████████| 121/121 [00:00<00:00, 205.26it/s]\n",
      "0it [00:00, ?it/s]\n",
      "100%|████████████████████████████████████████████████████████████████████████████████| 121/121 [00:00<00:00, 235.25it/s]\n",
      "0it [00:00, ?it/s]\n",
      "100%|████████████████████████████████████████████████████████████████████████████████| 121/121 [00:00<00:00, 223.77it/s]\n",
      "0it [00:00, ?it/s]\n",
      "100%|████████████████████████████████████████████████████████████████████████████████| 121/121 [00:00<00:00, 230.61it/s]\n",
      "0it [00:00, ?it/s]\n",
      "100%|████████████████████████████████████████████████████████████████████████████████| 121/121 [00:00<00:00, 232.84it/s]\n",
      "0it [00:00, ?it/s]\n"
     ]
    },
    {
     "name": "stdout",
     "output_type": "stream",
     "text": [
      "theta = -121.54286083694733, x_initial = 183, y_initial = 20\n"
     ]
    },
    {
     "name": "stderr",
     "output_type": "stream",
     "text": [
      "100%|████████████████████████████████████████████████████████████████████████████████| 121/121 [00:00<00:00, 221.17it/s]\n",
      "100%|█████████████████████████████████████████████████████████████████████████████████| 117/117 [00:02<00:00, 43.16it/s]\n",
      "100%|████████████████████████████████████████████████████████████████████████████████| 121/121 [00:00<00:00, 219.47it/s]\n",
      "100%|█████████████████████████████████████████████████████████████████████████████████| 162/162 [00:03<00:00, 46.31it/s]\n",
      "100%|████████████████████████████████████████████████████████████████████████████████| 121/121 [00:00<00:00, 225.69it/s]\n",
      "100%|█████████████████████████████████████████████████████████████████████████████████| 135/135 [00:03<00:00, 43.00it/s]\n",
      "100%|████████████████████████████████████████████████████████████████████████████████| 121/121 [00:00<00:00, 226.60it/s]\n",
      "100%|█████████████████████████████████████████████████████████████████████████████████| 126/126 [00:02<00:00, 43.89it/s]\n",
      "100%|████████████████████████████████████████████████████████████████████████████████| 121/121 [00:00<00:00, 229.69it/s]\n",
      "100%|█████████████████████████████████████████████████████████████████████████████████| 135/135 [00:03<00:00, 44.67it/s]\n",
      "100%|████████████████████████████████████████████████████████████████████████████████| 121/121 [00:00<00:00, 224.52it/s]\n",
      "100%|█████████████████████████████████████████████████████████████████████████████████| 108/108 [00:02<00:00, 40.00it/s]\n",
      "100%|████████████████████████████████████████████████████████████████████████████████| 121/121 [00:00<00:00, 227.13it/s]\n",
      "100%|███████████████████████████████████████████████████████████████████████████████████| 72/72 [00:01<00:00, 42.24it/s]\n"
     ]
    },
    {
     "name": "stdout",
     "output_type": "stream",
     "text": [
      "theta = -104.58910673169238, x_initial = 161, y_initial = 24\n"
     ]
    },
    {
     "name": "stderr",
     "output_type": "stream",
     "text": [
      "100%|████████████████████████████████████████████████████████████████████████████████| 121/121 [00:00<00:00, 207.96it/s]\n",
      "0it [00:00, ?it/s]\n",
      "100%|████████████████████████████████████████████████████████████████████████████████| 121/121 [00:00<00:00, 215.29it/s]\n",
      "0it [00:00, ?it/s]\n",
      "100%|████████████████████████████████████████████████████████████████████████████████| 121/121 [00:00<00:00, 225.70it/s]\n",
      "0it [00:00, ?it/s]\n",
      "100%|████████████████████████████████████████████████████████████████████████████████| 121/121 [00:00<00:00, 224.14it/s]\n",
      "0it [00:00, ?it/s]\n",
      "100%|████████████████████████████████████████████████████████████████████████████████| 121/121 [00:00<00:00, 226.97it/s]\n",
      "0it [00:00, ?it/s]\n",
      "100%|████████████████████████████████████████████████████████████████████████████████| 121/121 [00:00<00:00, 225.63it/s]\n",
      "0it [00:00, ?it/s]\n",
      "100%|████████████████████████████████████████████████████████████████████████████████| 121/121 [00:00<00:00, 225.55it/s]\n",
      "0it [00:00, ?it/s]\n"
     ]
    },
    {
     "name": "stdout",
     "output_type": "stream",
     "text": [
      "theta = -126.82740517216746, x_initial = 101, y_initial = -141\n"
     ]
    },
    {
     "name": "stderr",
     "output_type": "stream",
     "text": [
      "100%|████████████████████████████████████████████████████████████████████████████████| 121/121 [00:00<00:00, 218.23it/s]\n",
      "0it [00:00, ?it/s]\n",
      "100%|████████████████████████████████████████████████████████████████████████████████| 121/121 [00:00<00:00, 223.58it/s]\n",
      "0it [00:00, ?it/s]\n",
      "100%|████████████████████████████████████████████████████████████████████████████████| 121/121 [00:00<00:00, 224.19it/s]\n",
      "0it [00:00, ?it/s]\n",
      "100%|████████████████████████████████████████████████████████████████████████████████| 121/121 [00:00<00:00, 223.90it/s]\n",
      "0it [00:00, ?it/s]\n",
      "100%|████████████████████████████████████████████████████████████████████████████████| 121/121 [00:00<00:00, 226.13it/s]\n",
      "0it [00:00, ?it/s]\n",
      "100%|████████████████████████████████████████████████████████████████████████████████| 121/121 [00:00<00:00, 217.76it/s]\n",
      "0it [00:00, ?it/s]\n",
      "100%|████████████████████████████████████████████████████████████████████████████████| 121/121 [00:00<00:00, 225.06it/s]\n",
      "0it [00:00, ?it/s]\n"
     ]
    },
    {
     "name": "stdout",
     "output_type": "stream",
     "text": [
      "Too far translations filtered out: 618\n",
      "Alignment time: 42.99673843383789\n",
      "Length: 1\n",
      "Aligning 5 and 15\n",
      "new diag score is estimated\n"
     ]
    },
    {
     "name": "stderr",
     "output_type": "stream",
     "text": [
      "100%|████████████████████████████████████████████████████████████████████████████████| 764/764 [00:03<00:00, 251.39it/s]\n"
     ]
    },
    {
     "name": "stdout",
     "output_type": "stream",
     "text": [
      "5\n",
      "2\n",
      "theta = -104.1127978061159, x_initial = -87, y_initial = -159\n"
     ]
    },
    {
     "name": "stderr",
     "output_type": "stream",
     "text": [
      "100%|████████████████████████████████████████████████████████████████████████████████| 121/121 [00:00<00:00, 258.44it/s]\n",
      "0it [00:00, ?it/s]\n",
      "100%|████████████████████████████████████████████████████████████████████████████████| 121/121 [00:00<00:00, 262.39it/s]\n",
      "0it [00:00, ?it/s]\n",
      "100%|████████████████████████████████████████████████████████████████████████████████| 121/121 [00:00<00:00, 260.79it/s]\n",
      "0it [00:00, ?it/s]\n",
      "100%|████████████████████████████████████████████████████████████████████████████████| 121/121 [00:00<00:00, 263.91it/s]\n",
      "0it [00:00, ?it/s]\n",
      "100%|████████████████████████████████████████████████████████████████████████████████| 121/121 [00:00<00:00, 258.42it/s]\n",
      "0it [00:00, ?it/s]\n",
      "100%|████████████████████████████████████████████████████████████████████████████████| 121/121 [00:00<00:00, 263.14it/s]\n",
      "0it [00:00, ?it/s]\n",
      "100%|████████████████████████████████████████████████████████████████████████████████| 121/121 [00:00<00:00, 257.94it/s]\n",
      "0it [00:00, ?it/s]\n"
     ]
    },
    {
     "name": "stdout",
     "output_type": "stream",
     "text": [
      "theta = -113.60322575536165, x_initial = 154, y_initial = 14\n"
     ]
    },
    {
     "name": "stderr",
     "output_type": "stream",
     "text": [
      "100%|████████████████████████████████████████████████████████████████████████████████| 121/121 [00:00<00:00, 271.73it/s]\n",
      "100%|█████████████████████████████████████████████████████████████████████████████████| 126/126 [00:02<00:00, 51.37it/s]\n",
      "100%|████████████████████████████████████████████████████████████████████████████████| 121/121 [00:00<00:00, 270.81it/s]\n",
      "100%|█████████████████████████████████████████████████████████████████████████████████| 144/144 [00:02<00:00, 50.99it/s]\n",
      "100%|████████████████████████████████████████████████████████████████████████████████| 121/121 [00:00<00:00, 269.37it/s]\n",
      "100%|█████████████████████████████████████████████████████████████████████████████████| 144/144 [00:02<00:00, 51.31it/s]\n",
      "100%|████████████████████████████████████████████████████████████████████████████████| 121/121 [00:00<00:00, 273.36it/s]\n",
      "100%|█████████████████████████████████████████████████████████████████████████████████| 153/153 [00:02<00:00, 51.93it/s]\n",
      "100%|████████████████████████████████████████████████████████████████████████████████| 121/121 [00:00<00:00, 269.14it/s]\n",
      "100%|█████████████████████████████████████████████████████████████████████████████████| 153/153 [00:02<00:00, 52.70it/s]\n",
      "100%|████████████████████████████████████████████████████████████████████████████████| 121/121 [00:00<00:00, 273.50it/s]\n",
      "100%|█████████████████████████████████████████████████████████████████████████████████| 144/144 [00:02<00:00, 53.83it/s]\n",
      "100%|████████████████████████████████████████████████████████████████████████████████| 121/121 [00:00<00:00, 276.63it/s]\n",
      "100%|█████████████████████████████████████████████████████████████████████████████████| 117/117 [00:02<00:00, 51.65it/s]\n"
     ]
    },
    {
     "name": "stdout",
     "output_type": "stream",
     "text": [
      "Alignment time: 31.503801345825195\n",
      "Length: 0\n",
      "Aligning 6 and 7\n",
      "new diag score is estimated\n"
     ]
    },
    {
     "name": "stderr",
     "output_type": "stream",
     "text": [
      "100%|████████████████████████████████████████████████████████████████████████████████| 842/842 [00:03<00:00, 255.05it/s]\n"
     ]
    },
    {
     "name": "stdout",
     "output_type": "stream",
     "text": [
      "18\n",
      "7\n",
      "theta = -82.95429145901961, x_initial = 105, y_initial = -172\n"
     ]
    },
    {
     "name": "stderr",
     "output_type": "stream",
     "text": [
      "100%|████████████████████████████████████████████████████████████████████████████████| 121/121 [00:00<00:00, 235.38it/s]\n",
      "100%|█████████████████████████████████████████████████████████████████████████████████| 126/126 [00:02<00:00, 47.36it/s]\n",
      "100%|████████████████████████████████████████████████████████████████████████████████| 121/121 [00:00<00:00, 236.82it/s]\n",
      "100%|█████████████████████████████████████████████████████████████████████████████████| 162/162 [00:03<00:00, 44.71it/s]\n",
      "100%|████████████████████████████████████████████████████████████████████████████████| 121/121 [00:00<00:00, 235.25it/s]\n",
      "100%|█████████████████████████████████████████████████████████████████████████████████| 225/225 [00:04<00:00, 48.45it/s]\n",
      "100%|████████████████████████████████████████████████████████████████████████████████| 121/121 [00:00<00:00, 235.50it/s]\n",
      "100%|█████████████████████████████████████████████████████████████████████████████████| 207/207 [00:04<00:00, 45.51it/s]\n",
      "100%|████████████████████████████████████████████████████████████████████████████████| 121/121 [00:00<00:00, 235.16it/s]\n",
      "100%|█████████████████████████████████████████████████████████████████████████████████| 198/198 [00:04<00:00, 47.32it/s]\n",
      "100%|████████████████████████████████████████████████████████████████████████████████| 121/121 [00:00<00:00, 223.83it/s]\n",
      "100%|█████████████████████████████████████████████████████████████████████████████████| 189/189 [00:04<00:00, 45.54it/s]\n",
      "100%|████████████████████████████████████████████████████████████████████████████████| 121/121 [00:00<00:00, 228.67it/s]\n",
      "100%|█████████████████████████████████████████████████████████████████████████████████| 162/162 [00:03<00:00, 46.40it/s]\n"
     ]
    },
    {
     "name": "stdout",
     "output_type": "stream",
     "text": [
      "theta = -8.490213451143111, x_initial = -67, y_initial = -63\n"
     ]
    },
    {
     "name": "stderr",
     "output_type": "stream",
     "text": [
      "100%|████████████████████████████████████████████████████████████████████████████████| 121/121 [00:00<00:00, 258.62it/s]\n",
      "0it [00:00, ?it/s]\n",
      "100%|████████████████████████████████████████████████████████████████████████████████| 121/121 [00:00<00:00, 258.46it/s]\n",
      "0it [00:00, ?it/s]\n",
      "100%|████████████████████████████████████████████████████████████████████████████████| 121/121 [00:00<00:00, 251.39it/s]\n",
      "100%|███████████████████████████████████████████████████████████████████████████████████| 18/18 [00:00<00:00, 85.05it/s]\n",
      "100%|████████████████████████████████████████████████████████████████████████████████| 121/121 [00:00<00:00, 258.60it/s]\n",
      "100%|█████████████████████████████████████████████████████████████████████████████████| 135/135 [00:02<00:00, 49.82it/s]\n",
      "100%|████████████████████████████████████████████████████████████████████████████████| 121/121 [00:00<00:00, 247.70it/s]\n",
      "100%|█████████████████████████████████████████████████████████████████████████████████| 144/144 [00:03<00:00, 47.03it/s]\n",
      "100%|████████████████████████████████████████████████████████████████████████████████| 121/121 [00:00<00:00, 255.86it/s]\n",
      "100%|█████████████████████████████████████████████████████████████████████████████████| 153/153 [00:03<00:00, 43.80it/s]\n",
      "100%|████████████████████████████████████████████████████████████████████████████████| 121/121 [00:00<00:00, 204.12it/s]\n",
      "100%|█████████████████████████████████████████████████████████████████████████████████| 162/162 [00:03<00:00, 46.19it/s]\n"
     ]
    },
    {
     "name": "stdout",
     "output_type": "stream",
     "text": [
      "theta = -17.490868928906497, x_initial = 151, y_initial = 7\n"
     ]
    },
    {
     "name": "stderr",
     "output_type": "stream",
     "text": [
      "100%|████████████████████████████████████████████████████████████████████████████████| 121/121 [00:00<00:00, 207.02it/s]\n",
      "0it [00:00, ?it/s]\n",
      "100%|████████████████████████████████████████████████████████████████████████████████| 121/121 [00:00<00:00, 216.62it/s]\n",
      "0it [00:00, ?it/s]\n",
      "100%|████████████████████████████████████████████████████████████████████████████████| 121/121 [00:00<00:00, 240.65it/s]\n",
      "100%|█████████████████████████████████████████████████████████████████████████████████████| 9/9 [00:00<00:00, 90.99it/s]\n",
      "100%|████████████████████████████████████████████████████████████████████████████████| 121/121 [00:00<00:00, 222.74it/s]\n",
      "100%|███████████████████████████████████████████████████████████████████████████████████| 63/63 [00:01<00:00, 43.98it/s]\n",
      "100%|████████████████████████████████████████████████████████████████████████████████| 121/121 [00:00<00:00, 235.63it/s]\n",
      "100%|█████████████████████████████████████████████████████████████████████████████████| 144/144 [00:03<00:00, 46.49it/s]\n",
      "100%|████████████████████████████████████████████████████████████████████████████████| 121/121 [00:00<00:00, 212.37it/s]\n",
      "100%|█████████████████████████████████████████████████████████████████████████████████| 180/180 [00:04<00:00, 44.78it/s]\n",
      "100%|████████████████████████████████████████████████████████████████████████████████| 121/121 [00:00<00:00, 233.58it/s]\n",
      "100%|█████████████████████████████████████████████████████████████████████████████████| 162/162 [00:03<00:00, 43.17it/s]\n"
     ]
    },
    {
     "name": "stdout",
     "output_type": "stream",
     "text": [
      "theta = -152.3014519783257, x_initial = -65, y_initial = -64\n"
     ]
    },
    {
     "name": "stderr",
     "output_type": "stream",
     "text": [
      "100%|████████████████████████████████████████████████████████████████████████████████| 121/121 [00:00<00:00, 243.12it/s]\n",
      "100%|███████████████████████████████████████████████████████████████████████████████████| 90/90 [00:02<00:00, 44.11it/s]\n",
      "100%|████████████████████████████████████████████████████████████████████████████████| 121/121 [00:00<00:00, 233.19it/s]\n",
      "100%|███████████████████████████████████████████████████████████████████████████████████| 99/99 [00:02<00:00, 44.85it/s]\n",
      "100%|████████████████████████████████████████████████████████████████████████████████| 121/121 [00:00<00:00, 245.63it/s]\n",
      "100%|███████████████████████████████████████████████████████████████████████████████████| 99/99 [00:02<00:00, 47.45it/s]\n",
      "100%|████████████████████████████████████████████████████████████████████████████████| 121/121 [00:00<00:00, 249.06it/s]\n",
      "100%|███████████████████████████████████████████████████████████████████████████████████| 72/72 [00:01<00:00, 47.07it/s]\n",
      "100%|████████████████████████████████████████████████████████████████████████████████| 121/121 [00:00<00:00, 249.01it/s]\n",
      "100%|███████████████████████████████████████████████████████████████████████████████████| 45/45 [00:00<00:00, 47.72it/s]\n",
      "100%|████████████████████████████████████████████████████████████████████████████████| 121/121 [00:00<00:00, 246.80it/s]\n",
      "100%|███████████████████████████████████████████████████████████████████████████████████| 18/18 [00:00<00:00, 43.41it/s]\n",
      "100%|████████████████████████████████████████████████████████████████████████████████| 121/121 [00:00<00:00, 246.86it/s]\n",
      "100%|███████████████████████████████████████████████████████████████████████████████████| 18/18 [00:00<00:00, 64.00it/s]\n"
     ]
    },
    {
     "name": "stdout",
     "output_type": "stream",
     "text": [
      "Too far translations filtered out: 1757\n",
      "Alignment time: 85.42863941192627\n",
      "Length: 2\n",
      "Aligning 6 and 8\n",
      "new diag score is estimated\n"
     ]
    },
    {
     "name": "stderr",
     "output_type": "stream",
     "text": [
      "100%|████████████████████████████████████████████████████████████████████████████████| 842/842 [00:02<00:00, 398.81it/s]\n"
     ]
    },
    {
     "name": "stdout",
     "output_type": "stream",
     "text": [
      "16\n",
      "5\n",
      "theta = -111.19867333251712, x_initial = 59, y_initial = -59\n"
     ]
    },
    {
     "name": "stderr",
     "output_type": "stream",
     "text": [
      "100%|████████████████████████████████████████████████████████████████████████████████| 121/121 [00:00<00:00, 374.88it/s]\n",
      "100%|███████████████████████████████████████████████████████████████████████████████████| 90/90 [00:01<00:00, 81.32it/s]\n",
      "100%|████████████████████████████████████████████████████████████████████████████████| 121/121 [00:00<00:00, 377.98it/s]\n",
      "100%|█████████████████████████████████████████████████████████████████████████████████| 126/126 [00:01<00:00, 76.95it/s]\n",
      "100%|████████████████████████████████████████████████████████████████████████████████| 121/121 [00:00<00:00, 386.49it/s]\n",
      "100%|█████████████████████████████████████████████████████████████████████████████████| 180/180 [00:02<00:00, 76.90it/s]\n",
      "100%|████████████████████████████████████████████████████████████████████████████████| 121/121 [00:00<00:00, 389.70it/s]\n",
      "100%|█████████████████████████████████████████████████████████████████████████████████| 225/225 [00:02<00:00, 75.18it/s]\n",
      "100%|████████████████████████████████████████████████████████████████████████████████| 121/121 [00:00<00:00, 387.73it/s]\n",
      "100%|█████████████████████████████████████████████████████████████████████████████████| 225/225 [00:02<00:00, 75.25it/s]\n",
      "100%|████████████████████████████████████████████████████████████████████████████████| 121/121 [00:00<00:00, 363.98it/s]\n",
      "100%|█████████████████████████████████████████████████████████████████████████████████| 234/234 [00:03<00:00, 75.50it/s]\n",
      "100%|████████████████████████████████████████████████████████████████████████████████| 121/121 [00:00<00:00, 379.74it/s]\n",
      "100%|█████████████████████████████████████████████████████████████████████████████████| 207/207 [00:02<00:00, 75.33it/s]\n"
     ]
    },
    {
     "name": "stdout",
     "output_type": "stream",
     "text": [
      "theta = -86.32467361323876, x_initial = -14, y_initial = 92\n"
     ]
    },
    {
     "name": "stderr",
     "output_type": "stream",
     "text": [
      "100%|████████████████████████████████████████████████████████████████████████████████| 121/121 [00:00<00:00, 401.13it/s]\n",
      "0it [00:00, ?it/s]\n",
      "100%|████████████████████████████████████████████████████████████████████████████████| 121/121 [00:00<00:00, 370.45it/s]\n",
      "0it [00:00, ?it/s]\n",
      "100%|████████████████████████████████████████████████████████████████████████████████| 121/121 [00:00<00:00, 389.75it/s]\n",
      "0it [00:00, ?it/s]\n",
      "100%|████████████████████████████████████████████████████████████████████████████████| 121/121 [00:00<00:00, 407.25it/s]\n",
      "0it [00:00, ?it/s]\n",
      "100%|████████████████████████████████████████████████████████████████████████████████| 121/121 [00:00<00:00, 406.34it/s]\n",
      "0it [00:00, ?it/s]\n",
      "100%|████████████████████████████████████████████████████████████████████████████████| 121/121 [00:00<00:00, 387.03it/s]\n",
      "0it [00:00, ?it/s]\n",
      "100%|████████████████████████████████████████████████████████████████████████████████| 121/121 [00:00<00:00, 408.10it/s]\n",
      "0it [00:00, ?it/s]\n"
     ]
    },
    {
     "name": "stdout",
     "output_type": "stream",
     "text": [
      "theta = -146.20515149488466, x_initial = -95, y_initial = -140\n"
     ]
    },
    {
     "name": "stderr",
     "output_type": "stream",
     "text": [
      "100%|████████████████████████████████████████████████████████████████████████████████| 121/121 [00:00<00:00, 342.81it/s]\n",
      "100%|█████████████████████████████████████████████████████████████████████████████████| 216/216 [00:02<00:00, 74.90it/s]\n",
      "100%|████████████████████████████████████████████████████████████████████████████████| 121/121 [00:00<00:00, 352.67it/s]\n",
      "100%|█████████████████████████████████████████████████████████████████████████████████| 189/189 [00:02<00:00, 75.62it/s]\n",
      "100%|████████████████████████████████████████████████████████████████████████████████| 121/121 [00:00<00:00, 344.40it/s]\n",
      "100%|█████████████████████████████████████████████████████████████████████████████████| 171/171 [00:02<00:00, 78.12it/s]\n",
      "100%|████████████████████████████████████████████████████████████████████████████████| 121/121 [00:00<00:00, 337.19it/s]\n",
      "100%|█████████████████████████████████████████████████████████████████████████████████| 126/126 [00:01<00:00, 77.03it/s]\n",
      "100%|████████████████████████████████████████████████████████████████████████████████| 121/121 [00:00<00:00, 352.72it/s]\n",
      "100%|███████████████████████████████████████████████████████████████████████████████████| 81/81 [00:01<00:00, 79.32it/s]\n",
      "100%|████████████████████████████████████████████████████████████████████████████████| 121/121 [00:00<00:00, 341.70it/s]\n",
      "100%|███████████████████████████████████████████████████████████████████████████████████| 36/36 [00:00<00:00, 78.58it/s]\n",
      "100%|████████████████████████████████████████████████████████████████████████████████| 121/121 [00:00<00:00, 355.38it/s]\n",
      "100%|█████████████████████████████████████████████████████████████████████████████████████| 9/9 [00:00<00:00, 85.39it/s]\n"
     ]
    },
    {
     "name": "stdout",
     "output_type": "stream",
     "text": [
      "theta = -71.26421539200348, x_initial = 129, y_initial = -2\n"
     ]
    },
    {
     "name": "stderr",
     "output_type": "stream",
     "text": [
      "100%|████████████████████████████████████████████████████████████████████████████████| 121/121 [00:00<00:00, 331.54it/s]\n",
      "0it [00:00, ?it/s]\n",
      "100%|████████████████████████████████████████████████████████████████████████████████| 121/121 [00:00<00:00, 311.06it/s]\n",
      "0it [00:00, ?it/s]\n",
      "100%|████████████████████████████████████████████████████████████████████████████████| 121/121 [00:00<00:00, 321.73it/s]\n",
      "0it [00:00, ?it/s]\n",
      "100%|████████████████████████████████████████████████████████████████████████████████| 121/121 [00:00<00:00, 331.01it/s]\n",
      "0it [00:00, ?it/s]\n",
      "100%|████████████████████████████████████████████████████████████████████████████████| 121/121 [00:00<00:00, 320.84it/s]\n",
      "0it [00:00, ?it/s]\n",
      "100%|████████████████████████████████████████████████████████████████████████████████| 121/121 [00:00<00:00, 342.27it/s]\n",
      "0it [00:00, ?it/s]\n",
      "100%|████████████████████████████████████████████████████████████████████████████████| 121/121 [00:00<00:00, 355.02it/s]\n",
      "0it [00:00, ?it/s]\n"
     ]
    },
    {
     "name": "stdout",
     "output_type": "stream",
     "text": [
      "Too far translations filtered out: 1442\n",
      "Alignment time: 43.290534257888794\n",
      "Length: 3\n",
      "Aligning 6 and 9\n",
      "new diag score is estimated\n"
     ]
    },
    {
     "name": "stderr",
     "output_type": "stream",
     "text": [
      "100%|████████████████████████████████████████████████████████████████████████████████| 842/842 [00:04<00:00, 179.82it/s]\n"
     ]
    },
    {
     "name": "stdout",
     "output_type": "stream",
     "text": [
      "22\n",
      "6\n",
      "theta = -0.0, x_initial = 131, y_initial = 95\n"
     ]
    },
    {
     "name": "stderr",
     "output_type": "stream",
     "text": [
      "100%|████████████████████████████████████████████████████████████████████████████████| 121/121 [00:00<00:00, 194.98it/s]\n",
      "100%|█████████████████████████████████████████████████████████████████████████████████| 108/108 [00:02<00:00, 40.59it/s]\n",
      "100%|████████████████████████████████████████████████████████████████████████████████| 121/121 [00:00<00:00, 194.93it/s]\n",
      "100%|█████████████████████████████████████████████████████████████████████████████████| 153/153 [00:04<00:00, 37.60it/s]\n",
      "100%|████████████████████████████████████████████████████████████████████████████████| 121/121 [00:00<00:00, 192.29it/s]\n",
      "100%|█████████████████████████████████████████████████████████████████████████████████| 162/162 [00:04<00:00, 33.87it/s]\n",
      "100%|████████████████████████████████████████████████████████████████████████████████| 121/121 [00:00<00:00, 195.50it/s]\n",
      "100%|█████████████████████████████████████████████████████████████████████████████████| 225/225 [00:06<00:00, 36.72it/s]\n",
      "100%|████████████████████████████████████████████████████████████████████████████████| 121/121 [00:00<00:00, 195.69it/s]\n",
      "100%|█████████████████████████████████████████████████████████████████████████████████| 216/216 [00:05<00:00, 36.65it/s]\n",
      "100%|████████████████████████████████████████████████████████████████████████████████| 121/121 [00:00<00:00, 194.52it/s]\n",
      "100%|█████████████████████████████████████████████████████████████████████████████████| 207/207 [00:05<00:00, 36.17it/s]\n",
      "100%|████████████████████████████████████████████████████████████████████████████████| 121/121 [00:00<00:00, 191.98it/s]\n",
      "100%|█████████████████████████████████████████████████████████████████████████████████| 171/171 [00:04<00:00, 37.38it/s]\n"
     ]
    },
    {
     "name": "stdout",
     "output_type": "stream",
     "text": [
      "theta = -91.3459978165261, x_initial = -232, y_initial = -156\n"
     ]
    },
    {
     "name": "stderr",
     "output_type": "stream",
     "text": [
      "100%|████████████████████████████████████████████████████████████████████████████████| 121/121 [00:00<00:00, 175.11it/s]\n",
      "0it [00:00, ?it/s]\n",
      "100%|████████████████████████████████████████████████████████████████████████████████| 121/121 [00:00<00:00, 175.04it/s]\n",
      "0it [00:00, ?it/s]\n",
      "100%|████████████████████████████████████████████████████████████████████████████████| 121/121 [00:00<00:00, 174.88it/s]\n",
      "0it [00:00, ?it/s]\n",
      "100%|████████████████████████████████████████████████████████████████████████████████| 121/121 [00:00<00:00, 171.88it/s]\n",
      "0it [00:00, ?it/s]\n",
      "100%|████████████████████████████████████████████████████████████████████████████████| 121/121 [00:00<00:00, 173.72it/s]\n",
      "0it [00:00, ?it/s]\n",
      "100%|████████████████████████████████████████████████████████████████████████████████| 121/121 [00:00<00:00, 173.59it/s]\n",
      "0it [00:00, ?it/s]\n",
      "100%|████████████████████████████████████████████████████████████████████████████████| 121/121 [00:00<00:00, 169.41it/s]\n",
      "0it [00:00, ?it/s]\n"
     ]
    },
    {
     "name": "stdout",
     "output_type": "stream",
     "text": [
      "theta = -177.41799984397, x_initial = 205, y_initial = -74\n"
     ]
    },
    {
     "name": "stderr",
     "output_type": "stream",
     "text": [
      "100%|████████████████████████████████████████████████████████████████████████████████| 121/121 [00:00<00:00, 185.36it/s]\n",
      "100%|███████████████████████████████████████████████████████████████████████████████████| 90/90 [00:02<00:00, 37.59it/s]\n",
      "100%|████████████████████████████████████████████████████████████████████████████████| 121/121 [00:00<00:00, 184.95it/s]\n",
      "100%|█████████████████████████████████████████████████████████████████████████████████| 171/171 [00:04<00:00, 36.21it/s]\n",
      "100%|████████████████████████████████████████████████████████████████████████████████| 121/121 [00:00<00:00, 182.59it/s]\n",
      "100%|█████████████████████████████████████████████████████████████████████████████████| 198/198 [00:05<00:00, 35.84it/s]\n",
      "100%|████████████████████████████████████████████████████████████████████████████████| 121/121 [00:00<00:00, 181.85it/s]\n",
      "100%|█████████████████████████████████████████████████████████████████████████████████| 225/225 [00:06<00:00, 36.42it/s]\n",
      "100%|████████████████████████████████████████████████████████████████████████████████| 121/121 [00:00<00:00, 183.68it/s]\n",
      "100%|█████████████████████████████████████████████████████████████████████████████████| 216/216 [00:06<00:00, 35.05it/s]\n",
      "100%|████████████████████████████████████████████████████████████████████████████████| 121/121 [00:00<00:00, 182.78it/s]\n",
      "100%|█████████████████████████████████████████████████████████████████████████████████| 216/216 [00:05<00:00, 36.01it/s]\n",
      "100%|████████████████████████████████████████████████████████████████████████████████| 121/121 [00:00<00:00, 182.90it/s]\n",
      "100%|█████████████████████████████████████████████████████████████████████████████████| 153/153 [00:04<00:00, 35.49it/s]\n"
     ]
    },
    {
     "name": "stdout",
     "output_type": "stream",
     "text": [
      "theta = -115.08366493958107, x_initial = -220, y_initial = -138\n"
     ]
    },
    {
     "name": "stderr",
     "output_type": "stream",
     "text": [
      "100%|████████████████████████████████████████████████████████████████████████████████| 121/121 [00:00<00:00, 178.50it/s]\n",
      "100%|███████████████████████████████████████████████████████████████████████████████████| 72/72 [00:02<00:00, 35.01it/s]\n",
      "100%|████████████████████████████████████████████████████████████████████████████████| 121/121 [00:00<00:00, 177.95it/s]\n",
      "100%|███████████████████████████████████████████████████████████████████████████████████| 99/99 [00:02<00:00, 36.76it/s]\n",
      "100%|████████████████████████████████████████████████████████████████████████████████| 121/121 [00:00<00:00, 177.61it/s]\n",
      "100%|███████████████████████████████████████████████████████████████████████████████████| 99/99 [00:02<00:00, 35.72it/s]\n",
      "100%|████████████████████████████████████████████████████████████████████████████████| 121/121 [00:00<00:00, 178.67it/s]\n",
      "100%|█████████████████████████████████████████████████████████████████████████████████| 108/108 [00:03<00:00, 35.84it/s]\n",
      "100%|████████████████████████████████████████████████████████████████████████████████| 121/121 [00:00<00:00, 177.62it/s]\n",
      "100%|███████████████████████████████████████████████████████████████████████████████████| 90/90 [00:02<00:00, 33.83it/s]\n",
      "100%|████████████████████████████████████████████████████████████████████████████████| 121/121 [00:00<00:00, 178.86it/s]\n",
      "100%|███████████████████████████████████████████████████████████████████████████████████| 90/90 [00:02<00:00, 35.65it/s]\n",
      "100%|████████████████████████████████████████████████████████████████████████████████| 121/121 [00:00<00:00, 179.56it/s]\n",
      "100%|███████████████████████████████████████████████████████████████████████████████████| 72/72 [00:01<00:00, 36.71it/s]\n"
     ]
    },
    {
     "name": "stdout",
     "output_type": "stream",
     "text": [
      "Too far translations filtered out: 1875\n",
      "Alignment time: 117.30042815208435\n",
      "Length: 2\n",
      "Aligning 6 and 10\n",
      "new diag score is estimated\n"
     ]
    },
    {
     "name": "stderr",
     "output_type": "stream",
     "text": [
      "100%|████████████████████████████████████████████████████████████████████████████████| 842/842 [00:02<00:00, 378.18it/s]\n"
     ]
    },
    {
     "name": "stdout",
     "output_type": "stream",
     "text": [
      "17\n",
      "8\n",
      "theta = -151.70830644247314, x_initial = 82, y_initial = 112\n"
     ]
    },
    {
     "name": "stderr",
     "output_type": "stream",
     "text": [
      "100%|████████████████████████████████████████████████████████████████████████████████| 121/121 [00:00<00:00, 412.95it/s]\n",
      "100%|███████████████████████████████████████████████████████████████████████████████████| 18/18 [00:00<00:00, 96.92it/s]\n",
      "100%|████████████████████████████████████████████████████████████████████████████████| 121/121 [00:00<00:00, 419.17it/s]\n",
      "0it [00:00, ?it/s]\n",
      "100%|████████████████████████████████████████████████████████████████████████████████| 121/121 [00:00<00:00, 414.15it/s]\n",
      "0it [00:00, ?it/s]\n",
      "100%|████████████████████████████████████████████████████████████████████████████████| 121/121 [00:00<00:00, 416.82it/s]\n",
      "0it [00:00, ?it/s]\n",
      "100%|████████████████████████████████████████████████████████████████████████████████| 121/121 [00:00<00:00, 417.62it/s]\n",
      "0it [00:00, ?it/s]\n",
      "100%|████████████████████████████████████████████████████████████████████████████████| 121/121 [00:00<00:00, 415.18it/s]\n",
      "0it [00:00, ?it/s]\n",
      "100%|████████████████████████████████████████████████████████████████████████████████| 121/121 [00:00<00:00, 417.52it/s]\n",
      "0it [00:00, ?it/s]\n"
     ]
    },
    {
     "name": "stdout",
     "output_type": "stream",
     "text": [
      "theta = -113.96948231775968, x_initial = 153, y_initial = -30\n"
     ]
    },
    {
     "name": "stderr",
     "output_type": "stream",
     "text": [
      "100%|████████████████████████████████████████████████████████████████████████████████| 121/121 [00:00<00:00, 388.47it/s]\n",
      "0it [00:00, ?it/s]\n",
      "100%|████████████████████████████████████████████████████████████████████████████████| 121/121 [00:00<00:00, 395.95it/s]\n",
      "0it [00:00, ?it/s]\n",
      "100%|████████████████████████████████████████████████████████████████████████████████| 121/121 [00:00<00:00, 388.77it/s]\n",
      "0it [00:00, ?it/s]\n",
      "100%|████████████████████████████████████████████████████████████████████████████████| 121/121 [00:00<00:00, 379.04it/s]\n",
      "0it [00:00, ?it/s]\n",
      "100%|████████████████████████████████████████████████████████████████████████████████| 121/121 [00:00<00:00, 403.17it/s]\n",
      "0it [00:00, ?it/s]\n",
      "100%|████████████████████████████████████████████████████████████████████████████████| 121/121 [00:00<00:00, 385.46it/s]\n",
      "0it [00:00, ?it/s]\n",
      "100%|████████████████████████████████████████████████████████████████████████████████| 121/121 [00:00<00:00, 396.96it/s]\n",
      "0it [00:00, ?it/s]\n"
     ]
    },
    {
     "name": "stdout",
     "output_type": "stream",
     "text": [
      "theta = -126.86989764584402, x_initial = 87, y_initial = -102\n"
     ]
    },
    {
     "name": "stderr",
     "output_type": "stream",
     "text": [
      "100%|████████████████████████████████████████████████████████████████████████████████| 121/121 [00:00<00:00, 387.99it/s]\n",
      "100%|█████████████████████████████████████████████████████████████████████████████████| 189/189 [00:02<00:00, 81.07it/s]\n",
      "100%|████████████████████████████████████████████████████████████████████████████████| 121/121 [00:00<00:00, 408.86it/s]\n",
      "100%|█████████████████████████████████████████████████████████████████████████████████| 234/234 [00:02<00:00, 81.39it/s]\n",
      "100%|████████████████████████████████████████████████████████████████████████████████| 121/121 [00:00<00:00, 403.38it/s]\n",
      "100%|█████████████████████████████████████████████████████████████████████████████████| 252/252 [00:03<00:00, 83.76it/s]\n",
      "100%|████████████████████████████████████████████████████████████████████████████████| 121/121 [00:00<00:00, 392.90it/s]\n",
      "100%|█████████████████████████████████████████████████████████████████████████████████| 225/225 [00:02<00:00, 78.82it/s]\n",
      "100%|████████████████████████████████████████████████████████████████████████████████| 121/121 [00:00<00:00, 395.89it/s]\n",
      "100%|█████████████████████████████████████████████████████████████████████████████████| 225/225 [00:02<00:00, 81.98it/s]\n",
      "100%|████████████████████████████████████████████████████████████████████████████████| 121/121 [00:00<00:00, 372.79it/s]\n",
      "100%|█████████████████████████████████████████████████████████████████████████████████| 180/180 [00:02<00:00, 80.01it/s]\n",
      "100%|████████████████████████████████████████████████████████████████████████████████| 121/121 [00:00<00:00, 400.78it/s]\n",
      "100%|█████████████████████████████████████████████████████████████████████████████████| 171/171 [00:01<00:00, 86.02it/s]\n"
     ]
    },
    {
     "name": "stdout",
     "output_type": "stream",
     "text": [
      "theta = -88.31287538609223, x_initial = -45, y_initial = 80\n"
     ]
    },
    {
     "name": "stderr",
     "output_type": "stream",
     "text": [
      "100%|████████████████████████████████████████████████████████████████████████████████| 121/121 [00:00<00:00, 433.14it/s]\n",
      "0it [00:00, ?it/s]\n",
      "100%|████████████████████████████████████████████████████████████████████████████████| 121/121 [00:00<00:00, 435.82it/s]\n",
      "0it [00:00, ?it/s]\n",
      "100%|████████████████████████████████████████████████████████████████████████████████| 121/121 [00:00<00:00, 437.66it/s]\n",
      "0it [00:00, ?it/s]\n",
      "100%|████████████████████████████████████████████████████████████████████████████████| 121/121 [00:00<00:00, 423.01it/s]\n",
      "0it [00:00, ?it/s]\n",
      "100%|████████████████████████████████████████████████████████████████████████████████| 121/121 [00:00<00:00, 432.93it/s]\n",
      "0it [00:00, ?it/s]\n",
      "100%|████████████████████████████████████████████████████████████████████████████████| 121/121 [00:00<00:00, 436.67it/s]\n",
      "0it [00:00, ?it/s]\n",
      "100%|████████████████████████████████████████████████████████████████████████████████| 121/121 [00:00<00:00, 426.06it/s]\n",
      "0it [00:00, ?it/s]\n"
     ]
    },
    {
     "name": "stdout",
     "output_type": "stream",
     "text": [
      "Too far translations filtered out: 1271\n",
      "Alignment time: 33.341164350509644\n",
      "Length: 1\n",
      "Aligning 6 and 11\n",
      "new diag score is estimated\n"
     ]
    },
    {
     "name": "stderr",
     "output_type": "stream",
     "text": [
      "100%|████████████████████████████████████████████████████████████████████████████████| 842/842 [00:03<00:00, 226.27it/s]\n"
     ]
    },
    {
     "name": "stdout",
     "output_type": "stream",
     "text": [
      "23\n",
      "8\n",
      "theta = -107.71553114807688, x_initial = 86, y_initial = 118\n"
     ]
    },
    {
     "name": "stderr",
     "output_type": "stream",
     "text": [
      "100%|████████████████████████████████████████████████████████████████████████████████| 121/121 [00:00<00:00, 205.38it/s]\n",
      "0it [00:00, ?it/s]\n",
      "100%|████████████████████████████████████████████████████████████████████████████████| 121/121 [00:00<00:00, 200.60it/s]\n",
      "0it [00:00, ?it/s]\n",
      "100%|████████████████████████████████████████████████████████████████████████████████| 121/121 [00:00<00:00, 203.73it/s]\n",
      "0it [00:00, ?it/s]\n",
      "100%|████████████████████████████████████████████████████████████████████████████████| 121/121 [00:00<00:00, 200.73it/s]\n",
      "0it [00:00, ?it/s]\n",
      "100%|████████████████████████████████████████████████████████████████████████████████| 121/121 [00:00<00:00, 198.68it/s]\n",
      "0it [00:00, ?it/s]\n",
      "100%|████████████████████████████████████████████████████████████████████████████████| 121/121 [00:00<00:00, 202.82it/s]\n",
      "0it [00:00, ?it/s]\n",
      "100%|████████████████████████████████████████████████████████████████████████████████| 121/121 [00:00<00:00, 198.00it/s]\n",
      "0it [00:00, ?it/s]\n"
     ]
    },
    {
     "name": "stdout",
     "output_type": "stream",
     "text": [
      "theta = -136.59723854778946, x_initial = -239, y_initial = 31\n"
     ]
    },
    {
     "name": "stderr",
     "output_type": "stream",
     "text": [
      "100%|████████████████████████████████████████████████████████████████████████████████| 121/121 [00:00<00:00, 184.76it/s]\n",
      "100%|█████████████████████████████████████████████████████████████████████████████████| 153/153 [00:04<00:00, 34.75it/s]\n",
      "100%|████████████████████████████████████████████████████████████████████████████████| 121/121 [00:00<00:00, 186.29it/s]\n",
      "100%|█████████████████████████████████████████████████████████████████████████████████| 198/198 [00:05<00:00, 35.26it/s]\n",
      "100%|████████████████████████████████████████████████████████████████████████████████| 121/121 [00:00<00:00, 189.25it/s]\n",
      "100%|█████████████████████████████████████████████████████████████████████████████████| 189/189 [00:05<00:00, 37.38it/s]\n",
      "100%|████████████████████████████████████████████████████████████████████████████████| 121/121 [00:00<00:00, 186.70it/s]\n",
      "100%|█████████████████████████████████████████████████████████████████████████████████| 189/189 [00:05<00:00, 36.86it/s]\n",
      "100%|████████████████████████████████████████████████████████████████████████████████| 121/121 [00:00<00:00, 181.36it/s]\n",
      "100%|█████████████████████████████████████████████████████████████████████████████████| 153/153 [00:04<00:00, 35.59it/s]\n",
      "100%|████████████████████████████████████████████████████████████████████████████████| 121/121 [00:00<00:00, 160.88it/s]\n",
      "100%|█████████████████████████████████████████████████████████████████████████████████| 117/117 [00:03<00:00, 33.07it/s]\n",
      "100%|████████████████████████████████████████████████████████████████████████████████| 121/121 [00:00<00:00, 162.21it/s]\n",
      "100%|███████████████████████████████████████████████████████████████████████████████████| 63/63 [00:01<00:00, 33.88it/s]\n"
     ]
    },
    {
     "name": "stdout",
     "output_type": "stream",
     "text": [
      "theta = -161.12869487402773, x_initial = 182, y_initial = -94\n"
     ]
    },
    {
     "name": "stderr",
     "output_type": "stream",
     "text": [
      "100%|████████████████████████████████████████████████████████████████████████████████| 121/121 [00:00<00:00, 182.38it/s]\n",
      "100%|███████████████████████████████████████████████████████████████████████████████████| 72/72 [00:02<00:00, 34.51it/s]\n",
      "100%|████████████████████████████████████████████████████████████████████████████████| 121/121 [00:00<00:00, 158.10it/s]\n",
      "100%|███████████████████████████████████████████████████████████████████████████████████| 45/45 [00:01<00:00, 32.64it/s]\n",
      "100%|████████████████████████████████████████████████████████████████████████████████| 121/121 [00:00<00:00, 182.23it/s]\n",
      "100%|███████████████████████████████████████████████████████████████████████████████████| 36/36 [00:00<00:00, 44.20it/s]\n",
      "100%|████████████████████████████████████████████████████████████████████████████████| 121/121 [00:00<00:00, 180.01it/s]\n",
      "100%|█████████████████████████████████████████████████████████████████████████████████████| 9/9 [00:00<00:00, 51.15it/s]\n",
      "100%|████████████████████████████████████████████████████████████████████████████████| 121/121 [00:00<00:00, 190.01it/s]\n",
      "0it [00:00, ?it/s]\n",
      "100%|████████████████████████████████████████████████████████████████████████████████| 121/121 [00:00<00:00, 179.78it/s]\n",
      "0it [00:00, ?it/s]\n",
      "100%|████████████████████████████████████████████████████████████████████████████████| 121/121 [00:00<00:00, 190.46it/s]\n",
      "0it [00:00, ?it/s]\n"
     ]
    },
    {
     "name": "stdout",
     "output_type": "stream",
     "text": [
      "theta = -49.891042484312926, x_initial = -31, y_initial = -140\n"
     ]
    },
    {
     "name": "stderr",
     "output_type": "stream",
     "text": [
      "100%|████████████████████████████████████████████████████████████████████████████████| 121/121 [00:00<00:00, 201.98it/s]\n",
      "100%|█████████████████████████████████████████████████████████████████████████████████| 171/171 [00:04<00:00, 35.15it/s]\n",
      "100%|████████████████████████████████████████████████████████████████████████████████| 121/121 [00:00<00:00, 204.70it/s]\n",
      "100%|█████████████████████████████████████████████████████████████████████████████████| 171/171 [00:04<00:00, 35.78it/s]\n",
      "100%|████████████████████████████████████████████████████████████████████████████████| 121/121 [00:00<00:00, 200.51it/s]\n",
      "100%|█████████████████████████████████████████████████████████████████████████████████| 198/198 [00:05<00:00, 37.91it/s]\n",
      "100%|████████████████████████████████████████████████████████████████████████████████| 121/121 [00:00<00:00, 179.66it/s]\n",
      "100%|█████████████████████████████████████████████████████████████████████████████████| 180/180 [00:04<00:00, 36.78it/s]\n",
      "100%|████████████████████████████████████████████████████████████████████████████████| 121/121 [00:00<00:00, 202.34it/s]\n",
      "100%|█████████████████████████████████████████████████████████████████████████████████| 171/171 [00:04<00:00, 36.09it/s]\n",
      "100%|████████████████████████████████████████████████████████████████████████████████| 121/121 [00:00<00:00, 201.56it/s]\n",
      "100%|█████████████████████████████████████████████████████████████████████████████████| 135/135 [00:03<00:00, 34.34it/s]\n",
      "100%|████████████████████████████████████████████████████████████████████████████████| 121/121 [00:00<00:00, 201.35it/s]\n",
      "100%|█████████████████████████████████████████████████████████████████████████████████| 162/162 [00:04<00:00, 35.60it/s]\n"
     ]
    },
    {
     "name": "stdout",
     "output_type": "stream",
     "text": [
      "Too far translations filtered out: 1103\n",
      "Alignment time: 95.32918524742126\n",
      "Length: 1\n",
      "Aligning 6 and 12\n",
      "new diag score is estimated\n"
     ]
    },
    {
     "name": "stderr",
     "output_type": "stream",
     "text": [
      "100%|████████████████████████████████████████████████████████████████████████████████| 842/842 [00:01<00:00, 718.70it/s]\n"
     ]
    },
    {
     "name": "stdout",
     "output_type": "stream",
     "text": [
      "10\n",
      "4\n",
      "theta = -99.36339972923302, x_initial = 104, y_initial = -12\n"
     ]
    },
    {
     "name": "stderr",
     "output_type": "stream",
     "text": [
      "100%|████████████████████████████████████████████████████████████████████████████████| 121/121 [00:00<00:00, 506.83it/s]\n",
      "0it [00:00, ?it/s]\n",
      "100%|████████████████████████████████████████████████████████████████████████████████| 121/121 [00:00<00:00, 516.96it/s]\n",
      "0it [00:00, ?it/s]\n",
      "100%|████████████████████████████████████████████████████████████████████████████████| 121/121 [00:00<00:00, 521.65it/s]\n",
      "0it [00:00, ?it/s]\n",
      "100%|████████████████████████████████████████████████████████████████████████████████| 121/121 [00:00<00:00, 537.60it/s]\n",
      "0it [00:00, ?it/s]\n",
      "100%|████████████████████████████████████████████████████████████████████████████████| 121/121 [00:00<00:00, 541.32it/s]\n",
      "0it [00:00, ?it/s]\n",
      "100%|████████████████████████████████████████████████████████████████████████████████| 121/121 [00:00<00:00, 549.92it/s]\n",
      "0it [00:00, ?it/s]\n",
      "100%|████████████████████████████████████████████████████████████████████████████████| 121/121 [00:00<00:00, 527.61it/s]\n",
      "0it [00:00, ?it/s]\n"
     ]
    },
    {
     "name": "stdout",
     "output_type": "stream",
     "text": [
      "theta = -91.47953905321368, x_initial = -62, y_initial = 69\n"
     ]
    },
    {
     "name": "stderr",
     "output_type": "stream",
     "text": [
      "100%|████████████████████████████████████████████████████████████████████████████████| 121/121 [00:00<00:00, 530.07it/s]\n",
      "100%|████████████████████████████████████████████████████████████████████████████████| 153/153 [00:01<00:00, 104.24it/s]\n",
      "100%|████████████████████████████████████████████████████████████████████████████████| 121/121 [00:00<00:00, 536.85it/s]\n",
      "100%|████████████████████████████████████████████████████████████████████████████████| 180/180 [00:01<00:00, 111.82it/s]\n",
      "100%|████████████████████████████████████████████████████████████████████████████████| 121/121 [00:00<00:00, 538.33it/s]\n",
      "100%|████████████████████████████████████████████████████████████████████████████████| 234/234 [00:01<00:00, 117.41it/s]\n",
      "100%|████████████████████████████████████████████████████████████████████████████████| 121/121 [00:00<00:00, 551.01it/s]\n",
      "100%|████████████████████████████████████████████████████████████████████████████████| 207/207 [00:01<00:00, 107.61it/s]\n",
      "100%|████████████████████████████████████████████████████████████████████████████████| 121/121 [00:00<00:00, 520.94it/s]\n",
      "100%|████████████████████████████████████████████████████████████████████████████████| 207/207 [00:01<00:00, 113.88it/s]\n",
      "100%|████████████████████████████████████████████████████████████████████████████████| 121/121 [00:00<00:00, 555.40it/s]\n",
      "100%|████████████████████████████████████████████████████████████████████████████████| 207/207 [00:01<00:00, 113.88it/s]\n",
      "100%|████████████████████████████████████████████████████████████████████████████████| 121/121 [00:00<00:00, 555.36it/s]\n",
      "100%|████████████████████████████████████████████████████████████████████████████████| 180/180 [00:01<00:00, 116.80it/s]\n"
     ]
    },
    {
     "name": "stdout",
     "output_type": "stream",
     "text": [
      "theta = -163.43687135488483, x_initial = -7, y_initial = -86\n"
     ]
    },
    {
     "name": "stderr",
     "output_type": "stream",
     "text": [
      "100%|████████████████████████████████████████████████████████████████████████████████| 121/121 [00:00<00:00, 627.18it/s]\n",
      "100%|████████████████████████████████████████████████████████████████████████████████| 144/144 [00:01<00:00, 118.70it/s]\n",
      "100%|████████████████████████████████████████████████████████████████████████████████| 121/121 [00:00<00:00, 584.35it/s]\n",
      "100%|████████████████████████████████████████████████████████████████████████████████| 108/108 [00:00<00:00, 121.48it/s]\n",
      "100%|████████████████████████████████████████████████████████████████████████████████| 121/121 [00:00<00:00, 605.23it/s]\n",
      "100%|██████████████████████████████████████████████████████████████████████████████████| 54/54 [00:00<00:00, 115.02it/s]\n",
      "100%|████████████████████████████████████████████████████████████████████████████████| 121/121 [00:00<00:00, 622.74it/s]\n",
      "100%|██████████████████████████████████████████████████████████████████████████████████| 27/27 [00:00<00:00, 133.40it/s]\n",
      "100%|████████████████████████████████████████████████████████████████████████████████| 121/121 [00:00<00:00, 606.50it/s]\n",
      "0it [00:00, ?it/s]\n",
      "100%|████████████████████████████████████████████████████████████████████████████████| 121/121 [00:00<00:00, 604.92it/s]\n",
      "0it [00:00, ?it/s]\n",
      "100%|████████████████████████████████████████████████████████████████████████████████| 121/121 [00:00<00:00, 596.57it/s]\n",
      "0it [00:00, ?it/s]\n"
     ]
    },
    {
     "name": "stdout",
     "output_type": "stream",
     "text": [
      "theta = -53.83787820344838, x_initial = 82, y_initial = 36\n"
     ]
    },
    {
     "name": "stderr",
     "output_type": "stream",
     "text": [
      "100%|████████████████████████████████████████████████████████████████████████████████| 121/121 [00:00<00:00, 570.82it/s]\n",
      "0it [00:00, ?it/s]\n",
      "100%|████████████████████████████████████████████████████████████████████████████████| 121/121 [00:00<00:00, 572.18it/s]\n",
      "0it [00:00, ?it/s]\n",
      "100%|████████████████████████████████████████████████████████████████████████████████| 121/121 [00:00<00:00, 573.38it/s]\n",
      "0it [00:00, ?it/s]\n",
      "100%|████████████████████████████████████████████████████████████████████████████████| 121/121 [00:00<00:00, 587.29it/s]\n",
      "0it [00:00, ?it/s]\n",
      "100%|████████████████████████████████████████████████████████████████████████████████| 121/121 [00:00<00:00, 567.96it/s]\n",
      "0it [00:00, ?it/s]\n",
      "100%|████████████████████████████████████████████████████████████████████████████████| 121/121 [00:00<00:00, 583.08it/s]\n",
      "0it [00:00, ?it/s]\n",
      "100%|████████████████████████████████████████████████████████████████████████████████| 121/121 [00:00<00:00, 569.10it/s]\n",
      "0it [00:00, ?it/s]\n"
     ]
    },
    {
     "name": "stdout",
     "output_type": "stream",
     "text": [
      "Too far translations filtered out: 1087\n",
      "Alignment time: 25.070153951644897\n",
      "Length: 2\n",
      "Aligning 6 and 14\n",
      "new diag score is estimated\n"
     ]
    },
    {
     "name": "stderr",
     "output_type": "stream",
     "text": [
      "100%|████████████████████████████████████████████████████████████████████████████████| 842/842 [00:03<00:00, 250.43it/s]\n"
     ]
    },
    {
     "name": "stdout",
     "output_type": "stream",
     "text": [
      "17\n",
      "6\n",
      "theta = -170.1858570115781, x_initial = -186, y_initial = -18\n"
     ]
    },
    {
     "name": "stderr",
     "output_type": "stream",
     "text": [
      "100%|████████████████████████████████████████████████████████████████████████████████| 121/121 [00:00<00:00, 212.14it/s]\n",
      "100%|█████████████████████████████████████████████████████████████████████████████████| 180/180 [00:04<00:00, 43.22it/s]\n",
      "100%|████████████████████████████████████████████████████████████████████████████████| 121/121 [00:00<00:00, 216.05it/s]\n",
      "100%|█████████████████████████████████████████████████████████████████████████████████| 189/189 [00:04<00:00, 42.78it/s]\n",
      "100%|████████████████████████████████████████████████████████████████████████████████| 121/121 [00:00<00:00, 215.15it/s]\n",
      "100%|█████████████████████████████████████████████████████████████████████████████████| 153/153 [00:03<00:00, 42.50it/s]\n",
      "100%|████████████████████████████████████████████████████████████████████████████████| 121/121 [00:00<00:00, 215.13it/s]\n",
      "100%|█████████████████████████████████████████████████████████████████████████████████| 126/126 [00:02<00:00, 43.56it/s]\n",
      "100%|████████████████████████████████████████████████████████████████████████████████| 121/121 [00:00<00:00, 210.26it/s]\n",
      "100%|███████████████████████████████████████████████████████████████████████████████████| 90/90 [00:02<00:00, 44.63it/s]\n",
      "100%|████████████████████████████████████████████████████████████████████████████████| 121/121 [00:00<00:00, 216.93it/s]\n",
      "100%|███████████████████████████████████████████████████████████████████████████████████| 63/63 [00:01<00:00, 46.01it/s]\n",
      "100%|████████████████████████████████████████████████████████████████████████████████| 121/121 [00:00<00:00, 213.95it/s]\n",
      "100%|█████████████████████████████████████████████████████████████████████████████████████| 9/9 [00:00<00:00, 42.41it/s]\n"
     ]
    },
    {
     "name": "stdout",
     "output_type": "stream",
     "text": [
      "theta = -53.48668375451374, x_initial = -204, y_initial = -43\n"
     ]
    },
    {
     "name": "stderr",
     "output_type": "stream",
     "text": [
      "100%|████████████████████████████████████████████████████████████████████████████████| 121/121 [00:00<00:00, 217.07it/s]\n",
      "0it [00:00, ?it/s]\n",
      "100%|████████████████████████████████████████████████████████████████████████████████| 121/121 [00:00<00:00, 205.26it/s]\n",
      "0it [00:00, ?it/s]\n",
      "100%|████████████████████████████████████████████████████████████████████████████████| 121/121 [00:00<00:00, 215.89it/s]\n",
      "0it [00:00, ?it/s]\n",
      "100%|████████████████████████████████████████████████████████████████████████████████| 121/121 [00:00<00:00, 213.62it/s]\n",
      "0it [00:00, ?it/s]\n",
      "100%|████████████████████████████████████████████████████████████████████████████████| 121/121 [00:00<00:00, 204.46it/s]\n",
      "0it [00:00, ?it/s]\n",
      "100%|████████████████████████████████████████████████████████████████████████████████| 121/121 [00:00<00:00, 207.06it/s]\n",
      "0it [00:00, ?it/s]\n",
      "100%|████████████████████████████████████████████████████████████████████████████████| 121/121 [00:00<00:00, 198.77it/s]\n",
      "0it [00:00, ?it/s]\n"
     ]
    },
    {
     "name": "stdout",
     "output_type": "stream",
     "text": [
      "theta = -14.686415987526763, x_initial = 140, y_initial = 63\n"
     ]
    },
    {
     "name": "stderr",
     "output_type": "stream",
     "text": [
      "100%|████████████████████████████████████████████████████████████████████████████████| 121/121 [00:00<00:00, 218.30it/s]\n",
      "100%|█████████████████████████████████████████████████████████████████████████████████| 117/117 [00:02<00:00, 39.91it/s]\n",
      "100%|████████████████████████████████████████████████████████████████████████████████| 121/121 [00:00<00:00, 219.98it/s]\n",
      "100%|█████████████████████████████████████████████████████████████████████████████████| 180/180 [00:04<00:00, 44.90it/s]\n",
      "100%|████████████████████████████████████████████████████████████████████████████████| 121/121 [00:00<00:00, 226.29it/s]\n",
      "100%|█████████████████████████████████████████████████████████████████████████████████| 189/189 [00:04<00:00, 43.17it/s]\n",
      "100%|████████████████████████████████████████████████████████████████████████████████| 121/121 [00:00<00:00, 232.12it/s]\n",
      "100%|█████████████████████████████████████████████████████████████████████████████████| 189/189 [00:04<00:00, 43.23it/s]\n",
      "100%|████████████████████████████████████████████████████████████████████████████████| 121/121 [00:00<00:00, 226.16it/s]\n",
      "100%|█████████████████████████████████████████████████████████████████████████████████| 207/207 [00:04<00:00, 42.88it/s]\n",
      "100%|████████████████████████████████████████████████████████████████████████████████| 121/121 [00:00<00:00, 212.62it/s]\n",
      "100%|█████████████████████████████████████████████████████████████████████████████████| 207/207 [00:05<00:00, 41.02it/s]\n",
      "100%|████████████████████████████████████████████████████████████████████████████████| 121/121 [00:00<00:00, 229.74it/s]\n",
      "100%|█████████████████████████████████████████████████████████████████████████████████| 189/189 [00:04<00:00, 42.97it/s]\n"
     ]
    },
    {
     "name": "stdout",
     "output_type": "stream",
     "text": [
      "theta = -41.36093399710627, x_initial = -100, y_initial = -83\n"
     ]
    },
    {
     "name": "stderr",
     "output_type": "stream",
     "text": [
      "100%|████████████████████████████████████████████████████████████████████████████████| 121/121 [00:00<00:00, 217.16it/s]\n",
      "100%|███████████████████████████████████████████████████████████████████████████████████| 27/27 [00:00<00:00, 45.83it/s]\n",
      "100%|████████████████████████████████████████████████████████████████████████████████| 121/121 [00:00<00:00, 223.16it/s]\n",
      "100%|█████████████████████████████████████████████████████████████████████████████████| 135/135 [00:03<00:00, 41.71it/s]\n",
      "100%|████████████████████████████████████████████████████████████████████████████████| 121/121 [00:00<00:00, 220.45it/s]\n",
      "100%|█████████████████████████████████████████████████████████████████████████████████| 180/180 [00:04<00:00, 42.08it/s]\n",
      "100%|████████████████████████████████████████████████████████████████████████████████| 121/121 [00:00<00:00, 219.80it/s]\n",
      "100%|█████████████████████████████████████████████████████████████████████████████████| 189/189 [00:04<00:00, 40.39it/s]\n",
      "100%|████████████████████████████████████████████████████████████████████████████████| 121/121 [00:00<00:00, 230.01it/s]\n",
      "100%|█████████████████████████████████████████████████████████████████████████████████| 171/171 [00:04<00:00, 41.20it/s]\n",
      "100%|████████████████████████████████████████████████████████████████████████████████| 121/121 [00:00<00:00, 228.59it/s]\n",
      "100%|█████████████████████████████████████████████████████████████████████████████████| 198/198 [00:04<00:00, 44.34it/s]\n",
      "100%|████████████████████████████████████████████████████████████████████████████████| 121/121 [00:00<00:00, 229.11it/s]\n",
      "100%|█████████████████████████████████████████████████████████████████████████████████| 162/162 [00:03<00:00, 45.58it/s]\n"
     ]
    },
    {
     "name": "stdout",
     "output_type": "stream",
     "text": [
      "Too far translations filtered out: 1367\n",
      "Alignment time: 97.81913995742798\n",
      "Length: 3\n",
      "Aligning 6 and 15\n",
      "new diag score is estimated\n"
     ]
    },
    {
     "name": "stderr",
     "output_type": "stream",
     "text": [
      "100%|████████████████████████████████████████████████████████████████████████████████| 842/842 [00:03<00:00, 252.32it/s]\n"
     ]
    },
    {
     "name": "stdout",
     "output_type": "stream",
     "text": [
      "14\n",
      "6\n",
      "theta = -103.35910977177531, x_initial = -76, y_initial = 148\n"
     ]
    },
    {
     "name": "stderr",
     "output_type": "stream",
     "text": [
      "100%|████████████████████████████████████████████████████████████████████████████████| 121/121 [00:00<00:00, 267.93it/s]\n",
      "0it [00:00, ?it/s]\n",
      "100%|████████████████████████████████████████████████████████████████████████████████| 121/121 [00:00<00:00, 258.46it/s]\n",
      "0it [00:00, ?it/s]\n",
      "100%|████████████████████████████████████████████████████████████████████████████████| 121/121 [00:00<00:00, 267.23it/s]\n",
      "0it [00:00, ?it/s]\n",
      "100%|████████████████████████████████████████████████████████████████████████████████| 121/121 [00:00<00:00, 260.28it/s]\n",
      "0it [00:00, ?it/s]\n",
      "100%|████████████████████████████████████████████████████████████████████████████████| 121/121 [00:00<00:00, 264.09it/s]\n",
      "0it [00:00, ?it/s]\n",
      "100%|████████████████████████████████████████████████████████████████████████████████| 121/121 [00:00<00:00, 268.18it/s]\n",
      "0it [00:00, ?it/s]\n",
      "100%|████████████████████████████████████████████████████████████████████████████████| 121/121 [00:00<00:00, 261.11it/s]\n",
      "0it [00:00, ?it/s]\n"
     ]
    },
    {
     "name": "stdout",
     "output_type": "stream",
     "text": [
      "theta = -24.754798491309636, x_initial = 122, y_initial = 48\n"
     ]
    },
    {
     "name": "stderr",
     "output_type": "stream",
     "text": [
      "100%|████████████████████████████████████████████████████████████████████████████████| 121/121 [00:00<00:00, 280.37it/s]\n",
      "0it [00:00, ?it/s]\n",
      "100%|████████████████████████████████████████████████████████████████████████████████| 121/121 [00:00<00:00, 278.77it/s]\n",
      "0it [00:00, ?it/s]\n",
      "100%|████████████████████████████████████████████████████████████████████████████████| 121/121 [00:00<00:00, 277.98it/s]\n",
      "0it [00:00, ?it/s]\n",
      "100%|████████████████████████████████████████████████████████████████████████████████| 121/121 [00:00<00:00, 277.61it/s]\n",
      "0it [00:00, ?it/s]\n",
      "100%|████████████████████████████████████████████████████████████████████████████████| 121/121 [00:00<00:00, 277.05it/s]\n",
      "0it [00:00, ?it/s]\n",
      "100%|████████████████████████████████████████████████████████████████████████████████| 121/121 [00:00<00:00, 268.56it/s]\n",
      "0it [00:00, ?it/s]\n",
      "100%|████████████████████████████████████████████████████████████████████████████████| 121/121 [00:00<00:00, 278.86it/s]\n",
      "100%|███████████████████████████████████████████████████████████████████████████████████| 72/72 [00:01<00:00, 57.42it/s]\n"
     ]
    },
    {
     "name": "stdout",
     "output_type": "stream",
     "text": [
      "theta = -79.85459895720666, x_initial = 141, y_initial = 71\n"
     ]
    },
    {
     "name": "stderr",
     "output_type": "stream",
     "text": [
      "100%|████████████████████████████████████████████████████████████████████████████████| 121/121 [00:00<00:00, 260.69it/s]\n",
      "0it [00:00, ?it/s]\n",
      "100%|████████████████████████████████████████████████████████████████████████████████| 121/121 [00:00<00:00, 269.53it/s]\n",
      "0it [00:00, ?it/s]\n",
      "100%|████████████████████████████████████████████████████████████████████████████████| 121/121 [00:00<00:00, 271.58it/s]\n",
      "0it [00:00, ?it/s]\n",
      "100%|████████████████████████████████████████████████████████████████████████████████| 121/121 [00:00<00:00, 269.03it/s]\n",
      "0it [00:00, ?it/s]\n",
      "100%|████████████████████████████████████████████████████████████████████████████████| 121/121 [00:00<00:00, 257.52it/s]\n",
      "0it [00:00, ?it/s]\n",
      "100%|████████████████████████████████████████████████████████████████████████████████| 121/121 [00:00<00:00, 274.51it/s]\n",
      "0it [00:00, ?it/s]\n",
      "100%|████████████████████████████████████████████████████████████████████████████████| 121/121 [00:00<00:00, 268.19it/s]\n",
      "0it [00:00, ?it/s]\n"
     ]
    },
    {
     "name": "stdout",
     "output_type": "stream",
     "text": [
      "theta = -28.9126071455304, x_initial = -188, y_initial = 81\n"
     ]
    },
    {
     "name": "stderr",
     "output_type": "stream",
     "text": [
      "100%|████████████████████████████████████████████████████████████████████████████████| 121/121 [00:00<00:00, 261.33it/s]\n",
      "0it [00:00, ?it/s]\n",
      "100%|████████████████████████████████████████████████████████████████████████████████| 121/121 [00:00<00:00, 255.92it/s]\n",
      "0it [00:00, ?it/s]\n",
      "100%|████████████████████████████████████████████████████████████████████████████████| 121/121 [00:00<00:00, 259.44it/s]\n",
      "0it [00:00, ?it/s]\n",
      "100%|████████████████████████████████████████████████████████████████████████████████| 121/121 [00:00<00:00, 265.02it/s]\n",
      "0it [00:00, ?it/s]\n",
      "100%|████████████████████████████████████████████████████████████████████████████████| 121/121 [00:00<00:00, 261.21it/s]\n",
      "0it [00:00, ?it/s]\n",
      "100%|████████████████████████████████████████████████████████████████████████████████| 121/121 [00:00<00:00, 261.53it/s]\n",
      "0it [00:00, ?it/s]\n",
      "100%|████████████████████████████████████████████████████████████████████████████████| 121/121 [00:00<00:00, 256.44it/s]\n",
      "0it [00:00, ?it/s]\n"
     ]
    },
    {
     "name": "stdout",
     "output_type": "stream",
     "text": [
      "Alignment time: 21.787697553634644\n",
      "Length: 0\n",
      "Aligning 7 and 8\n",
      "new diag score is estimated\n"
     ]
    },
    {
     "name": "stderr",
     "output_type": "stream",
     "text": [
      "100%|██████████████████████████████████████████████████████████████████████████████| 1846/1846 [00:04<00:00, 378.76it/s]\n"
     ]
    },
    {
     "name": "stdout",
     "output_type": "stream",
     "text": [
      "21\n",
      "7\n",
      "theta = -1.4787793334710982e-06, x_initial = 15, y_initial = -200\n"
     ]
    },
    {
     "name": "stderr",
     "output_type": "stream",
     "text": [
      "100%|████████████████████████████████████████████████████████████████████████████████| 121/121 [00:00<00:00, 240.93it/s]\n",
      "100%|███████████████████████████████████████████████████████████████████████████████████| 45/45 [00:00<00:00, 50.52it/s]\n",
      "100%|████████████████████████████████████████████████████████████████████████████████| 121/121 [00:00<00:00, 228.90it/s]\n",
      "100%|█████████████████████████████████████████████████████████████████████████████████| 108/108 [00:02<00:00, 48.36it/s]\n",
      "100%|████████████████████████████████████████████████████████████████████████████████| 121/121 [00:00<00:00, 237.91it/s]\n",
      "100%|█████████████████████████████████████████████████████████████████████████████████| 171/171 [00:03<00:00, 47.66it/s]\n",
      "100%|████████████████████████████████████████████████████████████████████████████████| 121/121 [00:00<00:00, 243.59it/s]\n",
      "100%|█████████████████████████████████████████████████████████████████████████████████| 216/216 [00:04<00:00, 46.63it/s]\n",
      "100%|████████████████████████████████████████████████████████████████████████████████| 121/121 [00:00<00:00, 243.18it/s]\n",
      "100%|█████████████████████████████████████████████████████████████████████████████████| 144/144 [00:02<00:00, 48.37it/s]\n",
      "100%|████████████████████████████████████████████████████████████████████████████████| 121/121 [00:00<00:00, 228.24it/s]\n",
      "100%|███████████████████████████████████████████████████████████████████████████████████| 90/90 [00:01<00:00, 47.29it/s]\n",
      "100%|████████████████████████████████████████████████████████████████████████████████| 121/121 [00:00<00:00, 197.50it/s]\n",
      "100%|█████████████████████████████████████████████████████████████████████████████████████| 9/9 [00:00<00:00, 47.54it/s]\n"
     ]
    },
    {
     "name": "stdout",
     "output_type": "stream",
     "text": [
      "theta = -84.34851483135857, x_initial = -13, y_initial = 106\n"
     ]
    },
    {
     "name": "stderr",
     "output_type": "stream",
     "text": [
      "100%|████████████████████████████████████████████████████████████████████████████████| 121/121 [00:00<00:00, 242.21it/s]\n",
      "0it [00:00, ?it/s]\n",
      "100%|████████████████████████████████████████████████████████████████████████████████| 121/121 [00:00<00:00, 225.53it/s]\n",
      "0it [00:00, ?it/s]\n",
      "100%|████████████████████████████████████████████████████████████████████████████████| 121/121 [00:00<00:00, 222.85it/s]\n",
      "0it [00:00, ?it/s]\n",
      "100%|████████████████████████████████████████████████████████████████████████████████| 121/121 [00:00<00:00, 262.35it/s]\n",
      "0it [00:00, ?it/s]\n",
      "100%|████████████████████████████████████████████████████████████████████████████████| 121/121 [00:00<00:00, 259.90it/s]\n",
      "100%|███████████████████████████████████████████████████████████████████████████████████| 36/36 [00:00<00:00, 41.62it/s]\n",
      "100%|████████████████████████████████████████████████████████████████████████████████| 121/121 [00:00<00:00, 226.20it/s]\n",
      "100%|███████████████████████████████████████████████████████████████████████████████████| 99/99 [00:02<00:00, 43.61it/s]\n",
      "100%|████████████████████████████████████████████████████████████████████████████████| 121/121 [00:00<00:00, 260.16it/s]\n",
      "100%|███████████████████████████████████████████████████████████████████████████████████| 90/90 [00:01<00:00, 47.30it/s]\n"
     ]
    },
    {
     "name": "stdout",
     "output_type": "stream",
     "text": [
      "theta = -113.48301269285929, x_initial = -133, y_initial = -6\n"
     ]
    },
    {
     "name": "stderr",
     "output_type": "stream",
     "text": [
      "100%|████████████████████████████████████████████████████████████████████████████████| 121/121 [00:00<00:00, 230.73it/s]\n",
      "100%|███████████████████████████████████████████████████████████████████████████████████| 36/36 [00:00<00:00, 46.89it/s]\n",
      "100%|████████████████████████████████████████████████████████████████████████████████| 121/121 [00:00<00:00, 228.85it/s]\n",
      "100%|███████████████████████████████████████████████████████████████████████████████████| 63/63 [00:01<00:00, 51.48it/s]\n",
      "100%|████████████████████████████████████████████████████████████████████████████████| 121/121 [00:00<00:00, 240.16it/s]\n",
      "100%|███████████████████████████████████████████████████████████████████████████████████| 99/99 [00:01<00:00, 50.30it/s]\n",
      "100%|████████████████████████████████████████████████████████████████████████████████| 121/121 [00:00<00:00, 235.31it/s]\n",
      "100%|█████████████████████████████████████████████████████████████████████████████████| 144/144 [00:02<00:00, 50.14it/s]\n",
      "100%|████████████████████████████████████████████████████████████████████████████████| 121/121 [00:00<00:00, 245.92it/s]\n",
      "100%|█████████████████████████████████████████████████████████████████████████████████| 144/144 [00:03<00:00, 44.92it/s]\n",
      "100%|████████████████████████████████████████████████████████████████████████████████| 121/121 [00:00<00:00, 204.44it/s]\n",
      "100%|█████████████████████████████████████████████████████████████████████████████████| 126/126 [00:02<00:00, 44.28it/s]\n",
      "100%|████████████████████████████████████████████████████████████████████████████████| 121/121 [00:00<00:00, 243.53it/s]\n",
      "100%|███████████████████████████████████████████████████████████████████████████████████| 81/81 [00:01<00:00, 46.85it/s]\n"
     ]
    },
    {
     "name": "stdout",
     "output_type": "stream",
     "text": [
      "theta = -112.47713405005649, x_initial = 69, y_initial = 162\n"
     ]
    },
    {
     "name": "stderr",
     "output_type": "stream",
     "text": [
      "100%|████████████████████████████████████████████████████████████████████████████████| 121/121 [00:00<00:00, 250.87it/s]\n",
      "0it [00:00, ?it/s]\n",
      "100%|████████████████████████████████████████████████████████████████████████████████| 121/121 [00:00<00:00, 245.27it/s]\n",
      "0it [00:00, ?it/s]\n",
      "100%|████████████████████████████████████████████████████████████████████████████████| 121/121 [00:00<00:00, 249.62it/s]\n",
      "0it [00:00, ?it/s]\n",
      "100%|████████████████████████████████████████████████████████████████████████████████| 121/121 [00:00<00:00, 246.01it/s]\n",
      "0it [00:00, ?it/s]\n",
      "100%|████████████████████████████████████████████████████████████████████████████████| 121/121 [00:00<00:00, 251.91it/s]\n",
      "0it [00:00, ?it/s]\n",
      "100%|████████████████████████████████████████████████████████████████████████████████| 121/121 [00:00<00:00, 245.54it/s]\n",
      "0it [00:00, ?it/s]\n",
      "100%|████████████████████████████████████████████████████████████████████████████████| 121/121 [00:00<00:00, 251.52it/s]\n",
      "0it [00:00, ?it/s]\n"
     ]
    },
    {
     "name": "stdout",
     "output_type": "stream",
     "text": [
      "Too far translations filtered out: 1280\n",
      "Alignment time: 61.64516592025757\n",
      "Length: 1\n",
      "Aligning 7 and 9\n",
      "new diag score is estimated\n"
     ]
    },
    {
     "name": "stderr",
     "output_type": "stream",
     "text": [
      "100%|██████████████████████████████████████████████████████████████████████████████| 1846/1846 [00:10<00:00, 169.32it/s]\n"
     ]
    },
    {
     "name": "stdout",
     "output_type": "stream",
     "text": [
      "12\n",
      "5\n",
      "theta = -133.55698146446133, x_initial = -244, y_initial = 99\n"
     ]
    },
    {
     "name": "stderr",
     "output_type": "stream",
     "text": [
      "100%|████████████████████████████████████████████████████████████████████████████████| 121/121 [00:00<00:00, 163.69it/s]\n",
      "0it [00:00, ?it/s]\n",
      "100%|████████████████████████████████████████████████████████████████████████████████| 121/121 [00:00<00:00, 175.41it/s]\n",
      "0it [00:00, ?it/s]\n",
      "100%|████████████████████████████████████████████████████████████████████████████████| 121/121 [00:00<00:00, 160.72it/s]\n",
      "0it [00:00, ?it/s]\n",
      "100%|████████████████████████████████████████████████████████████████████████████████| 121/121 [00:00<00:00, 174.34it/s]\n",
      "0it [00:00, ?it/s]\n",
      "100%|████████████████████████████████████████████████████████████████████████████████| 121/121 [00:00<00:00, 176.05it/s]\n",
      "0it [00:00, ?it/s]\n",
      "100%|████████████████████████████████████████████████████████████████████████████████| 121/121 [00:00<00:00, 170.93it/s]\n",
      "0it [00:00, ?it/s]\n",
      "100%|████████████████████████████████████████████████████████████████████████████████| 121/121 [00:00<00:00, 177.85it/s]\n",
      "0it [00:00, ?it/s]\n"
     ]
    },
    {
     "name": "stdout",
     "output_type": "stream",
     "text": [
      "theta = -11.870130089206956, x_initial = 117, y_initial = 158\n"
     ]
    },
    {
     "name": "stderr",
     "output_type": "stream",
     "text": [
      "100%|████████████████████████████████████████████████████████████████████████████████| 121/121 [00:00<00:00, 185.70it/s]\n",
      "0it [00:00, ?it/s]\n",
      "100%|████████████████████████████████████████████████████████████████████████████████| 121/121 [00:00<00:00, 183.97it/s]\n",
      "0it [00:00, ?it/s]\n",
      "100%|████████████████████████████████████████████████████████████████████████████████| 121/121 [00:00<00:00, 186.58it/s]\n",
      "0it [00:00, ?it/s]\n",
      "100%|████████████████████████████████████████████████████████████████████████████████| 121/121 [00:00<00:00, 184.19it/s]\n",
      "0it [00:00, ?it/s]\n",
      "100%|████████████████████████████████████████████████████████████████████████████████| 121/121 [00:00<00:00, 183.72it/s]\n",
      "0it [00:00, ?it/s]\n",
      "100%|████████████████████████████████████████████████████████████████████████████████| 121/121 [00:00<00:00, 164.88it/s]\n",
      "0it [00:00, ?it/s]\n",
      "100%|████████████████████████████████████████████████████████████████████████████████| 121/121 [00:00<00:00, 173.45it/s]\n",
      "0it [00:00, ?it/s]\n"
     ]
    },
    {
     "name": "stdout",
     "output_type": "stream",
     "text": [
      "theta = -88.58583718397176, x_initial = -277, y_initial = -231\n"
     ]
    },
    {
     "name": "stderr",
     "output_type": "stream",
     "text": [
      "100%|████████████████████████████████████████████████████████████████████████████████| 121/121 [00:00<00:00, 148.86it/s]\n",
      "0it [00:00, ?it/s]\n",
      "100%|████████████████████████████████████████████████████████████████████████████████| 121/121 [00:00<00:00, 154.11it/s]\n",
      "0it [00:00, ?it/s]\n",
      "100%|████████████████████████████████████████████████████████████████████████████████| 121/121 [00:00<00:00, 153.65it/s]\n",
      "0it [00:00, ?it/s]\n",
      "100%|████████████████████████████████████████████████████████████████████████████████| 121/121 [00:00<00:00, 138.80it/s]\n",
      "0it [00:00, ?it/s]\n",
      "100%|████████████████████████████████████████████████████████████████████████████████| 121/121 [00:00<00:00, 150.79it/s]\n",
      "0it [00:00, ?it/s]\n",
      "100%|████████████████████████████████████████████████████████████████████████████████| 121/121 [00:00<00:00, 147.50it/s]\n",
      "0it [00:00, ?it/s]\n",
      "100%|████████████████████████████████████████████████████████████████████████████████| 121/121 [00:00<00:00, 144.51it/s]\n",
      "0it [00:00, ?it/s]\n"
     ]
    },
    {
     "name": "stdout",
     "output_type": "stream",
     "text": [
      "theta = -139.0739366903955, x_initial = 166, y_initial = -243\n"
     ]
    },
    {
     "name": "stderr",
     "output_type": "stream",
     "text": [
      "100%|████████████████████████████████████████████████████████████████████████████████| 121/121 [00:00<00:00, 160.35it/s]\n",
      "0it [00:00, ?it/s]\n",
      "100%|████████████████████████████████████████████████████████████████████████████████| 121/121 [00:00<00:00, 156.93it/s]\n",
      "0it [00:00, ?it/s]\n",
      "100%|████████████████████████████████████████████████████████████████████████████████| 121/121 [00:00<00:00, 154.55it/s]\n",
      "0it [00:00, ?it/s]\n",
      "100%|████████████████████████████████████████████████████████████████████████████████| 121/121 [00:00<00:00, 164.62it/s]\n",
      "0it [00:00, ?it/s]\n",
      "100%|████████████████████████████████████████████████████████████████████████████████| 121/121 [00:00<00:00, 148.21it/s]\n",
      "0it [00:00, ?it/s]\n",
      "100%|████████████████████████████████████████████████████████████████████████████████| 121/121 [00:00<00:00, 161.58it/s]\n",
      "0it [00:00, ?it/s]\n",
      "100%|████████████████████████████████████████████████████████████████████████████████| 121/121 [00:00<00:00, 155.27it/s]\n",
      "0it [00:00, ?it/s]\n"
     ]
    },
    {
     "name": "stdout",
     "output_type": "stream",
     "text": [
      "Alignment time: 38.944159507751465\n",
      "Length: 0\n",
      "Aligning 7 and 10\n",
      "new diag score is estimated\n"
     ]
    },
    {
     "name": "stderr",
     "output_type": "stream",
     "text": [
      "100%|██████████████████████████████████████████████████████████████████████████████| 1846/1846 [00:05<00:00, 329.37it/s]\n"
     ]
    },
    {
     "name": "stdout",
     "output_type": "stream",
     "text": [
      "15\n",
      "6\n",
      "theta = -81.9194793959353, x_initial = -106, y_initial = 100\n"
     ]
    },
    {
     "name": "stderr",
     "output_type": "stream",
     "text": [
      "100%|████████████████████████████████████████████████████████████████████████████████| 121/121 [00:00<00:00, 229.77it/s]\n",
      "0it [00:00, ?it/s]\n",
      "100%|████████████████████████████████████████████████████████████████████████████████| 121/121 [00:00<00:00, 228.26it/s]\n",
      "0it [00:00, ?it/s]\n",
      "100%|████████████████████████████████████████████████████████████████████████████████| 121/121 [00:00<00:00, 238.11it/s]\n",
      "0it [00:00, ?it/s]\n",
      "100%|████████████████████████████████████████████████████████████████████████████████| 121/121 [00:00<00:00, 236.12it/s]\n",
      "0it [00:00, ?it/s]\n",
      "100%|████████████████████████████████████████████████████████████████████████████████| 121/121 [00:00<00:00, 241.23it/s]\n",
      "0it [00:00, ?it/s]\n",
      "100%|████████████████████████████████████████████████████████████████████████████████| 121/121 [00:00<00:00, 236.85it/s]\n",
      "0it [00:00, ?it/s]\n",
      "100%|████████████████████████████████████████████████████████████████████████████████| 121/121 [00:00<00:00, 239.63it/s]\n",
      "0it [00:00, ?it/s]\n"
     ]
    },
    {
     "name": "stdout",
     "output_type": "stream",
     "text": [
      "theta = -85.65924161561978, x_initial = -111, y_initial = 108\n"
     ]
    },
    {
     "name": "stderr",
     "output_type": "stream",
     "text": [
      "100%|████████████████████████████████████████████████████████████████████████████████| 121/121 [00:00<00:00, 239.49it/s]\n",
      "0it [00:00, ?it/s]\n",
      "100%|████████████████████████████████████████████████████████████████████████████████| 121/121 [00:00<00:00, 239.74it/s]\n",
      "0it [00:00, ?it/s]\n",
      "100%|████████████████████████████████████████████████████████████████████████████████| 121/121 [00:00<00:00, 237.05it/s]\n",
      "0it [00:00, ?it/s]\n",
      "100%|████████████████████████████████████████████████████████████████████████████████| 121/121 [00:00<00:00, 231.02it/s]\n",
      "0it [00:00, ?it/s]\n",
      "100%|████████████████████████████████████████████████████████████████████████████████| 121/121 [00:00<00:00, 236.00it/s]\n",
      "0it [00:00, ?it/s]\n",
      "100%|████████████████████████████████████████████████████████████████████████████████| 121/121 [00:00<00:00, 235.75it/s]\n",
      "0it [00:00, ?it/s]\n",
      "100%|████████████████████████████████████████████████████████████████████████████████| 121/121 [00:00<00:00, 239.41it/s]\n",
      "0it [00:00, ?it/s]\n"
     ]
    },
    {
     "name": "stdout",
     "output_type": "stream",
     "text": [
      "theta = -147.02925378053988, x_initial = -123, y_initial = 139\n"
     ]
    },
    {
     "name": "stderr",
     "output_type": "stream",
     "text": [
      "100%|████████████████████████████████████████████████████████████████████████████████| 121/121 [00:00<00:00, 228.95it/s]\n",
      "0it [00:00, ?it/s]\n",
      "100%|████████████████████████████████████████████████████████████████████████████████| 121/121 [00:00<00:00, 232.41it/s]\n",
      "0it [00:00, ?it/s]\n",
      "100%|████████████████████████████████████████████████████████████████████████████████| 121/121 [00:00<00:00, 235.15it/s]\n",
      "0it [00:00, ?it/s]\n",
      "100%|████████████████████████████████████████████████████████████████████████████████| 121/121 [00:00<00:00, 233.71it/s]\n",
      "0it [00:00, ?it/s]\n",
      "100%|████████████████████████████████████████████████████████████████████████████████| 121/121 [00:00<00:00, 210.99it/s]\n",
      "0it [00:00, ?it/s]\n",
      "100%|████████████████████████████████████████████████████████████████████████████████| 121/121 [00:00<00:00, 208.33it/s]\n",
      "0it [00:00, ?it/s]\n",
      "100%|████████████████████████████████████████████████████████████████████████████████| 121/121 [00:00<00:00, 222.89it/s]\n",
      "0it [00:00, ?it/s]\n"
     ]
    },
    {
     "name": "stdout",
     "output_type": "stream",
     "text": [
      "theta = -41.11209043916692, x_initial = 68, y_initial = 126\n"
     ]
    },
    {
     "name": "stderr",
     "output_type": "stream",
     "text": [
      "100%|████████████████████████████████████████████████████████████████████████████████| 121/121 [00:00<00:00, 243.48it/s]\n",
      "0it [00:00, ?it/s]\n",
      "100%|████████████████████████████████████████████████████████████████████████████████| 121/121 [00:00<00:00, 239.17it/s]\n",
      "100%|███████████████████████████████████████████████████████████████████████████████████| 36/36 [00:00<00:00, 46.59it/s]\n",
      "100%|████████████████████████████████████████████████████████████████████████████████| 121/121 [00:00<00:00, 235.19it/s]\n",
      "100%|█████████████████████████████████████████████████████████████████████████████████| 108/108 [00:02<00:00, 47.04it/s]\n",
      "100%|████████████████████████████████████████████████████████████████████████████████| 121/121 [00:00<00:00, 207.18it/s]\n",
      "100%|███████████████████████████████████████████████████████████████████████████████████| 81/81 [00:01<00:00, 44.61it/s]\n",
      "100%|████████████████████████████████████████████████████████████████████████████████| 121/121 [00:00<00:00, 243.01it/s]\n",
      "100%|███████████████████████████████████████████████████████████████████████████████████| 90/90 [00:01<00:00, 50.49it/s]\n",
      "100%|████████████████████████████████████████████████████████████████████████████████| 121/121 [00:00<00:00, 232.49it/s]\n",
      "100%|███████████████████████████████████████████████████████████████████████████████████| 45/45 [00:01<00:00, 41.93it/s]\n",
      "100%|████████████████████████████████████████████████████████████████████████████████| 121/121 [00:00<00:00, 227.84it/s]\n",
      "100%|███████████████████████████████████████████████████████████████████████████████████| 18/18 [00:00<00:00, 46.20it/s]\n"
     ]
    },
    {
     "name": "stdout",
     "output_type": "stream",
     "text": [
      "Too far translations filtered out: 34\n",
      "Alignment time: 34.7376503944397\n",
      "Length: 2\n",
      "Aligning 7 and 11\n",
      "new diag score is estimated\n"
     ]
    },
    {
     "name": "stderr",
     "output_type": "stream",
     "text": [
      "100%|██████████████████████████████████████████████████████████████████████████████| 1846/1846 [00:08<00:00, 216.28it/s]\n"
     ]
    },
    {
     "name": "stdout",
     "output_type": "stream",
     "text": [
      "20\n",
      "6\n",
      "theta = -8.623482631215815, x_initial = 96, y_initial = 194\n"
     ]
    },
    {
     "name": "stderr",
     "output_type": "stream",
     "text": [
      "100%|████████████████████████████████████████████████████████████████████████████████| 121/121 [00:00<00:00, 190.46it/s]\n",
      "0it [00:00, ?it/s]\n",
      "100%|████████████████████████████████████████████████████████████████████████████████| 121/121 [00:00<00:00, 169.47it/s]\n",
      "0it [00:00, ?it/s]\n",
      "100%|████████████████████████████████████████████████████████████████████████████████| 121/121 [00:00<00:00, 175.35it/s]\n",
      "100%|█████████████████████████████████████████████████████████████████████████████████████| 9/9 [00:00<00:00, 67.96it/s]\n",
      "100%|████████████████████████████████████████████████████████████████████████████████| 121/121 [00:00<00:00, 182.73it/s]\n",
      "100%|███████████████████████████████████████████████████████████████████████████████████| 45/45 [00:01<00:00, 37.66it/s]\n",
      "100%|████████████████████████████████████████████████████████████████████████████████| 121/121 [00:00<00:00, 178.31it/s]\n",
      "100%|███████████████████████████████████████████████████████████████████████████████████| 81/81 [00:02<00:00, 35.47it/s]\n",
      "100%|████████████████████████████████████████████████████████████████████████████████| 121/121 [00:00<00:00, 188.79it/s]\n",
      "100%|███████████████████████████████████████████████████████████████████████████████████| 90/90 [00:02<00:00, 37.27it/s]\n",
      "100%|████████████████████████████████████████████████████████████████████████████████| 121/121 [00:00<00:00, 180.50it/s]\n",
      "100%|███████████████████████████████████████████████████████████████████████████████████| 72/72 [00:01<00:00, 40.67it/s]\n"
     ]
    },
    {
     "name": "stdout",
     "output_type": "stream",
     "text": [
      "theta = -58.471547387726915, x_initial = -39, y_initial = -195\n"
     ]
    },
    {
     "name": "stderr",
     "output_type": "stream",
     "text": [
      "100%|████████████████████████████████████████████████████████████████████████████████| 121/121 [00:00<00:00, 192.17it/s]\n",
      "0it [00:00, ?it/s]\n",
      "100%|████████████████████████████████████████████████████████████████████████████████| 121/121 [00:00<00:00, 192.90it/s]\n",
      "100%|███████████████████████████████████████████████████████████████████████████████████| 18/18 [00:00<00:00, 52.97it/s]\n",
      "100%|████████████████████████████████████████████████████████████████████████████████| 121/121 [00:00<00:00, 194.19it/s]\n",
      "100%|███████████████████████████████████████████████████████████████████████████████████| 27/27 [00:00<00:00, 33.94it/s]\n",
      "100%|████████████████████████████████████████████████████████████████████████████████| 121/121 [00:00<00:00, 193.29it/s]\n",
      "100%|█████████████████████████████████████████████████████████████████████████████████| 117/117 [00:03<00:00, 35.24it/s]\n",
      "100%|████████████████████████████████████████████████████████████████████████████████| 121/121 [00:00<00:00, 194.85it/s]\n",
      "100%|█████████████████████████████████████████████████████████████████████████████████| 108/108 [00:02<00:00, 37.78it/s]\n",
      "100%|████████████████████████████████████████████████████████████████████████████████| 121/121 [00:00<00:00, 186.07it/s]\n",
      "100%|███████████████████████████████████████████████████████████████████████████████████| 27/27 [00:00<00:00, 57.14it/s]\n",
      "100%|████████████████████████████████████████████████████████████████████████████████| 121/121 [00:00<00:00, 194.38it/s]\n",
      "0it [00:00, ?it/s]\n"
     ]
    },
    {
     "name": "stdout",
     "output_type": "stream",
     "text": [
      "theta = -21.86218970214399, x_initial = 191, y_initial = -172\n"
     ]
    },
    {
     "name": "stderr",
     "output_type": "stream",
     "text": [
      "100%|████████████████████████████████████████████████████████████████████████████████| 121/121 [00:00<00:00, 175.62it/s]\n",
      "100%|███████████████████████████████████████████████████████████████████████████████████| 72/72 [00:01<00:00, 39.94it/s]\n",
      "100%|████████████████████████████████████████████████████████████████████████████████| 121/121 [00:00<00:00, 173.73it/s]\n",
      "100%|███████████████████████████████████████████████████████████████████████████████████| 99/99 [00:02<00:00, 40.03it/s]\n",
      "100%|████████████████████████████████████████████████████████████████████████████████| 121/121 [00:00<00:00, 174.32it/s]\n",
      "100%|███████████████████████████████████████████████████████████████████████████████████| 90/90 [00:02<00:00, 35.71it/s]\n",
      "100%|████████████████████████████████████████████████████████████████████████████████| 121/121 [00:00<00:00, 178.36it/s]\n",
      "100%|███████████████████████████████████████████████████████████████████████████████████| 99/99 [00:02<00:00, 33.72it/s]\n",
      "100%|████████████████████████████████████████████████████████████████████████████████| 121/121 [00:00<00:00, 172.58it/s]\n",
      "100%|███████████████████████████████████████████████████████████████████████████████████| 90/90 [00:02<00:00, 37.04it/s]\n",
      "100%|████████████████████████████████████████████████████████████████████████████████| 121/121 [00:00<00:00, 157.06it/s]\n",
      "0it [00:00, ?it/s]\n",
      "100%|████████████████████████████████████████████████████████████████████████████████| 121/121 [00:00<00:00, 153.46it/s]\n",
      "0it [00:00, ?it/s]\n"
     ]
    },
    {
     "name": "stdout",
     "output_type": "stream",
     "text": [
      "theta = -171.76004612669146, x_initial = -324, y_initial = 137\n"
     ]
    },
    {
     "name": "stderr",
     "output_type": "stream",
     "text": [
      "100%|████████████████████████████████████████████████████████████████████████████████| 121/121 [00:00<00:00, 154.61it/s]\n",
      "100%|█████████████████████████████████████████████████████████████████████████████████| 108/108 [00:02<00:00, 36.25it/s]\n",
      "100%|████████████████████████████████████████████████████████████████████████████████| 121/121 [00:00<00:00, 151.19it/s]\n",
      "100%|███████████████████████████████████████████████████████████████████████████████████| 72/72 [00:01<00:00, 36.79it/s]\n",
      "100%|████████████████████████████████████████████████████████████████████████████████| 121/121 [00:00<00:00, 167.68it/s]\n",
      "100%|███████████████████████████████████████████████████████████████████████████████████| 18/18 [00:00<00:00, 46.21it/s]\n",
      "100%|████████████████████████████████████████████████████████████████████████████████| 121/121 [00:00<00:00, 169.19it/s]\n",
      "0it [00:00, ?it/s]\n",
      "100%|████████████████████████████████████████████████████████████████████████████████| 121/121 [00:00<00:00, 161.44it/s]\n",
      "0it [00:00, ?it/s]\n",
      "100%|████████████████████████████████████████████████████████████████████████████████| 121/121 [00:00<00:00, 167.32it/s]\n",
      "0it [00:00, ?it/s]\n",
      "100%|████████████████████████████████████████████████████████████████████████████████| 121/121 [00:00<00:00, 167.78it/s]\n",
      "0it [00:00, ?it/s]\n"
     ]
    },
    {
     "name": "stdout",
     "output_type": "stream",
     "text": [
      "Too far translations filtered out: 914\n",
      "Alignment time: 69.04674887657166\n",
      "Length: 4\n",
      "Aligning 7 and 12\n",
      "new diag score is estimated\n"
     ]
    },
    {
     "name": "stderr",
     "output_type": "stream",
     "text": [
      "100%|██████████████████████████████████████████████████████████████████████████████| 1846/1846 [00:02<00:00, 714.16it/s]\n"
     ]
    },
    {
     "name": "stdout",
     "output_type": "stream",
     "text": [
      "18\n",
      "5\n",
      "theta = -91.92627140861157, x_initial = 26, y_initial = 172\n"
     ]
    },
    {
     "name": "stderr",
     "output_type": "stream",
     "text": [
      "100%|████████████████████████████████████████████████████████████████████████████████| 121/121 [00:00<00:00, 254.11it/s]\n",
      "0it [00:00, ?it/s]\n",
      "100%|████████████████████████████████████████████████████████████████████████████████| 121/121 [00:00<00:00, 251.04it/s]\n",
      "0it [00:00, ?it/s]\n",
      "100%|████████████████████████████████████████████████████████████████████████████████| 121/121 [00:00<00:00, 248.90it/s]\n",
      "0it [00:00, ?it/s]\n",
      "100%|████████████████████████████████████████████████████████████████████████████████| 121/121 [00:00<00:00, 250.16it/s]\n",
      "0it [00:00, ?it/s]\n",
      "100%|████████████████████████████████████████████████████████████████████████████████| 121/121 [00:00<00:00, 259.60it/s]\n",
      "0it [00:00, ?it/s]\n",
      "100%|████████████████████████████████████████████████████████████████████████████████| 121/121 [00:00<00:00, 247.93it/s]\n",
      "0it [00:00, ?it/s]\n",
      "100%|████████████████████████████████████████████████████████████████████████████████| 121/121 [00:00<00:00, 253.05it/s]\n",
      "0it [00:00, ?it/s]\n"
     ]
    },
    {
     "name": "stdout",
     "output_type": "stream",
     "text": [
      "theta = -180.0, x_initial = -39, y_initial = 187\n"
     ]
    },
    {
     "name": "stderr",
     "output_type": "stream",
     "text": [
      "100%|████████████████████████████████████████████████████████████████████████████████| 121/121 [00:00<00:00, 246.70it/s]\n",
      "100%|███████████████████████████████████████████████████████████████████████████████████| 81/81 [00:01<00:00, 50.37it/s]\n",
      "100%|████████████████████████████████████████████████████████████████████████████████| 121/121 [00:00<00:00, 247.50it/s]\n",
      "100%|█████████████████████████████████████████████████████████████████████████████████| 126/126 [00:02<00:00, 50.61it/s]\n",
      "100%|████████████████████████████████████████████████████████████████████████████████| 121/121 [00:00<00:00, 243.98it/s]\n",
      "100%|█████████████████████████████████████████████████████████████████████████████████| 135/135 [00:02<00:00, 47.34it/s]\n",
      "100%|████████████████████████████████████████████████████████████████████████████████| 121/121 [00:00<00:00, 244.48it/s]\n",
      "100%|█████████████████████████████████████████████████████████████████████████████████| 180/180 [00:03<00:00, 46.95it/s]\n",
      "100%|████████████████████████████████████████████████████████████████████████████████| 121/121 [00:00<00:00, 236.95it/s]\n",
      "100%|█████████████████████████████████████████████████████████████████████████████████| 216/216 [00:04<00:00, 48.21it/s]\n",
      "100%|████████████████████████████████████████████████████████████████████████████████| 121/121 [00:00<00:00, 239.60it/s]\n",
      "100%|█████████████████████████████████████████████████████████████████████████████████| 189/189 [00:03<00:00, 48.95it/s]\n",
      "100%|████████████████████████████████████████████████████████████████████████████████| 121/121 [00:00<00:00, 245.05it/s]\n",
      "100%|█████████████████████████████████████████████████████████████████████████████████| 144/144 [00:02<00:00, 51.04it/s]\n"
     ]
    },
    {
     "name": "stdout",
     "output_type": "stream",
     "text": [
      "theta = -154.15806723683284, x_initial = 127, y_initial = 44\n"
     ]
    },
    {
     "name": "stderr",
     "output_type": "stream",
     "text": [
      "100%|████████████████████████████████████████████████████████████████████████████████| 121/121 [00:00<00:00, 251.46it/s]\n",
      "100%|█████████████████████████████████████████████████████████████████████████████████| 108/108 [00:02<00:00, 47.93it/s]\n",
      "100%|████████████████████████████████████████████████████████████████████████████████| 121/121 [00:00<00:00, 250.27it/s]\n",
      "100%|█████████████████████████████████████████████████████████████████████████████████| 189/189 [00:03<00:00, 49.44it/s]\n",
      "100%|████████████████████████████████████████████████████████████████████████████████| 121/121 [00:00<00:00, 255.66it/s]\n",
      "100%|█████████████████████████████████████████████████████████████████████████████████| 198/198 [00:04<00:00, 46.89it/s]\n",
      "100%|████████████████████████████████████████████████████████████████████████████████| 121/121 [00:00<00:00, 253.02it/s]\n",
      "100%|█████████████████████████████████████████████████████████████████████████████████| 216/216 [00:04<00:00, 44.02it/s]\n",
      "100%|████████████████████████████████████████████████████████████████████████████████| 121/121 [00:00<00:00, 211.31it/s]\n",
      "100%|█████████████████████████████████████████████████████████████████████████████████| 189/189 [00:04<00:00, 41.07it/s]\n",
      "100%|████████████████████████████████████████████████████████████████████████████████| 121/121 [00:00<00:00, 202.44it/s]\n",
      "100%|█████████████████████████████████████████████████████████████████████████████████| 153/153 [00:03<00:00, 41.71it/s]\n",
      "100%|████████████████████████████████████████████████████████████████████████████████| 121/121 [00:00<00:00, 227.41it/s]\n",
      "100%|███████████████████████████████████████████████████████████████████████████████████| 63/63 [00:01<00:00, 43.35it/s]\n"
     ]
    },
    {
     "name": "stdout",
     "output_type": "stream",
     "text": [
      "theta = -44.06202686180741, x_initial = 187, y_initial = 67\n"
     ]
    },
    {
     "name": "stderr",
     "output_type": "stream",
     "text": [
      "100%|████████████████████████████████████████████████████████████████████████████████| 121/121 [00:00<00:00, 230.92it/s]\n",
      "0it [00:00, ?it/s]\n",
      "100%|████████████████████████████████████████████████████████████████████████████████| 121/121 [00:00<00:00, 233.58it/s]\n",
      "100%|███████████████████████████████████████████████████████████████████████████████████| 36/36 [00:00<00:00, 52.29it/s]\n",
      "100%|████████████████████████████████████████████████████████████████████████████████| 121/121 [00:00<00:00, 231.02it/s]\n",
      "100%|█████████████████████████████████████████████████████████████████████████████████| 126/126 [00:02<00:00, 49.35it/s]\n",
      "100%|████████████████████████████████████████████████████████████████████████████████| 121/121 [00:00<00:00, 228.91it/s]\n",
      "100%|█████████████████████████████████████████████████████████████████████████████████| 162/162 [00:03<00:00, 41.38it/s]\n",
      "100%|████████████████████████████████████████████████████████████████████████████████| 121/121 [00:00<00:00, 228.99it/s]\n",
      "100%|█████████████████████████████████████████████████████████████████████████████████| 207/207 [00:04<00:00, 42.80it/s]\n",
      "100%|████████████████████████████████████████████████████████████████████████████████| 121/121 [00:00<00:00, 224.05it/s]\n",
      "100%|█████████████████████████████████████████████████████████████████████████████████| 171/171 [00:03<00:00, 46.73it/s]\n",
      "100%|████████████████████████████████████████████████████████████████████████████████| 121/121 [00:00<00:00, 223.72it/s]\n",
      "100%|█████████████████████████████████████████████████████████████████████████████████| 117/117 [00:02<00:00, 45.61it/s]\n"
     ]
    },
    {
     "name": "stdout",
     "output_type": "stream",
     "text": [
      "Too far translations filtered out: 1493\n",
      "Alignment time: 86.73232340812683\n",
      "Length: 7\n",
      "Aligning 7 and 14\n",
      "new diag score is estimated\n"
     ]
    },
    {
     "name": "stderr",
     "output_type": "stream",
     "text": [
      "100%|██████████████████████████████████████████████████████████████████████████████| 1846/1846 [00:07<00:00, 241.11it/s]\n"
     ]
    },
    {
     "name": "stdout",
     "output_type": "stream",
     "text": [
      "13\n",
      "5\n",
      "theta = -22.24015747197795, x_initial = 133, y_initial = -239\n"
     ]
    },
    {
     "name": "stderr",
     "output_type": "stream",
     "text": [
      "100%|████████████████████████████████████████████████████████████████████████████████| 121/121 [00:00<00:00, 183.85it/s]\n",
      "0it [00:00, ?it/s]\n",
      "100%|████████████████████████████████████████████████████████████████████████████████| 121/121 [00:00<00:00, 192.82it/s]\n",
      "0it [00:00, ?it/s]\n",
      "100%|████████████████████████████████████████████████████████████████████████████████| 121/121 [00:00<00:00, 180.85it/s]\n",
      "0it [00:00, ?it/s]\n",
      "100%|████████████████████████████████████████████████████████████████████████████████| 121/121 [00:00<00:00, 191.25it/s]\n",
      "0it [00:00, ?it/s]\n",
      "100%|████████████████████████████████████████████████████████████████████████████████| 121/121 [00:00<00:00, 176.48it/s]\n",
      "0it [00:00, ?it/s]\n",
      "100%|████████████████████████████████████████████████████████████████████████████████| 121/121 [00:00<00:00, 180.61it/s]\n",
      "0it [00:00, ?it/s]\n",
      "100%|████████████████████████████████████████████████████████████████████████████████| 121/121 [00:00<00:00, 173.20it/s]\n",
      "0it [00:00, ?it/s]\n"
     ]
    },
    {
     "name": "stdout",
     "output_type": "stream",
     "text": [
      "theta = -9.108743629944907, x_initial = 149, y_initial = 94\n"
     ]
    },
    {
     "name": "stderr",
     "output_type": "stream",
     "text": [
      "100%|████████████████████████████████████████████████████████████████████████████████| 121/121 [00:00<00:00, 210.66it/s]\n",
      "0it [00:00, ?it/s]\n",
      "100%|████████████████████████████████████████████████████████████████████████████████| 121/121 [00:00<00:00, 191.13it/s]\n",
      "0it [00:00, ?it/s]\n",
      "100%|████████████████████████████████████████████████████████████████████████████████| 121/121 [00:00<00:00, 202.25it/s]\n",
      "0it [00:00, ?it/s]\n",
      "100%|████████████████████████████████████████████████████████████████████████████████| 121/121 [00:00<00:00, 211.56it/s]\n",
      "0it [00:00, ?it/s]\n",
      "100%|████████████████████████████████████████████████████████████████████████████████| 121/121 [00:00<00:00, 210.23it/s]\n",
      "100%|███████████████████████████████████████████████████████████████████████████████████| 36/36 [00:00<00:00, 47.06it/s]\n",
      "100%|████████████████████████████████████████████████████████████████████████████████| 121/121 [00:00<00:00, 214.34it/s]\n",
      "100%|███████████████████████████████████████████████████████████████████████████████████| 72/72 [00:01<00:00, 44.98it/s]\n",
      "100%|████████████████████████████████████████████████████████████████████████████████| 121/121 [00:00<00:00, 216.44it/s]\n",
      "100%|███████████████████████████████████████████████████████████████████████████████████| 90/90 [00:01<00:00, 45.07it/s]\n"
     ]
    },
    {
     "name": "stdout",
     "output_type": "stream",
     "text": [
      "theta = -70.11778231616901, x_initial = -223, y_initial = -120\n"
     ]
    },
    {
     "name": "stderr",
     "output_type": "stream",
     "text": [
      "100%|████████████████████████████████████████████████████████████████████████████████| 121/121 [00:00<00:00, 202.48it/s]\n",
      "0it [00:00, ?it/s]\n",
      "100%|████████████████████████████████████████████████████████████████████████████████| 121/121 [00:00<00:00, 199.02it/s]\n",
      "0it [00:00, ?it/s]\n",
      "100%|████████████████████████████████████████████████████████████████████████████████| 121/121 [00:00<00:00, 189.38it/s]\n",
      "0it [00:00, ?it/s]\n",
      "100%|████████████████████████████████████████████████████████████████████████████████| 121/121 [00:00<00:00, 187.90it/s]\n",
      "0it [00:00, ?it/s]\n",
      "100%|████████████████████████████████████████████████████████████████████████████████| 121/121 [00:00<00:00, 185.92it/s]\n",
      "0it [00:00, ?it/s]\n",
      "100%|████████████████████████████████████████████████████████████████████████████████| 121/121 [00:00<00:00, 190.93it/s]\n",
      "0it [00:00, ?it/s]\n",
      "100%|████████████████████████████████████████████████████████████████████████████████| 121/121 [00:00<00:00, 188.73it/s]\n",
      "0it [00:00, ?it/s]\n"
     ]
    },
    {
     "name": "stdout",
     "output_type": "stream",
     "text": [
      "theta = -4.457870671700881, x_initial = 120, y_initial = 100\n"
     ]
    },
    {
     "name": "stderr",
     "output_type": "stream",
     "text": [
      "100%|████████████████████████████████████████████████████████████████████████████████| 121/121 [00:00<00:00, 216.83it/s]\n",
      "0it [00:00, ?it/s]\n",
      "100%|████████████████████████████████████████████████████████████████████████████████| 121/121 [00:00<00:00, 215.57it/s]\n",
      "0it [00:00, ?it/s]\n",
      "100%|████████████████████████████████████████████████████████████████████████████████| 121/121 [00:00<00:00, 199.97it/s]\n",
      "0it [00:00, ?it/s]\n",
      "100%|████████████████████████████████████████████████████████████████████████████████| 121/121 [00:00<00:00, 195.67it/s]\n",
      "100%|███████████████████████████████████████████████████████████████████████████████████| 36/36 [00:00<00:00, 52.78it/s]\n",
      "100%|████████████████████████████████████████████████████████████████████████████████| 121/121 [00:00<00:00, 232.75it/s]\n",
      "100%|███████████████████████████████████████████████████████████████████████████████████| 45/45 [00:00<00:00, 47.83it/s]\n",
      "100%|████████████████████████████████████████████████████████████████████████████████| 121/121 [00:00<00:00, 230.96it/s]\n",
      "100%|████████████████████████████████████████████████████████████████████████████████████| 9/9 [00:00<00:00, 104.50it/s]\n",
      "100%|████████████████████████████████████████████████████████████████████████████████| 121/121 [00:00<00:00, 220.44it/s]\n",
      "0it [00:00, ?it/s]\n"
     ]
    },
    {
     "name": "stdout",
     "output_type": "stream",
     "text": [
      "Too far translations filtered out: 133\n",
      "Alignment time: 37.672457218170166\n",
      "Length: 2\n",
      "Aligning 7 and 15\n",
      "new diag score is estimated\n"
     ]
    },
    {
     "name": "stderr",
     "output_type": "stream",
     "text": [
      "100%|██████████████████████████████████████████████████████████████████████████████| 1846/1846 [00:07<00:00, 239.67it/s]\n"
     ]
    },
    {
     "name": "stdout",
     "output_type": "stream",
     "text": [
      "8\n",
      "4\n",
      "theta = -15.783770199798091, x_initial = -156, y_initial = 221\n"
     ]
    },
    {
     "name": "stderr",
     "output_type": "stream",
     "text": [
      "100%|████████████████████████████████████████████████████████████████████████████████| 121/121 [00:00<00:00, 200.49it/s]\n",
      "100%|███████████████████████████████████████████████████████████████████████████████████| 99/99 [00:02<00:00, 44.40it/s]\n",
      "100%|████████████████████████████████████████████████████████████████████████████████| 121/121 [00:00<00:00, 224.14it/s]\n",
      "100%|█████████████████████████████████████████████████████████████████████████████████| 117/117 [00:02<00:00, 48.38it/s]\n",
      "100%|████████████████████████████████████████████████████████████████████████████████| 121/121 [00:00<00:00, 225.85it/s]\n",
      "100%|█████████████████████████████████████████████████████████████████████████████████| 108/108 [00:02<00:00, 49.78it/s]\n",
      "100%|████████████████████████████████████████████████████████████████████████████████| 121/121 [00:00<00:00, 227.10it/s]\n",
      "100%|█████████████████████████████████████████████████████████████████████████████████| 108/108 [00:02<00:00, 48.46it/s]\n",
      "100%|████████████████████████████████████████████████████████████████████████████████| 121/121 [00:00<00:00, 221.11it/s]\n",
      "100%|███████████████████████████████████████████████████████████████████████████████████| 72/72 [00:01<00:00, 44.85it/s]\n",
      "100%|████████████████████████████████████████████████████████████████████████████████| 121/121 [00:00<00:00, 216.58it/s]\n",
      "100%|███████████████████████████████████████████████████████████████████████████████████| 36/36 [00:00<00:00, 54.08it/s]\n",
      "100%|████████████████████████████████████████████████████████████████████████████████| 121/121 [00:00<00:00, 227.02it/s]\n",
      "0it [00:00, ?it/s]\n"
     ]
    },
    {
     "name": "stdout",
     "output_type": "stream",
     "text": [
      "theta = -127.55042861953625, x_initial = -289, y_initial = 95\n"
     ]
    },
    {
     "name": "stderr",
     "output_type": "stream",
     "text": [
      "100%|████████████████████████████████████████████████████████████████████████████████| 121/121 [00:00<00:00, 218.62it/s]\n",
      "0it [00:00, ?it/s]\n",
      "100%|████████████████████████████████████████████████████████████████████████████████| 121/121 [00:00<00:00, 223.78it/s]\n",
      "0it [00:00, ?it/s]\n",
      "100%|████████████████████████████████████████████████████████████████████████████████| 121/121 [00:00<00:00, 225.19it/s]\n",
      "0it [00:00, ?it/s]\n",
      "100%|████████████████████████████████████████████████████████████████████████████████| 121/121 [00:00<00:00, 222.55it/s]\n",
      "0it [00:00, ?it/s]\n",
      "100%|████████████████████████████████████████████████████████████████████████████████| 121/121 [00:00<00:00, 221.46it/s]\n",
      "0it [00:00, ?it/s]\n",
      "100%|████████████████████████████████████████████████████████████████████████████████| 121/121 [00:00<00:00, 221.41it/s]\n",
      "0it [00:00, ?it/s]\n",
      "100%|████████████████████████████████████████████████████████████████████████████████| 121/121 [00:00<00:00, 223.00it/s]\n",
      "0it [00:00, ?it/s]\n"
     ]
    },
    {
     "name": "stdout",
     "output_type": "stream",
     "text": [
      "theta = -0.0, x_initial = 102, y_initial = 96\n"
     ]
    },
    {
     "name": "stderr",
     "output_type": "stream",
     "text": [
      "100%|████████████████████████████████████████████████████████████████████████████████| 121/121 [00:00<00:00, 251.60it/s]\n",
      "0it [00:00, ?it/s]\n",
      "100%|████████████████████████████████████████████████████████████████████████████████| 121/121 [00:00<00:00, 250.10it/s]\n",
      "0it [00:00, ?it/s]\n",
      "100%|████████████████████████████████████████████████████████████████████████████████| 121/121 [00:00<00:00, 253.53it/s]\n",
      "0it [00:00, ?it/s]\n",
      "100%|████████████████████████████████████████████████████████████████████████████████| 121/121 [00:00<00:00, 246.92it/s]\n",
      "100%|█████████████████████████████████████████████████████████████████████████████████████| 9/9 [00:00<00:00, 49.23it/s]\n",
      "100%|████████████████████████████████████████████████████████████████████████████████| 121/121 [00:00<00:00, 242.30it/s]\n",
      "100%|███████████████████████████████████████████████████████████████████████████████████| 45/45 [00:00<00:00, 56.77it/s]\n",
      "100%|████████████████████████████████████████████████████████████████████████████████| 121/121 [00:00<00:00, 214.22it/s]\n",
      "100%|███████████████████████████████████████████████████████████████████████████████████| 72/72 [00:01<00:00, 52.42it/s]\n",
      "100%|████████████████████████████████████████████████████████████████████████████████| 121/121 [00:00<00:00, 256.12it/s]\n",
      "100%|███████████████████████████████████████████████████████████████████████████████████| 18/18 [00:00<00:00, 58.01it/s]\n"
     ]
    },
    {
     "name": "stdout",
     "output_type": "stream",
     "text": [
      "theta = -7.582091322558554, x_initial = 247, y_initial = -37\n"
     ]
    },
    {
     "name": "stderr",
     "output_type": "stream",
     "text": [
      "100%|████████████████████████████████████████████████████████████████████████████████| 121/121 [00:00<00:00, 230.33it/s]\n",
      "0it [00:00, ?it/s]\n",
      "100%|████████████████████████████████████████████████████████████████████████████████| 121/121 [00:00<00:00, 230.95it/s]\n",
      "100%|███████████████████████████████████████████████████████████████████████████████████| 18/18 [00:00<00:00, 72.39it/s]\n",
      "100%|████████████████████████████████████████████████████████████████████████████████| 121/121 [00:00<00:00, 230.78it/s]\n",
      "100%|█████████████████████████████████████████████████████████████████████████████████████| 9/9 [00:00<00:00, 65.67it/s]\n",
      "100%|████████████████████████████████████████████████████████████████████████████████| 121/121 [00:00<00:00, 224.33it/s]\n",
      "0it [00:00, ?it/s]\n",
      "100%|████████████████████████████████████████████████████████████████████████████████| 121/121 [00:00<00:00, 200.39it/s]\n",
      "0it [00:00, ?it/s]\n",
      "100%|████████████████████████████████████████████████████████████████████████████████| 121/121 [00:00<00:00, 163.76it/s]\n",
      "0it [00:00, ?it/s]\n",
      "100%|████████████████████████████████████████████████████████████████████████████████| 121/121 [00:00<00:00, 162.02it/s]\n",
      "0it [00:00, ?it/s]\n"
     ]
    },
    {
     "name": "stdout",
     "output_type": "stream",
     "text": [
      "Too far translations filtered out: 269\n",
      "Alignment time: 43.378302812576294\n",
      "Length: 3\n",
      "Aligning 8 and 9\n",
      "new diag score is estimated\n"
     ]
    },
    {
     "name": "stderr",
     "output_type": "stream",
     "text": [
      "100%|██████████████████████████████████████████████████████████████████████████████| 1146/1146 [00:07<00:00, 157.97it/s]\n"
     ]
    },
    {
     "name": "stdout",
     "output_type": "stream",
     "text": [
      "18\n",
      "6\n",
      "theta = -64.61113639103874, x_initial = 136, y_initial = 88\n"
     ]
    },
    {
     "name": "stderr",
     "output_type": "stream",
     "text": [
      "100%|████████████████████████████████████████████████████████████████████████████████| 121/121 [00:00<00:00, 193.92it/s]\n",
      "0it [00:00, ?it/s]\n",
      "100%|████████████████████████████████████████████████████████████████████████████████| 121/121 [00:00<00:00, 191.58it/s]\n",
      "100%|█████████████████████████████████████████████████████████████████████████████████| 144/144 [00:03<00:00, 36.95it/s]\n",
      "100%|████████████████████████████████████████████████████████████████████████████████| 121/121 [00:00<00:00, 193.17it/s]\n",
      "100%|█████████████████████████████████████████████████████████████████████████████████| 153/153 [00:04<00:00, 32.05it/s]\n",
      "100%|████████████████████████████████████████████████████████████████████████████████| 121/121 [00:00<00:00, 168.71it/s]\n",
      "100%|█████████████████████████████████████████████████████████████████████████████████| 171/171 [00:04<00:00, 35.69it/s]\n",
      "100%|████████████████████████████████████████████████████████████████████████████████| 121/121 [00:00<00:00, 186.47it/s]\n",
      "100%|█████████████████████████████████████████████████████████████████████████████████| 117/117 [00:03<00:00, 33.08it/s]\n",
      "100%|████████████████████████████████████████████████████████████████████████████████| 121/121 [00:00<00:00, 178.17it/s]\n",
      "100%|███████████████████████████████████████████████████████████████████████████████████| 81/81 [00:02<00:00, 33.82it/s]\n",
      "100%|████████████████████████████████████████████████████████████████████████████████| 121/121 [00:00<00:00, 174.23it/s]\n",
      "100%|███████████████████████████████████████████████████████████████████████████████████| 18/18 [00:00<00:00, 37.79it/s]\n"
     ]
    },
    {
     "name": "stdout",
     "output_type": "stream",
     "text": [
      "theta = -103.21298036015862, x_initial = 163, y_initial = 23\n"
     ]
    },
    {
     "name": "stderr",
     "output_type": "stream",
     "text": [
      "100%|████████████████████████████████████████████████████████████████████████████████| 121/121 [00:00<00:00, 161.74it/s]\n",
      "0it [00:00, ?it/s]\n",
      "100%|████████████████████████████████████████████████████████████████████████████████| 121/121 [00:00<00:00, 130.47it/s]\n",
      "0it [00:00, ?it/s]\n",
      "100%|████████████████████████████████████████████████████████████████████████████████| 121/121 [00:00<00:00, 161.87it/s]\n",
      "0it [00:00, ?it/s]\n",
      "100%|████████████████████████████████████████████████████████████████████████████████| 121/121 [00:00<00:00, 191.82it/s]\n",
      "0it [00:00, ?it/s]\n",
      "100%|████████████████████████████████████████████████████████████████████████████████| 121/121 [00:00<00:00, 186.37it/s]\n",
      "0it [00:00, ?it/s]\n",
      "100%|████████████████████████████████████████████████████████████████████████████████| 121/121 [00:00<00:00, 185.78it/s]\n",
      "0it [00:00, ?it/s]\n",
      "100%|████████████████████████████████████████████████████████████████████████████████| 121/121 [00:00<00:00, 196.91it/s]\n",
      "0it [00:00, ?it/s]\n"
     ]
    },
    {
     "name": "stdout",
     "output_type": "stream",
     "text": [
      "theta = -65.77668785043709, x_initial = 214, y_initial = -85\n"
     ]
    },
    {
     "name": "stderr",
     "output_type": "stream",
     "text": [
      "100%|████████████████████████████████████████████████████████████████████████████████| 121/121 [00:00<00:00, 180.74it/s]\n",
      "100%|███████████████████████████████████████████████████████████████████████████████████| 18/18 [00:00<00:00, 58.00it/s]\n",
      "100%|████████████████████████████████████████████████████████████████████████████████| 121/121 [00:00<00:00, 182.90it/s]\n",
      "100%|███████████████████████████████████████████████████████████████████████████████████| 72/72 [00:01<00:00, 36.04it/s]\n",
      "100%|████████████████████████████████████████████████████████████████████████████████| 121/121 [00:00<00:00, 184.53it/s]\n",
      "100%|█████████████████████████████████████████████████████████████████████████████████| 135/135 [00:03<00:00, 36.05it/s]\n",
      "100%|████████████████████████████████████████████████████████████████████████████████| 121/121 [00:00<00:00, 175.35it/s]\n",
      "100%|█████████████████████████████████████████████████████████████████████████████████| 180/180 [00:05<00:00, 34.06it/s]\n",
      "100%|████████████████████████████████████████████████████████████████████████████████| 121/121 [00:00<00:00, 174.40it/s]\n",
      "100%|█████████████████████████████████████████████████████████████████████████████████| 162/162 [00:04<00:00, 33.50it/s]\n",
      "100%|████████████████████████████████████████████████████████████████████████████████| 121/121 [00:00<00:00, 184.77it/s]\n",
      "100%|█████████████████████████████████████████████████████████████████████████████████| 153/153 [00:04<00:00, 34.72it/s]\n",
      "100%|████████████████████████████████████████████████████████████████████████████████| 121/121 [00:00<00:00, 175.37it/s]\n",
      "100%|███████████████████████████████████████████████████████████████████████████████████| 18/18 [00:00<00:00, 47.02it/s]\n"
     ]
    },
    {
     "name": "stdout",
     "output_type": "stream",
     "text": [
      "theta = -157.8827157646253, x_initial = -130, y_initial = 95\n"
     ]
    },
    {
     "name": "stderr",
     "output_type": "stream",
     "text": [
      "100%|████████████████████████████████████████████████████████████████████████████████| 121/121 [00:00<00:00, 193.24it/s]\n",
      "0it [00:00, ?it/s]\n",
      "100%|████████████████████████████████████████████████████████████████████████████████| 121/121 [00:00<00:00, 193.58it/s]\n",
      "0it [00:00, ?it/s]\n",
      "100%|████████████████████████████████████████████████████████████████████████████████| 121/121 [00:00<00:00, 183.44it/s]\n",
      "0it [00:00, ?it/s]\n",
      "100%|████████████████████████████████████████████████████████████████████████████████| 121/121 [00:00<00:00, 197.63it/s]\n",
      "0it [00:00, ?it/s]\n",
      "100%|████████████████████████████████████████████████████████████████████████████████| 121/121 [00:00<00:00, 197.86it/s]\n",
      "0it [00:00, ?it/s]\n",
      "100%|████████████████████████████████████████████████████████████████████████████████| 121/121 [00:00<00:00, 197.31it/s]\n",
      "0it [00:00, ?it/s]\n",
      "100%|████████████████████████████████████████████████████████████████████████████████| 121/121 [00:00<00:00, 197.07it/s]\n",
      "0it [00:00, ?it/s]\n"
     ]
    },
    {
     "name": "stdout",
     "output_type": "stream",
     "text": [
      "Too far translations filtered out: 1041\n",
      "Alignment time: 75.43067836761475\n",
      "Length: 3\n",
      "Aligning 8 and 10\n",
      "new diag score is estimated\n"
     ]
    },
    {
     "name": "stderr",
     "output_type": "stream",
     "text": [
      "100%|██████████████████████████████████████████████████████████████████████████████| 1146/1146 [00:03<00:00, 317.55it/s]\n"
     ]
    },
    {
     "name": "stdout",
     "output_type": "stream",
     "text": [
      "18\n",
      "5\n",
      "theta = -22.83663252914652, x_initial = 126, y_initial = -48\n"
     ]
    },
    {
     "name": "stderr",
     "output_type": "stream",
     "text": [
      "100%|████████████████████████████████████████████████████████████████████████████████| 121/121 [00:00<00:00, 347.07it/s]\n",
      "100%|███████████████████████████████████████████████████████████████████████████████████| 81/81 [00:00<00:00, 87.45it/s]\n",
      "100%|████████████████████████████████████████████████████████████████████████████████| 121/121 [00:00<00:00, 374.64it/s]\n",
      "100%|█████████████████████████████████████████████████████████████████████████████████| 162/162 [00:02<00:00, 75.51it/s]\n",
      "100%|████████████████████████████████████████████████████████████████████████████████| 121/121 [00:00<00:00, 382.28it/s]\n",
      "100%|█████████████████████████████████████████████████████████████████████████████████| 207/207 [00:02<00:00, 74.53it/s]\n",
      "100%|████████████████████████████████████████████████████████████████████████████████| 121/121 [00:00<00:00, 366.49it/s]\n",
      "100%|█████████████████████████████████████████████████████████████████████████████████| 243/243 [00:03<00:00, 75.95it/s]\n",
      "100%|████████████████████████████████████████████████████████████████████████████████| 121/121 [00:00<00:00, 387.97it/s]\n",
      "100%|█████████████████████████████████████████████████████████████████████████████████| 243/243 [00:03<00:00, 74.29it/s]\n",
      "100%|████████████████████████████████████████████████████████████████████████████████| 121/121 [00:00<00:00, 392.24it/s]\n",
      "100%|█████████████████████████████████████████████████████████████████████████████████| 207/207 [00:03<00:00, 68.33it/s]\n",
      "100%|████████████████████████████████████████████████████████████████████████████████| 121/121 [00:00<00:00, 357.15it/s]\n",
      "100%|█████████████████████████████████████████████████████████████████████████████████| 162/162 [00:02<00:00, 76.07it/s]\n"
     ]
    },
    {
     "name": "stdout",
     "output_type": "stream",
     "text": [
      "theta = -22.61986494804047, x_initial = -3, y_initial = 142\n"
     ]
    },
    {
     "name": "stderr",
     "output_type": "stream",
     "text": [
      "100%|████████████████████████████████████████████████████████████████████████████████| 121/121 [00:00<00:00, 418.42it/s]\n",
      "100%|███████████████████████████████████████████████████████████████████████████████████| 36/36 [00:00<00:00, 77.50it/s]\n",
      "100%|████████████████████████████████████████████████████████████████████████████████| 121/121 [00:00<00:00, 411.35it/s]\n",
      "100%|█████████████████████████████████████████████████████████████████████████████████| 108/108 [00:01<00:00, 77.13it/s]\n",
      "100%|████████████████████████████████████████████████████████████████████████████████| 121/121 [00:00<00:00, 408.26it/s]\n",
      "100%|█████████████████████████████████████████████████████████████████████████████████| 162/162 [00:02<00:00, 73.41it/s]\n",
      "100%|████████████████████████████████████████████████████████████████████████████████| 121/121 [00:00<00:00, 404.32it/s]\n",
      "100%|█████████████████████████████████████████████████████████████████████████████████| 198/198 [00:02<00:00, 68.86it/s]\n",
      "100%|████████████████████████████████████████████████████████████████████████████████| 121/121 [00:00<00:00, 391.69it/s]\n",
      "100%|█████████████████████████████████████████████████████████████████████████████████| 243/243 [00:03<00:00, 68.55it/s]\n",
      "100%|████████████████████████████████████████████████████████████████████████████████| 121/121 [00:00<00:00, 307.46it/s]\n",
      "100%|█████████████████████████████████████████████████████████████████████████████████| 234/234 [00:03<00:00, 66.32it/s]\n",
      "100%|████████████████████████████████████████████████████████████████████████████████| 121/121 [00:00<00:00, 353.62it/s]\n",
      "100%|█████████████████████████████████████████████████████████████████████████████████| 189/189 [00:02<00:00, 66.86it/s]\n"
     ]
    },
    {
     "name": "stdout",
     "output_type": "stream",
     "text": [
      "theta = -57.26632446124545, x_initial = 13, y_initial = -133\n"
     ]
    },
    {
     "name": "stderr",
     "output_type": "stream",
     "text": [
      "100%|████████████████████████████████████████████████████████████████████████████████| 121/121 [00:00<00:00, 318.78it/s]\n",
      "0it [00:00, ?it/s]\n",
      "100%|████████████████████████████████████████████████████████████████████████████████| 121/121 [00:00<00:00, 385.59it/s]\n",
      "0it [00:00, ?it/s]\n",
      "100%|████████████████████████████████████████████████████████████████████████████████| 121/121 [00:00<00:00, 358.64it/s]\n",
      "0it [00:00, ?it/s]\n",
      "100%|████████████████████████████████████████████████████████████████████████████████| 121/121 [00:00<00:00, 385.05it/s]\n",
      "0it [00:00, ?it/s]\n",
      "100%|████████████████████████████████████████████████████████████████████████████████| 121/121 [00:00<00:00, 375.21it/s]\n",
      "0it [00:00, ?it/s]\n",
      "100%|████████████████████████████████████████████████████████████████████████████████| 121/121 [00:00<00:00, 378.30it/s]\n",
      "0it [00:00, ?it/s]\n",
      "100%|████████████████████████████████████████████████████████████████████████████████| 121/121 [00:00<00:00, 407.14it/s]\n",
      "0it [00:00, ?it/s]\n"
     ]
    },
    {
     "name": "stdout",
     "output_type": "stream",
     "text": [
      "theta = -103.3861534548522, x_initial = 136, y_initial = 78\n"
     ]
    },
    {
     "name": "stderr",
     "output_type": "stream",
     "text": [
      "100%|████████████████████████████████████████████████████████████████████████████████| 121/121 [00:00<00:00, 375.10it/s]\n",
      "100%|█████████████████████████████████████████████████████████████████████████████████| 135/135 [00:01<00:00, 67.59it/s]\n",
      "100%|████████████████████████████████████████████████████████████████████████████████| 121/121 [00:00<00:00, 384.91it/s]\n",
      "100%|█████████████████████████████████████████████████████████████████████████████████| 153/153 [00:02<00:00, 67.42it/s]\n",
      "100%|████████████████████████████████████████████████████████████████████████████████| 121/121 [00:00<00:00, 313.74it/s]\n",
      "100%|█████████████████████████████████████████████████████████████████████████████████| 162/162 [00:02<00:00, 68.97it/s]\n",
      "100%|████████████████████████████████████████████████████████████████████████████████| 121/121 [00:00<00:00, 345.60it/s]\n",
      "100%|█████████████████████████████████████████████████████████████████████████████████| 189/189 [00:02<00:00, 68.80it/s]\n",
      "100%|████████████████████████████████████████████████████████████████████████████████| 121/121 [00:00<00:00, 362.64it/s]\n",
      "100%|█████████████████████████████████████████████████████████████████████████████████| 180/180 [00:02<00:00, 65.58it/s]\n",
      "100%|████████████████████████████████████████████████████████████████████████████████| 121/121 [00:00<00:00, 372.58it/s]\n",
      "100%|█████████████████████████████████████████████████████████████████████████████████| 207/207 [00:02<00:00, 69.28it/s]\n",
      "100%|████████████████████████████████████████████████████████████████████████████████| 121/121 [00:00<00:00, 369.61it/s]\n",
      "100%|█████████████████████████████████████████████████████████████████████████████████| 180/180 [00:02<00:00, 70.55it/s]\n"
     ]
    },
    {
     "name": "stdout",
     "output_type": "stream",
     "text": [
      "Too far translations filtered out: 3256\n",
      "Alignment time: 70.10437250137329\n",
      "Length: 1\n",
      "Aligning 8 and 11\n",
      "new diag score is estimated\n"
     ]
    },
    {
     "name": "stderr",
     "output_type": "stream",
     "text": [
      "100%|██████████████████████████████████████████████████████████████████████████████| 1146/1146 [00:06<00:00, 188.78it/s]\n"
     ]
    },
    {
     "name": "stdout",
     "output_type": "stream",
     "text": [
      "22\n",
      "9\n",
      "theta = -39.34713664524012, x_initial = 206, y_initial = 89\n"
     ]
    },
    {
     "name": "stderr",
     "output_type": "stream",
     "text": [
      "100%|████████████████████████████████████████████████████████████████████████████████| 121/121 [00:00<00:00, 184.45it/s]\n",
      "0it [00:00, ?it/s]\n",
      "100%|████████████████████████████████████████████████████████████████████████████████| 121/121 [00:00<00:00, 180.81it/s]\n",
      "0it [00:00, ?it/s]\n",
      "100%|████████████████████████████████████████████████████████████████████████████████| 121/121 [00:00<00:00, 166.52it/s]\n",
      "0it [00:00, ?it/s]\n",
      "100%|████████████████████████████████████████████████████████████████████████████████| 121/121 [00:00<00:00, 159.75it/s]\n",
      "0it [00:00, ?it/s]\n",
      "100%|████████████████████████████████████████████████████████████████████████████████| 121/121 [00:00<00:00, 179.85it/s]\n",
      "0it [00:00, ?it/s]\n",
      "100%|████████████████████████████████████████████████████████████████████████████████| 121/121 [00:00<00:00, 141.20it/s]\n",
      "0it [00:00, ?it/s]\n",
      "100%|████████████████████████████████████████████████████████████████████████████████| 121/121 [00:00<00:00, 169.09it/s]\n",
      "0it [00:00, ?it/s]\n"
     ]
    },
    {
     "name": "stdout",
     "output_type": "stream",
     "text": [
      "theta = -17.068539910386367, x_initial = 142, y_initial = -85\n"
     ]
    },
    {
     "name": "stderr",
     "output_type": "stream",
     "text": [
      "100%|████████████████████████████████████████████████████████████████████████████████| 121/121 [00:00<00:00, 136.44it/s]\n",
      "0it [00:00, ?it/s]\n",
      "100%|████████████████████████████████████████████████████████████████████████████████| 121/121 [00:00<00:00, 125.49it/s]\n",
      "0it [00:00, ?it/s]\n",
      "100%|████████████████████████████████████████████████████████████████████████████████| 121/121 [00:00<00:00, 181.57it/s]\n",
      "0it [00:00, ?it/s]\n",
      "100%|████████████████████████████████████████████████████████████████████████████████| 121/121 [00:00<00:00, 197.42it/s]\n",
      "0it [00:00, ?it/s]\n",
      "100%|████████████████████████████████████████████████████████████████████████████████| 121/121 [00:00<00:00, 196.05it/s]\n",
      "0it [00:00, ?it/s]\n",
      "100%|████████████████████████████████████████████████████████████████████████████████| 121/121 [00:00<00:00, 178.07it/s]\n",
      "0it [00:00, ?it/s]\n",
      "100%|████████████████████████████████████████████████████████████████████████████████| 121/121 [00:00<00:00, 198.04it/s]\n",
      "100%|███████████████████████████████████████████████████████████████████████████████████| 72/72 [00:01<00:00, 40.85it/s]\n"
     ]
    },
    {
     "name": "stdout",
     "output_type": "stream",
     "text": [
      "theta = -73.6673957647427, x_initial = -165, y_initial = -141\n"
     ]
    },
    {
     "name": "stderr",
     "output_type": "stream",
     "text": [
      "100%|████████████████████████████████████████████████████████████████████████████████| 121/121 [00:00<00:00, 184.90it/s]\n",
      "100%|█████████████████████████████████████████████████████████████████████████████████| 135/135 [00:03<00:00, 35.26it/s]\n",
      "100%|████████████████████████████████████████████████████████████████████████████████| 121/121 [00:00<00:00, 162.72it/s]\n",
      "100%|█████████████████████████████████████████████████████████████████████████████████| 189/189 [00:05<00:00, 33.36it/s]\n",
      "100%|████████████████████████████████████████████████████████████████████████████████| 121/121 [00:00<00:00, 157.65it/s]\n",
      "100%|█████████████████████████████████████████████████████████████████████████████████| 189/189 [00:05<00:00, 34.64it/s]\n",
      "100%|████████████████████████████████████████████████████████████████████████████████| 121/121 [00:00<00:00, 163.55it/s]\n",
      "100%|█████████████████████████████████████████████████████████████████████████████████| 153/153 [00:04<00:00, 33.50it/s]\n",
      "100%|████████████████████████████████████████████████████████████████████████████████| 121/121 [00:00<00:00, 172.42it/s]\n",
      "100%|█████████████████████████████████████████████████████████████████████████████████| 117/117 [00:03<00:00, 35.14it/s]\n",
      "100%|████████████████████████████████████████████████████████████████████████████████| 121/121 [00:00<00:00, 173.36it/s]\n",
      "100%|███████████████████████████████████████████████████████████████████████████████████| 90/90 [00:02<00:00, 32.00it/s]\n",
      "100%|████████████████████████████████████████████████████████████████████████████████| 121/121 [00:00<00:00, 173.09it/s]\n",
      "100%|███████████████████████████████████████████████████████████████████████████████████| 63/63 [00:01<00:00, 37.03it/s]\n"
     ]
    },
    {
     "name": "stdout",
     "output_type": "stream",
     "text": [
      "theta = -130.55801804575236, x_initial = 61, y_initial = 110\n"
     ]
    },
    {
     "name": "stderr",
     "output_type": "stream",
     "text": [
      "100%|████████████████████████████████████████████████████████████████████████████████| 121/121 [00:00<00:00, 195.38it/s]\n",
      "0it [00:00, ?it/s]\n",
      "100%|████████████████████████████████████████████████████████████████████████████████| 121/121 [00:00<00:00, 193.69it/s]\n",
      "0it [00:00, ?it/s]\n",
      "100%|████████████████████████████████████████████████████████████████████████████████| 121/121 [00:00<00:00, 193.01it/s]\n",
      "0it [00:00, ?it/s]\n",
      "100%|████████████████████████████████████████████████████████████████████████████████| 121/121 [00:00<00:00, 194.06it/s]\n",
      "0it [00:00, ?it/s]\n",
      "100%|████████████████████████████████████████████████████████████████████████████████| 121/121 [00:00<00:00, 192.31it/s]\n",
      "0it [00:00, ?it/s]\n",
      "100%|████████████████████████████████████████████████████████████████████████████████| 121/121 [00:00<00:00, 193.71it/s]\n",
      "0it [00:00, ?it/s]\n",
      "100%|████████████████████████████████████████████████████████████████████████████████| 121/121 [00:00<00:00, 194.36it/s]\n",
      "0it [00:00, ?it/s]\n"
     ]
    },
    {
     "name": "stdout",
     "output_type": "stream",
     "text": [
      "Too far translations filtered out: 426\n",
      "Alignment time: 62.813865661621094\n",
      "Length: 2\n",
      "Aligning 8 and 12\n",
      "new diag score is estimated\n"
     ]
    },
    {
     "name": "stderr",
     "output_type": "stream",
     "text": [
      "100%|██████████████████████████████████████████████████████████████████████████████| 1146/1146 [00:01<00:00, 685.51it/s]\n"
     ]
    },
    {
     "name": "stdout",
     "output_type": "stream",
     "text": [
      "10\n",
      "4\n",
      "theta = -169.10470847105722, x_initial = 132, y_initial = 87\n"
     ]
    },
    {
     "name": "stderr",
     "output_type": "stream",
     "text": [
      "100%|████████████████████████████████████████████████████████████████████████████████| 121/121 [00:00<00:00, 362.85it/s]\n",
      "100%|█████████████████████████████████████████████████████████████████████████████████| 189/189 [00:02<00:00, 67.41it/s]\n",
      "100%|████████████████████████████████████████████████████████████████████████████████| 121/121 [00:00<00:00, 354.51it/s]\n",
      "100%|█████████████████████████████████████████████████████████████████████████████████| 153/153 [00:02<00:00, 65.91it/s]\n",
      "100%|████████████████████████████████████████████████████████████████████████████████| 121/121 [00:00<00:00, 350.77it/s]\n",
      "100%|█████████████████████████████████████████████████████████████████████████████████| 108/108 [00:01<00:00, 64.17it/s]\n",
      "100%|████████████████████████████████████████████████████████████████████████████████| 121/121 [00:00<00:00, 346.88it/s]\n",
      "100%|███████████████████████████████████████████████████████████████████████████████████| 45/45 [00:00<00:00, 65.31it/s]\n",
      "100%|████████████████████████████████████████████████████████████████████████████████| 121/121 [00:00<00:00, 359.99it/s]\n",
      "100%|███████████████████████████████████████████████████████████████████████████████████| 18/18 [00:00<00:00, 84.73it/s]\n",
      "100%|████████████████████████████████████████████████████████████████████████████████| 121/121 [00:00<00:00, 353.73it/s]\n",
      "0it [00:00, ?it/s]\n",
      "100%|████████████████████████████████████████████████████████████████████████████████| 121/121 [00:00<00:00, 357.23it/s]\n",
      "0it [00:00, ?it/s]\n"
     ]
    },
    {
     "name": "stdout",
     "output_type": "stream",
     "text": [
      "theta = -19.917847390899627, x_initial = -79, y_initial = 67\n"
     ]
    },
    {
     "name": "stderr",
     "output_type": "stream",
     "text": [
      "100%|████████████████████████████████████████████████████████████████████████████████| 121/121 [00:00<00:00, 373.89it/s]\n",
      "0it [00:00, ?it/s]\n",
      "100%|████████████████████████████████████████████████████████████████████████████████| 121/121 [00:00<00:00, 368.93it/s]\n",
      "0it [00:00, ?it/s]\n",
      "100%|████████████████████████████████████████████████████████████████████████████████| 121/121 [00:00<00:00, 371.22it/s]\n",
      "0it [00:00, ?it/s]\n",
      "100%|████████████████████████████████████████████████████████████████████████████████| 121/121 [00:00<00:00, 371.02it/s]\n",
      "100%|███████████████████████████████████████████████████████████████████████████████████| 27/27 [00:00<00:00, 91.91it/s]\n",
      "100%|████████████████████████████████████████████████████████████████████████████████| 121/121 [00:00<00:00, 372.16it/s]\n",
      "100%|███████████████████████████████████████████████████████████████████████████████████| 72/72 [00:00<00:00, 74.79it/s]\n",
      "100%|████████████████████████████████████████████████████████████████████████████████| 121/121 [00:00<00:00, 367.83it/s]\n",
      "100%|███████████████████████████████████████████████████████████████████████████████████| 99/99 [00:01<00:00, 71.16it/s]\n",
      "100%|████████████████████████████████████████████████████████████████████████████████| 121/121 [00:00<00:00, 373.32it/s]\n",
      "100%|█████████████████████████████████████████████████████████████████████████████████| 144/144 [00:02<00:00, 71.51it/s]\n"
     ]
    },
    {
     "name": "stdout",
     "output_type": "stream",
     "text": [
      "theta = -91.35223832190376, x_initial = -20, y_initial = -73\n"
     ]
    },
    {
     "name": "stderr",
     "output_type": "stream",
     "text": [
      "100%|████████████████████████████████████████████████████████████████████████████████| 121/121 [00:00<00:00, 396.79it/s]\n",
      "0it [00:00, ?it/s]\n",
      "100%|████████████████████████████████████████████████████████████████████████████████| 121/121 [00:00<00:00, 396.27it/s]\n",
      "0it [00:00, ?it/s]\n",
      "100%|████████████████████████████████████████████████████████████████████████████████| 121/121 [00:00<00:00, 371.92it/s]\n",
      "0it [00:00, ?it/s]\n",
      "100%|████████████████████████████████████████████████████████████████████████████████| 121/121 [00:00<00:00, 387.00it/s]\n",
      "0it [00:00, ?it/s]\n",
      "100%|████████████████████████████████████████████████████████████████████████████████| 121/121 [00:00<00:00, 392.26it/s]\n",
      "0it [00:00, ?it/s]\n",
      "100%|████████████████████████████████████████████████████████████████████████████████| 121/121 [00:00<00:00, 395.41it/s]\n",
      "0it [00:00, ?it/s]\n",
      "100%|████████████████████████████████████████████████████████████████████████████████| 121/121 [00:00<00:00, 398.35it/s]\n",
      "0it [00:00, ?it/s]\n"
     ]
    },
    {
     "name": "stdout",
     "output_type": "stream",
     "text": [
      "theta = -97.06971404230337, x_initial = 106, y_initial = -65\n"
     ]
    },
    {
     "name": "stderr",
     "output_type": "stream",
     "text": [
      "100%|████████████████████████████████████████████████████████████████████████████████| 121/121 [00:00<00:00, 363.62it/s]\n",
      "0it [00:00, ?it/s]\n",
      "100%|████████████████████████████████████████████████████████████████████████████████| 121/121 [00:00<00:00, 364.41it/s]\n",
      "0it [00:00, ?it/s]\n",
      "100%|████████████████████████████████████████████████████████████████████████████████| 121/121 [00:00<00:00, 370.63it/s]\n",
      "0it [00:00, ?it/s]\n",
      "100%|████████████████████████████████████████████████████████████████████████████████| 121/121 [00:00<00:00, 371.12it/s]\n",
      "0it [00:00, ?it/s]\n",
      "100%|████████████████████████████████████████████████████████████████████████████████| 121/121 [00:00<00:00, 370.74it/s]\n",
      "0it [00:00, ?it/s]\n",
      "100%|████████████████████████████████████████████████████████████████████████████████| 121/121 [00:00<00:00, 364.74it/s]\n",
      "0it [00:00, ?it/s]\n",
      "100%|████████████████████████████████████████████████████████████████████████████████| 121/121 [00:00<00:00, 330.40it/s]\n",
      "0it [00:00, ?it/s]\n"
     ]
    },
    {
     "name": "stdout",
     "output_type": "stream",
     "text": [
      "Too far translations filtered out: 705\n",
      "Alignment time: 26.741180419921875\n",
      "Length: 1\n",
      "Aligning 8 and 14\n",
      "new diag score is estimated\n"
     ]
    },
    {
     "name": "stderr",
     "output_type": "stream",
     "text": [
      "100%|██████████████████████████████████████████████████████████████████████████████| 1146/1146 [00:04<00:00, 248.64it/s]\n"
     ]
    },
    {
     "name": "stdout",
     "output_type": "stream",
     "text": [
      "13\n",
      "7\n",
      "theta = -107.31535888878008, x_initial = -165, y_initial = -63\n"
     ]
    },
    {
     "name": "stderr",
     "output_type": "stream",
     "text": [
      "100%|████████████████████████████████████████████████████████████████████████████████| 121/121 [00:00<00:00, 213.43it/s]\n",
      "0it [00:00, ?it/s]\n",
      "100%|████████████████████████████████████████████████████████████████████████████████| 121/121 [00:00<00:00, 204.34it/s]\n",
      "0it [00:00, ?it/s]\n",
      "100%|████████████████████████████████████████████████████████████████████████████████| 121/121 [00:00<00:00, 212.88it/s]\n",
      "0it [00:00, ?it/s]\n",
      "100%|████████████████████████████████████████████████████████████████████████████████| 121/121 [00:00<00:00, 192.62it/s]\n",
      "0it [00:00, ?it/s]\n",
      "100%|████████████████████████████████████████████████████████████████████████████████| 121/121 [00:00<00:00, 202.88it/s]\n",
      "0it [00:00, ?it/s]\n",
      "100%|████████████████████████████████████████████████████████████████████████████████| 121/121 [00:00<00:00, 194.39it/s]\n",
      "0it [00:00, ?it/s]\n",
      "100%|████████████████████████████████████████████████████████████████████████████████| 121/121 [00:00<00:00, 207.72it/s]\n",
      "0it [00:00, ?it/s]\n"
     ]
    },
    {
     "name": "stdout",
     "output_type": "stream",
     "text": [
      "theta = -81.72382978218066, x_initial = -162, y_initial = -60\n"
     ]
    },
    {
     "name": "stderr",
     "output_type": "stream",
     "text": [
      "100%|████████████████████████████████████████████████████████████████████████████████| 121/121 [00:00<00:00, 194.60it/s]\n",
      "100%|█████████████████████████████████████████████████████████████████████████████████| 135/135 [00:02<00:00, 46.94it/s]\n",
      "100%|████████████████████████████████████████████████████████████████████████████████| 121/121 [00:00<00:00, 211.50it/s]\n",
      "100%|███████████████████████████████████████████████████████████████████████████████████| 99/99 [00:02<00:00, 38.64it/s]\n",
      "100%|████████████████████████████████████████████████████████████████████████████████| 121/121 [00:00<00:00, 208.23it/s]\n",
      "100%|█████████████████████████████████████████████████████████████████████████████████| 162/162 [00:03<00:00, 40.52it/s]\n",
      "100%|████████████████████████████████████████████████████████████████████████████████| 121/121 [00:00<00:00, 197.02it/s]\n",
      "100%|█████████████████████████████████████████████████████████████████████████████████| 144/144 [00:03<00:00, 37.32it/s]\n",
      "100%|████████████████████████████████████████████████████████████████████████████████| 121/121 [00:00<00:00, 175.81it/s]\n",
      "100%|█████████████████████████████████████████████████████████████████████████████████| 135/135 [00:03<00:00, 41.49it/s]\n",
      "100%|████████████████████████████████████████████████████████████████████████████████| 121/121 [00:00<00:00, 214.48it/s]\n",
      "100%|███████████████████████████████████████████████████████████████████████████████████| 99/99 [00:02<00:00, 45.02it/s]\n",
      "100%|████████████████████████████████████████████████████████████████████████████████| 121/121 [00:00<00:00, 209.73it/s]\n",
      "100%|███████████████████████████████████████████████████████████████████████████████████| 54/54 [00:01<00:00, 43.08it/s]\n"
     ]
    },
    {
     "name": "stdout",
     "output_type": "stream",
     "text": [
      "theta = -99.87932433337765, x_initial = 129, y_initial = 88\n"
     ]
    },
    {
     "name": "stderr",
     "output_type": "stream",
     "text": [
      "100%|████████████████████████████████████████████████████████████████████████████████| 121/121 [00:00<00:00, 218.74it/s]\n",
      "0it [00:00, ?it/s]\n",
      "100%|████████████████████████████████████████████████████████████████████████████████| 121/121 [00:00<00:00, 202.17it/s]\n",
      "0it [00:00, ?it/s]\n",
      "100%|████████████████████████████████████████████████████████████████████████████████| 121/121 [00:00<00:00, 198.46it/s]\n",
      "0it [00:00, ?it/s]\n",
      "100%|████████████████████████████████████████████████████████████████████████████████| 121/121 [00:00<00:00, 206.05it/s]\n",
      "0it [00:00, ?it/s]\n",
      "100%|████████████████████████████████████████████████████████████████████████████████| 121/121 [00:00<00:00, 218.47it/s]\n",
      "0it [00:00, ?it/s]\n",
      "100%|████████████████████████████████████████████████████████████████████████████████| 121/121 [00:00<00:00, 216.67it/s]\n",
      "0it [00:00, ?it/s]\n",
      "100%|████████████████████████████████████████████████████████████████████████████████| 121/121 [00:00<00:00, 217.44it/s]\n",
      "0it [00:00, ?it/s]\n"
     ]
    },
    {
     "name": "stdout",
     "output_type": "stream",
     "text": [
      "theta = -73.86149677240329, x_initial = -2, y_initial = -141\n"
     ]
    },
    {
     "name": "stderr",
     "output_type": "stream",
     "text": [
      "100%|████████████████████████████████████████████████████████████████████████████████| 121/121 [00:00<00:00, 230.01it/s]\n",
      "0it [00:00, ?it/s]\n",
      "100%|████████████████████████████████████████████████████████████████████████████████| 121/121 [00:00<00:00, 204.16it/s]\n",
      "0it [00:00, ?it/s]\n",
      "100%|████████████████████████████████████████████████████████████████████████████████| 121/121 [00:00<00:00, 216.13it/s]\n",
      "0it [00:00, ?it/s]\n",
      "100%|████████████████████████████████████████████████████████████████████████████████| 121/121 [00:00<00:00, 203.58it/s]\n",
      "0it [00:00, ?it/s]\n",
      "100%|████████████████████████████████████████████████████████████████████████████████| 121/121 [00:00<00:00, 206.82it/s]\n",
      "0it [00:00, ?it/s]\n",
      "100%|████████████████████████████████████████████████████████████████████████████████| 121/121 [00:00<00:00, 197.92it/s]\n",
      "0it [00:00, ?it/s]\n",
      "100%|████████████████████████████████████████████████████████████████████████████████| 121/121 [00:00<00:00, 200.63it/s]\n",
      "0it [00:00, ?it/s]\n"
     ]
    },
    {
     "name": "stdout",
     "output_type": "stream",
     "text": [
      "Too far translations filtered out: 15\n",
      "Alignment time: 46.801997661590576\n",
      "Length: 2\n",
      "Aligning 8 and 15\n",
      "new diag score is estimated\n"
     ]
    },
    {
     "name": "stderr",
     "output_type": "stream",
     "text": [
      "100%|██████████████████████████████████████████████████████████████████████████████| 1146/1146 [00:04<00:00, 229.35it/s]\n"
     ]
    },
    {
     "name": "stdout",
     "output_type": "stream",
     "text": [
      "6\n",
      "3\n",
      "theta = -125.23441798458119, x_initial = -191, y_initial = 16\n"
     ]
    },
    {
     "name": "stderr",
     "output_type": "stream",
     "text": [
      "100%|████████████████████████████████████████████████████████████████████████████████| 121/121 [00:00<00:00, 232.88it/s]\n",
      "0it [00:00, ?it/s]\n",
      "100%|████████████████████████████████████████████████████████████████████████████████| 121/121 [00:00<00:00, 229.80it/s]\n",
      "0it [00:00, ?it/s]\n",
      "100%|████████████████████████████████████████████████████████████████████████████████| 121/121 [00:00<00:00, 234.36it/s]\n",
      "0it [00:00, ?it/s]\n",
      "100%|████████████████████████████████████████████████████████████████████████████████| 121/121 [00:00<00:00, 252.19it/s]\n",
      "0it [00:00, ?it/s]\n",
      "100%|████████████████████████████████████████████████████████████████████████████████| 121/121 [00:00<00:00, 251.78it/s]\n",
      "0it [00:00, ?it/s]\n",
      "100%|████████████████████████████████████████████████████████████████████████████████| 121/121 [00:00<00:00, 249.20it/s]\n",
      "0it [00:00, ?it/s]\n",
      "100%|████████████████████████████████████████████████████████████████████████████████| 121/121 [00:00<00:00, 233.70it/s]\n",
      "0it [00:00, ?it/s]\n"
     ]
    },
    {
     "name": "stdout",
     "output_type": "stream",
     "text": [
      "theta = -169.61114218453054, x_initial = 70, y_initial = 172\n"
     ]
    },
    {
     "name": "stderr",
     "output_type": "stream",
     "text": [
      "100%|████████████████████████████████████████████████████████████████████████████████| 121/121 [00:00<00:00, 237.36it/s]\n",
      "0it [00:00, ?it/s]\n",
      "100%|████████████████████████████████████████████████████████████████████████████████| 121/121 [00:00<00:00, 222.01it/s]\n",
      "100%|███████████████████████████████████████████████████████████████████████████████████| 27/27 [00:00<00:00, 56.56it/s]\n",
      "100%|████████████████████████████████████████████████████████████████████████████████| 121/121 [00:00<00:00, 235.28it/s]\n",
      "100%|███████████████████████████████████████████████████████████████████████████████████| 81/81 [00:01<00:00, 53.58it/s]\n",
      "100%|████████████████████████████████████████████████████████████████████████████████| 121/121 [00:00<00:00, 254.56it/s]\n",
      "100%|███████████████████████████████████████████████████████████████████████████████████| 81/81 [00:01<00:00, 61.56it/s]\n",
      "100%|████████████████████████████████████████████████████████████████████████████████| 121/121 [00:00<00:00, 238.57it/s]\n",
      "100%|███████████████████████████████████████████████████████████████████████████████████| 27/27 [00:00<00:00, 66.09it/s]\n",
      "100%|████████████████████████████████████████████████████████████████████████████████| 121/121 [00:00<00:00, 235.13it/s]\n",
      "100%|███████████████████████████████████████████████████████████████████████████████████| 18/18 [00:00<00:00, 79.49it/s]\n",
      "100%|████████████████████████████████████████████████████████████████████████████████| 121/121 [00:00<00:00, 234.70it/s]\n",
      "0it [00:00, ?it/s]\n"
     ]
    },
    {
     "name": "stdout",
     "output_type": "stream",
     "text": [
      "theta = -21.44078516952017, x_initial = 104, y_initial = 168\n"
     ]
    },
    {
     "name": "stderr",
     "output_type": "stream",
     "text": [
      "100%|████████████████████████████████████████████████████████████████████████████████| 121/121 [00:00<00:00, 243.84it/s]\n",
      "0it [00:00, ?it/s]\n",
      "100%|████████████████████████████████████████████████████████████████████████████████| 121/121 [00:00<00:00, 259.96it/s]\n",
      "0it [00:00, ?it/s]\n",
      "100%|████████████████████████████████████████████████████████████████████████████████| 121/121 [00:00<00:00, 258.64it/s]\n",
      "0it [00:00, ?it/s]\n",
      "100%|████████████████████████████████████████████████████████████████████████████████| 121/121 [00:00<00:00, 247.71it/s]\n",
      "0it [00:00, ?it/s]\n",
      "100%|████████████████████████████████████████████████████████████████████████████████| 121/121 [00:00<00:00, 257.59it/s]\n",
      "0it [00:00, ?it/s]\n",
      "100%|████████████████████████████████████████████████████████████████████████████████| 121/121 [00:00<00:00, 259.56it/s]\n",
      "0it [00:00, ?it/s]\n",
      "100%|████████████████████████████████████████████████████████████████████████████████| 121/121 [00:00<00:00, 245.62it/s]\n",
      "0it [00:00, ?it/s]\n"
     ]
    },
    {
     "name": "stdout",
     "output_type": "stream",
     "text": [
      "Too far translations filtered out: 0\n",
      "Alignment time: 24.38575792312622\n",
      "Length: 3\n",
      "Aligning 9 and 10\n",
      "new diag score is estimated\n"
     ]
    },
    {
     "name": "stderr",
     "output_type": "stream",
     "text": [
      "100%|██████████████████████████████████████████████████████████████████████████████| 2516/2516 [00:07<00:00, 340.28it/s]\n"
     ]
    },
    {
     "name": "stdout",
     "output_type": "stream",
     "text": [
      "22\n",
      "10\n",
      "theta = -163.1163601519104, x_initial = -98, y_initial = 136\n"
     ]
    },
    {
     "name": "stderr",
     "output_type": "stream",
     "text": [
      "100%|████████████████████████████████████████████████████████████████████████████████| 121/121 [00:00<00:00, 173.04it/s]\n",
      "0it [00:00, ?it/s]\n",
      "100%|████████████████████████████████████████████████████████████████████████████████| 121/121 [00:00<00:00, 182.69it/s]\n",
      "0it [00:00, ?it/s]\n",
      "100%|████████████████████████████████████████████████████████████████████████████████| 121/121 [00:00<00:00, 173.51it/s]\n",
      "0it [00:00, ?it/s]\n",
      "100%|████████████████████████████████████████████████████████████████████████████████| 121/121 [00:00<00:00, 174.14it/s]\n",
      "100%|███████████████████████████████████████████████████████████████████████████████████| 72/72 [00:02<00:00, 34.56it/s]\n",
      "100%|████████████████████████████████████████████████████████████████████████████████| 121/121 [00:00<00:00, 185.30it/s]\n",
      "100%|█████████████████████████████████████████████████████████████████████████████████| 108/108 [00:03<00:00, 33.88it/s]\n",
      "100%|████████████████████████████████████████████████████████████████████████████████| 121/121 [00:00<00:00, 180.08it/s]\n",
      "100%|███████████████████████████████████████████████████████████████████████████████████| 90/90 [00:02<00:00, 35.15it/s]\n",
      "100%|████████████████████████████████████████████████████████████████████████████████| 121/121 [00:00<00:00, 170.89it/s]\n",
      "100%|█████████████████████████████████████████████████████████████████████████████████████| 9/9 [00:00<00:00, 34.11it/s]\n"
     ]
    },
    {
     "name": "stdout",
     "output_type": "stream",
     "text": [
      "theta = -72.4245894953129, x_initial = -38, y_initial = -185\n"
     ]
    },
    {
     "name": "stderr",
     "output_type": "stream",
     "text": [
      "100%|████████████████████████████████████████████████████████████████████████████████| 121/121 [00:00<00:00, 151.28it/s]\n",
      "0it [00:00, ?it/s]\n",
      "100%|████████████████████████████████████████████████████████████████████████████████| 121/121 [00:00<00:00, 152.18it/s]\n",
      "0it [00:00, ?it/s]\n",
      "100%|████████████████████████████████████████████████████████████████████████████████| 121/121 [00:00<00:00, 161.02it/s]\n",
      "0it [00:00, ?it/s]\n",
      "100%|████████████████████████████████████████████████████████████████████████████████| 121/121 [00:00<00:00, 140.97it/s]\n",
      "0it [00:00, ?it/s]\n",
      "100%|████████████████████████████████████████████████████████████████████████████████| 121/121 [00:00<00:00, 176.86it/s]\n",
      "0it [00:00, ?it/s]\n",
      "100%|████████████████████████████████████████████████████████████████████████████████| 121/121 [00:00<00:00, 182.96it/s]\n",
      "0it [00:00, ?it/s]\n",
      "100%|████████████████████████████████████████████████████████████████████████████████| 121/121 [00:00<00:00, 161.57it/s]\n",
      "0it [00:00, ?it/s]\n"
     ]
    },
    {
     "name": "stdout",
     "output_type": "stream",
     "text": [
      "theta = -130.8564923734538, x_initial = 163, y_initial = -109\n"
     ]
    },
    {
     "name": "stderr",
     "output_type": "stream",
     "text": [
      "100%|████████████████████████████████████████████████████████████████████████████████| 121/121 [00:00<00:00, 170.32it/s]\n",
      "0it [00:00, ?it/s]\n",
      "100%|████████████████████████████████████████████████████████████████████████████████| 121/121 [00:00<00:00, 167.06it/s]\n",
      "0it [00:00, ?it/s]\n",
      "100%|████████████████████████████████████████████████████████████████████████████████| 121/121 [00:00<00:00, 148.23it/s]\n",
      "100%|█████████████████████████████████████████████████████████████████████████████████| 108/108 [00:03<00:00, 34.56it/s]\n",
      "100%|████████████████████████████████████████████████████████████████████████████████| 121/121 [00:00<00:00, 165.78it/s]\n",
      "100%|█████████████████████████████████████████████████████████████████████████████████| 126/126 [00:03<00:00, 31.74it/s]\n",
      "100%|████████████████████████████████████████████████████████████████████████████████| 121/121 [00:00<00:00, 156.92it/s]\n",
      "100%|███████████████████████████████████████████████████████████████████████████████████| 63/63 [00:01<00:00, 33.27it/s]\n",
      "100%|████████████████████████████████████████████████████████████████████████████████| 121/121 [00:00<00:00, 141.28it/s]\n",
      "100%|█████████████████████████████████████████████████████████████████████████████████████| 9/9 [00:00<00:00, 29.78it/s]\n",
      "100%|████████████████████████████████████████████████████████████████████████████████| 121/121 [00:00<00:00, 149.55it/s]\n",
      "0it [00:00, ?it/s]\n"
     ]
    },
    {
     "name": "stdout",
     "output_type": "stream",
     "text": [
      "theta = -143.65724459474362, x_initial = 267, y_initial = 108\n"
     ]
    },
    {
     "name": "stderr",
     "output_type": "stream",
     "text": [
      "100%|████████████████████████████████████████████████████████████████████████████████| 121/121 [00:00<00:00, 158.24it/s]\n",
      "0it [00:00, ?it/s]\n",
      "100%|████████████████████████████████████████████████████████████████████████████████| 121/121 [00:00<00:00, 136.70it/s]\n",
      "0it [00:00, ?it/s]\n",
      "100%|████████████████████████████████████████████████████████████████████████████████| 121/121 [00:00<00:00, 152.69it/s]\n",
      "0it [00:00, ?it/s]\n",
      "100%|████████████████████████████████████████████████████████████████████████████████| 121/121 [00:00<00:00, 152.15it/s]\n",
      "0it [00:00, ?it/s]\n",
      "100%|████████████████████████████████████████████████████████████████████████████████| 121/121 [00:00<00:00, 145.69it/s]\n",
      "0it [00:00, ?it/s]\n",
      "100%|████████████████████████████████████████████████████████████████████████████████| 121/121 [00:00<00:00, 158.07it/s]\n",
      "0it [00:00, ?it/s]\n",
      "100%|████████████████████████████████████████████████████████████████████████████████| 121/121 [00:00<00:00, 137.81it/s]\n",
      "0it [00:00, ?it/s]\n"
     ]
    },
    {
     "name": "stdout",
     "output_type": "stream",
     "text": [
      "Too far translations filtered out: 180\n",
      "Alignment time: 54.323702573776245\n",
      "Length: 4\n",
      "Aligning 9 and 11\n",
      "new diag score is estimated\n"
     ]
    },
    {
     "name": "stderr",
     "output_type": "stream",
     "text": [
      "100%|██████████████████████████████████████████████████████████████████████████████| 2516/2516 [00:11<00:00, 222.29it/s]\n"
     ]
    },
    {
     "name": "stdout",
     "output_type": "stream",
     "text": [
      "25\n",
      "9\n",
      "theta = -130.8718998456427, x_initial = 160, y_initial = 172\n"
     ]
    },
    {
     "name": "stderr",
     "output_type": "stream",
     "text": [
      "100%|████████████████████████████████████████████████████████████████████████████████| 121/121 [00:00<00:00, 168.73it/s]\n",
      "0it [00:00, ?it/s]\n",
      "100%|████████████████████████████████████████████████████████████████████████████████| 121/121 [00:00<00:00, 140.99it/s]\n",
      "0it [00:00, ?it/s]\n",
      "100%|████████████████████████████████████████████████████████████████████████████████| 121/121 [00:00<00:00, 170.94it/s]\n",
      "0it [00:00, ?it/s]\n",
      "100%|████████████████████████████████████████████████████████████████████████████████| 121/121 [00:00<00:00, 154.41it/s]\n",
      "0it [00:00, ?it/s]\n",
      "100%|████████████████████████████████████████████████████████████████████████████████| 121/121 [00:00<00:00, 161.00it/s]\n",
      "0it [00:00, ?it/s]\n",
      "100%|████████████████████████████████████████████████████████████████████████████████| 121/121 [00:00<00:00, 162.80it/s]\n",
      "0it [00:00, ?it/s]\n",
      "100%|████████████████████████████████████████████████████████████████████████████████| 121/121 [00:00<00:00, 159.28it/s]\n",
      "0it [00:00, ?it/s]\n"
     ]
    },
    {
     "name": "stdout",
     "output_type": "stream",
     "text": [
      "theta = -171.9582584480672, x_initial = 35, y_initial = -271\n"
     ]
    },
    {
     "name": "stderr",
     "output_type": "stream",
     "text": [
      "100%|████████████████████████████████████████████████████████████████████████████████| 121/121 [00:00<00:00, 158.71it/s]\n",
      "100%|███████████████████████████████████████████████████████████████████████████████████| 54/54 [00:01<00:00, 38.96it/s]\n",
      "100%|████████████████████████████████████████████████████████████████████████████████| 121/121 [00:00<00:00, 167.97it/s]\n",
      "100%|███████████████████████████████████████████████████████████████████████████████████| 27/27 [00:00<00:00, 42.70it/s]\n",
      "100%|████████████████████████████████████████████████████████████████████████████████| 121/121 [00:00<00:00, 158.29it/s]\n",
      "0it [00:00, ?it/s]\n",
      "100%|████████████████████████████████████████████████████████████████████████████████| 121/121 [00:00<00:00, 163.98it/s]\n",
      "0it [00:00, ?it/s]\n",
      "100%|████████████████████████████████████████████████████████████████████████████████| 121/121 [00:00<00:00, 170.60it/s]\n",
      "0it [00:00, ?it/s]\n",
      "100%|████████████████████████████████████████████████████████████████████████████████| 121/121 [00:00<00:00, 172.30it/s]\n",
      "0it [00:00, ?it/s]\n",
      "100%|████████████████████████████████████████████████████████████████████████████████| 121/121 [00:00<00:00, 163.95it/s]\n",
      "0it [00:00, ?it/s]\n"
     ]
    },
    {
     "name": "stdout",
     "output_type": "stream",
     "text": [
      "theta = -0.0, x_initial = -114, y_initial = 266\n"
     ]
    },
    {
     "name": "stderr",
     "output_type": "stream",
     "text": [
      "100%|████████████████████████████████████████████████████████████████████████████████| 121/121 [00:00<00:00, 168.03it/s]\n",
      "0it [00:00, ?it/s]\n",
      "100%|████████████████████████████████████████████████████████████████████████████████| 121/121 [00:00<00:00, 159.54it/s]\n",
      "0it [00:00, ?it/s]\n",
      "100%|████████████████████████████████████████████████████████████████████████████████| 121/121 [00:00<00:00, 151.38it/s]\n",
      "100%|███████████████████████████████████████████████████████████████████████████████████| 54/54 [00:01<00:00, 33.77it/s]\n",
      "100%|████████████████████████████████████████████████████████████████████████████████| 121/121 [00:00<00:00, 169.81it/s]\n",
      "100%|█████████████████████████████████████████████████████████████████████████████████| 126/126 [00:03<00:00, 34.40it/s]\n",
      "100%|████████████████████████████████████████████████████████████████████████████████| 121/121 [00:00<00:00, 166.28it/s]\n",
      "0it [00:00, ?it/s]\n",
      "100%|████████████████████████████████████████████████████████████████████████████████| 121/121 [00:00<00:00, 158.88it/s]\n",
      "0it [00:00, ?it/s]\n",
      "100%|████████████████████████████████████████████████████████████████████████████████| 121/121 [00:00<00:00, 168.34it/s]\n",
      "0it [00:00, ?it/s]\n"
     ]
    },
    {
     "name": "stdout",
     "output_type": "stream",
     "text": [
      "theta = -107.07261219785549, x_initial = 48, y_initial = 191\n"
     ]
    },
    {
     "name": "stderr",
     "output_type": "stream",
     "text": [
      "100%|████████████████████████████████████████████████████████████████████████████████| 121/121 [00:00<00:00, 169.00it/s]\n",
      "0it [00:00, ?it/s]\n",
      "100%|████████████████████████████████████████████████████████████████████████████████| 121/121 [00:00<00:00, 171.98it/s]\n",
      "0it [00:00, ?it/s]\n",
      "100%|████████████████████████████████████████████████████████████████████████████████| 121/121 [00:00<00:00, 174.09it/s]\n",
      "100%|███████████████████████████████████████████████████████████████████████████████████| 18/18 [00:00<00:00, 56.86it/s]\n",
      "100%|████████████████████████████████████████████████████████████████████████████████| 121/121 [00:00<00:00, 173.54it/s]\n",
      "100%|███████████████████████████████████████████████████████████████████████████████████| 72/72 [00:01<00:00, 37.77it/s]\n",
      "100%|████████████████████████████████████████████████████████████████████████████████| 121/121 [00:00<00:00, 184.21it/s]\n",
      "100%|███████████████████████████████████████████████████████████████████████████████████| 18/18 [00:00<00:00, 43.76it/s]\n",
      "100%|████████████████████████████████████████████████████████████████████████████████| 121/121 [00:00<00:00, 185.57it/s]\n",
      "0it [00:00, ?it/s]\n",
      "100%|████████████████████████████████████████████████████████████████████████████████| 121/121 [00:00<00:00, 182.94it/s]\n",
      "0it [00:00, ?it/s]\n"
     ]
    },
    {
     "name": "stdout",
     "output_type": "stream",
     "text": [
      "Too far translations filtered out: 6\n",
      "Alignment time: 52.52700161933899\n",
      "Length: 6\n",
      "Aligning 9 and 12\n",
      "new diag score is estimated\n"
     ]
    },
    {
     "name": "stderr",
     "output_type": "stream",
     "text": [
      "100%|██████████████████████████████████████████████████████████████████████████████| 2516/2516 [00:03<00:00, 710.24it/s]\n"
     ]
    },
    {
     "name": "stdout",
     "output_type": "stream",
     "text": [
      "13\n",
      "5\n",
      "theta = -166.32908457827213, x_initial = 149, y_initial = 22\n"
     ]
    },
    {
     "name": "stderr",
     "output_type": "stream",
     "text": [
      "100%|████████████████████████████████████████████████████████████████████████████████| 121/121 [00:00<00:00, 183.34it/s]\n",
      "100%|███████████████████████████████████████████████████████████████████████████████████| 63/63 [00:01<00:00, 34.54it/s]\n",
      "100%|████████████████████████████████████████████████████████████████████████████████| 121/121 [00:00<00:00, 190.13it/s]\n",
      "100%|█████████████████████████████████████████████████████████████████████████████████| 108/108 [00:03<00:00, 35.10it/s]\n",
      "100%|████████████████████████████████████████████████████████████████████████████████| 121/121 [00:00<00:00, 191.16it/s]\n",
      "100%|█████████████████████████████████████████████████████████████████████████████████| 162/162 [00:04<00:00, 34.62it/s]\n",
      "100%|████████████████████████████████████████████████████████████████████████████████| 121/121 [00:00<00:00, 176.60it/s]\n",
      "100%|█████████████████████████████████████████████████████████████████████████████████| 207/207 [00:06<00:00, 34.00it/s]\n",
      "100%|████████████████████████████████████████████████████████████████████████████████| 121/121 [00:00<00:00, 180.21it/s]\n",
      "100%|█████████████████████████████████████████████████████████████████████████████████| 198/198 [00:06<00:00, 32.94it/s]\n",
      "100%|████████████████████████████████████████████████████████████████████████████████| 121/121 [00:00<00:00, 164.93it/s]\n",
      "100%|█████████████████████████████████████████████████████████████████████████████████| 135/135 [00:03<00:00, 34.16it/s]\n",
      "100%|████████████████████████████████████████████████████████████████████████████████| 121/121 [00:00<00:00, 170.55it/s]\n",
      "100%|███████████████████████████████████████████████████████████████████████████████████| 54/54 [00:01<00:00, 35.15it/s]\n"
     ]
    },
    {
     "name": "stdout",
     "output_type": "stream",
     "text": [
      "theta = -139.66694714372173, x_initial = -105, y_initial = 137\n"
     ]
    },
    {
     "name": "stderr",
     "output_type": "stream",
     "text": [
      "100%|████████████████████████████████████████████████████████████████████████████████| 121/121 [00:00<00:00, 177.80it/s]\n",
      "100%|█████████████████████████████████████████████████████████████████████████████████| 126/126 [00:03<00:00, 32.62it/s]\n",
      "100%|████████████████████████████████████████████████████████████████████████████████| 121/121 [00:00<00:00, 190.94it/s]\n",
      "100%|█████████████████████████████████████████████████████████████████████████████████| 171/171 [00:05<00:00, 32.94it/s]\n",
      "100%|████████████████████████████████████████████████████████████████████████████████| 121/121 [00:00<00:00, 184.96it/s]\n",
      "100%|█████████████████████████████████████████████████████████████████████████████████| 198/198 [00:05<00:00, 34.43it/s]\n",
      "100%|████████████████████████████████████████████████████████████████████████████████| 121/121 [00:00<00:00, 181.59it/s]\n",
      "100%|█████████████████████████████████████████████████████████████████████████████████| 225/225 [00:06<00:00, 34.82it/s]\n",
      "100%|████████████████████████████████████████████████████████████████████████████████| 121/121 [00:00<00:00, 183.34it/s]\n",
      "100%|█████████████████████████████████████████████████████████████████████████████████| 117/117 [00:03<00:00, 35.63it/s]\n",
      "100%|████████████████████████████████████████████████████████████████████████████████| 121/121 [00:00<00:00, 180.37it/s]\n",
      "100%|█████████████████████████████████████████████████████████████████████████████████████| 9/9 [00:00<00:00, 58.12it/s]\n",
      "100%|████████████████████████████████████████████████████████████████████████████████| 121/121 [00:00<00:00, 186.99it/s]\n",
      "0it [00:00, ?it/s]\n"
     ]
    },
    {
     "name": "stdout",
     "output_type": "stream",
     "text": [
      "theta = -52.537112188113944, x_initial = 122, y_initial = 90\n"
     ]
    },
    {
     "name": "stderr",
     "output_type": "stream",
     "text": [
      "100%|████████████████████████████████████████████████████████████████████████████████| 121/121 [00:00<00:00, 189.23it/s]\n",
      "0it [00:00, ?it/s]\n",
      "100%|████████████████████████████████████████████████████████████████████████████████| 121/121 [00:00<00:00, 191.65it/s]\n",
      "0it [00:00, ?it/s]\n",
      "100%|████████████████████████████████████████████████████████████████████████████████| 121/121 [00:00<00:00, 193.34it/s]\n",
      "100%|███████████████████████████████████████████████████████████████████████████████████| 45/45 [00:01<00:00, 40.28it/s]\n",
      "100%|████████████████████████████████████████████████████████████████████████████████| 121/121 [00:00<00:00, 189.72it/s]\n",
      "100%|███████████████████████████████████████████████████████████████████████████████████| 90/90 [00:02<00:00, 36.32it/s]\n",
      "100%|████████████████████████████████████████████████████████████████████████████████| 121/121 [00:00<00:00, 192.59it/s]\n",
      "100%|███████████████████████████████████████████████████████████████████████████████████| 99/99 [00:02<00:00, 35.85it/s]\n",
      "100%|████████████████████████████████████████████████████████████████████████████████| 121/121 [00:00<00:00, 192.57it/s]\n",
      "100%|█████████████████████████████████████████████████████████████████████████████████████| 9/9 [00:00<00:00, 56.73it/s]\n",
      "100%|████████████████████████████████████████████████████████████████████████████████| 121/121 [00:00<00:00, 193.58it/s]\n",
      "0it [00:00, ?it/s]\n"
     ]
    },
    {
     "name": "stdout",
     "output_type": "stream",
     "text": [
      "theta = -109.61002759403647, x_initial = -198, y_initial = 150\n"
     ]
    },
    {
     "name": "stderr",
     "output_type": "stream",
     "text": [
      "100%|████████████████████████████████████████████████████████████████████████████████| 121/121 [00:00<00:00, 176.33it/s]\n",
      "0it [00:00, ?it/s]\n",
      "100%|████████████████████████████████████████████████████████████████████████████████| 121/121 [00:00<00:00, 175.77it/s]\n",
      "100%|███████████████████████████████████████████████████████████████████████████████████| 81/81 [00:02<00:00, 38.30it/s]\n",
      "100%|████████████████████████████████████████████████████████████████████████████████| 121/121 [00:00<00:00, 165.72it/s]\n",
      "100%|█████████████████████████████████████████████████████████████████████████████████| 135/135 [00:04<00:00, 32.07it/s]\n",
      "100%|████████████████████████████████████████████████████████████████████████████████| 121/121 [00:00<00:00, 155.49it/s]\n",
      "100%|█████████████████████████████████████████████████████████████████████████████████| 135/135 [00:04<00:00, 33.47it/s]\n",
      "100%|████████████████████████████████████████████████████████████████████████████████| 121/121 [00:00<00:00, 166.11it/s]\n",
      "100%|█████████████████████████████████████████████████████████████████████████████████| 108/108 [00:03<00:00, 35.89it/s]\n",
      "100%|████████████████████████████████████████████████████████████████████████████████| 121/121 [00:00<00:00, 164.81it/s]\n",
      "100%|█████████████████████████████████████████████████████████████████████████████████████| 9/9 [00:00<00:00, 70.10it/s]\n",
      "100%|████████████████████████████████████████████████████████████████████████████████| 121/121 [00:00<00:00, 177.14it/s]\n",
      "0it [00:00, ?it/s]\n"
     ]
    },
    {
     "name": "stdout",
     "output_type": "stream",
     "text": [
      "Too far translations filtered out: 1647\n",
      "Alignment time: 99.76092743873596\n",
      "Length: 4\n",
      "Aligning 9 and 14\n",
      "new diag score is estimated\n"
     ]
    },
    {
     "name": "stderr",
     "output_type": "stream",
     "text": [
      "100%|██████████████████████████████████████████████████████████████████████████████| 2516/2516 [00:10<00:00, 243.82it/s]\n"
     ]
    },
    {
     "name": "stdout",
     "output_type": "stream",
     "text": [
      "24\n",
      "9\n",
      "theta = -169.42103996043105, x_initial = -27, y_initial = -260\n"
     ]
    },
    {
     "name": "stderr",
     "output_type": "stream",
     "text": [
      "100%|████████████████████████████████████████████████████████████████████████████████| 121/121 [00:00<00:00, 181.31it/s]\n",
      "0it [00:00, ?it/s]\n",
      "100%|████████████████████████████████████████████████████████████████████████████████| 121/121 [00:00<00:00, 175.41it/s]\n",
      "0it [00:00, ?it/s]\n",
      "100%|████████████████████████████████████████████████████████████████████████████████| 121/121 [00:00<00:00, 165.90it/s]\n",
      "0it [00:00, ?it/s]\n",
      "100%|████████████████████████████████████████████████████████████████████████████████| 121/121 [00:00<00:00, 163.69it/s]\n",
      "0it [00:00, ?it/s]\n",
      "100%|████████████████████████████████████████████████████████████████████████████████| 121/121 [00:00<00:00, 179.20it/s]\n",
      "100%|███████████████████████████████████████████████████████████████████████████████████| 45/45 [00:01<00:00, 36.65it/s]\n",
      "100%|████████████████████████████████████████████████████████████████████████████████| 121/121 [00:00<00:00, 184.53it/s]\n",
      "100%|███████████████████████████████████████████████████████████████████████████████████| 81/81 [00:02<00:00, 36.69it/s]\n",
      "100%|████████████████████████████████████████████████████████████████████████████████| 121/121 [00:00<00:00, 186.30it/s]\n",
      "100%|███████████████████████████████████████████████████████████████████████████████████| 27/27 [00:00<00:00, 40.20it/s]\n"
     ]
    },
    {
     "name": "stdout",
     "output_type": "stream",
     "text": [
      "theta = -81.91516030943494, x_initial = -266, y_initial = 148\n"
     ]
    },
    {
     "name": "stderr",
     "output_type": "stream",
     "text": [
      "100%|████████████████████████████████████████████████████████████████████████████████| 121/121 [00:00<00:00, 170.18it/s]\n",
      "0it [00:00, ?it/s]\n",
      "100%|████████████████████████████████████████████████████████████████████████████████| 121/121 [00:00<00:00, 167.90it/s]\n",
      "0it [00:00, ?it/s]\n",
      "100%|████████████████████████████████████████████████████████████████████████████████| 121/121 [00:00<00:00, 171.31it/s]\n",
      "0it [00:00, ?it/s]\n",
      "100%|████████████████████████████████████████████████████████████████████████████████| 121/121 [00:00<00:00, 177.79it/s]\n",
      "0it [00:00, ?it/s]\n",
      "100%|████████████████████████████████████████████████████████████████████████████████| 121/121 [00:00<00:00, 173.93it/s]\n",
      "0it [00:00, ?it/s]\n",
      "100%|████████████████████████████████████████████████████████████████████████████████| 121/121 [00:00<00:00, 174.19it/s]\n",
      "0it [00:00, ?it/s]\n",
      "100%|████████████████████████████████████████████████████████████████████████████████| 121/121 [00:00<00:00, 177.41it/s]\n",
      "0it [00:00, ?it/s]\n"
     ]
    },
    {
     "name": "stdout",
     "output_type": "stream",
     "text": [
      "theta = -13.092097145676725, x_initial = 304, y_initial = 103\n"
     ]
    },
    {
     "name": "stderr",
     "output_type": "stream",
     "text": [
      "100%|████████████████████████████████████████████████████████████████████████████████| 121/121 [00:00<00:00, 172.29it/s]\n",
      "0it [00:00, ?it/s]\n",
      "100%|████████████████████████████████████████████████████████████████████████████████| 121/121 [00:00<00:00, 171.38it/s]\n",
      "100%|███████████████████████████████████████████████████████████████████████████████████| 36/36 [00:00<00:00, 43.75it/s]\n",
      "100%|████████████████████████████████████████████████████████████████████████████████| 121/121 [00:00<00:00, 168.18it/s]\n",
      "100%|███████████████████████████████████████████████████████████████████████████████████| 27/27 [00:00<00:00, 36.22it/s]\n",
      "100%|████████████████████████████████████████████████████████████████████████████████| 121/121 [00:00<00:00, 165.72it/s]\n",
      "100%|███████████████████████████████████████████████████████████████████████████████████| 36/36 [00:00<00:00, 41.33it/s]\n",
      "100%|████████████████████████████████████████████████████████████████████████████████| 121/121 [00:00<00:00, 170.40it/s]\n",
      "100%|███████████████████████████████████████████████████████████████████████████████████| 27/27 [00:00<00:00, 40.84it/s]\n",
      "100%|████████████████████████████████████████████████████████████████████████████████| 121/121 [00:00<00:00, 169.22it/s]\n",
      "100%|███████████████████████████████████████████████████████████████████████████████████| 18/18 [00:00<00:00, 43.77it/s]\n",
      "100%|████████████████████████████████████████████████████████████████████████████████| 121/121 [00:00<00:00, 173.31it/s]\n",
      "0it [00:00, ?it/s]\n"
     ]
    },
    {
     "name": "stdout",
     "output_type": "stream",
     "text": [
      "theta = -135.39279274247946, x_initial = 278, y_initial = 126\n"
     ]
    },
    {
     "name": "stderr",
     "output_type": "stream",
     "text": [
      "100%|████████████████████████████████████████████████████████████████████████████████| 121/121 [00:00<00:00, 170.62it/s]\n",
      "100%|███████████████████████████████████████████████████████████████████████████████████| 45/45 [00:01<00:00, 36.77it/s]\n",
      "100%|████████████████████████████████████████████████████████████████████████████████| 121/121 [00:00<00:00, 174.50it/s]\n",
      "100%|███████████████████████████████████████████████████████████████████████████████████| 72/72 [00:02<00:00, 33.97it/s]\n",
      "100%|████████████████████████████████████████████████████████████████████████████████| 121/121 [00:00<00:00, 176.49it/s]\n",
      "100%|███████████████████████████████████████████████████████████████████████████████████| 90/90 [00:02<00:00, 34.67it/s]\n",
      "100%|████████████████████████████████████████████████████████████████████████████████| 121/121 [00:00<00:00, 177.80it/s]\n",
      "100%|█████████████████████████████████████████████████████████████████████████████████| 108/108 [00:02<00:00, 39.59it/s]\n",
      "100%|████████████████████████████████████████████████████████████████████████████████| 121/121 [00:00<00:00, 165.14it/s]\n",
      "100%|███████████████████████████████████████████████████████████████████████████████████| 81/81 [00:02<00:00, 35.37it/s]\n",
      "100%|████████████████████████████████████████████████████████████████████████████████| 121/121 [00:00<00:00, 176.90it/s]\n",
      "100%|███████████████████████████████████████████████████████████████████████████████████| 72/72 [00:02<00:00, 34.75it/s]\n",
      "100%|████████████████████████████████████████████████████████████████████████████████| 121/121 [00:00<00:00, 166.21it/s]\n",
      "100%|███████████████████████████████████████████████████████████████████████████████████| 18/18 [00:00<00:00, 51.38it/s]\n"
     ]
    },
    {
     "name": "stdout",
     "output_type": "stream",
     "text": [
      "Too far translations filtered out: 0\n",
      "Alignment time: 60.53911519050598\n",
      "Length: 1\n",
      "Aligning 9 and 15\n",
      "new diag score is estimated\n"
     ]
    },
    {
     "name": "stderr",
     "output_type": "stream",
     "text": [
      "100%|██████████████████████████████████████████████████████████████████████████████| 2516/2516 [00:10<00:00, 245.95it/s]\n"
     ]
    },
    {
     "name": "stdout",
     "output_type": "stream",
     "text": [
      "17\n",
      "6\n",
      "theta = -159.12836582274306, x_initial = 30, y_initial = -243\n"
     ]
    },
    {
     "name": "stderr",
     "output_type": "stream",
     "text": [
      "100%|████████████████████████████████████████████████████████████████████████████████| 121/121 [00:00<00:00, 189.57it/s]\n",
      "0it [00:00, ?it/s]\n",
      "100%|████████████████████████████████████████████████████████████████████████████████| 121/121 [00:00<00:00, 182.80it/s]\n",
      "0it [00:00, ?it/s]\n",
      "100%|████████████████████████████████████████████████████████████████████████████████| 121/121 [00:00<00:00, 186.77it/s]\n",
      "0it [00:00, ?it/s]\n",
      "100%|████████████████████████████████████████████████████████████████████████████████| 121/121 [00:00<00:00, 185.66it/s]\n",
      "0it [00:00, ?it/s]\n",
      "100%|████████████████████████████████████████████████████████████████████████████████| 121/121 [00:00<00:00, 187.89it/s]\n",
      "0it [00:00, ?it/s]\n",
      "100%|████████████████████████████████████████████████████████████████████████████████| 121/121 [00:00<00:00, 190.39it/s]\n",
      "0it [00:00, ?it/s]\n",
      "100%|████████████████████████████████████████████████████████████████████████████████| 121/121 [00:00<00:00, 189.30it/s]\n",
      "0it [00:00, ?it/s]\n"
     ]
    },
    {
     "name": "stdout",
     "output_type": "stream",
     "text": [
      "theta = -143.11524509499043, x_initial = 62, y_initial = 211\n"
     ]
    },
    {
     "name": "stderr",
     "output_type": "stream",
     "text": [
      "100%|████████████████████████████████████████████████████████████████████████████████| 121/121 [00:00<00:00, 191.84it/s]\n",
      "0it [00:00, ?it/s]\n",
      "100%|████████████████████████████████████████████████████████████████████████████████| 121/121 [00:00<00:00, 193.17it/s]\n",
      "0it [00:00, ?it/s]\n",
      "100%|████████████████████████████████████████████████████████████████████████████████| 121/121 [00:00<00:00, 192.06it/s]\n",
      "0it [00:00, ?it/s]\n",
      "100%|████████████████████████████████████████████████████████████████████████████████| 121/121 [00:00<00:00, 191.51it/s]\n",
      "0it [00:00, ?it/s]\n",
      "100%|████████████████████████████████████████████████████████████████████████████████| 121/121 [00:00<00:00, 192.62it/s]\n",
      "0it [00:00, ?it/s]\n",
      "100%|████████████████████████████████████████████████████████████████████████████████| 121/121 [00:00<00:00, 190.97it/s]\n",
      "0it [00:00, ?it/s]\n",
      "100%|████████████████████████████████████████████████████████████████████████████████| 121/121 [00:00<00:00, 189.25it/s]\n",
      "0it [00:00, ?it/s]\n"
     ]
    },
    {
     "name": "stdout",
     "output_type": "stream",
     "text": [
      "theta = -130.03104442901665, x_initial = 40, y_initial = -306\n"
     ]
    },
    {
     "name": "stderr",
     "output_type": "stream",
     "text": [
      "100%|████████████████████████████████████████████████████████████████████████████████| 121/121 [00:00<00:00, 182.36it/s]\n",
      "0it [00:00, ?it/s]\n",
      "100%|████████████████████████████████████████████████████████████████████████████████| 121/121 [00:00<00:00, 177.28it/s]\n",
      "0it [00:00, ?it/s]\n",
      "100%|████████████████████████████████████████████████████████████████████████████████| 121/121 [00:00<00:00, 170.26it/s]\n",
      "0it [00:00, ?it/s]\n",
      "100%|████████████████████████████████████████████████████████████████████████████████| 121/121 [00:00<00:00, 178.30it/s]\n",
      "0it [00:00, ?it/s]\n",
      "100%|████████████████████████████████████████████████████████████████████████████████| 121/121 [00:00<00:00, 183.73it/s]\n",
      "0it [00:00, ?it/s]\n",
      "100%|████████████████████████████████████████████████████████████████████████████████| 121/121 [00:00<00:00, 180.58it/s]\n",
      "0it [00:00, ?it/s]\n",
      "100%|████████████████████████████████████████████████████████████████████████████████| 121/121 [00:00<00:00, 175.42it/s]\n",
      "0it [00:00, ?it/s]\n"
     ]
    },
    {
     "name": "stdout",
     "output_type": "stream",
     "text": [
      "theta = -55.84708460106181, x_initial = 41, y_initial = -241\n"
     ]
    },
    {
     "name": "stderr",
     "output_type": "stream",
     "text": [
      "100%|████████████████████████████████████████████████████████████████████████████████| 121/121 [00:00<00:00, 182.22it/s]\n",
      "0it [00:00, ?it/s]\n",
      "100%|████████████████████████████████████████████████████████████████████████████████| 121/121 [00:00<00:00, 181.64it/s]\n",
      "0it [00:00, ?it/s]\n",
      "100%|████████████████████████████████████████████████████████████████████████████████| 121/121 [00:00<00:00, 187.32it/s]\n",
      "0it [00:00, ?it/s]\n",
      "100%|████████████████████████████████████████████████████████████████████████████████| 121/121 [00:00<00:00, 158.97it/s]\n",
      "0it [00:00, ?it/s]\n",
      "100%|████████████████████████████████████████████████████████████████████████████████| 121/121 [00:00<00:00, 181.34it/s]\n",
      "0it [00:00, ?it/s]\n",
      "100%|████████████████████████████████████████████████████████████████████████████████| 121/121 [00:00<00:00, 179.07it/s]\n",
      "0it [00:00, ?it/s]\n",
      "100%|████████████████████████████████████████████████████████████████████████████████| 121/121 [00:00<00:00, 176.08it/s]\n",
      "0it [00:00, ?it/s]\n"
     ]
    },
    {
     "name": "stdout",
     "output_type": "stream",
     "text": [
      "Alignment time: 36.80274295806885\n",
      "Length: 0\n",
      "Aligning 10 and 11\n",
      "new diag score is estimated\n"
     ]
    },
    {
     "name": "stderr",
     "output_type": "stream",
     "text": [
      "100%|██████████████████████████████████████████████████████████████████████████████| 1249/1249 [00:05<00:00, 228.77it/s]\n"
     ]
    },
    {
     "name": "stdout",
     "output_type": "stream",
     "text": [
      "20\n",
      "9\n",
      "theta = -54.38608378324688, x_initial = -12, y_initial = -168\n"
     ]
    },
    {
     "name": "stderr",
     "output_type": "stream",
     "text": [
      "100%|████████████████████████████████████████████████████████████████████████████████| 121/121 [00:00<00:00, 184.05it/s]\n",
      "0it [00:00, ?it/s]\n",
      "100%|████████████████████████████████████████████████████████████████████████████████| 121/121 [00:00<00:00, 177.32it/s]\n",
      "0it [00:00, ?it/s]\n",
      "100%|████████████████████████████████████████████████████████████████████████████████| 121/121 [00:00<00:00, 168.97it/s]\n",
      "0it [00:00, ?it/s]\n",
      "100%|████████████████████████████████████████████████████████████████████████████████| 121/121 [00:00<00:00, 188.93it/s]\n",
      "0it [00:00, ?it/s]\n",
      "100%|████████████████████████████████████████████████████████████████████████████████| 121/121 [00:00<00:00, 190.42it/s]\n",
      "0it [00:00, ?it/s]\n",
      "100%|████████████████████████████████████████████████████████████████████████████████| 121/121 [00:00<00:00, 196.35it/s]\n",
      "0it [00:00, ?it/s]\n",
      "100%|████████████████████████████████████████████████████████████████████████████████| 121/121 [00:00<00:00, 193.83it/s]\n",
      "0it [00:00, ?it/s]\n"
     ]
    },
    {
     "name": "stdout",
     "output_type": "stream",
     "text": [
      "theta = -87.32584931058706, x_initial = 32, y_initial = 171\n"
     ]
    },
    {
     "name": "stderr",
     "output_type": "stream",
     "text": [
      "100%|████████████████████████████████████████████████████████████████████████████████| 121/121 [00:00<00:00, 201.79it/s]\n",
      "0it [00:00, ?it/s]\n",
      "100%|████████████████████████████████████████████████████████████████████████████████| 121/121 [00:00<00:00, 202.37it/s]\n",
      "0it [00:00, ?it/s]\n",
      "100%|████████████████████████████████████████████████████████████████████████████████| 121/121 [00:00<00:00, 202.84it/s]\n",
      "0it [00:00, ?it/s]\n",
      "100%|████████████████████████████████████████████████████████████████████████████████| 121/121 [00:00<00:00, 202.73it/s]\n",
      "0it [00:00, ?it/s]\n",
      "100%|████████████████████████████████████████████████████████████████████████████████| 121/121 [00:00<00:00, 206.89it/s]\n",
      "0it [00:00, ?it/s]\n",
      "100%|████████████████████████████████████████████████████████████████████████████████| 121/121 [00:00<00:00, 196.75it/s]\n",
      "0it [00:00, ?it/s]\n",
      "100%|████████████████████████████████████████████████████████████████████████████████| 121/121 [00:00<00:00, 189.92it/s]\n",
      "0it [00:00, ?it/s]\n"
     ]
    },
    {
     "name": "stdout",
     "output_type": "stream",
     "text": [
      "theta = -4.139867628020398, x_initial = 170, y_initial = -93\n"
     ]
    },
    {
     "name": "stderr",
     "output_type": "stream",
     "text": [
      "100%|████████████████████████████████████████████████████████████████████████████████| 121/121 [00:00<00:00, 188.63it/s]\n",
      "0it [00:00, ?it/s]\n",
      "100%|████████████████████████████████████████████████████████████████████████████████| 121/121 [00:00<00:00, 184.47it/s]\n",
      "100%|███████████████████████████████████████████████████████████████████████████████████| 27/27 [00:00<00:00, 43.86it/s]\n",
      "100%|████████████████████████████████████████████████████████████████████████████████| 121/121 [00:00<00:00, 191.21it/s]\n",
      "100%|█████████████████████████████████████████████████████████████████████████████████| 108/108 [00:03<00:00, 35.66it/s]\n",
      "100%|████████████████████████████████████████████████████████████████████████████████| 121/121 [00:00<00:00, 167.62it/s]\n",
      "100%|█████████████████████████████████████████████████████████████████████████████████| 198/198 [00:05<00:00, 33.88it/s]\n",
      "100%|████████████████████████████████████████████████████████████████████████████████| 121/121 [00:00<00:00, 182.92it/s]\n",
      "100%|█████████████████████████████████████████████████████████████████████████████████| 207/207 [00:06<00:00, 34.15it/s]\n",
      "100%|████████████████████████████████████████████████████████████████████████████████| 121/121 [00:00<00:00, 185.02it/s]\n",
      "100%|█████████████████████████████████████████████████████████████████████████████████| 162/162 [00:05<00:00, 31.69it/s]\n",
      "100%|████████████████████████████████████████████████████████████████████████████████| 121/121 [00:00<00:00, 172.44it/s]\n",
      "100%|███████████████████████████████████████████████████████████████████████████████████| 90/90 [00:02<00:00, 32.77it/s]\n"
     ]
    },
    {
     "name": "stdout",
     "output_type": "stream",
     "text": [
      "theta = -99.11444951174731, x_initial = -80, y_initial = -180\n"
     ]
    },
    {
     "name": "stderr",
     "output_type": "stream",
     "text": [
      "100%|████████████████████████████████████████████████████████████████████████████████| 121/121 [00:00<00:00, 170.77it/s]\n",
      "100%|███████████████████████████████████████████████████████████████████████████████████| 63/63 [00:01<00:00, 34.43it/s]\n",
      "100%|████████████████████████████████████████████████████████████████████████████████| 121/121 [00:00<00:00, 143.01it/s]\n",
      "100%|███████████████████████████████████████████████████████████████████████████████████| 90/90 [00:03<00:00, 28.64it/s]\n",
      "100%|████████████████████████████████████████████████████████████████████████████████| 121/121 [00:00<00:00, 159.86it/s]\n",
      "100%|█████████████████████████████████████████████████████████████████████████████████| 126/126 [00:03<00:00, 39.43it/s]\n",
      "100%|████████████████████████████████████████████████████████████████████████████████| 121/121 [00:00<00:00, 194.67it/s]\n",
      "100%|███████████████████████████████████████████████████████████████████████████████████| 90/90 [00:02<00:00, 34.16it/s]\n",
      "100%|████████████████████████████████████████████████████████████████████████████████| 121/121 [00:00<00:00, 134.97it/s]\n",
      "100%|███████████████████████████████████████████████████████████████████████████████████| 63/63 [00:01<00:00, 36.54it/s]\n",
      "100%|████████████████████████████████████████████████████████████████████████████████| 121/121 [00:00<00:00, 160.96it/s]\n",
      "100%|███████████████████████████████████████████████████████████████████████████████████| 36/36 [00:00<00:00, 37.46it/s]\n",
      "100%|████████████████████████████████████████████████████████████████████████████████| 121/121 [00:00<00:00, 176.13it/s]\n",
      "0it [00:00, ?it/s]\n"
     ]
    },
    {
     "name": "stdout",
     "output_type": "stream",
     "text": [
      "Too far translations filtered out: 991\n",
      "Alignment time: 68.00146842002869\n",
      "Length: 1\n",
      "Aligning 10 and 12\n",
      "new diag score is estimated\n"
     ]
    },
    {
     "name": "stderr",
     "output_type": "stream",
     "text": [
      "100%|██████████████████████████████████████████████████████████████████████████████| 1249/1249 [00:01<00:00, 697.75it/s]\n"
     ]
    },
    {
     "name": "stdout",
     "output_type": "stream",
     "text": [
      "14\n",
      "6\n",
      "theta = -62.99470821781757, x_initial = 99, y_initial = -18\n"
     ]
    },
    {
     "name": "stderr",
     "output_type": "stream",
     "text": [
      "100%|████████████████████████████████████████████████████████████████████████████████| 121/121 [00:00<00:00, 420.48it/s]\n",
      "100%|███████████████████████████████████████████████████████████████████████████████████| 72/72 [00:00<00:00, 82.17it/s]\n",
      "100%|████████████████████████████████████████████████████████████████████████████████| 121/121 [00:00<00:00, 416.09it/s]\n",
      "100%|█████████████████████████████████████████████████████████████████████████████████| 153/153 [00:01<00:00, 80.16it/s]\n",
      "100%|████████████████████████████████████████████████████████████████████████████████| 121/121 [00:00<00:00, 339.00it/s]\n",
      "100%|█████████████████████████████████████████████████████████████████████████████████| 180/180 [00:02<00:00, 78.91it/s]\n",
      "100%|████████████████████████████████████████████████████████████████████████████████| 121/121 [00:00<00:00, 404.04it/s]\n",
      "100%|█████████████████████████████████████████████████████████████████████████████████| 198/198 [00:02<00:00, 84.34it/s]\n",
      "100%|████████████████████████████████████████████████████████████████████████████████| 121/121 [00:00<00:00, 400.85it/s]\n",
      "100%|█████████████████████████████████████████████████████████████████████████████████| 198/198 [00:02<00:00, 83.18it/s]\n",
      "100%|████████████████████████████████████████████████████████████████████████████████| 121/121 [00:00<00:00, 410.01it/s]\n",
      "100%|█████████████████████████████████████████████████████████████████████████████████| 153/153 [00:01<00:00, 80.90it/s]\n",
      "100%|████████████████████████████████████████████████████████████████████████████████| 121/121 [00:00<00:00, 415.92it/s]\n",
      "100%|█████████████████████████████████████████████████████████████████████████████████| 153/153 [00:01<00:00, 88.17it/s]\n"
     ]
    },
    {
     "name": "stdout",
     "output_type": "stream",
     "text": [
      "theta = -44.441747713094, x_initial = 106, y_initial = 66\n"
     ]
    },
    {
     "name": "stderr",
     "output_type": "stream",
     "text": [
      "100%|████████████████████████████████████████████████████████████████████████████████| 121/121 [00:00<00:00, 423.07it/s]\n",
      "100%|█████████████████████████████████████████████████████████████████████████████████| 126/126 [00:01<00:00, 76.15it/s]\n",
      "100%|████████████████████████████████████████████████████████████████████████████████| 121/121 [00:00<00:00, 413.92it/s]\n",
      "100%|█████████████████████████████████████████████████████████████████████████████████| 162/162 [00:02<00:00, 79.68it/s]\n",
      "100%|████████████████████████████████████████████████████████████████████████████████| 121/121 [00:00<00:00, 352.24it/s]\n",
      "100%|█████████████████████████████████████████████████████████████████████████████████| 198/198 [00:02<00:00, 79.05it/s]\n",
      "100%|████████████████████████████████████████████████████████████████████████████████| 121/121 [00:00<00:00, 355.45it/s]\n",
      "100%|█████████████████████████████████████████████████████████████████████████████████| 198/198 [00:02<00:00, 77.24it/s]\n",
      "100%|████████████████████████████████████████████████████████████████████████████████| 121/121 [00:00<00:00, 414.43it/s]\n",
      "100%|█████████████████████████████████████████████████████████████████████████████████| 207/207 [00:02<00:00, 75.83it/s]\n",
      "100%|████████████████████████████████████████████████████████████████████████████████| 121/121 [00:00<00:00, 403.27it/s]\n",
      "100%|█████████████████████████████████████████████████████████████████████████████████| 207/207 [00:02<00:00, 76.97it/s]\n",
      "100%|████████████████████████████████████████████████████████████████████████████████| 121/121 [00:00<00:00, 408.67it/s]\n",
      "100%|█████████████████████████████████████████████████████████████████████████████████| 135/135 [00:02<00:00, 60.50it/s]\n"
     ]
    },
    {
     "name": "stdout",
     "output_type": "stream",
     "text": [
      "theta = -153.93235438644749, x_initial = 27, y_initial = 114\n"
     ]
    },
    {
     "name": "stderr",
     "output_type": "stream",
     "text": [
      "100%|████████████████████████████████████████████████████████████████████████████████| 121/121 [00:00<00:00, 439.15it/s]\n",
      "100%|█████████████████████████████████████████████████████████████████████████████████| 153/153 [00:01<00:00, 79.14it/s]\n",
      "100%|████████████████████████████████████████████████████████████████████████████████| 121/121 [00:00<00:00, 285.16it/s]\n",
      "100%|█████████████████████████████████████████████████████████████████████████████████| 189/189 [00:02<00:00, 73.54it/s]\n",
      "100%|████████████████████████████████████████████████████████████████████████████████| 121/121 [00:00<00:00, 421.39it/s]\n",
      "100%|█████████████████████████████████████████████████████████████████████████████████| 216/216 [00:03<00:00, 64.94it/s]\n",
      "100%|████████████████████████████████████████████████████████████████████████████████| 121/121 [00:00<00:00, 345.37it/s]\n",
      "100%|█████████████████████████████████████████████████████████████████████████████████| 207/207 [00:02<00:00, 73.95it/s]\n",
      "100%|████████████████████████████████████████████████████████████████████████████████| 121/121 [00:00<00:00, 445.44it/s]\n",
      "100%|█████████████████████████████████████████████████████████████████████████████████| 216/216 [00:02<00:00, 78.77it/s]\n",
      "100%|████████████████████████████████████████████████████████████████████████████████| 121/121 [00:00<00:00, 355.18it/s]\n",
      "100%|█████████████████████████████████████████████████████████████████████████████████| 153/153 [00:01<00:00, 77.65it/s]\n",
      "100%|████████████████████████████████████████████████████████████████████████████████| 121/121 [00:00<00:00, 446.34it/s]\n",
      "100%|█████████████████████████████████████████████████████████████████████████████████| 117/117 [00:01<00:00, 79.44it/s]\n"
     ]
    },
    {
     "name": "stdout",
     "output_type": "stream",
     "text": [
      "theta = -150.30327044431112, x_initial = 120, y_initial = 17\n"
     ]
    },
    {
     "name": "stderr",
     "output_type": "stream",
     "text": [
      "100%|████████████████████████████████████████████████████████████████████████████████| 121/121 [00:00<00:00, 429.32it/s]\n",
      "0it [00:00, ?it/s]\n",
      "100%|████████████████████████████████████████████████████████████████████████████████| 121/121 [00:00<00:00, 428.00it/s]\n",
      "0it [00:00, ?it/s]\n",
      "100%|████████████████████████████████████████████████████████████████████████████████| 121/121 [00:00<00:00, 430.94it/s]\n",
      "0it [00:00, ?it/s]\n",
      "100%|████████████████████████████████████████████████████████████████████████████████| 121/121 [00:00<00:00, 432.08it/s]\n",
      "0it [00:00, ?it/s]\n",
      "100%|████████████████████████████████████████████████████████████████████████████████| 121/121 [00:00<00:00, 423.47it/s]\n",
      "0it [00:00, ?it/s]\n",
      "100%|████████████████████████████████████████████████████████████████████████████████| 121/121 [00:00<00:00, 432.06it/s]\n",
      "0it [00:00, ?it/s]\n",
      "100%|████████████████████████████████████████████████████████████████████████████████| 121/121 [00:00<00:00, 434.72it/s]\n",
      "0it [00:00, ?it/s]\n"
     ]
    },
    {
     "name": "stdout",
     "output_type": "stream",
     "text": [
      "Too far translations filtered out: 3152\n",
      "Alignment time: 60.79935884475708\n",
      "Length: 3\n",
      "Aligning 10 and 14\n",
      "new diag score is estimated\n"
     ]
    },
    {
     "name": "stderr",
     "output_type": "stream",
     "text": [
      "100%|██████████████████████████████████████████████████████████████████████████████| 1249/1249 [00:05<00:00, 224.30it/s]\n"
     ]
    },
    {
     "name": "stdout",
     "output_type": "stream",
     "text": [
      "10\n",
      "4\n",
      "theta = -48.81164025225906, x_initial = 194, y_initial = 57\n"
     ]
    },
    {
     "name": "stderr",
     "output_type": "stream",
     "text": [
      "100%|████████████████████████████████████████████████████████████████████████████████| 121/121 [00:00<00:00, 215.86it/s]\n",
      "0it [00:00, ?it/s]\n",
      "100%|████████████████████████████████████████████████████████████████████████████████| 121/121 [00:00<00:00, 217.44it/s]\n",
      "0it [00:00, ?it/s]\n",
      "100%|████████████████████████████████████████████████████████████████████████████████| 121/121 [00:00<00:00, 205.68it/s]\n",
      "0it [00:00, ?it/s]\n",
      "100%|████████████████████████████████████████████████████████████████████████████████| 121/121 [00:00<00:00, 213.58it/s]\n",
      "0it [00:00, ?it/s]\n",
      "100%|████████████████████████████████████████████████████████████████████████████████| 121/121 [00:00<00:00, 181.74it/s]\n",
      "0it [00:00, ?it/s]\n",
      "100%|████████████████████████████████████████████████████████████████████████████████| 121/121 [00:00<00:00, 208.46it/s]\n",
      "0it [00:00, ?it/s]\n",
      "100%|████████████████████████████████████████████████████████████████████████████████| 121/121 [00:00<00:00, 197.24it/s]\n",
      "0it [00:00, ?it/s]\n"
     ]
    },
    {
     "name": "stdout",
     "output_type": "stream",
     "text": [
      "theta = -167.9432463520059, x_initial = -81, y_initial = -154\n"
     ]
    },
    {
     "name": "stderr",
     "output_type": "stream",
     "text": [
      "100%|████████████████████████████████████████████████████████████████████████████████| 121/121 [00:00<00:00, 194.04it/s]\n",
      "0it [00:00, ?it/s]\n",
      "100%|████████████████████████████████████████████████████████████████████████████████| 121/121 [00:00<00:00, 225.43it/s]\n",
      "100%|███████████████████████████████████████████████████████████████████████████████████| 45/45 [00:01<00:00, 43.90it/s]\n",
      "100%|████████████████████████████████████████████████████████████████████████████████| 121/121 [00:00<00:00, 178.27it/s]\n",
      "100%|███████████████████████████████████████████████████████████████████████████████████| 99/99 [00:02<00:00, 39.01it/s]\n",
      "100%|████████████████████████████████████████████████████████████████████████████████| 121/121 [00:00<00:00, 203.79it/s]\n",
      "100%|█████████████████████████████████████████████████████████████████████████████████| 171/171 [00:04<00:00, 40.85it/s]\n",
      "100%|████████████████████████████████████████████████████████████████████████████████| 121/121 [00:00<00:00, 210.52it/s]\n",
      "100%|█████████████████████████████████████████████████████████████████████████████████| 180/180 [00:04<00:00, 41.32it/s]\n",
      "100%|████████████████████████████████████████████████████████████████████████████████| 121/121 [00:00<00:00, 217.76it/s]\n",
      "100%|█████████████████████████████████████████████████████████████████████████████████| 144/144 [00:03<00:00, 43.45it/s]\n",
      "100%|████████████████████████████████████████████████████████████████████████████████| 121/121 [00:00<00:00, 224.00it/s]\n",
      "100%|███████████████████████████████████████████████████████████████████████████████████| 90/90 [00:02<00:00, 44.21it/s]\n"
     ]
    },
    {
     "name": "stdout",
     "output_type": "stream",
     "text": [
      "theta = -119.94840695540117, x_initial = 215, y_initial = 32\n"
     ]
    },
    {
     "name": "stderr",
     "output_type": "stream",
     "text": [
      "100%|████████████████████████████████████████████████████████████████████████████████| 121/121 [00:00<00:00, 211.65it/s]\n",
      "0it [00:00, ?it/s]\n",
      "100%|████████████████████████████████████████████████████████████████████████████████| 121/121 [00:00<00:00, 221.05it/s]\n",
      "0it [00:00, ?it/s]\n",
      "100%|████████████████████████████████████████████████████████████████████████████████| 121/121 [00:00<00:00, 220.21it/s]\n",
      "0it [00:00, ?it/s]\n",
      "100%|████████████████████████████████████████████████████████████████████████████████| 121/121 [00:00<00:00, 219.24it/s]\n",
      "0it [00:00, ?it/s]\n",
      "100%|████████████████████████████████████████████████████████████████████████████████| 121/121 [00:00<00:00, 221.50it/s]\n",
      "0it [00:00, ?it/s]\n",
      "100%|████████████████████████████████████████████████████████████████████████████████| 121/121 [00:00<00:00, 219.06it/s]\n",
      "0it [00:00, ?it/s]\n",
      "100%|████████████████████████████████████████████████████████████████████████████████| 121/121 [00:00<00:00, 209.47it/s]\n",
      "0it [00:00, ?it/s]\n"
     ]
    },
    {
     "name": "stdout",
     "output_type": "stream",
     "text": [
      "theta = -110.26751470393569, x_initial = -119, y_initial = -83\n"
     ]
    },
    {
     "name": "stderr",
     "output_type": "stream",
     "text": [
      "100%|████████████████████████████████████████████████████████████████████████████████| 121/121 [00:00<00:00, 224.61it/s]\n",
      "0it [00:00, ?it/s]\n",
      "100%|████████████████████████████████████████████████████████████████████████████████| 121/121 [00:00<00:00, 223.40it/s]\n",
      "0it [00:00, ?it/s]\n",
      "100%|████████████████████████████████████████████████████████████████████████████████| 121/121 [00:00<00:00, 223.69it/s]\n",
      "0it [00:00, ?it/s]\n",
      "100%|████████████████████████████████████████████████████████████████████████████████| 121/121 [00:00<00:00, 222.98it/s]\n",
      "0it [00:00, ?it/s]\n",
      "100%|████████████████████████████████████████████████████████████████████████████████| 121/121 [00:00<00:00, 216.30it/s]\n",
      "0it [00:00, ?it/s]\n",
      "100%|████████████████████████████████████████████████████████████████████████████████| 121/121 [00:00<00:00, 222.24it/s]\n",
      "0it [00:00, ?it/s]\n",
      "100%|████████████████████████████████████████████████████████████████████████████████| 121/121 [00:00<00:00, 227.23it/s]\n",
      "0it [00:00, ?it/s]\n"
     ]
    },
    {
     "name": "stdout",
     "output_type": "stream",
     "text": [
      "Too far translations filtered out: 565\n",
      "Alignment time: 44.54160475730896\n",
      "Length: 1\n",
      "Aligning 10 and 15\n",
      "new diag score is estimated\n"
     ]
    },
    {
     "name": "stderr",
     "output_type": "stream",
     "text": [
      "100%|██████████████████████████████████████████████████████████████████████████████| 1249/1249 [00:05<00:00, 241.02it/s]\n"
     ]
    },
    {
     "name": "stdout",
     "output_type": "stream",
     "text": [
      "10\n",
      "4\n",
      "theta = -132.4175308431562, x_initial = 174, y_initial = 42\n"
     ]
    },
    {
     "name": "stderr",
     "output_type": "stream",
     "text": [
      "100%|████████████████████████████████████████████████████████████████████████████████| 121/121 [00:00<00:00, 257.93it/s]\n",
      "0it [00:00, ?it/s]\n",
      "100%|████████████████████████████████████████████████████████████████████████████████| 121/121 [00:00<00:00, 260.74it/s]\n",
      "0it [00:00, ?it/s]\n",
      "100%|████████████████████████████████████████████████████████████████████████████████| 121/121 [00:00<00:00, 250.60it/s]\n",
      "0it [00:00, ?it/s]\n",
      "100%|████████████████████████████████████████████████████████████████████████████████| 121/121 [00:00<00:00, 264.06it/s]\n",
      "0it [00:00, ?it/s]\n",
      "100%|████████████████████████████████████████████████████████████████████████████████| 121/121 [00:00<00:00, 261.63it/s]\n",
      "0it [00:00, ?it/s]\n",
      "100%|████████████████████████████████████████████████████████████████████████████████| 121/121 [00:00<00:00, 259.99it/s]\n",
      "0it [00:00, ?it/s]\n",
      "100%|████████████████████████████████████████████████████████████████████████████████| 121/121 [00:00<00:00, 260.96it/s]\n",
      "0it [00:00, ?it/s]\n"
     ]
    },
    {
     "name": "stdout",
     "output_type": "stream",
     "text": [
      "theta = -124.76843590946241, x_initial = -4, y_initial = 203\n"
     ]
    },
    {
     "name": "stderr",
     "output_type": "stream",
     "text": [
      "100%|████████████████████████████████████████████████████████████████████████████████| 121/121 [00:00<00:00, 262.21it/s]\n",
      "0it [00:00, ?it/s]\n",
      "100%|████████████████████████████████████████████████████████████████████████████████| 121/121 [00:00<00:00, 262.10it/s]\n",
      "0it [00:00, ?it/s]\n",
      "100%|████████████████████████████████████████████████████████████████████████████████| 121/121 [00:00<00:00, 264.62it/s]\n",
      "0it [00:00, ?it/s]\n",
      "100%|████████████████████████████████████████████████████████████████████████████████| 121/121 [00:00<00:00, 269.93it/s]\n",
      "0it [00:00, ?it/s]\n",
      "100%|████████████████████████████████████████████████████████████████████████████████| 121/121 [00:00<00:00, 263.26it/s]\n",
      "0it [00:00, ?it/s]\n",
      "100%|████████████████████████████████████████████████████████████████████████████████| 121/121 [00:00<00:00, 263.72it/s]\n",
      "0it [00:00, ?it/s]\n",
      "100%|████████████████████████████████████████████████████████████████████████████████| 121/121 [00:00<00:00, 266.13it/s]\n",
      "0it [00:00, ?it/s]\n"
     ]
    },
    {
     "name": "stdout",
     "output_type": "stream",
     "text": [
      "theta = -98.62026553208283, x_initial = -139, y_initial = -176\n"
     ]
    },
    {
     "name": "stderr",
     "output_type": "stream",
     "text": [
      "100%|████████████████████████████████████████████████████████████████████████████████| 121/121 [00:00<00:00, 232.07it/s]\n",
      "0it [00:00, ?it/s]\n",
      "100%|████████████████████████████████████████████████████████████████████████████████| 121/121 [00:00<00:00, 247.08it/s]\n",
      "0it [00:00, ?it/s]\n",
      "100%|████████████████████████████████████████████████████████████████████████████████| 121/121 [00:00<00:00, 237.28it/s]\n",
      "0it [00:00, ?it/s]\n",
      "100%|████████████████████████████████████████████████████████████████████████████████| 121/121 [00:00<00:00, 237.43it/s]\n",
      "0it [00:00, ?it/s]\n",
      "100%|████████████████████████████████████████████████████████████████████████████████| 121/121 [00:00<00:00, 241.44it/s]\n",
      "0it [00:00, ?it/s]\n",
      "100%|████████████████████████████████████████████████████████████████████████████████| 121/121 [00:00<00:00, 239.54it/s]\n",
      "0it [00:00, ?it/s]\n",
      "100%|████████████████████████████████████████████████████████████████████████████████| 121/121 [00:00<00:00, 239.21it/s]\n",
      "0it [00:00, ?it/s]\n"
     ]
    },
    {
     "name": "stdout",
     "output_type": "stream",
     "text": [
      "theta = -37.50303055253188, x_initial = -105, y_initial = 93\n"
     ]
    },
    {
     "name": "stderr",
     "output_type": "stream",
     "text": [
      "100%|████████████████████████████████████████████████████████████████████████████████| 121/121 [00:00<00:00, 260.56it/s]\n",
      "0it [00:00, ?it/s]\n",
      "100%|████████████████████████████████████████████████████████████████████████████████| 121/121 [00:00<00:00, 255.01it/s]\n",
      "0it [00:00, ?it/s]\n",
      "100%|████████████████████████████████████████████████████████████████████████████████| 121/121 [00:00<00:00, 264.21it/s]\n",
      "0it [00:00, ?it/s]\n",
      "100%|████████████████████████████████████████████████████████████████████████████████| 121/121 [00:00<00:00, 262.96it/s]\n",
      "0it [00:00, ?it/s]\n",
      "100%|████████████████████████████████████████████████████████████████████████████████| 121/121 [00:00<00:00, 271.09it/s]\n",
      "0it [00:00, ?it/s]\n",
      "100%|████████████████████████████████████████████████████████████████████████████████| 121/121 [00:00<00:00, 272.20it/s]\n",
      "0it [00:00, ?it/s]\n",
      "100%|████████████████████████████████████████████████████████████████████████████████| 121/121 [00:00<00:00, 278.71it/s]\n",
      "0it [00:00, ?it/s]\n"
     ]
    },
    {
     "name": "stdout",
     "output_type": "stream",
     "text": [
      "Alignment time: 24.00263547897339\n",
      "Length: 0\n",
      "Aligning 11 and 12\n",
      "new diag score is estimated\n"
     ]
    },
    {
     "name": "stderr",
     "output_type": "stream",
     "text": [
      "100%|██████████████████████████████████████████████████████████████████████████████| 1938/1938 [00:02<00:00, 698.48it/s]\n"
     ]
    },
    {
     "name": "stdout",
     "output_type": "stream",
     "text": [
      "15\n",
      "7\n",
      "theta = -114.71490803355181, x_initial = 113, y_initial = 73\n"
     ]
    },
    {
     "name": "stderr",
     "output_type": "stream",
     "text": [
      "100%|████████████████████████████████████████████████████████████████████████████████| 121/121 [00:00<00:00, 196.24it/s]\n",
      "100%|███████████████████████████████████████████████████████████████████████████████████| 90/90 [00:02<00:00, 36.74it/s]\n",
      "100%|████████████████████████████████████████████████████████████████████████████████| 121/121 [00:00<00:00, 186.07it/s]\n",
      "100%|█████████████████████████████████████████████████████████████████████████████████| 144/144 [00:03<00:00, 36.63it/s]\n",
      "100%|████████████████████████████████████████████████████████████████████████████████| 121/121 [00:00<00:00, 192.61it/s]\n",
      "100%|█████████████████████████████████████████████████████████████████████████████████| 189/189 [00:05<00:00, 36.61it/s]\n",
      "100%|████████████████████████████████████████████████████████████████████████████████| 121/121 [00:00<00:00, 199.93it/s]\n",
      "100%|█████████████████████████████████████████████████████████████████████████████████| 189/189 [00:05<00:00, 34.88it/s]\n",
      "100%|████████████████████████████████████████████████████████████████████████████████| 121/121 [00:00<00:00, 171.92it/s]\n",
      "100%|█████████████████████████████████████████████████████████████████████████████████| 189/189 [00:05<00:00, 32.45it/s]\n",
      "100%|████████████████████████████████████████████████████████████████████████████████| 121/121 [00:00<00:00, 194.34it/s]\n",
      "100%|███████████████████████████████████████████████████████████████████████████████████| 81/81 [00:02<00:00, 32.91it/s]\n",
      "100%|████████████████████████████████████████████████████████████████████████████████| 121/121 [00:00<00:00, 202.20it/s]\n",
      "0it [00:00, ?it/s]\n"
     ]
    },
    {
     "name": "stdout",
     "output_type": "stream",
     "text": [
      "theta = -168.745287381771, x_initial = 23, y_initial = 144\n"
     ]
    },
    {
     "name": "stderr",
     "output_type": "stream",
     "text": [
      "100%|████████████████████████████████████████████████████████████████████████████████| 121/121 [00:00<00:00, 202.73it/s]\n",
      "100%|█████████████████████████████████████████████████████████████████████████████████| 126/126 [00:03<00:00, 34.62it/s]\n",
      "100%|████████████████████████████████████████████████████████████████████████████████| 121/121 [00:00<00:00, 201.66it/s]\n",
      "100%|███████████████████████████████████████████████████████████████████████████████████| 90/90 [00:02<00:00, 30.86it/s]\n",
      "100%|████████████████████████████████████████████████████████████████████████████████| 121/121 [00:00<00:00, 198.16it/s]\n",
      "100%|███████████████████████████████████████████████████████████████████████████████████| 54/54 [00:02<00:00, 24.67it/s]\n",
      "100%|████████████████████████████████████████████████████████████████████████████████| 121/121 [00:00<00:00, 210.77it/s]\n",
      "100%|███████████████████████████████████████████████████████████████████████████████████| 27/27 [00:00<00:00, 55.86it/s]\n",
      "100%|████████████████████████████████████████████████████████████████████████████████| 121/121 [00:00<00:00, 178.73it/s]\n",
      "0it [00:00, ?it/s]\n",
      "100%|████████████████████████████████████████████████████████████████████████████████| 121/121 [00:00<00:00, 203.53it/s]\n",
      "0it [00:00, ?it/s]\n",
      "100%|████████████████████████████████████████████████████████████████████████████████| 121/121 [00:00<00:00, 205.82it/s]\n",
      "0it [00:00, ?it/s]\n"
     ]
    },
    {
     "name": "stdout",
     "output_type": "stream",
     "text": [
      "theta = -101.53695903281547, x_initial = -38, y_initial = -151\n"
     ]
    },
    {
     "name": "stderr",
     "output_type": "stream",
     "text": [
      "100%|████████████████████████████████████████████████████████████████████████████████| 121/121 [00:00<00:00, 204.85it/s]\n",
      "100%|█████████████████████████████████████████████████████████████████████████████████| 117/117 [00:03<00:00, 34.04it/s]\n",
      "100%|████████████████████████████████████████████████████████████████████████████████| 121/121 [00:00<00:00, 185.43it/s]\n",
      "100%|█████████████████████████████████████████████████████████████████████████████████| 180/180 [00:05<00:00, 34.47it/s]\n",
      "100%|████████████████████████████████████████████████████████████████████████████████| 121/121 [00:00<00:00, 203.17it/s]\n",
      "100%|█████████████████████████████████████████████████████████████████████████████████| 225/225 [00:06<00:00, 34.63it/s]\n",
      "100%|████████████████████████████████████████████████████████████████████████████████| 121/121 [00:00<00:00, 204.54it/s]\n",
      "100%|█████████████████████████████████████████████████████████████████████████████████| 207/207 [00:06<00:00, 33.62it/s]\n",
      "100%|████████████████████████████████████████████████████████████████████████████████| 121/121 [00:00<00:00, 179.94it/s]\n",
      "100%|█████████████████████████████████████████████████████████████████████████████████| 189/189 [00:06<00:00, 31.03it/s]\n",
      "100%|████████████████████████████████████████████████████████████████████████████████| 121/121 [00:00<00:00, 194.79it/s]\n",
      "100%|█████████████████████████████████████████████████████████████████████████████████| 126/126 [00:03<00:00, 37.21it/s]\n",
      "100%|████████████████████████████████████████████████████████████████████████████████| 121/121 [00:00<00:00, 201.72it/s]\n",
      "100%|███████████████████████████████████████████████████████████████████████████████████| 36/36 [00:00<00:00, 36.09it/s]\n"
     ]
    },
    {
     "name": "stdout",
     "output_type": "stream",
     "text": [
      "theta = -35.72858765921774, x_initial = 180, y_initial = 24\n"
     ]
    },
    {
     "name": "stderr",
     "output_type": "stream",
     "text": [
      "100%|████████████████████████████████████████████████████████████████████████████████| 121/121 [00:00<00:00, 190.93it/s]\n",
      "0it [00:00, ?it/s]\n",
      "100%|████████████████████████████████████████████████████████████████████████████████| 121/121 [00:00<00:00, 193.36it/s]\n",
      "0it [00:00, ?it/s]\n",
      "100%|████████████████████████████████████████████████████████████████████████████████| 121/121 [00:00<00:00, 188.49it/s]\n",
      "0it [00:00, ?it/s]\n",
      "100%|████████████████████████████████████████████████████████████████████████████████| 121/121 [00:00<00:00, 170.89it/s]\n",
      "0it [00:00, ?it/s]\n",
      "100%|████████████████████████████████████████████████████████████████████████████████| 121/121 [00:00<00:00, 186.87it/s]\n",
      "0it [00:00, ?it/s]\n",
      "100%|████████████████████████████████████████████████████████████████████████████████| 121/121 [00:00<00:00, 185.61it/s]\n",
      "0it [00:00, ?it/s]\n",
      "100%|████████████████████████████████████████████████████████████████████████████████| 121/121 [00:00<00:00, 190.27it/s]\n",
      "0it [00:00, ?it/s]\n"
     ]
    },
    {
     "name": "stdout",
     "output_type": "stream",
     "text": [
      "Too far translations filtered out: 1488\n",
      "Alignment time: 91.45593571662903\n",
      "Length: 7\n",
      "Aligning 11 and 14\n",
      "new diag score is estimated\n"
     ]
    },
    {
     "name": "stderr",
     "output_type": "stream",
     "text": [
      "100%|██████████████████████████████████████████████████████████████████████████████| 1938/1938 [00:07<00:00, 244.07it/s]\n"
     ]
    },
    {
     "name": "stdout",
     "output_type": "stream",
     "text": [
      "22\n",
      "8\n",
      "theta = -24.0820036036945, x_initial = 261, y_initial = 63\n"
     ]
    },
    {
     "name": "stderr",
     "output_type": "stream",
     "text": [
      "100%|████████████████████████████████████████████████████████████████████████████████| 121/121 [00:00<00:00, 167.46it/s]\n",
      "0it [00:00, ?it/s]\n",
      "100%|████████████████████████████████████████████████████████████████████████████████| 121/121 [00:00<00:00, 168.40it/s]\n",
      "0it [00:00, ?it/s]\n",
      "100%|████████████████████████████████████████████████████████████████████████████████| 121/121 [00:00<00:00, 172.59it/s]\n",
      "0it [00:00, ?it/s]\n",
      "100%|████████████████████████████████████████████████████████████████████████████████| 121/121 [00:00<00:00, 180.90it/s]\n",
      "0it [00:00, ?it/s]\n",
      "100%|████████████████████████████████████████████████████████████████████████████████| 121/121 [00:00<00:00, 182.59it/s]\n",
      "0it [00:00, ?it/s]\n",
      "100%|████████████████████████████████████████████████████████████████████████████████| 121/121 [00:00<00:00, 182.45it/s]\n",
      "0it [00:00, ?it/s]\n",
      "100%|████████████████████████████████████████████████████████████████████████████████| 121/121 [00:00<00:00, 185.90it/s]\n",
      "100%|█████████████████████████████████████████████████████████████████████████████████████| 9/9 [00:00<00:00, 51.21it/s]\n"
     ]
    },
    {
     "name": "stdout",
     "output_type": "stream",
     "text": [
      "theta = -139.42753377291217, x_initial = 239, y_initial = 10\n"
     ]
    },
    {
     "name": "stderr",
     "output_type": "stream",
     "text": [
      "100%|████████████████████████████████████████████████████████████████████████████████| 121/121 [00:00<00:00, 188.88it/s]\n",
      "0it [00:00, ?it/s]\n",
      "100%|████████████████████████████████████████████████████████████████████████████████| 121/121 [00:00<00:00, 167.31it/s]\n",
      "100%|███████████████████████████████████████████████████████████████████████████████████| 72/72 [00:01<00:00, 39.69it/s]\n",
      "100%|████████████████████████████████████████████████████████████████████████████████| 121/121 [00:00<00:00, 177.16it/s]\n",
      "100%|█████████████████████████████████████████████████████████████████████████████████| 117/117 [00:03<00:00, 31.64it/s]\n",
      "100%|████████████████████████████████████████████████████████████████████████████████| 121/121 [00:00<00:00, 163.77it/s]\n",
      "100%|█████████████████████████████████████████████████████████████████████████████████| 117/117 [00:03<00:00, 32.65it/s]\n",
      "100%|████████████████████████████████████████████████████████████████████████████████| 121/121 [00:00<00:00, 145.85it/s]\n",
      "100%|███████████████████████████████████████████████████████████████████████████████████| 27/27 [00:00<00:00, 32.59it/s]\n",
      "100%|████████████████████████████████████████████████████████████████████████████████| 121/121 [00:00<00:00, 164.64it/s]\n",
      "100%|███████████████████████████████████████████████████████████████████████████████████| 18/18 [00:00<00:00, 63.22it/s]\n",
      "100%|████████████████████████████████████████████████████████████████████████████████| 121/121 [00:00<00:00, 168.76it/s]\n",
      "0it [00:00, ?it/s]\n"
     ]
    },
    {
     "name": "stdout",
     "output_type": "stream",
     "text": [
      "theta = -41.7188660630701, x_initial = -251, y_initial = -8\n"
     ]
    },
    {
     "name": "stderr",
     "output_type": "stream",
     "text": [
      "100%|████████████████████████████████████████████████████████████████████████████████| 121/121 [00:00<00:00, 169.42it/s]\n",
      "0it [00:00, ?it/s]\n",
      "100%|████████████████████████████████████████████████████████████████████████████████| 121/121 [00:00<00:00, 168.24it/s]\n",
      "0it [00:00, ?it/s]\n",
      "100%|████████████████████████████████████████████████████████████████████████████████| 121/121 [00:00<00:00, 171.19it/s]\n",
      "0it [00:00, ?it/s]\n",
      "100%|████████████████████████████████████████████████████████████████████████████████| 121/121 [00:00<00:00, 174.46it/s]\n",
      "0it [00:00, ?it/s]\n",
      "100%|████████████████████████████████████████████████████████████████████████████████| 121/121 [00:00<00:00, 176.16it/s]\n",
      "0it [00:00, ?it/s]\n",
      "100%|████████████████████████████████████████████████████████████████████████████████| 121/121 [00:00<00:00, 159.01it/s]\n",
      "0it [00:00, ?it/s]\n",
      "100%|████████████████████████████████████████████████████████████████████████████████| 121/121 [00:00<00:00, 158.15it/s]\n",
      "0it [00:00, ?it/s]\n"
     ]
    },
    {
     "name": "stdout",
     "output_type": "stream",
     "text": [
      "theta = -147.50059925432103, x_initial = -86, y_initial = -157\n"
     ]
    },
    {
     "name": "stderr",
     "output_type": "stream",
     "text": [
      "100%|████████████████████████████████████████████████████████████████████████████████| 121/121 [00:00<00:00, 162.99it/s]\n",
      "0it [00:00, ?it/s]\n",
      "100%|████████████████████████████████████████████████████████████████████████████████| 121/121 [00:00<00:00, 162.59it/s]\n",
      "0it [00:00, ?it/s]\n",
      "100%|████████████████████████████████████████████████████████████████████████████████| 121/121 [00:00<00:00, 169.92it/s]\n",
      "100%|███████████████████████████████████████████████████████████████████████████████████| 36/36 [00:00<00:00, 46.70it/s]\n",
      "100%|████████████████████████████████████████████████████████████████████████████████| 121/121 [00:00<00:00, 160.54it/s]\n",
      "100%|███████████████████████████████████████████████████████████████████████████████████| 27/27 [00:00<00:00, 44.87it/s]\n",
      "100%|████████████████████████████████████████████████████████████████████████████████| 121/121 [00:00<00:00, 175.68it/s]\n",
      "100%|███████████████████████████████████████████████████████████████████████████████████| 27/27 [00:00<00:00, 38.15it/s]\n",
      "100%|████████████████████████████████████████████████████████████████████████████████| 121/121 [00:00<00:00, 158.54it/s]\n",
      "0it [00:00, ?it/s]\n",
      "100%|████████████████████████████████████████████████████████████████████████████████| 121/121 [00:00<00:00, 161.20it/s]\n",
      "0it [00:00, ?it/s]\n"
     ]
    },
    {
     "name": "stdout",
     "output_type": "stream",
     "text": [
      "Too far translations filtered out: 101\n",
      "Alignment time: 49.117631912231445\n",
      "Length: 4\n",
      "Aligning 11 and 15\n",
      "new diag score is estimated\n"
     ]
    },
    {
     "name": "stderr",
     "output_type": "stream",
     "text": [
      "100%|██████████████████████████████████████████████████████████████████████████████| 1938/1938 [00:08<00:00, 240.50it/s]\n"
     ]
    },
    {
     "name": "stdout",
     "output_type": "stream",
     "text": [
      "19\n",
      "7\n",
      "theta = -39.94450518981488, x_initial = -154, y_initial = 201\n"
     ]
    },
    {
     "name": "stderr",
     "output_type": "stream",
     "text": [
      "100%|████████████████████████████████████████████████████████████████████████████████| 121/121 [00:00<00:00, 171.67it/s]\n",
      "0it [00:00, ?it/s]\n",
      "100%|████████████████████████████████████████████████████████████████████████████████| 121/121 [00:00<00:00, 176.66it/s]\n",
      "100%|█████████████████████████████████████████████████████████████████████████████████████| 9/9 [00:00<00:00, 30.99it/s]\n",
      "100%|████████████████████████████████████████████████████████████████████████████████| 121/121 [00:00<00:00, 178.85it/s]\n",
      "100%|███████████████████████████████████████████████████████████████████████████████████| 27/27 [00:00<00:00, 38.76it/s]\n",
      "100%|████████████████████████████████████████████████████████████████████████████████| 121/121 [00:00<00:00, 178.91it/s]\n",
      "100%|███████████████████████████████████████████████████████████████████████████████████| 36/36 [00:00<00:00, 39.97it/s]\n",
      "100%|████████████████████████████████████████████████████████████████████████████████| 121/121 [00:00<00:00, 178.47it/s]\n",
      "100%|███████████████████████████████████████████████████████████████████████████████████| 36/36 [00:00<00:00, 38.81it/s]\n",
      "100%|████████████████████████████████████████████████████████████████████████████████| 121/121 [00:00<00:00, 174.62it/s]\n",
      "100%|███████████████████████████████████████████████████████████████████████████████████| 63/63 [00:01<00:00, 34.27it/s]\n",
      "100%|████████████████████████████████████████████████████████████████████████████████| 121/121 [00:00<00:00, 159.40it/s]\n",
      "100%|█████████████████████████████████████████████████████████████████████████████████████| 9/9 [00:00<00:00, 29.14it/s]\n"
     ]
    },
    {
     "name": "stdout",
     "output_type": "stream",
     "text": [
      "theta = -103.74770937037361, x_initial = 172, y_initial = 129\n"
     ]
    },
    {
     "name": "stderr",
     "output_type": "stream",
     "text": [
      "100%|████████████████████████████████████████████████████████████████████████████████| 121/121 [00:00<00:00, 183.04it/s]\n",
      "100%|█████████████████████████████████████████████████████████████████████████████████████| 9/9 [00:00<00:00, 58.79it/s]\n",
      "100%|████████████████████████████████████████████████████████████████████████████████| 121/121 [00:00<00:00, 185.80it/s]\n",
      "100%|███████████████████████████████████████████████████████████████████████████████████| 45/45 [00:00<00:00, 48.19it/s]\n",
      "100%|████████████████████████████████████████████████████████████████████████████████| 121/121 [00:00<00:00, 184.34it/s]\n",
      "100%|███████████████████████████████████████████████████████████████████████████████████| 63/63 [00:01<00:00, 43.05it/s]\n",
      "100%|████████████████████████████████████████████████████████████████████████████████| 121/121 [00:00<00:00, 184.31it/s]\n",
      "100%|███████████████████████████████████████████████████████████████████████████████████| 27/27 [00:00<00:00, 36.81it/s]\n",
      "100%|████████████████████████████████████████████████████████████████████████████████| 121/121 [00:00<00:00, 165.51it/s]\n",
      "100%|███████████████████████████████████████████████████████████████████████████████████| 18/18 [00:00<00:00, 68.83it/s]\n",
      "100%|████████████████████████████████████████████████████████████████████████████████| 121/121 [00:00<00:00, 173.03it/s]\n",
      "100%|███████████████████████████████████████████████████████████████████████████████████| 18/18 [00:00<00:00, 39.71it/s]\n",
      "100%|████████████████████████████████████████████████████████████████████████████████| 121/121 [00:00<00:00, 175.17it/s]\n",
      "0it [00:00, ?it/s]\n"
     ]
    },
    {
     "name": "stdout",
     "output_type": "stream",
     "text": [
      "theta = -163.96872821518826, x_initial = 121, y_initial = 200\n"
     ]
    },
    {
     "name": "stderr",
     "output_type": "stream",
     "text": [
      "100%|████████████████████████████████████████████████████████████████████████████████| 121/121 [00:00<00:00, 162.92it/s]\n",
      "100%|███████████████████████████████████████████████████████████████████████████████████| 18/18 [00:00<00:00, 47.93it/s]\n",
      "100%|████████████████████████████████████████████████████████████████████████████████| 121/121 [00:00<00:00, 148.37it/s]\n",
      "0it [00:00, ?it/s]\n",
      "100%|████████████████████████████████████████████████████████████████████████████████| 121/121 [00:00<00:00, 177.15it/s]\n",
      "0it [00:00, ?it/s]\n",
      "100%|████████████████████████████████████████████████████████████████████████████████| 121/121 [00:00<00:00, 177.09it/s]\n",
      "0it [00:00, ?it/s]\n",
      "100%|████████████████████████████████████████████████████████████████████████████████| 121/121 [00:00<00:00, 162.49it/s]\n",
      "0it [00:00, ?it/s]\n",
      "100%|████████████████████████████████████████████████████████████████████████████████| 121/121 [00:00<00:00, 175.42it/s]\n",
      "0it [00:00, ?it/s]\n",
      "100%|████████████████████████████████████████████████████████████████████████████████| 121/121 [00:00<00:00, 178.78it/s]\n",
      "0it [00:00, ?it/s]\n"
     ]
    },
    {
     "name": "stdout",
     "output_type": "stream",
     "text": [
      "theta = -122.72712215647705, x_initial = -160, y_initial = -266\n"
     ]
    },
    {
     "name": "stderr",
     "output_type": "stream",
     "text": [
      "100%|████████████████████████████████████████████████████████████████████████████████| 121/121 [00:00<00:00, 165.82it/s]\n",
      "0it [00:00, ?it/s]\n",
      "100%|████████████████████████████████████████████████████████████████████████████████| 121/121 [00:00<00:00, 164.72it/s]\n",
      "0it [00:00, ?it/s]\n",
      "100%|████████████████████████████████████████████████████████████████████████████████| 121/121 [00:00<00:00, 167.23it/s]\n",
      "0it [00:00, ?it/s]\n",
      "100%|████████████████████████████████████████████████████████████████████████████████| 121/121 [00:00<00:00, 152.46it/s]\n",
      "0it [00:00, ?it/s]\n",
      "100%|████████████████████████████████████████████████████████████████████████████████| 121/121 [00:00<00:00, 159.73it/s]\n",
      "0it [00:00, ?it/s]\n",
      "100%|████████████████████████████████████████████████████████████████████████████████| 121/121 [00:00<00:00, 147.11it/s]\n",
      "0it [00:00, ?it/s]\n",
      "100%|████████████████████████████████████████████████████████████████████████████████| 121/121 [00:00<00:00, 153.26it/s]\n",
      "0it [00:00, ?it/s]\n"
     ]
    },
    {
     "name": "stdout",
     "output_type": "stream",
     "text": [
      "Too far translations filtered out: 156\n",
      "Alignment time: 45.0970995426178\n",
      "Length: 4\n",
      "Aligning 12 and 14\n",
      "new diag score is estimated\n"
     ]
    },
    {
     "name": "stderr",
     "output_type": "stream",
     "text": [
      "100%|████████████████████████████████████████████████████████████████████████████████| 640/640 [00:02<00:00, 235.56it/s]\n"
     ]
    },
    {
     "name": "stdout",
     "output_type": "stream",
     "text": [
      "10\n",
      "6\n",
      "theta = -19.49422025859519, x_initial = -173, y_initial = -33\n"
     ]
    },
    {
     "name": "stderr",
     "output_type": "stream",
     "text": [
      "100%|████████████████████████████████████████████████████████████████████████████████| 121/121 [00:00<00:00, 211.45it/s]\n",
      "100%|█████████████████████████████████████████████████████████████████████████████████| 216/216 [00:05<00:00, 41.03it/s]\n",
      "100%|████████████████████████████████████████████████████████████████████████████████| 121/121 [00:00<00:00, 203.13it/s]\n",
      "100%|█████████████████████████████████████████████████████████████████████████████████| 216/216 [00:05<00:00, 42.04it/s]\n",
      "100%|████████████████████████████████████████████████████████████████████████████████| 121/121 [00:00<00:00, 212.77it/s]\n",
      "100%|█████████████████████████████████████████████████████████████████████████████████| 234/234 [00:05<00:00, 41.85it/s]\n",
      "100%|████████████████████████████████████████████████████████████████████████████████| 121/121 [00:00<00:00, 215.51it/s]\n",
      "100%|█████████████████████████████████████████████████████████████████████████████████| 225/225 [00:05<00:00, 41.62it/s]\n",
      "100%|████████████████████████████████████████████████████████████████████████████████| 121/121 [00:00<00:00, 218.25it/s]\n",
      "100%|█████████████████████████████████████████████████████████████████████████████████| 180/180 [00:04<00:00, 42.43it/s]\n",
      "100%|████████████████████████████████████████████████████████████████████████████████| 121/121 [00:00<00:00, 226.37it/s]\n",
      "100%|█████████████████████████████████████████████████████████████████████████████████| 153/153 [00:03<00:00, 43.05it/s]\n",
      "100%|████████████████████████████████████████████████████████████████████████████████| 121/121 [00:00<00:00, 218.30it/s]\n",
      "100%|█████████████████████████████████████████████████████████████████████████████████| 126/126 [00:02<00:00, 43.03it/s]\n"
     ]
    },
    {
     "name": "stdout",
     "output_type": "stream",
     "text": [
      "theta = -138.2794896625798, x_initial = -102, y_initial = 133\n"
     ]
    },
    {
     "name": "stderr",
     "output_type": "stream",
     "text": [
      "100%|████████████████████████████████████████████████████████████████████████████████| 121/121 [00:00<00:00, 212.28it/s]\n",
      "100%|█████████████████████████████████████████████████████████████████████████████████| 180/180 [00:04<00:00, 41.93it/s]\n",
      "100%|████████████████████████████████████████████████████████████████████████████████| 121/121 [00:00<00:00, 164.01it/s]\n",
      "100%|█████████████████████████████████████████████████████████████████████████████████| 153/153 [00:04<00:00, 34.55it/s]\n",
      "100%|████████████████████████████████████████████████████████████████████████████████| 121/121 [00:00<00:00, 204.70it/s]\n",
      "100%|█████████████████████████████████████████████████████████████████████████████████| 135/135 [00:03<00:00, 39.36it/s]\n",
      "100%|████████████████████████████████████████████████████████████████████████████████| 121/121 [00:00<00:00, 223.02it/s]\n",
      "100%|█████████████████████████████████████████████████████████████████████████████████| 135/135 [00:03<00:00, 40.84it/s]\n",
      "100%|████████████████████████████████████████████████████████████████████████████████| 121/121 [00:00<00:00, 220.72it/s]\n",
      "100%|█████████████████████████████████████████████████████████████████████████████████| 117/117 [00:02<00:00, 43.91it/s]\n",
      "100%|████████████████████████████████████████████████████████████████████████████████| 121/121 [00:00<00:00, 196.48it/s]\n",
      "100%|█████████████████████████████████████████████████████████████████████████████████| 108/108 [00:02<00:00, 47.57it/s]\n",
      "100%|████████████████████████████████████████████████████████████████████████████████| 121/121 [00:00<00:00, 224.56it/s]\n",
      "100%|███████████████████████████████████████████████████████████████████████████████████| 54/54 [00:01<00:00, 45.15it/s]\n"
     ]
    },
    {
     "name": "stdout",
     "output_type": "stream",
     "text": [
      "theta = -96.98801493417771, x_initial = -65, y_initial = 138\n"
     ]
    },
    {
     "name": "stderr",
     "output_type": "stream",
     "text": [
      "100%|████████████████████████████████████████████████████████████████████████████████| 121/121 [00:00<00:00, 231.09it/s]\n",
      "0it [00:00, ?it/s]\n",
      "100%|████████████████████████████████████████████████████████████████████████████████| 121/121 [00:00<00:00, 228.39it/s]\n",
      "0it [00:00, ?it/s]\n",
      "100%|████████████████████████████████████████████████████████████████████████████████| 121/121 [00:00<00:00, 227.08it/s]\n",
      "0it [00:00, ?it/s]\n",
      "100%|████████████████████████████████████████████████████████████████████████████████| 121/121 [00:00<00:00, 232.04it/s]\n",
      "0it [00:00, ?it/s]\n",
      "100%|████████████████████████████████████████████████████████████████████████████████| 121/121 [00:00<00:00, 232.66it/s]\n",
      "0it [00:00, ?it/s]\n",
      "100%|████████████████████████████████████████████████████████████████████████████████| 121/121 [00:00<00:00, 233.59it/s]\n",
      "0it [00:00, ?it/s]\n",
      "100%|████████████████████████████████████████████████████████████████████████████████| 121/121 [00:00<00:00, 228.99it/s]\n",
      "0it [00:00, ?it/s]\n"
     ]
    },
    {
     "name": "stdout",
     "output_type": "stream",
     "text": [
      "theta = -78.80430857846206, x_initial = 40, y_initial = -135\n"
     ]
    },
    {
     "name": "stderr",
     "output_type": "stream",
     "text": [
      "100%|████████████████████████████████████████████████████████████████████████████████| 121/121 [00:00<00:00, 235.53it/s]\n",
      "100%|█████████████████████████████████████████████████████████████████████████████████| 162/162 [00:03<00:00, 43.12it/s]\n",
      "100%|████████████████████████████████████████████████████████████████████████████████| 121/121 [00:00<00:00, 231.04it/s]\n",
      "100%|█████████████████████████████████████████████████████████████████████████████████| 198/198 [00:04<00:00, 45.74it/s]\n",
      "100%|████████████████████████████████████████████████████████████████████████████████| 121/121 [00:00<00:00, 236.41it/s]\n",
      "100%|█████████████████████████████████████████████████████████████████████████████████| 198/198 [00:04<00:00, 42.03it/s]\n",
      "100%|████████████████████████████████████████████████████████████████████████████████| 121/121 [00:00<00:00, 210.71it/s]\n",
      "100%|█████████████████████████████████████████████████████████████████████████████████| 162/162 [00:04<00:00, 37.82it/s]\n",
      "100%|████████████████████████████████████████████████████████████████████████████████| 121/121 [00:00<00:00, 209.39it/s]\n",
      "100%|█████████████████████████████████████████████████████████████████████████████████| 153/153 [00:03<00:00, 40.76it/s]\n",
      "100%|████████████████████████████████████████████████████████████████████████████████| 121/121 [00:00<00:00, 226.15it/s]\n",
      "100%|█████████████████████████████████████████████████████████████████████████████████| 135/135 [00:03<00:00, 40.72it/s]\n",
      "100%|████████████████████████████████████████████████████████████████████████████████| 121/121 [00:00<00:00, 221.66it/s]\n",
      "100%|███████████████████████████████████████████████████████████████████████████████████| 90/90 [00:02<00:00, 42.49it/s]\n"
     ]
    },
    {
     "name": "stdout",
     "output_type": "stream",
     "text": [
      "Too far translations filtered out: 1325\n",
      "Alignment time: 102.58510661125183\n",
      "Length: 2\n",
      "Aligning 12 and 15\n",
      "new diag score is estimated\n"
     ]
    },
    {
     "name": "stderr",
     "output_type": "stream",
     "text": [
      "100%|████████████████████████████████████████████████████████████████████████████████| 640/640 [00:02<00:00, 233.24it/s]\n"
     ]
    },
    {
     "name": "stdout",
     "output_type": "stream",
     "text": [
      "8\n",
      "3\n",
      "theta = -97.32868237102834, x_initial = 155, y_initial = -110\n"
     ]
    },
    {
     "name": "stderr",
     "output_type": "stream",
     "text": [
      "100%|████████████████████████████████████████████████████████████████████████████████| 121/121 [00:00<00:00, 203.80it/s]\n",
      "100%|█████████████████████████████████████████████████████████████████████████████████| 153/153 [00:03<00:00, 47.97it/s]\n",
      "100%|████████████████████████████████████████████████████████████████████████████████| 121/121 [00:00<00:00, 243.89it/s]\n",
      "100%|█████████████████████████████████████████████████████████████████████████████████| 189/189 [00:03<00:00, 48.55it/s]\n",
      "100%|████████████████████████████████████████████████████████████████████████████████| 121/121 [00:00<00:00, 225.48it/s]\n",
      "100%|█████████████████████████████████████████████████████████████████████████████████| 216/216 [00:04<00:00, 49.64it/s]\n",
      "100%|████████████████████████████████████████████████████████████████████████████████| 121/121 [00:00<00:00, 251.34it/s]\n",
      "100%|█████████████████████████████████████████████████████████████████████████████████| 216/216 [00:04<00:00, 49.30it/s]\n",
      "100%|████████████████████████████████████████████████████████████████████████████████| 121/121 [00:00<00:00, 247.30it/s]\n",
      "100%|█████████████████████████████████████████████████████████████████████████████████| 198/198 [00:04<00:00, 47.99it/s]\n",
      "100%|████████████████████████████████████████████████████████████████████████████████| 121/121 [00:00<00:00, 230.30it/s]\n",
      "100%|█████████████████████████████████████████████████████████████████████████████████| 207/207 [00:04<00:00, 48.83it/s]\n",
      "100%|████████████████████████████████████████████████████████████████████████████████| 121/121 [00:00<00:00, 242.60it/s]\n",
      "100%|█████████████████████████████████████████████████████████████████████████████████| 180/180 [00:03<00:00, 49.22it/s]\n"
     ]
    },
    {
     "name": "stdout",
     "output_type": "stream",
     "text": [
      "theta = -169.31425505184995, x_initial = -119, y_initial = 154\n"
     ]
    },
    {
     "name": "stderr",
     "output_type": "stream",
     "text": [
      "100%|████████████████████████████████████████████████████████████████████████████████| 121/121 [00:00<00:00, 243.46it/s]\n",
      "100%|█████████████████████████████████████████████████████████████████████████████████| 189/189 [00:03<00:00, 51.60it/s]\n",
      "100%|████████████████████████████████████████████████████████████████████████████████| 121/121 [00:00<00:00, 264.84it/s]\n",
      "100%|█████████████████████████████████████████████████████████████████████████████████| 207/207 [00:03<00:00, 53.35it/s]\n",
      "100%|████████████████████████████████████████████████████████████████████████████████| 121/121 [00:00<00:00, 262.94it/s]\n",
      "100%|█████████████████████████████████████████████████████████████████████████████████| 225/225 [00:04<00:00, 53.12it/s]\n",
      "100%|████████████████████████████████████████████████████████████████████████████████| 121/121 [00:00<00:00, 260.74it/s]\n",
      "100%|█████████████████████████████████████████████████████████████████████████████████| 216/216 [00:04<00:00, 50.75it/s]\n",
      "100%|████████████████████████████████████████████████████████████████████████████████| 121/121 [00:00<00:00, 261.81it/s]\n",
      "100%|█████████████████████████████████████████████████████████████████████████████████| 216/216 [00:04<00:00, 50.54it/s]\n",
      "100%|████████████████████████████████████████████████████████████████████████████████| 121/121 [00:00<00:00, 263.54it/s]\n",
      "100%|█████████████████████████████████████████████████████████████████████████████████| 207/207 [00:03<00:00, 53.92it/s]\n",
      "100%|████████████████████████████████████████████████████████████████████████████████| 121/121 [00:00<00:00, 262.67it/s]\n",
      "100%|█████████████████████████████████████████████████████████████████████████████████| 171/171 [00:03<00:00, 52.66it/s]\n"
     ]
    },
    {
     "name": "stdout",
     "output_type": "stream",
     "text": [
      "theta = -112.6198649480404, x_initial = 10, y_initial = 144\n"
     ]
    },
    {
     "name": "stderr",
     "output_type": "stream",
     "text": [
      "100%|████████████████████████████████████████████████████████████████████████████████| 121/121 [00:00<00:00, 284.78it/s]\n",
      "0it [00:00, ?it/s]\n",
      "100%|████████████████████████████████████████████████████████████████████████████████| 121/121 [00:00<00:00, 267.31it/s]\n",
      "0it [00:00, ?it/s]\n",
      "100%|████████████████████████████████████████████████████████████████████████████████| 121/121 [00:00<00:00, 292.11it/s]\n",
      "0it [00:00, ?it/s]\n",
      "100%|████████████████████████████████████████████████████████████████████████████████| 121/121 [00:00<00:00, 281.68it/s]\n",
      "0it [00:00, ?it/s]\n",
      "100%|████████████████████████████████████████████████████████████████████████████████| 121/121 [00:00<00:00, 290.02it/s]\n",
      "0it [00:00, ?it/s]\n",
      "100%|████████████████████████████████████████████████████████████████████████████████| 121/121 [00:00<00:00, 290.00it/s]\n",
      "0it [00:00, ?it/s]\n",
      "100%|████████████████████████████████████████████████████████████████████████████████| 121/121 [00:00<00:00, 292.35it/s]\n",
      "0it [00:00, ?it/s]\n"
     ]
    },
    {
     "name": "stdout",
     "output_type": "stream",
     "text": [
      "Too far translations filtered out: 1172\n",
      "Alignment time: 71.41491079330444\n",
      "Length: 2\n",
      "Aligning 14 and 15\n",
      "new diag score is estimated\n"
     ]
    },
    {
     "name": "stderr",
     "output_type": "stream",
     "text": [
      "100%|██████████████████████████████████████████████████████████████████████████████| 1790/1790 [00:07<00:00, 243.58it/s]\n"
     ]
    },
    {
     "name": "stdout",
     "output_type": "stream",
     "text": [
      "10\n",
      "5\n",
      "theta = -92.09313255817933, x_initial = -115, y_initial = 221\n"
     ]
    },
    {
     "name": "stderr",
     "output_type": "stream",
     "text": [
      "100%|████████████████████████████████████████████████████████████████████████████████| 121/121 [00:00<00:00, 206.45it/s]\n",
      "0it [00:00, ?it/s]\n",
      "100%|████████████████████████████████████████████████████████████████████████████████| 121/121 [00:00<00:00, 215.28it/s]\n",
      "0it [00:00, ?it/s]\n",
      "100%|████████████████████████████████████████████████████████████████████████████████| 121/121 [00:00<00:00, 206.21it/s]\n",
      "0it [00:00, ?it/s]\n",
      "100%|████████████████████████████████████████████████████████████████████████████████| 121/121 [00:00<00:00, 203.04it/s]\n",
      "0it [00:00, ?it/s]\n",
      "100%|████████████████████████████████████████████████████████████████████████████████| 121/121 [00:00<00:00, 185.46it/s]\n",
      "0it [00:00, ?it/s]\n",
      "100%|████████████████████████████████████████████████████████████████████████████████| 121/121 [00:00<00:00, 195.51it/s]\n",
      "0it [00:00, ?it/s]\n",
      "100%|████████████████████████████████████████████████████████████████████████████████| 121/121 [00:00<00:00, 167.36it/s]\n",
      "0it [00:00, ?it/s]\n"
     ]
    },
    {
     "name": "stdout",
     "output_type": "stream",
     "text": [
      "theta = -4.896598802100931, x_initial = 126, y_initial = -184\n"
     ]
    },
    {
     "name": "stderr",
     "output_type": "stream",
     "text": [
      "100%|████████████████████████████████████████████████████████████████████████████████| 121/121 [00:00<00:00, 182.71it/s]\n",
      "0it [00:00, ?it/s]\n",
      "100%|████████████████████████████████████████████████████████████████████████████████| 121/121 [00:00<00:00, 194.75it/s]\n",
      "100%|█████████████████████████████████████████████████████████████████████████████████████| 9/9 [00:00<00:00, 65.96it/s]\n",
      "100%|████████████████████████████████████████████████████████████████████████████████| 121/121 [00:00<00:00, 204.29it/s]\n",
      "100%|███████████████████████████████████████████████████████████████████████████████████| 90/90 [00:02<00:00, 44.25it/s]\n",
      "100%|████████████████████████████████████████████████████████████████████████████████| 121/121 [00:00<00:00, 192.03it/s]\n",
      "100%|█████████████████████████████████████████████████████████████████████████████████| 126/126 [00:03<00:00, 41.89it/s]\n",
      "100%|████████████████████████████████████████████████████████████████████████████████| 121/121 [00:00<00:00, 201.12it/s]\n",
      "100%|███████████████████████████████████████████████████████████████████████████████████| 81/81 [00:01<00:00, 54.29it/s]\n",
      "100%|████████████████████████████████████████████████████████████████████████████████| 121/121 [00:00<00:00, 204.38it/s]\n",
      "100%|███████████████████████████████████████████████████████████████████████████████████| 36/36 [00:00<00:00, 52.90it/s]\n",
      "100%|████████████████████████████████████████████████████████████████████████████████| 121/121 [00:00<00:00, 201.72it/s]\n",
      "100%|███████████████████████████████████████████████████████████████████████████████████| 18/18 [00:00<00:00, 44.95it/s]\n"
     ]
    },
    {
     "name": "stdout",
     "output_type": "stream",
     "text": [
      "theta = -29.11036717873187, x_initial = 197, y_initial = 6\n"
     ]
    },
    {
     "name": "stderr",
     "output_type": "stream",
     "text": [
      "100%|████████████████████████████████████████████████████████████████████████████████| 121/121 [00:00<00:00, 209.60it/s]\n",
      "0it [00:00, ?it/s]\n",
      "100%|████████████████████████████████████████████████████████████████████████████████| 121/121 [00:00<00:00, 201.01it/s]\n",
      "0it [00:00, ?it/s]\n",
      "100%|████████████████████████████████████████████████████████████████████████████████| 121/121 [00:00<00:00, 188.13it/s]\n",
      "0it [00:00, ?it/s]\n",
      "100%|████████████████████████████████████████████████████████████████████████████████| 121/121 [00:00<00:00, 206.47it/s]\n",
      "0it [00:00, ?it/s]\n",
      "100%|████████████████████████████████████████████████████████████████████████████████| 121/121 [00:00<00:00, 194.80it/s]\n",
      "0it [00:00, ?it/s]\n",
      "100%|████████████████████████████████████████████████████████████████████████████████| 121/121 [00:00<00:00, 195.85it/s]\n",
      "0it [00:00, ?it/s]\n",
      "100%|████████████████████████████████████████████████████████████████████████████████| 121/121 [00:00<00:00, 203.59it/s]\n",
      "0it [00:00, ?it/s]\n"
     ]
    },
    {
     "name": "stdout",
     "output_type": "stream",
     "text": [
      "theta = -136.46936980577556, x_initial = -235, y_initial = 21\n"
     ]
    },
    {
     "name": "stderr",
     "output_type": "stream",
     "text": [
      "100%|████████████████████████████████████████████████████████████████████████████████| 121/121 [00:00<00:00, 209.76it/s]\n",
      "0it [00:00, ?it/s]\n",
      "100%|████████████████████████████████████████████████████████████████████████████████| 121/121 [00:00<00:00, 211.10it/s]\n",
      "0it [00:00, ?it/s]\n",
      "100%|████████████████████████████████████████████████████████████████████████████████| 121/121 [00:00<00:00, 209.61it/s]\n",
      "0it [00:00, ?it/s]\n",
      "100%|████████████████████████████████████████████████████████████████████████████████| 121/121 [00:00<00:00, 206.31it/s]\n",
      "0it [00:00, ?it/s]\n",
      "100%|████████████████████████████████████████████████████████████████████████████████| 121/121 [00:00<00:00, 209.61it/s]\n",
      "0it [00:00, ?it/s]\n",
      "100%|████████████████████████████████████████████████████████████████████████████████| 121/121 [00:00<00:00, 209.92it/s]\n",
      "0it [00:00, ?it/s]\n",
      "100%|████████████████████████████████████████████████████████████████████████████████| 121/121 [00:00<00:00, 207.57it/s]\n",
      "0it [00:00, ?it/s]"
     ]
    },
    {
     "name": "stdout",
     "output_type": "stream",
     "text": [
      "Too far translations filtered out: 118\n",
      "Alignment time: 38.15942883491516\n",
      "Length: 3\n"
     ]
    },
    {
     "name": "stderr",
     "output_type": "stream",
     "text": [
      "\n"
     ]
    }
   ],
   "source": [
    "comparator = FragmentComparator(blocks_num=5)\n",
    "# comparator.align_frags_and_save([20, 21, 22, 23, 24, 25, 26, 28, 29, 30, 31, 32, 33, 34, 37])\n",
    "# comparator.align_frags_and_save([3, 5, 6, 7, 8, 9, 10, 11, 12, 14, 15, 20, 21, 22, 23, 24, 25, 26, 28,  29, 30, 31, 32, 33, 34, 37])\n",
    "comparator.align_frags_and_save(\n",
    "    [3, 5, 6, 7, 8, 9, 10, 11, 12, 14, 15],\n",
    "    existing_json=None\n",
    ")\n"
   ]
  },
  {
   "cell_type": "markdown",
   "id": "32649786",
   "metadata": {},
   "source": [
    "# Saving probabilities"
   ]
  },
  {
   "cell_type": "code",
   "execution_count": 34,
   "id": "f7a9e143",
   "metadata": {},
   "outputs": [],
   "source": [
    "import os\n",
    "import json"
   ]
  },
  {
   "cell_type": "code",
   "execution_count": 35,
   "id": "a1cd3d30",
   "metadata": {},
   "outputs": [],
   "source": [
    "def save_probs(refined_alignment, frag_numbers, output_dir: str = '.') -> None:\n",
    "    \"\"\"\n",
    "    Saves probs into json file in output_dir\n",
    "    \n",
    "    refined_alignment: dict (l, r) -> list of Translations, where l and r are fragment indices from frag_numbers\n",
    "    frag_numbers: list of fragment ids\n",
    "    output_dir: str\n",
    "    \"\"\"\n",
    "    dict_for_json = {}\n",
    "    for l, r in refined_alignment:\n",
    "        dict_for_json[f\"{frag_numbers[l]}_{frag_numbers[r]}\"] = []\n",
    "        for tr in refined_alignment[(l, r)]:\n",
    "            dict_for_json[f\"{frag_numbers[l]}_{frag_numbers[r]}\"].append({\n",
    "                'x': tr.x,\n",
    "                'y': tr.y,\n",
    "                'angle': tr.angle,\n",
    "                'confidence': tr.confidence,\n",
    "                'geom_score': tr.geom_score\n",
    "            })\n",
    "    with open(os.path.join(output_dir, 'new_probs.json'), 'w') as f:\n",
    "        json.dump(dict_for_json, f)\n",
    "    "
   ]
  },
  {
   "cell_type": "code",
   "execution_count": 36,
   "id": "6859f6ff",
   "metadata": {},
   "outputs": [],
   "source": [
    "save_probs(refined_alignment, frag_numbers, output_dir='.')"
   ]
  },
  {
   "cell_type": "markdown",
   "id": "71d1cc45",
   "metadata": {},
   "source": [
    "## Merging two fragments (optional, not completed)"
   ]
  },
  {
   "cell_type": "code",
   "execution_count": 38,
   "id": "ba0ce643",
   "metadata": {},
   "outputs": [
    {
     "name": "stdout",
     "output_type": "stream",
     "text": [
      "Detectron v2 is not installed\n"
     ]
    }
   ],
   "source": [
    "from extend import extend_image, load_model"
   ]
  },
  {
   "cell_type": "code",
   "execution_count": 39,
   "id": "2fe842e0",
   "metadata": {},
   "outputs": [],
   "source": [
    "%matplotlib inline"
   ]
  },
  {
   "cell_type": "code",
   "execution_count": 40,
   "id": "2c600a66",
   "metadata": {},
   "outputs": [],
   "source": [
    "def leave_biggest_component (mask):\n",
    "    \"\"\"\n",
    "    mask: np.array, binary mask\n",
    "    return: np.array, binary mask of the biggest connected component of the mask\n",
    "    \"\"\"\n",
    "    mask = mask.astype('uint8')\n",
    "    nb_components, output, stats, centroids = cv2.connectedComponentsWithStats(mask, connectivity=4)\n",
    "    sizes = stats[:, -1]\n",
    "\n",
    "    max_label = 1\n",
    "    max_size = sizes[1]\n",
    "    for i in range(2, nb_components):\n",
    "        if sizes[i] > max_size:\n",
    "            max_label = i\n",
    "            max_size = sizes[i]\n",
    "\n",
    "    img2 = np.zeros(output.shape)\n",
    "    img2[output == max_label] = 255\n",
    "    return img2"
   ]
  },
  {
   "cell_type": "code",
   "execution_count": 41,
   "id": "f3924617",
   "metadata": {},
   "outputs": [],
   "source": [
    "def compute_gap_mask(anchor, transformed, structure_elem = np.ones((25,25))):\n",
    "    \"\"\"\n",
    "    Computes mask of the gap between the anchor and the transformed fragment\n",
    "    \n",
    "    anchor: Fragment\n",
    "    transformed: Fragment\n",
    "\n",
    "    return: mask of the gap, np.array[bool]\n",
    "    \"\"\"\n",
    "    two_mask = np.logical_or(anchor.mask, transformed.mask)[:,:,None]\n",
    "    wide_intersection = np.logical_and(anchor.extended_mask, transformed.extended_mask)[:,:,None]\n",
    "    merged = cv2.morphologyEx(two_mask * 1.0, cv2.MORPH_CLOSE, structure_elem, iterations=1)\n",
    "    gap = np.logical_and(\n",
    "        merged[:,:,None],\n",
    "        np.logical_not(two_mask)\n",
    "    )\n",
    "    gap = leave_biggest_component(gap)\n",
    "    return gap\n",
    "    "
   ]
  },
  {
   "cell_type": "code",
   "execution_count": 59,
   "id": "2665dc6b",
   "metadata": {},
   "outputs": [],
   "source": [
    "l, r = 0, 1\n",
    "align_i = 1"
   ]
  },
  {
   "cell_type": "code",
   "execution_count": 60,
   "id": "0f004cdb",
   "metadata": {},
   "outputs": [],
   "source": [
    "tr = refined_alignment[(l, r)][align_i]\n",
    "transformed = shift_fragment(rotate_fragment(pad_fragment_to_size(frags[l], 200), tr.angle), tr.x, tr.y)\n",
    "gap = compute_gap_mask(frags[r], transformed)\n",
    "blended = blend_fragments(frags[r], transformed)"
   ]
  },
  {
   "cell_type": "code",
   "execution_count": 61,
   "id": "170f3048",
   "metadata": {},
   "outputs": [
    {
     "data": {
      "text/plain": [
       "<matplotlib.image.AxesImage at 0x7f6abc50e3e0>"
      ]
     },
     "execution_count": 61,
     "metadata": {},
     "output_type": "execute_result"
    },
    {
     "data": {
      "image/png": "[encoded data removed]",
      "text/plain": [
       "<Figure size 1400x700 with 2 Axes>"
      ]
     },
     "metadata": {},
     "output_type": "display_data"
    }
   ],
   "source": [
    "fig, axes = plt.subplots(nrows=1, ncols=2, figsize=(14, 7))\n",
    "axes[0].imshow(blended.fragment)\n",
    "axes[1].imshow(gap)"
   ]
  },
  {
   "cell_type": "code",
   "execution_count": 62,
   "id": "dcdf9802",
   "metadata": {},
   "outputs": [],
   "source": [
    "model = load_model()"
   ]
  },
  {
   "cell_type": "code",
   "execution_count": 63,
   "id": "335472c6",
   "metadata": {},
   "outputs": [],
   "source": [
    "def inpaint_gap(two_frags, gap_mask, model):\n",
    "    \"\"\"\n",
    "    two_frags: np.array, image with two fragments\n",
    "    gap_mask: np.array, binary mask of the gap\n",
    "    model: inpainting model\n",
    "\n",
    "    return: np.array, inpainted image\n",
    "    \"\"\"\n",
    "    gap_mask = cv2.dilate(gap_mask * 1.0, np.ones((5,5), np.uint8))\n",
    "    return extend_image(two_frags, gap_mask[:,:,None].astype(bool), model)"
   ]
  },
  {
   "cell_type": "code",
   "execution_count": 64,
   "id": "fd506e80",
   "metadata": {},
   "outputs": [],
   "source": [
    "inpainted = inpaint_gap(blended.fragment * 255, gap, model)"
   ]
  },
  {
   "cell_type": "code",
   "execution_count": 65,
   "id": "718462b4",
   "metadata": {},
   "outputs": [
    {
     "data": {
      "text/plain": [
       "<matplotlib.image.AxesImage at 0x7f6abc135300>"
      ]
     },
     "execution_count": 65,
     "metadata": {},
     "output_type": "execute_result"
    },
    {
     "data": {
      "image/png": "[encoded data removed]",
      "text/plain": [
       "<Figure size 640x480 with 1 Axes>"
      ]
     },
     "metadata": {},
     "output_type": "display_data"
    }
   ],
   "source": [
    "plt.imshow(inpainted)"
   ]
  }
 ],
 "metadata": {
  "kernelspec": {
   "display_name": "Python 3 (ipykernel)",
   "language": "python",
   "name": "python3"
  },
  "language_info": {
   "codemirror_mode": {
    "name": "ipython",
    "version": 3
   },
   "file_extension": ".py",
   "mimetype": "text/x-python",
   "name": "python",
   "nbconvert_exporter": "python",
   "pygments_lexer": "ipython3",
   "version": "3.10.6"
  }
 },
 "nbformat": 4,
 "nbformat_minor": 5
}
