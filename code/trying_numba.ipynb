{
 "cells": [
  {
   "cell_type": "code",
   "execution_count": 1,
   "id": "f76a1172",
   "metadata": {},
   "outputs": [],
   "source": [
    "import numpy as np\n",
    "import numba as nb\n",
    "import matplotlib.pyplot as plt\n",
    "import time\n",
    "import random\n",
    "import cv2\n",
    "\n",
    "from numba import njit, jit\n",
    "from numba.typed import List\n",
    "from numba.experimental import jitclass\n",
    "\n",
    "from utils import build_fragment_from_directory"
   ]
  },
  {
   "cell_type": "code",
   "execution_count": 7,
   "id": "b5e5acca",
   "metadata": {},
   "outputs": [],
   "source": [
    "@njit\n",
    "def monte_carlo_pi(nsamples):\n",
    "    acc = 0\n",
    "    for i in range(nsamples):\n",
    "        x = np.random.random()\n",
    "        y = np.random.random()\n",
    "        if (x ** 2 + y ** 2) < 1.0:\n",
    "            acc += 1\n",
    "    return 4.0 * acc / nsamples"
   ]
  },
  {
   "cell_type": "code",
   "execution_count": 8,
   "id": "a55268c6",
   "metadata": {},
   "outputs": [
    {
     "name": "stdout",
     "output_type": "stream",
     "text": [
      "3.143228\n",
      "Time: 0.22236919403076172\n"
     ]
    }
   ],
   "source": [
    "start = time.time()\n",
    "pi = monte_carlo_pi(1000000)\n",
    "end = time.time()\n",
    "print(pi)\n",
    "print(f\"Time: {end - start}\")  "
   ]
  },
  {
   "cell_type": "code",
   "execution_count": 9,
   "id": "354cbd9d",
   "metadata": {},
   "outputs": [],
   "source": [
    "def monte_carlo_pi_slow(nsamples):\n",
    "    acc = 0\n",
    "    for i in range(nsamples):\n",
    "        x = np.random.random()\n",
    "        y = np.random.random()\n",
    "        if (x ** 2 + y ** 2) < 1.0:\n",
    "            acc += 1\n",
    "    return 4.0 * acc / nsamples"
   ]
  },
  {
   "cell_type": "code",
   "execution_count": 10,
   "id": "d42de036",
   "metadata": {},
   "outputs": [
    {
     "name": "stdout",
     "output_type": "stream",
     "text": [
      "3.139584\n",
      "Time: 1.7662861347198486\n"
     ]
    }
   ],
   "source": [
    "start = time.time()\n",
    "pi = monte_carlo_pi_slow(1000000)\n",
    "end = time.time()\n",
    "print(pi)\n",
    "print(f\"Time: {end - start}\")"
   ]
  },
  {
   "cell_type": "code",
   "execution_count": 11,
   "id": "2425e672",
   "metadata": {},
   "outputs": [],
   "source": [
    "spec = [\n",
    "    ('fragment', nb.float64[:,:,:]),\n",
    "    ('extended_frag', nb.float64[:, :, :]),\n",
    "    ('mask', nb.float64[:, :]),\n",
    "    ('extended_mask', nb.float64[:, :]),\n",
    "    ('edge_coords', nb.float64[:, :]),\n",
    "    ('edge_colors', nb.float64[:, :]),\n",
    "]\n",
    "\n",
    "@jitclass(spec)\n",
    "class FragmentJitted:    \n",
    "    def __init__(\n",
    "        self,\n",
    "        fragment,\n",
    "        extended_frag,\n",
    "        mask,\n",
    "        extended_mask,\n",
    "        edge_coords = None,\n",
    "        edge_colors = None\n",
    "    ):\n",
    "        self.fragment = fragment\n",
    "        self.extended_frag = extended_frag\n",
    "        self.mask = mask\n",
    "        self.extended_mask = extended_mask\n",
    "        self.edge_coords = edge_coords\n",
    "        self.edge_colors = edge_colors"
   ]
  },
  {
   "cell_type": "code",
   "execution_count": 29,
   "id": "840fba51",
   "metadata": {},
   "outputs": [],
   "source": [
    "data_dir = '../../dataset'\n",
    "frag = build_fragment_from_directory(data_dir + '/9')\n",
    "frag2 = build_fragment_from_directory(data_dir + '/11')"
   ]
  },
  {
   "cell_type": "code",
   "execution_count": 13,
   "id": "5f8d3b19",
   "metadata": {},
   "outputs": [
    {
     "data": {
      "text/plain": [
       "(482, 448)"
      ]
     },
     "execution_count": 13,
     "metadata": {},
     "output_type": "execute_result"
    }
   ],
   "source": [
    "# plt.imshow(frag.fragment)\n",
    "frag.mask.shape"
   ]
  },
  {
   "cell_type": "code",
   "execution_count": 14,
   "id": "293da40e",
   "metadata": {},
   "outputs": [],
   "source": [
    "# jitted_frag = FragmentJitted(frag.fragment.astype('f8'))\n",
    "# jitted_frag = FragmentJitted(0.0)"
   ]
  },
  {
   "cell_type": "code",
   "execution_count": 15,
   "id": "d1c95304",
   "metadata": {},
   "outputs": [],
   "source": [
    "jitted_frag = FragmentJitted(\n",
    "    frag.fragment.astype('f8'), \n",
    "    frag.extended_frag.astype('f8'),\n",
    "    frag.mask.astype('f8'),\n",
    "    frag.extended_mask.astype('f8'), \n",
    "    frag.edge_coords.astype('f8'), \n",
    "    frag.edge_colors.astype('f8')\n",
    ")"
   ]
  },
  {
   "cell_type": "code",
   "execution_count": 16,
   "id": "9f2b167e",
   "metadata": {},
   "outputs": [],
   "source": [
    "# @jit\n",
    "# def rotate_fragment(frag, angle, c=None):\n",
    "#     \"\"\"\n",
    "#     fast rotate\n",
    "#     TODO: add edge_coords rotation\n",
    "#     \"\"\"\n",
    "#     # TODO: rotate edge_coords\n",
    "#     h, w = frag.fragment.shape[:2]\n",
    "#     if c is None:\n",
    "#         c = (w // 2, h // 2)\n",
    "#     m = cv2.getRotationMatrix2D(center=c, angle=angle, scale=1.0)\n",
    "#     fr = FragmentJitted(\n",
    "#         cv2.warpAffine(frag.fragment, M=m, dsize=(w, h)).astype('f8'),\n",
    "#         cv2.warpAffine(frag.extended_frag, M=m, dsize=(w, h)).astype('f8'),\n",
    "#         (cv2.warpAffine(frag.mask * 255.0, M=m, dsize=(w, h)) == 255).astype('f8'),\n",
    "#         (cv2.warpAffine(frag.extended_mask * 255.0, M=m, dsize=(w, h)) == 255).astype('f8'),\n",
    "#         frag.edge_coords,\n",
    "#         frag.edge_colors\n",
    "#     )\n",
    "#     if fr.fragment.max() > 1:\n",
    "#         fr.fragment = fr.fragment / 255.0\n",
    "#     if fr.extended_frag.max() > 1:\n",
    "#         fr.extended_frag = fr.extended_frag / 255.0\n",
    "#     return fr"
   ]
  },
  {
   "cell_type": "code",
   "execution_count": 23,
   "id": "af291d4b",
   "metadata": {},
   "outputs": [],
   "source": [
    "from skimage.transform import rotate\n",
    "\n",
    "@njit\n",
    "def rotate_fragment(frag, angle):\n",
    "    # TODO: rotate edge_coords\n",
    "    return FragmentJitted(\n",
    "        skimage.transform.rotate(frag.fragment, angle),\n",
    "        skimage.transform.rotate(frag.extended_frag, angle),\n",
    "        skimage.transform.rotate(frag.mask, angle),\n",
    "        skimage.transform.rotate(frag.extended_mask, angle),\n",
    "        frag.edge_coords,\n",
    "        frag.edge_colors\n",
    "    )\n"
   ]
  },
  {
   "cell_type": "code",
   "execution_count": 24,
   "id": "c402f9b5",
   "metadata": {},
   "outputs": [
    {
     "ename": "TypingError",
     "evalue": "Failed in nopython mode pipeline (step: nopython frontend)\nNameError: name 'skimage' is not defined",
     "output_type": "error",
     "traceback": [
      "\u001b[0;31m---------------------------------------------------------------------------\u001b[0m",
      "\u001b[0;31mTypingError\u001b[0m                               Traceback (most recent call last)",
      "Cell \u001b[0;32mIn[24], line 1\u001b[0m\n\u001b[0;32m----> 1\u001b[0m rotated_frag \u001b[38;5;241m=\u001b[39m \u001b[43mrotate_fragment\u001b[49m\u001b[43m(\u001b[49m\u001b[43mjitted_frag\u001b[49m\u001b[43m,\u001b[49m\u001b[43m \u001b[49m\u001b[38;5;241;43m90\u001b[39;49m\u001b[43m)\u001b[49m\n",
      "File \u001b[0;32m/mnt/c/Users/dev/lamaenv/lib/python3.10/site-packages/numba/core/dispatcher.py:468\u001b[0m, in \u001b[0;36m_DispatcherBase._compile_for_args\u001b[0;34m(self, *args, **kws)\u001b[0m\n\u001b[1;32m    464\u001b[0m         msg \u001b[38;5;241m=\u001b[39m (\u001b[38;5;124mf\u001b[39m\u001b[38;5;124m\"\u001b[39m\u001b[38;5;132;01m{\u001b[39;00m\u001b[38;5;28mstr\u001b[39m(e)\u001b[38;5;241m.\u001b[39mrstrip()\u001b[38;5;132;01m}\u001b[39;00m\u001b[38;5;124m \u001b[39m\u001b[38;5;130;01m\\n\u001b[39;00m\u001b[38;5;130;01m\\n\u001b[39;00m\u001b[38;5;124mThis error may have been caused \u001b[39m\u001b[38;5;124m\"\u001b[39m\n\u001b[1;32m    465\u001b[0m                \u001b[38;5;124mf\u001b[39m\u001b[38;5;124m\"\u001b[39m\u001b[38;5;124mby the following argument(s):\u001b[39m\u001b[38;5;130;01m\\n\u001b[39;00m\u001b[38;5;132;01m{\u001b[39;00margs_str\u001b[38;5;132;01m}\u001b[39;00m\u001b[38;5;130;01m\\n\u001b[39;00m\u001b[38;5;124m\"\u001b[39m)\n\u001b[1;32m    466\u001b[0m         e\u001b[38;5;241m.\u001b[39mpatch_message(msg)\n\u001b[0;32m--> 468\u001b[0m     \u001b[43merror_rewrite\u001b[49m\u001b[43m(\u001b[49m\u001b[43me\u001b[49m\u001b[43m,\u001b[49m\u001b[43m \u001b[49m\u001b[38;5;124;43m'\u001b[39;49m\u001b[38;5;124;43mtyping\u001b[39;49m\u001b[38;5;124;43m'\u001b[39;49m\u001b[43m)\u001b[49m\n\u001b[1;32m    469\u001b[0m \u001b[38;5;28;01mexcept\u001b[39;00m errors\u001b[38;5;241m.\u001b[39mUnsupportedError \u001b[38;5;28;01mas\u001b[39;00m e:\n\u001b[1;32m    470\u001b[0m     \u001b[38;5;66;03m# Something unsupported is present in the user code, add help info\u001b[39;00m\n\u001b[1;32m    471\u001b[0m     error_rewrite(e, \u001b[38;5;124m'\u001b[39m\u001b[38;5;124munsupported_error\u001b[39m\u001b[38;5;124m'\u001b[39m)\n",
      "File \u001b[0;32m/mnt/c/Users/dev/lamaenv/lib/python3.10/site-packages/numba/core/dispatcher.py:409\u001b[0m, in \u001b[0;36m_DispatcherBase._compile_for_args.<locals>.error_rewrite\u001b[0;34m(e, issue_type)\u001b[0m\n\u001b[1;32m    407\u001b[0m     \u001b[38;5;28;01mraise\u001b[39;00m e\n\u001b[1;32m    408\u001b[0m \u001b[38;5;28;01melse\u001b[39;00m:\n\u001b[0;32m--> 409\u001b[0m     \u001b[38;5;28;01mraise\u001b[39;00m e\u001b[38;5;241m.\u001b[39mwith_traceback(\u001b[38;5;28;01mNone\u001b[39;00m)\n",
      "\u001b[0;31mTypingError\u001b[0m: Failed in nopython mode pipeline (step: nopython frontend)\nNameError: name 'skimage' is not defined"
     ]
    }
   ],
   "source": [
    "rotated_frag = rotate_fragment(jitted_frag, 90)"
   ]
  },
  {
   "cell_type": "code",
   "execution_count": 81,
   "id": "5067e955",
   "metadata": {},
   "outputs": [
    {
     "data": {
      "text/plain": [
       "<matplotlib.image.AxesImage at 0x7fe0d80f0c70>"
      ]
     },
     "execution_count": 81,
     "metadata": {},
     "output_type": "execute_result"
    },
    {
     "data": {
      "image/png": "[encoded data removed]",
      "text/plain": [
       "<Figure size 640x480 with 1 Axes>"
      ]
     },
     "metadata": {},
     "output_type": "display_data"
    }
   ],
   "source": [
    "plt.imshow(rotated_frag.mask)"
   ]
  },
  {
   "cell_type": "code",
   "execution_count": 31,
   "id": "ecb80558",
   "metadata": {},
   "outputs": [],
   "source": [
    "from skimage import draw\n",
    "from scipy.ndimage import center_of_mass"
   ]
  },
  {
   "cell_type": "code",
   "execution_count": 32,
   "id": "fa78432a",
   "metadata": {},
   "outputs": [],
   "source": [
    "def check_if_two_fragments_are_too_far(frag1, frag2):\n",
    "    \"\"\"\n",
    "    return True if two frags are too far from each other\n",
    "    \"\"\"\n",
    "    center1 = center_of_mass(frag1.mask)\n",
    "    center2 = center_of_mass(frag2.mask)\n",
    "    start = (int(center1[0]), int(center1[1]))\n",
    "    end = (int(center2[0]), int(center2[1]))\n",
    "    line = draw.line(*start, *end)\n",
    "    points = zip(line[0], line[1])\n",
    "    belong_to_any_frag = [frag1.mask[p[0], p[1]] or frag2.mask[p[0], p[1]] for p in points]\n",
    "    bad_points_number = len(belong_to_any_frag) - sum(belong_to_any_frag)\n",
    "    return bad_points_number > 30"
   ]
  },
  {
   "cell_type": "code",
   "execution_count": 33,
   "id": "148625cc",
   "metadata": {},
   "outputs": [],
   "source": [
    "def fast_check_if_two_fragments_are_too_far(frag1, frag2):\n",
    "    \"\"\"\n",
    "    return True if two frags are too far from each other\n",
    "    \"\"\"\n",
    "    center1, center2 = center_of_mass(frag1.mask), center_of_mass(frag2.mask)\n",
    "    start, end = (int(center1[0]), int(center1[1])), (int(center2[0]), int(center2[1]))\n",
    "    line = draw.line(*start, *end)\n",
    "    points = zip(line[0], line[1])\n",
    "    belong_to_any_frag = [frag1.mask[p[0], p[1]] or frag2.mask[p[0], p[1]] for p in points]\n",
    "    bad_points_number = len(belong_to_any_frag) - sum(belong_to_any_frag)\n",
    "    return bad_points_number > 30"
   ]
  },
  {
   "cell_type": "code",
   "execution_count": 34,
   "id": "89d7799c",
   "metadata": {},
   "outputs": [
    {
     "name": "stdout",
     "output_type": "stream",
     "text": [
      "Time: 0.002284480333328247\n"
     ]
    }
   ],
   "source": [
    "start = time.time()\n",
    "for i in range(1000):\n",
    "    check_if_two_fragments_are_too_far(frag, frag2)\n",
    "end = time.time()\n",
    "print(f\"Time: {(end - start) / 1000.0}\")"
   ]
  },
  {
   "cell_type": "code",
   "execution_count": 35,
   "id": "d39e1c94",
   "metadata": {},
   "outputs": [
    {
     "name": "stdout",
     "output_type": "stream",
     "text": [
      "Time: 0.0022790591716766355\n"
     ]
    }
   ],
   "source": [
    "start = time.time()\n",
    "for i in range(1000):\n",
    "    fast_check_if_two_fragments_are_too_far(frag, frag2)\n",
    "end = time.time()\n",
    "print(f\"Time: {(end - start) / 1000.0}\")"
   ]
  },
  {
   "cell_type": "code",
   "execution_count": null,
   "id": "8a9a901f",
   "metadata": {},
   "outputs": [],
   "source": []
  }
 ],
 "metadata": {
  "kernelspec": {
   "display_name": "Python 3 (ipykernel)",
   "language": "python",
   "name": "python3"
  },
  "language_info": {
   "codemirror_mode": {
    "name": "ipython",
    "version": 3
   },
   "file_extension": ".py",
   "mimetype": "text/x-python",
   "name": "python",
   "nbconvert_exporter": "python",
   "pygments_lexer": "ipython3",
   "version": "3.10.6"
  }
 },
 "nbformat": 4,
 "nbformat_minor": 5
}
